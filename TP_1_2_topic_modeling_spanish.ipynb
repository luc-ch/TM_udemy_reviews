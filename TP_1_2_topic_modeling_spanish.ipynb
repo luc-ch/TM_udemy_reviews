{
 "cells": [
  {
   "cell_type": "markdown",
   "metadata": {
    "colab_type": "text",
    "id": "view-in-github"
   },
   "source": [
    "<a href=\"https://colab.research.google.com/github/ArmandDS/topic_modeling/blob/master/topic_modeling_spanish.ipynb\" target=\"_parent\"><img src=\"https://colab.research.google.com/assets/colab-badge.svg\" alt=\"Open In Colab\"/></a>"
   ]
  },
  {
   "cell_type": "markdown",
   "metadata": {
    "colab_type": "text",
    "id": "zbQv8f_tjWq4"
   },
   "source": [
    "In this article we will implementing topics model with gensim, topic models are \n",
    "probabilistic models which contains information about topics in the\n",
    "text. A topic is like theme, or in other words underlying ideas represented in text. \n",
    "For example, we are working with a corpus of **spanish newspaper articles**,\n",
    "possible topics would be  politics, conflicts, elections and so on."
   ]
  },
  {
   "cell_type": "markdown",
   "metadata": {
    "colab_type": "text",
    "id": "V0UBlkyp_gme"
   },
   "source": [
    "#### Load the libraries"
   ]
  },
  {
   "cell_type": "code",
   "execution_count": 40,
   "metadata": {
    "colab": {},
    "colab_type": "code",
    "id": "ui5Uo0hn_eGm"
   },
   "outputs": [
    {
     "ename": "ModuleNotFoundError",
     "evalue": "No module named 'gensim.models.wrappers'",
     "output_type": "error",
     "traceback": [
      "\u001b[1;31m---------------------------------------------------------------------------\u001b[0m",
      "\u001b[1;31mModuleNotFoundError\u001b[0m                       Traceback (most recent call last)",
      "\u001b[1;32m<ipython-input-40-21a218afa697>\u001b[0m in \u001b[0;36m<module>\u001b[1;34m\u001b[0m\n\u001b[0;32m     12\u001b[0m \u001b[1;32mfrom\u001b[0m \u001b[0mgensim\u001b[0m\u001b[1;33m.\u001b[0m\u001b[0mmodels\u001b[0m \u001b[1;32mimport\u001b[0m \u001b[0mCoherenceModel\u001b[0m\u001b[1;33m,\u001b[0m \u001b[0mLdaModel\u001b[0m\u001b[1;33m,\u001b[0m \u001b[0mLsiModel\u001b[0m\u001b[1;33m,\u001b[0m \u001b[0mHdpModel\u001b[0m\u001b[1;33m\u001b[0m\u001b[1;33m\u001b[0m\u001b[0m\n\u001b[0;32m     13\u001b[0m \u001b[1;31m#from gensim.models.wrappers import LdaMallet\u001b[0m\u001b[1;33m\u001b[0m\u001b[1;33m\u001b[0m\u001b[1;33m\u001b[0m\u001b[0m\n\u001b[1;32m---> 14\u001b[1;33m \u001b[1;32mfrom\u001b[0m \u001b[0mgensim\u001b[0m\u001b[1;33m.\u001b[0m\u001b[0mmodels\u001b[0m\u001b[1;33m.\u001b[0m\u001b[0mwrappers\u001b[0m \u001b[1;32mimport\u001b[0m \u001b[0mLdaMallet\u001b[0m\u001b[1;33m\u001b[0m\u001b[1;33m\u001b[0m\u001b[0m\n\u001b[0m\u001b[0;32m     15\u001b[0m \u001b[1;32mfrom\u001b[0m \u001b[0mgensim\u001b[0m\u001b[1;33m.\u001b[0m\u001b[0mcorpora\u001b[0m \u001b[1;32mimport\u001b[0m \u001b[0mDictionary\u001b[0m\u001b[1;33m\u001b[0m\u001b[1;33m\u001b[0m\u001b[0m\n",
      "\u001b[1;31mModuleNotFoundError\u001b[0m: No module named 'gensim.models.wrappers'"
     ]
    }
   ],
   "source": [
    "import pandas as pd\n",
    "import numpy as np\n",
    "import re\n",
    "import nltk\n",
    "from nltk.stem import WordNetLemmatizer\n",
    "from nltk import word_tokenize\n",
    "from nltk.corpus import stopwords\n",
    "import string\n",
    "import matplotlib.pyplot as plt\n",
    "import gensim\n",
    "import numpy as np\n",
    "from gensim.models import CoherenceModel, LdaModel, LsiModel, HdpModel\n",
    "#from gensim.models.wrappers import LdaMallet\n",
    "from gensim.corpora import Dictionary\n",
    "from gensim.models.wrappers import LdaMallet\n"
   ]
  },
  {
   "cell_type": "code",
   "execution_count": 108,
   "metadata": {},
   "outputs": [],
   "source": [
    "pd.set_option('display.max_columns', None)\n",
    "pd.set_option('display.expand_frame_repr', False)\n",
    "pd.set_option('max_colwidth', None)"
   ]
  },
  {
   "cell_type": "markdown",
   "metadata": {
    "colab_type": "text",
    "id": "SBS3r7AFAEtg"
   },
   "source": [
    "### Connect to drive to get the data"
   ]
  },
  {
   "cell_type": "code",
   "execution_count": 2,
   "metadata": {
    "colab": {
     "base_uri": "https://localhost:8080/",
     "height": 162
    },
    "colab_type": "code",
    "id": "550zxhdVCl6y",
    "outputId": "8e6c130a-bccd-47e4-c00d-d8c22ff325ce"
   },
   "outputs": [
    {
     "data": {
      "text/html": [
       "<div>\n",
       "<style scoped>\n",
       "    .dataframe tbody tr th:only-of-type {\n",
       "        vertical-align: middle;\n",
       "    }\n",
       "\n",
       "    .dataframe tbody tr th {\n",
       "        vertical-align: top;\n",
       "    }\n",
       "\n",
       "    .dataframe thead th {\n",
       "        text-align: right;\n",
       "    }\n",
       "</style>\n",
       "<table border=\"1\" class=\"dataframe\">\n",
       "  <thead>\n",
       "    <tr style=\"text-align: right;\">\n",
       "      <th></th>\n",
       "      <th>id</th>\n",
       "      <th>course</th>\n",
       "      <th>rating</th>\n",
       "      <th>comment</th>\n",
       "      <th>user</th>\n",
       "      <th>tag</th>\n",
       "    </tr>\n",
       "  </thead>\n",
       "  <tbody>\n",
       "    <tr>\n",
       "      <th>31070</th>\n",
       "      <td>75541084</td>\n",
       "      <td>1444542</td>\n",
       "      <td>5.0</td>\n",
       "      <td>el curso va excelente</td>\n",
       "      <td>Crystian Luiyi Garcia Huallpa</td>\n",
       "      <td>pos</td>\n",
       "    </tr>\n",
       "    <tr>\n",
       "      <th>50331</th>\n",
       "      <td>80809044</td>\n",
       "      <td>1583448</td>\n",
       "      <td>1.5</td>\n",
       "      <td>Poco profesional, el impartidor no sabe hablar...</td>\n",
       "      <td>Mauricio Alvarez Rodriguez</td>\n",
       "      <td>neg</td>\n",
       "    </tr>\n",
       "    <tr>\n",
       "      <th>18926</th>\n",
       "      <td>88845624</td>\n",
       "      <td>2696806</td>\n",
       "      <td>5.0</td>\n",
       "      <td>Muy buenas y didácticas las explicaciones hast...</td>\n",
       "      <td>Hernan Daniel Briceño</td>\n",
       "      <td>pos</td>\n",
       "    </tr>\n",
       "    <tr>\n",
       "      <th>23750</th>\n",
       "      <td>41980642</td>\n",
       "      <td>426982</td>\n",
       "      <td>5.0</td>\n",
       "      <td>Totalmente.</td>\n",
       "      <td>William Edward Rojas Godoy</td>\n",
       "      <td>pos</td>\n",
       "    </tr>\n",
       "    <tr>\n",
       "      <th>6104</th>\n",
       "      <td>33530666</td>\n",
       "      <td>1982518</td>\n",
       "      <td>4.0</td>\n",
       "      <td>Fue una buena elección por el lado de las prác...</td>\n",
       "      <td>Yenún Gisel González O</td>\n",
       "      <td>neg</td>\n",
       "    </tr>\n",
       "    <tr>\n",
       "      <th>67991</th>\n",
       "      <td>73207054</td>\n",
       "      <td>2191124</td>\n",
       "      <td>5.0</td>\n",
       "      <td>Es un curso excelente, explicaciones claras y ...</td>\n",
       "      <td>Antonio Balver</td>\n",
       "      <td>pos</td>\n",
       "    </tr>\n",
       "    <tr>\n",
       "      <th>72820</th>\n",
       "      <td>51921548</td>\n",
       "      <td>498976</td>\n",
       "      <td>4.0</td>\n",
       "      <td>me gustaria el instalador para win 10</td>\n",
       "      <td>Fernando Yanez</td>\n",
       "      <td>neg</td>\n",
       "    </tr>\n",
       "    <tr>\n",
       "      <th>41585</th>\n",
       "      <td>66460458</td>\n",
       "      <td>1714514</td>\n",
       "      <td>5.0</td>\n",
       "      <td>El curso apesar de ser gratis está muy complet...</td>\n",
       "      <td>Paulo Mateos</td>\n",
       "      <td>pos</td>\n",
       "    </tr>\n",
       "    <tr>\n",
       "      <th>37410</th>\n",
       "      <td>63493368</td>\n",
       "      <td>3072640</td>\n",
       "      <td>5.0</td>\n",
       "      <td>El curso enseña Entity Framework Core a detall...</td>\n",
       "      <td>Alonso Navarro</td>\n",
       "      <td>pos</td>\n",
       "    </tr>\n",
       "    <tr>\n",
       "      <th>9521</th>\n",
       "      <td>58347389</td>\n",
       "      <td>1187434</td>\n",
       "      <td>5.0</td>\n",
       "      <td>He aprendido mucho y se entiende muy bien, exc...</td>\n",
       "      <td>Danny Gaitan Gomez</td>\n",
       "      <td>pos</td>\n",
       "    </tr>\n",
       "  </tbody>\n",
       "</table>\n",
       "</div>"
      ],
      "text/plain": [
       "             id   course  rating  \\\n",
       "31070  75541084  1444542     5.0   \n",
       "50331  80809044  1583448     1.5   \n",
       "18926  88845624  2696806     5.0   \n",
       "23750  41980642   426982     5.0   \n",
       "6104   33530666  1982518     4.0   \n",
       "67991  73207054  2191124     5.0   \n",
       "72820  51921548   498976     4.0   \n",
       "41585  66460458  1714514     5.0   \n",
       "37410  63493368  3072640     5.0   \n",
       "9521   58347389  1187434     5.0   \n",
       "\n",
       "                                                 comment  \\\n",
       "31070                              el curso va excelente   \n",
       "50331  Poco profesional, el impartidor no sabe hablar...   \n",
       "18926  Muy buenas y didácticas las explicaciones hast...   \n",
       "23750                                        Totalmente.   \n",
       "6104   Fue una buena elección por el lado de las prác...   \n",
       "67991  Es un curso excelente, explicaciones claras y ...   \n",
       "72820              me gustaria el instalador para win 10   \n",
       "41585  El curso apesar de ser gratis está muy complet...   \n",
       "37410  El curso enseña Entity Framework Core a detall...   \n",
       "9521   He aprendido mucho y se entiende muy bien, exc...   \n",
       "\n",
       "                                user  tag  \n",
       "31070  Crystian Luiyi Garcia Huallpa  pos  \n",
       "50331     Mauricio Alvarez Rodriguez  neg  \n",
       "18926          Hernan Daniel Briceño  pos  \n",
       "23750     William Edward Rojas Godoy  pos  \n",
       "6104          Yenún Gisel González O  neg  \n",
       "67991                 Antonio Balver  pos  \n",
       "72820                 Fernando Yanez  neg  \n",
       "41585                   Paulo Mateos  pos  \n",
       "37410                 Alonso Navarro  pos  \n",
       "9521              Danny Gaitan Gomez  pos  "
      ]
     },
     "execution_count": 2,
     "metadata": {},
     "output_type": "execute_result"
    }
   ],
   "source": [
    "import pandas as pd\n",
    "df_news = pd.read_pickle(\"udemy_reviews.pkl\")\n",
    "df_news['tag']=df_news['rating'].apply(lambda x: 'pos' if x > 4 else 'neg')\n",
    "df_news.sample(10)"
   ]
  },
  {
   "cell_type": "code",
   "execution_count": 3,
   "metadata": {
    "colab": {
     "base_uri": "https://localhost:8080/",
     "height": 187
    },
    "colab_type": "code",
    "id": "bflY9AU1Vbh5",
    "outputId": "e02e8a64-4434-4162-f679-59f8b2592513"
   },
   "outputs": [
    {
     "name": "stdout",
     "output_type": "stream",
     "text": [
      "<class 'pandas.core.frame.DataFrame'>\n",
      "Int64Index: 174141 entries, 6545 to 80394\n",
      "Data columns (total 6 columns):\n",
      " #   Column   Non-Null Count   Dtype  \n",
      "---  ------   --------------   -----  \n",
      " 0   id       174141 non-null  int64  \n",
      " 1   course   174141 non-null  int64  \n",
      " 2   rating   174141 non-null  float64\n",
      " 3   comment  174141 non-null  object \n",
      " 4   user     174141 non-null  object \n",
      " 5   tag      174141 non-null  object \n",
      "dtypes: float64(1), int64(2), object(3)\n",
      "memory usage: 9.3+ MB\n"
     ]
    }
   ],
   "source": [
    "df_news.info()"
   ]
  },
  {
   "cell_type": "markdown",
   "metadata": {
    "colab_type": "text",
    "id": "F6qwR5CAahLp"
   },
   "source": [
    "#Data Preprocessing"
   ]
  },
  {
   "cell_type": "markdown",
   "metadata": {
    "colab_type": "text",
    "id": "wbCEhthGasEn"
   },
   "source": [
    "We defined a list of custom words to be exclude from our dataset"
   ]
  },
  {
   "cell_type": "code",
   "execution_count": 4,
   "metadata": {
    "colab": {},
    "colab_type": "code",
    "id": "ZeVWKQH4kylR"
   },
   "outputs": [],
   "source": [
    "black_list = ['más', 'mas', 'unir', 'paises', 'pais', 'espa', 'no', 'os', 'a', 'compa', 'acompa', 'off', 'and', 'grecia', 'the','it', 'to',\n",
    "              'd',  'et',  'dame',  'il',  'dans', 'that',  'as',   'for',  'it',  'elections',  'would',  'this',  'with', 'york', 'obama', 'chavez', 'gadafi']"
   ]
  },
  {
   "cell_type": "markdown",
   "metadata": {
    "colab_type": "text",
    "id": "h8EP2Md3FcQr"
   },
   "source": [
    "Create the cleaner function to clean the spanish text, remove non alpha numeric characters, remove duplicate, remove spanish accutes, remove digits"
   ]
  },
  {
   "cell_type": "code",
   "execution_count": 5,
   "metadata": {
    "colab": {},
    "colab_type": "code",
    "id": "H_7Un4fSFbdC"
   },
   "outputs": [],
   "source": [
    "def cleaner(word):\n",
    "    word = re.sub(r'((http|https)\\:\\/\\/)?[a-zA-Z0-9\\.\\/\\?\\:@\\-_=#]+\\.([a-zA-Z]){2,6}([a-zA-Z0-9\\.\\&\\/\\?\\:@\\-_=#])*', '', word, flags=re.MULTILINE)\n",
    "    word = re.sub(r'(?::|;|=)(?:-)?(?:\\)|\\(|D|P)', \"\", word)\n",
    "    word = re.sub(r'ee.uu', 'eeuu', word)\n",
    "    word = re.sub(r'\\#\\.', '', word)\n",
    "    word = re.sub(r'\\n', '', word)\n",
    "    word = re.sub(r',', '', word)\n",
    "    word = re.sub(r'\\-', ' ', word)\n",
    "    word = re.sub(r'\\.{3}', ' ', word)\n",
    "    word = re.sub(r'a{2,}', 'a', word)\n",
    "    word = re.sub(r'é{2,}', 'é', word)\n",
    "    word = re.sub(r'i{2,}', 'i', word)\n",
    "    word = re.sub(r'ja{2,}', 'ja', word) \n",
    "    word = re.sub(r'á', 'a', word)\n",
    "    word = re.sub(r'é', 'e', word)\n",
    "    word = re.sub(r'í', 'i', word)\n",
    "    word = re.sub(r'ó', 'o', word)\n",
    "    word = re.sub(r'ú', 'u', word)  \n",
    "    word = re.sub('[^a-zA-Z]', ' ', word)\n",
    "    list_word_clean = []\n",
    "    for w1 in word.split(\" \"):\n",
    "        if  w1.lower() not in stopwords:\n",
    "            list_word_clean.append(w1.lower())\n",
    "\n",
    "    bigram_list = bigram[list_word_clean]\n",
    "    out_text = lemmatization(\" \".join(bigram_list))\n",
    "    return out_text"
   ]
  },
  {
   "cell_type": "markdown",
   "metadata": {
    "colab_type": "text",
    "id": "vmgAfhN6bWrR"
   },
   "source": [
    "Create the function for select **only nouns** for our data, this way we are removing adverb, adjetives, verbs, etc. This is doing with spacy"
   ]
  },
  {
   "cell_type": "code",
   "execution_count": 6,
   "metadata": {
    "colab": {},
    "colab_type": "code",
    "id": "RJPNgE-_xlTA"
   },
   "outputs": [],
   "source": [
    "def lemmatization(texts, allowed_postags=['NOUN']):\n",
    "    texts_out = [ token.text for token in nlp(texts) if token.pos_ in \n",
    "                 allowed_postags and token.text not in black_list and len(token.text)>2]\n",
    "    return texts_out"
   ]
  },
  {
   "cell_type": "markdown",
   "metadata": {
    "colab_type": "text",
    "id": "3wMjzGX9bscx"
   },
   "source": [
    "For gensim we need a list of text, so we need do convert the dataframe to list"
   ]
  },
  {
   "cell_type": "code",
   "execution_count": 10,
   "metadata": {
    "colab": {
     "base_uri": "https://localhost:8080/",
     "height": 34
    },
    "colab_type": "code",
    "id": "IZhWiKxY4Gx2",
    "outputId": "0de89bb9-dc2e-470e-d996-40992ae55e5c"
   },
   "outputs": [
    {
     "data": {
      "text/plain": [
       "174141"
      ]
     },
     "execution_count": 10,
     "metadata": {},
     "output_type": "execute_result"
    }
   ],
   "source": [
    "len(df_news['comment'].to_list())"
   ]
  },
  {
   "cell_type": "markdown",
   "metadata": {
    "colab_type": "text",
    "id": "sttvo4cjb3Xw"
   },
   "source": [
    "Then we look for bigram in our data, i.e pair of words that together have more meanful for our model"
   ]
  },
  {
   "cell_type": "code",
   "execution_count": 13,
   "metadata": {
    "colab": {
     "base_uri": "https://localhost:8080/",
     "height": 51
    },
    "colab_type": "code",
    "id": "mPvcc00U4Cf1",
    "outputId": "dd9573fc-c873-4dde-c384-429868c4bd75"
   },
   "outputs": [
    {
     "name": "stdout",
     "output_type": "stream",
     "text": [
      "Wall time: 18.8 s\n"
     ]
    }
   ],
   "source": [
    "%%time\n",
    "bigram = gensim.models.Phrases(df_news['comment'].to_list()) "
   ]
  },
  {
   "cell_type": "markdown",
   "metadata": {
    "colab_type": "text",
    "id": "WtXW9eY2cW0S"
   },
   "source": [
    "Let's examine some output"
   ]
  },
  {
   "cell_type": "code",
   "execution_count": 14,
   "metadata": {
    "colab": {
     "base_uri": "https://localhost:8080/",
     "height": 1000
    },
    "colab_type": "code",
    "id": "mz_o4wsC45S4",
    "outputId": "a963fc8a-63db-4a83-f27a-2db511b7f689"
   },
   "outputs": [
    {
     "data": {
      "text/plain": [
       "['Excelente',\n",
       " 'curso,',\n",
       " 'muy',\n",
       " 'conciso,',\n",
       " 'videos',\n",
       " 'cortos',\n",
       " 'y',\n",
       " 'llevaderos.']"
      ]
     },
     "execution_count": 14,
     "metadata": {},
     "output_type": "execute_result"
    }
   ],
   "source": [
    "bigram[df_news['comment'].to_list()[20000].split()]"
   ]
  },
  {
   "cell_type": "code",
   "execution_count": 15,
   "metadata": {
    "colab": {
     "base_uri": "https://localhost:8080/",
     "height": 102
    },
    "colab_type": "code",
    "id": "kJzcwy4ORHD1",
    "outputId": "689b6dc6-ab0a-490d-8700-ac5f1096cb0c"
   },
   "outputs": [
    {
     "name": "stderr",
     "output_type": "stream",
     "text": [
      "[nltk_data] Downloading package stopwords to\n",
      "[nltk_data]     C:\\Users\\Faolin\\AppData\\Roaming\\nltk_data...\n",
      "[nltk_data]   Package stopwords is already up-to-date!\n",
      "[nltk_data] Downloading package punkt to\n",
      "[nltk_data]     C:\\Users\\Faolin\\AppData\\Roaming\\nltk_data...\n",
      "[nltk_data]   Package punkt is already up-to-date!\n"
     ]
    },
    {
     "data": {
      "text/plain": [
       "True"
      ]
     },
     "execution_count": 15,
     "metadata": {},
     "output_type": "execute_result"
    }
   ],
   "source": [
    "import nltk\n",
    "nltk.download('stopwords')\n",
    "nltk.download('punkt')\n"
   ]
  },
  {
   "cell_type": "code",
   "execution_count": 16,
   "metadata": {
    "colab": {},
    "colab_type": "code",
    "id": "pLssTi3sRbnI"
   },
   "outputs": [],
   "source": [
    "from nltk import word_tokenize\n",
    "from nltk.corpus import stopwords\n",
    "stop = set(stopwords.words('spanish'))\n",
    "\n",
    "additional_stopwords=set(black_list)\n",
    "\n",
    "stopwords = stop.union(additional_stopwords)"
   ]
  },
  {
   "cell_type": "markdown",
   "metadata": {
    "colab_type": "text",
    "id": "_myg8aFowQ-Y"
   },
   "source": [
    "We are using Spacy For lemmatize spanish words"
   ]
  },
  {
   "cell_type": "code",
   "execution_count": 18,
   "metadata": {
    "colab": {
     "base_uri": "https://localhost:8080/",
     "height": 241
    },
    "colab_type": "code",
    "id": "HciZjXBfwbXM",
    "outputId": "15c4c7c2-a97e-4c33-9922-7922d5410abe"
   },
   "outputs": [
    {
     "name": "stdout",
     "output_type": "stream",
     "text": [
      "Collecting es-core-news-md==3.1.0\n",
      "  Using cached https://github.com/explosion/spacy-models/releases/download/es_core_news_md-3.1.0/es_core_news_md-3.1.0-py3-none-any.whl (42.7 MB)\n",
      "Requirement already satisfied: spacy<3.2.0,>=3.1.0 in c:\\users\\faolin\\anaconda3\\lib\\site-packages (from es-core-news-md==3.1.0) (3.1.2)\n",
      "Requirement already satisfied: pathy>=0.3.5 in c:\\users\\faolin\\anaconda3\\lib\\site-packages (from spacy<3.2.0,>=3.1.0->es-core-news-md==3.1.0) (0.6.0)\n",
      "Requirement already satisfied: numpy>=1.15.0 in c:\\users\\faolin\\anaconda3\\lib\\site-packages (from spacy<3.2.0,>=3.1.0->es-core-news-md==3.1.0) (1.19.2)\n",
      "Requirement already satisfied: requests<3.0.0,>=2.13.0 in c:\\users\\faolin\\anaconda3\\lib\\site-packages (from spacy<3.2.0,>=3.1.0->es-core-news-md==3.1.0) (2.26.0)\n",
      "Requirement already satisfied: blis<0.8.0,>=0.4.0 in c:\\users\\faolin\\anaconda3\\lib\\site-packages (from spacy<3.2.0,>=3.1.0->es-core-news-md==3.1.0) (0.7.4)\n",
      "Requirement already satisfied: thinc<8.1.0,>=8.0.8 in c:\\users\\faolin\\anaconda3\\lib\\site-packages (from spacy<3.2.0,>=3.1.0->es-core-news-md==3.1.0) (8.0.10)\n",
      "Requirement already satisfied: catalogue<2.1.0,>=2.0.4 in c:\\users\\faolin\\anaconda3\\lib\\site-packages (from spacy<3.2.0,>=3.1.0->es-core-news-md==3.1.0) (2.0.6)\n",
      "Requirement already satisfied: packaging>=20.0 in c:\\users\\faolin\\anaconda3\\lib\\site-packages (from spacy<3.2.0,>=3.1.0->es-core-news-md==3.1.0) (21.0)\n",
      "Requirement already satisfied: setuptools in c:\\users\\faolin\\anaconda3\\lib\\site-packages (from spacy<3.2.0,>=3.1.0->es-core-news-md==3.1.0) (52.0.0.post20210125)\n",
      "Requirement already satisfied: preshed<3.1.0,>=3.0.2 in c:\\users\\faolin\\anaconda3\\lib\\site-packages (from spacy<3.2.0,>=3.1.0->es-core-news-md==3.1.0) (3.0.5)\n",
      "Requirement already satisfied: srsly<3.0.0,>=2.4.1 in c:\\users\\faolin\\anaconda3\\lib\\site-packages (from spacy<3.2.0,>=3.1.0->es-core-news-md==3.1.0) (2.4.1)\n",
      "Requirement already satisfied: typer<0.4.0,>=0.3.0 in c:\\users\\faolin\\anaconda3\\lib\\site-packages (from spacy<3.2.0,>=3.1.0->es-core-news-md==3.1.0) (0.3.2)\n",
      "Requirement already satisfied: murmurhash<1.1.0,>=0.28.0 in c:\\users\\faolin\\anaconda3\\lib\\site-packages (from spacy<3.2.0,>=3.1.0->es-core-news-md==3.1.0) (1.0.5)\n",
      "Requirement already satisfied: tqdm<5.0.0,>=4.38.0 in c:\\users\\faolin\\anaconda3\\lib\\site-packages (from spacy<3.2.0,>=3.1.0->es-core-news-md==3.1.0) (4.62.2)\n",
      "Requirement already satisfied: cymem<2.1.0,>=2.0.2 in c:\\users\\faolin\\anaconda3\\lib\\site-packages (from spacy<3.2.0,>=3.1.0->es-core-news-md==3.1.0) (2.0.5)\n",
      "Requirement already satisfied: spacy-legacy<3.1.0,>=3.0.7 in c:\\users\\faolin\\anaconda3\\lib\\site-packages (from spacy<3.2.0,>=3.1.0->es-core-news-md==3.1.0) (3.0.8)\n",
      "Requirement already satisfied: jinja2 in c:\\users\\faolin\\anaconda3\\lib\\site-packages (from spacy<3.2.0,>=3.1.0->es-core-news-md==3.1.0) (2.11.3)\n",
      "Requirement already satisfied: pydantic!=1.8,!=1.8.1,<1.9.0,>=1.7.4 in c:\\users\\faolin\\anaconda3\\lib\\site-packages (from spacy<3.2.0,>=3.1.0->es-core-news-md==3.1.0) (1.8.2)\n",
      "Requirement already satisfied: wasabi<1.1.0,>=0.8.1 in c:\\users\\faolin\\anaconda3\\lib\\site-packages (from spacy<3.2.0,>=3.1.0->es-core-news-md==3.1.0) (0.8.2)\n",
      "Requirement already satisfied: pyparsing>=2.0.2 in c:\\users\\faolin\\anaconda3\\lib\\site-packages (from packaging>=20.0->spacy<3.2.0,>=3.1.0->es-core-news-md==3.1.0) (2.4.7)\n",
      "Requirement already satisfied: smart-open<6.0.0,>=5.0.0 in c:\\users\\faolin\\anaconda3\\lib\\site-packages (from pathy>=0.3.5->spacy<3.2.0,>=3.1.0->es-core-news-md==3.1.0) (5.2.1)\n",
      "Requirement already satisfied: typing-extensions>=3.7.4.3 in c:\\users\\faolin\\anaconda3\\lib\\site-packages (from pydantic!=1.8,!=1.8.1,<1.9.0,>=1.7.4->spacy<3.2.0,>=3.1.0->es-core-news-md==3.1.0) (3.10.0.0)\n",
      "Requirement already satisfied: charset-normalizer~=2.0.0 in c:\\users\\faolin\\anaconda3\\lib\\site-packages (from requests<3.0.0,>=2.13.0->spacy<3.2.0,>=3.1.0->es-core-news-md==3.1.0) (2.0.4)\n",
      "Requirement already satisfied: idna<4,>=2.5 in c:\\users\\faolin\\anaconda3\\lib\\site-packages (from requests<3.0.0,>=2.13.0->spacy<3.2.0,>=3.1.0->es-core-news-md==3.1.0) (2.10)\n",
      "Requirement already satisfied: certifi>=2017.4.17 in c:\\users\\faolin\\anaconda3\\lib\\site-packages (from requests<3.0.0,>=2.13.0->spacy<3.2.0,>=3.1.0->es-core-news-md==3.1.0) (2021.5.30)\n",
      "Requirement already satisfied: urllib3<1.27,>=1.21.1 in c:\\users\\faolin\\anaconda3\\lib\\site-packages (from requests<3.0.0,>=2.13.0->spacy<3.2.0,>=3.1.0->es-core-news-md==3.1.0) (1.26.6)\n",
      "Requirement already satisfied: colorama in c:\\users\\faolin\\anaconda3\\lib\\site-packages (from tqdm<5.0.0,>=4.38.0->spacy<3.2.0,>=3.1.0->es-core-news-md==3.1.0) (0.4.4)\n",
      "Requirement already satisfied: click<7.2.0,>=7.1.1 in c:\\users\\faolin\\anaconda3\\lib\\site-packages (from typer<0.4.0,>=0.3.0->spacy<3.2.0,>=3.1.0->es-core-news-md==3.1.0) (7.1.2)\n",
      "Requirement already satisfied: MarkupSafe>=0.23 in c:\\users\\faolin\\anaconda3\\lib\\site-packages (from jinja2->spacy<3.2.0,>=3.1.0->es-core-news-md==3.1.0) (2.0.1)\n",
      "[+] Download and installation successful\n",
      "You can now load the package via spacy.load('es_core_news_md')\n"
     ]
    }
   ],
   "source": [
    "!python -m spacy download es_core_news_md"
   ]
  },
  {
   "cell_type": "code",
   "execution_count": 25,
   "metadata": {
    "colab": {},
    "colab_type": "code",
    "id": "U_VvsxoSwjo3"
   },
   "outputs": [],
   "source": [
    "import spacy\n",
    "nlp = spacy.load('es_core_news_md')"
   ]
  },
  {
   "cell_type": "markdown",
   "metadata": {
    "colab_type": "text",
    "id": "846CnLGadRmo"
   },
   "source": [
    "Now let's test the cleaner function:"
   ]
  },
  {
   "cell_type": "code",
   "execution_count": 26,
   "metadata": {
    "colab": {
     "base_uri": "https://localhost:8080/",
     "height": 54
    },
    "colab_type": "code",
    "id": "yDBAXRQuOnOG",
    "outputId": "a034c4d9-a10d-4db3-a60c-8435eeaa8935"
   },
   "outputs": [
    {
     "data": {
      "text/plain": [
       "'FUE UNA BUENA ELECCION, BRINDA HERRAMIENTAS APLICABLES'"
      ]
     },
     "execution_count": 26,
     "metadata": {},
     "output_type": "execute_result"
    }
   ],
   "source": [
    "df_news['comment'][100]"
   ]
  },
  {
   "cell_type": "code",
   "execution_count": 27,
   "metadata": {
    "colab": {
     "base_uri": "https://localhost:8080/",
     "height": 1000
    },
    "colab_type": "code",
    "id": "2vyiSwQjPCox",
    "outputId": "6577c4eb-29d3-46f8-c5a2-15fbc10576d4"
   },
   "outputs": [
    {
     "data": {
      "text/plain": [
       "['eleccion', 'herramientas']"
      ]
     },
     "execution_count": 27,
     "metadata": {},
     "output_type": "execute_result"
    }
   ],
   "source": [
    "cleaner(df_news['comment'][100])\n"
   ]
  },
  {
   "cell_type": "markdown",
   "metadata": {
    "colab_type": "text",
    "id": "3FqIi24ISgK2"
   },
   "source": [
    "The Cleaner function work properly"
   ]
  },
  {
   "cell_type": "markdown",
   "metadata": {
    "colab_type": "text",
    "id": "yjMX0qS4SmUR"
   },
   "source": [
    "##### Let's clean all the text"
   ]
  },
  {
   "cell_type": "code",
   "execution_count": 29,
   "metadata": {
    "colab": {},
    "colab_type": "code",
    "id": "TBDM5Caomutj"
   },
   "outputs": [],
   "source": [
    "df_news['text2'] = df_news['comment']"
   ]
  },
  {
   "cell_type": "code",
   "execution_count": 31,
   "metadata": {
    "colab": {
     "base_uri": "https://localhost:8080/",
     "height": 85
    },
    "colab_type": "code",
    "id": "t2NvS8p5Lfof",
    "outputId": "8415a6a0-dc0c-4197-b19c-75c6820d1ad1"
   },
   "outputs": [
    {
     "data": {
      "application/vnd.jupyter.widget-view+json": {
       "model_id": "31b89ad4ef064d56b782aa5c4170dd07",
       "version_major": 2,
       "version_minor": 0
      },
      "text/plain": [
       "  0%|          | 0/174141 [00:00<?, ?it/s]"
      ]
     },
     "metadata": {},
     "output_type": "display_data"
    }
   ],
   "source": [
    "from tqdm.notebook import tqdm\n",
    "tqdm.pandas()\n",
    "\n",
    "df_news['comment_cleaned'] = df_news['comment'].progress_apply(cleaner)"
   ]
  },
  {
   "cell_type": "markdown",
   "metadata": {
    "colab_type": "text",
    "id": "7egM0YZzRS9r"
   },
   "source": [
    "Now we need to build the *corpus* and the *dictionary* that gensim need to work, to do that we need to pass a list of list of tokens"
   ]
  },
  {
   "cell_type": "code",
   "execution_count": 33,
   "metadata": {},
   "outputs": [
    {
     "data": {
      "text/plain": [
       "6545                                         [rpa, fotos]\n",
       "6546                                      [conocimientos]\n",
       "6547                                                   []\n",
       "6548                                                   []\n",
       "6733                                                   []\n",
       "6734                                            [mayoria]\n",
       "6735                                              [circo]\n",
       "6736                                          [contenido]\n",
       "6737    [curso, curso, placer, capitulo, curso, placer...\n",
       "6738                  [calidad, cursos, archivos, sonido]\n",
       "Name: comment_cleaned, dtype: object"
      ]
     },
     "execution_count": 33,
     "metadata": {},
     "output_type": "execute_result"
    }
   ],
   "source": [
    "df_news['comment_cleaned'] = df_news['comment']\n",
    "df_news['comment_cleaned'][:10]"
   ]
  },
  {
   "cell_type": "code",
   "execution_count": 41,
   "metadata": {
    "colab": {},
    "colab_type": "code",
    "id": "DZmxTdsYTV35"
   },
   "outputs": [],
   "source": [
    "dictionary = Dictionary(df_news['comment_cleaned'].to_list())\n",
    "dictionary.compactify()\n",
    "# Filter extremes\n",
    "dictionary.filter_extremes(no_below=2, no_above=0.97, keep_n=None)\n",
    "dictionary.compactify()\n",
    "\n",
    "corpus = [dictionary.doc2bow(text) for text in df_news['comment_cleaned'].to_list()]"
   ]
  },
  {
   "cell_type": "markdown",
   "metadata": {
    "colab_type": "text",
    "id": "NgV46EUdSu0n"
   },
   "source": [
    "# Now let's do the modeling part"
   ]
  },
  {
   "cell_type": "markdown",
   "metadata": {
    "colab_type": "text",
    "id": "GWsxgxE8-YWC"
   },
   "source": [
    "We are comparing 3 topic modeling algorithm Latent Dirichlet Allocation (LDA), Latent\n",
    "semantic analysis (LSA), Hierarchical Dirichlet Process\n",
    "(HDP),in order to evaluate topic models we will be using **topic coherence**, which is a measure of how\n",
    "interpretable topics are for human beings."
   ]
  },
  {
   "cell_type": "markdown",
   "metadata": {
    "colab_type": "text",
    "id": "YwiwW86Man80"
   },
   "source": [
    " ## Hierarchical Dirichlet process Model"
   ]
  },
  {
   "cell_type": "code",
   "execution_count": 44,
   "metadata": {
    "colab": {},
    "colab_type": "code",
    "id": "opxvCwJcbIs9"
   },
   "outputs": [],
   "source": [
    "hdpmodel = HdpModel(corpus=corpus, id2word=dictionary, random_state= 30)"
   ]
  },
  {
   "cell_type": "markdown",
   "metadata": {
    "colab_type": "text",
    "id": "KON8iJfmS-f7"
   },
   "source": [
    "and the topics of this model:"
   ]
  },
  {
   "cell_type": "code",
   "execution_count": 46,
   "metadata": {
    "colab": {},
    "colab_type": "code",
    "id": "ewKUhhpgjo8g"
   },
   "outputs": [],
   "source": [
    "def display_topics(model, model_type=\"lda\"):\n",
    "    for topic_idx, topic in enumerate(model.print_topics()):\n",
    "        print (\"Topic %d:\" % (topic_idx))\n",
    "        if model_type== \"hdp\":\n",
    "            print (\" \".join(re.findall( r'\\*(.[^\\*-S]+).?', topic[1])), \"\\n\")\n",
    "        else:\n",
    "            print (\" \".join(re.findall( r'\\\"(.[^\"]+).?', topic[1])), \"\\n\")\n"
   ]
  },
  {
   "cell_type": "code",
   "execution_count": 47,
   "metadata": {
    "colab": {
     "base_uri": "https://localhost:8080/",
     "height": 1000
    },
    "colab_type": "code",
    "id": "-1pogQLHbSl9",
    "outputId": "94002da5-32a7-4c25-b5ac-29b23b8e5959"
   },
   "outputs": [
    {
     "name": "stdout",
     "output_type": "stream",
     "text": [
      "Topic 0:\n",
      "curso  gracias  cosas  tema  instructor  temas  conceptos  contenido  ejemplos  manera \n",
      "\n",
      "Topic 1:\n",
      "curso  gracias  eleccion  cursos  ejemplos  conceptos  momento  tema  profesor  cosas \n",
      "\n",
      "Topic 2:\n",
      "curso  gracias  eleccion  cosas  explicacion  ejemplos  contenido  momento  instructor  temas \n",
      "\n",
      "Topic 3:\n",
      "curso  eleccion  gracias  explicacion  momento  conceptos  tema  cosas  contenido  temas \n",
      "\n",
      "Topic 4:\n",
      "curso  gracias  eleccion  explicacion  contenido  momento  conceptos  cosas  explicaciones  ejemplos \n",
      "\n",
      "Topic 5:\n",
      "curso  gracias  eleccion  momento  explicacion  contenido  instructor  cosas  conceptos  tema \n",
      "\n",
      "Topic 6:\n",
      "curso  gracias  eleccion  cosas  explicacion  momento  contenido  tema  conceptos  cursos \n",
      "\n",
      "Topic 7:\n",
      "curso  gracias  eleccion  cosas  momento  explicacion  temas  tema  conceptos  instructor \n",
      "\n",
      "Topic 8:\n",
      "curso  gracias  eleccion  explicacion  cosas  conceptos  momento  temas  contenido  tema \n",
      "\n",
      "Topic 9:\n",
      "curso  gracias  eleccion  momento  cosas  explicacion  explicaciones  conceptos  ejemplos  contenido \n",
      "\n",
      "Topic 10:\n",
      "curso  gracias  eleccion  explicacion  momento  contenido  ejemplos  tema  conceptos  instructor \n",
      "\n",
      "Topic 11:\n",
      "curso  gracias  eleccion  conceptos  explicacion  momento  cosas  tema  explicaciones  contenido \n",
      "\n",
      "Topic 12:\n",
      "curso  eleccion  gracias  explicacion  momento  cosas  conceptos  tema  contenido  ejemplos \n",
      "\n",
      "Topic 13:\n",
      "curso  gracias  explicacion  eleccion  cosas  momento  tema  forma  conceptos  manera \n",
      "\n",
      "Topic 14:\n",
      "curso  gracias  eleccion  explicacion  momento  contenido  cosas  tema  conceptos  cursos \n",
      "\n",
      "Topic 15:\n",
      "curso  gracias  eleccion  forma  tema  explicacion  explicaciones  conceptos  momento  cosas \n",
      "\n",
      "Topic 16:\n",
      "curso  gracias  eleccion  momento  conceptos  explicacion  cosas  tema  contenido  ejemplos \n",
      "\n",
      "Topic 17:\n",
      "curso  gracias  eleccion  explicacion  momento  tema  contenido  conceptos  cosas  instructor \n",
      "\n",
      "Topic 18:\n",
      "curso  gracias  eleccion  tema  explicacion  momento  contenido  cosas  ejemplos  instructor \n",
      "\n",
      "Topic 19:\n",
      "curso  gracias  eleccion  explicacion  cosas  momento  explicaciones  conceptos  ejemplos  contenido \n",
      "\n"
     ]
    }
   ],
   "source": [
    "# hdpmodel.show_topics() \n",
    "\n",
    "display_topics(hdpmodel, model_type=\"hdp\")"
   ]
  },
  {
   "cell_type": "markdown",
   "metadata": {
    "colab_type": "text",
    "id": "jd3LspvVUEXj"
   },
   "source": [
    "as we could see there are 20 topics, however is kind of dificult to interpret or follow, so we decide to move to another model.\n",
    "\n",
    "\n",
    "\n"
   ]
  },
  {
   "cell_type": "code",
   "execution_count": 51,
   "metadata": {
    "colab": {},
    "colab_type": "code",
    "id": "4J2IIPqHVTzZ"
   },
   "outputs": [],
   "source": [
    "def evaluate_graph(dictionary, corpus, texts, limit, model):\n",
    "    \"\"\"\n",
    "    Function to display num_topics - LDA graph using c_v coherence\n",
    "    \n",
    "    Parameters:\n",
    "    ----------\n",
    "    dictionary : Gensim dictionary\n",
    "    corpus : Gensim corpus\n",
    "    limit : topic limit\n",
    "    \n",
    "    Returns:\n",
    "    -------\n",
    "    lm_list : List of LDA topic models\n",
    "    c_v : Coherence values corresponding to the LDA model with respective number of topics\n",
    "    \"\"\"\n",
    "    c_v = []\n",
    "    lm_list = []\n",
    "    for num_topics in range(1, limit):\n",
    "        if model == 'lsi':\n",
    "            lm = LsiModel(corpus=corpus, num_topics=num_topics, id2word=dictionary)\n",
    "        else:\n",
    "            lm = LdaModel(corpus=corpus, num_topics=num_topics, id2word=dictionary)\n",
    "        lm_list.append(lm)\n",
    "        cm = CoherenceModel(model=lm, texts=texts, dictionary=dictionary, coherence='c_v')\n",
    "        c_v.append(cm.get_coherence())\n",
    "        \n",
    "    # Show graph\n",
    "    x = range(1, limit)\n",
    "    plt.plot(x, c_v)\n",
    "    plt.xlabel(\"num_topics\")\n",
    "    plt.ylabel(\"Coherence score\")\n",
    "    plt.legend((\"c_v\"), loc='best')\n",
    "    plt.show()\n",
    "    \n",
    "    return lm_list, c_v"
   ]
  },
  {
   "cell_type": "markdown",
   "metadata": {
    "colab_type": "text",
    "id": "hse2o99bZ8wi"
   },
   "source": [
    "##LSI MODEL"
   ]
  },
  {
   "cell_type": "code",
   "execution_count": null,
   "metadata": {
    "colab": {},
    "colab_type": "code",
    "id": "HFQCfc9VcmT7"
   },
   "outputs": [],
   "source": [
    "lsimodel = LsiModel(corpus=corpus, num_topics=10, id2word=dictionary)"
   ]
  },
  {
   "cell_type": "code",
   "execution_count": 50,
   "metadata": {
    "colab": {
     "base_uri": "https://localhost:8080/",
     "height": 527
    },
    "colab_type": "code",
    "id": "yfrJmKuLaUrg",
    "outputId": "b7add73d-8ca9-41fb-b93f-eb4de56773dc"
   },
   "outputs": [
    {
     "ename": "NameError",
     "evalue": "name 'lsimodel' is not defined",
     "output_type": "error",
     "traceback": [
      "\u001b[1;31m---------------------------------------------------------------------------\u001b[0m",
      "\u001b[1;31mNameError\u001b[0m                                 Traceback (most recent call last)",
      "\u001b[1;32m<ipython-input-50-a56edc8197e1>\u001b[0m in \u001b[0;36m<module>\u001b[1;34m\u001b[0m\n\u001b[1;32m----> 1\u001b[1;33m \u001b[0mdisplay_topics\u001b[0m\u001b[1;33m(\u001b[0m\u001b[0mlsimodel\u001b[0m\u001b[1;33m)\u001b[0m  \u001b[1;31m# Showing the topics\u001b[0m\u001b[1;33m\u001b[0m\u001b[1;33m\u001b[0m\u001b[0m\n\u001b[0m",
      "\u001b[1;31mNameError\u001b[0m: name 'lsimodel' is not defined"
     ]
    }
   ],
   "source": [
    "display_topics(lsimodel)  # Showing the topics"
   ]
  },
  {
   "cell_type": "markdown",
   "metadata": {
    "colab_type": "text",
    "id": "t-Bt22W-r1ZO"
   },
   "source": [
    "It seen that with 10 topics there is some themes with keywords related to: trump, venezuela, police, electiones, terrorism; still is a little difficult to gt some insight, because of this we are trying to select the best number of topics by iterate over a range of values and looking the coherence "
   ]
  },
  {
   "cell_type": "code",
   "execution_count": 52,
   "metadata": {
    "colab": {
     "base_uri": "https://localhost:8080/",
     "height": 318
    },
    "colab_type": "code",
    "id": "dtXS4IfIVYIJ",
    "outputId": "916f153b-dc7d-4484-8a62-b9be3a788328"
   },
   "outputs": [
    {
     "data": {
      "image/png": "[encoded data removed]",
      "text/plain": [
       "<Figure size 640x480 with 1 Axes>"
      ]
     },
     "metadata": {},
     "output_type": "display_data"
    },
    {
     "name": "stdout",
     "output_type": "stream",
     "text": [
      "Wall time: 8min 40s\n"
     ]
    }
   ],
   "source": [
    "%%time\n",
    "lmlist_lsi, c_v = evaluate_graph(dictionary=dictionary, corpus=corpus, texts=df_news['comment_cleaned'].to_list(), limit=21, model= \"lsi\")"
   ]
  },
  {
   "cell_type": "markdown",
   "metadata": {
    "colab_type": "text",
    "id": "kmzyPFWiw63V"
   },
   "source": [
    "According to the coherence the best number of topics are between 3-7, however you must select the topics using both the coherence and visual inspection.\n"
   ]
  },
  {
   "cell_type": "code",
   "execution_count": 56,
   "metadata": {
    "colab": {
     "base_uri": "https://localhost:8080/",
     "height": 170
    },
    "colab_type": "code",
    "id": "TczLrG1ZRL4_",
    "outputId": "97713743-960a-4570-b917-63cd2437b058"
   },
   "outputs": [
    {
     "name": "stdout",
     "output_type": "stream",
     "text": [
      "Topic 0:\n",
      "presidente gobierno personas ministro seguridad atentados parte venezuela trump policia \n",
      "\n",
      "Topic 1:\n",
      "presidente atentados venezuela trump policia personas gobierno juan paris ataques \n",
      "\n",
      "Topic 2:\n",
      "trump venezuela gobierno juan nicolas casa clinton votos noviembre elecciones \n",
      "\n"
     ]
    }
   ],
   "source": [
    "display_topics(lmlist_lsi[2])"
   ]
  },
  {
   "cell_type": "markdown",
   "metadata": {
    "colab_type": "text",
    "id": "v6ty9sFNyRyG"
   },
   "source": [
    "Now, Let's try another model"
   ]
  },
  {
   "cell_type": "markdown",
   "metadata": {
    "colab_type": "text",
    "id": "earp2d28dz3a"
   },
   "source": [
    "## Latent Dirichlet Allocation Model"
   ]
  },
  {
   "cell_type": "code",
   "execution_count": 53,
   "metadata": {
    "colab": {},
    "colab_type": "code",
    "id": "wiI55UzIdnUN"
   },
   "outputs": [],
   "source": [
    "ldamodel = LdaModel(corpus=corpus, num_topics=10, id2word=dictionary)"
   ]
  },
  {
   "cell_type": "code",
   "execution_count": 54,
   "metadata": {
    "colab": {
     "base_uri": "https://localhost:8080/",
     "height": 527
    },
    "colab_type": "code",
    "id": "fjAbhPAMd7_B",
    "outputId": "6128b18b-dcda-4960-8e98-ab2fa440b5de"
   },
   "outputs": [
    {
     "name": "stdout",
     "output_type": "stream",
     "text": [
      "Topic 0:\n",
      "explicacion cursos programa persona claridad formacion practicas publicidad ritmo ambiente \n",
      "\n",
      "Topic 1:\n",
      "curso dudas idea personas basura confianza verdad funciones sistema estrellas \n",
      "\n",
      "Topic 2:\n",
      "curso conocimiento mundo profesor desarrollo detalle web pena felicitaciones preguntas \n",
      "\n",
      "Topic 3:\n",
      "eleccion contenido experiencia bases calidad ideas proyectos grano conciencia guia \n",
      "\n",
      "Topic 4:\n",
      "gracias curso manera programacion vida ejercicios expectativas nivel lenguaje negocio \n",
      "\n",
      "Topic 5:\n",
      "conceptos temas instructor ejemplos ayuda tema clases dise teoria leccion \n",
      "\n",
      "Topic 6:\n",
      "gusto momento paso tiempo herramientas verdad clase ademas puntos juego \n",
      "\n",
      "Topic 7:\n",
      "tema curso forma videos super proyecto uso aprendizaje base pasos \n",
      "\n",
      "Topic 8:\n",
      "explicaciones introduccion consejos encanto material vez ejemplo practica audio inicio \n",
      "\n",
      "Topic 9:\n",
      "cosas informacion conocimientos parte video tips falta punto veces html \n",
      "\n"
     ]
    }
   ],
   "source": [
    "display_topics(ldamodel)"
   ]
  },
  {
   "cell_type": "markdown",
   "metadata": {
    "colab_type": "text",
    "id": "2cywaW1QsJ8N"
   },
   "source": [
    "Find out the optimal number of topics for the LDA model based on the coherence metric:"
   ]
  },
  {
   "cell_type": "code",
   "execution_count": 55,
   "metadata": {
    "colab": {
     "base_uri": "https://localhost:8080/",
     "height": 318
    },
    "colab_type": "code",
    "id": "Rd651y6mWpTF",
    "outputId": "18376c3d-d18a-465e-d115-9b2b55c02005"
   },
   "outputs": [
    {
     "data": {
      "image/png": "[encoded data removed]",
      "text/plain": [
       "<Figure size 640x480 with 1 Axes>"
      ]
     },
     "metadata": {},
     "output_type": "display_data"
    },
    {
     "name": "stdout",
     "output_type": "stream",
     "text": [
      "Wall time: 10min 22s\n"
     ]
    }
   ],
   "source": [
    "%%time\n",
    "lmlist, c_v = evaluate_graph(dictionary=dictionary, corpus=corpus, texts=df_news['comment_cleaned'].to_list(), limit=21, model= \"lda\")"
   ]
  },
  {
   "cell_type": "markdown",
   "metadata": {
    "colab_type": "text",
    "id": "P0T4UJGmyiLp"
   },
   "source": [
    "For this model it seems that  9 or 18, again we must to check the keywords too."
   ]
  },
  {
   "cell_type": "markdown",
   "metadata": {
    "colab_type": "text",
    "id": "S6S88TE0eslU"
   },
   "source": [
    "### Comparing the Model Coherence of the Best Models"
   ]
  },
  {
   "cell_type": "markdown",
   "metadata": {
    "colab_type": "text",
    "id": "6dnp010Wz6Xo"
   },
   "source": [
    "we made 3 models, now let's compare each other's  coherence"
   ]
  },
  {
   "cell_type": "code",
   "execution_count": 56,
   "metadata": {
    "colab": {},
    "colab_type": "code",
    "id": "s0bosG67ev6L"
   },
   "outputs": [],
   "source": [
    "ldamodel = lmlist[11]\n",
    "lsimodel = lmlist_lsi[2]\n",
    "\n",
    "lsitopics = [[word for word, prob in topic] for topicid, topic in lsimodel.show_topics(formatted=False)]\n",
    "\n",
    "hdptopics = [[word for word, prob in topic] for topicid, topic in hdpmodel.show_topics(formatted=False)]\n",
    "\n",
    "ldatopics = [[word for word, prob in topic] for topicid, topic in ldamodel.show_topics(formatted=False)]"
   ]
  },
  {
   "cell_type": "code",
   "execution_count": 57,
   "metadata": {
    "colab": {},
    "colab_type": "code",
    "id": "IP5GpYG1e4nT"
   },
   "outputs": [],
   "source": [
    "lsi_coherence = CoherenceModel(topics=lsitopics[:10], texts=df_news['comment_cleaned'].to_list(), dictionary=dictionary, window_size=10).get_coherence()\n",
    "\n",
    "hdp_coherence = CoherenceModel(topics=hdptopics[:10], texts=df_news['comment_cleaned'].to_list(), dictionary=dictionary, window_size=10).get_coherence()\n",
    "\n",
    "lda_coherence = CoherenceModel(topics=ldatopics, texts=df_news['comment_cleaned'].to_list(), dictionary=dictionary, window_size=10).get_coherence()"
   ]
  },
  {
   "cell_type": "code",
   "execution_count": 58,
   "metadata": {
    "colab": {
     "base_uri": "https://localhost:8080/",
     "height": 287
    },
    "colab_type": "code",
    "id": "XntcwwKufZTp",
    "outputId": "7278380a-d093-4908-a44a-0ba94a2d7aac"
   },
   "outputs": [
    {
     "name": "stderr",
     "output_type": "stream",
     "text": [
      "C:\\Users\\Faolin\\anaconda3\\lib\\site-packages\\seaborn\\_decorators.py:36: FutureWarning: Pass the following variables as keyword args: x, y. From version 0.12, the only valid positional argument will be `data`, and passing other arguments without an explicit keyword will result in an error or misinterpretation.\n",
      "  warnings.warn(\n"
     ]
    },
    {
     "data": {
      "text/plain": [
       "<AxesSubplot:>"
      ]
     },
     "execution_count": 58,
     "metadata": {},
     "output_type": "execute_result"
    }
   ],
   "source": [
    "import seaborn as sns\n",
    "\n",
    "coherences = [lsi_coherence, hdp_coherence, lda_coherence]\n",
    "n = len(coherences)\n",
    "x = ['lsi_coherence','hdp_coherence', 'lda_coherence']\n",
    "sns.barplot(x, coherences)\n"
   ]
  },
  {
   "cell_type": "markdown",
   "metadata": {
    "colab_type": "text",
    "id": "bXKu-wAoFMRY"
   },
   "source": [
    "We can see that the **LdaModel** model **with 8 topics** has the higher value of\n",
    "coherence"
   ]
  },
  {
   "cell_type": "markdown",
   "metadata": {
    "colab_type": "text",
    "id": "B5Ii_TedVNHq"
   },
   "source": [
    "Examine the keyword to get the topics of the best model"
   ]
  },
  {
   "cell_type": "code",
   "execution_count": 59,
   "metadata": {
    "colab": {
     "base_uri": "https://localhost:8080/",
     "height": 629
    },
    "colab_type": "code",
    "id": "qtOtsGxHuD8W",
    "outputId": "841b40c9-401d-4e5e-a6bc-cf6e1d7a7169"
   },
   "outputs": [
    {
     "name": "stdout",
     "output_type": "stream",
     "text": [
      "Topic 0:\n",
      "gracias curso forma verdad vida nivel tips negocio ideas felicitaciones \n",
      "\n",
      "Topic 1:\n",
      "cosas curso mundo introduccion encanto expectativas clase herramienta audio practicas \n",
      "\n",
      "Topic 2:\n",
      "manera experiencia cursos calidad punto vez problema plataforma grano publicidad \n",
      "\n",
      "Topic 3:\n",
      "conceptos contenido informacion desarrollo preguntas maestro funciones vision aspectos concepto \n",
      "\n",
      "Topic 4:\n",
      "conocimientos instructor programacion consejos herramientas clases bases base datos detalles \n",
      "\n",
      "Topic 5:\n",
      "explicacion tema conocimiento parte aprendizaje material hora instructor tipo objetivo \n",
      "\n",
      "Topic 6:\n",
      "momento videos paso super dudas dise juego partes metodologia opcion \n",
      "\n",
      "Topic 7:\n",
      "curso ejemplo lenguaje cuenta pagina inicio gente formacion errores aporte \n",
      "\n",
      "Topic 8:\n",
      "ejemplos idea video ademas ejercicios uso falta pasos detalle veces \n",
      "\n",
      "Topic 9:\n",
      "curso personas pena empresa tiempo html titulo embargo sector comienzo \n",
      "\n",
      "Topic 10:\n",
      "gusto temas ayuda proyecto programa tiempo puntos practica persona trabajo \n",
      "\n",
      "Topic 11:\n",
      "eleccion explicaciones profesor ganas manejo realidad version estudio servicio metodos \n",
      "\n"
     ]
    }
   ],
   "source": [
    "\n",
    "display_topics(ldamodel)"
   ]
  },
  {
   "cell_type": "markdown",
   "metadata": {
    "colab_type": "text",
    "id": "23tYxCUIchga"
   },
   "source": [
    "It looks like the topics are:\n",
    "* Topic 0: felicitaciones\n",
    "* Topic 1: expectativas\n",
    "* Topic 2: experiencia\n",
    "* Topic 3: contenido\n",
    "* Topic 4: instructor\n",
    "* Topic 5: material\n",
    "* Topic 6: video\n",
    "* Topic 7: lenguaje\n",
    "* Topic 8: ejercicios\n",
    "* Topic 9: titulo\n",
    "* Topic 10: temas\n",
    "* Topic 11: explicación\n"
   ]
  },
  {
   "cell_type": "code",
   "execution_count": 73,
   "metadata": {},
   "outputs": [],
   "source": [
    "label_dicc = {0:'felicitaciones', 1:'expectativas', 2:'experiencia', 3: 'contenido', 4:'instructor', 5:'material', 6:'video', \n",
    "              7:'lenguaje', 8:'ejercicios', 9: 'titulo', 10:'temas', 11:'explicación'}"
   ]
  },
  {
   "cell_type": "markdown",
   "metadata": {
    "colab_type": "text",
    "id": "v0aL-yqAFzUS"
   },
   "source": [
    "Let´s check the keyword when we selecting another number of topics (14)"
   ]
  },
  {
   "cell_type": "code",
   "execution_count": 60,
   "metadata": {
    "colab": {},
    "colab_type": "code",
    "id": "AGXxaEtVudnc"
   },
   "outputs": [],
   "source": [
    "ldamodel_16 =lmlist[16]\n"
   ]
  },
  {
   "cell_type": "code",
   "execution_count": 61,
   "metadata": {
    "colab": {
     "base_uri": "https://localhost:8080/",
     "height": 680
    },
    "colab_type": "code",
    "id": "aS3QJ5KV5z_c",
    "outputId": "1d87fea1-bfa5-476a-e472-a7e585bd8cf3"
   },
   "outputs": [
    {
     "name": "stdout",
     "output_type": "stream",
     "text": [
      "Topic 0:\n",
      "experiencia aprendizaje material pasos ganas inicio gente proyectos empresa ambiente \n",
      "\n",
      "Topic 1:\n",
      "tema informacion videos video calidad claridad aspectos vision dominio concreto \n",
      "\n",
      "Topic 2:\n",
      "eleccion explicacion gusto paso audio pesar calificacion modulo espectativas dinero \n",
      "\n",
      "Topic 3:\n",
      "tiempo ayuda ademas vida curso puntos detalle hora felicitaciones voz \n",
      "\n",
      "Topic 4:\n",
      "ejemplo proyecto expectativas falta curso herramienta veces problema publicidad estructura \n",
      "\n",
      "Topic 5:\n",
      "forma conocimiento instructor cursos curso desarrollo negocio partes proceso utilidad \n",
      "\n",
      "Topic 6:\n",
      "ejemplos clases tambien confianza errores teoria sistema estrellas nociones curso \n",
      "\n",
      "Topic 7:\n",
      "profesor super dudas uso lenguaje curso trabajo recursos manejo formacion \n",
      "\n",
      "Topic 8:\n",
      "manera programacion parte curso bases tips embargo punto cuenta pagina \n",
      "\n",
      "Topic 9:\n",
      "base datos caso metodologia terminos contenidos fin principio lecciones etiquetas \n",
      "\n",
      "Topic 10:\n",
      "cosas momento conocimientos programa persona objetivo tutor realidad resumen claves \n",
      "\n",
      "Topic 11:\n",
      "curso funciones ense tecnicas profe ventas modelo cabo programador familia \n",
      "\n",
      "Topic 12:\n",
      "idea clase practica preguntas practicas cero codigo concepto entendimiento curso \n",
      "\n",
      "Topic 13:\n",
      "curso verdad herramientas nivel web pena fondo apoyo contacto desarrollo \n",
      "\n",
      "Topic 14:\n",
      "explicaciones introduccion ejercicios ideas detalles tipo opcion duda demas atencion \n",
      "\n",
      "Topic 15:\n",
      "contenido mundo encanto curso vez dise tal opciones metodo pago \n",
      "\n",
      "Topic 16:\n",
      "gracias curso conceptos temas consejos personas panorama aporte aplicaciones rapido \n",
      "\n"
     ]
    }
   ],
   "source": [
    "display_topics(ldamodel_16)"
   ]
  },
  {
   "cell_type": "markdown",
   "metadata": {
    "colab_type": "text",
    "id": "u2clSiIF1yHy"
   },
   "source": [
    "# Classifiying all documents"
   ]
  },
  {
   "cell_type": "markdown",
   "metadata": {
    "colab_type": "text",
    "id": "_sLVX03-1_GB"
   },
   "source": [
    "now that we have been select the best model and topics number, is time to assign a topic to each document, means **cluster** according to the topics"
   ]
  },
  {
   "cell_type": "code",
   "execution_count": 64,
   "metadata": {
    "colab": {},
    "colab_type": "code",
    "id": "9fojFPHKW204"
   },
   "outputs": [
    {
     "data": {
      "application/vnd.jupyter.widget-view+json": {
       "model_id": "54b705af094f455ba9cd683487ee6ea5",
       "version_major": 2,
       "version_minor": 0
      },
      "text/plain": [
       "  0%|          | 0/174141 [00:00<?, ?it/s]"
      ]
     },
     "metadata": {},
     "output_type": "display_data"
    }
   ],
   "source": [
    "from tqdm.notebook import tqdm_notebook\n",
    "\n",
    "def format_topics_sentences(ldamodel=0, corpus=corpus, texts=0):\n",
    "    # Init output\n",
    "    sent_topics_df = pd.DataFrame()-n\n",
    "\n",
    "    # Get main topic in each document\n",
    "    for i, row in tqdm_notebook(enumerate(ldamodel[corpus]), total=len(ldamodel[corpus])):\n",
    "        row = sorted(row, key=lambda x: (x[1]), reverse=True)\n",
    "        # Get the Dominant topic, Perc Contribution and Keywords for each document\n",
    "        for j, (topic_num, prop_topic) in enumerate(row):\n",
    "            if j == 0:  # => dominant topic\n",
    "                wp = ldamodel.show_topic(topic_num)\n",
    "                topic_keywords = \", \".join([word for word, prop in wp])\n",
    "                sent_topics_df = sent_topics_df.append(pd.Series([int(topic_num), round(prop_topic,4), topic_keywords]), ignore_index=True)\n",
    "            else:\n",
    "                break\n",
    "    sent_topics_df.columns = ['Dominant_Topic', 'Perc_Contribution', 'Topic_Keywords']\n",
    "\n",
    "    # Add original text to the end of the output\n",
    "    contents = pd.Series(texts)\n",
    "    sent_topics_df = pd.concat([sent_topics_df, contents], axis=1)\n",
    "    return(sent_topics_df)\n",
    "\n",
    "\n",
    "df_topic_sents_keywords = format_topics_sentences(ldamodel, corpus=corpus, texts=df_news['comment_cleaned'].to_list())\n",
    "\n"
   ]
  },
  {
   "cell_type": "code",
   "execution_count": 76,
   "metadata": {
    "colab": {
     "base_uri": "https://localhost:8080/",
     "height": 359
    },
    "colab_type": "code",
    "id": "E8FofLvzYmTP",
    "outputId": "1f5226b4-02cf-4243-e7a1-ab89ddb707b5"
   },
   "outputs": [
    {
     "data": {
      "text/html": [
       "<div>\n",
       "<style scoped>\n",
       "    .dataframe tbody tr th:only-of-type {\n",
       "        vertical-align: middle;\n",
       "    }\n",
       "\n",
       "    .dataframe tbody tr th {\n",
       "        vertical-align: top;\n",
       "    }\n",
       "\n",
       "    .dataframe thead th {\n",
       "        text-align: right;\n",
       "    }\n",
       "</style>\n",
       "<table border=\"1\" class=\"dataframe\">\n",
       "  <thead>\n",
       "    <tr style=\"text-align: right;\">\n",
       "      <th></th>\n",
       "      <th>Document_No</th>\n",
       "      <th>Dominant_Topic</th>\n",
       "      <th>Topic_Perc_Contrib</th>\n",
       "      <th>Keywords</th>\n",
       "      <th>Text</th>\n",
       "    </tr>\n",
       "  </thead>\n",
       "  <tbody>\n",
       "    <tr>\n",
       "      <th>0</th>\n",
       "      <td>0</td>\n",
       "      <td>2.0</td>\n",
       "      <td>0.5418</td>\n",
       "      <td>manera, experiencia, cursos, calidad, punto, v...</td>\n",
       "      <td>[rpa, fotos]</td>\n",
       "    </tr>\n",
       "    <tr>\n",
       "      <th>1</th>\n",
       "      <td>1</td>\n",
       "      <td>4.0</td>\n",
       "      <td>0.5417</td>\n",
       "      <td>conocimientos, instructor, programacion, conse...</td>\n",
       "      <td>[conocimientos]</td>\n",
       "    </tr>\n",
       "    <tr>\n",
       "      <th>2</th>\n",
       "      <td>2</td>\n",
       "      <td>0.0</td>\n",
       "      <td>0.0833</td>\n",
       "      <td>gracias, curso, forma, verdad, vida, nivel, ti...</td>\n",
       "      <td>[]</td>\n",
       "    </tr>\n",
       "    <tr>\n",
       "      <th>3</th>\n",
       "      <td>3</td>\n",
       "      <td>0.0</td>\n",
       "      <td>0.0833</td>\n",
       "      <td>gracias, curso, forma, verdad, vida, nivel, ti...</td>\n",
       "      <td>[]</td>\n",
       "    </tr>\n",
       "    <tr>\n",
       "      <th>4</th>\n",
       "      <td>4</td>\n",
       "      <td>0.0</td>\n",
       "      <td>0.0833</td>\n",
       "      <td>gracias, curso, forma, verdad, vida, nivel, ti...</td>\n",
       "      <td>[]</td>\n",
       "    </tr>\n",
       "    <tr>\n",
       "      <th>5</th>\n",
       "      <td>5</td>\n",
       "      <td>9.0</td>\n",
       "      <td>0.5416</td>\n",
       "      <td>curso, personas, pena, empresa, tiempo, html, ...</td>\n",
       "      <td>[mayoria]</td>\n",
       "    </tr>\n",
       "    <tr>\n",
       "      <th>6</th>\n",
       "      <td>6</td>\n",
       "      <td>7.0</td>\n",
       "      <td>0.0833</td>\n",
       "      <td>curso, ejemplo, lenguaje, cuenta, pagina, inic...</td>\n",
       "      <td>[circo]</td>\n",
       "    </tr>\n",
       "    <tr>\n",
       "      <th>7</th>\n",
       "      <td>7</td>\n",
       "      <td>3.0</td>\n",
       "      <td>0.5417</td>\n",
       "      <td>conceptos, contenido, informacion, desarrollo,...</td>\n",
       "      <td>[contenido]</td>\n",
       "    </tr>\n",
       "    <tr>\n",
       "      <th>8</th>\n",
       "      <td>8</td>\n",
       "      <td>9.0</td>\n",
       "      <td>0.5099</td>\n",
       "      <td>curso, personas, pena, empresa, tiempo, html, ...</td>\n",
       "      <td>[curso, curso, placer, capitulo, curso, placer...</td>\n",
       "    </tr>\n",
       "    <tr>\n",
       "      <th>9</th>\n",
       "      <td>9</td>\n",
       "      <td>2.0</td>\n",
       "      <td>0.8167</td>\n",
       "      <td>manera, experiencia, cursos, calidad, punto, v...</td>\n",
       "      <td>[calidad, cursos, archivos, sonido]</td>\n",
       "    </tr>\n",
       "  </tbody>\n",
       "</table>\n",
       "</div>"
      ],
      "text/plain": [
       "   Document_No  Dominant_Topic  Topic_Perc_Contrib  \\\n",
       "0            0             2.0              0.5418   \n",
       "1            1             4.0              0.5417   \n",
       "2            2             0.0              0.0833   \n",
       "3            3             0.0              0.0833   \n",
       "4            4             0.0              0.0833   \n",
       "5            5             9.0              0.5416   \n",
       "6            6             7.0              0.0833   \n",
       "7            7             3.0              0.5417   \n",
       "8            8             9.0              0.5099   \n",
       "9            9             2.0              0.8167   \n",
       "\n",
       "                                            Keywords  \\\n",
       "0  manera, experiencia, cursos, calidad, punto, v...   \n",
       "1  conocimientos, instructor, programacion, conse...   \n",
       "2  gracias, curso, forma, verdad, vida, nivel, ti...   \n",
       "3  gracias, curso, forma, verdad, vida, nivel, ti...   \n",
       "4  gracias, curso, forma, verdad, vida, nivel, ti...   \n",
       "5  curso, personas, pena, empresa, tiempo, html, ...   \n",
       "6  curso, ejemplo, lenguaje, cuenta, pagina, inic...   \n",
       "7  conceptos, contenido, informacion, desarrollo,...   \n",
       "8  curso, personas, pena, empresa, tiempo, html, ...   \n",
       "9  manera, experiencia, cursos, calidad, punto, v...   \n",
       "\n",
       "                                                Text  \n",
       "0                                       [rpa, fotos]  \n",
       "1                                    [conocimientos]  \n",
       "2                                                 []  \n",
       "3                                                 []  \n",
       "4                                                 []  \n",
       "5                                          [mayoria]  \n",
       "6                                            [circo]  \n",
       "7                                        [contenido]  \n",
       "8  [curso, curso, placer, capitulo, curso, placer...  \n",
       "9                [calidad, cursos, archivos, sonido]  "
      ]
     },
     "execution_count": 76,
     "metadata": {},
     "output_type": "execute_result"
    }
   ],
   "source": [
    "# Format\n",
    "df_dominant_topic = df_topic_sents_keywords.reset_index()\n",
    "df_dominant_topic.columns = ['Document_No', 'Dominant_Topic', 'Topic_Perc_Contrib', 'Keywords', 'Text']\n",
    "\n",
    "# Show\n",
    "df_dominant_topic.head(10)"
   ]
  },
  {
   "cell_type": "markdown",
   "metadata": {
    "colab_type": "text",
    "id": "9vtBDBQKkzmK"
   },
   "source": [
    "We selected the ldamodel with 12 topics and asigned a dominant topic to each document, now let map each topic with a label "
   ]
  },
  {
   "cell_type": "markdown",
   "metadata": {
    "colab_type": "text",
    "id": "z8f8u5UJlQJ8"
   },
   "source": [
    "first let's create the dictionary"
   ]
  },
  {
   "cell_type": "code",
   "execution_count": 77,
   "metadata": {
    "colab": {},
    "colab_type": "code",
    "id": "I27y-Pd-lXL8"
   },
   "outputs": [],
   "source": [
    "label_dicc = {0:'felicitaciones', 1:'expectativas', 2:'experiencia', 3: 'contenido', 4:'instructor', 5:'material', 6:'video', \n",
    "              7:'lenguaje', 8:'ejercicios', 9: 'titulo', 10:'temas', 11:'explicación'}"
   ]
  },
  {
   "cell_type": "code",
   "execution_count": 78,
   "metadata": {
    "colab": {},
    "colab_type": "code",
    "id": "qUspHFcPopTz"
   },
   "outputs": [],
   "source": [
    "df_dominant_topic['Dominant_Topic'] = df_dominant_topic['Dominant_Topic'].astype('int64')\n"
   ]
  },
  {
   "cell_type": "code",
   "execution_count": 118,
   "metadata": {
    "colab": {
     "base_uri": "https://localhost:8080/",
     "height": 359
    },
    "colab_type": "code",
    "id": "o9XM5yHgnmg5",
    "outputId": "1d89e87e-a9e1-401e-edd1-63457a7f50c4"
   },
   "outputs": [
    {
     "data": {
      "text/html": [
       "<div>\n",
       "<style scoped>\n",
       "    .dataframe tbody tr th:only-of-type {\n",
       "        vertical-align: middle;\n",
       "    }\n",
       "\n",
       "    .dataframe tbody tr th {\n",
       "        vertical-align: top;\n",
       "    }\n",
       "\n",
       "    .dataframe thead th {\n",
       "        text-align: right;\n",
       "    }\n",
       "</style>\n",
       "<table border=\"1\" class=\"dataframe\">\n",
       "  <thead>\n",
       "    <tr style=\"text-align: right;\">\n",
       "      <th></th>\n",
       "      <th>Document_No</th>\n",
       "      <th>Dominant_Topic</th>\n",
       "      <th>Topic_Perc_Contrib</th>\n",
       "      <th>Keywords</th>\n",
       "      <th>Text</th>\n",
       "    </tr>\n",
       "  </thead>\n",
       "  <tbody>\n",
       "    <tr>\n",
       "      <th>0</th>\n",
       "      <td>0</td>\n",
       "      <td>NaN</td>\n",
       "      <td>0.5418</td>\n",
       "      <td>manera, experiencia, cursos, calidad, punto, vez, problema, plataforma, grano, publicidad</td>\n",
       "      <td>[rpa, fotos]</td>\n",
       "    </tr>\n",
       "    <tr>\n",
       "      <th>1</th>\n",
       "      <td>1</td>\n",
       "      <td>NaN</td>\n",
       "      <td>0.5417</td>\n",
       "      <td>conocimientos, instructor, programacion, consejos, herramientas, clases, bases, base, datos, detalles</td>\n",
       "      <td>[conocimientos]</td>\n",
       "    </tr>\n",
       "    <tr>\n",
       "      <th>2</th>\n",
       "      <td>2</td>\n",
       "      <td>NaN</td>\n",
       "      <td>0.0833</td>\n",
       "      <td>gracias, curso, forma, verdad, vida, nivel, tips, negocio, ideas, felicitaciones</td>\n",
       "      <td>[]</td>\n",
       "    </tr>\n",
       "    <tr>\n",
       "      <th>3</th>\n",
       "      <td>3</td>\n",
       "      <td>NaN</td>\n",
       "      <td>0.0833</td>\n",
       "      <td>gracias, curso, forma, verdad, vida, nivel, tips, negocio, ideas, felicitaciones</td>\n",
       "      <td>[]</td>\n",
       "    </tr>\n",
       "    <tr>\n",
       "      <th>4</th>\n",
       "      <td>4</td>\n",
       "      <td>NaN</td>\n",
       "      <td>0.0833</td>\n",
       "      <td>gracias, curso, forma, verdad, vida, nivel, tips, negocio, ideas, felicitaciones</td>\n",
       "      <td>[]</td>\n",
       "    </tr>\n",
       "    <tr>\n",
       "      <th>5</th>\n",
       "      <td>5</td>\n",
       "      <td>NaN</td>\n",
       "      <td>0.5416</td>\n",
       "      <td>curso, personas, pena, empresa, tiempo, html, titulo, embargo, sector, comienzo</td>\n",
       "      <td>[mayoria]</td>\n",
       "    </tr>\n",
       "    <tr>\n",
       "      <th>6</th>\n",
       "      <td>6</td>\n",
       "      <td>NaN</td>\n",
       "      <td>0.0833</td>\n",
       "      <td>curso, ejemplo, lenguaje, cuenta, pagina, inicio, gente, formacion, errores, aporte</td>\n",
       "      <td>[circo]</td>\n",
       "    </tr>\n",
       "    <tr>\n",
       "      <th>7</th>\n",
       "      <td>7</td>\n",
       "      <td>NaN</td>\n",
       "      <td>0.5417</td>\n",
       "      <td>conceptos, contenido, informacion, desarrollo, preguntas, maestro, funciones, vision, aspectos, concepto</td>\n",
       "      <td>[contenido]</td>\n",
       "    </tr>\n",
       "    <tr>\n",
       "      <th>8</th>\n",
       "      <td>8</td>\n",
       "      <td>NaN</td>\n",
       "      <td>0.5099</td>\n",
       "      <td>curso, personas, pena, empresa, tiempo, html, titulo, embargo, sector, comienzo</td>\n",
       "      <td>[curso, curso, placer, capitulo, curso, placer, amor, namaste]</td>\n",
       "    </tr>\n",
       "    <tr>\n",
       "      <th>9</th>\n",
       "      <td>9</td>\n",
       "      <td>NaN</td>\n",
       "      <td>0.8167</td>\n",
       "      <td>manera, experiencia, cursos, calidad, punto, vez, problema, plataforma, grano, publicidad</td>\n",
       "      <td>[calidad, cursos, archivos, sonido]</td>\n",
       "    </tr>\n",
       "  </tbody>\n",
       "</table>\n",
       "</div>"
      ],
      "text/plain": [
       "   Document_No Dominant_Topic  Topic_Perc_Contrib                                                                                                  Keywords                                                            Text\n",
       "0            0            NaN              0.5418                 manera, experiencia, cursos, calidad, punto, vez, problema, plataforma, grano, publicidad                                                    [rpa, fotos]\n",
       "1            1            NaN              0.5417     conocimientos, instructor, programacion, consejos, herramientas, clases, bases, base, datos, detalles                                                 [conocimientos]\n",
       "2            2            NaN              0.0833                          gracias, curso, forma, verdad, vida, nivel, tips, negocio, ideas, felicitaciones                                                              []\n",
       "3            3            NaN              0.0833                          gracias, curso, forma, verdad, vida, nivel, tips, negocio, ideas, felicitaciones                                                              []\n",
       "4            4            NaN              0.0833                          gracias, curso, forma, verdad, vida, nivel, tips, negocio, ideas, felicitaciones                                                              []\n",
       "5            5            NaN              0.5416                           curso, personas, pena, empresa, tiempo, html, titulo, embargo, sector, comienzo                                                       [mayoria]\n",
       "6            6            NaN              0.0833                       curso, ejemplo, lenguaje, cuenta, pagina, inicio, gente, formacion, errores, aporte                                                         [circo]\n",
       "7            7            NaN              0.5417  conceptos, contenido, informacion, desarrollo, preguntas, maestro, funciones, vision, aspectos, concepto                                                     [contenido]\n",
       "8            8            NaN              0.5099                           curso, personas, pena, empresa, tiempo, html, titulo, embargo, sector, comienzo  [curso, curso, placer, capitulo, curso, placer, amor, namaste]\n",
       "9            9            NaN              0.8167                 manera, experiencia, cursos, calidad, punto, vez, problema, plataforma, grano, publicidad                             [calidad, cursos, archivos, sonido]"
      ]
     },
     "execution_count": 118,
     "metadata": {},
     "output_type": "execute_result"
    }
   ],
   "source": [
    "df_dominant_topic['Dominant_Topic'] = df_dominant_topic['Dominant_Topic'].map(label_dicc)\n",
    "df_dominant_topic.head(10)"
   ]
  },
  {
   "cell_type": "code",
   "execution_count": 99,
   "metadata": {
    "colab": {},
    "colab_type": "code",
    "id": "in5E52W3pl_k"
   },
   "outputs": [],
   "source": [
    "df_news['labels'] = df_dominant_topic['Dominant_Topic']\n",
    "df_news['label_confidence'] = df_dominant_topic['Topic_Perc_Contrib']"
   ]
  },
  {
   "cell_type": "markdown",
   "metadata": {
    "colab_type": "text",
    "id": "mA35orWWqQMt"
   },
   "source": [
    "Let's examine some text and its topics"
   ]
  },
  {
   "cell_type": "code",
   "execution_count": 117,
   "metadata": {
    "colab": {
     "base_uri": "https://localhost:8080/",
     "height": 335
    },
    "colab_type": "code",
    "id": "7cHF6NEHkHYh",
    "outputId": "8141df9c-6d26-4d3d-d6d9-9643da78a7c7"
   },
   "outputs": [
    {
     "data": {
      "text/html": [
       "<div>\n",
       "<style scoped>\n",
       "    .dataframe tbody tr th:only-of-type {\n",
       "        vertical-align: middle;\n",
       "    }\n",
       "\n",
       "    .dataframe tbody tr th {\n",
       "        vertical-align: top;\n",
       "    }\n",
       "\n",
       "    .dataframe thead th {\n",
       "        text-align: right;\n",
       "    }\n",
       "</style>\n",
       "<table border=\"1\" class=\"dataframe\">\n",
       "  <thead>\n",
       "    <tr style=\"text-align: right;\">\n",
       "      <th></th>\n",
       "      <th>comment</th>\n",
       "      <th>labels</th>\n",
       "    </tr>\n",
       "  </thead>\n",
       "  <tbody>\n",
       "    <tr>\n",
       "      <th>6545</th>\n",
       "      <td>[rpa, fotos]</td>\n",
       "      <td>instructor</td>\n",
       "    </tr>\n",
       "    <tr>\n",
       "      <th>6546</th>\n",
       "      <td>[conocimientos]</td>\n",
       "      <td>contenido</td>\n",
       "    </tr>\n",
       "    <tr>\n",
       "      <th>6547</th>\n",
       "      <td>[]</td>\n",
       "      <td>expectativas</td>\n",
       "    </tr>\n",
       "    <tr>\n",
       "      <th>6548</th>\n",
       "      <td>[]</td>\n",
       "      <td>titulo</td>\n",
       "    </tr>\n",
       "    <tr>\n",
       "      <th>6733</th>\n",
       "      <td>[]</td>\n",
       "      <td>felicitaciones</td>\n",
       "    </tr>\n",
       "    <tr>\n",
       "      <th>6734</th>\n",
       "      <td>[mayoria]</td>\n",
       "      <td>felicitaciones</td>\n",
       "    </tr>\n",
       "    <tr>\n",
       "      <th>6735</th>\n",
       "      <td>[circo]</td>\n",
       "      <td>video</td>\n",
       "    </tr>\n",
       "    <tr>\n",
       "      <th>6736</th>\n",
       "      <td>[contenido]</td>\n",
       "      <td>felicitaciones</td>\n",
       "    </tr>\n",
       "    <tr>\n",
       "      <th>6737</th>\n",
       "      <td>[curso, curso, placer, capitulo, curso, placer, amor, namaste]</td>\n",
       "      <td>explicación</td>\n",
       "    </tr>\n",
       "    <tr>\n",
       "      <th>6738</th>\n",
       "      <td>[calidad, cursos, archivos, sonido]</td>\n",
       "      <td>felicitaciones</td>\n",
       "    </tr>\n",
       "  </tbody>\n",
       "</table>\n",
       "</div>"
      ],
      "text/plain": [
       "                                                             comment          labels\n",
       "6545                                                    [rpa, fotos]      instructor\n",
       "6546                                                 [conocimientos]       contenido\n",
       "6547                                                              []    expectativas\n",
       "6548                                                              []          titulo\n",
       "6733                                                              []  felicitaciones\n",
       "6734                                                       [mayoria]  felicitaciones\n",
       "6735                                                         [circo]           video\n",
       "6736                                                     [contenido]  felicitaciones\n",
       "6737  [curso, curso, placer, capitulo, curso, placer, amor, namaste]     explicación\n",
       "6738                             [calidad, cursos, archivos, sonido]  felicitaciones"
      ]
     },
     "execution_count": 117,
     "metadata": {},
     "output_type": "execute_result"
    }
   ],
   "source": [
    "df_news[['comment', 'labels']].head(10)"
   ]
  },
  {
   "cell_type": "code",
   "execution_count": 115,
   "metadata": {
    "colab": {
     "base_uri": "https://localhost:8080/",
     "height": 115
    },
    "colab_type": "code",
    "id": "sgkBFTYbqID0",
    "outputId": "cb7ce341-6c49-48c3-eb15-cccb8a5ea902"
   },
   "outputs": [
    {
     "data": {
      "text/html": [
       "<div>\n",
       "<style scoped>\n",
       "    .dataframe tbody tr th:only-of-type {\n",
       "        vertical-align: middle;\n",
       "    }\n",
       "\n",
       "    .dataframe tbody tr th {\n",
       "        vertical-align: top;\n",
       "    }\n",
       "\n",
       "    .dataframe thead th {\n",
       "        text-align: right;\n",
       "    }\n",
       "</style>\n",
       "<table border=\"1\" class=\"dataframe\">\n",
       "  <thead>\n",
       "    <tr style=\"text-align: right;\">\n",
       "      <th></th>\n",
       "      <th>id</th>\n",
       "      <th>course</th>\n",
       "      <th>rating</th>\n",
       "      <th>comment</th>\n",
       "      <th>user</th>\n",
       "      <th>tag</th>\n",
       "      <th>text2</th>\n",
       "      <th>comment_cleaned</th>\n",
       "      <th>labels</th>\n",
       "      <th>label_confidence</th>\n",
       "    </tr>\n",
       "  </thead>\n",
       "  <tbody>\n",
       "    <tr>\n",
       "      <th>1892</th>\n",
       "      <td>75710650</td>\n",
       "      <td>1066626</td>\n",
       "      <td>4.5</td>\n",
       "      <td>[conceptos]</td>\n",
       "      <td>Manuela Naranjo</td>\n",
       "      <td>pos</td>\n",
       "      <td>Bastante explicativo. Y conceptos bastante amplios y precisos</td>\n",
       "      <td>[conceptos]</td>\n",
       "      <td>instructor</td>\n",
       "      <td>0.8407</td>\n",
       "    </tr>\n",
       "    <tr>\n",
       "      <th>1892</th>\n",
       "      <td>74399306</td>\n",
       "      <td>3729250</td>\n",
       "      <td>5.0</td>\n",
       "      <td>[curso]</td>\n",
       "      <td>Christian Perfido</td>\n",
       "      <td>pos</td>\n",
       "      <td>ES AVANZADO Y EXPLICA MUY BIEN FELICITACIONES,POR TAN BUEN CURSO</td>\n",
       "      <td>[curso]</td>\n",
       "      <td>instructor</td>\n",
       "      <td>0.8407</td>\n",
       "    </tr>\n",
       "    <tr>\n",
       "      <th>4318</th>\n",
       "      <td>76655150</td>\n",
       "      <td>1437440</td>\n",
       "      <td>5.0</td>\n",
       "      <td>[curso]</td>\n",
       "      <td>Ricardo Blanco</td>\n",
       "      <td>pos</td>\n",
       "      <td>Excelente, curso muy bien explicado</td>\n",
       "      <td>[curso]</td>\n",
       "      <td>instructor</td>\n",
       "      <td>0.8166</td>\n",
       "    </tr>\n",
       "    <tr>\n",
       "      <th>4318</th>\n",
       "      <td>4726536</td>\n",
       "      <td>888952</td>\n",
       "      <td>5.0</td>\n",
       "      <td>[tema]</td>\n",
       "      <td>Nataliadelavictoriamarin</td>\n",
       "      <td>pos</td>\n",
       "      <td>explica muy bien cada tema</td>\n",
       "      <td>[tema]</td>\n",
       "      <td>instructor</td>\n",
       "      <td>0.8166</td>\n",
       "    </tr>\n",
       "    <tr>\n",
       "      <th>4318</th>\n",
       "      <td>67920702</td>\n",
       "      <td>1254192</td>\n",
       "      <td>5.0</td>\n",
       "      <td>[nivel, paso, curso, favor, concreto, tiempo]</td>\n",
       "      <td>Julio Mejia</td>\n",
       "      <td>pos</td>\n",
       "      <td>Se requiere ya un nivel intermedio para seguirle el paso al curso pero en su favor es muy concreto con lo que muestra y se aprende mucho en muy poco tiempo</td>\n",
       "      <td>[nivel, paso, curso, favor, concreto, tiempo]</td>\n",
       "      <td>instructor</td>\n",
       "      <td>0.8166</td>\n",
       "    </tr>\n",
       "    <tr>\n",
       "      <th>2682</th>\n",
       "      <td>77037506</td>\n",
       "      <td>1698124</td>\n",
       "      <td>3.0</td>\n",
       "      <td>[ejemplos, gente]</td>\n",
       "      <td>Otmar Escutia</td>\n",
       "      <td>neg</td>\n",
       "      <td>Creo que  podría ser mejor con ejemplos vivenciales (videos de gente exponiendo) o bien acompañar con imágenes, hasta ahorita interesante pero un tanto aburrido.</td>\n",
       "      <td>[ejemplos, gente]</td>\n",
       "      <td>instructor</td>\n",
       "      <td>0.7709</td>\n",
       "    </tr>\n",
       "    <tr>\n",
       "      <th>17771</th>\n",
       "      <td>81112862</td>\n",
       "      <td>1910458</td>\n",
       "      <td>5.0</td>\n",
       "      <td>[]</td>\n",
       "      <td>Gabriel Splendiani</td>\n",
       "      <td>pos</td>\n",
       "      <td>Me pareció muy bueno y abarca muchísimo. Yo vengo de Unity y sinceramente lo entendí todo a la perfección.</td>\n",
       "      <td>[]</td>\n",
       "      <td>instructor</td>\n",
       "      <td>0.7708</td>\n",
       "    </tr>\n",
       "    <tr>\n",
       "      <th>5317</th>\n",
       "      <td>69249998</td>\n",
       "      <td>2691362</td>\n",
       "      <td>5.0</td>\n",
       "      <td>[gusto]</td>\n",
       "      <td>Mauricio Antriz</td>\n",
       "      <td>pos</td>\n",
       "      <td>me gusto</td>\n",
       "      <td>[gusto]</td>\n",
       "      <td>instructor</td>\n",
       "      <td>0.7708</td>\n",
       "    </tr>\n",
       "    <tr>\n",
       "      <th>66011</th>\n",
       "      <td>54136276</td>\n",
       "      <td>948830</td>\n",
       "      <td>2.5</td>\n",
       "      <td>[autor, muletillas]</td>\n",
       "      <td>Daniel Medrano</td>\n",
       "      <td>neg</td>\n",
       "      <td>El autor utiliza muchas muletillas al hablar y eso dificulta entender lo que dice.</td>\n",
       "      <td>[autor, muletillas]</td>\n",
       "      <td>instructor</td>\n",
       "      <td>0.7708</td>\n",
       "    </tr>\n",
       "    <tr>\n",
       "      <th>5317</th>\n",
       "      <td>24470942</td>\n",
       "      <td>1175904</td>\n",
       "      <td>4.5</td>\n",
       "      <td>[curso, grano, explicaciones, xamarinforms]</td>\n",
       "      <td>Raúl Carreño</td>\n",
       "      <td>pos</td>\n",
       "      <td>Muy buen curso!, va directo al grano con las explicaciones.\\nMe sirvió para empezar a incursionar en XamarinForms.\\n\\nSaludos.</td>\n",
       "      <td>[curso, grano, explicaciones, xamarinforms]</td>\n",
       "      <td>instructor</td>\n",
       "      <td>0.7708</td>\n",
       "    </tr>\n",
       "  </tbody>\n",
       "</table>\n",
       "</div>"
      ],
      "text/plain": [
       "             id   course  rating                                        comment                      user  tag                                                                                                                                                              text2                                comment_cleaned      labels  label_confidence\n",
       "1892   75710650  1066626     4.5                                    [conceptos]           Manuela Naranjo  pos                                                                                                      Bastante explicativo. Y conceptos bastante amplios y precisos                                    [conceptos]  instructor            0.8407\n",
       "1892   74399306  3729250     5.0                                        [curso]         Christian Perfido  pos                                                                                                   ES AVANZADO Y EXPLICA MUY BIEN FELICITACIONES,POR TAN BUEN CURSO                                        [curso]  instructor            0.8407\n",
       "4318   76655150  1437440     5.0                                        [curso]            Ricardo Blanco  pos                                                                                                                                Excelente, curso muy bien explicado                                        [curso]  instructor            0.8166\n",
       "4318    4726536   888952     5.0                                         [tema]  Nataliadelavictoriamarin  pos                                                                                                                                         explica muy bien cada tema                                         [tema]  instructor            0.8166\n",
       "4318   67920702  1254192     5.0  [nivel, paso, curso, favor, concreto, tiempo]               Julio Mejia  pos        Se requiere ya un nivel intermedio para seguirle el paso al curso pero en su favor es muy concreto con lo que muestra y se aprende mucho en muy poco tiempo  [nivel, paso, curso, favor, concreto, tiempo]  instructor            0.8166\n",
       "2682   77037506  1698124     3.0                              [ejemplos, gente]             Otmar Escutia  neg  Creo que  podría ser mejor con ejemplos vivenciales (videos de gente exponiendo) o bien acompañar con imágenes, hasta ahorita interesante pero un tanto aburrido.                              [ejemplos, gente]  instructor            0.7709\n",
       "17771  81112862  1910458     5.0                                             []        Gabriel Splendiani  pos                                                         Me pareció muy bueno y abarca muchísimo. Yo vengo de Unity y sinceramente lo entendí todo a la perfección.                                             []  instructor            0.7708\n",
       "5317   69249998  2691362     5.0                                        [gusto]           Mauricio Antriz  pos                                                                                                                                                           me gusto                                        [gusto]  instructor            0.7708\n",
       "66011  54136276   948830     2.5                            [autor, muletillas]            Daniel Medrano  neg                                                                                 El autor utiliza muchas muletillas al hablar y eso dificulta entender lo que dice.                            [autor, muletillas]  instructor            0.7708\n",
       "5317   24470942  1175904     4.5    [curso, grano, explicaciones, xamarinforms]              Raúl Carreño  pos                                     Muy buen curso!, va directo al grano con las explicaciones.\\nMe sirvió para empezar a incursionar en XamarinForms.\\n\\nSaludos.    [curso, grano, explicaciones, xamarinforms]  instructor            0.7708"
      ]
     },
     "execution_count": 115,
     "metadata": {},
     "output_type": "execute_result"
    }
   ],
   "source": [
    "df_news[ df_news['labels'] == 'instructor'].sort_values(by='label_confidence',ascending=False).head(10)"
   ]
  },
  {
   "cell_type": "code",
   "execution_count": 119,
   "metadata": {},
   "outputs": [
    {
     "data": {
      "text/html": [
       "<div>\n",
       "<style scoped>\n",
       "    .dataframe tbody tr th:only-of-type {\n",
       "        vertical-align: middle;\n",
       "    }\n",
       "\n",
       "    .dataframe tbody tr th {\n",
       "        vertical-align: top;\n",
       "    }\n",
       "\n",
       "    .dataframe thead th {\n",
       "        text-align: right;\n",
       "    }\n",
       "</style>\n",
       "<table border=\"1\" class=\"dataframe\">\n",
       "  <thead>\n",
       "    <tr style=\"text-align: right;\">\n",
       "      <th></th>\n",
       "      <th>id</th>\n",
       "      <th>course</th>\n",
       "      <th>rating</th>\n",
       "      <th>comment</th>\n",
       "      <th>user</th>\n",
       "      <th>tag</th>\n",
       "      <th>text2</th>\n",
       "      <th>comment_cleaned</th>\n",
       "      <th>labels</th>\n",
       "      <th>label_confidence</th>\n",
       "    </tr>\n",
       "  </thead>\n",
       "  <tbody>\n",
       "    <tr>\n",
       "      <th>64288</th>\n",
       "      <td>66692936</td>\n",
       "      <td>2066697</td>\n",
       "      <td>5.0</td>\n",
       "      <td>[explicacion, tema, volumen]</td>\n",
       "      <td>Victor Alonso Castillo</td>\n",
       "      <td>pos</td>\n",
       "      <td>Todo muy bien, siento que la explicacion es un poco lenta y repetitiva pero se da muy bien a entender cada tema, algo que creo que si se le deberia de mejorar es el volumen del microfono, se escucha un poco bajo</td>\n",
       "      <td>[explicacion, tema, volumen]</td>\n",
       "      <td>experiencia</td>\n",
       "      <td>0.8690</td>\n",
       "    </tr>\n",
       "    <tr>\n",
       "      <th>64288</th>\n",
       "      <td>57768281</td>\n",
       "      <td>1913070</td>\n",
       "      <td>5.0</td>\n",
       "      <td>[tema, tiempo]</td>\n",
       "      <td>Zuriel Antonio Franco Lara</td>\n",
       "      <td>pos</td>\n",
       "      <td>Se entiende perfectamente cada tema explicado  y en poco tiempo</td>\n",
       "      <td>[tema, tiempo]</td>\n",
       "      <td>experiencia</td>\n",
       "      <td>0.8690</td>\n",
       "    </tr>\n",
       "    <tr>\n",
       "      <th>68799</th>\n",
       "      <td>68138781</td>\n",
       "      <td>1816438</td>\n",
       "      <td>5.0</td>\n",
       "      <td>[paso]</td>\n",
       "      <td>Juan de Dios Sanchez Mariscal</td>\n",
       "      <td>pos</td>\n",
       "      <td>Se entiende perfectamente,todo lo que se dice paso por paso.</td>\n",
       "      <td>[paso]</td>\n",
       "      <td>felicitaciones</td>\n",
       "      <td>0.8472</td>\n",
       "    </tr>\n",
       "    <tr>\n",
       "      <th>2325</th>\n",
       "      <td>93063142</td>\n",
       "      <td>3264424</td>\n",
       "      <td>5.0</td>\n",
       "      <td>[curso, metodologia, anza]</td>\n",
       "      <td>Rene Bustamante</td>\n",
       "      <td>pos</td>\n",
       "      <td>Excelente curso, buena metodología de enseñanza... totalmente recomendado.</td>\n",
       "      <td>[curso, metodologia, anza]</td>\n",
       "      <td>felicitaciones</td>\n",
       "      <td>0.8472</td>\n",
       "    </tr>\n",
       "    <tr>\n",
       "      <th>9908</th>\n",
       "      <td>22768516</td>\n",
       "      <td>729456</td>\n",
       "      <td>4.0</td>\n",
       "      <td>[curso, experiencia, explicativo]</td>\n",
       "      <td>Cristian Farid Casih</td>\n",
       "      <td>neg</td>\n",
       "      <td>El curso estuvo bueno era lo que esperaba tener una primera experiencia en django, fue poco explicativo pero es entendible</td>\n",
       "      <td>[curso, experiencia, explicativo]</td>\n",
       "      <td>titulo</td>\n",
       "      <td>0.8472</td>\n",
       "    </tr>\n",
       "    <tr>\n",
       "      <th>9908</th>\n",
       "      <td>34516504</td>\n",
       "      <td>290864</td>\n",
       "      <td>4.0</td>\n",
       "      <td>[]</td>\n",
       "      <td>pallob sarker</td>\n",
       "      <td>neg</td>\n",
       "      <td>It's good for beginner.</td>\n",
       "      <td>[]</td>\n",
       "      <td>titulo</td>\n",
       "      <td>0.8472</td>\n",
       "    </tr>\n",
       "    <tr>\n",
       "      <th>55673</th>\n",
       "      <td>17612326</td>\n",
       "      <td>1327314</td>\n",
       "      <td>4.5</td>\n",
       "      <td>[curso, uso, consejos, conversiones, finalidad, campa, curso]</td>\n",
       "      <td>Andrea Ramírez</td>\n",
       "      <td>pos</td>\n",
       "      <td>Si bien el curso esta enfocado principalmente en el uso de mailchimp, se agradecería que pudiese incorporar más consejos para generar conversiones, pensando que esa es la finalidad de las campañas de email masivos. En general, excelente curso.</td>\n",
       "      <td>[curso, uso, consejos, conversiones, finalidad, campa, curso]</td>\n",
       "      <td>felicitaciones</td>\n",
       "      <td>0.8472</td>\n",
       "    </tr>\n",
       "    <tr>\n",
       "      <th>9908</th>\n",
       "      <td>62778440</td>\n",
       "      <td>3085400</td>\n",
       "      <td>5.0</td>\n",
       "      <td>[curso]</td>\n",
       "      <td>César Israel León Cifuentes</td>\n",
       "      <td>pos</td>\n",
       "      <td>Me está encantado el curso!</td>\n",
       "      <td>[curso]</td>\n",
       "      <td>titulo</td>\n",
       "      <td>0.8472</td>\n",
       "    </tr>\n",
       "    <tr>\n",
       "      <th>9908</th>\n",
       "      <td>72023844</td>\n",
       "      <td>775264</td>\n",
       "      <td>5.0</td>\n",
       "      <td>[]</td>\n",
       "      <td>Ricardo Terán Navarro</td>\n",
       "      <td>pos</td>\n",
       "      <td>Excelente</td>\n",
       "      <td>[]</td>\n",
       "      <td>titulo</td>\n",
       "      <td>0.8472</td>\n",
       "    </tr>\n",
       "    <tr>\n",
       "      <th>68799</th>\n",
       "      <td>72207158</td>\n",
       "      <td>115204</td>\n",
       "      <td>4.0</td>\n",
       "      <td>[]</td>\n",
       "      <td>Anonymized User</td>\n",
       "      <td>neg</td>\n",
       "      <td>Entendible y didáctico</td>\n",
       "      <td>[]</td>\n",
       "      <td>felicitaciones</td>\n",
       "      <td>0.8472</td>\n",
       "    </tr>\n",
       "  </tbody>\n",
       "</table>\n",
       "</div>"
      ],
      "text/plain": [
       "             id   course  rating                                                        comment                           user  tag                                                                                                                                                                                                                                                text2                                                comment_cleaned          labels  label_confidence\n",
       "64288  66692936  2066697     5.0                                   [explicacion, tema, volumen]         Victor Alonso Castillo  pos                                  Todo muy bien, siento que la explicacion es un poco lenta y repetitiva pero se da muy bien a entender cada tema, algo que creo que si se le deberia de mejorar es el volumen del microfono, se escucha un poco bajo                                   [explicacion, tema, volumen]     experiencia            0.8690\n",
       "64288  57768281  1913070     5.0                                                 [tema, tiempo]     Zuriel Antonio Franco Lara  pos                                                                                                                                                                                      Se entiende perfectamente cada tema explicado  y en poco tiempo                                                 [tema, tiempo]     experiencia            0.8690\n",
       "68799  68138781  1816438     5.0                                                         [paso]  Juan de Dios Sanchez Mariscal  pos                                                                                                                                                                                         Se entiende perfectamente,todo lo que se dice paso por paso.                                                         [paso]  felicitaciones            0.8472\n",
       "2325   93063142  3264424     5.0                                     [curso, metodologia, anza]                Rene Bustamante  pos                                                                                                                                                                           Excelente curso, buena metodología de enseñanza... totalmente recomendado.                                     [curso, metodologia, anza]  felicitaciones            0.8472\n",
       "9908   22768516   729456     4.0                              [curso, experiencia, explicativo]           Cristian Farid Casih  neg                                                                                                                           El curso estuvo bueno era lo que esperaba tener una primera experiencia en django, fue poco explicativo pero es entendible                              [curso, experiencia, explicativo]          titulo            0.8472\n",
       "9908   34516504   290864     4.0                                                             []                  pallob sarker  neg                                                                                                                                                                                                                              It's good for beginner.                                                             []          titulo            0.8472\n",
       "55673  17612326  1327314     4.5  [curso, uso, consejos, conversiones, finalidad, campa, curso]                 Andrea Ramírez  pos  Si bien el curso esta enfocado principalmente en el uso de mailchimp, se agradecería que pudiese incorporar más consejos para generar conversiones, pensando que esa es la finalidad de las campañas de email masivos. En general, excelente curso.  [curso, uso, consejos, conversiones, finalidad, campa, curso]  felicitaciones            0.8472\n",
       "9908   62778440  3085400     5.0                                                        [curso]    César Israel León Cifuentes  pos                                                                                                                                                                                                                          Me está encantado el curso!                                                        [curso]          titulo            0.8472\n",
       "9908   72023844   775264     5.0                                                             []          Ricardo Terán Navarro  pos                                                                                                                                                                                                                                            Excelente                                                             []          titulo            0.8472\n",
       "68799  72207158   115204     4.0                                                             []                Anonymized User  neg                                                                                                                                                                                                                               Entendible y didáctico                                                             []  felicitaciones            0.8472"
      ]
     },
     "execution_count": 119,
     "metadata": {},
     "output_type": "execute_result"
    }
   ],
   "source": [
    "df_news.sort_values(by='label_confidence',ascending=False).head(10)"
   ]
  },
  {
   "cell_type": "markdown",
   "metadata": {
    "colab_type": "text",
    "id": "dCc6-oIo6BMw"
   },
   "source": [
    "### let's see the distribution of topics\n"
   ]
  },
  {
   "cell_type": "code",
   "execution_count": 83,
   "metadata": {
    "colab": {
     "base_uri": "https://localhost:8080/",
     "height": 337
    },
    "colab_type": "code",
    "id": "VOitT-s10yv5",
    "outputId": "16a4b62a-dd36-4607-a55b-ad77f80acf65"
   },
   "outputs": [
    {
     "data": {
      "image/png": "[encoded data removed]",
      "text/plain": [
       "<Figure size 640x480 with 1 Axes>"
      ]
     },
     "metadata": {},
     "output_type": "display_data"
    }
   ],
   "source": [
    "ax = df_dominant_topic['Dominant_Topic'].value_counts().plot(kind='bar')\n",
    "plt.show()"
   ]
  },
  {
   "cell_type": "markdown",
   "metadata": {
    "colab_type": "text",
    "id": "Jh0l7ngJ6J12"
   },
   "source": [
    "The topis are almost balanced, so we are good"
   ]
  },
  {
   "cell_type": "markdown",
   "metadata": {
    "colab_type": "text",
    "id": "AcWRIAWTWhl7"
   },
   "source": [
    "finally that we have our models set up, as well as analyzed, we can go\n",
    "ahead to visualizing them."
   ]
  },
  {
   "cell_type": "code",
   "execution_count": 84,
   "metadata": {
    "colab": {
     "base_uri": "https://localhost:8080/",
     "height": 521
    },
    "colab_type": "code",
    "id": "Jv3PFRwBs-gT",
    "outputId": "6749bc00-2549-4857-d0bd-df8540c8accd"
   },
   "outputs": [
    {
     "name": "stdout",
     "output_type": "stream",
     "text": [
      "Collecting pyLDAvis\n",
      "  Downloading pyLDAvis-3.3.1.tar.gz (1.7 MB)\n",
      "  Installing build dependencies: started\n",
      "  Installing build dependencies: finished with status 'done'\n",
      "  Getting requirements to build wheel: started\n",
      "  Getting requirements to build wheel: finished with status 'done'\n",
      "  Installing backend dependencies: started\n",
      "  Installing backend dependencies: finished with status 'done'\n",
      "    Preparing wheel metadata: started\n",
      "    Preparing wheel metadata: finished with status 'done'\n",
      "Requirement already satisfied: jinja2 in c:\\users\\faolin\\anaconda3\\lib\\site-packages (from pyLDAvis) (2.11.3)\n",
      "Requirement already satisfied: setuptools in c:\\users\\faolin\\anaconda3\\lib\\site-packages (from pyLDAvis) (52.0.0.post20210125)\n",
      "Requirement already satisfied: scipy in c:\\users\\faolin\\anaconda3\\lib\\site-packages (from pyLDAvis) (1.6.2)\n",
      "Requirement already satisfied: joblib in c:\\users\\faolin\\anaconda3\\lib\\site-packages (from pyLDAvis) (1.0.1)\n",
      "Collecting funcy\n",
      "  Downloading funcy-1.16-py2.py3-none-any.whl (32 kB)\n",
      "Requirement already satisfied: pandas>=1.2.0 in c:\\users\\faolin\\anaconda3\\lib\\site-packages (from pyLDAvis) (1.3.1)\n"
     ]
    },
    {
     "name": "stderr",
     "output_type": "stream",
     "text": [
      "ERROR: Could not install packages due to an OSError: [WinError 5] Access is denied: 'C:\\\\Users\\\\Faolin\\\\anaconda3\\\\Lib\\\\site-packages\\\\~umpy\\\\core\\\\_multiarray_tests.cp38-win_amd64.pyd'\n",
      "Consider using the `--user` option or check the permissions.\n",
      "\n"
     ]
    },
    {
     "name": "stdout",
     "output_type": "stream",
     "text": [
      "Collecting numpy>=1.20.0\n",
      "  Downloading numpy-1.21.2-cp38-cp38-win_amd64.whl (14.0 MB)\n",
      "Requirement already satisfied: future in c:\\users\\faolin\\anaconda3\\lib\\site-packages (from pyLDAvis) (0.18.2)\n",
      "Requirement already satisfied: gensim in c:\\users\\faolin\\anaconda3\\lib\\site-packages (from pyLDAvis) (4.1.2)\n",
      "Requirement already satisfied: numexpr in c:\\users\\faolin\\anaconda3\\lib\\site-packages (from pyLDAvis) (2.7.3)\n",
      "Collecting sklearn\n",
      "  Downloading sklearn-0.0.tar.gz (1.1 kB)\n",
      "Requirement already satisfied: scikit-learn in c:\\users\\faolin\\anaconda3\\lib\\site-packages (from pyLDAvis) (0.24.2)\n",
      "Requirement already satisfied: python-dateutil>=2.7.3 in c:\\users\\faolin\\anaconda3\\lib\\site-packages (from pandas>=1.2.0->pyLDAvis) (2.8.2)\n",
      "Requirement already satisfied: pytz>=2017.3 in c:\\users\\faolin\\anaconda3\\lib\\site-packages (from pandas>=1.2.0->pyLDAvis) (2021.1)\n",
      "Requirement already satisfied: six>=1.5 in c:\\users\\faolin\\anaconda3\\lib\\site-packages (from python-dateutil>=2.7.3->pandas>=1.2.0->pyLDAvis) (1.16.0)\n",
      "Requirement already satisfied: Cython==0.29.23 in c:\\users\\faolin\\anaconda3\\lib\\site-packages (from gensim->pyLDAvis) (0.29.23)\n",
      "Requirement already satisfied: smart-open>=1.8.1 in c:\\users\\faolin\\anaconda3\\lib\\site-packages (from gensim->pyLDAvis) (5.2.1)\n",
      "Requirement already satisfied: MarkupSafe>=0.23 in c:\\users\\faolin\\anaconda3\\lib\\site-packages (from jinja2->pyLDAvis) (2.0.1)\n",
      "Requirement already satisfied: threadpoolctl>=2.0.0 in c:\\users\\faolin\\anaconda3\\lib\\site-packages (from scikit-learn->pyLDAvis) (2.2.0)\n",
      "Building wheels for collected packages: pyLDAvis, sklearn\n",
      "  Building wheel for pyLDAvis (PEP 517): started\n",
      "  Building wheel for pyLDAvis (PEP 517): finished with status 'done'\n",
      "  Created wheel for pyLDAvis: filename=pyLDAvis-3.3.1-py2.py3-none-any.whl size=136897 sha256=6affa75844afd880e076d6586d6f8bbcec52503961c4cb8ca86fbdedfae3f11d\n",
      "  Stored in directory: c:\\users\\faolin\\appdata\\local\\pip\\cache\\wheels\\90\\61\\ec\\9dbe9efc3acf9c4e37ba70fbbcc3f3a0ebd121060aa593181a\n",
      "  Building wheel for sklearn (setup.py): started\n",
      "  Building wheel for sklearn (setup.py): finished with status 'done'\n",
      "  Created wheel for sklearn: filename=sklearn-0.0-py2.py3-none-any.whl size=1317 sha256=10a66a2f8960f8c4131c9878086eb447a7b0ab29f1dee6dbb428f5f3d557d412\n",
      "  Stored in directory: c:\\users\\faolin\\appdata\\local\\pip\\cache\\wheels\\22\\0b\\40\\fd3f795caaa1fb4c6cb738bc1f56100be1e57da95849bfc897\n",
      "Successfully built pyLDAvis sklearn\n",
      "Installing collected packages: numpy, sklearn, funcy, pyLDAvis\n",
      "  Attempting uninstall: numpy\n",
      "    Found existing installation: numpy 1.19.2\n",
      "    Uninstalling numpy-1.19.2:\n",
      "      Successfully uninstalled numpy-1.19.2\n"
     ]
    }
   ],
   "source": [
    "!pip install pyLDAvis"
   ]
  },
  {
   "cell_type": "code",
   "execution_count": 86,
   "metadata": {
    "colab": {},
    "colab_type": "code",
    "id": "jXpx66NTd1uT"
   },
   "outputs": [
    {
     "ename": "ModuleNotFoundError",
     "evalue": "No module named 'pyLDAvis'",
     "output_type": "error",
     "traceback": [
      "\u001b[1;31m---------------------------------------------------------------------------\u001b[0m",
      "\u001b[1;31mModuleNotFoundError\u001b[0m                       Traceback (most recent call last)",
      "\u001b[1;32m<ipython-input-86-4d8bca5efab9>\u001b[0m in \u001b[0;36m<module>\u001b[1;34m\u001b[0m\n\u001b[1;32m----> 1\u001b[1;33m \u001b[1;32mimport\u001b[0m \u001b[0mpyLDAvis\u001b[0m\u001b[1;33m\u001b[0m\u001b[1;33m\u001b[0m\u001b[0m\n\u001b[0m\u001b[0;32m      2\u001b[0m \u001b[1;33m\u001b[0m\u001b[0m\n\u001b[0;32m      3\u001b[0m \u001b[0mpyLDAvis\u001b[0m\u001b[1;33m.\u001b[0m\u001b[0menable_notebook\u001b[0m\u001b[1;33m(\u001b[0m\u001b[1;33m)\u001b[0m\u001b[1;33m\u001b[0m\u001b[1;33m\u001b[0m\u001b[0m\n",
      "\u001b[1;31mModuleNotFoundError\u001b[0m: No module named 'pyLDAvis'"
     ]
    }
   ],
   "source": [
    "import pyLDAvis\n",
    "\n",
    "pyLDAvis.enable_notebook()"
   ]
  },
  {
   "cell_type": "code",
   "execution_count": 87,
   "metadata": {
    "colab": {
     "base_uri": "https://localhost:8080/",
     "height": 991
    },
    "colab_type": "code",
    "id": "diu2MLik41sf",
    "outputId": "078af8ba-2310-4875-c8de-e24a06ee6340"
   },
   "outputs": [
    {
     "ename": "ModuleNotFoundError",
     "evalue": "No module named 'pyLDAvis'",
     "output_type": "error",
     "traceback": [
      "\u001b[1;31m---------------------------------------------------------------------------\u001b[0m",
      "\u001b[1;31mModuleNotFoundError\u001b[0m                       Traceback (most recent call last)",
      "\u001b[1;32m<ipython-input-87-616dd35e08f9>\u001b[0m in \u001b[0;36m<module>\u001b[1;34m\u001b[0m\n\u001b[0;32m      1\u001b[0m \u001b[1;31m# %%time\u001b[0m\u001b[1;33m\u001b[0m\u001b[1;33m\u001b[0m\u001b[1;33m\u001b[0m\u001b[0m\n\u001b[1;32m----> 2\u001b[1;33m \u001b[1;32mimport\u001b[0m \u001b[0mpyLDAvis\u001b[0m\u001b[1;33m.\u001b[0m\u001b[0mgensim\u001b[0m\u001b[1;33m\u001b[0m\u001b[1;33m\u001b[0m\u001b[0m\n\u001b[0m\u001b[0;32m      3\u001b[0m \u001b[0mpyLDAvis\u001b[0m\u001b[1;33m.\u001b[0m\u001b[0mgensim\u001b[0m\u001b[1;33m.\u001b[0m\u001b[0mprepare\u001b[0m\u001b[1;33m(\u001b[0m\u001b[0mldamodel\u001b[0m\u001b[1;33m,\u001b[0m \u001b[0mcorpus\u001b[0m\u001b[1;33m,\u001b[0m \u001b[0mdictionary\u001b[0m\u001b[1;33m)\u001b[0m\u001b[1;33m\u001b[0m\u001b[1;33m\u001b[0m\u001b[0m\n",
      "\u001b[1;31mModuleNotFoundError\u001b[0m: No module named 'pyLDAvis'"
     ]
    }
   ],
   "source": [
    "# %%time\n",
    "import pyLDAvis.gensim\n",
    "pyLDAvis.gensim.prepare(ldamodel, corpus, dictionary)"
   ]
  },
  {
   "cell_type": "code",
   "execution_count": null,
   "metadata": {},
   "outputs": [],
   "source": []
  }
 ],
 "metadata": {
  "accelerator": "GPU",
  "colab": {
   "collapsed_sections": [],
   "include_colab_link": true,
   "machine_shape": "hm",
   "name": "topic_modeling_spanish.ipynb",
   "provenance": [],
   "version": "0.3.2"
  },
  "kernelspec": {
   "display_name": "Python 3 (ipykernel)",
   "language": "python",
   "name": "python3"
  },
  "language_info": {
   "codemirror_mode": {
    "name": "ipython",
    "version": 3
   },
   "file_extension": ".py",
   "mimetype": "text/x-python",
   "name": "python",
   "nbconvert_exporter": "python",
   "pygments_lexer": "ipython3",
   "version": "3.8.8"
  }
 },
 "nbformat": 4,
 "nbformat_minor": 4
}
