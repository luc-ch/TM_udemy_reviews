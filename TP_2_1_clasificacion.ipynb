{
 "cells": [
  {
   "cell_type": "code",
   "execution_count": 1,
   "metadata": {
    "colab": {
     "base_uri": "https://localhost:8080/"
    },
    "id": "4TpJ9odvoOvk",
    "outputId": "8288845f-2156-4cc8-850d-1d2b2582a4e7"
   },
   "outputs": [
    {
     "name": "stderr",
     "output_type": "stream",
     "text": [
      "[nltk_data] Downloading package punkt to\n",
      "[nltk_data]     C:\\Users\\Faolin\\AppData\\Roaming\\nltk_data...\n",
      "[nltk_data]   Package punkt is already up-to-date!\n"
     ]
    }
   ],
   "source": [
    "import nltk\n",
    "nltk.download('punkt')\n",
    "\n",
    "import re\n",
    "import pandas as pd\n",
    "\n",
    "import matplotlib.pyplot as plt\n",
    "from nltk.corpus import movie_reviews\n",
    "from nltk import word_tokenize, sent_tokenize\n",
    "\n",
    "from sklearn.model_selection import train_test_split, cross_val_score, GridSearchCV\n",
    "from sklearn.feature_extraction.text import CountVectorizer, TfidfVectorizer\n",
    "from sklearn.naive_bayes import MultinomialNB\n",
    "from sklearn.linear_model import LogisticRegression\n",
    "from sklearn.pipeline import Pipeline\n",
    "from sklearn.feature_selection import SelectKBest, mutual_info_classif\n",
    "from sklearn.metrics import f1_score\n",
    "from sklearn.neural_network import MLPClassifier\n",
    "\n",
    "import numpy as np\n",
    "from nltk.stem import WordNetLemmatizer\n",
    "from nltk import word_tokenize\n",
    "from nltk.corpus import stopwords\n",
    "import string\n",
    "import matplotlib.pyplot as plt\n",
    "import gensim\n",
    "import numpy as np\n",
    "from gensim.models import CoherenceModel, LdaModel, LsiModel, HdpModel\n",
    "from gensim.corpora import Dictionary\n",
    "# from gensim.models.wrappers import LdaMallet\n"
   ]
  },
  {
   "cell_type": "code",
   "execution_count": 2,
   "metadata": {},
   "outputs": [],
   "source": [
    "pd.set_option('display.max_columns', None)\n",
    "pd.set_option('display.expand_frame_repr', False)\n",
    "pd.set_option('max_colwidth', None)"
   ]
  },
  {
   "cell_type": "code",
   "execution_count": 3,
   "metadata": {},
   "outputs": [
    {
     "data": {
      "text/html": [
       "<div>\n",
       "<style scoped>\n",
       "    .dataframe tbody tr th:only-of-type {\n",
       "        vertical-align: middle;\n",
       "    }\n",
       "\n",
       "    .dataframe tbody tr th {\n",
       "        vertical-align: top;\n",
       "    }\n",
       "\n",
       "    .dataframe thead th {\n",
       "        text-align: right;\n",
       "    }\n",
       "</style>\n",
       "<table border=\"1\" class=\"dataframe\">\n",
       "  <thead>\n",
       "    <tr style=\"text-align: right;\">\n",
       "      <th></th>\n",
       "      <th>id</th>\n",
       "      <th>course</th>\n",
       "      <th>rating</th>\n",
       "      <th>comment</th>\n",
       "      <th>user</th>\n",
       "      <th>tag</th>\n",
       "    </tr>\n",
       "  </thead>\n",
       "  <tbody>\n",
       "    <tr>\n",
       "      <th>24485</th>\n",
       "      <td>88666284</td>\n",
       "      <td>2851496</td>\n",
       "      <td>5.0</td>\n",
       "      <td>Como siempre excelente contenido salu2.</td>\n",
       "      <td>Jhonatan Ortiz Cabezas</td>\n",
       "      <td>pos</td>\n",
       "    </tr>\n",
       "    <tr>\n",
       "      <th>12564</th>\n",
       "      <td>11903352</td>\n",
       "      <td>1283984</td>\n",
       "      <td>4.5</td>\n",
       "      <td>La información que comparte es muy buena para quien no tiene noción de la plataforma. Tengo conocimientos de electrónica y habia escuchado del sistema Arduino, pero no habia interactuado con el. Con este curso, siento que estaré listo para seguir por mi cuenta. En un principio es demasiado básico pero se entiende que es para todos los niveles, solo hay que tener un poco de paciencia.</td>\n",
       "      <td>Nicolas Ramírez</td>\n",
       "      <td>pos</td>\n",
       "    </tr>\n",
       "    <tr>\n",
       "      <th>18536</th>\n",
       "      <td>57008576</td>\n",
       "      <td>2831988</td>\n",
       "      <td>5.0</td>\n",
       "      <td>Excelente curso, muy buen manejo del SQL</td>\n",
       "      <td>Sergio Ricaurte Robles</td>\n",
       "      <td>pos</td>\n",
       "    </tr>\n",
       "    <tr>\n",
       "      <th>11499</th>\n",
       "      <td>34010050</td>\n",
       "      <td>101866</td>\n",
       "      <td>5.0</td>\n",
       "      <td>Muy buen curso para aprender lo básico de JS</td>\n",
       "      <td>Jhoan Manuel Ricardo Moreno Sánchez</td>\n",
       "      <td>pos</td>\n",
       "    </tr>\n",
       "    <tr>\n",
       "      <th>20483</th>\n",
       "      <td>74941028</td>\n",
       "      <td>2575928</td>\n",
       "      <td>4.5</td>\n",
       "      <td>Enseñas bien pero vas muy rápido.</td>\n",
       "      <td>Jose Danilo Ayala</td>\n",
       "      <td>pos</td>\n",
       "    </tr>\n",
       "  </tbody>\n",
       "</table>\n",
       "</div>"
      ],
      "text/plain": [
       "             id   course  rating                                                                                                                                                                                                                                                                                                                                                                                             comment                                 user  tag\n",
       "24485  88666284  2851496     5.0                                                                                                                                                                                                                                                                                                                                                             Como siempre excelente contenido salu2.               Jhonatan Ortiz Cabezas  pos\n",
       "12564  11903352  1283984     4.5  La información que comparte es muy buena para quien no tiene noción de la plataforma. Tengo conocimientos de electrónica y habia escuchado del sistema Arduino, pero no habia interactuado con el. Con este curso, siento que estaré listo para seguir por mi cuenta. En un principio es demasiado básico pero se entiende que es para todos los niveles, solo hay que tener un poco de paciencia.                      Nicolas Ramírez  pos\n",
       "18536  57008576  2831988     5.0                                                                                                                                                                                                                                                                                                                                                            Excelente curso, muy buen manejo del SQL               Sergio Ricaurte Robles  pos\n",
       "11499  34010050   101866     5.0                                                                                                                                                                                                                                                                                                                                                        Muy buen curso para aprender lo básico de JS  Jhoan Manuel Ricardo Moreno Sánchez  pos\n",
       "20483  74941028  2575928     4.5                                                                                                                                                                                                                                                                                                                                                                   Enseñas bien pero vas muy rápido.                    Jose Danilo Ayala  pos"
      ]
     },
     "execution_count": 3,
     "metadata": {},
     "output_type": "execute_result"
    }
   ],
   "source": [
    "import pandas as pd\n",
    "df_reviews = pd.read_pickle(\"udemy_reviews.pkl\")\n",
    "# Aplica pos/neg\n",
    "df_reviews['tag']=df_reviews['rating'].apply(lambda x: 'pos' if x > 4 else 'neg')\n",
    "# Filtra los que solamente dicen una palabra (ej. \"Excelente!\")\n",
    "df_reviews = df_reviews[df_reviews['comment'].str.contains(\"\\s\")]\n",
    "# Filtra los que dicen menos de 12 letras (ej. \"Excelente!\")\n",
    "df_reviews = df_reviews[df_reviews['comment'].str.len() >= 12]\n",
    "#df_reviews = df_reviews.sample(2000)\n",
    "df_reviews.sample(5)"
   ]
  },
  {
   "cell_type": "code",
   "execution_count": 4,
   "metadata": {},
   "outputs": [
    {
     "data": {
      "text/html": [
       "<div>\n",
       "<style scoped>\n",
       "    .dataframe tbody tr th:only-of-type {\n",
       "        vertical-align: middle;\n",
       "    }\n",
       "\n",
       "    .dataframe tbody tr th {\n",
       "        vertical-align: top;\n",
       "    }\n",
       "\n",
       "    .dataframe thead th {\n",
       "        text-align: right;\n",
       "    }\n",
       "</style>\n",
       "<table border=\"1\" class=\"dataframe\">\n",
       "  <thead>\n",
       "    <tr style=\"text-align: right;\">\n",
       "      <th></th>\n",
       "      <th>review</th>\n",
       "      <th>tag</th>\n",
       "    </tr>\n",
       "  </thead>\n",
       "  <tbody>\n",
       "    <tr>\n",
       "      <th>6545</th>\n",
       "      <td>como introducción esta bien pero deberían de hacerlo mas dirigido a RPA con fotos de RPAS</td>\n",
       "      <td>neg</td>\n",
       "    </tr>\n",
       "    <tr>\n",
       "      <th>6546</th>\n",
       "      <td>Los conocimientos son claros y concisos para lo requerido</td>\n",
       "      <td>pos</td>\n",
       "    </tr>\n",
       "    <tr>\n",
       "      <th>6548</th>\n",
       "      <td>Excelente !!!</td>\n",
       "      <td>pos</td>\n",
       "    </tr>\n",
       "    <tr>\n",
       "      <th>6733</th>\n",
       "      <td>Excelente todo!</td>\n",
       "      <td>pos</td>\n",
       "    </tr>\n",
       "    <tr>\n",
       "      <th>6734</th>\n",
       "      <td>Explican poco... se lee la mayoría</td>\n",
       "      <td>neg</td>\n",
       "    </tr>\n",
       "  </tbody>\n",
       "</table>\n",
       "</div>"
      ],
      "text/plain": [
       "                                                                                         review  tag\n",
       "6545  como introducción esta bien pero deberían de hacerlo mas dirigido a RPA con fotos de RPAS  neg\n",
       "6546                                  Los conocimientos son claros y concisos para lo requerido  pos\n",
       "6548                                                                              Excelente !!!  pos\n",
       "6733                                                                            Excelente todo!  pos\n",
       "6734                                                         Explican poco... se lee la mayoría  neg"
      ]
     },
     "execution_count": 4,
     "metadata": {},
     "output_type": "execute_result"
    }
   ],
   "source": [
    "df = df_reviews[['comment','tag']].rename(columns={'comment': 'review'})\n",
    "df.head(5)"
   ]
  },
  {
   "cell_type": "code",
   "execution_count": 5,
   "metadata": {
    "id": "T_Y7jefW1bcj"
   },
   "outputs": [],
   "source": [
    "df = df.sample(frac=1,random_state=0).reset_index(drop=True).copy()\n",
    "# separamos entre train y test sets\n",
    "X = df.review\n",
    "y = df.tag\n",
    "X_train_text, X_test_text, y_train, y_test = train_test_split(X,y,stratify=y, test_size=0.20, random_state=1234)\n",
    "\n",
    "# Limpieza del texto\n",
    "def clean_text(text):\n",
    "  # En este caso particular no hace falta limpiar los textos\n",
    "  return text.strip()\n",
    "\n",
    "def tokenizer(text):\n",
    "    return [w for w in word_tokenize(text) if w.isalpha()] # si solo nos interesan palabras"
   ]
  },
  {
   "cell_type": "code",
   "execution_count": 6,
   "metadata": {},
   "outputs": [
    {
     "data": {
      "text/plain": [
       "(125684, 31421)"
      ]
     },
     "execution_count": 6,
     "metadata": {},
     "output_type": "execute_result"
    }
   ],
   "source": [
    "len(X_train_text),len(X_test_text)"
   ]
  },
  {
   "cell_type": "markdown",
   "metadata": {
    "id": "_anROJS01bco"
   },
   "source": [
    "# Naive Bayes con GridSearch y PreProcesamiento"
   ]
  },
  {
   "cell_type": "code",
   "execution_count": 7,
   "metadata": {
    "id": "kuaPEovO1bdu"
   },
   "outputs": [],
   "source": [
    "# Defino el pipeline\n",
    "pipeline_NB = Pipeline([('tfidf', TfidfVectorizer(preprocessor=clean_text, tokenizer=tokenizer, stop_words=\"english\")),\n",
    "                     ('clf', MultinomialNB())])\n",
    "\n",
    "parameters_NB = {'tfidf__ngram_range': [(1, 2)],\n",
    "              'tfidf__min_df': [0.05, 0.1],\n",
    "              'clf__alpha': [0.01,0.1]}\n",
    "\n",
    "# Fit and tune model\n",
    "clf_pipe_feature_sel_NB = GridSearchCV(pipeline_NB, parameters_NB,scoring='f1_macro',cv=5,return_train_score=True, n_jobs=-1)\n",
    "clf_pipe_feature_sel_NB.fit(X_train_text, y_train);"
   ]
  },
  {
   "cell_type": "code",
   "execution_count": 8,
   "metadata": {
    "colab": {
     "base_uri": "https://localhost:8080/"
    },
    "id": "rel4pctz1bdx",
    "outputId": "b5d04e59-8900-4bea-dd43-b2d3d144492b"
   },
   "outputs": [
    {
     "name": "stdout",
     "output_type": "stream",
     "text": [
      "Best Cross-Validation: 0.49387114715127395\n",
      "\n",
      "Best parameters set:\n",
      "tfidf__ngram_range: (1, 2)\n",
      "tfidf__min_df: 0.05\n",
      "clf__alpha: 0.1\n"
     ]
    }
   ],
   "source": [
    "best_pipeline_feature_sel_NB = clf_pipe_feature_sel_NB.best_estimator_\n",
    "print(\"Best Cross-Validation:\",clf_pipe_feature_sel_NB.best_score_)\n",
    "print(\"\\nBest parameters set:\")\n",
    "best_parameters_NB = best_pipeline_feature_sel_NB.get_params()\n",
    "print(\"tfidf__ngram_range:\",best_parameters_NB[\"tfidf__ngram_range\"])\n",
    "print(\"tfidf__min_df:\",best_parameters_NB[\"tfidf__min_df\"])\n",
    "print(\"clf__alpha:\",best_parameters_NB[\"clf__alpha\"])"
   ]
  },
  {
   "cell_type": "markdown",
   "metadata": {
    "id": "oog6X-wS1bc4"
   },
   "source": [
    "# Regresión Logística\n",
    "\n",
    "\n",
    "---\n",
    "\n",
    "\n"
   ]
  },
  {
   "cell_type": "code",
   "execution_count": 9,
   "metadata": {
    "colab": {
     "base_uri": "https://localhost:8080/"
    },
    "id": "KZbbObaZ1bc5",
    "outputId": "df339703-b33d-4e31-8c43-1115ab17f898"
   },
   "outputs": [
    {
     "name": "stderr",
     "output_type": "stream",
     "text": [
      "C:\\Users\\Faolin\\anaconda3\\lib\\site-packages\\sklearn\\model_selection\\_search.py:922: UserWarning: One or more of the test scores are non-finite: [       nan 0.58915778]\n",
      "  warnings.warn(\n",
      "C:\\Users\\Faolin\\anaconda3\\lib\\site-packages\\sklearn\\model_selection\\_search.py:922: UserWarning: One or more of the train scores are non-finite: [       nan 0.58960754]\n",
      "  warnings.warn(\n"
     ]
    }
   ],
   "source": [
    "pipeline_log = Pipeline([('tfidf', TfidfVectorizer(preprocessor=clean_text, tokenizer=tokenizer, stop_words=\"english\")),\n",
    "                     ('clf', LogisticRegression(random_state=0, multi_class='ovr'))])\n",
    "\n",
    "parameters_log = {'tfidf__ngram_range': [(1, 2)],\n",
    "              'tfidf__min_df': [.05],\n",
    "              'clf__penalty': ['l1','l2']}\n",
    "\n",
    "# Fit and tune model\n",
    "clf_pipe_feature_sel_log = GridSearchCV(pipeline_log, parameters_log,scoring='f1_macro',cv=5,return_train_score=True, n_jobs=-1)\n",
    "clf_pipe_feature_sel_log.fit(X_train_text, y_train);\n"
   ]
  },
  {
   "cell_type": "code",
   "execution_count": 10,
   "metadata": {
    "colab": {
     "base_uri": "https://localhost:8080/"
    },
    "id": "8gUei-vaAQEQ",
    "outputId": "7c9d693d-ba39-4be3-b5cf-b4d89ff546d5"
   },
   "outputs": [
    {
     "name": "stdout",
     "output_type": "stream",
     "text": [
      "Best Cross-Validation: 0.5891577776899307\n",
      "\n",
      "Best parameters set:\n",
      "tfidf__ngram_range: (1, 2)\n",
      "tfidf__min_df: 0.05\n",
      "clf__alpha: l2\n"
     ]
    }
   ],
   "source": [
    "best_pipeline_feature_sel_log = clf_pipe_feature_sel_log.best_estimator_\n",
    "print(\"Best Cross-Validation:\",clf_pipe_feature_sel_log.best_score_)\n",
    "print(\"\\nBest parameters set:\")\n",
    "best_parameters_log = best_pipeline_feature_sel_log.get_params()\n",
    "print(\"tfidf__ngram_range:\",best_parameters_log[\"tfidf__ngram_range\"])\n",
    "print(\"tfidf__min_df:\",best_parameters_log[\"tfidf__min_df\"])\n",
    "print(\"clf__alpha:\",best_parameters_log[\"clf__penalty\"])"
   ]
  },
  {
   "cell_type": "markdown",
   "metadata": {
    "id": "WRiGJ9lV1bc_"
   },
   "source": [
    "# Feature Importance\n"
   ]
  },
  {
   "cell_type": "code",
   "execution_count": 11,
   "metadata": {
    "id": "bO4Pu5ITLf7m"
   },
   "outputs": [],
   "source": [
    "pipeline_FI = Pipeline([('tfidf', TfidfVectorizer(preprocessor=clean_text, \n",
    "                                               tokenizer=tokenizer, \n",
    "                                               stop_words=\"english\", \n",
    "                                               ngram_range = (1,1),\n",
    "                                               min_df      = best_parameters_log[\"tfidf__min_df\"])),\n",
    "                     ('clf', LogisticRegression(random_state=0, \n",
    "                                                multi_class='ovr',\n",
    "                                                solver = 'lbfgs',\n",
    "                                                penalty = best_parameters_log[\"clf__penalty\"]))])\n",
    "\n",
    "m = pipeline_FI.fit(X_train_text, y_train)\n",
    "\n",
    "features = m[0].vocabulary_\n",
    "weights  = m[1].coef_[0]\n"
   ]
  },
  {
   "cell_type": "markdown",
   "metadata": {
    "id": "GrvsRkCpLr-d"
   },
   "source": [
    "## Palabras importantes para clasificar reviews Postitivos"
   ]
  },
  {
   "cell_type": "code",
   "execution_count": 12,
   "metadata": {
    "colab": {
     "base_uri": "https://localhost:8080/",
     "height": 470
    },
    "id": "EOh8VmJr1bc8",
    "outputId": "8737a94c-bc05-47c7-c895-e47edbdc007a"
   },
   "outputs": [
    {
     "data": {
      "text/plain": [
       "(array([-0.5,  0. ,  0.5,  1. ,  1.5,  2. ,  2.5,  3. ,  3.5,  4. ]),\n",
       " [Text(0, 0, ''),\n",
       "  Text(0, 0, ''),\n",
       "  Text(0, 0, ''),\n",
       "  Text(0, 0, ''),\n",
       "  Text(0, 0, ''),\n",
       "  Text(0, 0, ''),\n",
       "  Text(0, 0, ''),\n",
       "  Text(0, 0, ''),\n",
       "  Text(0, 0, ''),\n",
       "  Text(0, 0, '')])"
      ]
     },
     "execution_count": 12,
     "metadata": {},
     "output_type": "execute_result"
    },
    {
     "data": {
      "image/png": "[encoded data removed]",
      "text/plain": [
       "<Figure size 1080x360 with 1 Axes>"
      ]
     },
     "metadata": {
      "needs_background": "light"
     },
     "output_type": "display_data"
    }
   ],
   "source": [
    "important_Poswords = pd.Series(weights,index=features).sort_values(ascending=False)[:25]\n",
    "important_Poswords.plot(kind=\"bar\",figsize=(15,5),color=\"darkgreen\")\n",
    "plt.ylabel(\"Feature importance\",size=20);plt.xticks(size = 20);plt.yticks(size = 20)"
   ]
  },
  {
   "cell_type": "markdown",
   "metadata": {
    "id": "16ymztdUl5to"
   },
   "source": [
    "## Palabras importantes para clasificar reviews Negativos"
   ]
  },
  {
   "cell_type": "code",
   "execution_count": 13,
   "metadata": {
    "colab": {
     "base_uri": "https://localhost:8080/",
     "height": 472
    },
    "id": "B2072JVzDrfp",
    "outputId": "b960e420-12b7-4e87-ccf0-4e8a1adc5496"
   },
   "outputs": [
    {
     "data": {
      "text/plain": [
       "(array([-2.5, -2. , -1.5, -1. , -0.5,  0. ,  0.5]),\n",
       " [Text(0, 0, ''),\n",
       "  Text(0, 0, ''),\n",
       "  Text(0, 0, ''),\n",
       "  Text(0, 0, ''),\n",
       "  Text(0, 0, ''),\n",
       "  Text(0, 0, ''),\n",
       "  Text(0, 0, '')])"
      ]
     },
     "execution_count": 13,
     "metadata": {},
     "output_type": "execute_result"
    },
    {
     "data": {
      "image/png": "[encoded data removed]",
      "text/plain": [
       "<Figure size 1080x360 with 1 Axes>"
      ]
     },
     "metadata": {
      "needs_background": "light"
     },
     "output_type": "display_data"
    }
   ],
   "source": [
    "important_Negwords = pd.Series(weights,index=features).sort_values(ascending=False)[-25:]\n",
    "important_Negwords.plot(kind=\"bar\",figsize=(15,5),color=\"darkgreen\")\n",
    "plt.ylabel(\"Feature importance\",size=20);plt.xticks(size = 20);plt.yticks(size = 20)"
   ]
  },
  {
   "cell_type": "code",
   "execution_count": null,
   "metadata": {
    "id": "ZuuiUtoNqsRr"
   },
   "outputs": [],
   "source": []
  },
  {
   "cell_type": "code",
   "execution_count": null,
   "metadata": {
    "colab": {
     "base_uri": "https://localhost:8080/"
    },
    "id": "2Ozun_Fztiat",
    "outputId": "e9aa85fa-a8ea-4d19-e684-3d97a53a227e"
   },
   "outputs": [],
   "source": [
    "pipeline_NN = Pipeline([('tfidf', TfidfVectorizer(preprocessor=clean_text, tokenizer=tokenizer, stop_words=\"english\")),\n",
    "                     ('clf', MLPClassifier())])\n",
    "parameters_NN = {'tfidf__ngram_range': [(1,2)],\n",
    "              'tfidf__min_df': [.05],\n",
    "              'clf__alpha':[1],\n",
    "              'clf__learning_rate_init': [0.001,0.0001],\n",
    "              'clf__hidden_layer_sizes': [(100),(1000),(10,10)]}\n",
    "\n",
    "# Fit and tune model\n",
    "clf_pipe_feature_sel_NN = GridSearchCV(pipeline_NN, parameters_NN,scoring='f1_macro',cv=5,return_train_score=True, n_jobs=-1)\n",
    "clf_pipe_feature_sel_NN.fit(X_train_text, y_train);\n"
   ]
  },
  {
   "cell_type": "code",
   "execution_count": null,
   "metadata": {
    "id": "4zSyS-Efo-Vj"
   },
   "outputs": [],
   "source": [
    "best_pipeline_feature_sel_NN = clf_pipe_feature_sel_NN.best_estimator_\n",
    "print(\"Best Cross-Validation:\",clf_pipe_feature_sel_NN.best_score_)\n",
    "best_parameters_NN = best_pipeline_feature_sel_NN.get_params()\n",
    "print(\"tfidf__ngram_range:\",best_parameters_NN[\"tfidf__ngram_range\"])\n",
    "print(\"tfidf__min_df:\",best_parameters_NN[\"tfidf__min_df\"])\n",
    "print(\"clf__alpha:\",best_parameters_NN[\"clf__alpha\"])\n",
    "print(\"clf__learning_rate_init:\",best_parameters_NN[\"clf__learning_rate_init\"])\n",
    "print(\"clf__hidden_layer_sizes:\",best_parameters_NN[\"clf__hidden_layer_sizes\"])\n",
    "\n"
   ]
  },
  {
   "cell_type": "markdown",
   "metadata": {},
   "source": [
    "# Performance en el TestSet\n",
    "\n",
    "> Indented block\n",
    "\n"
   ]
  },
  {
   "cell_type": "code",
   "execution_count": null,
   "metadata": {
    "colab": {
     "base_uri": "https://localhost:8080/"
    },
    "id": "ViiQHAcc-jZd",
    "outputId": "64016239-ed4c-49e7-a71f-e37a1540b95e"
   },
   "outputs": [],
   "source": [
    "best_pipeline_feature_sel_NN = clf_pipe_feature_sel_NN.best_estimator_\n",
    "print(\"Best Cross-Validation:\",clf_pipe_feature_sel_NN.best_score_)\n",
    "best_parameters_NN = best_pipeline_feature_sel_NN.get_params()\n",
    "print(\"tfidf__ngram_range:\",best_parameters_NN[\"tfidf__ngram_range\"])\n",
    "print(\"tfidf__min_df:\",best_parameters_NN[\"tfidf__min_df\"])\n",
    "print(\"clf__alpha:\",best_parameters_NN[\"clf__alpha\"])\n",
    "print(\"clf__learning_rate_init:\",best_parameters_NN[\"clf__learning_rate_init\"])\n",
    "print(\"clf__hidden_layer_sizes:\",best_parameters_NN[\"clf__hidden_layer_sizes\"])\n",
    "\n"
   ]
  },
  {
   "cell_type": "markdown",
   "metadata": {
    "id": "YHMiVUjV1bdK"
   },
   "source": [
    "# TF-IDF\n",
    "### ejemplo"
   ]
  },
  {
   "cell_type": "code",
   "execution_count": null,
   "metadata": {
    "id": "qyMJsb4Q1bdL"
   },
   "outputs": [],
   "source": [
    "vectorizer = TfidfVectorizer(preprocessor=clean_text, tokenizer=tokenizer)"
   ]
  },
  {
   "cell_type": "code",
   "execution_count": null,
   "metadata": {
    "id": "1uCXGusJ1bdN"
   },
   "outputs": [],
   "source": [
    "train_text = [\"mono mono cabra\",\n",
    "              \"mono mono elefante\",\n",
    "              \"mono mono\",\n",
    "              \"mono mono mono mono\",\n",
    "              \"mono\",\n",
    "              \"mono\",\n",
    "              \"elefante\"]"
   ]
  },
  {
   "cell_type": "code",
   "execution_count": null,
   "metadata": {
    "id": "GUxyNe1N1bdQ"
   },
   "outputs": [],
   "source": [
    "tfidf = vectorizer.fit_transform(train_text)"
   ]
  },
  {
   "cell_type": "code",
   "execution_count": null,
   "metadata": {
    "colab": {
     "base_uri": "https://localhost:8080/"
    },
    "id": "gjR6R1Sj1bdS",
    "outputId": "0527ccb3-c130-4905-af60-66c042d696f2"
   },
   "outputs": [],
   "source": [
    "print(vectorizer.get_feature_names())"
   ]
  },
  {
   "cell_type": "code",
   "execution_count": null,
   "metadata": {
    "colab": {
     "base_uri": "https://localhost:8080/"
    },
    "id": "u6-FRIXT1bdX",
    "outputId": "eccddfa5-39a8-4c3e-e0f1-f816c2080904"
   },
   "outputs": [],
   "source": [
    "tfidf.toarray()"
   ]
  },
  {
   "cell_type": "code",
   "execution_count": null,
   "metadata": {
    "colab": {
     "base_uri": "https://localhost:8080/"
    },
    "id": "i6sSa1cr1bdb",
    "outputId": "ca502bd8-51d3-48b1-9efd-85b7c3f5f376"
   },
   "outputs": [],
   "source": [
    "vectorizer.idf_"
   ]
  },
  {
   "cell_type": "code",
   "execution_count": null,
   "metadata": {
    "colab": {
     "base_uri": "https://localhost:8080/"
    },
    "id": "ovJuxEId1bdf",
    "outputId": "0829c3c4-a3b4-4129-bc1b-16267e9755e2"
   },
   "outputs": [],
   "source": [
    "vectorizer.transform([\"mono cabra\",\n",
    "                      \"mono cabra elefante\",\n",
    "                      \"perro mono\"]).toarray()"
   ]
  },
  {
   "cell_type": "code",
   "execution_count": null,
   "metadata": {
    "id": "XJuzq5xcqn48"
   },
   "outputs": [],
   "source": []
  },
  {
   "cell_type": "code",
   "execution_count": null,
   "metadata": {
    "id": "i22FF1ka-g5u"
   },
   "outputs": [],
   "source": []
  },
  {
   "cell_type": "code",
   "execution_count": null,
   "metadata": {},
   "outputs": [],
   "source": []
  },
  {
   "cell_type": "code",
   "execution_count": null,
   "metadata": {},
   "outputs": [],
   "source": []
  }
 ],
 "metadata": {
  "colab": {
   "collapsed_sections": [],
   "name": "3. Clasificacion.ipynb",
   "provenance": []
  },
  "kernelspec": {
   "display_name": "Python 3 (ipykernel)",
   "language": "python",
   "name": "python3"
  },
  "language_info": {
   "codemirror_mode": {
    "name": "ipython",
    "version": 3
   },
   "file_extension": ".py",
   "mimetype": "text/x-python",
   "name": "python",
   "nbconvert_exporter": "python",
   "pygments_lexer": "ipython3",
   "version": "3.8.8"
  }
 },
 "nbformat": 4,
 "nbformat_minor": 4
}
