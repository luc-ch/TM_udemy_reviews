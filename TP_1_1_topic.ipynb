{
 "cells": [
  {
   "cell_type": "code",
   "execution_count": 1,
   "id": "fa9e13bc-60a1-4fbf-abe0-4fea8cb8143a",
   "metadata": {},
   "outputs": [
    {
     "data": {
      "text/html": [
       "<div>\n",
       "<style scoped>\n",
       "    .dataframe tbody tr th:only-of-type {\n",
       "        vertical-align: middle;\n",
       "    }\n",
       "\n",
       "    .dataframe tbody tr th {\n",
       "        vertical-align: top;\n",
       "    }\n",
       "\n",
       "    .dataframe thead th {\n",
       "        text-align: right;\n",
       "    }\n",
       "</style>\n",
       "<table border=\"1\" class=\"dataframe\">\n",
       "  <thead>\n",
       "    <tr style=\"text-align: right;\">\n",
       "      <th></th>\n",
       "      <th>id</th>\n",
       "      <th>course</th>\n",
       "      <th>rating</th>\n",
       "      <th>comment</th>\n",
       "      <th>user</th>\n",
       "      <th>tag</th>\n",
       "    </tr>\n",
       "  </thead>\n",
       "  <tbody>\n",
       "    <tr>\n",
       "      <th>31980</th>\n",
       "      <td>71752316</td>\n",
       "      <td>611804</td>\n",
       "      <td>4.0</td>\n",
       "      <td>excelente</td>\n",
       "      <td>Josué David Cutire Condori</td>\n",
       "      <td>neg</td>\n",
       "    </tr>\n",
       "    <tr>\n",
       "      <th>13100</th>\n",
       "      <td>47206248</td>\n",
       "      <td>976214</td>\n",
       "      <td>5.0</td>\n",
       "      <td>bueno</td>\n",
       "      <td>Kemy Joan Hinostroza Jorge</td>\n",
       "      <td>pos</td>\n",
       "    </tr>\n",
       "    <tr>\n",
       "      <th>63013</th>\n",
       "      <td>56588464</td>\n",
       "      <td>749262</td>\n",
       "      <td>5.0</td>\n",
       "      <td>El profesor comprte trucos que agilizan la tar...</td>\n",
       "      <td>Roxana Paola Crisanto Silupú</td>\n",
       "      <td>pos</td>\n",
       "    </tr>\n",
       "    <tr>\n",
       "      <th>40518</th>\n",
       "      <td>61854062</td>\n",
       "      <td>2221894</td>\n",
       "      <td>4.0</td>\n",
       "      <td>Increíble el curso...nos encanto aprender a ha...</td>\n",
       "      <td>Cesar Duran</td>\n",
       "      <td>neg</td>\n",
       "    </tr>\n",
       "    <tr>\n",
       "      <th>53153</th>\n",
       "      <td>83398846</td>\n",
       "      <td>1159626</td>\n",
       "      <td>5.0</td>\n",
       "      <td>Excelente curso</td>\n",
       "      <td>Hortensia Artidiello</td>\n",
       "      <td>pos</td>\n",
       "    </tr>\n",
       "    <tr>\n",
       "      <th>54530</th>\n",
       "      <td>45545637</td>\n",
       "      <td>1690922</td>\n",
       "      <td>5.0</td>\n",
       "      <td>Bastante bien explicado, casos teóricos entend...</td>\n",
       "      <td>Omar Avila</td>\n",
       "      <td>pos</td>\n",
       "    </tr>\n",
       "    <tr>\n",
       "      <th>54414</th>\n",
       "      <td>34271518</td>\n",
       "      <td>1902716</td>\n",
       "      <td>3.0</td>\n",
       "      <td>Regular, el sonido no es bueno y el close capt...</td>\n",
       "      <td>Héctor García Elejalde</td>\n",
       "      <td>neg</td>\n",
       "    </tr>\n",
       "    <tr>\n",
       "      <th>36932</th>\n",
       "      <td>6325622</td>\n",
       "      <td>899474</td>\n",
       "      <td>5.0</td>\n",
       "      <td>explica lo necesario y de forma clara</td>\n",
       "      <td>Graciela</td>\n",
       "      <td>pos</td>\n",
       "    </tr>\n",
       "    <tr>\n",
       "      <th>24981</th>\n",
       "      <td>76419762</td>\n",
       "      <td>3446356</td>\n",
       "      <td>3.5</td>\n",
       "      <td>no me cuesta trabajo entender, pero sin duda (...</td>\n",
       "      <td>Ivan Vladimir Vera Amieva</td>\n",
       "      <td>neg</td>\n",
       "    </tr>\n",
       "    <tr>\n",
       "      <th>29604</th>\n",
       "      <td>88436054</td>\n",
       "      <td>1512696</td>\n",
       "      <td>4.0</td>\n",
       "      <td>Si !!!</td>\n",
       "      <td>Roberto Adasme</td>\n",
       "      <td>neg</td>\n",
       "    </tr>\n",
       "  </tbody>\n",
       "</table>\n",
       "</div>"
      ],
      "text/plain": [
       "             id   course  rating  \\\n",
       "31980  71752316   611804     4.0   \n",
       "13100  47206248   976214     5.0   \n",
       "63013  56588464   749262     5.0   \n",
       "40518  61854062  2221894     4.0   \n",
       "53153  83398846  1159626     5.0   \n",
       "54530  45545637  1690922     5.0   \n",
       "54414  34271518  1902716     3.0   \n",
       "36932   6325622   899474     5.0   \n",
       "24981  76419762  3446356     3.5   \n",
       "29604  88436054  1512696     4.0   \n",
       "\n",
       "                                                 comment  \\\n",
       "31980                                          excelente   \n",
       "13100                                              bueno   \n",
       "63013  El profesor comprte trucos que agilizan la tar...   \n",
       "40518  Increíble el curso...nos encanto aprender a ha...   \n",
       "53153                                    Excelente curso   \n",
       "54530  Bastante bien explicado, casos teóricos entend...   \n",
       "54414  Regular, el sonido no es bueno y el close capt...   \n",
       "36932              explica lo necesario y de forma clara   \n",
       "24981  no me cuesta trabajo entender, pero sin duda (...   \n",
       "29604                                             Si !!!   \n",
       "\n",
       "                               user  tag  \n",
       "31980    Josué David Cutire Condori  neg  \n",
       "13100    Kemy Joan Hinostroza Jorge  pos  \n",
       "63013  Roxana Paola Crisanto Silupú  pos  \n",
       "40518                   Cesar Duran  neg  \n",
       "53153          Hortensia Artidiello  pos  \n",
       "54530                    Omar Avila  pos  \n",
       "54414        Héctor García Elejalde  neg  \n",
       "36932                      Graciela  pos  \n",
       "24981     Ivan Vladimir Vera Amieva  neg  \n",
       "29604                Roberto Adasme  neg  "
      ]
     },
     "execution_count": 1,
     "metadata": {},
     "output_type": "execute_result"
    }
   ],
   "source": [
    "import pandas as pd\n",
    "df = pd.read_pickle(\"udemy_reviews.pkl\")\n",
    "df['tag']=df['rating'].apply(lambda x: 'pos' if x > 4 else 'neg')\n",
    "df.sample(10)"
   ]
  },
  {
   "cell_type": "code",
   "execution_count": 2,
   "id": "3184e864-80c4-4ba3-95c1-6507f1a9c7d9",
   "metadata": {},
   "outputs": [
    {
     "data": {
      "text/plain": [
       "5065"
      ]
     },
     "execution_count": 2,
     "metadata": {},
     "output_type": "execute_result"
    }
   ],
   "source": [
    "# cantidad de cursos distintos sobre los que se analizan las reviews\n",
    "len(pd.unique(df['course']))"
   ]
  },
  {
   "cell_type": "code",
   "execution_count": 3,
   "id": "74670a22-8d16-4ee8-9588-464f8f95487d",
   "metadata": {},
   "outputs": [
    {
     "data": {
      "text/plain": [
       "174141"
      ]
     },
     "execution_count": 3,
     "metadata": {},
     "output_type": "execute_result"
    }
   ],
   "source": [
    "# cantidad de reviews\n",
    "len(df)"
   ]
  },
  {
   "cell_type": "code",
   "execution_count": 4,
   "id": "ccb3892f-b863-4f58-8265-5226e89edc9a",
   "metadata": {},
   "outputs": [
    {
     "data": {
      "text/plain": [
       "pos    126660\n",
       "neg     47481\n",
       "Name: tag, dtype: int64"
      ]
     },
     "execution_count": 4,
     "metadata": {},
     "output_type": "execute_result"
    }
   ],
   "source": [
    "# Cantidad de reviews positivas y negativas\n",
    "df['tag'].value_counts()"
   ]
  },
  {
   "cell_type": "code",
   "execution_count": 5,
   "id": "2af3a824-377c-4652-9f19-eba30ebfb848",
   "metadata": {},
   "outputs": [],
   "source": [
    "from nltk import word_tokenize, sent_tokenize\n",
    "import re"
   ]
  },
  {
   "cell_type": "code",
   "execution_count": 6,
   "id": "fae01c81-3b3a-4432-b5ac-30be7ef66285",
   "metadata": {},
   "outputs": [],
   "source": [
    "texts_by_sentences = []\n",
    "for rev in df['comment']:\n",
    "    rev = rev.lower()\n",
    "    rev = re.sub('<.*?>',' ',rev)\n",
    "    sentences = sent_tokenize(rev)\n",
    "    for sent in sentences:\n",
    "        texts_by_sentences.append([word for word in word_tokenize(sent) if word.isalpha()])"
   ]
  },
  {
   "cell_type": "code",
   "execution_count": 7,
   "id": "d7def035-2ea7-4c56-ae41-6b0a1e9c8d90",
   "metadata": {},
   "outputs": [
    {
     "data": {
      "text/plain": [
       "[['como',\n",
       "  'introducción',\n",
       "  'esta',\n",
       "  'bien',\n",
       "  'pero',\n",
       "  'deberían',\n",
       "  'de',\n",
       "  'hacerlo',\n",
       "  'mas',\n",
       "  'dirigido',\n",
       "  'a',\n",
       "  'rpa',\n",
       "  'con',\n",
       "  'fotos',\n",
       "  'de',\n",
       "  'rpas'],\n",
       " ['los',\n",
       "  'conocimientos',\n",
       "  'son',\n",
       "  'claros',\n",
       "  'y',\n",
       "  'concisos',\n",
       "  'para',\n",
       "  'lo',\n",
       "  'requerido'],\n",
       " ['hermoso']]"
      ]
     },
     "execution_count": 7,
     "metadata": {},
     "output_type": "execute_result"
    }
   ],
   "source": [
    "texts_by_sentences[:3]"
   ]
  },
  {
   "cell_type": "code",
   "execution_count": 8,
   "id": "e6653045-3b19-4f6c-9863-230a333bfdc6",
   "metadata": {},
   "outputs": [
    {
     "name": "stdout",
     "output_type": "stream",
     "text": [
      "el corpus tiene 242744 oraciones y 2619372 palabras\n"
     ]
    }
   ],
   "source": [
    "print(f\"el corpus tiene {len(texts_by_sentences)} oraciones y {sum([len(x) for x in texts_by_sentences])} palabras\")"
   ]
  },
  {
   "cell_type": "code",
   "execution_count": 9,
   "id": "4c55ba7a-c2b7-4a03-9ab5-a7f479d923d2",
   "metadata": {},
   "outputs": [],
   "source": [
    "from gensim.models import Phrases\n",
    "from gensim.models.phrases import Phraser\n",
    "\n",
    "collocations = Phrases(sentences=texts_by_sentences, \n",
    "                       min_count=3, threshold=0.4, scoring='npmi')\n",
    "to_collocations = Phraser(collocations)\n",
    "data_ngrams = to_collocations[texts_by_sentences]"
   ]
  },
  {
   "cell_type": "code",
   "execution_count": 10,
   "id": "c7018c3f-0d9a-40ef-84e1-6b9a0880584b",
   "metadata": {},
   "outputs": [
    {
     "data": {
      "text/plain": [
       "6047"
      ]
     },
     "execution_count": 10,
     "metadata": {},
     "output_type": "execute_result"
    }
   ],
   "source": [
    "len(collocations.export_phrases())\n",
    "\n",
    "# algunas collocations:\n",
    "#  super_recomendado\n",
    "#  página_oficial\n",
    "#  buen_ritmo\n",
    "#  vida_profesional"
   ]
  },
  {
   "cell_type": "code",
   "execution_count": 11,
   "id": "dbc3e4e5-3855-4bc5-b4fd-63d4ff096ff4",
   "metadata": {},
   "outputs": [
    {
     "data": {
      "text/plain": [
       "<gensim.interfaces.TransformedCorpus at 0x260f828f910>"
      ]
     },
     "execution_count": 11,
     "metadata": {},
     "output_type": "execute_result"
    }
   ],
   "source": [
    "data_ngrams"
   ]
  },
  {
   "cell_type": "code",
   "execution_count": 12,
   "id": "64cb1e01-30ac-43b4-a6c4-bff8c757e24e",
   "metadata": {},
   "outputs": [
    {
     "data": {
      "text/plain": [
       "(5820, 2)"
      ]
     },
     "execution_count": 12,
     "metadata": {},
     "output_type": "execute_result"
    }
   ],
   "source": [
    "from gensim.models.phrases import Phrases, Phraser\n",
    "\n",
    "df_collocations = pd.DataFrame([x for x in collocations.find_phrases(texts_by_sentences).items()],\n",
    "                               columns=[\"bigram\",\"score\"])\n",
    "df_collocations.shape"
   ]
  },
  {
   "cell_type": "code",
   "execution_count": 13,
   "id": "3335ff7e-32bc-41a1-87fd-c78d9475ee69",
   "metadata": {},
   "outputs": [
    {
     "data": {
      "text/html": [
       "<div>\n",
       "<style scoped>\n",
       "    .dataframe tbody tr th:only-of-type {\n",
       "        vertical-align: middle;\n",
       "    }\n",
       "\n",
       "    .dataframe tbody tr th {\n",
       "        vertical-align: top;\n",
       "    }\n",
       "\n",
       "    .dataframe thead th {\n",
       "        text-align: right;\n",
       "    }\n",
       "</style>\n",
       "<table border=\"1\" class=\"dataframe\">\n",
       "  <thead>\n",
       "    <tr style=\"text-align: right;\">\n",
       "      <th></th>\n",
       "      <th>bigram</th>\n",
       "      <th>score</th>\n",
       "    </tr>\n",
       "  </thead>\n",
       "  <tbody>\n",
       "    <tr>\n",
       "      <th>3173</th>\n",
       "      <td>touch_fwconsole</td>\n",
       "      <td>1.000000</td>\n",
       "    </tr>\n",
       "    <tr>\n",
       "      <th>5355</th>\n",
       "      <td>dalla_benetta</td>\n",
       "      <td>1.000000</td>\n",
       "    </tr>\n",
       "    <tr>\n",
       "      <th>5733</th>\n",
       "      <td>capio_biogás</td>\n",
       "      <td>1.000000</td>\n",
       "    </tr>\n",
       "    <tr>\n",
       "      <th>2024</th>\n",
       "      <td>packet_tracer</td>\n",
       "      <td>0.995215</td>\n",
       "    </tr>\n",
       "    <tr>\n",
       "      <th>3479</th>\n",
       "      <td>qi_gong</td>\n",
       "      <td>0.992972</td>\n",
       "    </tr>\n",
       "    <tr>\n",
       "      <th>2943</th>\n",
       "      <td>allen_bradley</td>\n",
       "      <td>0.990725</td>\n",
       "    </tr>\n",
       "    <tr>\n",
       "      <th>5723</th>\n",
       "      <td>blue_phoenix</td>\n",
       "      <td>0.989594</td>\n",
       "    </tr>\n",
       "    <tr>\n",
       "      <th>3781</th>\n",
       "      <td>lazy_load</td>\n",
       "      <td>0.988130</td>\n",
       "    </tr>\n",
       "    <tr>\n",
       "      <th>5497</th>\n",
       "      <td>pixel_art</td>\n",
       "      <td>0.988020</td>\n",
       "    </tr>\n",
       "    <tr>\n",
       "      <th>3167</th>\n",
       "      <td>vielen_dank</td>\n",
       "      <td>0.983338</td>\n",
       "    </tr>\n",
       "  </tbody>\n",
       "</table>\n",
       "</div>"
      ],
      "text/plain": [
       "               bigram     score\n",
       "3173  touch_fwconsole  1.000000\n",
       "5355    dalla_benetta  1.000000\n",
       "5733     capio_biogás  1.000000\n",
       "2024    packet_tracer  0.995215\n",
       "3479          qi_gong  0.992972\n",
       "2943    allen_bradley  0.990725\n",
       "5723     blue_phoenix  0.989594\n",
       "3781        lazy_load  0.988130\n",
       "5497        pixel_art  0.988020\n",
       "3167      vielen_dank  0.983338"
      ]
     },
     "execution_count": 13,
     "metadata": {},
     "output_type": "execute_result"
    }
   ],
   "source": [
    "df_collocations = df_collocations.drop_duplicates().sort_values(by='score',ascending=False)\n",
    "df_collocations.head(10)"
   ]
  },
  {
   "cell_type": "code",
   "execution_count": 14,
   "id": "3c946ac3-acca-418d-8f72-bb140b93580a",
   "metadata": {},
   "outputs": [],
   "source": [
    "from gensim.models import Word2Vec\n",
    "\n",
    "w2v_model = Word2Vec(sentences=data_ngrams, \n",
    "                 workers=4, vector_size=20, min_count=10, window=10,\n",
    "                 sample=1e-3, negative=5, sg=1)\n"
   ]
  },
  {
   "cell_type": "code",
   "execution_count": 15,
   "id": "3ee9366c-c309-4eba-b7b2-da794176f797",
   "metadata": {},
   "outputs": [
    {
     "data": {
      "text/plain": [
       "array([-0.18754354, -0.5596569 ,  1.1118038 ,  0.659424  ,  0.3268008 ,\n",
       "        0.57661074,  0.33021903, -0.48809192,  0.35598928, -0.19273773,\n",
       "        1.019242  , -0.55781734,  0.28589052,  0.3287943 , -0.3105603 ,\n",
       "        0.4214851 ,  0.30508074,  0.15681122, -0.60300416, -0.36157164],\n",
       "      dtype=float32)"
      ]
     },
     "execution_count": 15,
     "metadata": {},
     "output_type": "execute_result"
    }
   ],
   "source": [
    "w2v_model.wv[\"excelente\"]"
   ]
  },
  {
   "cell_type": "code",
   "execution_count": 16,
   "id": "7bb250ea-f6e6-4cdd-bf29-228df953b71f",
   "metadata": {},
   "outputs": [
    {
     "data": {
      "text/plain": [
       "0.53571326"
      ]
     },
     "execution_count": 16,
     "metadata": {},
     "output_type": "execute_result"
    }
   ],
   "source": [
    "w2v_model.wv.similarity(\"comunicación\",\"profesor\")"
   ]
  },
  {
   "cell_type": "code",
   "execution_count": 17,
   "id": "cf278ac9-8b1d-4b44-871b-14e638bc0bd4",
   "metadata": {},
   "outputs": [
    {
     "data": {
      "text/plain": [
       "[('muy_buena', 0.9140053391456604),\n",
       " ('exelente', 0.9043107628822327),\n",
       " ('excelete', 0.8969972133636475),\n",
       " ('buenisima', 0.8716444969177246),\n",
       " ('gran', 0.8660933971405029),\n",
       " ('impecable', 0.8634282350540161),\n",
       " ('brillante', 0.8402697443962097),\n",
       " ('perfecta', 0.8369444608688354),\n",
       " ('extraordinaria', 0.8357675671577454),\n",
       " ('excelnte', 0.8335145711898804)]"
      ]
     },
     "execution_count": 17,
     "metadata": {},
     "output_type": "execute_result"
    }
   ],
   "source": [
    "w2v_model.wv.most_similar(\"excelente\")"
   ]
  },
  {
   "cell_type": "code",
   "execution_count": 18,
   "id": "85619b3e-ec39-4c14-9516-083b7db07382",
   "metadata": {},
   "outputs": [
    {
     "data": {
      "text/plain": [
       "[('palabra', 0.8982869982719421),\n",
       " ('receta', 0.8909982442855835),\n",
       " ('chica', 0.8711385726928711),\n",
       " ('velocidad', 0.8491659164428711),\n",
       " ('lección', 0.8413988351821899),\n",
       " ('pizarra', 0.8368756175041199),\n",
       " ('imagen', 0.8298501372337341),\n",
       " ('gráfica', 0.8268459439277649),\n",
       " ('secuencia', 0.8177201747894287),\n",
       " ('utilizada', 0.8173375129699707)]"
      ]
     },
     "execution_count": 18,
     "metadata": {},
     "output_type": "execute_result"
    }
   ],
   "source": [
    "w2v_model.wv.most_similar(positive=\"clase\",topn=10)"
   ]
  },
  {
   "cell_type": "code",
   "execution_count": 19,
   "id": "976cce44-ab33-4afa-9255-09dbc32e6efb",
   "metadata": {},
   "outputs": [
    {
     "data": {
      "text/plain": [
       "12451"
      ]
     },
     "execution_count": 19,
     "metadata": {},
     "output_type": "execute_result"
    }
   ],
   "source": [
    "from gensim.corpora import Dictionary\n",
    "\n",
    "dictionary = Dictionary(texts_by_sentences)\n",
    "\n",
    "\n",
    "dictionary.filter_extremes(no_below=5, no_above=0.3)#, keep_n=10000)\n",
    "#dictionary.filter_n_most_frequent(10000)\n",
    "len(dictionary)"
   ]
  },
  {
   "cell_type": "code",
   "execution_count": 20,
   "id": "a3234f22-26cf-4e5b-9604-18bb390d39c2",
   "metadata": {},
   "outputs": [
    {
     "data": {
      "text/plain": [
       "[(0, 'a'),\n",
       " (1, 'bien'),\n",
       " (2, 'como'),\n",
       " (3, 'con'),\n",
       " (4, 'de'),\n",
       " (5, 'deberían'),\n",
       " (6, 'dirigido'),\n",
       " (7, 'esta'),\n",
       " (8, 'fotos'),\n",
       " (9, 'hacerlo'),\n",
       " (10, 'introducción'),\n",
       " (11, 'mas'),\n",
       " (12, 'pero'),\n",
       " (13, 'rpa'),\n",
       " (14, 'claros')]"
      ]
     },
     "execution_count": 20,
     "metadata": {},
     "output_type": "execute_result"
    }
   ],
   "source": [
    "list(dictionary.iteritems())[:15]"
   ]
  },
  {
   "cell_type": "code",
   "execution_count": 21,
   "id": "41c1e316-ea8c-40d7-8dc0-b9479e35cb20",
   "metadata": {},
   "outputs": [],
   "source": [
    "from gensim import models\n",
    "\n",
    "corpus = [dictionary.doc2bow(line) for line in texts_by_sentences]\n",
    "tfidf = models.TfidfModel(corpus)\n",
    "corpus_tfidf = tfidf[corpus]"
   ]
  },
  {
   "cell_type": "code",
   "execution_count": 22,
   "id": "996eb6e9-5380-4de5-99c3-b9d66497a679",
   "metadata": {},
   "outputs": [],
   "source": [
    "n_topics = 40\n",
    "lsa_tfidf = models.LsiModel(corpus_tfidf,\n",
    "                            id2word=dictionary,\n",
    "                            num_topics=n_topics)"
   ]
  },
  {
   "cell_type": "code",
   "execution_count": 23,
   "id": "5c50ef1d-0b2c-4a68-945e-d229415c051f",
   "metadata": {},
   "outputs": [
    {
     "data": {
      "text/plain": [
       "[(36, 0.5518219619851673),\n",
       " (37, 0.19210459995191465),\n",
       " (38, 0.16428657019436574),\n",
       " (16, 0.07537895666652157),\n",
       " (25, 0.06478142326062918),\n",
       " (31, 0.05554759137057093),\n",
       " (29, 0.043500191920834715),\n",
       " (1, 0.029091825088525987),\n",
       " (7, 0.028985011641871315),\n",
       " (15, 0.02881222230284073)]"
      ]
     },
     "execution_count": 23,
     "metadata": {},
     "output_type": "execute_result"
    }
   ],
   "source": [
    "vect_profesor = lsa_tfidf[dictionary.doc2bow([\"profesor\"])]\n",
    "vect_profesor.sort(key = lambda x: -x[1]) \n",
    "vect_profesor[0:10]"
   ]
  },
  {
   "cell_type": "code",
   "execution_count": 24,
   "id": "a3dd786a-5e28-4cc9-80e7-126b266b7238",
   "metadata": {},
   "outputs": [
    {
     "data": {
      "text/plain": [
       "[('profesor', 0.5518219619851673),\n",
       " ('bien', -0.24706628631021346),\n",
       " ('bastante', -0.2365234645765334),\n",
       " ('explica', 0.2362330935660254),\n",
       " ('explicado', 0.23553323057882974),\n",
       " ('momento', -0.2287199711216232),\n",
       " ('por', -0.22715386251923989),\n",
       " ('esta', 0.20455794510768885),\n",
       " ('ahora', 0.1899588700077436),\n",
       " ('contenido', -0.16609043949615473),\n",
       " ('paso', 0.14776679220565853),\n",
       " ('un', 0.13503045023388835),\n",
       " ('hasta', 0.11997611816091926),\n",
       " ('está', -0.11368730959557906),\n",
       " ('básico', -0.10744885750105052)]"
      ]
     },
     "execution_count": 24,
     "metadata": {},
     "output_type": "execute_result"
    }
   ],
   "source": [
    "lsa_tfidf.show_topic(36,topn=15)"
   ]
  },
  {
   "cell_type": "code",
   "execution_count": 25,
   "id": "56278f60-5eea-4a8f-b228-d2c05019eabf",
   "metadata": {},
   "outputs": [
    {
     "data": {
      "text/plain": [
       "[(20, 0.13510972833141863),\n",
       " (35, 0.12923618787816188),\n",
       " (18, 0.12675323191951351),\n",
       " (16, 0.08448674934624853),\n",
       " (22, 0.0665707686889756),\n",
       " (23, 0.06203758284081345),\n",
       " (19, 0.040755043993810226),\n",
       " (15, 0.04050470451748275),\n",
       " (12, 0.032406605187537324),\n",
       " (24, 0.03158212414534204)]"
      ]
     },
     "execution_count": 25,
     "metadata": {},
     "output_type": "execute_result"
    }
   ],
   "source": [
    "vect_explicaciones = lsa_tfidf[dictionary.doc2bow([\"explicaciones\"])]\n",
    "vect_explicaciones.sort(key = lambda x: -x[1]) \n",
    "vect_explicaciones[0:10]"
   ]
  },
  {
   "cell_type": "code",
   "execution_count": 26,
   "id": "42048219-f444-49ef-94a3-c768b2211cd2",
   "metadata": {},
   "outputs": [
    {
     "data": {
      "text/plain": [
       "[('por', 0.411266125418683),\n",
       " ('ha', 0.3618961553902305),\n",
       " ('los', -0.28662540068811854),\n",
       " ('mucho', -0.2621821217681002),\n",
       " ('sido', 0.2288161033210032),\n",
       " ('paso', 0.21518938415914565),\n",
       " ('contenido', -0.18219531836548195),\n",
       " ('hasta', -0.1676879608946621),\n",
       " ('gusto', -0.14898267431627302),\n",
       " ('conceptos', -0.14618734057051913),\n",
       " ('a', 0.14188394038074173),\n",
       " ('explicaciones', 0.1292361878781618),\n",
       " ('ahora', -0.12910962322756012),\n",
       " ('fue', -0.12273486865019946),\n",
       " ('momento', 0.11942032034798539)]"
      ]
     },
     "execution_count": 26,
     "metadata": {},
     "output_type": "execute_result"
    }
   ],
   "source": [
    "lsa_tfidf.show_topic(35,topn=15)"
   ]
  },
  {
   "cell_type": "code",
   "execution_count": 27,
   "id": "ff9a1265-a709-47b5-8c39-76d2a7d58151",
   "metadata": {},
   "outputs": [
    {
     "name": "stdout",
     "output_type": "stream",
     "text": [
      "0 excelente curso muy bien explicado\n",
      "1 muy bien excelente explicado buen\n",
      "2 gracias muchas bien explicado muy\n",
      "3 si buena bien explicado elección\n",
      "4 buen si bien curso explicado\n",
      "5 si buena elección buen muy\n",
      "6 buen bueno buena curso el\n",
      "7 bueno muy si que de\n",
      "8 claro interesante muy elección bueno\n",
      "9 hasta momento ahora elección explicación\n",
      "10 interesante claro todo hasta curso\n",
      "11 elección claro explicación hasta buena\n",
      "12 recomiendo lo curso elección buen\n",
      "13 recomiendo lo me curso buen\n",
      "14 me mucho es curso recomiendo\n",
      "15 recomendado es muy explicado explica\n",
      "16 explicación recomendado explicado explica recomiendo\n",
      "17 explica explicado bien explicación elección\n",
      "18 recomendable completo muy claro todo\n",
      "19 muchas gracias es un me\n",
      "20 es un muchas curso me\n",
      "21 todo recomendable el contenido momento\n",
      "22 recomendable completo el ahora contenido\n",
      "23 fue eleccion elección una esta\n",
      "24 todo completo contenido esta el\n",
      "25 todo esta fue eleccion completo\n",
      "26 esta de fácil entender explicaciones\n",
      "27 explicaciones las claras esta completo\n",
      "28 bastante muy es un por\n",
      "29 saludos por ahora momento contenido\n",
      "30 saludos ahora por momento bastante\n",
      "31 genial explicaciones la ha bastante\n",
      "32 bastante contenido un genial por\n",
      "33 ha sido contenido fácil momento\n",
      "34 la mucho fácil genial entender\n",
      "35 por ha los mucho sido\n",
      "36 profesor bien bastante explica explicado\n",
      "37 contenido por los para se\n",
      "38 los estoy con mucho bastante\n",
      "39 paso profesor para a un\n"
     ]
    }
   ],
   "source": [
    "#Las palabras que tienen más presencia en cada topic set\n",
    "for k in range(40):\n",
    "    x = lsa_tfidf.show_topic(k,topn=5)\n",
    "    print(k,x[0][0],x[1][0],x[2][0],x[3][0],x[4][0])"
   ]
  },
  {
   "cell_type": "code",
   "execution_count": null,
   "id": "d6fe6c6e-d567-4af5-a8d5-3f4c4d4c69f9",
   "metadata": {},
   "outputs": [],
   "source": []
  }
 ],
 "metadata": {
  "kernelspec": {
   "display_name": "Python 3 (ipykernel)",
   "language": "python",
   "name": "python3"
  },
  "language_info": {
   "codemirror_mode": {
    "name": "ipython",
    "version": 3
   },
   "file_extension": ".py",
   "mimetype": "text/x-python",
   "name": "python",
   "nbconvert_exporter": "python",
   "pygments_lexer": "ipython3",
   "version": "3.8.8"
  }
 },
 "nbformat": 4,
 "nbformat_minor": 5
}
