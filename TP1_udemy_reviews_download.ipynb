{
 "cells": [
  {
   "cell_type": "code",
   "execution_count": 1,
   "id": "caafa23f-6265-417f-a19c-ac4b21f2a24f",
   "metadata": {},
   "outputs": [],
   "source": [
    "from pyudemy import Udemy"
   ]
  },
  {
   "cell_type": "code",
   "execution_count": 2,
   "id": "5f7996bb-9772-4554-9ec6-ee6db8fc882f",
   "metadata": {},
   "outputs": [],
   "source": [
    "udemy = Udemy('dGcCZ6GgzOSxIG6xJMlTvsoqURVZFwkkN6tO5Vzs','2qCeE91UiBLiOa5ey1pGJj65vB9dehzgo5LrR6rcWs7Ppv8LuuGNkXL5WvF3y6zBypdcGMqT0wuCD5ObptrMnfzgloy5B83jxfRLCDlkAVk0igyp1XvSdSPIC0D5kzIs')"
   ]
  },
  {
   "cell_type": "code",
   "execution_count": 3,
   "id": "712fbab4-0bf3-45f0-866f-c30d739de089",
   "metadata": {},
   "outputs": [
    {
     "data": {
      "text/plain": [
       "8673"
      ]
     },
     "execution_count": 3,
     "metadata": {},
     "output_type": "execute_result"
    }
   ],
   "source": [
    "udict = udemy.courses(ratings=4,language='es',price='price-paid',ordering='price-low-to-high')\n",
    "udict['count']"
   ]
  },
  {
   "cell_type": "code",
   "execution_count": 4,
   "id": "b184c0b7-d6c4-48bf-8015-80f52b3eac08",
   "metadata": {},
   "outputs": [
    {
     "name": "stdout",
     "output_type": "stream",
     "text": [
      "count\n",
      "next\n",
      "previous\n",
      "results\n",
      "aggregations\n",
      "search_tracking_id\n"
     ]
    }
   ],
   "source": [
    "for k in udict:\n",
    "    print(k)"
   ]
  },
  {
   "cell_type": "code",
   "execution_count": 5,
   "id": "07ece733-ff16-4999-82d4-a8b24e5d699e",
   "metadata": {},
   "outputs": [],
   "source": [
    "from tqdm import tqdm\n",
    "from math import ceil\n",
    "import time\n",
    "import pandas as pd\n",
    "from IPython.display import display, HTML\n",
    "\n",
    "def get_reviews(price='price-paid',ordering='price-high-to-low',instructional_level='intermediate',primary_category='',primary_subcategory='Data Science',page_size=100):\n",
    "    #page_size=100\n",
    "    print(f\"language='es',price={price},ordering={ordering},instructional_level={instructional_level},primary_category={primary_category},primary_subcategory={primary_subcategory},page_size={page_size}\")\n",
    "    udict = udemy.courses(language='es',price=price,ordering=ordering,instructional_level=instructional_level,primary_category=primary_category,primary_subcategory=primary_subcategory,page_size=page_size,page=1)\n",
    "    print(f\"udict['count'] {udict['count']}\")\n",
    "\n",
    "    arr = []\n",
    "    N = ceil(udict['count']/page_size)\n",
    "\n",
    "    for n in range(N):\n",
    "        udict = udemy.courses(language='es',price=price,ordering=ordering,instructional_level=instructional_level,primary_category=primary_category,primary_subcategory=primary_subcategory,page_size=page_size,page=n)\n",
    "        time.sleep(1)\n",
    "        print(n*page_size,n*page_size+len(udict['results']),len(arr))\n",
    "        for course in tqdm(udict['results']):\n",
    "            rdict = udemy.course_reviews(course['id'], page=1, page_size=page_size)\n",
    "            time.sleep(1)\n",
    "            M = ceil(rdict['count']/page_size)\n",
    "            M = min(M,25)\n",
    "            for m in range(M):\n",
    "                try:\n",
    "                    rdict = udemy.course_reviews(course['id'], page=m, page_size=page_size)\n",
    "                    for r in rdict['results']:\n",
    "                        if r['content']!='':\n",
    "                            arr.append({'id':r['id'],'course':course['id'],'rating':r['rating'],'comment':r['content'],'user':r['user']['display_name']})\n",
    "                    time.sleep(.2)\n",
    "                except:\n",
    "                    time.sleep(1)\n",
    "                    print(\"retry\")\n",
    "                    rdict = udemy.course_reviews(course['id'], page=m, page_size=page_size)\n",
    "                    for r in rdict['results']:\n",
    "                        if r['content']!='':\n",
    "                            arr.append({'id':r['id'],'course':course['id'],'rating':r['rating'],'comment':r['content'],'user':r['user']['display_name']})\n",
    "                    time.sleep(.2)\n",
    "\n",
    "    try:\n",
    "        df = pd.read_pickle(\"./udemy_reviews.pkl\")\n",
    "    except:\n",
    "        df = pd.DataFrame()\n",
    "    df2 = pd.DataFrame(arr)\n",
    "    df = pd.concat([df,df2])\n",
    "    df.drop_duplicates(subset=['id'], keep='last', inplace=True)\n",
    "    df2.to_pickle(f\"./udemy_reviews_{price}_{instructional_level}_{primary_subcategory}.pkl\")\n",
    "    df.to_pickle(f\"./udemy_reviews.pkl\")\n",
    "    print(len(df2))\n",
    "    display(df.tail())"
   ]
  },
  {
   "cell_type": "code",
   "execution_count": null,
   "id": "7477f360-a847-44b5-892f-6e917b29ddb2",
   "metadata": {},
   "outputs": [],
   "source": [
    "get_reviews(instructional_level='expert')"
   ]
  },
  {
   "cell_type": "code",
   "execution_count": 6,
   "id": "c18db25d-539d-4dde-8898-91f8ce880397",
   "metadata": {},
   "outputs": [
    {
     "name": "stdout",
     "output_type": "stream",
     "text": [
      "language='es',price=price-paid,ordering=price-high-to-low,instructional_level=intermediate,primary_category=,primary_subcategory=Data Science,page_size=100\n",
      "udict['count'] 2001\n",
      "0 100 0\n"
     ]
    },
    {
     "name": "stderr",
     "output_type": "stream",
     "text": [
      "100%|████████████████████████████████████████████████████████████████████████████████| 100/100 [04:25<00:00,  2.66s/it]\n"
     ]
    },
    {
     "name": "stdout",
     "output_type": "stream",
     "text": [
      "100 200 1440\n"
     ]
    },
    {
     "name": "stderr",
     "output_type": "stream",
     "text": [
      "100%|████████████████████████████████████████████████████████████████████████████████| 100/100 [05:12<00:00,  3.13s/it]\n"
     ]
    },
    {
     "name": "stdout",
     "output_type": "stream",
     "text": [
      "200 300 3211\n"
     ]
    },
    {
     "name": "stderr",
     "output_type": "stream",
     "text": [
      "100%|████████████████████████████████████████████████████████████████████████████████| 100/100 [04:13<00:00,  2.53s/it]\n"
     ]
    },
    {
     "name": "stdout",
     "output_type": "stream",
     "text": [
      "300 400 3839\n"
     ]
    },
    {
     "name": "stderr",
     "output_type": "stream",
     "text": [
      "100%|████████████████████████████████████████████████████████████████████████████████| 100/100 [04:46<00:00,  2.87s/it]\n"
     ]
    },
    {
     "name": "stdout",
     "output_type": "stream",
     "text": [
      "400 500 5694\n"
     ]
    },
    {
     "name": "stderr",
     "output_type": "stream",
     "text": [
      "100%|████████████████████████████████████████████████████████████████████████████████| 100/100 [04:28<00:00,  2.69s/it]\n"
     ]
    },
    {
     "name": "stdout",
     "output_type": "stream",
     "text": [
      "500 600 6841\n"
     ]
    },
    {
     "name": "stderr",
     "output_type": "stream",
     "text": [
      "100%|████████████████████████████████████████████████████████████████████████████████| 100/100 [05:06<00:00,  3.07s/it]\n"
     ]
    },
    {
     "name": "stdout",
     "output_type": "stream",
     "text": [
      "600 700 8726\n"
     ]
    },
    {
     "name": "stderr",
     "output_type": "stream",
     "text": [
      "100%|████████████████████████████████████████████████████████████████████████████████| 100/100 [04:13<00:00,  2.54s/it]\n"
     ]
    },
    {
     "name": "stdout",
     "output_type": "stream",
     "text": [
      "700 800 9877\n"
     ]
    },
    {
     "name": "stderr",
     "output_type": "stream",
     "text": [
      "100%|████████████████████████████████████████████████████████████████████████████████| 100/100 [05:32<00:00,  3.33s/it]\n"
     ]
    },
    {
     "name": "stdout",
     "output_type": "stream",
     "text": [
      "800 900 12856\n"
     ]
    },
    {
     "name": "stderr",
     "output_type": "stream",
     "text": [
      "100%|████████████████████████████████████████████████████████████████████████████████| 100/100 [04:06<00:00,  2.46s/it]\n"
     ]
    },
    {
     "name": "stdout",
     "output_type": "stream",
     "text": [
      "900 1000 13695\n"
     ]
    },
    {
     "name": "stderr",
     "output_type": "stream",
     "text": [
      "100%|████████████████████████████████████████████████████████████████████████████████| 100/100 [05:01<00:00,  3.02s/it]\n"
     ]
    },
    {
     "name": "stdout",
     "output_type": "stream",
     "text": [
      "1000 1100 14945\n"
     ]
    },
    {
     "name": "stderr",
     "output_type": "stream",
     "text": [
      "100%|████████████████████████████████████████████████████████████████████████████████| 100/100 [04:52<00:00,  2.92s/it]\n"
     ]
    },
    {
     "name": "stdout",
     "output_type": "stream",
     "text": [
      "1100 1200 17043\n"
     ]
    },
    {
     "name": "stderr",
     "output_type": "stream",
     "text": [
      "100%|████████████████████████████████████████████████████████████████████████████████| 100/100 [04:50<00:00,  2.90s/it]\n"
     ]
    },
    {
     "name": "stdout",
     "output_type": "stream",
     "text": [
      "1200 1300 18953\n"
     ]
    },
    {
     "name": "stderr",
     "output_type": "stream",
     "text": [
      "100%|████████████████████████████████████████████████████████████████████████████████| 100/100 [04:46<00:00,  2.87s/it]\n"
     ]
    },
    {
     "name": "stdout",
     "output_type": "stream",
     "text": [
      "1300 1400 20361\n"
     ]
    },
    {
     "name": "stderr",
     "output_type": "stream",
     "text": [
      "100%|████████████████████████████████████████████████████████████████████████████████| 100/100 [04:56<00:00,  2.96s/it]\n"
     ]
    },
    {
     "name": "stdout",
     "output_type": "stream",
     "text": [
      "1400 1500 22046\n"
     ]
    },
    {
     "name": "stderr",
     "output_type": "stream",
     "text": [
      "100%|████████████████████████████████████████████████████████████████████████████████| 100/100 [04:38<00:00,  2.78s/it]\n"
     ]
    },
    {
     "name": "stdout",
     "output_type": "stream",
     "text": [
      "1500 1600 23440\n"
     ]
    },
    {
     "name": "stderr",
     "output_type": "stream",
     "text": [
      "100%|████████████████████████████████████████████████████████████████████████████████| 100/100 [04:23<00:00,  2.63s/it]\n"
     ]
    },
    {
     "name": "stdout",
     "output_type": "stream",
     "text": [
      "1600 1700 24906\n"
     ]
    },
    {
     "name": "stderr",
     "output_type": "stream",
     "text": [
      "100%|████████████████████████████████████████████████████████████████████████████████| 100/100 [04:20<00:00,  2.61s/it]\n"
     ]
    },
    {
     "name": "stdout",
     "output_type": "stream",
     "text": [
      "1700 1800 26278\n"
     ]
    },
    {
     "name": "stderr",
     "output_type": "stream",
     "text": [
      "100%|████████████████████████████████████████████████████████████████████████████████| 100/100 [04:34<00:00,  2.74s/it]\n"
     ]
    },
    {
     "name": "stdout",
     "output_type": "stream",
     "text": [
      "1800 1900 28326\n"
     ]
    },
    {
     "name": "stderr",
     "output_type": "stream",
     "text": [
      "100%|████████████████████████████████████████████████████████████████████████████████| 100/100 [06:00<00:00,  3.60s/it]\n"
     ]
    },
    {
     "name": "stdout",
     "output_type": "stream",
     "text": [
      "1900 2000 31752\n"
     ]
    },
    {
     "name": "stderr",
     "output_type": "stream",
     "text": [
      "100%|████████████████████████████████████████████████████████████████████████████████| 100/100 [04:03<00:00,  2.44s/it]\n"
     ]
    },
    {
     "name": "stdout",
     "output_type": "stream",
     "text": [
      "2000 2100 32832\n"
     ]
    },
    {
     "name": "stderr",
     "output_type": "stream",
     "text": [
      "100%|████████████████████████████████████████████████████████████████████████████████| 100/100 [04:08<00:00,  2.48s/it]\n"
     ]
    },
    {
     "name": "stdout",
     "output_type": "stream",
     "text": [
      "33829\n"
     ]
    },
    {
     "data": {
      "text/html": [
       "<div>\n",
       "<style scoped>\n",
       "    .dataframe tbody tr th:only-of-type {\n",
       "        vertical-align: middle;\n",
       "    }\n",
       "\n",
       "    .dataframe tbody tr th {\n",
       "        vertical-align: top;\n",
       "    }\n",
       "\n",
       "    .dataframe thead th {\n",
       "        text-align: right;\n",
       "    }\n",
       "</style>\n",
       "<table border=\"1\" class=\"dataframe\">\n",
       "  <thead>\n",
       "    <tr style=\"text-align: right;\">\n",
       "      <th></th>\n",
       "      <th>id</th>\n",
       "      <th>course</th>\n",
       "      <th>rating</th>\n",
       "      <th>comment</th>\n",
       "      <th>user</th>\n",
       "    </tr>\n",
       "  </thead>\n",
       "  <tbody>\n",
       "    <tr>\n",
       "      <th>33824</th>\n",
       "      <td>91535476</td>\n",
       "      <td>4107730</td>\n",
       "      <td>5.0</td>\n",
       "      <td>Me gustó mucho cómo el maestro nos presentó es...</td>\n",
       "      <td>Jimena Arias</td>\n",
       "    </tr>\n",
       "    <tr>\n",
       "      <th>33825</th>\n",
       "      <td>91411448</td>\n",
       "      <td>4107730</td>\n",
       "      <td>5.0</td>\n",
       "      <td>¿Qué es la creatividad para mí? Me llevo esta ...</td>\n",
       "      <td>Armando Rodríguez</td>\n",
       "    </tr>\n",
       "    <tr>\n",
       "      <th>33826</th>\n",
       "      <td>91329792</td>\n",
       "      <td>4107730</td>\n",
       "      <td>5.0</td>\n",
       "      <td>Muy buen contenido y fácil de entender!!</td>\n",
       "      <td>Mau T2</td>\n",
       "    </tr>\n",
       "    <tr>\n",
       "      <th>33827</th>\n",
       "      <td>90680580</td>\n",
       "      <td>4107730</td>\n",
       "      <td>4.5</td>\n",
       "      <td>Si bien es corto me parece muy completo y útil...</td>\n",
       "      <td>Lau Cabrera</td>\n",
       "    </tr>\n",
       "    <tr>\n",
       "      <th>33828</th>\n",
       "      <td>90301730</td>\n",
       "      <td>4107730</td>\n",
       "      <td>5.0</td>\n",
       "      <td>Me fue de mucha utilidad, hay consejos y herra...</td>\n",
       "      <td>Leonel Ponce</td>\n",
       "    </tr>\n",
       "  </tbody>\n",
       "</table>\n",
       "</div>"
      ],
      "text/plain": [
       "             id   course  rating  \\\n",
       "33824  91535476  4107730     5.0   \n",
       "33825  91411448  4107730     5.0   \n",
       "33826  91329792  4107730     5.0   \n",
       "33827  90680580  4107730     4.5   \n",
       "33828  90301730  4107730     5.0   \n",
       "\n",
       "                                                 comment               user  \n",
       "33824  Me gustó mucho cómo el maestro nos presentó es...       Jimena Arias  \n",
       "33825  ¿Qué es la creatividad para mí? Me llevo esta ...  Armando Rodríguez  \n",
       "33826           Muy buen contenido y fácil de entender!!             Mau T2  \n",
       "33827  Si bien es corto me parece muy completo y útil...        Lau Cabrera  \n",
       "33828  Me fue de mucha utilidad, hay consejos y herra...       Leonel Ponce  "
      ]
     },
     "metadata": {},
     "output_type": "display_data"
    }
   ],
   "source": [
    "get_reviews(instructional_level='intermediate')"
   ]
  },
  {
   "cell_type": "code",
   "execution_count": 7,
   "id": "ed6774ac-09b9-4244-bab9-062395b79bab",
   "metadata": {
    "tags": []
   },
   "outputs": [
    {
     "name": "stdout",
     "output_type": "stream",
     "text": [
      "language='es',price=price-paid,ordering=price-high-to-low,instructional_level=beginner,primary_category=,primary_subcategory=Data Science,page_size=100\n",
      "udict['count'] 3999\n",
      "0 100 0\n"
     ]
    },
    {
     "name": "stderr",
     "output_type": "stream",
     "text": [
      "100%|████████████████████████████████████████████████████████████████████████████████| 100/100 [05:40<00:00,  3.40s/it]\n"
     ]
    },
    {
     "name": "stdout",
     "output_type": "stream",
     "text": [
      "100 200 3547\n"
     ]
    },
    {
     "name": "stderr",
     "output_type": "stream",
     "text": [
      "100%|████████████████████████████████████████████████████████████████████████████████| 100/100 [05:39<00:00,  3.40s/it]\n"
     ]
    },
    {
     "name": "stdout",
     "output_type": "stream",
     "text": [
      "200 300 7094\n"
     ]
    },
    {
     "name": "stderr",
     "output_type": "stream",
     "text": [
      "100%|████████████████████████████████████████████████████████████████████████████████| 100/100 [04:43<00:00,  2.84s/it]\n"
     ]
    },
    {
     "name": "stdout",
     "output_type": "stream",
     "text": [
      "300 400 8754\n"
     ]
    },
    {
     "name": "stderr",
     "output_type": "stream",
     "text": [
      "100%|████████████████████████████████████████████████████████████████████████████████| 100/100 [04:10<00:00,  2.51s/it]\n"
     ]
    },
    {
     "name": "stdout",
     "output_type": "stream",
     "text": [
      "400 500 9737\n"
     ]
    },
    {
     "name": "stderr",
     "output_type": "stream",
     "text": [
      "100%|████████████████████████████████████████████████████████████████████████████████| 100/100 [05:59<00:00,  3.59s/it]\n"
     ]
    },
    {
     "name": "stdout",
     "output_type": "stream",
     "text": [
      "500 600 13588\n"
     ]
    },
    {
     "name": "stderr",
     "output_type": "stream",
     "text": [
      "100%|████████████████████████████████████████████████████████████████████████████████| 100/100 [03:39<00:00,  2.19s/it]\n"
     ]
    },
    {
     "name": "stdout",
     "output_type": "stream",
     "text": [
      "600 700 14129\n"
     ]
    },
    {
     "name": "stderr",
     "output_type": "stream",
     "text": [
      "100%|████████████████████████████████████████████████████████████████████████████████| 100/100 [04:04<00:00,  2.44s/it]\n"
     ]
    },
    {
     "name": "stdout",
     "output_type": "stream",
     "text": [
      "700 800 15412\n"
     ]
    },
    {
     "name": "stderr",
     "output_type": "stream",
     "text": [
      "100%|████████████████████████████████████████████████████████████████████████████████| 100/100 [05:31<00:00,  3.31s/it]\n"
     ]
    },
    {
     "name": "stdout",
     "output_type": "stream",
     "text": [
      "800 900 18237\n"
     ]
    },
    {
     "name": "stderr",
     "output_type": "stream",
     "text": [
      "100%|████████████████████████████████████████████████████████████████████████████████| 100/100 [04:20<00:00,  2.60s/it]\n"
     ]
    },
    {
     "name": "stdout",
     "output_type": "stream",
     "text": [
      "900 1000 19578\n"
     ]
    },
    {
     "name": "stderr",
     "output_type": "stream",
     "text": [
      "100%|████████████████████████████████████████████████████████████████████████████████| 100/100 [05:06<00:00,  3.06s/it]\n"
     ]
    },
    {
     "name": "stdout",
     "output_type": "stream",
     "text": [
      "1000 1100 22204\n"
     ]
    },
    {
     "name": "stderr",
     "output_type": "stream",
     "text": [
      "100%|████████████████████████████████████████████████████████████████████████████████| 100/100 [05:12<00:00,  3.12s/it]\n"
     ]
    },
    {
     "name": "stdout",
     "output_type": "stream",
     "text": [
      "1100 1200 24610\n"
     ]
    },
    {
     "name": "stderr",
     "output_type": "stream",
     "text": [
      "100%|████████████████████████████████████████████████████████████████████████████████| 100/100 [04:22<00:00,  2.63s/it]\n"
     ]
    },
    {
     "name": "stdout",
     "output_type": "stream",
     "text": [
      "1200 1300 25884\n"
     ]
    },
    {
     "name": "stderr",
     "output_type": "stream",
     "text": [
      "100%|████████████████████████████████████████████████████████████████████████████████| 100/100 [03:27<00:00,  2.07s/it]\n"
     ]
    },
    {
     "name": "stdout",
     "output_type": "stream",
     "text": [
      "1300 1400 26457\n"
     ]
    },
    {
     "name": "stderr",
     "output_type": "stream",
     "text": [
      "100%|████████████████████████████████████████████████████████████████████████████████| 100/100 [05:30<00:00,  3.31s/it]\n"
     ]
    },
    {
     "name": "stdout",
     "output_type": "stream",
     "text": [
      "1400 1500 29336\n"
     ]
    },
    {
     "name": "stderr",
     "output_type": "stream",
     "text": [
      "100%|████████████████████████████████████████████████████████████████████████████████| 100/100 [04:38<00:00,  2.79s/it]\n"
     ]
    },
    {
     "name": "stdout",
     "output_type": "stream",
     "text": [
      "1500 1600 31128\n"
     ]
    },
    {
     "name": "stderr",
     "output_type": "stream",
     "text": [
      "100%|████████████████████████████████████████████████████████████████████████████████| 100/100 [04:16<00:00,  2.57s/it]\n"
     ]
    },
    {
     "name": "stdout",
     "output_type": "stream",
     "text": [
      "1600 1700 32426\n"
     ]
    },
    {
     "name": "stderr",
     "output_type": "stream",
     "text": [
      "100%|████████████████████████████████████████████████████████████████████████████████| 100/100 [04:15<00:00,  2.55s/it]\n"
     ]
    },
    {
     "name": "stdout",
     "output_type": "stream",
     "text": [
      "1700 1800 33562\n"
     ]
    },
    {
     "name": "stderr",
     "output_type": "stream",
     "text": [
      "100%|████████████████████████████████████████████████████████████████████████████████| 100/100 [03:52<00:00,  2.33s/it]\n"
     ]
    },
    {
     "name": "stdout",
     "output_type": "stream",
     "text": [
      "1800 1900 34235\n"
     ]
    },
    {
     "name": "stderr",
     "output_type": "stream",
     "text": [
      "100%|████████████████████████████████████████████████████████████████████████████████| 100/100 [05:17<00:00,  3.18s/it]\n"
     ]
    },
    {
     "name": "stdout",
     "output_type": "stream",
     "text": [
      "1900 2000 37267\n"
     ]
    },
    {
     "name": "stderr",
     "output_type": "stream",
     "text": [
      "100%|████████████████████████████████████████████████████████████████████████████████| 100/100 [05:08<00:00,  3.09s/it]\n"
     ]
    },
    {
     "name": "stdout",
     "output_type": "stream",
     "text": [
      "2000 2100 39805\n"
     ]
    },
    {
     "name": "stderr",
     "output_type": "stream",
     "text": [
      "100%|████████████████████████████████████████████████████████████████████████████████| 100/100 [04:50<00:00,  2.91s/it]\n"
     ]
    },
    {
     "name": "stdout",
     "output_type": "stream",
     "text": [
      "2100 2200 41847\n"
     ]
    },
    {
     "name": "stderr",
     "output_type": "stream",
     "text": [
      "100%|████████████████████████████████████████████████████████████████████████████████| 100/100 [04:14<00:00,  2.55s/it]\n"
     ]
    },
    {
     "name": "stdout",
     "output_type": "stream",
     "text": [
      "2200 2300 43449\n"
     ]
    },
    {
     "name": "stderr",
     "output_type": "stream",
     "text": [
      "100%|████████████████████████████████████████████████████████████████████████████████| 100/100 [04:39<00:00,  2.79s/it]\n"
     ]
    },
    {
     "name": "stdout",
     "output_type": "stream",
     "text": [
      "2300 2400 45242\n"
     ]
    },
    {
     "name": "stderr",
     "output_type": "stream",
     "text": [
      "100%|████████████████████████████████████████████████████████████████████████████████| 100/100 [03:28<00:00,  2.09s/it]\n"
     ]
    },
    {
     "name": "stdout",
     "output_type": "stream",
     "text": [
      "2400 2500 45578\n"
     ]
    },
    {
     "name": "stderr",
     "output_type": "stream",
     "text": [
      "100%|████████████████████████████████████████████████████████████████████████████████| 100/100 [05:09<00:00,  3.09s/it]\n"
     ]
    },
    {
     "name": "stdout",
     "output_type": "stream",
     "text": [
      "2500 2600 48289\n"
     ]
    },
    {
     "name": "stderr",
     "output_type": "stream",
     "text": [
      "100%|████████████████████████████████████████████████████████████████████████████████| 100/100 [05:23<00:00,  3.23s/it]\n"
     ]
    },
    {
     "name": "stdout",
     "output_type": "stream",
     "text": [
      "2600 2700 50924\n"
     ]
    },
    {
     "name": "stderr",
     "output_type": "stream",
     "text": [
      "100%|████████████████████████████████████████████████████████████████████████████████| 100/100 [04:37<00:00,  2.77s/it]\n"
     ]
    },
    {
     "name": "stdout",
     "output_type": "stream",
     "text": [
      "2700 2800 52763\n"
     ]
    },
    {
     "name": "stderr",
     "output_type": "stream",
     "text": [
      "100%|████████████████████████████████████████████████████████████████████████████████| 100/100 [04:27<00:00,  2.68s/it]\n"
     ]
    },
    {
     "name": "stdout",
     "output_type": "stream",
     "text": [
      "2800 2900 54272\n"
     ]
    },
    {
     "name": "stderr",
     "output_type": "stream",
     "text": [
      "100%|████████████████████████████████████████████████████████████████████████████████| 100/100 [04:13<00:00,  2.54s/it]\n"
     ]
    },
    {
     "name": "stdout",
     "output_type": "stream",
     "text": [
      "2900 3000 55495\n"
     ]
    },
    {
     "name": "stderr",
     "output_type": "stream",
     "text": [
      "100%|████████████████████████████████████████████████████████████████████████████████| 100/100 [04:18<00:00,  2.58s/it]\n"
     ]
    },
    {
     "name": "stdout",
     "output_type": "stream",
     "text": [
      "3000 3100 57366\n"
     ]
    },
    {
     "name": "stderr",
     "output_type": "stream",
     "text": [
      "100%|████████████████████████████████████████████████████████████████████████████████| 100/100 [04:22<00:00,  2.63s/it]\n"
     ]
    },
    {
     "name": "stdout",
     "output_type": "stream",
     "text": [
      "3100 3200 58814\n"
     ]
    },
    {
     "name": "stderr",
     "output_type": "stream",
     "text": [
      "100%|████████████████████████████████████████████████████████████████████████████████| 100/100 [04:32<00:00,  2.72s/it]\n"
     ]
    },
    {
     "name": "stdout",
     "output_type": "stream",
     "text": [
      "3200 3300 60012\n"
     ]
    },
    {
     "name": "stderr",
     "output_type": "stream",
     "text": [
      "100%|████████████████████████████████████████████████████████████████████████████████| 100/100 [06:27<00:00,  3.87s/it]\n"
     ]
    },
    {
     "name": "stdout",
     "output_type": "stream",
     "text": [
      "3300 3400 64118\n"
     ]
    },
    {
     "name": "stderr",
     "output_type": "stream",
     "text": [
      "100%|████████████████████████████████████████████████████████████████████████████████| 100/100 [04:45<00:00,  2.85s/it]\n"
     ]
    },
    {
     "name": "stdout",
     "output_type": "stream",
     "text": [
      "3400 3500 66210\n"
     ]
    },
    {
     "name": "stderr",
     "output_type": "stream",
     "text": [
      "100%|████████████████████████████████████████████████████████████████████████████████| 100/100 [04:28<00:00,  2.68s/it]\n"
     ]
    },
    {
     "name": "stdout",
     "output_type": "stream",
     "text": [
      "3500 3600 67648\n"
     ]
    },
    {
     "name": "stderr",
     "output_type": "stream",
     "text": [
      "100%|████████████████████████████████████████████████████████████████████████████████| 100/100 [05:23<00:00,  3.24s/it]\n"
     ]
    },
    {
     "name": "stdout",
     "output_type": "stream",
     "text": [
      "3600 3700 70785\n"
     ]
    },
    {
     "name": "stderr",
     "output_type": "stream",
     "text": [
      "100%|████████████████████████████████████████████████████████████████████████████████| 100/100 [05:08<00:00,  3.08s/it]\n"
     ]
    },
    {
     "name": "stdout",
     "output_type": "stream",
     "text": [
      "3700 3800 73399\n"
     ]
    },
    {
     "name": "stderr",
     "output_type": "stream",
     "text": [
      "100%|████████████████████████████████████████████████████████████████████████████████| 100/100 [04:21<00:00,  2.62s/it]\n"
     ]
    },
    {
     "name": "stdout",
     "output_type": "stream",
     "text": [
      "3800 3900 74655\n"
     ]
    },
    {
     "name": "stderr",
     "output_type": "stream",
     "text": [
      "100%|████████████████████████████████████████████████████████████████████████████████| 100/100 [04:36<00:00,  2.76s/it]\n"
     ]
    },
    {
     "name": "stdout",
     "output_type": "stream",
     "text": [
      "3900 4000 76522\n"
     ]
    },
    {
     "name": "stderr",
     "output_type": "stream",
     "text": [
      "100%|████████████████████████████████████████████████████████████████████████████████| 100/100 [06:42<00:00,  4.02s/it]\n"
     ]
    },
    {
     "name": "stdout",
     "output_type": "stream",
     "text": [
      "81164\n"
     ]
    },
    {
     "data": {
      "text/html": [
       "<div>\n",
       "<style scoped>\n",
       "    .dataframe tbody tr th:only-of-type {\n",
       "        vertical-align: middle;\n",
       "    }\n",
       "\n",
       "    .dataframe tbody tr th {\n",
       "        vertical-align: top;\n",
       "    }\n",
       "\n",
       "    .dataframe thead th {\n",
       "        text-align: right;\n",
       "    }\n",
       "</style>\n",
       "<table border=\"1\" class=\"dataframe\">\n",
       "  <thead>\n",
       "    <tr style=\"text-align: right;\">\n",
       "      <th></th>\n",
       "      <th>id</th>\n",
       "      <th>course</th>\n",
       "      <th>rating</th>\n",
       "      <th>comment</th>\n",
       "      <th>user</th>\n",
       "    </tr>\n",
       "  </thead>\n",
       "  <tbody>\n",
       "    <tr>\n",
       "      <th>81159</th>\n",
       "      <td>93168442</td>\n",
       "      <td>2967624</td>\n",
       "      <td>5.0</td>\n",
       "      <td>Clara y precisa</td>\n",
       "      <td>Johan Alexander Quiceno Correa</td>\n",
       "    </tr>\n",
       "    <tr>\n",
       "      <th>81160</th>\n",
       "      <td>94145312</td>\n",
       "      <td>3527698</td>\n",
       "      <td>4.5</td>\n",
       "      <td>Me gustó, curso bueno, me hubiera gustado más ...</td>\n",
       "      <td>Antonio Chávez Campos</td>\n",
       "    </tr>\n",
       "    <tr>\n",
       "      <th>81161</th>\n",
       "      <td>82507948</td>\n",
       "      <td>3527698</td>\n",
       "      <td>5.0</td>\n",
       "      <td>Muy buena elección. Tiene bastantes ejemplos y...</td>\n",
       "      <td>Santiago Pérez Barber</td>\n",
       "    </tr>\n",
       "    <tr>\n",
       "      <th>81162</th>\n",
       "      <td>82462688</td>\n",
       "      <td>3527698</td>\n",
       "      <td>4.5</td>\n",
       "      <td>Muy buen curso, es acotado de explicaciones po...</td>\n",
       "      <td>Faram Delherbe Pérez</td>\n",
       "    </tr>\n",
       "    <tr>\n",
       "      <th>81163</th>\n",
       "      <td>89330114</td>\n",
       "      <td>3917994</td>\n",
       "      <td>5.0</td>\n",
       "      <td>Excelente explicación</td>\n",
       "      <td>DANIEL Ferrer Ramirez</td>\n",
       "    </tr>\n",
       "  </tbody>\n",
       "</table>\n",
       "</div>"
      ],
      "text/plain": [
       "             id   course  rating  \\\n",
       "81159  93168442  2967624     5.0   \n",
       "81160  94145312  3527698     4.5   \n",
       "81161  82507948  3527698     5.0   \n",
       "81162  82462688  3527698     4.5   \n",
       "81163  89330114  3917994     5.0   \n",
       "\n",
       "                                                 comment  \\\n",
       "81159                                    Clara y precisa   \n",
       "81160  Me gustó, curso bueno, me hubiera gustado más ...   \n",
       "81161  Muy buena elección. Tiene bastantes ejemplos y...   \n",
       "81162  Muy buen curso, es acotado de explicaciones po...   \n",
       "81163                              Excelente explicación   \n",
       "\n",
       "                                 user  \n",
       "81159  Johan Alexander Quiceno Correa  \n",
       "81160           Antonio Chávez Campos  \n",
       "81161           Santiago Pérez Barber  \n",
       "81162            Faram Delherbe Pérez  \n",
       "81163           DANIEL Ferrer Ramirez  "
      ]
     },
     "metadata": {},
     "output_type": "display_data"
    }
   ],
   "source": [
    "get_reviews(instructional_level='beginner')"
   ]
  },
  {
   "cell_type": "code",
   "execution_count": 8,
   "id": "4e5a910b-03aa-4fac-bc7b-a86d74f1b310",
   "metadata": {},
   "outputs": [
    {
     "name": "stdout",
     "output_type": "stream",
     "text": [
      "language='es',price=price-free,ordering=price-high-to-low,instructional_level=expert,primary_category=,primary_subcategory=Data Science,page_size=100\n",
      "udict['count'] 37\n",
      "0 37 0\n"
     ]
    },
    {
     "name": "stderr",
     "output_type": "stream",
     "text": [
      "100%|██████████████████████████████████████████████████████████████████████████████████| 37/37 [02:10<00:00,  3.52s/it]\n"
     ]
    },
    {
     "name": "stdout",
     "output_type": "stream",
     "text": [
      "924\n"
     ]
    },
    {
     "data": {
      "text/html": [
       "<div>\n",
       "<style scoped>\n",
       "    .dataframe tbody tr th:only-of-type {\n",
       "        vertical-align: middle;\n",
       "    }\n",
       "\n",
       "    .dataframe tbody tr th {\n",
       "        vertical-align: top;\n",
       "    }\n",
       "\n",
       "    .dataframe thead th {\n",
       "        text-align: right;\n",
       "    }\n",
       "</style>\n",
       "<table border=\"1\" class=\"dataframe\">\n",
       "  <thead>\n",
       "    <tr style=\"text-align: right;\">\n",
       "      <th></th>\n",
       "      <th>id</th>\n",
       "      <th>course</th>\n",
       "      <th>rating</th>\n",
       "      <th>comment</th>\n",
       "      <th>user</th>\n",
       "    </tr>\n",
       "  </thead>\n",
       "  <tbody>\n",
       "    <tr>\n",
       "      <th>919</th>\n",
       "      <td>29878830</td>\n",
       "      <td>616490</td>\n",
       "      <td>4.5</td>\n",
       "      <td>Excelente explicación, muy fácil de entender.</td>\n",
       "      <td>Tomas Bernal</td>\n",
       "    </tr>\n",
       "    <tr>\n",
       "      <th>920</th>\n",
       "      <td>29691698</td>\n",
       "      <td>616490</td>\n",
       "      <td>5.0</td>\n",
       "      <td>bastante bien explicado</td>\n",
       "      <td>Carlos Javier Ponce Baez</td>\n",
       "    </tr>\n",
       "    <tr>\n",
       "      <th>921</th>\n",
       "      <td>24882552</td>\n",
       "      <td>616490</td>\n",
       "      <td>4.0</td>\n",
       "      <td>Muy buen curso, y términos explicados.\\nAdemás...</td>\n",
       "      <td>Adrian Calleja Campos</td>\n",
       "    </tr>\n",
       "    <tr>\n",
       "      <th>922</th>\n",
       "      <td>57529183</td>\n",
       "      <td>1635632</td>\n",
       "      <td>5.0</td>\n",
       "      <td>bueno</td>\n",
       "      <td>Manuel Martinez</td>\n",
       "    </tr>\n",
       "    <tr>\n",
       "      <th>923</th>\n",
       "      <td>41250342</td>\n",
       "      <td>1635632</td>\n",
       "      <td>3.0</td>\n",
       "      <td>es bueno, pero hay partes que no termina de ex...</td>\n",
       "      <td>Christian Manuel Montero Flores</td>\n",
       "    </tr>\n",
       "  </tbody>\n",
       "</table>\n",
       "</div>"
      ],
      "text/plain": [
       "           id   course  rating  \\\n",
       "919  29878830   616490     4.5   \n",
       "920  29691698   616490     5.0   \n",
       "921  24882552   616490     4.0   \n",
       "922  57529183  1635632     5.0   \n",
       "923  41250342  1635632     3.0   \n",
       "\n",
       "                                               comment  \\\n",
       "919      Excelente explicación, muy fácil de entender.   \n",
       "920                            bastante bien explicado   \n",
       "921  Muy buen curso, y términos explicados.\\nAdemás...   \n",
       "922                                              bueno   \n",
       "923  es bueno, pero hay partes que no termina de ex...   \n",
       "\n",
       "                                user  \n",
       "919                     Tomas Bernal  \n",
       "920         Carlos Javier Ponce Baez  \n",
       "921            Adrian Calleja Campos  \n",
       "922                  Manuel Martinez  \n",
       "923  Christian Manuel Montero Flores  "
      ]
     },
     "metadata": {},
     "output_type": "display_data"
    }
   ],
   "source": [
    "get_reviews(price='price-free',instructional_level='expert')#,primary_category='IT & Software')"
   ]
  },
  {
   "cell_type": "code",
   "execution_count": 9,
   "id": "7272736b-4679-4275-9d1c-64f9ef2276f8",
   "metadata": {},
   "outputs": [
    {
     "name": "stdout",
     "output_type": "stream",
     "text": [
      "language='es',price=price-free,ordering=price-high-to-low,instructional_level=intermediate,primary_category=,primary_subcategory=Data Science,page_size=100\n",
      "udict['count'] 161\n",
      "0 100 0\n"
     ]
    },
    {
     "name": "stderr",
     "output_type": "stream",
     "text": [
      "100%|████████████████████████████████████████████████████████████████████████████████| 100/100 [07:47<00:00,  4.68s/it]\n"
     ]
    },
    {
     "name": "stdout",
     "output_type": "stream",
     "text": [
      "100 200 6852\n"
     ]
    },
    {
     "name": "stderr",
     "output_type": "stream",
     "text": [
      "100%|████████████████████████████████████████████████████████████████████████████████| 100/100 [07:45<00:00,  4.65s/it]\n"
     ]
    },
    {
     "name": "stdout",
     "output_type": "stream",
     "text": [
      "13592\n"
     ]
    },
    {
     "data": {
      "text/html": [
       "<div>\n",
       "<style scoped>\n",
       "    .dataframe tbody tr th:only-of-type {\n",
       "        vertical-align: middle;\n",
       "    }\n",
       "\n",
       "    .dataframe tbody tr th {\n",
       "        vertical-align: top;\n",
       "    }\n",
       "\n",
       "    .dataframe thead th {\n",
       "        text-align: right;\n",
       "    }\n",
       "</style>\n",
       "<table border=\"1\" class=\"dataframe\">\n",
       "  <thead>\n",
       "    <tr style=\"text-align: right;\">\n",
       "      <th></th>\n",
       "      <th>id</th>\n",
       "      <th>course</th>\n",
       "      <th>rating</th>\n",
       "      <th>comment</th>\n",
       "      <th>user</th>\n",
       "    </tr>\n",
       "  </thead>\n",
       "  <tbody>\n",
       "    <tr>\n",
       "      <th>13587</th>\n",
       "      <td>12740328</td>\n",
       "      <td>976214</td>\n",
       "      <td>4.5</td>\n",
       "      <td>Muy bien explicado los conceptos</td>\n",
       "      <td>Bruce Pacheco</td>\n",
       "    </tr>\n",
       "    <tr>\n",
       "      <th>13588</th>\n",
       "      <td>81525040</td>\n",
       "      <td>3087010</td>\n",
       "      <td>3.5</td>\n",
       "      <td>Muy bueno, solo la clase del caso práctico, me...</td>\n",
       "      <td>Aaron H Ortega Conde</td>\n",
       "    </tr>\n",
       "    <tr>\n",
       "      <th>13589</th>\n",
       "      <td>79407548</td>\n",
       "      <td>3087010</td>\n",
       "      <td>2.0</td>\n",
       "      <td>Si es un curso se trata que el alumno aprenda ...</td>\n",
       "      <td>Eduardo Estrade</td>\n",
       "    </tr>\n",
       "    <tr>\n",
       "      <th>13590</th>\n",
       "      <td>70907202</td>\n",
       "      <td>3087010</td>\n",
       "      <td>4.0</td>\n",
       "      <td>El profesor muy explicativo y muy cool</td>\n",
       "      <td>Manuela Castellanos López</td>\n",
       "    </tr>\n",
       "    <tr>\n",
       "      <th>13591</th>\n",
       "      <td>93185938</td>\n",
       "      <td>3977924</td>\n",
       "      <td>5.0</td>\n",
       "      <td>Excelente, explica muy bien.</td>\n",
       "      <td>Ariel Gimenez</td>\n",
       "    </tr>\n",
       "  </tbody>\n",
       "</table>\n",
       "</div>"
      ],
      "text/plain": [
       "             id   course  rating  \\\n",
       "13587  12740328   976214     4.5   \n",
       "13588  81525040  3087010     3.5   \n",
       "13589  79407548  3087010     2.0   \n",
       "13590  70907202  3087010     4.0   \n",
       "13591  93185938  3977924     5.0   \n",
       "\n",
       "                                                 comment  \\\n",
       "13587                   Muy bien explicado los conceptos   \n",
       "13588  Muy bueno, solo la clase del caso práctico, me...   \n",
       "13589  Si es un curso se trata que el alumno aprenda ...   \n",
       "13590             El profesor muy explicativo y muy cool   \n",
       "13591                       Excelente, explica muy bien.   \n",
       "\n",
       "                            user  \n",
       "13587              Bruce Pacheco  \n",
       "13588       Aaron H Ortega Conde  \n",
       "13589            Eduardo Estrade  \n",
       "13590  Manuela Castellanos López  \n",
       "13591              Ariel Gimenez  "
      ]
     },
     "metadata": {},
     "output_type": "display_data"
    }
   ],
   "source": [
    "get_reviews(price='price-free',instructional_level='intermediate')"
   ]
  },
  {
   "cell_type": "code",
   "execution_count": 11,
   "id": "7b18473a-0db8-4944-aac4-70c509b20d2e",
   "metadata": {
    "tags": []
   },
   "outputs": [
    {
     "name": "stdout",
     "output_type": "stream",
     "text": [
      "language='es',price=price-free,ordering=price-high-to-low,instructional_level=beginner,primary_category=,primary_subcategory=Data Science,page_size=100\n",
      "udict['count'] 963\n",
      "0 100 0\n"
     ]
    },
    {
     "name": "stderr",
     "output_type": "stream",
     "text": [
      "100%|████████████████████████████████████████████████████████████████████████████████| 100/100 [10:03<00:00,  6.04s/it]\n"
     ]
    },
    {
     "name": "stdout",
     "output_type": "stream",
     "text": [
      "100 200 8781\n"
     ]
    },
    {
     "name": "stderr",
     "output_type": "stream",
     "text": [
      "100%|████████████████████████████████████████████████████████████████████████████████| 100/100 [09:43<00:00,  5.84s/it]\n"
     ]
    },
    {
     "name": "stdout",
     "output_type": "stream",
     "text": [
      "200 300 17562\n"
     ]
    },
    {
     "name": "stderr",
     "output_type": "stream",
     "text": [
      "100%|████████████████████████████████████████████████████████████████████████████████| 100/100 [10:53<00:00,  6.53s/it]\n"
     ]
    },
    {
     "name": "stdout",
     "output_type": "stream",
     "text": [
      "300 400 25226\n"
     ]
    },
    {
     "name": "stderr",
     "output_type": "stream",
     "text": [
      "100%|████████████████████████████████████████████████████████████████████████████████| 100/100 [09:41<00:00,  5.82s/it]\n"
     ]
    },
    {
     "name": "stdout",
     "output_type": "stream",
     "text": [
      "400 500 33740\n"
     ]
    },
    {
     "name": "stderr",
     "output_type": "stream",
     "text": [
      "100%|████████████████████████████████████████████████████████████████████████████████| 100/100 [08:41<00:00,  5.22s/it]\n"
     ]
    },
    {
     "name": "stdout",
     "output_type": "stream",
     "text": [
      "500 600 40966\n"
     ]
    },
    {
     "name": "stderr",
     "output_type": "stream",
     "text": [
      "100%|████████████████████████████████████████████████████████████████████████████████| 100/100 [10:10<00:00,  6.10s/it]\n"
     ]
    },
    {
     "name": "stdout",
     "output_type": "stream",
     "text": [
      "600 700 50490\n"
     ]
    },
    {
     "name": "stderr",
     "output_type": "stream",
     "text": [
      "100%|████████████████████████████████████████████████████████████████████████████████| 100/100 [09:20<00:00,  5.60s/it]\n"
     ]
    },
    {
     "name": "stdout",
     "output_type": "stream",
     "text": [
      "700 800 58701\n"
     ]
    },
    {
     "name": "stderr",
     "output_type": "stream",
     "text": [
      "100%|████████████████████████████████████████████████████████████████████████████████| 100/100 [09:51<00:00,  5.92s/it]\n"
     ]
    },
    {
     "name": "stdout",
     "output_type": "stream",
     "text": [
      "800 900 67155\n"
     ]
    },
    {
     "name": "stderr",
     "output_type": "stream",
     "text": [
      "100%|████████████████████████████████████████████████████████████████████████████████| 100/100 [09:44<00:00,  5.85s/it]\n"
     ]
    },
    {
     "name": "stdout",
     "output_type": "stream",
     "text": [
      "900 1000 75587\n"
     ]
    },
    {
     "name": "stderr",
     "output_type": "stream",
     "text": [
      "100%|████████████████████████████████████████████████████████████████████████████████| 100/100 [07:58<00:00,  4.79s/it]\n"
     ]
    },
    {
     "name": "stdout",
     "output_type": "stream",
     "text": [
      "80395\n"
     ]
    },
    {
     "data": {
      "text/html": [
       "<div>\n",
       "<style scoped>\n",
       "    .dataframe tbody tr th:only-of-type {\n",
       "        vertical-align: middle;\n",
       "    }\n",
       "\n",
       "    .dataframe tbody tr th {\n",
       "        vertical-align: top;\n",
       "    }\n",
       "\n",
       "    .dataframe thead th {\n",
       "        text-align: right;\n",
       "    }\n",
       "</style>\n",
       "<table border=\"1\" class=\"dataframe\">\n",
       "  <thead>\n",
       "    <tr style=\"text-align: right;\">\n",
       "      <th></th>\n",
       "      <th>id</th>\n",
       "      <th>course</th>\n",
       "      <th>rating</th>\n",
       "      <th>comment</th>\n",
       "      <th>user</th>\n",
       "    </tr>\n",
       "  </thead>\n",
       "  <tbody>\n",
       "    <tr>\n",
       "      <th>80390</th>\n",
       "      <td>36072172</td>\n",
       "      <td>2241124</td>\n",
       "      <td>3.5</td>\n",
       "      <td>Buena</td>\n",
       "      <td>Andres Torres Tam</td>\n",
       "    </tr>\n",
       "    <tr>\n",
       "      <th>80391</th>\n",
       "      <td>34694642</td>\n",
       "      <td>2241124</td>\n",
       "      <td>3.5</td>\n",
       "      <td>El contenido es breve y muy bueno para quienes...</td>\n",
       "      <td>Lourdes Gallardo</td>\n",
       "    </tr>\n",
       "    <tr>\n",
       "      <th>80392</th>\n",
       "      <td>34483298</td>\n",
       "      <td>2241124</td>\n",
       "      <td>4.0</td>\n",
       "      <td>si</td>\n",
       "      <td>Vicente Murillo</td>\n",
       "    </tr>\n",
       "    <tr>\n",
       "      <th>80393</th>\n",
       "      <td>34258690</td>\n",
       "      <td>2241124</td>\n",
       "      <td>5.0</td>\n",
       "      <td>muy interesante y con experiencia</td>\n",
       "      <td>Juan Carlos Mejia Martinez</td>\n",
       "    </tr>\n",
       "    <tr>\n",
       "      <th>80394</th>\n",
       "      <td>93644240</td>\n",
       "      <td>3202322</td>\n",
       "      <td>3.0</td>\n",
       "      <td>Solo se explica la conexión web, sería lo suyo...</td>\n",
       "      <td>Janira Cumbajin</td>\n",
       "    </tr>\n",
       "  </tbody>\n",
       "</table>\n",
       "</div>"
      ],
      "text/plain": [
       "             id   course  rating  \\\n",
       "80390  36072172  2241124     3.5   \n",
       "80391  34694642  2241124     3.5   \n",
       "80392  34483298  2241124     4.0   \n",
       "80393  34258690  2241124     5.0   \n",
       "80394  93644240  3202322     3.0   \n",
       "\n",
       "                                                 comment  \\\n",
       "80390                                              Buena   \n",
       "80391  El contenido es breve y muy bueno para quienes...   \n",
       "80392                                                 si   \n",
       "80393                  muy interesante y con experiencia   \n",
       "80394  Solo se explica la conexión web, sería lo suyo...   \n",
       "\n",
       "                             user  \n",
       "80390           Andres Torres Tam  \n",
       "80391            Lourdes Gallardo  \n",
       "80392             Vicente Murillo  \n",
       "80393  Juan Carlos Mejia Martinez  \n",
       "80394             Janira Cumbajin  "
      ]
     },
     "metadata": {},
     "output_type": "display_data"
    }
   ],
   "source": [
    "get_reviews(price='price-free',instructional_level='beginner')"
   ]
  },
  {
   "cell_type": "code",
   "execution_count": null,
   "id": "55c44c87-c737-44d5-bb12-14fc4b7764d9",
   "metadata": {},
   "outputs": [],
   "source": []
  },
  {
   "cell_type": "code",
   "execution_count": null,
   "id": "85b6cee2-cf4e-438d-8b85-ad07a64e3442",
   "metadata": {},
   "outputs": [],
   "source": [
    "pd.set_option('display.max_columns', None)\n",
    "pd.set_option('display.expand_frame_repr', False)\n",
    "pd.set_option('max_colwidth', -1)\n"
   ]
  },
  {
   "cell_type": "code",
   "execution_count": null,
   "id": "4c0c9ae4-e33e-4714-a7f9-ac6e9217a83c",
   "metadata": {},
   "outputs": [],
   "source": [
    "import pandas as pd\n",
    "df = pd.read_pickle(\"./udemy_reviews.pkl\")\n",
    "df.sample(20)"
   ]
  },
  {
   "cell_type": "code",
   "execution_count": null,
   "id": "6c9e8b64-58e4-431d-9013-d04908aa26b9",
   "metadata": {},
   "outputs": [],
   "source": [
    "len(pd.unique(df['course']))"
   ]
  },
  {
   "cell_type": "code",
   "execution_count": null,
   "id": "2a7e9c95-80cc-473e-8d8f-b52be7128349",
   "metadata": {},
   "outputs": [],
   "source": [
    "len(df)"
   ]
  },
  {
   "cell_type": "code",
   "execution_count": null,
   "id": "01dd2195-a54a-4b71-817a-1aee0b95eba8",
   "metadata": {},
   "outputs": [],
   "source": [
    "# https://pypi.org/project/sentiment-analysis-spanish/"
   ]
  },
  {
   "cell_type": "code",
   "execution_count": null,
   "id": "759233bd-403d-495d-8a41-d1353ac7846e",
   "metadata": {},
   "outputs": [],
   "source": [
    "from sentiment_analysis_spanish import sentiment_analysis\n",
    "sentiment = sentiment_analysis.SentimentAnalysisSpanish()\n",
    "print(sentiment.sentiment(\"me gusta la tombola es genial\"))\n",
    "print(sentiment.sentiment(\"me parece terrible esto que me estás diciendo\"))"
   ]
  },
  {
   "cell_type": "code",
   "execution_count": null,
   "id": "39fb461e-1676-4989-8c5c-4423bd30f361",
   "metadata": {},
   "outputs": [],
   "source": [
    "datasample = df.sample(10)\n",
    "\n",
    "arr=[]\n",
    "for index, row in datasample.iterrows():\n",
    "    arr.append({'sentimiento':sentiment.sentiment(row['comment']), 'rating':row['rating'],'mensaje':row['comment'],})\n",
    "    \n",
    "daf=pd.DataFrame(arr)\n",
    "daf"
   ]
  },
  {
   "cell_type": "code",
   "execution_count": null,
   "id": "b23ab38e-26e6-4b12-9fd6-73c1901f022c",
   "metadata": {},
   "outputs": [],
   "source": []
  },
  {
   "cell_type": "code",
   "execution_count": null,
   "id": "15e2d641-6b57-4e00-b0ad-9e5be5f4dfcc",
   "metadata": {},
   "outputs": [],
   "source": []
  },
  {
   "cell_type": "code",
   "execution_count": null,
   "id": "72dc808c-93e2-45cd-a9d8-3b4be59c0839",
   "metadata": {},
   "outputs": [],
   "source": [
    "rdict = udemy.course_reviews(649070, page=1, page_size=1000)\n",
    "rdict['count']"
   ]
  },
  {
   "cell_type": "code",
   "execution_count": null,
   "id": "51f09e58-76ed-4567-80bb-b5daee7ec542",
   "metadata": {},
   "outputs": [],
   "source": [
    "for k in rdict:\n",
    "    print(k)"
   ]
  },
  {
   "cell_type": "code",
   "execution_count": null,
   "id": "2915a78a-4698-49e2-b5b1-ab5322bd2694",
   "metadata": {},
   "outputs": [],
   "source": [
    "rdict['results'][0]"
   ]
  },
  {
   "cell_type": "code",
   "execution_count": null,
   "id": "a661ac04-765f-456e-b69a-2f15a03e2991",
   "metadata": {},
   "outputs": [],
   "source": [
    "for r in rdict['results']:\n",
    "    if r['content']!='':\n",
    "        print({'id':r['id'],'rating':r['rating'],'comentario':r['content'],'user':r['user']['display_name']})"
   ]
  },
  {
   "cell_type": "code",
   "execution_count": null,
   "id": "b281acfe-4290-48a1-8a6f-dcb2bc04bb3f",
   "metadata": {},
   "outputs": [],
   "source": []
  }
 ],
 "metadata": {
  "kernelspec": {
   "display_name": "Python 3",
   "language": "python",
   "name": "python3"
  },
  "language_info": {
   "codemirror_mode": {
    "name": "ipython",
    "version": 3
   },
   "file_extension": ".py",
   "mimetype": "text/x-python",
   "name": "python",
   "nbconvert_exporter": "python",
   "pygments_lexer": "ipython3",
   "version": "3.8.8"
  }
 },
 "nbformat": 4,
 "nbformat_minor": 5
}
