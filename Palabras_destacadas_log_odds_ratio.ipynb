{
 "cells": [
  {
   "cell_type": "code",
   "execution_count": 1,
   "metadata": {
    "colab": {
     "base_uri": "https://localhost:8080/"
    },
    "id": "FCvm-2bXsPPl",
    "outputId": "2302c461-3b20-4158-ad56-da7c02375ff7"
   },
   "outputs": [],
   "source": [
    "# from google.colab import drive\n",
    "# drive.mount('/content/drive', force_remount=True)\n",
    "# udemy_folder = \"/content/drive/MyDrive/0_MAESTRIA/1_TEXT/TM_udemy_reviews\"\n",
    "# !cp {udemy_folder}/udemy_reviews.zip udemy_reviews.zip"
   ]
  },
  {
   "cell_type": "markdown",
   "metadata": {
    "id": "V0UBlkyp_gme"
   },
   "source": [
    "#### Load the libraries"
   ]
  },
  {
   "cell_type": "code",
   "execution_count": 2,
   "metadata": {
    "colab": {
     "base_uri": "https://localhost:8080/"
    },
    "id": "7KDUOQ1Unt9w",
    "outputId": "c51d2dcb-3854-40cb-f583-4ab49facd52d"
   },
   "outputs": [
    {
     "name": "stdout",
     "output_type": "stream",
     "text": [
      "Collecting es-core-news-md==3.2.0\n",
      "  Downloading https://github.com/explosion/spacy-models/releases/download/es_core_news_md-3.2.0/es_core_news_md-3.2.0-py3-none-any.whl (43.4 MB)\n",
      "Requirement already satisfied: spacy<3.3.0,>=3.2.0 in c:\\users\\nicol\\anaconda3\\envs\\tm_2\\lib\\site-packages (from es-core-news-md==3.2.0) (3.2.0)\n",
      "Requirement already satisfied: thinc<8.1.0,>=8.0.12 in c:\\users\\nicol\\anaconda3\\envs\\tm_2\\lib\\site-packages (from spacy<3.3.0,>=3.2.0->es-core-news-md==3.2.0) (8.0.13)\n",
      "Requirement already satisfied: spacy-legacy<3.1.0,>=3.0.8 in c:\\users\\nicol\\anaconda3\\envs\\tm_2\\lib\\site-packages (from spacy<3.3.0,>=3.2.0->es-core-news-md==3.2.0) (3.0.8)\n",
      "Requirement already satisfied: spacy-loggers<2.0.0,>=1.0.0 in c:\\users\\nicol\\anaconda3\\envs\\tm_2\\lib\\site-packages (from spacy<3.3.0,>=3.2.0->es-core-news-md==3.2.0) (1.0.1)\n",
      "Requirement already satisfied: typing-extensions<4.0.0.0,>=3.7.4 in c:\\users\\nicol\\anaconda3\\envs\\tm_2\\lib\\site-packages (from spacy<3.3.0,>=3.2.0->es-core-news-md==3.2.0) (3.10.0.2)\n",
      "Requirement already satisfied: langcodes<4.0.0,>=3.2.0 in c:\\users\\nicol\\anaconda3\\envs\\tm_2\\lib\\site-packages (from spacy<3.3.0,>=3.2.0->es-core-news-md==3.2.0) (3.3.0)\n",
      "Requirement already satisfied: numpy>=1.15.0 in c:\\users\\nicol\\anaconda3\\envs\\tm_2\\lib\\site-packages (from spacy<3.3.0,>=3.2.0->es-core-news-md==3.2.0) (1.21.4)\n",
      "Requirement already satisfied: typer<0.5.0,>=0.3.0 in c:\\users\\nicol\\anaconda3\\envs\\tm_2\\lib\\site-packages (from spacy<3.3.0,>=3.2.0->es-core-news-md==3.2.0) (0.4.0)\n",
      "Requirement already satisfied: packaging>=20.0 in c:\\users\\nicol\\anaconda3\\envs\\tm_2\\lib\\site-packages (from spacy<3.3.0,>=3.2.0->es-core-news-md==3.2.0) (21.0)\n",
      "Requirement already satisfied: cymem<2.1.0,>=2.0.2 in c:\\users\\nicol\\anaconda3\\envs\\tm_2\\lib\\site-packages (from spacy<3.3.0,>=3.2.0->es-core-news-md==3.2.0) (2.0.6)\n",
      "Requirement already satisfied: blis<0.8.0,>=0.4.0 in c:\\users\\nicol\\anaconda3\\envs\\tm_2\\lib\\site-packages (from spacy<3.3.0,>=3.2.0->es-core-news-md==3.2.0) (0.7.5)\n",
      "Requirement already satisfied: murmurhash<1.1.0,>=0.28.0 in c:\\users\\nicol\\anaconda3\\envs\\tm_2\\lib\\site-packages (from spacy<3.3.0,>=3.2.0->es-core-news-md==3.2.0) (1.0.6)\n",
      "Requirement already satisfied: jinja2 in c:\\users\\nicol\\anaconda3\\envs\\tm_2\\lib\\site-packages (from spacy<3.3.0,>=3.2.0->es-core-news-md==3.2.0) (3.0.1)\n",
      "Requirement already satisfied: setuptools in c:\\users\\nicol\\anaconda3\\envs\\tm_2\\lib\\site-packages (from spacy<3.3.0,>=3.2.0->es-core-news-md==3.2.0) (58.0.4)\n",
      "Requirement already satisfied: requests<3.0.0,>=2.13.0 in c:\\users\\nicol\\anaconda3\\envs\\tm_2\\lib\\site-packages (from spacy<3.3.0,>=3.2.0->es-core-news-md==3.2.0) (2.26.0)\n",
      "Requirement already satisfied: pydantic!=1.8,!=1.8.1,<1.9.0,>=1.7.4 in c:\\users\\nicol\\anaconda3\\envs\\tm_2\\lib\\site-packages (from spacy<3.3.0,>=3.2.0->es-core-news-md==3.2.0) (1.8.2)\n",
      "Requirement already satisfied: pathy>=0.3.5 in c:\\users\\nicol\\anaconda3\\envs\\tm_2\\lib\\site-packages (from spacy<3.3.0,>=3.2.0->es-core-news-md==3.2.0) (0.6.1)\n",
      "Requirement already satisfied: preshed<3.1.0,>=3.0.2 in c:\\users\\nicol\\anaconda3\\envs\\tm_2\\lib\\site-packages (from spacy<3.3.0,>=3.2.0->es-core-news-md==3.2.0) (3.0.6)\n",
      "Requirement already satisfied: tqdm<5.0.0,>=4.38.0 in c:\\users\\nicol\\anaconda3\\envs\\tm_2\\lib\\site-packages (from spacy<3.3.0,>=3.2.0->es-core-news-md==3.2.0) (4.62.3)\n",
      "Requirement already satisfied: srsly<3.0.0,>=2.4.1 in c:\\users\\nicol\\anaconda3\\envs\\tm_2\\lib\\site-packages (from spacy<3.3.0,>=3.2.0->es-core-news-md==3.2.0) (2.4.2)\n",
      "Requirement already satisfied: catalogue<2.1.0,>=2.0.6 in c:\\users\\nicol\\anaconda3\\envs\\tm_2\\lib\\site-packages (from spacy<3.3.0,>=3.2.0->es-core-news-md==3.2.0) (2.0.6)\n",
      "Requirement already satisfied: wasabi<1.1.0,>=0.8.1 in c:\\users\\nicol\\anaconda3\\envs\\tm_2\\lib\\site-packages (from spacy<3.3.0,>=3.2.0->es-core-news-md==3.2.0) (0.8.2)\n",
      "Requirement already satisfied: zipp>=0.5 in c:\\users\\nicol\\anaconda3\\envs\\tm_2\\lib\\site-packages (from catalogue<2.1.0,>=2.0.6->spacy<3.3.0,>=3.2.0->es-core-news-md==3.2.0) (3.6.0)\n",
      "Requirement already satisfied: pyparsing>=2.0.2 in c:\\users\\nicol\\anaconda3\\envs\\tm_2\\lib\\site-packages (from packaging>=20.0->spacy<3.3.0,>=3.2.0->es-core-news-md==3.2.0) (2.4.7)\n",
      "Requirement already satisfied: smart-open<6.0.0,>=5.0.0 in c:\\users\\nicol\\anaconda3\\envs\\tm_2\\lib\\site-packages (from pathy>=0.3.5->spacy<3.3.0,>=3.2.0->es-core-news-md==3.2.0) (5.2.1)\n",
      "Requirement already satisfied: idna<4,>=2.5 in c:\\users\\nicol\\anaconda3\\envs\\tm_2\\lib\\site-packages (from requests<3.0.0,>=2.13.0->spacy<3.3.0,>=3.2.0->es-core-news-md==3.2.0) (3.3)\n",
      "Requirement already satisfied: certifi>=2017.4.17 in c:\\users\\nicol\\anaconda3\\envs\\tm_2\\lib\\site-packages (from requests<3.0.0,>=2.13.0->spacy<3.3.0,>=3.2.0->es-core-news-md==3.2.0) (2021.10.8)\n",
      "Requirement already satisfied: urllib3<1.27,>=1.21.1 in c:\\users\\nicol\\anaconda3\\envs\\tm_2\\lib\\site-packages (from requests<3.0.0,>=2.13.0->spacy<3.3.0,>=3.2.0->es-core-news-md==3.2.0) (1.26.7)\n",
      "Requirement already satisfied: charset-normalizer~=2.0.0 in c:\\users\\nicol\\anaconda3\\envs\\tm_2\\lib\\site-packages (from requests<3.0.0,>=2.13.0->spacy<3.3.0,>=3.2.0->es-core-news-md==3.2.0) (2.0.7)\n",
      "Requirement already satisfied: colorama in c:\\users\\nicol\\anaconda3\\envs\\tm_2\\lib\\site-packages (from tqdm<5.0.0,>=4.38.0->spacy<3.3.0,>=3.2.0->es-core-news-md==3.2.0) (0.4.4)\n",
      "Requirement already satisfied: click<9.0.0,>=7.1.1 in c:\\users\\nicol\\anaconda3\\envs\\tm_2\\lib\\site-packages (from typer<0.5.0,>=0.3.0->spacy<3.3.0,>=3.2.0->es-core-news-md==3.2.0) (8.0.3)\n",
      "Requirement already satisfied: importlib-metadata in c:\\users\\nicol\\anaconda3\\envs\\tm_2\\lib\\site-packages (from click<9.0.0,>=7.1.1->typer<0.5.0,>=0.3.0->spacy<3.3.0,>=3.2.0->es-core-news-md==3.2.0) (4.8.1)\n",
      "Requirement already satisfied: MarkupSafe>=2.0 in c:\\users\\nicol\\anaconda3\\envs\\tm_2\\lib\\site-packages (from jinja2->spacy<3.3.0,>=3.2.0->es-core-news-md==3.2.0) (2.0.1)\n",
      "[+] Download and installation successful\n",
      "You can now load the package via spacy.load('es_core_news_md')\n"
     ]
    }
   ],
   "source": [
    "!pip install -q -U spacy\n",
    "!python -m spacy download es_core_news_md"
   ]
  },
  {
   "cell_type": "code",
   "execution_count": 3,
   "metadata": {
    "id": "id-a9oASsLSX"
   },
   "outputs": [],
   "source": [
    "import pandas as pd\n",
    "pd.set_option('display.max_columns', None)\n",
    "pd.set_option('display.expand_frame_repr', False)\n",
    "pd.set_option('max_colwidth', None)\n",
    "pd.options.display.float_format = \"{:,.2f}\".format"
   ]
  },
  {
   "cell_type": "markdown",
   "metadata": {
    "id": "SBS3r7AFAEtg"
   },
   "source": [
    "### Connect to drive to get the data"
   ]
  },
  {
   "cell_type": "code",
   "execution_count": 4,
   "metadata": {
    "colab": {
     "base_uri": "https://localhost:8080/",
     "height": 206
    },
    "id": "uNrNcwnzk-fj",
    "outputId": "fe599747-2dd3-4686-afda-ec536a5168f3"
   },
   "outputs": [
    {
     "data": {
      "text/html": [
       "<div>\n",
       "<style scoped>\n",
       "    .dataframe tbody tr th:only-of-type {\n",
       "        vertical-align: middle;\n",
       "    }\n",
       "\n",
       "    .dataframe tbody tr th {\n",
       "        vertical-align: top;\n",
       "    }\n",
       "\n",
       "    .dataframe thead th {\n",
       "        text-align: right;\n",
       "    }\n",
       "</style>\n",
       "<table border=\"1\" class=\"dataframe\">\n",
       "  <thead>\n",
       "    <tr style=\"text-align: right;\">\n",
       "      <th></th>\n",
       "      <th>id</th>\n",
       "      <th>course</th>\n",
       "      <th>rating</th>\n",
       "      <th>comment</th>\n",
       "      <th>user</th>\n",
       "    </tr>\n",
       "  </thead>\n",
       "  <tbody>\n",
       "    <tr>\n",
       "      <th>0</th>\n",
       "      <td>73015398</td>\n",
       "      <td>1640654</td>\n",
       "      <td>2.50</td>\n",
       "      <td>como introducción esta bien pero deberían de hacerlo mas dirigido a RPA con fotos de RPAS</td>\n",
       "      <td>Jorge Alejandro Castillo</td>\n",
       "    </tr>\n",
       "    <tr>\n",
       "      <th>1</th>\n",
       "      <td>50586814</td>\n",
       "      <td>1640654</td>\n",
       "      <td>4.50</td>\n",
       "      <td>Los conocimientos son claros y concisos para lo requerido</td>\n",
       "      <td>Jaime Medina</td>\n",
       "    </tr>\n",
       "    <tr>\n",
       "      <th>2</th>\n",
       "      <td>49880684</td>\n",
       "      <td>1640654</td>\n",
       "      <td>5.00</td>\n",
       "      <td>hermoso</td>\n",
       "      <td>Adrián Antonio Herrera Castro</td>\n",
       "    </tr>\n",
       "    <tr>\n",
       "      <th>3</th>\n",
       "      <td>47366486</td>\n",
       "      <td>1640654</td>\n",
       "      <td>5.00</td>\n",
       "      <td>Excelente !!!</td>\n",
       "      <td>Márcio Maurício Soares do Nascimento</td>\n",
       "    </tr>\n",
       "    <tr>\n",
       "      <th>4</th>\n",
       "      <td>79933910</td>\n",
       "      <td>88380</td>\n",
       "      <td>5.00</td>\n",
       "      <td>Excelente todo!</td>\n",
       "      <td>Emilio Monarrez Hernandez</td>\n",
       "    </tr>\n",
       "  </tbody>\n",
       "</table>\n",
       "</div>"
      ],
      "text/plain": [
       "         id   course  rating                                                                                    comment                                  user\n",
       "0  73015398  1640654    2.50  como introducción esta bien pero deberían de hacerlo mas dirigido a RPA con fotos de RPAS              Jorge Alejandro Castillo\n",
       "1  50586814  1640654    4.50                                  Los conocimientos son claros y concisos para lo requerido                          Jaime Medina\n",
       "2  49880684  1640654    5.00                                                                                    hermoso         Adrián Antonio Herrera Castro\n",
       "3  47366486  1640654    5.00                                                                              Excelente !!!  Márcio Maurício Soares do Nascimento\n",
       "4  79933910    88380    5.00                                                                            Excelente todo!             Emilio Monarrez Hernandez"
      ]
     },
     "execution_count": 4,
     "metadata": {},
     "output_type": "execute_result"
    }
   ],
   "source": [
    "df_udemy = pd.read_csv(f'udemy_reviews.zip', compression='zip', header=0, sep=',', quotechar='\"')\n",
    "df_udemy.head()"
   ]
  },
  {
   "cell_type": "code",
   "execution_count": 5,
   "metadata": {
    "id": "_9xwmoL2lYz3"
   },
   "outputs": [],
   "source": [
    "df_news = df_udemy"
   ]
  },
  {
   "cell_type": "code",
   "execution_count": 6,
   "metadata": {
    "colab": {
     "base_uri": "https://localhost:8080/",
     "height": 485
    },
    "id": "550zxhdVCl6y",
    "outputId": "7000450e-d98c-4187-94b7-eeea37cf0be9"
   },
   "outputs": [
    {
     "data": {
      "text/html": [
       "<div>\n",
       "<style scoped>\n",
       "    .dataframe tbody tr th:only-of-type {\n",
       "        vertical-align: middle;\n",
       "    }\n",
       "\n",
       "    .dataframe tbody tr th {\n",
       "        vertical-align: top;\n",
       "    }\n",
       "\n",
       "    .dataframe thead th {\n",
       "        text-align: right;\n",
       "    }\n",
       "</style>\n",
       "<table border=\"1\" class=\"dataframe\">\n",
       "  <thead>\n",
       "    <tr style=\"text-align: right;\">\n",
       "      <th></th>\n",
       "      <th>index</th>\n",
       "      <th>id</th>\n",
       "      <th>course</th>\n",
       "      <th>rating</th>\n",
       "      <th>comment</th>\n",
       "      <th>user</th>\n",
       "      <th>tag</th>\n",
       "    </tr>\n",
       "  </thead>\n",
       "  <tbody>\n",
       "    <tr>\n",
       "      <th>73885</th>\n",
       "      <td>96321</td>\n",
       "      <td>35344442</td>\n",
       "      <td>2353450</td>\n",
       "      <td>3.00</td>\n",
       "      <td>Me ha parecido demasiado básico para ser de pago :C</td>\n",
       "      <td>Jonathan Contreras Vargas</td>\n",
       "      <td>neg</td>\n",
       "    </tr>\n",
       "    <tr>\n",
       "      <th>22310</th>\n",
       "      <td>28937</td>\n",
       "      <td>9664048</td>\n",
       "      <td>201562</td>\n",
       "      <td>2.50</td>\n",
       "      <td>El temario es bueno pero le falta mayor explicacion</td>\n",
       "      <td>Andrés Fernando Valenzuela Saavedra</td>\n",
       "      <td>neg</td>\n",
       "    </tr>\n",
       "    <tr>\n",
       "      <th>86786</th>\n",
       "      <td>114903</td>\n",
       "      <td>23082690</td>\n",
       "      <td>405252</td>\n",
       "      <td>5.00</td>\n",
       "      <td>Me han gustado las sesiones, ahora solo me falta practicar lo aprendido, gracias</td>\n",
       "      <td>Rosaura Lee Fonseca</td>\n",
       "      <td>pos</td>\n",
       "    </tr>\n",
       "    <tr>\n",
       "      <th>72921</th>\n",
       "      <td>95092</td>\n",
       "      <td>75143902</td>\n",
       "      <td>571730</td>\n",
       "      <td>5.00</td>\n",
       "      <td>bastante bien, eso no lo enseñan en la escuela</td>\n",
       "      <td>Leonel Lopez</td>\n",
       "      <td>pos</td>\n",
       "    </tr>\n",
       "    <tr>\n",
       "      <th>107331</th>\n",
       "      <td>144190</td>\n",
       "      <td>69245710</td>\n",
       "      <td>1576314</td>\n",
       "      <td>4.00</td>\n",
       "      <td>Pues está bien, te va mostrando desde lo más básico.</td>\n",
       "      <td>Jose Corona</td>\n",
       "      <td>pos</td>\n",
       "    </tr>\n",
       "    <tr>\n",
       "      <th>35071</th>\n",
       "      <td>45464</td>\n",
       "      <td>31599372</td>\n",
       "      <td>2228648</td>\n",
       "      <td>5.00</td>\n",
       "      <td>si, muy buena. Algunos problemas técnicos con el adobe que impedían en algunas ocasiones la reproducción, pero saliendo  de la plataforma y volviendo  a entrar y se subsanaban.</td>\n",
       "      <td>Victor Valencia Torres</td>\n",
       "      <td>pos</td>\n",
       "    </tr>\n",
       "    <tr>\n",
       "      <th>126160</th>\n",
       "      <td>170926</td>\n",
       "      <td>54023274</td>\n",
       "      <td>2962192</td>\n",
       "      <td>5.00</td>\n",
       "      <td>Excelente!!! El instructor es muy claro y didáctico, muchas gracias, me ha servido mucho para el desarrollo de mis habilidades</td>\n",
       "      <td>Carmen Elena Guerrero DelgadoD</td>\n",
       "      <td>pos</td>\n",
       "    </tr>\n",
       "    <tr>\n",
       "      <th>62888</th>\n",
       "      <td>81838</td>\n",
       "      <td>78080104</td>\n",
       "      <td>3069956</td>\n",
       "      <td>5.00</td>\n",
       "      <td>Este curso está súper entendible</td>\n",
       "      <td>Liliana Maldonado</td>\n",
       "      <td>pos</td>\n",
       "    </tr>\n",
       "    <tr>\n",
       "      <th>125291</th>\n",
       "      <td>169664</td>\n",
       "      <td>57724807</td>\n",
       "      <td>1875536</td>\n",
       "      <td>5.00</td>\n",
       "      <td>que asombrado de cuan uno olvida los conceptos basicos y lo importante es saber esta materia.</td>\n",
       "      <td>Marco Arancibia Ramirez</td>\n",
       "      <td>pos</td>\n",
       "    </tr>\n",
       "    <tr>\n",
       "      <th>103755</th>\n",
       "      <td>139204</td>\n",
       "      <td>61149798</td>\n",
       "      <td>174302</td>\n",
       "      <td>4.00</td>\n",
       "      <td>Es un inicio bueno aunque algo tibio, te muestra un panorama muy amplio sin profundidad, aunque esperaría encontrar esa profundidad en curso que promociona este instructor</td>\n",
       "      <td>Javier Tellez</td>\n",
       "      <td>pos</td>\n",
       "    </tr>\n",
       "  </tbody>\n",
       "</table>\n",
       "</div>"
      ],
      "text/plain": [
       "         index        id   course  rating                                                                                                                                                                           comment                                 user  tag\n",
       "73885    96321  35344442  2353450    3.00                                                                                                                               Me ha parecido demasiado básico para ser de pago :C            Jonathan Contreras Vargas  neg\n",
       "22310    28937   9664048   201562    2.50                                                                                                                               El temario es bueno pero le falta mayor explicacion  Andrés Fernando Valenzuela Saavedra  neg\n",
       "86786   114903  23082690   405252    5.00                                                                                                  Me han gustado las sesiones, ahora solo me falta practicar lo aprendido, gracias                  Rosaura Lee Fonseca  pos\n",
       "72921    95092  75143902   571730    5.00                                                                                                                                    bastante bien, eso no lo enseñan en la escuela                         Leonel Lopez  pos\n",
       "107331  144190  69245710  1576314    4.00                                                                                                                              Pues está bien, te va mostrando desde lo más básico.                          Jose Corona  pos\n",
       "35071    45464  31599372  2228648    5.00  si, muy buena. Algunos problemas técnicos con el adobe que impedían en algunas ocasiones la reproducción, pero saliendo  de la plataforma y volviendo  a entrar y se subsanaban.               Victor Valencia Torres  pos\n",
       "126160  170926  54023274  2962192    5.00                                                    Excelente!!! El instructor es muy claro y didáctico, muchas gracias, me ha servido mucho para el desarrollo de mis habilidades       Carmen Elena Guerrero DelgadoD  pos\n",
       "62888    81838  78080104  3069956    5.00                                                                                                                                                  Este curso está súper entendible                    Liliana Maldonado  pos\n",
       "125291  169664  57724807  1875536    5.00                                                                                     que asombrado de cuan uno olvida los conceptos basicos y lo importante es saber esta materia.              Marco Arancibia Ramirez  pos\n",
       "103755  139204  61149798   174302    4.00       Es un inicio bueno aunque algo tibio, te muestra un panorama muy amplio sin profundidad, aunque esperaría encontrar esa profundidad en curso que promociona este instructor                        Javier Tellez  pos"
      ]
     },
     "metadata": {},
     "output_type": "display_data"
    }
   ],
   "source": [
    "# Aplica pos/neg\n",
    "df_news['tag']=df_news['rating'].apply(lambda x: 'pos' if x >= 4 else 'neg')\n",
    "# Filtra los que solamente dicen una palabra (ej. \"Excelente!\")\n",
    "#df_news = df_news[df_news['comment'].str.contains(\"\\s\")]\n",
    "# Filtra los que tienen menos de 5 palabras\n",
    "df_news = df_news[df_news['comment'].str.split().str.len().gt(4)]\n",
    "# Filtra los que dicen menos de 12 letras (ej. \"Excelente!\")\n",
    "df_news = df_news[df_news['comment'].str.len() >= 12]\n",
    "# df_news = df_news[df_news['tag']=='neg']#.sample(2000)\n",
    "\n",
    "df_news.reset_index(inplace=True)\n",
    "display(df_news.sample(10))\n",
    "\n",
    "# Recomendación:\n",
    "# usar los comentarios con >=5 palabras\n"
   ]
  },
  {
   "cell_type": "code",
   "execution_count": 7,
   "metadata": {},
   "outputs": [
    {
     "data": {
      "text/plain": [
       "109577"
      ]
     },
     "execution_count": 7,
     "metadata": {},
     "output_type": "execute_result"
    }
   ],
   "source": [
    "sum(df_news.tag == 'pos')"
   ]
  },
  {
   "cell_type": "code",
   "execution_count": 8,
   "metadata": {},
   "outputs": [
    {
     "data": {
      "text/plain": [
       "18883"
      ]
     },
     "execution_count": 8,
     "metadata": {},
     "output_type": "execute_result"
    }
   ],
   "source": [
    "sum(df_news.tag == 'neg')"
   ]
  },
  {
   "cell_type": "code",
   "execution_count": 9,
   "metadata": {
    "colab": {
     "base_uri": "https://localhost:8080/",
     "height": 546
    },
    "id": "iViS6iKChPrh",
    "outputId": "53c662ac-129f-4b17-904e-f6f469ceb8a5"
   },
   "outputs": [
    {
     "data": {
      "text/html": [
       "<div>\n",
       "<style scoped>\n",
       "    .dataframe tbody tr th:only-of-type {\n",
       "        vertical-align: middle;\n",
       "    }\n",
       "\n",
       "    .dataframe tbody tr th {\n",
       "        vertical-align: top;\n",
       "    }\n",
       "\n",
       "    .dataframe thead th {\n",
       "        text-align: right;\n",
       "    }\n",
       "</style>\n",
       "<table border=\"1\" class=\"dataframe\">\n",
       "  <thead>\n",
       "    <tr style=\"text-align: right;\">\n",
       "      <th></th>\n",
       "      <th>index</th>\n",
       "      <th>id</th>\n",
       "      <th>course</th>\n",
       "      <th>rating</th>\n",
       "      <th>comment</th>\n",
       "      <th>user</th>\n",
       "      <th>tag</th>\n",
       "    </tr>\n",
       "  </thead>\n",
       "  <tbody>\n",
       "    <tr>\n",
       "      <th>6962</th>\n",
       "      <td>9035</td>\n",
       "      <td>52215828</td>\n",
       "      <td>1922200</td>\n",
       "      <td>3.00</td>\n",
       "      <td>El contenido es claro e interesante, ya he tomado un par de cursos con Fabian y me han sido de mucha utilidad. Encontré deficiencias en el material de apoyo y la sección 22. El lanzamiento no fue muy clara, pero en general se adquiere un gran conocimiento de scrum scale</td>\n",
       "      <td>Diana Forero</td>\n",
       "      <td>neg</td>\n",
       "    </tr>\n",
       "    <tr>\n",
       "      <th>42344</th>\n",
       "      <td>54928</td>\n",
       "      <td>76629358</td>\n",
       "      <td>3446356</td>\n",
       "      <td>3.50</td>\n",
       "      <td>Buenos días, si estás leyendo este comentario, te recomiendo leerlo entero para tener un contexto global del por que dejo solo 3 estrellas. Primero dejaré unos puntos clave y luego la explicación.\\n\\nPrólogo: Enhorabuena a Nicolas Schurmann por su trabajo y acercar a más gente al mundo del desarrollo, y enhorabuena por el curso que pese a no cuadrar conmigo está muy bien.\\n\\nPrimero: El curso lo recibí de forma gratuita por una promoción.\\nSegundo: Lo explicado en el curso, está bien explicado.\\nTercero: Recomiendo el curso a cualquier persona que no tenga ningún conocimiento del mundo de desarrollo.\\nCuarto: No recomiendo el curso a las personas que ya tengan contacto con el mundo del desarrollo. \\nQuinto: Soy desarrollador Junior trabajando con lenguajes POO como Java y C# en mi día a día. \\nSexto: A la hora de escribir este comentario miré y practiqué hasta la sección 12 (inclusive).\\n\\nExposición: \\nEl título expone muchas tecnologías, cosa que ya me decía que faltarían aspectos interesantes por tocar, yo ya se lo básico de HTML, CSS y algo más avanzado en MySQL, no se que es Flask y no conocía la sintaxis de Python. Mi interés en este curso es principalmente Python, nada más, aún que veré el resto de secciones por si acaso. \\n\\nDicho esto la sección de Python me parece demasiado básica, echando en falta explicación de conceptos como; ámbito de vida de las variables, uso de variables de forma global, funcionamiento extendido a la hora de iterar diccionarios y otro tipo de colecciones, propagación de excepciones y algunos temas más avanzados. \\n\\nPilares de la OO, se explica la creación de clases y su herencia, pero no se explican conceptos como el polimorfismo que me parece de vital importancia en la POO, tampoco se hace mención a la abstracción y el encapsulamiento, pese a explicar la creación de funciones en clases al ser python un lenguaje no tipado (o poco tipado) no queda claro el tema del encapsulamiento, no se explica en el curso, en las clases creadas siempre se tiene acceso a las propiedades y eso va en contra de este principio.\\n\\nEn un capítulo se explica la recursividad, es algo muy potente pero que si no se tienen conocimientos puede dar pie a confusión y errores, desearía algún ejemplo más de recursividad para los más inexpertos. \\n\\nEn resumen, falta un poco de explicación teórica sobre los principios de la POO y falta algo más de contenido sobre Python, lo explicado está perfectamente explicado (menos la recursividad en mi opinión).  \\n\\nCon el título \"python sin fronteras\" esperaba mucho más contenido sobre python, como dije el curso lo recomiendo a cualquier persona que quiera iniciarse, pero si ya controlas aún que sea como junior algún lenguaje de programación, no creo que este curso sea para ti. \\n\\nMe sabe mal dejar tan baja puntuación a Nicolas Schurmann por que su contenido es muy bueno, tanto en esta plataforma como en otras, pero no me queda más remedio que ser objetivo, quizás si el título fuera algo así como \"Iniciación en Python\" o algo similar no hubiera escrito este comentario y le hubiera dado 4.5 estrellas o 5, ya que es 100% apto para los no iniciados. \\n\\nSin más me despido, un saludo y espero os toméis este comentario como lo que es, un comentario que intenta dar un punto de vista como un junior que quiere aprender.</td>\n",
       "      <td>Ramón Martínez Nieto</td>\n",
       "      <td>neg</td>\n",
       "    </tr>\n",
       "  </tbody>\n",
       "</table>\n",
       "</div>"
      ],
      "text/plain": [
       "       index        id   course  rating                                                                                                                                                                                                                                                                                                                                                                                                                                                                                                                                                                                                                                                                                                                                                                                                                                                                                                                                                                                                                                                                                                                                                                                                                                                                                                                                                                                                                                                                                                                                                                                                                                                                                                                                                                                                                                                                                                                                                                                                                                                                                                                                                                                                                                                                                                                                                                                                                                                                                                                                                                                                                                                                                                                                                                                                                                                                                                                                                                                                                                                                                                                                                                                                                                                                                                                                                                                                                                              comment                  user  tag\n",
       "6962    9035  52215828  1922200    3.00                                                                                                                                                                                                                                                                                                                                                                                                                                                                                                                                                                                                                                                                                                                                                                                                                                                                                                                                                                                                                                                                                                                                                                                                                                                                                                                                                                                                                                                                                                                                                                                                                                                                                                                                                                                                                                                                                                                                                                                                                                                                                                                                                                                                                                                                                                                                                                                                                                                                                                                                                                                                                                                                                                                                                                                                                                                                                                                                                                                                                                                                                                                                                                       El contenido es claro e interesante, ya he tomado un par de cursos con Fabian y me han sido de mucha utilidad. Encontré deficiencias en el material de apoyo y la sección 22. El lanzamiento no fue muy clara, pero en general se adquiere un gran conocimiento de scrum scale          Diana Forero  neg\n",
       "42344  54928  76629358  3446356    3.50  Buenos días, si estás leyendo este comentario, te recomiendo leerlo entero para tener un contexto global del por que dejo solo 3 estrellas. Primero dejaré unos puntos clave y luego la explicación.\\n\\nPrólogo: Enhorabuena a Nicolas Schurmann por su trabajo y acercar a más gente al mundo del desarrollo, y enhorabuena por el curso que pese a no cuadrar conmigo está muy bien.\\n\\nPrimero: El curso lo recibí de forma gratuita por una promoción.\\nSegundo: Lo explicado en el curso, está bien explicado.\\nTercero: Recomiendo el curso a cualquier persona que no tenga ningún conocimiento del mundo de desarrollo.\\nCuarto: No recomiendo el curso a las personas que ya tengan contacto con el mundo del desarrollo. \\nQuinto: Soy desarrollador Junior trabajando con lenguajes POO como Java y C# en mi día a día. \\nSexto: A la hora de escribir este comentario miré y practiqué hasta la sección 12 (inclusive).\\n\\nExposición: \\nEl título expone muchas tecnologías, cosa que ya me decía que faltarían aspectos interesantes por tocar, yo ya se lo básico de HTML, CSS y algo más avanzado en MySQL, no se que es Flask y no conocía la sintaxis de Python. Mi interés en este curso es principalmente Python, nada más, aún que veré el resto de secciones por si acaso. \\n\\nDicho esto la sección de Python me parece demasiado básica, echando en falta explicación de conceptos como; ámbito de vida de las variables, uso de variables de forma global, funcionamiento extendido a la hora de iterar diccionarios y otro tipo de colecciones, propagación de excepciones y algunos temas más avanzados. \\n\\nPilares de la OO, se explica la creación de clases y su herencia, pero no se explican conceptos como el polimorfismo que me parece de vital importancia en la POO, tampoco se hace mención a la abstracción y el encapsulamiento, pese a explicar la creación de funciones en clases al ser python un lenguaje no tipado (o poco tipado) no queda claro el tema del encapsulamiento, no se explica en el curso, en las clases creadas siempre se tiene acceso a las propiedades y eso va en contra de este principio.\\n\\nEn un capítulo se explica la recursividad, es algo muy potente pero que si no se tienen conocimientos puede dar pie a confusión y errores, desearía algún ejemplo más de recursividad para los más inexpertos. \\n\\nEn resumen, falta un poco de explicación teórica sobre los principios de la POO y falta algo más de contenido sobre Python, lo explicado está perfectamente explicado (menos la recursividad en mi opinión).  \\n\\nCon el título \"python sin fronteras\" esperaba mucho más contenido sobre python, como dije el curso lo recomiendo a cualquier persona que quiera iniciarse, pero si ya controlas aún que sea como junior algún lenguaje de programación, no creo que este curso sea para ti. \\n\\nMe sabe mal dejar tan baja puntuación a Nicolas Schurmann por que su contenido es muy bueno, tanto en esta plataforma como en otras, pero no me queda más remedio que ser objetivo, quizás si el título fuera algo así como \"Iniciación en Python\" o algo similar no hubiera escrito este comentario y le hubiera dado 4.5 estrellas o 5, ya que es 100% apto para los no iniciados. \\n\\nSin más me despido, un saludo y espero os toméis este comentario como lo que es, un comentario que intenta dar un punto de vista como un junior que quiere aprender.  Ramón Martínez Nieto  neg"
      ]
     },
     "execution_count": 9,
     "metadata": {},
     "output_type": "execute_result"
    }
   ],
   "source": [
    "df_news[df_news['id'].isin([76629358,52215828])]"
   ]
  },
  {
   "cell_type": "code",
   "execution_count": null,
   "metadata": {},
   "outputs": [],
   "source": []
  },
  {
   "cell_type": "code",
   "execution_count": 10,
   "metadata": {
    "id": "FjHvOWg9vf57"
   },
   "outputs": [],
   "source": [
    "import numpy as np\n",
    "import re\n",
    "import nltk\n",
    "from nltk.stem import WordNetLemmatizer\n",
    "from nltk import word_tokenize\n",
    "from nltk.corpus import stopwords\n",
    "import string\n",
    "import matplotlib.pyplot as plt\n",
    "import gensim\n",
    "import numpy as np\n",
    "from gensim.models import CoherenceModel, LdaModel, LsiModel, HdpModel\n",
    "from gensim.corpora import Dictionary\n",
    "# from gensim.models.wrappers import LdaMallet\n"
   ]
  },
  {
   "cell_type": "code",
   "execution_count": 11,
   "metadata": {
    "colab": {
     "base_uri": "https://localhost:8080/"
    },
    "id": "7Sf5qddPsLSb",
    "outputId": "aee4b95e-4849-4b6d-a9ab-0a355ca0f75c"
   },
   "outputs": [
    {
     "data": {
      "text/plain": [
       "pos    109577\n",
       "neg     18883\n",
       "Name: tag, dtype: int64"
      ]
     },
     "execution_count": 11,
     "metadata": {},
     "output_type": "execute_result"
    }
   ],
   "source": [
    "df_news['tag'].value_counts()"
   ]
  },
  {
   "cell_type": "code",
   "execution_count": 12,
   "metadata": {
    "colab": {
     "base_uri": "https://localhost:8080/"
    },
    "id": "bflY9AU1Vbh5",
    "outputId": "c295ec2e-6178-46b2-9072-59bb6cf1ebae"
   },
   "outputs": [
    {
     "name": "stdout",
     "output_type": "stream",
     "text": [
      "<class 'pandas.core.frame.DataFrame'>\n",
      "RangeIndex: 128460 entries, 0 to 128459\n",
      "Data columns (total 7 columns):\n",
      " #   Column   Non-Null Count   Dtype  \n",
      "---  ------   --------------   -----  \n",
      " 0   index    128460 non-null  int64  \n",
      " 1   id       128460 non-null  int64  \n",
      " 2   course   128460 non-null  int64  \n",
      " 3   rating   128460 non-null  float64\n",
      " 4   comment  128460 non-null  object \n",
      " 5   user     128459 non-null  object \n",
      " 6   tag      128460 non-null  object \n",
      "dtypes: float64(1), int64(3), object(3)\n",
      "memory usage: 6.9+ MB\n"
     ]
    }
   ],
   "source": [
    "df_news.info()"
   ]
  },
  {
   "cell_type": "markdown",
   "metadata": {
    "id": "F6qwR5CAahLp"
   },
   "source": [
    "#Data Preprocessing"
   ]
  },
  {
   "cell_type": "markdown",
   "metadata": {
    "id": "wbCEhthGasEn"
   },
   "source": [
    "We defined a list of custom words to be exclude from our dataset"
   ]
  },
  {
   "cell_type": "markdown",
   "metadata": {
    "id": "h8EP2Md3FcQr"
   },
   "source": [
    "Create the cleaner function to clean the spanish text, remove non alpha numeric characters, remove duplicate, remove spanish accutes, remove digits"
   ]
  },
  {
   "cell_type": "code",
   "execution_count": 13,
   "metadata": {
    "colab": {
     "base_uri": "https://localhost:8080/"
    },
    "id": "ETHy-FVJsLSf",
    "outputId": "ace7f2db-38f6-4c6d-b627-a7d732f6ee2c"
   },
   "outputs": [
    {
     "name": "stderr",
     "output_type": "stream",
     "text": [
      "[nltk_data] Downloading package stopwords to\n",
      "[nltk_data]     C:\\Users\\nicol\\AppData\\Roaming\\nltk_data...\n",
      "[nltk_data]   Package stopwords is already up-to-date!\n",
      "[nltk_data] Downloading package punkt to\n",
      "[nltk_data]     C:\\Users\\nicol\\AppData\\Roaming\\nltk_data...\n",
      "[nltk_data]   Package punkt is already up-to-date!\n"
     ]
    },
    {
     "data": {
      "text/plain": [
       "True"
      ]
     },
     "execution_count": 13,
     "metadata": {},
     "output_type": "execute_result"
    }
   ],
   "source": [
    "import nltk\n",
    "nltk.download('stopwords')\n",
    "nltk.download('punkt')"
   ]
  },
  {
   "cell_type": "code",
   "execution_count": 14,
   "metadata": {
    "colab": {
     "base_uri": "https://localhost:8080/",
     "height": 217
    },
    "id": "wf_BkwkshylA",
    "outputId": "a1dd07e8-f0bf-4aa5-cdb8-a31870f7a385"
   },
   "outputs": [
    {
     "data": {
      "image/png": "[encoded data removed]",
      "text/plain": [
       "<PIL.Image.Image image mode=RGB size=400x200 at 0x1ECCB9AE1C8>"
      ]
     },
     "execution_count": 14,
     "metadata": {},
     "output_type": "execute_result"
    }
   ],
   "source": [
    "# Import the wordcloud library\n",
    "from wordcloud import WordCloud\n",
    "# Join the different processed titles together.\n",
    "long_string = ','.join(list(df_news['comment'].values))\n",
    "# Create a WordCloud object\n",
    "wordcloud = WordCloud(background_color=\"white\", max_words=20, contour_width=3, contour_color='steelblue')\n",
    "# Generate a word cloud\n",
    "wordcloud.generate(long_string)\n",
    "# Visualize the word cloud\n",
    "wordcloud.to_image()\n"
   ]
  },
  {
   "cell_type": "code",
   "execution_count": 15,
   "metadata": {
    "id": "AaApERG6sLSg"
   },
   "outputs": [],
   "source": [
    "from nltk import word_tokenize\n",
    "from nltk.corpus import stopwords\n",
    "stop = set(stopwords.words('spanish'))\n",
    "\n",
    "black_list = ['excelente', 'buen','bien',\n",
    "              'muchas', 'gracias', 'curso','course','good'\n",
    "              ]\n",
    "\n",
    "additional_stopwords=set(black_list)\n",
    "\n",
    "stopwords_sp = stop.union(additional_stopwords)\n",
    "\n",
    "from nltk.stem import SnowballStemmer\n",
    "spanish_stemmer = SnowballStemmer('spanish')\n",
    "def stemmization(texts):\n",
    "    texts = re.sub(r\"\"\"\n",
    "                   [,.;@#?!&$]+  # Accept one or more copies of punctuation\n",
    "                   \\ *           # plus zero or more copies of a space,\n",
    "                   \"\"\",\n",
    "                   \" \",          # and replace it with a single space\n",
    "                   texts, flags=re.VERBOSE)\n",
    "    return spanish_stemmer.stem(texts).split()\n",
    "\n",
    "\n",
    "import spacy\n",
    "nlp = spacy.load('es_core_news_md')\n",
    "def lemmatization(texts, allowed_postags=['NOUN']):\n",
    "    #x = nlp(texts)\n",
    "    #print([(xx.text,xx.pos_) for xx in x])\n",
    "    texts_out = [ token.text for token in nlp(texts) if token.pos_ in \n",
    "                 allowed_postags and token.text not in black_list and len(token.text)>2]\n",
    "    return texts_out"
   ]
  },
  {
   "cell_type": "code",
   "execution_count": 16,
   "metadata": {
    "colab": {
     "base_uri": "https://localhost:8080/"
    },
    "id": "-x7SAxresLSh",
    "outputId": "8de343f8-2ee9-4977-ffc8-eeec56fafe8c"
   },
   "outputs": [
    {
     "name": "stdout",
     "output_type": "stream",
     "text": [
      "Wall time: 46.4 s\n"
     ]
    }
   ],
   "source": [
    "%%time\n",
    "bigram = gensim.models.Phrases(df_news['comment'].to_list()) "
   ]
  },
  {
   "cell_type": "code",
   "execution_count": 17,
   "metadata": {
    "id": "H_7Un4fSFbdC"
   },
   "outputs": [],
   "source": [
    "def cleaner(word):\n",
    "    word = re.sub(r'((http|https)\\:\\/\\/)?[a-zA-Z0-9\\.\\/\\?\\:@\\-_=#]+\\.([a-zA-Z]){2,6}([a-zA-Z0-9\\.\\&\\/\\?\\:@\\-_=#])*', '', word, flags=re.MULTILINE)\n",
    "    word = re.sub(r'(?::|;|=)(?:-)?(?:\\)|\\(|D|P)', \"\", word)\n",
    "    word = re.sub(r'ee.uu', 'eeuu', word)\n",
    "    word = re.sub(r'\\#\\.', '', word)\n",
    "    word = re.sub(r'\\n', '', word)\n",
    "    word = re.sub(r',', ' ', word)\n",
    "    word = re.sub(r'\\-', ' ', word)\n",
    "    word = re.sub(r'\\.{3}', ' ', word)\n",
    "    word = re.sub(r'a{2,}', 'a', word)\n",
    "    word = re.sub(r'é{2,}', 'é', word)\n",
    "    word = re.sub(r'i{2,}', 'i', word)\n",
    "    word = re.sub(r'ja{2,}', 'ja', word) \n",
    "    word = re.sub(r'á', 'a', word)\n",
    "    word = re.sub(r'é', 'e', word)\n",
    "    word = re.sub(r'í', 'i', word)\n",
    "    word = re.sub(r'ó', 'o', word)\n",
    "    word = re.sub(r'ú', 'u', word)  \n",
    "    word = re.sub('[^a-zA-Z]', ' ', word)\n",
    "    wordlist = [ token for token in nltk.word_tokenize(word) if token.lower() not in stopwords_sp and len(token)>3 ]\n",
    "    wordlist = [x for x in wordlist if not any(string for string in black_list if string in x)]\n",
    "    word = \" \".join(wordlist)\n",
    "    list_word_clean = []\n",
    "    for w1 in word.split(r\"\\s\"):\n",
    "        if  w1.lower() not in stopwords_sp:\n",
    "            list_word_clean.append(w1.lower())\n",
    "\n",
    "    bigram_list = bigram[list_word_clean]\n",
    "    out_text = stemmization(\" \".join(bigram_list))\n",
    "    return out_text"
   ]
  },
  {
   "cell_type": "code",
   "execution_count": 18,
   "metadata": {
    "colab": {
     "base_uri": "https://localhost:8080/"
    },
    "id": "IzlA9y1asLSk",
    "outputId": "0fb710cd-09d0-41e3-c401-96967e3826f9"
   },
   "outputs": [
    {
     "data": {
      "text/plain": [
       "['amigo',\n",
       " 'adentraste',\n",
       " 'informaste',\n",
       " 'publicar',\n",
       " 'mejor',\n",
       " 'facebook',\n",
       " 'recomendacion',\n",
       " 'mejora',\n",
       " 'diccion']"
      ]
     },
     "execution_count": 18,
     "metadata": {},
     "output_type": "execute_result"
    }
   ],
   "source": [
    "cleaner('Curso. Gracias amigo me adentraste e informaste como publicar mejor en Facebook Ads , recomendación mejora tu dicción\t')"
   ]
  },
  {
   "cell_type": "code",
   "execution_count": null,
   "metadata": {},
   "outputs": [],
   "source": []
  },
  {
   "cell_type": "markdown",
   "metadata": {
    "id": "vmgAfhN6bWrR"
   },
   "source": [
    "Create the function for select **only nouns** for our data, this way we are removing adverb, adjetives, verbs, etc. This is doing with spacy"
   ]
  },
  {
   "cell_type": "markdown",
   "metadata": {
    "id": "3wMjzGX9bscx"
   },
   "source": [
    "For gensim we need a list of text, so we need do convert the dataframe to list"
   ]
  },
  {
   "cell_type": "code",
   "execution_count": 19,
   "metadata": {
    "colab": {
     "base_uri": "https://localhost:8080/"
    },
    "id": "mkWKMovYsLSl",
    "outputId": "9a93a93a-6558-4835-9515-68efa893de10"
   },
   "outputs": [
    {
     "data": {
      "text/plain": [
       "['curso',\n",
       " 'gracias',\n",
       " 'amigo',\n",
       " 'me',\n",
       " 'adentraste',\n",
       " 'e',\n",
       " 'informaste',\n",
       " 'como',\n",
       " 'publicar',\n",
       " 'mejor',\n",
       " 'en',\n",
       " 'facebook',\n",
       " 'ads',\n",
       " 'recomendacion',\n",
       " 'mejora',\n",
       " 'tu',\n",
       " 'diccion']"
      ]
     },
     "execution_count": 19,
     "metadata": {},
     "output_type": "execute_result"
    }
   ],
   "source": [
    "stemmization('Curso. Gracias amigo me adentraste e informaste como publicar mejor en Facebook Ads , recomendación mejora tu dicción')"
   ]
  },
  {
   "cell_type": "code",
   "execution_count": 20,
   "metadata": {
    "colab": {
     "base_uri": "https://localhost:8080/"
    },
    "id": "La3wNKpxsLSm",
    "outputId": "f18e208c-d5f7-4124-d131-c2e665393cc6"
   },
   "outputs": [
    {
     "data": {
      "text/plain": [
       "['amigo', 'recomendación', 'dicción']"
      ]
     },
     "execution_count": 20,
     "metadata": {},
     "output_type": "execute_result"
    }
   ],
   "source": [
    "lemmatization('Curso. Gracias amigo me adentraste e informaste como publicar mejor en Facebook Ads , recomendación mejora tu dicción\t')"
   ]
  },
  {
   "cell_type": "code",
   "execution_count": null,
   "metadata": {
    "id": "LKGcdWLbsLSm"
   },
   "outputs": [],
   "source": []
  },
  {
   "cell_type": "code",
   "execution_count": 21,
   "metadata": {
    "colab": {
     "base_uri": "https://localhost:8080/"
    },
    "id": "IZhWiKxY4Gx2",
    "outputId": "4b8922f9-c8b9-4253-f3a3-39c7912bea79"
   },
   "outputs": [
    {
     "data": {
      "text/plain": [
       "128460"
      ]
     },
     "execution_count": 21,
     "metadata": {},
     "output_type": "execute_result"
    }
   ],
   "source": [
    "len(df_news)"
   ]
  },
  {
   "cell_type": "code",
   "execution_count": null,
   "metadata": {
    "id": "kJzcwy4ORHD1"
   },
   "outputs": [],
   "source": []
  },
  {
   "cell_type": "code",
   "execution_count": 22,
   "metadata": {
    "id": "HciZjXBfwbXM"
   },
   "outputs": [],
   "source": [
    "# !python -m spacy download es_core_news_md"
   ]
  },
  {
   "cell_type": "code",
   "execution_count": 23,
   "metadata": {
    "colab": {
     "base_uri": "https://localhost:8080/"
    },
    "id": "yDBAXRQuOnOG",
    "outputId": "6b8bda52-2cc2-4162-a922-b5f1110b8f56"
   },
   "outputs": [
    {
     "data": {
      "text/plain": [
       "77772                                                                                  Uno de los cursos más completos que vi de Wordpress, con lo mucho que me cuesta php, logré terminar el sitio de wordpress básico en un día. Muy genial!\n",
       "48064    A mi gusto el curso, muy bien explicado. Es ideal para aprender desde 0. Lo único que le faltaría para mi gusto es algún proyecto con display o motor paso a paso. Lo recomiendo para empezar a utilizar arduino en nuevos proyectos.\n",
       "82826                                                                                                                                                                          buenisima, para complementar conocimiento, recomendare if o if.\n",
       "Name: comment, dtype: object"
      ]
     },
     "execution_count": 23,
     "metadata": {},
     "output_type": "execute_result"
    }
   ],
   "source": [
    "df_news['comment'].sample(3)"
   ]
  },
  {
   "cell_type": "code",
   "execution_count": 24,
   "metadata": {
    "colab": {
     "base_uri": "https://localhost:8080/"
    },
    "id": "2vyiSwQjPCox",
    "outputId": "4144fb08-b282-4fca-b4a1-7b37277c641f"
   },
   "outputs": [
    {
     "data": {
      "text/plain": [
       "['interesante',\n",
       " 'tematica',\n",
       " 'guia',\n",
       " 'unico',\n",
       " 'desmotiva',\n",
       " 'musica',\n",
       " 'fondo',\n",
       " 'habla',\n",
       " 'parece',\n",
       " 'circo',\n",
       " 'desafin']"
      ]
     },
     "execution_count": 24,
     "metadata": {},
     "output_type": "execute_result"
    }
   ],
   "source": [
    "cleaner(df_news['comment'].iloc[3])"
   ]
  },
  {
   "cell_type": "markdown",
   "metadata": {
    "id": "3FqIi24ISgK2"
   },
   "source": [
    "The Cleaner function work properly"
   ]
  },
  {
   "cell_type": "markdown",
   "metadata": {
    "id": "yjMX0qS4SmUR"
   },
   "source": [
    "##### Let's clean all the text"
   ]
  },
  {
   "cell_type": "code",
   "execution_count": 25,
   "metadata": {
    "colab": {
     "base_uri": "https://localhost:8080/",
     "height": 85,
     "referenced_widgets": [
      "145eb5a8490840ee8a59c2e5ecb9fb63",
      "c5a72880845c468bab8b94cdaf955d5a",
      "54655fc4039c446c934630618a56cf19",
      "217e301cf3ad4479985ffc5eedd5b570",
      "cb928d5c591b404e970117a869846c65",
      "fdb2d4a7e7c04d57a72d5d029866a400",
      "fe30daee9ac74b02970260b25876faf8",
      "a6f33558a6214d7c89a7742f0d6f1eba",
      "bc71e2b5e3d04152862ffd8a06c0eedc",
      "8f8adb050ba24334b9705adb42006220",
      "d91f276468e74cb49f001d98f45e7b74"
     ]
    },
    "id": "TBDM5Caomutj",
    "outputId": "132b445d-8fdd-4de0-a8a3-49129595fb4e"
   },
   "outputs": [
    {
     "name": "stderr",
     "output_type": "stream",
     "text": [
      "100%|██████████| 128460/128460 [01:41<00:00, 1261.75it/s]\n"
     ]
    }
   ],
   "source": [
    "from tqdm import tqdm\n",
    "tqdm.pandas()\n",
    "\n",
    "df_news['comment_cleaned'] = df_news['comment'].progress_apply(cleaner)"
   ]
  },
  {
   "cell_type": "code",
   "execution_count": 26,
   "metadata": {
    "colab": {
     "base_uri": "https://localhost:8080/",
     "height": 217
    },
    "id": "Y2NmNSuniOTp",
    "outputId": "961250dd-4956-4c14-d5e7-5e1c5cd2f3fd"
   },
   "outputs": [
    {
     "data": {
      "image/png": "[encoded data removed]",
      "text/plain": [
       "<PIL.Image.Image image mode=RGB size=400x200 at 0x1ECECD6FE88>"
      ]
     },
     "execution_count": 26,
     "metadata": {},
     "output_type": "execute_result"
    }
   ],
   "source": [
    "# Import the wordcloud library\n",
    "from wordcloud import WordCloud\n",
    "# Join the different processed titles together.\n",
    "long_string = ','.join(list([' '.join(map(str, l)) for l in df_news['comment_cleaned']]))\n",
    "# Create a WordCloud object\n",
    "wordcloud = WordCloud(background_color=\"white\", max_words=5000, contour_width=3, contour_color='steelblue')\n",
    "# Generate a word cloud\n",
    "wordcloud.generate(long_string)\n",
    "# Visualize the word cloud\n",
    "wordcloud.to_image()\n"
   ]
  },
  {
   "cell_type": "markdown",
   "metadata": {
    "id": "7egM0YZzRS9r"
   },
   "source": [
    "Now we need to build the *corpus* and the *dictionary* that gensim need to work, to do that we need to pass a list of list of tokens"
   ]
  },
  {
   "cell_type": "code",
   "execution_count": 27,
   "metadata": {
    "id": "wTkoQsP1sLSp"
   },
   "outputs": [],
   "source": [
    "# las palabras \"curso,clase\" son stopwords"
   ]
  },
  {
   "cell_type": "code",
   "execution_count": 195,
   "metadata": {
    "colab": {
     "base_uri": "https://localhost:8080/"
    },
    "id": "SnP_xrwUsLSp",
    "outputId": "0aa80ee2-029d-490e-bfe4-6709d38fd2d5"
   },
   "outputs": [
    {
     "data": {
      "text/plain": [
       "200                                                                                                                                                                                                                                                                                                                                                                                       [dicho, leyendo, pueda, saber, facil]\n",
       "201                                                                                                                                                                                                                                                                                                                                                                                                        [explicado, complet]\n",
       "202                                                                                                                                                                                                                                                                                                                                                                                                               [explicacion]\n",
       "203                                                                                                                                                                                                                                                                                                                                            [super, profesor, momento, trabajando, cuanto, termine, pondre, practica, salud]\n",
       "204                                                                                                                                                                                                                                                                                                                                                                                        [primeros, videos, gustando, officc]\n",
       "205                                                                                                                                                                                                                                                                                                                                                        [facil, intuitivo, ahora, igual, quedado, desfasado, valiendo, juni]\n",
       "206                                                                                                                                                                                                                       [eleccion, aunque, agradeceria, usase, mismo, tono, plano, objetivos, examen, estaria, claro, separarse, guiones, objetivos, leerlos, critica, constructiva, pretendo, molestar, profesor, sabe, not]\n",
       "207    [ultimo, bloque, faltan, detalles, forma, hacer, login, videos, anteriores, aparece, agradecerian, refrescarlo, hecho, falta, introduccion, powershell, test, entran, sentencias, explican, clases, seria, interesante, dedicarle, powershell, unas, clases, directamente, meter, bloque, powershell, basico, darte, unas, nociones, basicas, conocer, aspectos, basicos, office, faltan, nociones, basicas, powershell]\n",
       "208                                                                                                                                                                                                                                                                                                                                                               [finalmente, quedo, contento, contenido, estructurado, dirig]\n",
       "209                                                                                                                                                                                                                                                                                                                                                                               [eleccion, unico, detalle, momento, actualiz]\n",
       "Name: comment_cleaned, dtype: object"
      ]
     },
     "execution_count": 195,
     "metadata": {},
     "output_type": "execute_result"
    }
   ],
   "source": [
    "df_news['comment_cleaned'].iloc[200:210]"
   ]
  },
  {
   "cell_type": "code",
   "execution_count": 196,
   "metadata": {
    "id": "DZmxTdsYTV35"
   },
   "outputs": [],
   "source": [
    "dictionary = Dictionary(df_news['comment_cleaned'].to_list())\n",
    "dictionary.compactify()\n",
    "# Filter extremes\n",
    "#dictionary.filter_extremes(no_below=5, no_above=0.3)#, keep_n=10000)\n",
    "#dictionary.filter_extremes(no_below=2, no_above=0.97, keep_n=None)\n",
    "dictionary.filter_extremes(no_below=5, no_above=0.2, keep_n=None)\n",
    "dictionary.compactify()\n",
    "\n",
    "corpus = [dictionary.doc2bow(text) for text in df_news['comment_cleaned'].to_list()]"
   ]
  },
  {
   "cell_type": "code",
   "execution_count": 197,
   "metadata": {},
   "outputs": [],
   "source": [
    "# Aplano la lista\n",
    "def flatten(t):\n",
    "    return [item for sublist in t for item in sublist]"
   ]
  },
  {
   "cell_type": "code",
   "execution_count": 198,
   "metadata": {},
   "outputs": [
    {
     "name": "stdout",
     "output_type": "stream",
     "text": [
      "['basico', 'ganas', 'compr', 'tutorial', 'metodologia', 'aplicada', 'proceso', 'felicit', 'complicado', 'adaptarme']\n",
      "['experiencia', 'aprendiendo', 'usar', 'maxent', 'conociendo', 'fuentes', 'informacion', 'definitivamente', 'instruyendome', 'estudios']\n"
     ]
    }
   ],
   "source": [
    "# Creo lista de positivos y negativos\n",
    "muestra = 10000\n",
    "lista_negativos = flatten(df_news[df_news['tag']=='neg'].sample(muestra)['comment_cleaned'].to_list())\n",
    "print(lista_negativos[:10])\n",
    "lista_positivos = flatten(df_news[df_news['tag']=='pos'].sample(muestra)['comment_cleaned'].to_list())\n",
    "print(lista_positivos[:10])"
   ]
  },
  {
   "cell_type": "code",
   "execution_count": 199,
   "metadata": {},
   "outputs": [],
   "source": [
    "import numpy as np\n",
    "from sklearn.feature_extraction.text import CountVectorizer as CV\n",
    "import string\n",
    "exclude = set(string.punctuation)\n",
    "\n",
    "def basic_sanitize(in_string):\n",
    "    '''Returns a very roughly sanitized version of the input string.'''  \n",
    "    in_string = ''.join([ch for ch in in_string if ch not in exclude])\n",
    "    in_string = in_string.lower()\n",
    "    in_string = ' '.join(in_string.split())\n",
    "    return in_string\n",
    "\n",
    "def bayes_compare_language(l1, l2, ngram = 1, prior=.01, cv = None):\n",
    "    '''\n",
    "    Arguments:\n",
    "    - l1, l2; a list of strings from each language sample\n",
    "    - ngram; an int describing up to what n gram you want to consider (1 is unigrams,\n",
    "    2 is bigrams + unigrams, etc). Ignored if a custom CountVectorizer is passed.\n",
    "    - prior; either a float describing a uniform prior, or a vector describing a prior\n",
    "    over vocabulary items. If you're using a predefined vocabulary, make sure to specify that\n",
    "    when you make your CountVectorizer object.\n",
    "    - cv; a sklearn.feature_extraction.text.CountVectorizer object, if desired.\n",
    "    Returns:\n",
    "    - A list of length |Vocab| where each entry is a (n-gram, zscore) tuple.'''\n",
    "    if cv is None and type(prior) is not float:\n",
    "        print(\"If using a non-uniform prior:\")\n",
    "        print(\"Please also pass a count vectorizer with the vocabulary parameter set.\")\n",
    "        quit()\n",
    "    l1 = [basic_sanitize(l) for l in l1]\n",
    "    l2 = [basic_sanitize(l) for l in l2]\n",
    "    if cv is None:\n",
    "        cv = CV(decode_error = 'ignore', min_df = 10, max_df = .5, ngram_range=(1,ngram),\n",
    "                binary = False,\n",
    "                max_features = 15000)\n",
    "    counts_mat = cv.fit_transform(l1+l2).toarray()\n",
    "    # Now sum over languages...\n",
    "    vocab_size = len(cv.vocabulary_)\n",
    "    print(\"Vocab size is {}\".format(vocab_size))\n",
    "    if type(prior) is float:\n",
    "        priors = np.array([prior for i in range(vocab_size)])\n",
    "    else:\n",
    "        priors = prior\n",
    "    z_scores = np.empty(priors.shape[0])\n",
    "    count_matrix = np.empty([2, vocab_size], dtype=np.float32)\n",
    "    count_matrix[0, :] = np.sum(counts_mat[:len(l1), :], axis = 0)\n",
    "    count_matrix[1, :] = np.sum(counts_mat[len(l1):, :], axis = 0)\n",
    "    a0 = np.sum(priors)\n",
    "    n1 = 1.*np.sum(count_matrix[0,:])\n",
    "    n2 = 1.*np.sum(count_matrix[1,:])\n",
    "    print(\"Comparing language...\")\n",
    "    for i in range(vocab_size):\n",
    "        #compute delta\n",
    "        term1 = np.log((count_matrix[0,i] + priors[i])/(n1 + a0 - count_matrix[0,i] - priors[i]))\n",
    "        term2 = np.log((count_matrix[1,i] + priors[i])/(n2 + a0 - count_matrix[1,i] - priors[i]))        \n",
    "        delta = term1 - term2\n",
    "        #compute variance on delta\n",
    "        var = 1./(count_matrix[0,i] + priors[i]) + 1./(count_matrix[1,i] + priors[i])\n",
    "        #store final score\n",
    "        z_scores[i] = delta/np.sqrt(var)\n",
    "    index_to_term = {v:k for k,v in cv.vocabulary_.items()}\n",
    "    sorted_indices = np.argsort(z_scores)\n",
    "    return_list = []\n",
    "    for i in sorted_indices:\n",
    "        return_list.append((index_to_term[i], z_scores[i]))\n",
    "    return return_list"
   ]
  },
  {
   "cell_type": "code",
   "execution_count": 200,
   "metadata": {
    "scrolled": true
   },
   "outputs": [
    {
     "name": "stdout",
     "output_type": "stream",
     "text": [
      "Vocab size is 2516\n",
      "Comparing language...\n"
     ]
    }
   ],
   "source": [
    "a = bayes_compare_language(lista_positivos,lista_negativos, prior=0.01)"
   ]
  },
  {
   "cell_type": "code",
   "execution_count": 201,
   "metadata": {},
   "outputs": [
    {
     "data": {
      "text/plain": [
       "[('falta', -13.77984802252577),\n",
       " ('podria', -11.29253254389741),\n",
       " ('demasiado', -11.120040472226602),\n",
       " ('video', -11.029152844322793),\n",
       " ('deberia', -10.922476804575838),\n",
       " ('solo', -10.510840820588434),\n",
       " ('videos', -10.479379096340692),\n",
       " ('esperaba', -10.466770756889856),\n",
       " ('audio', -9.444754826152977),\n",
       " ('creo', -9.196482424675278)]"
      ]
     },
     "execution_count": 201,
     "metadata": {},
     "output_type": "execute_result"
    }
   ],
   "source": [
    "# Palabras más negativas\n",
    "a[:10]"
   ]
  },
  {
   "cell_type": "code",
   "execution_count": 202,
   "metadata": {},
   "outputs": [
    {
     "data": {
      "text/plain": [
       "[('super', 10.794375070464929),\n",
       " ('clara', 11.557824872977728),\n",
       " ('completo', 11.716901279420437),\n",
       " ('gran', 12.063101332867522),\n",
       " ('recomend', 12.552838503396382),\n",
       " ('explic', 13.49531160348064),\n",
       " ('eleccion', 14.423112573546248),\n",
       " ('facil', 14.708605261845422),\n",
       " ('claro', 15.274533071803525),\n",
       " ('explicado', 19.380796870170368)]"
      ]
     },
     "execution_count": 202,
     "metadata": {},
     "output_type": "execute_result"
    }
   ],
   "source": [
    "# Palabras más positivas\n",
    "a[-10:]"
   ]
  },
  {
   "cell_type": "code",
   "execution_count": 203,
   "metadata": {},
   "outputs": [
    {
     "name": "stdout",
     "output_type": "stream",
     "text": [
      "['desactualizado', 'existen', 'gratuitos', 'mejores', 'aprender', 'ense', 'justifica', 'preci', 'entretenido', 'instructor']\n",
      "['aprendiendo', 'nuevas', 'cosas', 'ademas', 'refrescar', 'conocimientos', 'adquiri', 'hace', 'varios', 'razones']\n"
     ]
    }
   ],
   "source": [
    "# Creo lista de positivos y negativos\n",
    "muestra = 2000\n",
    "lista_negativos = flatten(df_news[df_news['tag']=='neg'].sample(muestra)['comment_cleaned'].to_list())\n",
    "print(lista_negativos[:10])\n",
    "lista_positivos = flatten(df_news[df_news['tag']=='pos'].sample(muestra)['comment_cleaned'].to_list())\n",
    "print(lista_positivos[:10])"
   ]
  },
  {
   "cell_type": "code",
   "execution_count": 204,
   "metadata": {},
   "outputs": [],
   "source": [
    "import numpy as np\n",
    "from sklearn.feature_extraction.text import CountVectorizer as CV\n",
    "import string\n",
    "exclude = set(string.punctuation)\n",
    "\n",
    "def basic_sanitize(in_string):\n",
    "    '''Returns a very roughly sanitized version of the input string.'''  \n",
    "    in_string = ''.join([ch for ch in in_string if ch not in exclude])\n",
    "    in_string = in_string.lower()\n",
    "    in_string = ' '.join(in_string.split())\n",
    "    return in_string\n",
    "\n",
    "def bayes_compare_language_deltas(l1, l2, ngram = 1, prior=.01, cv = None):\n",
    "    '''\n",
    "    Arguments:\n",
    "    - l1, l2; a list of strings from each language sample\n",
    "    - ngram; an int describing up to what n gram you want to consider (1 is unigrams,\n",
    "    2 is bigrams + unigrams, etc). Ignored if a custom CountVectorizer is passed.\n",
    "    - prior; either a float describing a uniform prior, or a vector describing a prior\n",
    "    over vocabulary items. If you're using a predefined vocabulary, make sure to specify that\n",
    "    when you make your CountVectorizer object.\n",
    "    - cv; a sklearn.feature_extraction.text.CountVectorizer object, if desired.\n",
    "    Returns:\n",
    "    - A list of length |Vocab| where each entry is a (n-gram, zscore) tuple.'''\n",
    "    if cv is None and type(prior) is not float:\n",
    "        print(\"If using a non-uniform prior:\")\n",
    "        print(\"Please also pass a count vectorizer with the vocabulary parameter set.\")\n",
    "        quit()\n",
    "    l1 = [basic_sanitize(l) for l in l1]\n",
    "    l2 = [basic_sanitize(l) for l in l2]\n",
    "    if cv is None:\n",
    "        cv = CV(decode_error = 'ignore', min_df = 10, max_df = .5, ngram_range=(1,ngram),\n",
    "                binary = False,\n",
    "                max_features = 15000)\n",
    "    counts_mat = cv.fit_transform(l1+l2).toarray()\n",
    "    # Now sum over languages...\n",
    "    vocab_size = len(cv.vocabulary_)\n",
    "    print(\"Vocab size is {}\".format(vocab_size))\n",
    "    if type(prior) is float:\n",
    "        priors = np.array([prior for i in range(vocab_size)])\n",
    "    else:\n",
    "        priors = prior\n",
    "    z_scores = np.empty(priors.shape[0])\n",
    "    deltas = np.empty(priors.shape[0]) #agregado\n",
    "    count_matrix = np.empty([2, vocab_size], dtype=np.float32)\n",
    "    count_matrix[0, :] = np.sum(counts_mat[:len(l1), :], axis = 0)\n",
    "    count_matrix[1, :] = np.sum(counts_mat[len(l1):, :], axis = 0)\n",
    "    a0 = np.sum(priors)\n",
    "    n1 = 1.*np.sum(count_matrix[0,:])\n",
    "    n2 = 1.*np.sum(count_matrix[1,:])\n",
    "    print(\"Comparing language...\")\n",
    "    for i in range(vocab_size):\n",
    "        #compute delta\n",
    "        term1 = np.log((count_matrix[0,i] + priors[i])/(n1 + a0 - count_matrix[0,i] - priors[i]))\n",
    "        term2 = np.log((count_matrix[1,i] + priors[i])/(n2 + a0 - count_matrix[1,i] - priors[i]))        \n",
    "        delta = term1 - term2\n",
    "        #compute variance on delta\n",
    "        var = 1./(count_matrix[0,i] + priors[i]) + 1./(count_matrix[1,i] + priors[i])\n",
    "        #store final score\n",
    "        z_scores[i] = delta/np.sqrt(var)\n",
    "        deltas[i] = delta # Agregado\n",
    "    index_to_term = {v:k for k,v in cv.vocabulary_.items()}\n",
    "#     sorted_indices = np.argsort(z_scores) #Agregado\n",
    "    sorted_indices = np.argsort(deltas) #Agregado\n",
    "    return_list = []\n",
    "    for i in sorted_indices:\n",
    "#         return_list.append((index_to_term[i], z_scores[i])) #Agregado\n",
    "        return_list.append((index_to_term[i], z_scores[i], deltas[i])) # Agregado\n",
    "    return return_list"
   ]
  },
  {
   "cell_type": "code",
   "execution_count": 205,
   "metadata": {
    "scrolled": true
   },
   "outputs": [
    {
     "name": "stdout",
     "output_type": "stream",
     "text": [
      "Vocab size is 708\n",
      "Comparing language...\n"
     ]
    }
   ],
   "source": [
    "a = bayes_compare_language_deltas(lista_positivos,lista_negativos,prior=0.01)"
   ]
  },
  {
   "cell_type": "code",
   "execution_count": 206,
   "metadata": {},
   "outputs": [
    {
     "data": {
      "text/plain": [
       "[('escucha', -0.7179872191861927, -7.181982367423098),\n",
       " ('pesimo', -0.7179872191861927, -7.181982367423098),\n",
       " ('tedioso', -0.6910943633091414, -6.913599135065722),\n",
       " ('superficial', -0.6910943633091414, -6.913599135065722),\n",
       " ('leyendo', -0.6830702298634818, -6.8335454630861925),\n",
       " ('cort', -0.6743473031881739, -6.746534767808791),\n",
       " ('comentarios', -0.6647920595365868, -6.651240406107301),\n",
       " ('lamentablemente', -0.6647920595365868, -6.651240406107301),\n",
       " ('supone', -0.6647920595365868, -6.651240406107301),\n",
       " ('descargar', -0.6647920595365868, -6.651240406107301)]"
      ]
     },
     "execution_count": 206,
     "metadata": {},
     "output_type": "execute_result"
    }
   ],
   "source": [
    "# Palabras más negativas\n",
    "a[:10]"
   ]
  },
  {
   "cell_type": "code",
   "execution_count": 207,
   "metadata": {},
   "outputs": [
    {
     "data": {
      "text/html": [
       "<div>\n",
       "<style scoped>\n",
       "    .dataframe tbody tr th:only-of-type {\n",
       "        vertical-align: middle;\n",
       "    }\n",
       "\n",
       "    .dataframe tbody tr th {\n",
       "        vertical-align: top;\n",
       "    }\n",
       "\n",
       "    .dataframe thead th {\n",
       "        text-align: right;\n",
       "    }\n",
       "</style>\n",
       "<table border=\"1\" class=\"dataframe\">\n",
       "  <thead>\n",
       "    <tr style=\"text-align: right;\">\n",
       "      <th></th>\n",
       "      <th>palabra</th>\n",
       "      <th>zscore</th>\n",
       "      <th>delta</th>\n",
       "    </tr>\n",
       "  </thead>\n",
       "  <tbody>\n",
       "    <tr>\n",
       "      <th>0</th>\n",
       "      <td>escucha</td>\n",
       "      <td>-0.72</td>\n",
       "      <td>-7.18</td>\n",
       "    </tr>\n",
       "    <tr>\n",
       "      <th>1</th>\n",
       "      <td>pesimo</td>\n",
       "      <td>-0.72</td>\n",
       "      <td>-7.18</td>\n",
       "    </tr>\n",
       "    <tr>\n",
       "      <th>2</th>\n",
       "      <td>tedioso</td>\n",
       "      <td>-0.69</td>\n",
       "      <td>-6.91</td>\n",
       "    </tr>\n",
       "    <tr>\n",
       "      <th>3</th>\n",
       "      <td>superficial</td>\n",
       "      <td>-0.69</td>\n",
       "      <td>-6.91</td>\n",
       "    </tr>\n",
       "    <tr>\n",
       "      <th>4</th>\n",
       "      <td>leyendo</td>\n",
       "      <td>-0.68</td>\n",
       "      <td>-6.83</td>\n",
       "    </tr>\n",
       "    <tr>\n",
       "      <th>...</th>\n",
       "      <td>...</td>\n",
       "      <td>...</td>\n",
       "      <td>...</td>\n",
       "    </tr>\n",
       "    <tr>\n",
       "      <th>703</th>\n",
       "      <td>sigo</td>\n",
       "      <td>2.33</td>\n",
       "      <td>2.45</td>\n",
       "    </tr>\n",
       "    <tr>\n",
       "      <th>704</th>\n",
       "      <td>recomend</td>\n",
       "      <td>5.27</td>\n",
       "      <td>2.48</td>\n",
       "    </tr>\n",
       "    <tr>\n",
       "      <th>705</th>\n",
       "      <td>trabaj</td>\n",
       "      <td>2.55</td>\n",
       "      <td>2.65</td>\n",
       "    </tr>\n",
       "    <tr>\n",
       "      <th>706</th>\n",
       "      <td>angular</td>\n",
       "      <td>0.73</td>\n",
       "      <td>7.35</td>\n",
       "    </tr>\n",
       "    <tr>\n",
       "      <th>707</th>\n",
       "      <td>fernando</td>\n",
       "      <td>0.76</td>\n",
       "      <td>7.64</td>\n",
       "    </tr>\n",
       "  </tbody>\n",
       "</table>\n",
       "<p>708 rows × 3 columns</p>\n",
       "</div>"
      ],
      "text/plain": [
       "         palabra  zscore  delta\n",
       "0        escucha   -0.72  -7.18\n",
       "1         pesimo   -0.72  -7.18\n",
       "2        tedioso   -0.69  -6.91\n",
       "3    superficial   -0.69  -6.91\n",
       "4        leyendo   -0.68  -6.83\n",
       "..           ...     ...    ...\n",
       "703         sigo    2.33   2.45\n",
       "704     recomend    5.27   2.48\n",
       "705       trabaj    2.55   2.65\n",
       "706      angular    0.73   7.35\n",
       "707     fernando    0.76   7.64\n",
       "\n",
       "[708 rows x 3 columns]"
      ]
     },
     "execution_count": 207,
     "metadata": {},
     "output_type": "execute_result"
    }
   ],
   "source": [
    "b = pd.DataFrame(a)\n",
    "b.columns = ['palabra','zscore','delta']\n",
    "b"
   ]
  },
  {
   "cell_type": "code",
   "execution_count": 208,
   "metadata": {},
   "outputs": [
    {
     "data": {
      "text/plain": [
       "[('perfectamente', 2.8064740180612833, 2.1269599643596546),\n",
       " ('detallado', 3.6608387248015615, 2.2497330085571274),\n",
       " ('super', 5.353937770658582, 2.3193207803126343),\n",
       " ('encanto', 3.1200106143167923, 2.334746699559619),\n",
       " ('encant', 2.3323977594566427, 2.4474475528823145),\n",
       " ('sigo', 2.3323977594566427, 2.4474475528823145),\n",
       " ('recomend', 5.270949744785548, 2.4797855390986543),\n",
       " ('trabaj', 2.5470545454963966, 2.648110680870867),\n",
       " ('angular', 0.734728078821595, 7.350338969737856),\n",
       " ('fernando', 0.7635817179227117, 7.638201509395837)]"
      ]
     },
     "execution_count": 208,
     "metadata": {},
     "output_type": "execute_result"
    }
   ],
   "source": [
    "# Palabras más positivas\n",
    "a[-10:]"
   ]
  },
  {
   "cell_type": "code",
   "execution_count": 210,
   "metadata": {},
   "outputs": [],
   "source": [
    "# Ngrams (se podría armar con N-grams no le encontré la vuelta)"
   ]
  },
  {
   "cell_type": "code",
   "execution_count": 211,
   "metadata": {},
   "outputs": [],
   "source": [
    "lista = []\n",
    "for i in range(df_news.shape[0]):\n",
    "    lista.append(\" \".join(df_news.comment_cleaned[i]))"
   ]
  },
  {
   "cell_type": "code",
   "execution_count": 212,
   "metadata": {},
   "outputs": [
    {
     "data": {
      "text/html": [
       "<div>\n",
       "<style scoped>\n",
       "    .dataframe tbody tr th:only-of-type {\n",
       "        vertical-align: middle;\n",
       "    }\n",
       "\n",
       "    .dataframe tbody tr th {\n",
       "        vertical-align: top;\n",
       "    }\n",
       "\n",
       "    .dataframe thead th {\n",
       "        text-align: right;\n",
       "    }\n",
       "</style>\n",
       "<table border=\"1\" class=\"dataframe\">\n",
       "  <thead>\n",
       "    <tr style=\"text-align: right;\">\n",
       "      <th></th>\n",
       "      <th>index</th>\n",
       "      <th>id</th>\n",
       "      <th>course</th>\n",
       "      <th>rating</th>\n",
       "      <th>comment</th>\n",
       "      <th>user</th>\n",
       "      <th>tag</th>\n",
       "      <th>comment_cleaned</th>\n",
       "      <th>comment_cleaned_concat</th>\n",
       "    </tr>\n",
       "  </thead>\n",
       "  <tbody>\n",
       "    <tr>\n",
       "      <th>0</th>\n",
       "      <td>0</td>\n",
       "      <td>73015398</td>\n",
       "      <td>1640654</td>\n",
       "      <td>2.50</td>\n",
       "      <td>como introducción esta bien pero deberían de hacerlo mas dirigido a RPA con fotos de RPAS</td>\n",
       "      <td>Jorge Alejandro Castillo</td>\n",
       "      <td>neg</td>\n",
       "      <td>[introduccion, deberian, hacerlo, dirigido, fotos, rp]</td>\n",
       "      <td>introduccion deberian hacerlo dirigido fotos rp</td>\n",
       "    </tr>\n",
       "    <tr>\n",
       "      <th>1</th>\n",
       "      <td>1</td>\n",
       "      <td>50586814</td>\n",
       "      <td>1640654</td>\n",
       "      <td>4.50</td>\n",
       "      <td>Los conocimientos son claros y concisos para lo requerido</td>\n",
       "      <td>Jaime Medina</td>\n",
       "      <td>pos</td>\n",
       "      <td>[conocimientos, claros, concisos, requer]</td>\n",
       "      <td>conocimientos claros concisos requer</td>\n",
       "    </tr>\n",
       "    <tr>\n",
       "      <th>2</th>\n",
       "      <td>5</td>\n",
       "      <td>77234376</td>\n",
       "      <td>88380</td>\n",
       "      <td>3.00</td>\n",
       "      <td>Explican poco... se lee la mayoría</td>\n",
       "      <td>Tristán</td>\n",
       "      <td>neg</td>\n",
       "      <td>[explican, mayori]</td>\n",
       "      <td>explican mayori</td>\n",
       "    </tr>\n",
       "    <tr>\n",
       "      <th>3</th>\n",
       "      <td>6</td>\n",
       "      <td>68942466</td>\n",
       "      <td>88380</td>\n",
       "      <td>4.00</td>\n",
       "      <td>Muy interesante la temática y la guía, lo único que desmotiva, es la música de fondo cuando habla Noe, parece de circo desafinado</td>\n",
       "      <td>José Jaime Olavarrieta Bayrer</td>\n",
       "      <td>pos</td>\n",
       "      <td>[interesante, tematica, guia, unico, desmotiva, musica, fondo, habla, parece, circo, desafin]</td>\n",
       "      <td>interesante tematica guia unico desmotiva musica fondo habla parece circo desafin</td>\n",
       "    </tr>\n",
       "    <tr>\n",
       "      <th>4</th>\n",
       "      <td>7</td>\n",
       "      <td>65065272</td>\n",
       "      <td>88380</td>\n",
       "      <td>5.00</td>\n",
       "      <td>hasta ahora me ha gustado el contenido del curso</td>\n",
       "      <td>Lorena Quintana Romero</td>\n",
       "      <td>pos</td>\n",
       "      <td>[ahora, gustado, conten]</td>\n",
       "      <td>ahora gustado conten</td>\n",
       "    </tr>\n",
       "  </tbody>\n",
       "</table>\n",
       "</div>"
      ],
      "text/plain": [
       "   index        id   course  rating                                                                                                                            comment                           user  tag                                                                                comment_cleaned                                                             comment_cleaned_concat\n",
       "0      0  73015398  1640654    2.50                                          como introducción esta bien pero deberían de hacerlo mas dirigido a RPA con fotos de RPAS       Jorge Alejandro Castillo  neg                                         [introduccion, deberian, hacerlo, dirigido, fotos, rp]                                    introduccion deberian hacerlo dirigido fotos rp\n",
       "1      1  50586814  1640654    4.50                                                                          Los conocimientos son claros y concisos para lo requerido                   Jaime Medina  pos                                                      [conocimientos, claros, concisos, requer]                                               conocimientos claros concisos requer\n",
       "2      5  77234376    88380    3.00                                                                                                 Explican poco... se lee la mayoría                        Tristán  neg                                                                             [explican, mayori]                                                                    explican mayori\n",
       "3      6  68942466    88380    4.00  Muy interesante la temática y la guía, lo único que desmotiva, es la música de fondo cuando habla Noe, parece de circo desafinado  José Jaime Olavarrieta Bayrer  pos  [interesante, tematica, guia, unico, desmotiva, musica, fondo, habla, parece, circo, desafin]  interesante tematica guia unico desmotiva musica fondo habla parece circo desafin\n",
       "4      7  65065272    88380    5.00                                                                                   hasta ahora me ha gustado el contenido del curso         Lorena Quintana Romero  pos                                                                       [ahora, gustado, conten]                                                               ahora gustado conten"
      ]
     },
     "execution_count": 212,
     "metadata": {},
     "output_type": "execute_result"
    }
   ],
   "source": [
    "df_news['comment_cleaned_concat'] = lista\n",
    "df_news.head()"
   ]
  },
  {
   "cell_type": "code",
   "execution_count": 213,
   "metadata": {},
   "outputs": [
    {
     "name": "stdout",
     "output_type": "stream",
     "text": [
      "claro orientativo encuentra nivel inicial sabe arrancar agradece esfuerzo tutorial pueda encontrar internet pesar recomiendan tener control velocidad habla expositor habla demasiado lento videos doble veloc basic moemt eleccion agradece contenido explicado salud falt improvisa profesor equivoca veces explicaciones entendible verlo varias veces buscar fuentes complemento tema mysql procedimientos almacen demasiado interactivo menos udemy gustaria enfocado demore comentarios usuarios temas live streaming rapido explica detenidamente cosas salta pasos distrae v seguimiento proyecto explica repente explicado avanza cuenta propia luego capitulos despues retoma leccion archivo avanzado quieres aprender teoria forma separada practica confusa aburrida decepcionado youtube seguir aprendiendo ingles videos gratis ense mejor\n",
      "abarca detalles explic genial julio explica perfeccion buscando hora comenzar programar verdad quedado claro agradezco realiz guia rapida transparente entender bases metodologi didactico facil escuch completo contenido calidad gente viene conocimientos saben quizas redundante partes todas formas sigue siendo totalmente recomend tipo instruccion buscando vida abrio ojos nueva dimension encima expect cable understand clearly extraordinario lentitud explicar conceptos compa permite menos vislumbrar gran pensamiento excelnte exposicion emotividad alegra invita escucharla atentamente disfrut aprendi oportunidad ahora realizar varias aplicaciones cuales ayudaron desarrollo profesional recomendado util vale pena verlo deseas crear aplicaciones moviles ideal\n"
     ]
    }
   ],
   "source": [
    "# Creo lista de positivos y negativos\n",
    "muestra = 10\n",
    "lista_negativos = \" \".join(df_news[df_news['tag']=='neg'].sample(muestra)['comment_cleaned_concat'])\n",
    "print(lista_negativos)\n",
    "lista_positivos = \" \".join(df_news[df_news['tag']=='pos'].sample(muestra)['comment_cleaned_concat'])\n",
    "print(lista_positivos)"
   ]
  }
 ],
 "metadata": {
  "colab": {
   "collapsed_sections": [],
   "machine_shape": "hm",
   "name": "TP4_topic_group.ipynb",
   "provenance": []
  },
  "kernelspec": {
   "display_name": "Python 3 (ipykernel)",
   "language": "python",
   "name": "python3"
  },
  "language_info": {
   "codemirror_mode": {
    "name": "ipython",
    "version": 3
   },
   "file_extension": ".py",
   "mimetype": "text/x-python",
   "name": "python",
   "nbconvert_exporter": "python",
   "pygments_lexer": "ipython3",
   "version": "3.7.11"
  },
  "widgets": {
   "application/vnd.jupyter.widget-state+json": {
    "0be889e664fb456ca9644d1addb7c0b7": {
     "model_module": "@jupyter-widgets/controls",
     "model_module_version": "1.5.0",
     "model_name": "DescriptionStyleModel",
     "state": {
      "_model_module": "@jupyter-widgets/controls",
      "_model_module_version": "1.5.0",
      "_model_name": "DescriptionStyleModel",
      "_view_count": null,
      "_view_module": "@jupyter-widgets/base",
      "_view_module_version": "1.2.0",
      "_view_name": "StyleView",
      "description_width": ""
     }
    },
    "0d95ec77dd1f4ca397e638b1d3e2414a": {
     "model_module": "@jupyter-widgets/controls",
     "model_module_version": "1.5.0",
     "model_name": "FloatProgressModel",
     "state": {
      "_dom_classes": [],
      "_model_module": "@jupyter-widgets/controls",
      "_model_module_version": "1.5.0",
      "_model_name": "FloatProgressModel",
      "_view_count": null,
      "_view_module": "@jupyter-widgets/controls",
      "_view_module_version": "1.5.0",
      "_view_name": "ProgressView",
      "bar_style": "success",
      "description": "",
      "description_tooltip": null,
      "layout": "IPY_MODEL_baad9c8f443b4cc4865225bc9e4b41b4",
      "max": 30,
      "min": 0,
      "orientation": "horizontal",
      "style": "IPY_MODEL_4e8d17e82fa1448c8bdeb251d21ef776",
      "value": 30
     }
    },
    "1256c9e924884544a6ab4449cd9e81a1": {
     "model_module": "@jupyter-widgets/controls",
     "model_module_version": "1.5.0",
     "model_name": "ProgressStyleModel",
     "state": {
      "_model_module": "@jupyter-widgets/controls",
      "_model_module_version": "1.5.0",
      "_model_name": "ProgressStyleModel",
      "_view_count": null,
      "_view_module": "@jupyter-widgets/base",
      "_view_module_version": "1.2.0",
      "_view_name": "StyleView",
      "bar_color": null,
      "description_width": ""
     }
    },
    "145eb5a8490840ee8a59c2e5ecb9fb63": {
     "model_module": "@jupyter-widgets/controls",
     "model_module_version": "1.5.0",
     "model_name": "HBoxModel",
     "state": {
      "_dom_classes": [],
      "_model_module": "@jupyter-widgets/controls",
      "_model_module_version": "1.5.0",
      "_model_name": "HBoxModel",
      "_view_count": null,
      "_view_module": "@jupyter-widgets/controls",
      "_view_module_version": "1.5.0",
      "_view_name": "HBoxView",
      "box_style": "",
      "children": [
       "IPY_MODEL_54655fc4039c446c934630618a56cf19",
       "IPY_MODEL_217e301cf3ad4479985ffc5eedd5b570",
       "IPY_MODEL_cb928d5c591b404e970117a869846c65"
      ],
      "layout": "IPY_MODEL_c5a72880845c468bab8b94cdaf955d5a"
     }
    },
    "1aa4b7cad76548e08e4ebd10ec9adc90": {
     "model_module": "@jupyter-widgets/controls",
     "model_module_version": "1.5.0",
     "model_name": "DescriptionStyleModel",
     "state": {
      "_model_module": "@jupyter-widgets/controls",
      "_model_module_version": "1.5.0",
      "_model_name": "DescriptionStyleModel",
      "_view_count": null,
      "_view_module": "@jupyter-widgets/base",
      "_view_module_version": "1.2.0",
      "_view_name": "StyleView",
      "description_width": ""
     }
    },
    "1b39454662a042999b8111e43d545e0d": {
     "model_module": "@jupyter-widgets/base",
     "model_module_version": "1.2.0",
     "model_name": "LayoutModel",
     "state": {
      "_model_module": "@jupyter-widgets/base",
      "_model_module_version": "1.2.0",
      "_model_name": "LayoutModel",
      "_view_count": null,
      "_view_module": "@jupyter-widgets/base",
      "_view_module_version": "1.2.0",
      "_view_name": "LayoutView",
      "align_content": null,
      "align_items": null,
      "align_self": null,
      "border": null,
      "bottom": null,
      "display": null,
      "flex": null,
      "flex_flow": null,
      "grid_area": null,
      "grid_auto_columns": null,
      "grid_auto_flow": null,
      "grid_auto_rows": null,
      "grid_column": null,
      "grid_gap": null,
      "grid_row": null,
      "grid_template_areas": null,
      "grid_template_columns": null,
      "grid_template_rows": null,
      "height": null,
      "justify_content": null,
      "justify_items": null,
      "left": null,
      "margin": null,
      "max_height": null,
      "max_width": null,
      "min_height": null,
      "min_width": null,
      "object_fit": null,
      "object_position": null,
      "order": null,
      "overflow": null,
      "overflow_x": null,
      "overflow_y": null,
      "padding": null,
      "right": null,
      "top": null,
      "visibility": null,
      "width": null
     }
    },
    "1e1af85a358b4c0ab3d4de4ab6994315": {
     "model_module": "@jupyter-widgets/controls",
     "model_module_version": "1.5.0",
     "model_name": "ProgressStyleModel",
     "state": {
      "_model_module": "@jupyter-widgets/controls",
      "_model_module_version": "1.5.0",
      "_model_name": "ProgressStyleModel",
      "_view_count": null,
      "_view_module": "@jupyter-widgets/base",
      "_view_module_version": "1.2.0",
      "_view_name": "StyleView",
      "bar_color": null,
      "description_width": ""
     }
    },
    "217e301cf3ad4479985ffc5eedd5b570": {
     "model_module": "@jupyter-widgets/controls",
     "model_module_version": "1.5.0",
     "model_name": "FloatProgressModel",
     "state": {
      "_dom_classes": [],
      "_model_module": "@jupyter-widgets/controls",
      "_model_module_version": "1.5.0",
      "_model_name": "FloatProgressModel",
      "_view_count": null,
      "_view_module": "@jupyter-widgets/controls",
      "_view_module_version": "1.5.0",
      "_view_name": "ProgressView",
      "bar_style": "success",
      "description": "",
      "description_tooltip": null,
      "layout": "IPY_MODEL_bc71e2b5e3d04152862ffd8a06c0eedc",
      "max": 18883,
      "min": 0,
      "orientation": "horizontal",
      "style": "IPY_MODEL_a6f33558a6214d7c89a7742f0d6f1eba",
      "value": 18883
     }
    },
    "23fe2f1aa9c14cafaa58af3354348f91": {
     "model_module": "@jupyter-widgets/base",
     "model_module_version": "1.2.0",
     "model_name": "LayoutModel",
     "state": {
      "_model_module": "@jupyter-widgets/base",
      "_model_module_version": "1.2.0",
      "_model_name": "LayoutModel",
      "_view_count": null,
      "_view_module": "@jupyter-widgets/base",
      "_view_module_version": "1.2.0",
      "_view_name": "LayoutView",
      "align_content": null,
      "align_items": null,
      "align_self": null,
      "border": null,
      "bottom": null,
      "display": null,
      "flex": null,
      "flex_flow": null,
      "grid_area": null,
      "grid_auto_columns": null,
      "grid_auto_flow": null,
      "grid_auto_rows": null,
      "grid_column": null,
      "grid_gap": null,
      "grid_row": null,
      "grid_template_areas": null,
      "grid_template_columns": null,
      "grid_template_rows": null,
      "height": null,
      "justify_content": null,
      "justify_items": null,
      "left": null,
      "margin": null,
      "max_height": null,
      "max_width": null,
      "min_height": null,
      "min_width": null,
      "object_fit": null,
      "object_position": null,
      "order": null,
      "overflow": null,
      "overflow_x": null,
      "overflow_y": null,
      "padding": null,
      "right": null,
      "top": null,
      "visibility": null,
      "width": null
     }
    },
    "25e5982c3251466b9cd66225d6a3cd24": {
     "model_module": "@jupyter-widgets/base",
     "model_module_version": "1.2.0",
     "model_name": "LayoutModel",
     "state": {
      "_model_module": "@jupyter-widgets/base",
      "_model_module_version": "1.2.0",
      "_model_name": "LayoutModel",
      "_view_count": null,
      "_view_module": "@jupyter-widgets/base",
      "_view_module_version": "1.2.0",
      "_view_name": "LayoutView",
      "align_content": null,
      "align_items": null,
      "align_self": null,
      "border": null,
      "bottom": null,
      "display": null,
      "flex": null,
      "flex_flow": null,
      "grid_area": null,
      "grid_auto_columns": null,
      "grid_auto_flow": null,
      "grid_auto_rows": null,
      "grid_column": null,
      "grid_gap": null,
      "grid_row": null,
      "grid_template_areas": null,
      "grid_template_columns": null,
      "grid_template_rows": null,
      "height": null,
      "justify_content": null,
      "justify_items": null,
      "left": null,
      "margin": null,
      "max_height": null,
      "max_width": null,
      "min_height": null,
      "min_width": null,
      "object_fit": null,
      "object_position": null,
      "order": null,
      "overflow": null,
      "overflow_x": null,
      "overflow_y": null,
      "padding": null,
      "right": null,
      "top": null,
      "visibility": null,
      "width": null
     }
    },
    "275b2b7542ef457e8c949997e0ab05e9": {
     "model_module": "@jupyter-widgets/controls",
     "model_module_version": "1.5.0",
     "model_name": "HTMLModel",
     "state": {
      "_dom_classes": [],
      "_model_module": "@jupyter-widgets/controls",
      "_model_module_version": "1.5.0",
      "_model_name": "HTMLModel",
      "_view_count": null,
      "_view_module": "@jupyter-widgets/controls",
      "_view_module_version": "1.5.0",
      "_view_name": "HTMLView",
      "description": "",
      "description_tooltip": null,
      "layout": "IPY_MODEL_786f0c151d86474689885728efc57c02",
      "placeholder": "​",
      "style": "IPY_MODEL_0be889e664fb456ca9644d1addb7c0b7",
      "value": "Processing records: 100%"
     }
    },
    "2f75439785544bb08bed02accb1b6240": {
     "model_module": "@jupyter-widgets/controls",
     "model_module_version": "1.5.0",
     "model_name": "HTMLModel",
     "state": {
      "_dom_classes": [],
      "_model_module": "@jupyter-widgets/controls",
      "_model_module_version": "1.5.0",
      "_model_name": "HTMLModel",
      "_view_count": null,
      "_view_module": "@jupyter-widgets/controls",
      "_view_module_version": "1.5.0",
      "_view_name": "HTMLView",
      "description": "",
      "description_tooltip": null,
      "layout": "IPY_MODEL_25e5982c3251466b9cd66225d6a3cd24",
      "placeholder": "​",
      "style": "IPY_MODEL_a595763dee804ce080a2ad1dfc2fe8b9",
      "value": " 18883/18883 [01:20&lt;00:00, 201.99it/s]"
     }
    },
    "37817a636579439283e8407411519df9": {
     "model_module": "@jupyter-widgets/controls",
     "model_module_version": "1.5.0",
     "model_name": "DescriptionStyleModel",
     "state": {
      "_model_module": "@jupyter-widgets/controls",
      "_model_module_version": "1.5.0",
      "_model_name": "DescriptionStyleModel",
      "_view_count": null,
      "_view_module": "@jupyter-widgets/base",
      "_view_module_version": "1.2.0",
      "_view_name": "StyleView",
      "description_width": ""
     }
    },
    "41a03051dbc2449fb87c9a45d755eb6e": {
     "model_module": "@jupyter-widgets/controls",
     "model_module_version": "1.5.0",
     "model_name": "FloatProgressModel",
     "state": {
      "_dom_classes": [],
      "_model_module": "@jupyter-widgets/controls",
      "_model_module_version": "1.5.0",
      "_model_name": "FloatProgressModel",
      "_view_count": null,
      "_view_module": "@jupyter-widgets/controls",
      "_view_module_version": "1.5.0",
      "_view_name": "ProgressView",
      "bar_style": "success",
      "description": "",
      "description_tooltip": null,
      "layout": "IPY_MODEL_5d9ee21ed3494d65b06c99d275a64981",
      "max": 30,
      "min": 0,
      "orientation": "horizontal",
      "style": "IPY_MODEL_7f3dcc47457447d5b64b5270c69e2ac5",
      "value": 30
     }
    },
    "43887a6b27dd417dabba11b992b75df4": {
     "model_module": "@jupyter-widgets/base",
     "model_module_version": "1.2.0",
     "model_name": "LayoutModel",
     "state": {
      "_model_module": "@jupyter-widgets/base",
      "_model_module_version": "1.2.0",
      "_model_name": "LayoutModel",
      "_view_count": null,
      "_view_module": "@jupyter-widgets/base",
      "_view_module_version": "1.2.0",
      "_view_name": "LayoutView",
      "align_content": null,
      "align_items": null,
      "align_self": null,
      "border": null,
      "bottom": null,
      "display": null,
      "flex": null,
      "flex_flow": null,
      "grid_area": null,
      "grid_auto_columns": null,
      "grid_auto_flow": null,
      "grid_auto_rows": null,
      "grid_column": null,
      "grid_gap": null,
      "grid_row": null,
      "grid_template_areas": null,
      "grid_template_columns": null,
      "grid_template_rows": null,
      "height": null,
      "justify_content": null,
      "justify_items": null,
      "left": null,
      "margin": null,
      "max_height": null,
      "max_width": null,
      "min_height": null,
      "min_width": null,
      "object_fit": null,
      "object_position": null,
      "order": null,
      "overflow": null,
      "overflow_x": null,
      "overflow_y": null,
      "padding": null,
      "right": null,
      "top": null,
      "visibility": null,
      "width": null
     }
    },
    "4a280d368c0a4defbe78f08f7a039692": {
     "model_module": "@jupyter-widgets/controls",
     "model_module_version": "1.5.0",
     "model_name": "HTMLModel",
     "state": {
      "_dom_classes": [],
      "_model_module": "@jupyter-widgets/controls",
      "_model_module_version": "1.5.0",
      "_model_name": "HTMLModel",
      "_view_count": null,
      "_view_module": "@jupyter-widgets/controls",
      "_view_module_version": "1.5.0",
      "_view_name": "HTMLView",
      "description": "",
      "description_tooltip": null,
      "layout": "IPY_MODEL_1b39454662a042999b8111e43d545e0d",
      "placeholder": "​",
      "style": "IPY_MODEL_1aa4b7cad76548e08e4ebd10ec9adc90",
      "value": "100%"
     }
    },
    "4aa01cf698144d0f9d09a4d1dde8e5a3": {
     "model_module": "@jupyter-widgets/base",
     "model_module_version": "1.2.0",
     "model_name": "LayoutModel",
     "state": {
      "_model_module": "@jupyter-widgets/base",
      "_model_module_version": "1.2.0",
      "_model_name": "LayoutModel",
      "_view_count": null,
      "_view_module": "@jupyter-widgets/base",
      "_view_module_version": "1.2.0",
      "_view_name": "LayoutView",
      "align_content": null,
      "align_items": null,
      "align_self": null,
      "border": null,
      "bottom": null,
      "display": null,
      "flex": null,
      "flex_flow": null,
      "grid_area": null,
      "grid_auto_columns": null,
      "grid_auto_flow": null,
      "grid_auto_rows": null,
      "grid_column": null,
      "grid_gap": null,
      "grid_row": null,
      "grid_template_areas": null,
      "grid_template_columns": null,
      "grid_template_rows": null,
      "height": null,
      "justify_content": null,
      "justify_items": null,
      "left": null,
      "margin": null,
      "max_height": null,
      "max_width": null,
      "min_height": null,
      "min_width": null,
      "object_fit": null,
      "object_position": null,
      "order": null,
      "overflow": null,
      "overflow_x": null,
      "overflow_y": null,
      "padding": null,
      "right": null,
      "top": null,
      "visibility": null,
      "width": null
     }
    },
    "4e8d17e82fa1448c8bdeb251d21ef776": {
     "model_module": "@jupyter-widgets/controls",
     "model_module_version": "1.5.0",
     "model_name": "ProgressStyleModel",
     "state": {
      "_model_module": "@jupyter-widgets/controls",
      "_model_module_version": "1.5.0",
      "_model_name": "ProgressStyleModel",
      "_view_count": null,
      "_view_module": "@jupyter-widgets/base",
      "_view_module_version": "1.2.0",
      "_view_name": "StyleView",
      "bar_color": null,
      "description_width": ""
     }
    },
    "5209bbb5bd574f8b80383a9403f82edb": {
     "model_module": "@jupyter-widgets/base",
     "model_module_version": "1.2.0",
     "model_name": "LayoutModel",
     "state": {
      "_model_module": "@jupyter-widgets/base",
      "_model_module_version": "1.2.0",
      "_model_name": "LayoutModel",
      "_view_count": null,
      "_view_module": "@jupyter-widgets/base",
      "_view_module_version": "1.2.0",
      "_view_name": "LayoutView",
      "align_content": null,
      "align_items": null,
      "align_self": null,
      "border": null,
      "bottom": null,
      "display": null,
      "flex": null,
      "flex_flow": null,
      "grid_area": null,
      "grid_auto_columns": null,
      "grid_auto_flow": null,
      "grid_auto_rows": null,
      "grid_column": null,
      "grid_gap": null,
      "grid_row": null,
      "grid_template_areas": null,
      "grid_template_columns": null,
      "grid_template_rows": null,
      "height": null,
      "justify_content": null,
      "justify_items": null,
      "left": null,
      "margin": null,
      "max_height": null,
      "max_width": null,
      "min_height": null,
      "min_width": null,
      "object_fit": null,
      "object_position": null,
      "order": null,
      "overflow": null,
      "overflow_x": null,
      "overflow_y": null,
      "padding": null,
      "right": null,
      "top": null,
      "visibility": null,
      "width": null
     }
    },
    "54655fc4039c446c934630618a56cf19": {
     "model_module": "@jupyter-widgets/controls",
     "model_module_version": "1.5.0",
     "model_name": "HTMLModel",
     "state": {
      "_dom_classes": [],
      "_model_module": "@jupyter-widgets/controls",
      "_model_module_version": "1.5.0",
      "_model_name": "HTMLModel",
      "_view_count": null,
      "_view_module": "@jupyter-widgets/controls",
      "_view_module_version": "1.5.0",
      "_view_name": "HTMLView",
      "description": "",
      "description_tooltip": null,
      "layout": "IPY_MODEL_fe30daee9ac74b02970260b25876faf8",
      "placeholder": "​",
      "style": "IPY_MODEL_fdb2d4a7e7c04d57a72d5d029866a400",
      "value": "100%"
     }
    },
    "57d767531f19410aaf29c76425e8576a": {
     "model_module": "@jupyter-widgets/controls",
     "model_module_version": "1.5.0",
     "model_name": "FloatProgressModel",
     "state": {
      "_dom_classes": [],
      "_model_module": "@jupyter-widgets/controls",
      "_model_module_version": "1.5.0",
      "_model_name": "FloatProgressModel",
      "_view_count": null,
      "_view_module": "@jupyter-widgets/controls",
      "_view_module_version": "1.5.0",
      "_view_name": "ProgressView",
      "bar_style": "success",
      "description": "",
      "description_tooltip": null,
      "layout": "IPY_MODEL_a892c113d6dc48198c7ea7e0b70a199a",
      "max": 18883,
      "min": 0,
      "orientation": "horizontal",
      "style": "IPY_MODEL_1256c9e924884544a6ab4449cd9e81a1",
      "value": 18883
     }
    },
    "582be5fd8d3d4c97aa1beafa68c3b1c4": {
     "model_module": "@jupyter-widgets/controls",
     "model_module_version": "1.5.0",
     "model_name": "HTMLModel",
     "state": {
      "_dom_classes": [],
      "_model_module": "@jupyter-widgets/controls",
      "_model_module_version": "1.5.0",
      "_model_name": "HTMLModel",
      "_view_count": null,
      "_view_module": "@jupyter-widgets/controls",
      "_view_module_version": "1.5.0",
      "_view_name": "HTMLView",
      "description": "",
      "description_tooltip": null,
      "layout": "IPY_MODEL_71abc501757b49118435d80e97e8b8fa",
      "placeholder": "​",
      "style": "IPY_MODEL_f1e7e9f43aaa4f5c82353bc33b479b49",
      "value": " 30/30 [1:12:45&lt;00:00, 145.58s/it]"
     }
    },
    "584663a7e4e84a93b3b475f04e99e939": {
     "model_module": "@jupyter-widgets/base",
     "model_module_version": "1.2.0",
     "model_name": "LayoutModel",
     "state": {
      "_model_module": "@jupyter-widgets/base",
      "_model_module_version": "1.2.0",
      "_model_name": "LayoutModel",
      "_view_count": null,
      "_view_module": "@jupyter-widgets/base",
      "_view_module_version": "1.2.0",
      "_view_name": "LayoutView",
      "align_content": null,
      "align_items": null,
      "align_self": null,
      "border": null,
      "bottom": null,
      "display": null,
      "flex": null,
      "flex_flow": null,
      "grid_area": null,
      "grid_auto_columns": null,
      "grid_auto_flow": null,
      "grid_auto_rows": null,
      "grid_column": null,
      "grid_gap": null,
      "grid_row": null,
      "grid_template_areas": null,
      "grid_template_columns": null,
      "grid_template_rows": null,
      "height": null,
      "justify_content": null,
      "justify_items": null,
      "left": null,
      "margin": null,
      "max_height": null,
      "max_width": null,
      "min_height": null,
      "min_width": null,
      "object_fit": null,
      "object_position": null,
      "order": null,
      "overflow": null,
      "overflow_x": null,
      "overflow_y": null,
      "padding": null,
      "right": null,
      "top": null,
      "visibility": null,
      "width": null
     }
    },
    "5b4f1f41adce47e1bcad17895595aea4": {
     "model_module": "@jupyter-widgets/controls",
     "model_module_version": "1.5.0",
     "model_name": "HTMLModel",
     "state": {
      "_dom_classes": [],
      "_model_module": "@jupyter-widgets/controls",
      "_model_module_version": "1.5.0",
      "_model_name": "HTMLModel",
      "_view_count": null,
      "_view_module": "@jupyter-widgets/controls",
      "_view_module_version": "1.5.0",
      "_view_name": "HTMLView",
      "description": "",
      "description_tooltip": null,
      "layout": "IPY_MODEL_43887a6b27dd417dabba11b992b75df4",
      "placeholder": "​",
      "style": "IPY_MODEL_ef5af3cab8014a16ba1d902784843612",
      "value": " 18883/18883 [00:07&lt;00:00, 2782.45it/s]"
     }
    },
    "5d9ee21ed3494d65b06c99d275a64981": {
     "model_module": "@jupyter-widgets/base",
     "model_module_version": "1.2.0",
     "model_name": "LayoutModel",
     "state": {
      "_model_module": "@jupyter-widgets/base",
      "_model_module_version": "1.2.0",
      "_model_name": "LayoutModel",
      "_view_count": null,
      "_view_module": "@jupyter-widgets/base",
      "_view_module_version": "1.2.0",
      "_view_name": "LayoutView",
      "align_content": null,
      "align_items": null,
      "align_self": null,
      "border": null,
      "bottom": null,
      "display": null,
      "flex": null,
      "flex_flow": null,
      "grid_area": null,
      "grid_auto_columns": null,
      "grid_auto_flow": null,
      "grid_auto_rows": null,
      "grid_column": null,
      "grid_gap": null,
      "grid_row": null,
      "grid_template_areas": null,
      "grid_template_columns": null,
      "grid_template_rows": null,
      "height": null,
      "justify_content": null,
      "justify_items": null,
      "left": null,
      "margin": null,
      "max_height": null,
      "max_width": null,
      "min_height": null,
      "min_width": null,
      "object_fit": null,
      "object_position": null,
      "order": null,
      "overflow": null,
      "overflow_x": null,
      "overflow_y": null,
      "padding": null,
      "right": null,
      "top": null,
      "visibility": null,
      "width": null
     }
    },
    "63a5919cd9304554b55f3af84fb0884c": {
     "model_module": "@jupyter-widgets/controls",
     "model_module_version": "1.5.0",
     "model_name": "DescriptionStyleModel",
     "state": {
      "_model_module": "@jupyter-widgets/controls",
      "_model_module_version": "1.5.0",
      "_model_name": "DescriptionStyleModel",
      "_view_count": null,
      "_view_module": "@jupyter-widgets/base",
      "_view_module_version": "1.2.0",
      "_view_name": "StyleView",
      "description_width": ""
     }
    },
    "6c4ccafad63744459405984f1a1ecbff": {
     "model_module": "@jupyter-widgets/base",
     "model_module_version": "1.2.0",
     "model_name": "LayoutModel",
     "state": {
      "_model_module": "@jupyter-widgets/base",
      "_model_module_version": "1.2.0",
      "_model_name": "LayoutModel",
      "_view_count": null,
      "_view_module": "@jupyter-widgets/base",
      "_view_module_version": "1.2.0",
      "_view_name": "LayoutView",
      "align_content": null,
      "align_items": null,
      "align_self": null,
      "border": null,
      "bottom": null,
      "display": null,
      "flex": null,
      "flex_flow": null,
      "grid_area": null,
      "grid_auto_columns": null,
      "grid_auto_flow": null,
      "grid_auto_rows": null,
      "grid_column": null,
      "grid_gap": null,
      "grid_row": null,
      "grid_template_areas": null,
      "grid_template_columns": null,
      "grid_template_rows": null,
      "height": null,
      "justify_content": null,
      "justify_items": null,
      "left": null,
      "margin": null,
      "max_height": null,
      "max_width": null,
      "min_height": null,
      "min_width": null,
      "object_fit": null,
      "object_position": null,
      "order": null,
      "overflow": null,
      "overflow_x": null,
      "overflow_y": null,
      "padding": null,
      "right": null,
      "top": null,
      "visibility": null,
      "width": null
     }
    },
    "71abc501757b49118435d80e97e8b8fa": {
     "model_module": "@jupyter-widgets/base",
     "model_module_version": "1.2.0",
     "model_name": "LayoutModel",
     "state": {
      "_model_module": "@jupyter-widgets/base",
      "_model_module_version": "1.2.0",
      "_model_name": "LayoutModel",
      "_view_count": null,
      "_view_module": "@jupyter-widgets/base",
      "_view_module_version": "1.2.0",
      "_view_name": "LayoutView",
      "align_content": null,
      "align_items": null,
      "align_self": null,
      "border": null,
      "bottom": null,
      "display": null,
      "flex": null,
      "flex_flow": null,
      "grid_area": null,
      "grid_auto_columns": null,
      "grid_auto_flow": null,
      "grid_auto_rows": null,
      "grid_column": null,
      "grid_gap": null,
      "grid_row": null,
      "grid_template_areas": null,
      "grid_template_columns": null,
      "grid_template_rows": null,
      "height": null,
      "justify_content": null,
      "justify_items": null,
      "left": null,
      "margin": null,
      "max_height": null,
      "max_width": null,
      "min_height": null,
      "min_width": null,
      "object_fit": null,
      "object_position": null,
      "order": null,
      "overflow": null,
      "overflow_x": null,
      "overflow_y": null,
      "padding": null,
      "right": null,
      "top": null,
      "visibility": null,
      "width": null
     }
    },
    "786f0c151d86474689885728efc57c02": {
     "model_module": "@jupyter-widgets/base",
     "model_module_version": "1.2.0",
     "model_name": "LayoutModel",
     "state": {
      "_model_module": "@jupyter-widgets/base",
      "_model_module_version": "1.2.0",
      "_model_name": "LayoutModel",
      "_view_count": null,
      "_view_module": "@jupyter-widgets/base",
      "_view_module_version": "1.2.0",
      "_view_name": "LayoutView",
      "align_content": null,
      "align_items": null,
      "align_self": null,
      "border": null,
      "bottom": null,
      "display": null,
      "flex": null,
      "flex_flow": null,
      "grid_area": null,
      "grid_auto_columns": null,
      "grid_auto_flow": null,
      "grid_auto_rows": null,
      "grid_column": null,
      "grid_gap": null,
      "grid_row": null,
      "grid_template_areas": null,
      "grid_template_columns": null,
      "grid_template_rows": null,
      "height": null,
      "justify_content": null,
      "justify_items": null,
      "left": null,
      "margin": null,
      "max_height": null,
      "max_width": null,
      "min_height": null,
      "min_width": null,
      "object_fit": null,
      "object_position": null,
      "order": null,
      "overflow": null,
      "overflow_x": null,
      "overflow_y": null,
      "padding": null,
      "right": null,
      "top": null,
      "visibility": null,
      "width": null
     }
    },
    "7f3dcc47457447d5b64b5270c69e2ac5": {
     "model_module": "@jupyter-widgets/controls",
     "model_module_version": "1.5.0",
     "model_name": "ProgressStyleModel",
     "state": {
      "_model_module": "@jupyter-widgets/controls",
      "_model_module_version": "1.5.0",
      "_model_name": "ProgressStyleModel",
      "_view_count": null,
      "_view_module": "@jupyter-widgets/base",
      "_view_module_version": "1.2.0",
      "_view_name": "StyleView",
      "bar_color": null,
      "description_width": ""
     }
    },
    "8cffc79ca5d24d23a6e0c09c94883be6": {
     "model_module": "@jupyter-widgets/controls",
     "model_module_version": "1.5.0",
     "model_name": "HTMLModel",
     "state": {
      "_dom_classes": [],
      "_model_module": "@jupyter-widgets/controls",
      "_model_module_version": "1.5.0",
      "_model_name": "HTMLModel",
      "_view_count": null,
      "_view_module": "@jupyter-widgets/controls",
      "_view_module_version": "1.5.0",
      "_view_name": "HTMLView",
      "description": "",
      "description_tooltip": null,
      "layout": "IPY_MODEL_4aa01cf698144d0f9d09a4d1dde8e5a3",
      "placeholder": "​",
      "style": "IPY_MODEL_bc457f47e61e4338ac6508f41ea5f854",
      "value": "Evaluating graph: 100%"
     }
    },
    "8f8adb050ba24334b9705adb42006220": {
     "model_module": "@jupyter-widgets/controls",
     "model_module_version": "1.5.0",
     "model_name": "DescriptionStyleModel",
     "state": {
      "_model_module": "@jupyter-widgets/controls",
      "_model_module_version": "1.5.0",
      "_model_name": "DescriptionStyleModel",
      "_view_count": null,
      "_view_module": "@jupyter-widgets/base",
      "_view_module_version": "1.2.0",
      "_view_name": "StyleView",
      "description_width": ""
     }
    },
    "9f1ac82ca1f74665a508caae3ed2cce2": {
     "model_module": "@jupyter-widgets/controls",
     "model_module_version": "1.5.0",
     "model_name": "FloatProgressModel",
     "state": {
      "_dom_classes": [],
      "_model_module": "@jupyter-widgets/controls",
      "_model_module_version": "1.5.0",
      "_model_name": "FloatProgressModel",
      "_view_count": null,
      "_view_module": "@jupyter-widgets/controls",
      "_view_module_version": "1.5.0",
      "_view_name": "ProgressView",
      "bar_style": "success",
      "description": "",
      "description_tooltip": null,
      "layout": "IPY_MODEL_5209bbb5bd574f8b80383a9403f82edb",
      "max": 18883,
      "min": 0,
      "orientation": "horizontal",
      "style": "IPY_MODEL_1e1af85a358b4c0ab3d4de4ab6994315",
      "value": 18883
     }
    },
    "a3363eb69f6a47478112d972dd83091c": {
     "model_module": "@jupyter-widgets/base",
     "model_module_version": "1.2.0",
     "model_name": "LayoutModel",
     "state": {
      "_model_module": "@jupyter-widgets/base",
      "_model_module_version": "1.2.0",
      "_model_name": "LayoutModel",
      "_view_count": null,
      "_view_module": "@jupyter-widgets/base",
      "_view_module_version": "1.2.0",
      "_view_name": "LayoutView",
      "align_content": null,
      "align_items": null,
      "align_self": null,
      "border": null,
      "bottom": null,
      "display": null,
      "flex": null,
      "flex_flow": null,
      "grid_area": null,
      "grid_auto_columns": null,
      "grid_auto_flow": null,
      "grid_auto_rows": null,
      "grid_column": null,
      "grid_gap": null,
      "grid_row": null,
      "grid_template_areas": null,
      "grid_template_columns": null,
      "grid_template_rows": null,
      "height": null,
      "justify_content": null,
      "justify_items": null,
      "left": null,
      "margin": null,
      "max_height": null,
      "max_width": null,
      "min_height": null,
      "min_width": null,
      "object_fit": null,
      "object_position": null,
      "order": null,
      "overflow": null,
      "overflow_x": null,
      "overflow_y": null,
      "padding": null,
      "right": null,
      "top": null,
      "visibility": null,
      "width": null
     }
    },
    "a595763dee804ce080a2ad1dfc2fe8b9": {
     "model_module": "@jupyter-widgets/controls",
     "model_module_version": "1.5.0",
     "model_name": "DescriptionStyleModel",
     "state": {
      "_model_module": "@jupyter-widgets/controls",
      "_model_module_version": "1.5.0",
      "_model_name": "DescriptionStyleModel",
      "_view_count": null,
      "_view_module": "@jupyter-widgets/base",
      "_view_module_version": "1.2.0",
      "_view_name": "StyleView",
      "description_width": ""
     }
    },
    "a6f33558a6214d7c89a7742f0d6f1eba": {
     "model_module": "@jupyter-widgets/controls",
     "model_module_version": "1.5.0",
     "model_name": "ProgressStyleModel",
     "state": {
      "_model_module": "@jupyter-widgets/controls",
      "_model_module_version": "1.5.0",
      "_model_name": "ProgressStyleModel",
      "_view_count": null,
      "_view_module": "@jupyter-widgets/base",
      "_view_module_version": "1.2.0",
      "_view_name": "StyleView",
      "bar_color": null,
      "description_width": ""
     }
    },
    "a892c113d6dc48198c7ea7e0b70a199a": {
     "model_module": "@jupyter-widgets/base",
     "model_module_version": "1.2.0",
     "model_name": "LayoutModel",
     "state": {
      "_model_module": "@jupyter-widgets/base",
      "_model_module_version": "1.2.0",
      "_model_name": "LayoutModel",
      "_view_count": null,
      "_view_module": "@jupyter-widgets/base",
      "_view_module_version": "1.2.0",
      "_view_name": "LayoutView",
      "align_content": null,
      "align_items": null,
      "align_self": null,
      "border": null,
      "bottom": null,
      "display": null,
      "flex": null,
      "flex_flow": null,
      "grid_area": null,
      "grid_auto_columns": null,
      "grid_auto_flow": null,
      "grid_auto_rows": null,
      "grid_column": null,
      "grid_gap": null,
      "grid_row": null,
      "grid_template_areas": null,
      "grid_template_columns": null,
      "grid_template_rows": null,
      "height": null,
      "justify_content": null,
      "justify_items": null,
      "left": null,
      "margin": null,
      "max_height": null,
      "max_width": null,
      "min_height": null,
      "min_width": null,
      "object_fit": null,
      "object_position": null,
      "order": null,
      "overflow": null,
      "overflow_x": null,
      "overflow_y": null,
      "padding": null,
      "right": null,
      "top": null,
      "visibility": null,
      "width": null
     }
    },
    "ae5da4f56316433e9e7c34e8c70a2d52": {
     "model_module": "@jupyter-widgets/controls",
     "model_module_version": "1.5.0",
     "model_name": "HTMLModel",
     "state": {
      "_dom_classes": [],
      "_model_module": "@jupyter-widgets/controls",
      "_model_module_version": "1.5.0",
      "_model_name": "HTMLModel",
      "_view_count": null,
      "_view_module": "@jupyter-widgets/controls",
      "_view_module_version": "1.5.0",
      "_view_name": "HTMLView",
      "description": "",
      "description_tooltip": null,
      "layout": "IPY_MODEL_6c4ccafad63744459405984f1a1ecbff",
      "placeholder": "​",
      "style": "IPY_MODEL_37817a636579439283e8407411519df9",
      "value": "LDA processing: 100%"
     }
    },
    "b34253f55c334c668f7058b9b5d1b7e4": {
     "model_module": "@jupyter-widgets/controls",
     "model_module_version": "1.5.0",
     "model_name": "HBoxModel",
     "state": {
      "_dom_classes": [],
      "_model_module": "@jupyter-widgets/controls",
      "_model_module_version": "1.5.0",
      "_model_name": "HBoxModel",
      "_view_count": null,
      "_view_module": "@jupyter-widgets/controls",
      "_view_module_version": "1.5.0",
      "_view_name": "HBoxView",
      "box_style": "",
      "children": [
       "IPY_MODEL_8cffc79ca5d24d23a6e0c09c94883be6",
       "IPY_MODEL_0d95ec77dd1f4ca397e638b1d3e2414a",
       "IPY_MODEL_ec4d2d3552334cc39caed0405cd9db9d"
      ],
      "layout": "IPY_MODEL_e26adb3603344b85a8572755df300844"
     }
    },
    "b5efa4f31c9346c99d42cd26c0839da6": {
     "model_module": "@jupyter-widgets/base",
     "model_module_version": "1.2.0",
     "model_name": "LayoutModel",
     "state": {
      "_model_module": "@jupyter-widgets/base",
      "_model_module_version": "1.2.0",
      "_model_name": "LayoutModel",
      "_view_count": null,
      "_view_module": "@jupyter-widgets/base",
      "_view_module_version": "1.2.0",
      "_view_name": "LayoutView",
      "align_content": null,
      "align_items": null,
      "align_self": null,
      "border": null,
      "bottom": null,
      "display": null,
      "flex": null,
      "flex_flow": null,
      "grid_area": null,
      "grid_auto_columns": null,
      "grid_auto_flow": null,
      "grid_auto_rows": null,
      "grid_column": null,
      "grid_gap": null,
      "grid_row": null,
      "grid_template_areas": null,
      "grid_template_columns": null,
      "grid_template_rows": null,
      "height": null,
      "justify_content": null,
      "justify_items": null,
      "left": null,
      "margin": null,
      "max_height": null,
      "max_width": null,
      "min_height": null,
      "min_width": null,
      "object_fit": null,
      "object_position": null,
      "order": null,
      "overflow": null,
      "overflow_x": null,
      "overflow_y": null,
      "padding": null,
      "right": null,
      "top": null,
      "visibility": null,
      "width": null
     }
    },
    "baad9c8f443b4cc4865225bc9e4b41b4": {
     "model_module": "@jupyter-widgets/base",
     "model_module_version": "1.2.0",
     "model_name": "LayoutModel",
     "state": {
      "_model_module": "@jupyter-widgets/base",
      "_model_module_version": "1.2.0",
      "_model_name": "LayoutModel",
      "_view_count": null,
      "_view_module": "@jupyter-widgets/base",
      "_view_module_version": "1.2.0",
      "_view_name": "LayoutView",
      "align_content": null,
      "align_items": null,
      "align_self": null,
      "border": null,
      "bottom": null,
      "display": null,
      "flex": null,
      "flex_flow": null,
      "grid_area": null,
      "grid_auto_columns": null,
      "grid_auto_flow": null,
      "grid_auto_rows": null,
      "grid_column": null,
      "grid_gap": null,
      "grid_row": null,
      "grid_template_areas": null,
      "grid_template_columns": null,
      "grid_template_rows": null,
      "height": null,
      "justify_content": null,
      "justify_items": null,
      "left": null,
      "margin": null,
      "max_height": null,
      "max_width": null,
      "min_height": null,
      "min_width": null,
      "object_fit": null,
      "object_position": null,
      "order": null,
      "overflow": null,
      "overflow_x": null,
      "overflow_y": null,
      "padding": null,
      "right": null,
      "top": null,
      "visibility": null,
      "width": null
     }
    },
    "badc3e1d670644eea26764f221f7e238": {
     "model_module": "@jupyter-widgets/controls",
     "model_module_version": "1.5.0",
     "model_name": "HBoxModel",
     "state": {
      "_dom_classes": [],
      "_model_module": "@jupyter-widgets/controls",
      "_model_module_version": "1.5.0",
      "_model_name": "HBoxModel",
      "_view_count": null,
      "_view_module": "@jupyter-widgets/controls",
      "_view_module_version": "1.5.0",
      "_view_name": "HBoxView",
      "box_style": "",
      "children": [
       "IPY_MODEL_ae5da4f56316433e9e7c34e8c70a2d52",
       "IPY_MODEL_41a03051dbc2449fb87c9a45d755eb6e",
       "IPY_MODEL_582be5fd8d3d4c97aa1beafa68c3b1c4"
      ],
      "layout": "IPY_MODEL_584663a7e4e84a93b3b475f04e99e939"
     }
    },
    "bc457f47e61e4338ac6508f41ea5f854": {
     "model_module": "@jupyter-widgets/controls",
     "model_module_version": "1.5.0",
     "model_name": "DescriptionStyleModel",
     "state": {
      "_model_module": "@jupyter-widgets/controls",
      "_model_module_version": "1.5.0",
      "_model_name": "DescriptionStyleModel",
      "_view_count": null,
      "_view_module": "@jupyter-widgets/base",
      "_view_module_version": "1.2.0",
      "_view_name": "StyleView",
      "description_width": ""
     }
    },
    "bc71e2b5e3d04152862ffd8a06c0eedc": {
     "model_module": "@jupyter-widgets/base",
     "model_module_version": "1.2.0",
     "model_name": "LayoutModel",
     "state": {
      "_model_module": "@jupyter-widgets/base",
      "_model_module_version": "1.2.0",
      "_model_name": "LayoutModel",
      "_view_count": null,
      "_view_module": "@jupyter-widgets/base",
      "_view_module_version": "1.2.0",
      "_view_name": "LayoutView",
      "align_content": null,
      "align_items": null,
      "align_self": null,
      "border": null,
      "bottom": null,
      "display": null,
      "flex": null,
      "flex_flow": null,
      "grid_area": null,
      "grid_auto_columns": null,
      "grid_auto_flow": null,
      "grid_auto_rows": null,
      "grid_column": null,
      "grid_gap": null,
      "grid_row": null,
      "grid_template_areas": null,
      "grid_template_columns": null,
      "grid_template_rows": null,
      "height": null,
      "justify_content": null,
      "justify_items": null,
      "left": null,
      "margin": null,
      "max_height": null,
      "max_width": null,
      "min_height": null,
      "min_width": null,
      "object_fit": null,
      "object_position": null,
      "order": null,
      "overflow": null,
      "overflow_x": null,
      "overflow_y": null,
      "padding": null,
      "right": null,
      "top": null,
      "visibility": null,
      "width": null
     }
    },
    "beead4cb52f742d0bb482f9b833bd20e": {
     "model_module": "@jupyter-widgets/controls",
     "model_module_version": "1.5.0",
     "model_name": "HBoxModel",
     "state": {
      "_dom_classes": [],
      "_model_module": "@jupyter-widgets/controls",
      "_model_module_version": "1.5.0",
      "_model_name": "HBoxModel",
      "_view_count": null,
      "_view_module": "@jupyter-widgets/controls",
      "_view_module_version": "1.5.0",
      "_view_name": "HBoxView",
      "box_style": "",
      "children": [
       "IPY_MODEL_275b2b7542ef457e8c949997e0ab05e9",
       "IPY_MODEL_9f1ac82ca1f74665a508caae3ed2cce2",
       "IPY_MODEL_5b4f1f41adce47e1bcad17895595aea4"
      ],
      "layout": "IPY_MODEL_b5efa4f31c9346c99d42cd26c0839da6"
     }
    },
    "c5a72880845c468bab8b94cdaf955d5a": {
     "model_module": "@jupyter-widgets/base",
     "model_module_version": "1.2.0",
     "model_name": "LayoutModel",
     "state": {
      "_model_module": "@jupyter-widgets/base",
      "_model_module_version": "1.2.0",
      "_model_name": "LayoutModel",
      "_view_count": null,
      "_view_module": "@jupyter-widgets/base",
      "_view_module_version": "1.2.0",
      "_view_name": "LayoutView",
      "align_content": null,
      "align_items": null,
      "align_self": null,
      "border": null,
      "bottom": null,
      "display": null,
      "flex": null,
      "flex_flow": null,
      "grid_area": null,
      "grid_auto_columns": null,
      "grid_auto_flow": null,
      "grid_auto_rows": null,
      "grid_column": null,
      "grid_gap": null,
      "grid_row": null,
      "grid_template_areas": null,
      "grid_template_columns": null,
      "grid_template_rows": null,
      "height": null,
      "justify_content": null,
      "justify_items": null,
      "left": null,
      "margin": null,
      "max_height": null,
      "max_width": null,
      "min_height": null,
      "min_width": null,
      "object_fit": null,
      "object_position": null,
      "order": null,
      "overflow": null,
      "overflow_x": null,
      "overflow_y": null,
      "padding": null,
      "right": null,
      "top": null,
      "visibility": null,
      "width": null
     }
    },
    "cb928d5c591b404e970117a869846c65": {
     "model_module": "@jupyter-widgets/controls",
     "model_module_version": "1.5.0",
     "model_name": "HTMLModel",
     "state": {
      "_dom_classes": [],
      "_model_module": "@jupyter-widgets/controls",
      "_model_module_version": "1.5.0",
      "_model_name": "HTMLModel",
      "_view_count": null,
      "_view_module": "@jupyter-widgets/controls",
      "_view_module_version": "1.5.0",
      "_view_name": "HTMLView",
      "description": "",
      "description_tooltip": null,
      "layout": "IPY_MODEL_d91f276468e74cb49f001d98f45e7b74",
      "placeholder": "​",
      "style": "IPY_MODEL_8f8adb050ba24334b9705adb42006220",
      "value": " 18883/18883 [00:06&lt;00:00, 3258.60it/s]"
     }
    },
    "d91f276468e74cb49f001d98f45e7b74": {
     "model_module": "@jupyter-widgets/base",
     "model_module_version": "1.2.0",
     "model_name": "LayoutModel",
     "state": {
      "_model_module": "@jupyter-widgets/base",
      "_model_module_version": "1.2.0",
      "_model_name": "LayoutModel",
      "_view_count": null,
      "_view_module": "@jupyter-widgets/base",
      "_view_module_version": "1.2.0",
      "_view_name": "LayoutView",
      "align_content": null,
      "align_items": null,
      "align_self": null,
      "border": null,
      "bottom": null,
      "display": null,
      "flex": null,
      "flex_flow": null,
      "grid_area": null,
      "grid_auto_columns": null,
      "grid_auto_flow": null,
      "grid_auto_rows": null,
      "grid_column": null,
      "grid_gap": null,
      "grid_row": null,
      "grid_template_areas": null,
      "grid_template_columns": null,
      "grid_template_rows": null,
      "height": null,
      "justify_content": null,
      "justify_items": null,
      "left": null,
      "margin": null,
      "max_height": null,
      "max_width": null,
      "min_height": null,
      "min_width": null,
      "object_fit": null,
      "object_position": null,
      "order": null,
      "overflow": null,
      "overflow_x": null,
      "overflow_y": null,
      "padding": null,
      "right": null,
      "top": null,
      "visibility": null,
      "width": null
     }
    },
    "e26adb3603344b85a8572755df300844": {
     "model_module": "@jupyter-widgets/base",
     "model_module_version": "1.2.0",
     "model_name": "LayoutModel",
     "state": {
      "_model_module": "@jupyter-widgets/base",
      "_model_module_version": "1.2.0",
      "_model_name": "LayoutModel",
      "_view_count": null,
      "_view_module": "@jupyter-widgets/base",
      "_view_module_version": "1.2.0",
      "_view_name": "LayoutView",
      "align_content": null,
      "align_items": null,
      "align_self": null,
      "border": null,
      "bottom": null,
      "display": null,
      "flex": null,
      "flex_flow": null,
      "grid_area": null,
      "grid_auto_columns": null,
      "grid_auto_flow": null,
      "grid_auto_rows": null,
      "grid_column": null,
      "grid_gap": null,
      "grid_row": null,
      "grid_template_areas": null,
      "grid_template_columns": null,
      "grid_template_rows": null,
      "height": null,
      "justify_content": null,
      "justify_items": null,
      "left": null,
      "margin": null,
      "max_height": null,
      "max_width": null,
      "min_height": null,
      "min_width": null,
      "object_fit": null,
      "object_position": null,
      "order": null,
      "overflow": null,
      "overflow_x": null,
      "overflow_y": null,
      "padding": null,
      "right": null,
      "top": null,
      "visibility": null,
      "width": null
     }
    },
    "ec4d2d3552334cc39caed0405cd9db9d": {
     "model_module": "@jupyter-widgets/controls",
     "model_module_version": "1.5.0",
     "model_name": "HTMLModel",
     "state": {
      "_dom_classes": [],
      "_model_module": "@jupyter-widgets/controls",
      "_model_module_version": "1.5.0",
      "_model_name": "HTMLModel",
      "_view_count": null,
      "_view_module": "@jupyter-widgets/controls",
      "_view_module_version": "1.5.0",
      "_view_name": "HTMLView",
      "description": "",
      "description_tooltip": null,
      "layout": "IPY_MODEL_23fe2f1aa9c14cafaa58af3354348f91",
      "placeholder": "​",
      "style": "IPY_MODEL_63a5919cd9304554b55f3af84fb0884c",
      "value": " 30/30 [37:33&lt;00:00, 76.07s/it]"
     }
    },
    "ef5af3cab8014a16ba1d902784843612": {
     "model_module": "@jupyter-widgets/controls",
     "model_module_version": "1.5.0",
     "model_name": "DescriptionStyleModel",
     "state": {
      "_model_module": "@jupyter-widgets/controls",
      "_model_module_version": "1.5.0",
      "_model_name": "DescriptionStyleModel",
      "_view_count": null,
      "_view_module": "@jupyter-widgets/base",
      "_view_module_version": "1.2.0",
      "_view_name": "StyleView",
      "description_width": ""
     }
    },
    "f1e7e9f43aaa4f5c82353bc33b479b49": {
     "model_module": "@jupyter-widgets/controls",
     "model_module_version": "1.5.0",
     "model_name": "DescriptionStyleModel",
     "state": {
      "_model_module": "@jupyter-widgets/controls",
      "_model_module_version": "1.5.0",
      "_model_name": "DescriptionStyleModel",
      "_view_count": null,
      "_view_module": "@jupyter-widgets/base",
      "_view_module_version": "1.2.0",
      "_view_name": "StyleView",
      "description_width": ""
     }
    },
    "fb84ec511e3643f98df9c38671910a6b": {
     "model_module": "@jupyter-widgets/controls",
     "model_module_version": "1.5.0",
     "model_name": "HBoxModel",
     "state": {
      "_dom_classes": [],
      "_model_module": "@jupyter-widgets/controls",
      "_model_module_version": "1.5.0",
      "_model_name": "HBoxModel",
      "_view_count": null,
      "_view_module": "@jupyter-widgets/controls",
      "_view_module_version": "1.5.0",
      "_view_name": "HBoxView",
      "box_style": "",
      "children": [
       "IPY_MODEL_4a280d368c0a4defbe78f08f7a039692",
       "IPY_MODEL_57d767531f19410aaf29c76425e8576a",
       "IPY_MODEL_2f75439785544bb08bed02accb1b6240"
      ],
      "layout": "IPY_MODEL_a3363eb69f6a47478112d972dd83091c"
     }
    },
    "fdb2d4a7e7c04d57a72d5d029866a400": {
     "model_module": "@jupyter-widgets/controls",
     "model_module_version": "1.5.0",
     "model_name": "DescriptionStyleModel",
     "state": {
      "_model_module": "@jupyter-widgets/controls",
      "_model_module_version": "1.5.0",
      "_model_name": "DescriptionStyleModel",
      "_view_count": null,
      "_view_module": "@jupyter-widgets/base",
      "_view_module_version": "1.2.0",
      "_view_name": "StyleView",
      "description_width": ""
     }
    },
    "fe30daee9ac74b02970260b25876faf8": {
     "model_module": "@jupyter-widgets/base",
     "model_module_version": "1.2.0",
     "model_name": "LayoutModel",
     "state": {
      "_model_module": "@jupyter-widgets/base",
      "_model_module_version": "1.2.0",
      "_model_name": "LayoutModel",
      "_view_count": null,
      "_view_module": "@jupyter-widgets/base",
      "_view_module_version": "1.2.0",
      "_view_name": "LayoutView",
      "align_content": null,
      "align_items": null,
      "align_self": null,
      "border": null,
      "bottom": null,
      "display": null,
      "flex": null,
      "flex_flow": null,
      "grid_area": null,
      "grid_auto_columns": null,
      "grid_auto_flow": null,
      "grid_auto_rows": null,
      "grid_column": null,
      "grid_gap": null,
      "grid_row": null,
      "grid_template_areas": null,
      "grid_template_columns": null,
      "grid_template_rows": null,
      "height": null,
      "justify_content": null,
      "justify_items": null,
      "left": null,
      "margin": null,
      "max_height": null,
      "max_width": null,
      "min_height": null,
      "min_width": null,
      "object_fit": null,
      "object_position": null,
      "order": null,
      "overflow": null,
      "overflow_x": null,
      "overflow_y": null,
      "padding": null,
      "right": null,
      "top": null,
      "visibility": null,
      "width": null
     }
    }
   }
  }
 },
 "nbformat": 4,
 "nbformat_minor": 1
}
