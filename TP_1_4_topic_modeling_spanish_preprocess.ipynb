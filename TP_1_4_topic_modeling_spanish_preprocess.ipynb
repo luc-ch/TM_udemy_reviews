{
 "cells": [
  {
   "cell_type": "markdown",
   "metadata": {
    "colab_type": "text",
    "id": "V0UBlkyp_gme"
   },
   "source": [
    "#### Load the libraries"
   ]
  },
  {
   "cell_type": "code",
   "execution_count": 1,
   "metadata": {
    "colab": {},
    "colab_type": "code",
    "id": "ui5Uo0hn_eGm"
   },
   "outputs": [],
   "source": [
    "import pandas as pd\n",
    "import numpy as np\n",
    "import re\n",
    "import nltk\n",
    "from nltk.stem import WordNetLemmatizer\n",
    "from nltk import word_tokenize\n",
    "from nltk.corpus import stopwords\n",
    "import string\n",
    "import matplotlib.pyplot as plt\n",
    "import gensim\n",
    "import numpy as np\n",
    "from gensim.models import CoherenceModel, LdaModel, LsiModel, HdpModel\n",
    "from gensim.corpora import Dictionary\n",
    "# from gensim.models.wrappers import LdaMallet\n"
   ]
  },
  {
   "cell_type": "code",
   "execution_count": 2,
   "metadata": {},
   "outputs": [],
   "source": [
    "pd.set_option('display.max_columns', None)\n",
    "pd.set_option('display.expand_frame_repr', False)\n",
    "pd.set_option('max_colwidth', None)"
   ]
  },
  {
   "cell_type": "markdown",
   "metadata": {
    "colab_type": "text",
    "id": "SBS3r7AFAEtg"
   },
   "source": [
    "### Connect to drive to get the data"
   ]
  },
  {
   "cell_type": "code",
   "execution_count": 3,
   "metadata": {
    "colab": {
     "base_uri": "https://localhost:8080/",
     "height": 162
    },
    "colab_type": "code",
    "id": "550zxhdVCl6y",
    "outputId": "8e6c130a-bccd-47e4-c00d-d8c22ff325ce"
   },
   "outputs": [
    {
     "data": {
      "text/html": [
       "<div>\n",
       "<style scoped>\n",
       "    .dataframe tbody tr th:only-of-type {\n",
       "        vertical-align: middle;\n",
       "    }\n",
       "\n",
       "    .dataframe tbody tr th {\n",
       "        vertical-align: top;\n",
       "    }\n",
       "\n",
       "    .dataframe thead th {\n",
       "        text-align: right;\n",
       "    }\n",
       "</style>\n",
       "<table border=\"1\" class=\"dataframe\">\n",
       "  <thead>\n",
       "    <tr style=\"text-align: right;\">\n",
       "      <th></th>\n",
       "      <th>id</th>\n",
       "      <th>course</th>\n",
       "      <th>rating</th>\n",
       "      <th>comment</th>\n",
       "      <th>user</th>\n",
       "      <th>tag</th>\n",
       "    </tr>\n",
       "  </thead>\n",
       "  <tbody>\n",
       "    <tr>\n",
       "      <th>65776</th>\n",
       "      <td>72845978</td>\n",
       "      <td>1229836</td>\n",
       "      <td>2.5</td>\n",
       "      <td>Si y el curso no es malo. Lo malo es no poder practicar los paso a paso, por no tener un usuario de Sap.</td>\n",
       "      <td>Martin Gonzalez</td>\n",
       "      <td>neg</td>\n",
       "    </tr>\n",
       "    <tr>\n",
       "      <th>5265</th>\n",
       "      <td>33592738</td>\n",
       "      <td>1175904</td>\n",
       "      <td>3.5</td>\n",
       "      <td>El curso cumple con mis expectativas hasta el momento, pero es complicado ciertos casos como los command que me tomó mas tiempo del pensado con investigación adicional por la diferencia de versión de Visual Studio.</td>\n",
       "      <td>Christian Rodas</td>\n",
       "      <td>neg</td>\n",
       "    </tr>\n",
       "    <tr>\n",
       "      <th>20257</th>\n",
       "      <td>92181072</td>\n",
       "      <td>2539838</td>\n",
       "      <td>3.0</td>\n",
       "      <td>Buena eleccion</td>\n",
       "      <td>Martin Gabriel</td>\n",
       "      <td>neg</td>\n",
       "    </tr>\n",
       "    <tr>\n",
       "      <th>8783</th>\n",
       "      <td>42815120</td>\n",
       "      <td>2514922</td>\n",
       "      <td>2.0</td>\n",
       "      <td>Le hubiera puesto un caso practico y no se escucha el audio en la sección 2 en tema de ambiente de estudio</td>\n",
       "      <td>Elizabeth Nina Calle</td>\n",
       "      <td>neg</td>\n",
       "    </tr>\n",
       "    <tr>\n",
       "      <th>30146</th>\n",
       "      <td>14482184</td>\n",
       "      <td>1512696</td>\n",
       "      <td>3.5</td>\n",
       "      <td>Es muy bueno</td>\n",
       "      <td>Francis Chinchilla</td>\n",
       "      <td>neg</td>\n",
       "    </tr>\n",
       "    <tr>\n",
       "      <th>27760</th>\n",
       "      <td>12857532</td>\n",
       "      <td>935680</td>\n",
       "      <td>3.5</td>\n",
       "      <td>Muy útil el curso, ayuda a introducir al mundo de Tableau.</td>\n",
       "      <td>José Valdivia</td>\n",
       "      <td>neg</td>\n",
       "    </tr>\n",
       "    <tr>\n",
       "      <th>58071</th>\n",
       "      <td>36474674</td>\n",
       "      <td>400464</td>\n",
       "      <td>2.5</td>\n",
       "      <td>Se deberia considerar una leyenda sobre las abreviaturas</td>\n",
       "      <td>Giovanni Angeles</td>\n",
       "      <td>neg</td>\n",
       "    </tr>\n",
       "    <tr>\n",
       "      <th>36566</th>\n",
       "      <td>11350540</td>\n",
       "      <td>899474</td>\n",
       "      <td>3.0</td>\n",
       "      <td>falta más contenido</td>\n",
       "      <td>Nicolas Jose Milia</td>\n",
       "      <td>neg</td>\n",
       "    </tr>\n",
       "    <tr>\n",
       "      <th>60461</th>\n",
       "      <td>51196578</td>\n",
       "      <td>1566774</td>\n",
       "      <td>3.0</td>\n",
       "      <td>Se que es un curso de introducción, pero estaría bien que se hablara del mismo tema de ambos S.O., como por ejemplo nos enseño de usuarios en Linux, que sea lo mismo en Windows.\\nPero estuvo chido, gracias. Saludos.</td>\n",
       "      <td>Sara Lilia Olvera Villegas</td>\n",
       "      <td>neg</td>\n",
       "    </tr>\n",
       "    <tr>\n",
       "      <th>52463</th>\n",
       "      <td>71775522</td>\n",
       "      <td>814594</td>\n",
       "      <td>3.0</td>\n",
       "      <td>falta explicacion</td>\n",
       "      <td>Kateryn</td>\n",
       "      <td>neg</td>\n",
       "    </tr>\n",
       "  </tbody>\n",
       "</table>\n",
       "</div>"
      ],
      "text/plain": [
       "             id   course  rating                                                                                                                                                                                                                  comment                        user  tag\n",
       "65776  72845978  1229836     2.5                                                                                                                 Si y el curso no es malo. Lo malo es no poder practicar los paso a paso, por no tener un usuario de Sap.             Martin Gonzalez  neg\n",
       "5265   33592738  1175904     3.5   El curso cumple con mis expectativas hasta el momento, pero es complicado ciertos casos como los command que me tomó mas tiempo del pensado con investigación adicional por la diferencia de versión de Visual Studio.             Christian Rodas  neg\n",
       "20257  92181072  2539838     3.0                                                                                                                                                                                                           Buena eleccion              Martin Gabriel  neg\n",
       "8783   42815120  2514922     2.0                                                                                                               Le hubiera puesto un caso practico y no se escucha el audio en la sección 2 en tema de ambiente de estudio        Elizabeth Nina Calle  neg\n",
       "30146  14482184  1512696     3.5                                                                                                                                                                                                             Es muy bueno          Francis Chinchilla  neg\n",
       "27760  12857532   935680     3.5                                                                                                                                                               Muy útil el curso, ayuda a introducir al mundo de Tableau.               José Valdivia  neg\n",
       "58071  36474674   400464     2.5                                                                                                                                                                 Se deberia considerar una leyenda sobre las abreviaturas            Giovanni Angeles  neg\n",
       "36566  11350540   899474     3.0                                                                                                                                                                                                      falta más contenido          Nicolas Jose Milia  neg\n",
       "60461  51196578  1566774     3.0  Se que es un curso de introducción, pero estaría bien que se hablara del mismo tema de ambos S.O., como por ejemplo nos enseño de usuarios en Linux, que sea lo mismo en Windows.\\nPero estuvo chido, gracias. Saludos.  Sara Lilia Olvera Villegas  neg\n",
       "52463  71775522   814594     3.0                                                                                                                                                                                                        falta explicacion                     Kateryn  neg"
      ]
     },
     "execution_count": 3,
     "metadata": {},
     "output_type": "execute_result"
    }
   ],
   "source": [
    "import pandas as pd\n",
    "df_news = pd.read_pickle(\"udemy_reviews.pkl\")\n",
    "# Aplica pos/neg\n",
    "df_news['tag']=df_news['rating'].apply(lambda x: 'pos' if x >= 4 else 'neg')\n",
    "# Filtra los que solamente dicen una palabra (ej. \"Excelente!\")\n",
    "df_news = df_news[df_news['comment'].str.contains(\"\\s\")]\n",
    "# Filtra los que dicen menos de 12 letras (ej. \"Excelente!\")\n",
    "df_news = df_news[df_news['comment'].str.len() >= 12]\n",
    "df_news = df_news[df_news['tag']=='neg']#.sample(2000)\n",
    "df_news[df_news['tag']=='neg'].sample(10)\n",
    "\n",
    "\n",
    "# Recomendación:\n",
    "# usar los comentarios con >=5 palabras\n"
   ]
  },
  {
   "cell_type": "code",
   "execution_count": 4,
   "metadata": {},
   "outputs": [
    {
     "data": {
      "text/plain": [
       "neg    21448\n",
       "Name: tag, dtype: int64"
      ]
     },
     "execution_count": 4,
     "metadata": {},
     "output_type": "execute_result"
    }
   ],
   "source": [
    "df_news['tag'].value_counts()"
   ]
  },
  {
   "cell_type": "code",
   "execution_count": 5,
   "metadata": {
    "colab": {
     "base_uri": "https://localhost:8080/",
     "height": 187
    },
    "colab_type": "code",
    "id": "bflY9AU1Vbh5",
    "outputId": "e02e8a64-4434-4162-f679-59f8b2592513"
   },
   "outputs": [
    {
     "name": "stdout",
     "output_type": "stream",
     "text": [
      "<class 'pandas.core.frame.DataFrame'>\n",
      "Int64Index: 21448 entries, 6545 to 80394\n",
      "Data columns (total 6 columns):\n",
      " #   Column   Non-Null Count  Dtype  \n",
      "---  ------   --------------  -----  \n",
      " 0   id       21448 non-null  int64  \n",
      " 1   course   21448 non-null  int64  \n",
      " 2   rating   21448 non-null  float64\n",
      " 3   comment  21448 non-null  object \n",
      " 4   user     21448 non-null  object \n",
      " 5   tag      21448 non-null  object \n",
      "dtypes: float64(1), int64(2), object(3)\n",
      "memory usage: 1.1+ MB\n"
     ]
    }
   ],
   "source": [
    "df_news.info()"
   ]
  },
  {
   "cell_type": "markdown",
   "metadata": {
    "colab_type": "text",
    "id": "F6qwR5CAahLp"
   },
   "source": [
    "#Data Preprocessing"
   ]
  },
  {
   "cell_type": "markdown",
   "metadata": {
    "colab_type": "text",
    "id": "wbCEhthGasEn"
   },
   "source": [
    "We defined a list of custom words to be exclude from our dataset"
   ]
  },
  {
   "cell_type": "markdown",
   "metadata": {
    "colab_type": "text",
    "id": "h8EP2Md3FcQr"
   },
   "source": [
    "Create the cleaner function to clean the spanish text, remove non alpha numeric characters, remove duplicate, remove spanish accutes, remove digits"
   ]
  },
  {
   "cell_type": "code",
   "execution_count": 6,
   "metadata": {},
   "outputs": [
    {
     "name": "stderr",
     "output_type": "stream",
     "text": [
      "[nltk_data] Downloading package stopwords to\n",
      "[nltk_data]     C:\\Users\\Faolin\\AppData\\Roaming\\nltk_data...\n",
      "[nltk_data]   Package stopwords is already up-to-date!\n",
      "[nltk_data] Downloading package punkt to\n",
      "[nltk_data]     C:\\Users\\Faolin\\AppData\\Roaming\\nltk_data...\n",
      "[nltk_data]   Package punkt is already up-to-date!\n"
     ]
    },
    {
     "data": {
      "text/plain": [
       "True"
      ]
     },
     "execution_count": 6,
     "metadata": {},
     "output_type": "execute_result"
    }
   ],
   "source": [
    "import nltk\n",
    "nltk.download('stopwords')\n",
    "nltk.download('punkt')"
   ]
  },
  {
   "cell_type": "code",
   "execution_count": 7,
   "metadata": {},
   "outputs": [
    {
     "data": {
      "text/plain": [
       "['aaaaa']"
      ]
     },
     "execution_count": 7,
     "metadata": {},
     "output_type": "execute_result"
    }
   ],
   "source": [
    "st = ['aaaaa','asd','asdadsad']\n",
    "y = ['aa','bbb','ccc']\n",
    "[x for x in st if any(string for string in y if string in x)]\n"
   ]
  },
  {
   "cell_type": "code",
   "execution_count": 8,
   "metadata": {},
   "outputs": [],
   "source": [
    "from nltk import word_tokenize\n",
    "from nltk.corpus import stopwords\n",
    "stop = set(stopwords.words('spanish'))\n",
    "\n",
    "black_list = ['excelen', 'buen',\n",
    "              'muchas', 'graci'\n",
    "              ]\n",
    "\n",
    "additional_stopwords=set(black_list)\n",
    "\n",
    "stopwords_sp = stop.union(additional_stopwords)\n",
    "\n",
    "from nltk.stem import SnowballStemmer\n",
    "spanish_stemmer = SnowballStemmer('spanish')\n",
    "def stemmization(texts):\n",
    "    texts = re.sub(r\"\"\"\n",
    "                   [,.;@#?!&$]+  # Accept one or more copies of punctuation\n",
    "                   \\ *           # plus zero or more copies of a space,\n",
    "                   \"\"\",\n",
    "                   \" \",          # and replace it with a single space\n",
    "                   texts, flags=re.VERBOSE)\n",
    "    return spanish_stemmer.stem(texts).split()\n",
    "\n",
    "\n",
    "import spacy\n",
    "nlp = spacy.load('es_core_news_md')\n",
    "def lemmatization(texts, allowed_postags=['NOUN']):\n",
    "    #x = nlp(texts)\n",
    "    #print([(xx.text,xx.pos_) for xx in x])\n",
    "    texts_out = [ token.text for token in nlp(texts) if token.pos_ in \n",
    "                 allowed_postags and token.text not in black_list and len(token.text)>2]\n",
    "    return texts_out"
   ]
  },
  {
   "cell_type": "code",
   "execution_count": 9,
   "metadata": {},
   "outputs": [
    {
     "name": "stdout",
     "output_type": "stream",
     "text": [
      "Wall time: 3.51 s\n"
     ]
    }
   ],
   "source": [
    "%%time\n",
    "bigram = gensim.models.Phrases(df_news['comment'].to_list()) "
   ]
  },
  {
   "cell_type": "code",
   "execution_count": 10,
   "metadata": {
    "colab": {},
    "colab_type": "code",
    "id": "H_7Un4fSFbdC"
   },
   "outputs": [],
   "source": [
    "def cleaner(word):\n",
    "    word = re.sub(r'((http|https)\\:\\/\\/)?[a-zA-Z0-9\\.\\/\\?\\:@\\-_=#]+\\.([a-zA-Z]){2,6}([a-zA-Z0-9\\.\\&\\/\\?\\:@\\-_=#])*', '', word, flags=re.MULTILINE)\n",
    "    word = re.sub(r'(?::|;|=)(?:-)?(?:\\)|\\(|D|P)', \"\", word)\n",
    "    word = re.sub(r'ee.uu', 'eeuu', word)\n",
    "    word = re.sub(r'\\#\\.', '', word)\n",
    "    word = re.sub(r'\\n', '', word)\n",
    "    word = re.sub(r',', ' ', word)\n",
    "    word = re.sub(r'\\-', ' ', word)\n",
    "    word = re.sub(r'\\.{3}', ' ', word)\n",
    "    word = re.sub(r'a{2,}', 'a', word)\n",
    "    word = re.sub(r'é{2,}', 'é', word)\n",
    "    word = re.sub(r'i{2,}', 'i', word)\n",
    "    word = re.sub(r'ja{2,}', 'ja', word) \n",
    "    word = re.sub(r'á', 'a', word)\n",
    "    word = re.sub(r'é', 'e', word)\n",
    "    word = re.sub(r'í', 'i', word)\n",
    "    word = re.sub(r'ó', 'o', word)\n",
    "    word = re.sub(r'ú', 'u', word)  \n",
    "    word = re.sub('[^a-zA-Z]', ' ', word)\n",
    "    wordlist = [ token for token in nltk.word_tokenize(word) if token.lower() not in stopwords_sp and len(token)>3 ]\n",
    "    wordlist = [x for x in wordlist if not any(string for string in black_list if string in x)]\n",
    "    word = \" \".join(wordlist)\n",
    "    list_word_clean = []\n",
    "    for w1 in word.split(r\"\\s\"):\n",
    "        if  w1.lower() not in stopwords_sp:\n",
    "            list_word_clean.append(w1.lower())\n",
    "\n",
    "    bigram_list = bigram[list_word_clean]\n",
    "    out_text = stemmization(\" \".join(bigram_list))\n",
    "    return out_text"
   ]
  },
  {
   "cell_type": "code",
   "execution_count": 11,
   "metadata": {},
   "outputs": [
    {
     "data": {
      "text/plain": [
       "['hola', 'germen', 'tendria', 'pulgas', 'cre']"
      ]
     },
     "execution_count": 11,
     "metadata": {},
     "output_type": "execute_result"
    }
   ],
   "source": [
    "cleaner('hola soy un gérmen y tendría pulgas. Pero no,creo que no. O si. excelente! excelente')"
   ]
  },
  {
   "cell_type": "markdown",
   "metadata": {
    "colab_type": "text",
    "id": "vmgAfhN6bWrR"
   },
   "source": [
    "Create the function for select **only nouns** for our data, this way we are removing adverb, adjetives, verbs, etc. This is doing with spacy"
   ]
  },
  {
   "cell_type": "markdown",
   "metadata": {
    "colab_type": "text",
    "id": "3wMjzGX9bscx"
   },
   "source": [
    "For gensim we need a list of text, so we need do convert the dataframe to list"
   ]
  },
  {
   "cell_type": "code",
   "execution_count": 12,
   "metadata": {},
   "outputs": [
    {
     "data": {
      "text/plain": [
       "['hola',\n",
       " 'soy',\n",
       " 'un',\n",
       " 'germen',\n",
       " 'y',\n",
       " 'tendria',\n",
       " 'pulgas',\n",
       " 'pero',\n",
       " 'no',\n",
       " 'creo',\n",
       " 'que',\n",
       " 'no',\n",
       " 'o',\n",
       " 'si']"
      ]
     },
     "execution_count": 12,
     "metadata": {},
     "output_type": "execute_result"
    }
   ],
   "source": [
    "stemmization('hola soy un gérmen y tendría pulgas. Pero no,creo que no. O si')"
   ]
  },
  {
   "cell_type": "code",
   "execution_count": 13,
   "metadata": {},
   "outputs": [
    {
     "data": {
      "text/plain": [
       "['hola', 'gérmen', 'pulgas']"
      ]
     },
     "execution_count": 13,
     "metadata": {},
     "output_type": "execute_result"
    }
   ],
   "source": [
    "lemmatization('hola soy un gérmen y tendría pulgas. Pero no,creo que no. O si')"
   ]
  },
  {
   "cell_type": "code",
   "execution_count": null,
   "metadata": {},
   "outputs": [],
   "source": []
  },
  {
   "cell_type": "code",
   "execution_count": 14,
   "metadata": {
    "colab": {
     "base_uri": "https://localhost:8080/",
     "height": 34
    },
    "colab_type": "code",
    "id": "IZhWiKxY4Gx2",
    "outputId": "0de89bb9-dc2e-470e-d996-40992ae55e5c"
   },
   "outputs": [
    {
     "data": {
      "text/plain": [
       "21448"
      ]
     },
     "execution_count": 14,
     "metadata": {},
     "output_type": "execute_result"
    }
   ],
   "source": [
    "len(df_news)"
   ]
  },
  {
   "cell_type": "code",
   "execution_count": null,
   "metadata": {
    "colab": {
     "base_uri": "https://localhost:8080/",
     "height": 102
    },
    "colab_type": "code",
    "id": "kJzcwy4ORHD1",
    "outputId": "689b6dc6-ab0a-490d-8700-ac5f1096cb0c"
   },
   "outputs": [],
   "source": []
  },
  {
   "cell_type": "code",
   "execution_count": 15,
   "metadata": {
    "colab": {
     "base_uri": "https://localhost:8080/",
     "height": 241
    },
    "colab_type": "code",
    "id": "HciZjXBfwbXM",
    "outputId": "15c4c7c2-a97e-4c33-9922-7922d5410abe"
   },
   "outputs": [],
   "source": [
    "# !python -m spacy download es_core_news_md"
   ]
  },
  {
   "cell_type": "code",
   "execution_count": 16,
   "metadata": {
    "colab": {
     "base_uri": "https://localhost:8080/",
     "height": 54
    },
    "colab_type": "code",
    "id": "yDBAXRQuOnOG",
    "outputId": "a034c4d9-a10d-4db3-a60c-8435eeaa8935"
   },
   "outputs": [
    {
     "data": {
      "text/plain": [
       "16408    Es un curso introductorio como su nombre lo indica. No es para quién tenga un mínimo de experiencia. De lo contrario no le resultará productivo.\n",
       "17063                                                                                                    no cumple con lo esperado, código desactualizado\n",
       "2592                                                                                                                        Faltan ejemplos más complejos\n",
       "Name: comment, dtype: object"
      ]
     },
     "execution_count": 16,
     "metadata": {},
     "output_type": "execute_result"
    }
   ],
   "source": [
    "df_news['comment'].sample(3)"
   ]
  },
  {
   "cell_type": "code",
   "execution_count": 17,
   "metadata": {
    "colab": {
     "base_uri": "https://localhost:8080/",
     "height": 1000
    },
    "colab_type": "code",
    "id": "2vyiSwQjPCox",
    "outputId": "6577c4eb-29d3-46f8-c5a2-15fbc10576d4"
   },
   "outputs": [
    {
     "data": {
      "text/plain": [
       "['excelente',\n",
       " 'detallado',\n",
       " 'menos',\n",
       " 'leido',\n",
       " 'calidad',\n",
       " 'seria',\n",
       " 'superior',\n",
       " 'tema',\n",
       " 'explicar',\n",
       " 'leer',\n",
       " 'men']"
      ]
     },
     "execution_count": 17,
     "metadata": {},
     "output_type": "execute_result"
    }
   ],
   "source": [
    "cleaner(df_news['comment'].iloc[3])"
   ]
  },
  {
   "cell_type": "markdown",
   "metadata": {
    "colab_type": "text",
    "id": "3FqIi24ISgK2"
   },
   "source": [
    "The Cleaner function work properly"
   ]
  },
  {
   "cell_type": "markdown",
   "metadata": {
    "colab_type": "text",
    "id": "yjMX0qS4SmUR"
   },
   "source": [
    "##### Let's clean all the text"
   ]
  },
  {
   "cell_type": "code",
   "execution_count": 18,
   "metadata": {
    "colab": {},
    "colab_type": "code",
    "id": "TBDM5Caomutj"
   },
   "outputs": [],
   "source": [
    "from tqdm.notebook import tqdm\n",
    "tqdm.pandas()\n",
    "\n",
    "df_news['comment_cleaned'] = df_news['comment'].apply(cleaner)"
   ]
  },
  {
   "cell_type": "markdown",
   "metadata": {
    "colab_type": "text",
    "id": "7egM0YZzRS9r"
   },
   "source": [
    "Now we need to build the *corpus* and the *dictionary* that gensim need to work, to do that we need to pass a list of list of tokens"
   ]
  },
  {
   "cell_type": "code",
   "execution_count": null,
   "metadata": {},
   "outputs": [],
   "source": [
    "# las palabras \"curso,clase\" son stopwords"
   ]
  },
  {
   "cell_type": "code",
   "execution_count": 19,
   "metadata": {},
   "outputs": [
    {
     "data": {
      "text/plain": [
       "3392                                                                                                                                                                                                                                   [concierne, curso, gusta, directamente, grano, rapido, concis]\n",
       "3394                                                                                                                                                                                                                                                                                           [curs]\n",
       "3395    [paso, paso, resolucion, problemas, comunes, digo, espera, usuario, entienda, conceptos, java, cosas, creo, deberian, explicar, segundo, comentario, curso, promete, pense, seria, avanzado, quiza, apresuro, decir, comentario, hibernate, pesar, core, curso, deja, desear, verdad, entend]\n",
       "3398                                                                                                                                                                                                                                                                  [instructor, responde, pregunt]\n",
       "3399                                                                                                                                            [curso, alguien, posee, experiencia, previa, tema, profesor, explica, bien, posee, experiencia, parecer, falta, contenido, organizar, mejor, seccion]\n",
       "3417                                                                                                                                                                                                                                                                    [pronto, opinar, respecto, v]\n",
       "3420                                                                               [curso, pasa, tiempo, duda, resuelva, adicional, final, curso, menciona, abran, ejemplos, ajax, enviar, mail, existen, tales, modulos, update, agrego, ejemplo, ajax, cuestionario, modulo, evaluar, sabes, parec]\n",
       "3424              [parte, spring, security, pues, detiene, explicar, conceptos, lamentablemente, ocurre, contenidos, anteriores, impresion, programando, aplicacion, solamente, nombrando, utilizando, explica, bien, palabras, decides, curso, curso, debes, tener, conceptos, claros, sino, perder]\n",
       "3431                                                                                                                                                                                                                                                                                [estan, bien, cl]\n",
       "3438                                                                                                                                                                                                                      [material, deprecado, considerando, spring, moviendo, usarlo, spring, boot]\n",
       "Name: comment_cleaned, dtype: object"
      ]
     },
     "execution_count": 19,
     "metadata": {},
     "output_type": "execute_result"
    }
   ],
   "source": [
    "df_news['comment_cleaned'].iloc[200:210]"
   ]
  },
  {
   "cell_type": "code",
   "execution_count": 20,
   "metadata": {
    "colab": {},
    "colab_type": "code",
    "id": "DZmxTdsYTV35"
   },
   "outputs": [],
   "source": [
    "dictionary = Dictionary(df_news['comment_cleaned'].to_list())\n",
    "dictionary.compactify()\n",
    "# Filter extremes\n",
    "#dictionary.filter_extremes(no_below=5, no_above=0.3)#, keep_n=10000)\n",
    "#dictionary.filter_extremes(no_below=2, no_above=0.97, keep_n=None)\n",
    "dictionary.filter_extremes(no_below=5, no_above=0.2, keep_n=None)\n",
    "dictionary.compactify()\n",
    "\n",
    "corpus = [dictionary.doc2bow(text) for text in df_news['comment_cleaned'].to_list()]"
   ]
  },
  {
   "cell_type": "markdown",
   "metadata": {
    "colab_type": "text",
    "id": "NgV46EUdSu0n"
   },
   "source": [
    "# MODELADO"
   ]
  },
  {
   "cell_type": "markdown",
   "metadata": {
    "colab_type": "text",
    "id": "GWsxgxE8-YWC"
   },
   "source": [
    "Comparando:\n",
    "Latent Dirichlet Allocation (LDA), \n",
    "Latent semantic analysis (LSA), \n",
    "Hierarchical Dirichlet Process (HDP)\n",
    "\n",
    "Para evaluar los topics, usamos **topic coherence** (una medida de interpretación de topics)."
   ]
  },
  {
   "cell_type": "code",
   "execution_count": 21,
   "metadata": {},
   "outputs": [],
   "source": [
    "%%capture\n",
    "!pip install pyLDAvis==2.1.2"
   ]
  },
  {
   "cell_type": "code",
   "execution_count": 22,
   "metadata": {},
   "outputs": [
    {
     "name": "stderr",
     "output_type": "stream",
     "text": [
      "[nltk_data] Downloading package punkt to\n",
      "[nltk_data]     C:\\Users\\Faolin\\AppData\\Roaming\\nltk_data...\n",
      "[nltk_data]   Package punkt is already up-to-date!\n",
      "[nltk_data] Downloading package stopwords to\n",
      "[nltk_data]     C:\\Users\\Faolin\\AppData\\Roaming\\nltk_data...\n",
      "[nltk_data]   Package stopwords is already up-to-date!\n"
     ]
    }
   ],
   "source": [
    "import pandas as pd\n",
    "import numpy as np\n",
    "import matplotlib.pyplot  as plt\n",
    "from collections import Counter\n",
    "import numpy as np\n",
    "from nltk import word_tokenize, sent_tokenize\n",
    "import nltk\n",
    "nltk.download('punkt')\n",
    "nltk.download('stopwords')\n",
    "from nltk.corpus import stopwords\n",
    "\n",
    "import gensim\n",
    "from gensim.models import CoherenceModel, LdaModel, LsiModel, HdpModel\n",
    "#from gensim.models.wrappers import LdaMallet\n",
    "from gensim.corpora import Dictionary\n",
    "from gensim import corpora\n",
    "\n",
    "import pyLDAvis.gensim\n",
    "pyLDAvis.enable_notebook()\n",
    "\n",
    "import os, re, operator, warnings\n",
    "warnings.filterwarnings('ignore')  \n",
    "%matplotlib inline"
   ]
  },
  {
   "cell_type": "code",
   "execution_count": 23,
   "metadata": {},
   "outputs": [],
   "source": [
    "lsamodel = LsiModel(corpus=corpus, num_topics=25, id2word=dictionary)"
   ]
  },
  {
   "cell_type": "code",
   "execution_count": 24,
   "metadata": {},
   "outputs": [
    {
     "data": {
      "text/plain": [
       "[(0, '0.424*\"bien\" + 0.220*\"solo\" + 0.177*\"videos\" + 0.175*\"cosas\"'),\n",
       " (1, '0.867*\"bien\" + -0.209*\"solo\" + -0.143*\"videos\" + -0.097*\"video\"'),\n",
       " (2, '0.686*\"solo\" + -0.468*\"videos\" + 0.247*\"explica\" + -0.198*\"contenido\"'),\n",
       " (3, '0.607*\"videos\" + 0.510*\"solo\" + -0.292*\"cosas\" + -0.200*\"falta\"'),\n",
       " (4, '0.557*\"basico\" + -0.504*\"cosas\" + -0.327*\"explica\" + -0.188*\"videos\"'),\n",
       " (5, '-0.657*\"basico\" + -0.335*\"videos\" + -0.332*\"cosas\" + 0.282*\"falta\"'),\n",
       " (6, '-0.708*\"falta\" + -0.271*\"hace\" + 0.243*\"mejor\" + -0.223*\"explicacion\"'),\n",
       " (7, '0.545*\"cosas\" + -0.469*\"explica\" + 0.251*\"mejor\" + 0.228*\"creo\"'),\n",
       " (8,\n",
       "  '0.510*\"contenido\" + -0.464*\"informacion\" + 0.430*\"mejor\" + -0.273*\"creo\"'),\n",
       " (9,\n",
       "  '0.621*\"video\" + -0.389*\"temas\" + 0.296*\"explicacion\" + -0.245*\"contenido\"')]"
      ]
     },
     "execution_count": 24,
     "metadata": {},
     "output_type": "execute_result"
    }
   ],
   "source": [
    "lsamodel.print_topics(10,4)"
   ]
  },
  {
   "cell_type": "code",
   "execution_count": 25,
   "metadata": {},
   "outputs": [],
   "source": [
    "ldamodel = LdaModel(corpus=corpus, num_topics=25, id2word=dictionary, iterations = 2000, passes=10)"
   ]
  },
  {
   "cell_type": "code",
   "execution_count": 26,
   "metadata": {},
   "outputs": [
    {
     "data": {
      "text/plain": [
       "[(9,\n",
       "  '0.040*\"facil\" + 0.037*\"graci\" + 0.024*\"quizas\" + 0.024*\"super\" + 0.021*\"palabras\" + 0.018*\"imagenes\"'),\n",
       " (21,\n",
       "  '0.035*\"mundo\" + 0.035*\"conocer\" + 0.032*\"aburrido\" + 0.029*\"sabe\" + 0.028*\"personas\" + 0.026*\"introductorio\"'),\n",
       " (0,\n",
       "  '0.053*\"lento\" + 0.029*\"hablar\" + 0.028*\"pierde\" + 0.023*\"linux\" + 0.023*\"windows\" + 0.021*\"visual\"'),\n",
       " (10,\n",
       "  '0.094*\"bi\" + 0.052*\"paso\" + 0.041*\"pagina\" + 0.040*\"ahora\" + 0.037*\"preguntas\" + 0.035*\"version\"'),\n",
       " (4,\n",
       "  '0.137*\"videos\" + 0.088*\"video\" + 0.065*\"audio\" + 0.039*\"calidad\" + 0.031*\"contenido\" + 0.030*\"vide\"'),\n",
       " (16,\n",
       "  '0.313*\"bien\" + 0.096*\"explica\" + 0.048*\"explicado\" + 0.042*\"explic\" + 0.030*\"bastante\" + 0.026*\"conceptos\"'),\n",
       " (18,\n",
       "  '0.100*\"mejor\" + 0.095*\"podria\" + 0.087*\"ense\" + 0.049*\"mejorar\" + 0.039*\"puede\" + 0.028*\"creo\"'),\n",
       " (3,\n",
       "  '0.209*\"curs\" + 0.054*\"conten\" + 0.043*\"aprend\" + 0.030*\"entiendo\" + 0.029*\"tenia\" + 0.028*\"clar\"'),\n",
       " (14,\n",
       "  '0.072*\"programacion\" + 0.062*\"persona\" + 0.037*\"corto\" + 0.036*\"sencillo\" + 0.032*\"queda\" + 0.032*\"salud\"'),\n",
       " (5,\n",
       "  '0.077*\"claro\" + 0.049*\"ejemplos\" + 0.033*\"real\" + 0.025*\"entend\" + 0.022*\"aplicacion\" + 0.022*\"material\"')]"
      ]
     },
     "execution_count": 26,
     "metadata": {},
     "output_type": "execute_result"
    }
   ],
   "source": [
    "ldamodel.print_topics(10, 6)"
   ]
  },
  {
   "cell_type": "code",
   "execution_count": null,
   "metadata": {},
   "outputs": [],
   "source": []
  },
  {
   "cell_type": "markdown",
   "metadata": {
    "colab_type": "text",
    "id": "YwiwW86Man80"
   },
   "source": [
    " ## Hierarchical Dirichlet process Model"
   ]
  },
  {
   "cell_type": "code",
   "execution_count": 27,
   "metadata": {
    "colab": {},
    "colab_type": "code",
    "id": "opxvCwJcbIs9"
   },
   "outputs": [],
   "source": [
    "hdpmodel = HdpModel(corpus=corpus, id2word=dictionary, random_state= 30)"
   ]
  },
  {
   "cell_type": "markdown",
   "metadata": {
    "colab_type": "text",
    "id": "KON8iJfmS-f7"
   },
   "source": [
    "and the topics of this model:"
   ]
  },
  {
   "cell_type": "code",
   "execution_count": 28,
   "metadata": {
    "colab": {},
    "colab_type": "code",
    "id": "ewKUhhpgjo8g"
   },
   "outputs": [],
   "source": [
    "def display_topics(model, model_type=\"lda\"):\n",
    "    for topic_idx, topic in enumerate(model.print_topics()):\n",
    "        print (\"Topic %d:\" % (topic_idx))\n",
    "        if model_type== \"hdp\":\n",
    "            print (\" \".join(re.findall( r'\\*(.[^\\*-S]+).?', topic[1])), \"\\n\")\n",
    "        else:\n",
    "            print (\" \".join(re.findall( r'\\\"(.[^\"]+).?', topic[1])), \"\\n\")\n"
   ]
  },
  {
   "cell_type": "code",
   "execution_count": 29,
   "metadata": {
    "colab": {
     "base_uri": "https://localhost:8080/",
     "height": 1000
    },
    "colab_type": "code",
    "id": "-1pogQLHbSl9",
    "outputId": "94002da5-32a7-4c25-b5ac-29b23b8e5959"
   },
   "outputs": [
    {
     "name": "stdout",
     "output_type": "stream",
     "text": [
      "Topic 0:\n",
      "bien  solo  habla  video  basico  explica  tiempo  profesor  explicar  hacer \n",
      "\n",
      "Topic 1:\n",
      "bien  solo  ejemplos  ejemplo  falta  hacer  explicacion  videos  mejor  cada \n",
      "\n",
      "Topic 2:\n",
      "videos  bien  solo  hace  contenido  explica  creo  conceptos  video  cosas \n",
      "\n",
      "Topic 3:\n",
      "instructor  bien  explica  creo  cosas  clases  puede  cursos  deberia  agregue \n",
      "\n",
      "Topic 4:\n",
      "bien  cosas  falta  videos  solo  basico  cierta  aunque  luego  mejor \n",
      "\n",
      "Topic 5:\n",
      "bien  creo  solo  receta  tiempo  falta  curs  ordenador  tambien  basico \n",
      "\n",
      "Topic 6:\n",
      "bien  empiezas  contest  preguntas  novatos  talleres  hacer  cosas  convence  esperando \n",
      "\n",
      "Topic 7:\n",
      "familiariz  bien  vienes  qgis  existen  avanzas  hace  pas  navegacion  realizan \n",
      "\n",
      "Topic 8:\n",
      "bien  colocar  explicados  frente  estructura  mejore  aporto  comenzado  frontend  mala \n",
      "\n",
      "Topic 9:\n",
      "bien  cuales  linkedin  limito  deberia  poder  pausada  profesor  tecl  nod \n",
      "\n",
      "Topic 10:\n",
      "aunque  bien  mejorar  maneja  realizar  instructor  videos  basico  falta  metodo \n",
      "\n",
      "Topic 11:\n",
      "bien  entender  solamente  conociera  pude  posteriormente  pego  contenido  pronunciacion  solo \n",
      "\n",
      "Topic 12:\n",
      "bien  salta  creo  contenido  conteudo  comparte  acompa  virtualizacion  pierdes  vienes \n",
      "\n",
      "Topic 13:\n",
      "antigua  bien  felicidades  ambos  servido  conceptos  sueltos  vendrian  incluyeran  espero \n",
      "\n",
      "Topic 14:\n",
      "programa  bien  solo  conceptos  what  videos  basico  profesor  ahora  explica \n",
      "\n",
      "Topic 15:\n",
      "bien  resolucion  especificaciones  distintos  cosas  contado  estudiante  marketing  casos  teoricos \n",
      "\n",
      "Topic 16:\n",
      "falta  solo  bien  detallados  navegadores  regul  aplicar  anterioridad  estil  avanzando \n",
      "\n",
      "Topic 17:\n",
      "page  oral  rellen  lado  interes  portugu  falta  something  propaganda  atiende \n",
      "\n",
      "Topic 18:\n",
      "bien  clase  explicaciones  falta  video  pantall  explicar  solo  audio  empiezas \n",
      "\n",
      "Topic 19:\n",
      "bien  quita  contenido  interesante  cargo  resum  complejidad  cosas  comprens  personas \n",
      "\n"
     ]
    }
   ],
   "source": [
    "# hdpmodel.show_topics() \n",
    "\n",
    "display_topics(hdpmodel, model_type=\"hdp\")"
   ]
  },
  {
   "cell_type": "markdown",
   "metadata": {
    "colab_type": "text",
    "id": "jd3LspvVUEXj"
   },
   "source": [
    "as we could see there are 20 topics, however is kind of dificult to interpret or follow, so we decide to move to another model.\n",
    "\n",
    "\n",
    "\n"
   ]
  },
  {
   "cell_type": "code",
   "execution_count": 30,
   "metadata": {
    "colab": {},
    "colab_type": "code",
    "id": "4J2IIPqHVTzZ"
   },
   "outputs": [],
   "source": [
    "def evaluate_graph(dictionary, corpus, texts, limit, model):\n",
    "    \"\"\"\n",
    "    Function to display num_topics - LDA graph using c_v coherence\n",
    "    \n",
    "    Parameters:\n",
    "    ----------\n",
    "    dictionary : Gensim dictionary\n",
    "    corpus : Gensim corpus\n",
    "    limit : topic limit\n",
    "    \n",
    "    Returns:\n",
    "    -------\n",
    "    lm_list : List of LDA topic models\n",
    "    c_v : Coherence values corresponding to the LDA model with respective number of topics\n",
    "    \"\"\"\n",
    "    c_v = []\n",
    "    lm_list = []\n",
    "    for num_topics in range(1, limit):\n",
    "        if model == 'lsi':\n",
    "            lm = LsiModel(corpus=corpus, num_topics=num_topics, id2word=dictionary)\n",
    "        else:\n",
    "            lm = LdaModel(corpus=corpus, num_topics=num_topics, id2word=dictionary)\n",
    "        lm_list.append(lm)\n",
    "        cm = CoherenceModel(model=lm, texts=texts, dictionary=dictionary, coherence='c_v')\n",
    "        c_v.append(cm.get_coherence())\n",
    "        \n",
    "    # Show graph\n",
    "    x = range(1, limit)\n",
    "    plt.plot(x, c_v)\n",
    "    plt.xlabel(\"num_topics\")\n",
    "    plt.ylabel(\"Coherence score\")\n",
    "    plt.legend((\"c_v\"), loc='best')\n",
    "    plt.show()\n",
    "    \n",
    "    return lm_list, c_v"
   ]
  },
  {
   "cell_type": "markdown",
   "metadata": {
    "colab_type": "text",
    "id": "hse2o99bZ8wi"
   },
   "source": [
    "##LSI MODEL"
   ]
  },
  {
   "cell_type": "code",
   "execution_count": 31,
   "metadata": {
    "colab": {},
    "colab_type": "code",
    "id": "HFQCfc9VcmT7"
   },
   "outputs": [],
   "source": [
    "lsimodel = LsiModel(corpus=corpus, num_topics=10, id2word=dictionary)"
   ]
  },
  {
   "cell_type": "code",
   "execution_count": 32,
   "metadata": {
    "colab": {
     "base_uri": "https://localhost:8080/",
     "height": 527
    },
    "colab_type": "code",
    "id": "yfrJmKuLaUrg",
    "outputId": "b7add73d-8ca9-41fb-b93f-eb4de56773dc"
   },
   "outputs": [
    {
     "name": "stdout",
     "output_type": "stream",
     "text": [
      "Topic 0:\n",
      "bien solo videos cosas explica hace creo hacer contenido basico \n",
      "\n",
      "Topic 1:\n",
      "bien solo videos video hacer explicado hace mejor instructor contenido \n",
      "\n",
      "Topic 2:\n",
      "solo videos explica contenido falta cosas basico mejor habla creo \n",
      "\n",
      "Topic 3:\n",
      "videos solo cosas falta basico creo video explicar bien mejor \n",
      "\n",
      "Topic 4:\n",
      "basico cosas explica solo videos contenido hace ejemplos mejor informacion \n",
      "\n",
      "Topic 5:\n",
      "basico videos cosas falta solo explicacion demasiado informacion ejemplos explica \n",
      "\n",
      "Topic 6:\n",
      "falta hace mejor explicacion instructor basico explica creo videos hacer \n",
      "\n",
      "Topic 7:\n",
      "cosas explica mejor creo solo instructor hace habla video falta \n",
      "\n",
      "Topic 8:\n",
      "contenido mejor temas creo informacion instructor explicacion hacer explica habla \n",
      "\n",
      "Topic 9:\n",
      "video temas informacion videos ejemplos explica basico tema parte explicacion \n",
      "\n"
     ]
    }
   ],
   "source": [
    "display_topics(lsimodel)  # Showing the topics"
   ]
  },
  {
   "cell_type": "markdown",
   "metadata": {
    "colab_type": "text",
    "id": "t-Bt22W-r1ZO"
   },
   "source": [
    "It seen that with 10 topics there is some themes with keywords related to: trump, venezuela, police, electiones, terrorism; still is a little difficult to gt some insight, because of this we are trying to select the best number of topics by iterate over a range of values and looking the coherence "
   ]
  },
  {
   "cell_type": "code",
   "execution_count": 33,
   "metadata": {
    "colab": {
     "base_uri": "https://localhost:8080/",
     "height": 318
    },
    "colab_type": "code",
    "id": "dtXS4IfIVYIJ",
    "outputId": "916f153b-dc7d-4484-8a62-b9be3a788328"
   },
   "outputs": [
    {
     "data": {
      "image/png": "[encoded data removed]",
      "text/plain": [
       "<Figure size 432x288 with 1 Axes>"
      ]
     },
     "metadata": {
      "needs_background": "light"
     },
     "output_type": "display_data"
    },
    {
     "name": "stdout",
     "output_type": "stream",
     "text": [
      "Wall time: 2min 47s\n"
     ]
    }
   ],
   "source": [
    "%%time\n",
    "lmlist_lsi, c_v = evaluate_graph(dictionary=dictionary, corpus=corpus, texts=df_news['comment_cleaned'].to_list(), limit=21, model= \"lsi\")"
   ]
  },
  {
   "cell_type": "markdown",
   "metadata": {
    "colab_type": "text",
    "id": "kmzyPFWiw63V"
   },
   "source": [
    "According to the coherence the best number of topics are between 3-7, however you must select the topics using both the coherence and visual inspection.\n"
   ]
  },
  {
   "cell_type": "code",
   "execution_count": 34,
   "metadata": {
    "colab": {
     "base_uri": "https://localhost:8080/",
     "height": 170
    },
    "colab_type": "code",
    "id": "TczLrG1ZRL4_",
    "outputId": "97713743-960a-4570-b917-63cd2437b058"
   },
   "outputs": [
    {
     "name": "stdout",
     "output_type": "stream",
     "text": [
      "Topic 0:\n",
      "bien solo videos cosas explica hace creo hacer contenido basico \n",
      "\n",
      "Topic 1:\n",
      "bien solo videos video hacer explicado hace mejor instructor contenido \n",
      "\n",
      "Topic 2:\n",
      "solo videos explica falta basico contenido habla mejor creo video \n",
      "\n"
     ]
    }
   ],
   "source": [
    "display_topics(lmlist_lsi[2])"
   ]
  },
  {
   "cell_type": "markdown",
   "metadata": {
    "colab_type": "text",
    "id": "v6ty9sFNyRyG"
   },
   "source": [
    "Now, Let's try another model"
   ]
  },
  {
   "cell_type": "markdown",
   "metadata": {
    "colab_type": "text",
    "id": "earp2d28dz3a"
   },
   "source": [
    "## Latent Dirichlet Allocation Model"
   ]
  },
  {
   "cell_type": "code",
   "execution_count": 35,
   "metadata": {
    "colab": {},
    "colab_type": "code",
    "id": "wiI55UzIdnUN"
   },
   "outputs": [],
   "source": [
    "ldamodel = LdaModel(corpus=corpus, num_topics=20, id2word=dictionary)"
   ]
  },
  {
   "cell_type": "code",
   "execution_count": 36,
   "metadata": {
    "colab": {
     "base_uri": "https://localhost:8080/",
     "height": 527
    },
    "colab_type": "code",
    "id": "fjAbhPAMd7_B",
    "outputId": "6128b18b-dcda-4960-8e98-ab2fa440b5de"
   },
   "outputs": [
    {
     "name": "stdout",
     "output_type": "stream",
     "text": [
      "Topic 0:\n",
      "bi bien general bastante aunque explica musica fondo entiende esperaba \n",
      "\n",
      "Topic 1:\n",
      "bien explicar forma detalles explica falta conocimientos entrar basicas cosas \n",
      "\n",
      "Topic 2:\n",
      "gratis bien cosas contenido sabe basico  + 0.014*  + 0.014*  + 0.013* \n",
      "\n",
      "Topic 3:\n",
      "curs interesante facil ejempl sido parece poder datos bases basico \n",
      "\n",
      "Topic 4:\n",
      "video palabras mejor podria practico agradece solo clase vamos principi \n",
      "\n",
      "Topic 5:\n",
      "hace haber tiempo genial bien diccion simplemente cada usuario vista \n",
      "\n",
      "Topic 6:\n",
      "bien introduccion explicado basico mucha vide falto corto informacion conocer \n",
      "\n",
      "Topic 7:\n",
      "gratuito programacion preguntas malo codigo videos explica hac tampoco contenidos \n",
      "\n",
      "Topic 8:\n",
      "interes conten audio principiantes bien explica basico entend moment clar \n",
      "\n",
      "Topic 9:\n",
      "sencillo persona deberia programacion lenguaje ense iniciarse explicacion bootstrap ahora \n",
      "\n",
      "Topic 10:\n",
      "contenido videos video version solo calidad util puedo pesar presentacion \n",
      "\n",
      "Topic 11:\n",
      "falta momento claro explicacion profesor explicaciones preparacion dudas solo bi \n",
      "\n",
      "Topic 12:\n",
      "informacion gusto cl tutorial puede video solo hacer graci mejor \n",
      "\n",
      "Topic 13:\n",
      "ense cosas basico paso bien explica solo ejemplo temas conocimiento \n",
      "\n",
      "Topic 14:\n",
      "bas pract demasiado instalacion solo ejemplos conceptos pago tiempo siendo \n",
      "\n",
      "Topic 15:\n",
      "bueno excelente parte bien mala basic conoc idea concept basico \n",
      "\n",
      "Topic 16:\n",
      "hace bien dificil comandos videos cosas nombre marketing explicar hacen \n",
      "\n",
      "Topic 17:\n",
      "explicacion conceptos aprend ejemplos clara falta videos servidor visual material \n",
      "\n",
      "Topic 18:\n",
      "eleccion bien explic rapido demasiado buena explica instructor habla basico \n",
      "\n",
      "Topic 19:\n",
      "espero mejor tem esper basico aunque tema gracias entiendo solo \n",
      "\n"
     ]
    }
   ],
   "source": [
    "display_topics(ldamodel)"
   ]
  },
  {
   "cell_type": "markdown",
   "metadata": {
    "colab_type": "text",
    "id": "2cywaW1QsJ8N"
   },
   "source": [
    "Find out the optimal number of topics for the LDA model based on the coherence metric:"
   ]
  },
  {
   "cell_type": "code",
   "execution_count": 37,
   "metadata": {
    "colab": {
     "base_uri": "https://localhost:8080/",
     "height": 318
    },
    "colab_type": "code",
    "id": "Rd651y6mWpTF",
    "outputId": "18376c3d-d18a-465e-d115-9b2b55c02005"
   },
   "outputs": [
    {
     "data": {
      "image/png": "[encoded data removed]",
      "text/plain": [
       "<Figure size 432x288 with 1 Axes>"
      ]
     },
     "metadata": {
      "needs_background": "light"
     },
     "output_type": "display_data"
    }
   ],
   "source": [
    "lmlist, c_v = evaluate_graph(dictionary=dictionary, corpus=corpus, texts=df_news['comment_cleaned'].to_list(), limit=21, model= \"lda\")"
   ]
  },
  {
   "cell_type": "markdown",
   "metadata": {
    "colab_type": "text",
    "id": "P0T4UJGmyiLp"
   },
   "source": [
    "For this model it seems that  9 or 18, again we must to check the keywords too."
   ]
  },
  {
   "cell_type": "markdown",
   "metadata": {
    "colab_type": "text",
    "id": "S6S88TE0eslU"
   },
   "source": [
    "### Comparing the Model Coherence of the Best Models"
   ]
  },
  {
   "cell_type": "markdown",
   "metadata": {
    "colab_type": "text",
    "id": "6dnp010Wz6Xo"
   },
   "source": [
    "we made 3 models, now let's compare each other's  coherence"
   ]
  },
  {
   "cell_type": "code",
   "execution_count": 38,
   "metadata": {
    "colab": {},
    "colab_type": "code",
    "id": "s0bosG67ev6L"
   },
   "outputs": [],
   "source": [
    "ldamodel = lmlist[11]\n",
    "lsimodel = lmlist_lsi[2]\n",
    "\n",
    "lsitopics = [[word for word, prob in topic] for topicid, topic in lsimodel.show_topics(formatted=False)]\n",
    "\n",
    "hdptopics = [[word for word, prob in topic] for topicid, topic in hdpmodel.show_topics(formatted=False)]\n",
    "\n",
    "ldatopics = [[word for word, prob in topic] for topicid, topic in ldamodel.show_topics(formatted=False)]"
   ]
  },
  {
   "cell_type": "code",
   "execution_count": 39,
   "metadata": {
    "colab": {},
    "colab_type": "code",
    "id": "IP5GpYG1e4nT"
   },
   "outputs": [],
   "source": [
    "lsi_coherence = CoherenceModel(topics=lsitopics[:10], texts=df_news['comment_cleaned'].to_list(), dictionary=dictionary, window_size=10).get_coherence()\n",
    "\n",
    "hdp_coherence = CoherenceModel(topics=hdptopics[:10], texts=df_news['comment_cleaned'].to_list(), dictionary=dictionary, window_size=10).get_coherence()\n",
    "\n",
    "lda_coherence = CoherenceModel(topics=ldatopics, texts=df_news['comment_cleaned'].to_list(), dictionary=dictionary, window_size=10).get_coherence()"
   ]
  },
  {
   "cell_type": "code",
   "execution_count": 40,
   "metadata": {
    "colab": {
     "base_uri": "https://localhost:8080/",
     "height": 287
    },
    "colab_type": "code",
    "id": "XntcwwKufZTp",
    "outputId": "7278380a-d093-4908-a44a-0ba94a2d7aac"
   },
   "outputs": [
    {
     "data": {
      "text/plain": [
       "<AxesSubplot:>"
      ]
     },
     "execution_count": 40,
     "metadata": {},
     "output_type": "execute_result"
    },
    {
     "data": {
      "image/png": "[encoded data removed]",
      "text/plain": [
       "<Figure size 432x288 with 1 Axes>"
      ]
     },
     "metadata": {
      "needs_background": "light"
     },
     "output_type": "display_data"
    }
   ],
   "source": [
    "import seaborn as sns\n",
    "\n",
    "coherences = [lsi_coherence, hdp_coherence, lda_coherence]\n",
    "n = len(coherences)\n",
    "x = ['lsi_coherence','hdp_coherence', 'lda_coherence']\n",
    "sns.barplot(x, coherences)\n"
   ]
  },
  {
   "cell_type": "markdown",
   "metadata": {
    "colab_type": "text",
    "id": "bXKu-wAoFMRY"
   },
   "source": [
    "We can see that the **LdaModel** model **with 8 topics** has the higher value of\n",
    "coherence"
   ]
  },
  {
   "cell_type": "markdown",
   "metadata": {
    "colab_type": "text",
    "id": "B5Ii_TedVNHq"
   },
   "source": [
    "Examine the keyword to get the topics of the best model"
   ]
  },
  {
   "cell_type": "code",
   "execution_count": 41,
   "metadata": {
    "colab": {
     "base_uri": "https://localhost:8080/",
     "height": 629
    },
    "colab_type": "code",
    "id": "qtOtsGxHuD8W",
    "outputId": "841b40c9-401d-4e5e-a6bc-cf6e1d7a7169"
   },
   "outputs": [
    {
     "name": "stdout",
     "output_type": "stream",
     "text": [
      "Topic 0:\n",
      "bien falto explica gratuito informacion basico solo comandos explicar mejor \n",
      "\n",
      "Topic 1:\n",
      "explica solo profesor bien  + 0.011*  + 0.010*  + 0.008*  + 0.008*  + 0.008* \n",
      "\n",
      "Topic 2:\n",
      "bien audio paso videos video cosas basic clar mejor excelente \n",
      "\n",
      "Topic 3:\n",
      "explicacion informacion falta puede mejorar conceptos bastante cl creo podria \n",
      "\n",
      "Topic 4:\n",
      "bien explic aprend idea tem mala tutorial preguntas hacer instructor \n",
      "\n",
      "Topic 5:\n",
      "cosas ejemplo tener sencillo hacer debe crear poder bien conocer \n",
      "\n",
      "Topic 6:\n",
      "eleccion bien falta conten instructor entiende hace version explican conoc \n",
      "\n",
      "Topic 7:\n",
      "curs demasiado bas bi ense interesante videos lento parece deberia \n",
      "\n",
      "Topic 8:\n",
      "esperaba ejemplos temas tema bien esper basico falta solo aburrido \n",
      "\n",
      "Topic 9:\n",
      "explicaciones hace mucha teoria faltan solo cada videos estan embargo \n",
      "\n",
      "Topic 10:\n",
      "basico mejor podria creo momento interes gratis bueno ejemplos buena \n",
      "\n",
      "Topic 11:\n",
      "bien programacion conocimientos cosas explicado basico introduccion ahora explica solo \n",
      "\n"
     ]
    }
   ],
   "source": [
    "\n",
    "display_topics(ldamodel)"
   ]
  },
  {
   "cell_type": "markdown",
   "metadata": {
    "colab_type": "text",
    "id": "23tYxCUIchga"
   },
   "source": [
    "It looks like the topics are:\n",
    "* Topic 0: felicitaciones\n",
    "* Topic 1: expectativas\n",
    "* Topic 2: experiencia\n",
    "* Topic 3: contenido\n",
    "* Topic 4: instructor\n",
    "* Topic 5: material\n",
    "* Topic 6: video\n",
    "* Topic 7: lenguaje\n",
    "* Topic 8: ejercicios\n",
    "* Topic 9: titulo\n",
    "* Topic 10: temas\n",
    "* Topic 11: explicación\n"
   ]
  },
  {
   "cell_type": "code",
   "execution_count": 42,
   "metadata": {},
   "outputs": [],
   "source": [
    "label_dicc = {0:'felicitaciones', 1:'expectativas', 2:'experiencia', 3: 'contenido', 4:'instructor', 5:'material', 6:'video', \n",
    "              7:'lenguaje', 8:'ejercicios', 9: 'titulo', 10:'temas', 11:'explicación'}"
   ]
  },
  {
   "cell_type": "markdown",
   "metadata": {
    "colab_type": "text",
    "id": "v0aL-yqAFzUS"
   },
   "source": [
    "Let´s check the keyword when we selecting another number of topics (14)"
   ]
  },
  {
   "cell_type": "code",
   "execution_count": 43,
   "metadata": {
    "colab": {},
    "colab_type": "code",
    "id": "AGXxaEtVudnc"
   },
   "outputs": [],
   "source": [
    "ldamodel_16 =lmlist[16]\n"
   ]
  },
  {
   "cell_type": "code",
   "execution_count": 44,
   "metadata": {
    "colab": {
     "base_uri": "https://localhost:8080/",
     "height": 680
    },
    "colab_type": "code",
    "id": "aS3QJ5KV5z_c",
    "outputId": "1d87fea1-bfa5-476a-e472-a7e585bd8cf3"
   },
   "outputs": [
    {
     "name": "stdout",
     "output_type": "stream",
     "text": [
      "Topic 0:\n",
      "vide pract gustaria informacion aunque explicaciones ejercicios interesante falta funcion \n",
      "\n",
      "Topic 1:\n",
      "explicar veces cosas bien gratuito hace basic profesor hecho solo \n",
      "\n",
      "Topic 2:\n",
      "mejor podria mejorar conceptos espero aprender explicacion explican pues esperaba \n",
      "\n",
      "Topic 3:\n",
      "paso bien videos herramienta video musica fondo explica java marketing \n",
      "\n",
      "Topic 4:\n",
      "interes audio bien malo siento esper escucha ahor contenido falta \n",
      "\n",
      "Topic 5:\n",
      "instructor debe clara gusta claro explicacion esfuerzo mejorar solo acceso \n",
      "\n",
      "Topic 6:\n",
      "bi explica parece lento  + 0.012*  + 0.012*  + 0.012*  + 0.011*  + 0.011* \n",
      "\n",
      "Topic 7:\n",
      "explicacion informacion mucha buena video ejemplos cl curs poca falta \n",
      "\n",
      "Topic 8:\n",
      "eleccion bien sido pagina momento conocimientos solo aprendiendo empieza comandos \n",
      "\n",
      "Topic 9:\n",
      "basico conten falta creo basica conoc entrar informacion nivel detall \n",
      "\n",
      "Topic 10:\n",
      "tutorial datos facil base excelente preguntas entend cumple bien sencillo \n",
      "\n",
      "Topic 11:\n",
      "falta tem creo bien conocimiento informacion contenido bastante hace principiantes \n",
      "\n",
      "Topic 12:\n",
      "bien bas explic demasiado explicado videos basico aprend introduccion explica \n",
      "\n",
      "Topic 13:\n",
      "bien introductorio html contenido proyecto hacer cosas tema entendible tiempo \n",
      "\n",
      "Topic 14:\n",
      "curs entiendo cosas manera explicar estructura practico aprender pueden explicaciones \n",
      "\n",
      "Topic 15:\n",
      "ense solo gratis basico cursos bueno cosas explica youtube habla \n",
      "\n",
      "Topic 16:\n",
      "tema temas instructor cosas graci explicar falta bien tiempo deja \n",
      "\n"
     ]
    }
   ],
   "source": [
    "display_topics(ldamodel_16)"
   ]
  },
  {
   "cell_type": "markdown",
   "metadata": {
    "colab_type": "text",
    "id": "u2clSiIF1yHy"
   },
   "source": [
    "# Classifiying all documents"
   ]
  },
  {
   "cell_type": "markdown",
   "metadata": {
    "colab_type": "text",
    "id": "_sLVX03-1_GB"
   },
   "source": [
    "now that we have been select the best model and topics number, is time to assign a topic to each document, means **cluster** according to the topics"
   ]
  },
  {
   "cell_type": "code",
   "execution_count": 45,
   "metadata": {
    "colab": {},
    "colab_type": "code",
    "id": "9fojFPHKW204"
   },
   "outputs": [
    {
     "data": {
      "application/vnd.jupyter.widget-view+json": {
       "model_id": "781aa183dbf448c68affd077192e81ec",
       "version_major": 2,
       "version_minor": 0
      },
      "text/plain": [
       "  0%|          | 0/21448 [00:00<?, ?it/s]"
      ]
     },
     "metadata": {},
     "output_type": "display_data"
    }
   ],
   "source": [
    "from tqdm.notebook import tqdm_notebook\n",
    "\n",
    "def format_topics_sentences(ldamodel=0, corpus=corpus, texts=0):\n",
    "    # Init output\n",
    "    sent_topics_df = pd.DataFrame()-n\n",
    "\n",
    "    # Get main topic in each document\n",
    "    for i, row in tqdm_notebook(enumerate(ldamodel[corpus]), total=len(ldamodel[corpus])):\n",
    "        row = sorted(row, key=lambda x: (x[1]), reverse=True)\n",
    "        # Get the Dominant topic, Perc Contribution and Keywords for each document\n",
    "        for j, (topic_num, prop_topic) in enumerate(row):\n",
    "            if j == 0:  # => dominant topic\n",
    "                wp = ldamodel.show_topic(topic_num)\n",
    "                topic_keywords = \", \".join([word for word, prop in wp])\n",
    "                sent_topics_df = sent_topics_df.append(pd.Series([int(topic_num), round(prop_topic,4), topic_keywords]), ignore_index=True)\n",
    "            else:\n",
    "                break\n",
    "    sent_topics_df.columns = ['Dominant_Topic', 'Perc_Contribution', 'Topic_Keywords']\n",
    "\n",
    "    # Add original text to the end of the output\n",
    "    contents = pd.Series(texts)\n",
    "    sent_topics_df = pd.concat([sent_topics_df, contents], axis=1)\n",
    "    return(sent_topics_df)\n",
    "\n",
    "\n",
    "df_topic_sents_keywords = format_topics_sentences(ldamodel, corpus=corpus, texts=df_news['comment_cleaned'].to_list())\n",
    "\n"
   ]
  },
  {
   "cell_type": "code",
   "execution_count": 46,
   "metadata": {
    "colab": {
     "base_uri": "https://localhost:8080/",
     "height": 359
    },
    "colab_type": "code",
    "id": "E8FofLvzYmTP",
    "outputId": "1f5226b4-02cf-4243-e7a1-ab89ddb707b5"
   },
   "outputs": [
    {
     "data": {
      "text/html": [
       "<div>\n",
       "<style scoped>\n",
       "    .dataframe tbody tr th:only-of-type {\n",
       "        vertical-align: middle;\n",
       "    }\n",
       "\n",
       "    .dataframe tbody tr th {\n",
       "        vertical-align: top;\n",
       "    }\n",
       "\n",
       "    .dataframe thead th {\n",
       "        text-align: right;\n",
       "    }\n",
       "</style>\n",
       "<table border=\"1\" class=\"dataframe\">\n",
       "  <thead>\n",
       "    <tr style=\"text-align: right;\">\n",
       "      <th></th>\n",
       "      <th>Document_No</th>\n",
       "      <th>Dominant_Topic</th>\n",
       "      <th>Topic_Perc_Contrib</th>\n",
       "      <th>Keywords</th>\n",
       "      <th>Text</th>\n",
       "    </tr>\n",
       "  </thead>\n",
       "  <tbody>\n",
       "    <tr>\n",
       "      <th>0</th>\n",
       "      <td>0</td>\n",
       "      <td>8.0</td>\n",
       "      <td>0.8690</td>\n",
       "      <td>esperaba, ejemplos, temas, tema, bien, esper, basico, falta, solo, aburrido</td>\n",
       "      <td>[introduccion, bien, deberian, hacerlo, dirigido, fotos, rp]</td>\n",
       "    </tr>\n",
       "    <tr>\n",
       "      <th>1</th>\n",
       "      <td>1</td>\n",
       "      <td>6.0</td>\n",
       "      <td>0.5417</td>\n",
       "      <td>eleccion, bien, falta, conten, instructor, entiende, hace, version, explican, conoc</td>\n",
       "      <td>[explican, mayori]</td>\n",
       "    </tr>\n",
       "    <tr>\n",
       "      <th>2</th>\n",
       "      <td>2</td>\n",
       "      <td>2.0</td>\n",
       "      <td>0.3460</td>\n",
       "      <td>bien, audio, paso, videos, video, cosas, basic, clar, mejor, excelente</td>\n",
       "      <td>[pronto, evaluarlo, comparandolo, calidad, cursos, bajo, pueden, descargar, archivos, estan, sonido, malo, escucha, turbi]</td>\n",
       "    </tr>\n",
       "    <tr>\n",
       "      <th>3</th>\n",
       "      <td>3</td>\n",
       "      <td>6.0</td>\n",
       "      <td>0.4637</td>\n",
       "      <td>eleccion, bien, falta, conten, instructor, entiende, hace, version, explican, conoc</td>\n",
       "      <td>[excelente, detallado, menos, leido, calidad, seria, superior, tema, explicar, leer, men]</td>\n",
       "    </tr>\n",
       "    <tr>\n",
       "      <th>4</th>\n",
       "      <td>4</td>\n",
       "      <td>1.0</td>\n",
       "      <td>0.5552</td>\n",
       "      <td>explica, solo, profesor, bien, c, dice, explicar, hace, parece, habla</td>\n",
       "      <td>[parece, podria, algun, peque, repaso, terminos, comunes, ademas, ejempl]</td>\n",
       "    </tr>\n",
       "    <tr>\n",
       "      <th>5</th>\n",
       "      <td>5</td>\n",
       "      <td>10.0</td>\n",
       "      <td>0.3998</td>\n",
       "      <td>basico, mejor, podria, creo, momento, interes, gratis, bueno, ejemplos, buena</td>\n",
       "      <td>[parte, curso, profesor, mismo, curso, gratis, especializado, hacking, igualmente, bien, explic]</td>\n",
       "    </tr>\n",
       "    <tr>\n",
       "      <th>6</th>\n",
       "      <td>6</td>\n",
       "      <td>10.0</td>\n",
       "      <td>0.5117</td>\n",
       "      <td>basico, mejor, podria, creo, momento, interes, gratis, bueno, ejemplos, buena</td>\n",
       "      <td>[gusto, hacking, python, aprende, python, hacking]</td>\n",
       "    </tr>\n",
       "    <tr>\n",
       "      <th>7</th>\n",
       "      <td>7</td>\n",
       "      <td>1.0</td>\n",
       "      <td>0.4399</td>\n",
       "      <td>explica, solo, profesor, bien, c, dice, explicar, hace, parece, habla</td>\n",
       "      <td>[habla, hacking, apartados, solo, decepcion]</td>\n",
       "    </tr>\n",
       "    <tr>\n",
       "      <th>8</th>\n",
       "      <td>8</td>\n",
       "      <td>10.0</td>\n",
       "      <td>0.8363</td>\n",
       "      <td>basico, mejor, podria, creo, momento, interes, gratis, bueno, ejemplos, buena</td>\n",
       "      <td>[introduccion, breve, rapida, lenguaje, programacion, python, curso, auditoria, informatica, final, curso, breve, ejemplo, hacer, cumplido, exactamente, expectativas, reconocer, tutor, esforzado, involucrado, ejemplos, lenguaj]</td>\n",
       "    </tr>\n",
       "    <tr>\n",
       "      <th>9</th>\n",
       "      <td>9</td>\n",
       "      <td>8.0</td>\n",
       "      <td>0.4119</td>\n",
       "      <td>esperaba, ejemplos, temas, tema, bien, esper, basico, falta, solo, aburrido</td>\n",
       "      <td>[parecio, super, bien, curso, personas, quieran, iniciarse, lenguaje, programacion, python]</td>\n",
       "    </tr>\n",
       "  </tbody>\n",
       "</table>\n",
       "</div>"
      ],
      "text/plain": [
       "   Document_No  Dominant_Topic  Topic_Perc_Contrib                                                                             Keywords                                                                                                                                                                                                                                 Text\n",
       "0            0             8.0              0.8690          esperaba, ejemplos, temas, tema, bien, esper, basico, falta, solo, aburrido                                                                                                                                                                         [introduccion, bien, deberian, hacerlo, dirigido, fotos, rp]\n",
       "1            1             6.0              0.5417  eleccion, bien, falta, conten, instructor, entiende, hace, version, explican, conoc                                                                                                                                                                                                                   [explican, mayori]\n",
       "2            2             2.0              0.3460               bien, audio, paso, videos, video, cosas, basic, clar, mejor, excelente                                                                                                           [pronto, evaluarlo, comparandolo, calidad, cursos, bajo, pueden, descargar, archivos, estan, sonido, malo, escucha, turbi]\n",
       "3            3             6.0              0.4637  eleccion, bien, falta, conten, instructor, entiende, hace, version, explican, conoc                                                                                                                                            [excelente, detallado, menos, leido, calidad, seria, superior, tema, explicar, leer, men]\n",
       "4            4             1.0              0.5552                explica, solo, profesor, bien, c, dice, explicar, hace, parece, habla                                                                                                                                                            [parece, podria, algun, peque, repaso, terminos, comunes, ademas, ejempl]\n",
       "5            5            10.0              0.3998        basico, mejor, podria, creo, momento, interes, gratis, bueno, ejemplos, buena                                                                                                                                     [parte, curso, profesor, mismo, curso, gratis, especializado, hacking, igualmente, bien, explic]\n",
       "6            6            10.0              0.5117        basico, mejor, podria, creo, momento, interes, gratis, bueno, ejemplos, buena                                                                                                                                                                                   [gusto, hacking, python, aprende, python, hacking]\n",
       "7            7             1.0              0.4399                explica, solo, profesor, bien, c, dice, explicar, hace, parece, habla                                                                                                                                                                                         [habla, hacking, apartados, solo, decepcion]\n",
       "8            8            10.0              0.8363        basico, mejor, podria, creo, momento, interes, gratis, bueno, ejemplos, buena  [introduccion, breve, rapida, lenguaje, programacion, python, curso, auditoria, informatica, final, curso, breve, ejemplo, hacer, cumplido, exactamente, expectativas, reconocer, tutor, esforzado, involucrado, ejemplos, lenguaj]\n",
       "9            9             8.0              0.4119          esperaba, ejemplos, temas, tema, bien, esper, basico, falta, solo, aburrido                                                                                                                                          [parecio, super, bien, curso, personas, quieran, iniciarse, lenguaje, programacion, python]"
      ]
     },
     "execution_count": 46,
     "metadata": {},
     "output_type": "execute_result"
    }
   ],
   "source": [
    "# Format\n",
    "df_dominant_topic = df_topic_sents_keywords.reset_index()\n",
    "df_dominant_topic.columns = ['Document_No', 'Dominant_Topic', 'Topic_Perc_Contrib', 'Keywords', 'Text']\n",
    "\n",
    "# Show\n",
    "df_dominant_topic.head(10)"
   ]
  },
  {
   "cell_type": "markdown",
   "metadata": {
    "colab_type": "text",
    "id": "9vtBDBQKkzmK"
   },
   "source": [
    "We selected the ldamodel with 12 topics and asigned a dominant topic to each document, now let map each topic with a label "
   ]
  },
  {
   "cell_type": "markdown",
   "metadata": {
    "colab_type": "text",
    "id": "z8f8u5UJlQJ8"
   },
   "source": [
    "first let's create the dictionary"
   ]
  },
  {
   "cell_type": "code",
   "execution_count": 47,
   "metadata": {
    "colab": {},
    "colab_type": "code",
    "id": "I27y-Pd-lXL8"
   },
   "outputs": [],
   "source": [
    "label_dicc = {0:'felicitaciones', 1:'expectativas', 2:'experiencia', 3: 'contenido', 4:'instructor', 5:'material', 6:'video', \n",
    "              7:'lenguaje', 8:'ejercicios', 9: 'titulo', 10:'temas', 11:'explicación'}"
   ]
  },
  {
   "cell_type": "code",
   "execution_count": 48,
   "metadata": {
    "colab": {},
    "colab_type": "code",
    "id": "qUspHFcPopTz"
   },
   "outputs": [],
   "source": [
    "df_dominant_topic['Dominant_Topic'] = df_dominant_topic['Dominant_Topic'].astype('int64')\n"
   ]
  },
  {
   "cell_type": "code",
   "execution_count": 49,
   "metadata": {
    "colab": {
     "base_uri": "https://localhost:8080/",
     "height": 359
    },
    "colab_type": "code",
    "id": "o9XM5yHgnmg5",
    "outputId": "1d89e87e-a9e1-401e-edd1-63457a7f50c4"
   },
   "outputs": [
    {
     "data": {
      "text/html": [
       "<div>\n",
       "<style scoped>\n",
       "    .dataframe tbody tr th:only-of-type {\n",
       "        vertical-align: middle;\n",
       "    }\n",
       "\n",
       "    .dataframe tbody tr th {\n",
       "        vertical-align: top;\n",
       "    }\n",
       "\n",
       "    .dataframe thead th {\n",
       "        text-align: right;\n",
       "    }\n",
       "</style>\n",
       "<table border=\"1\" class=\"dataframe\">\n",
       "  <thead>\n",
       "    <tr style=\"text-align: right;\">\n",
       "      <th></th>\n",
       "      <th>Document_No</th>\n",
       "      <th>Dominant_Topic</th>\n",
       "      <th>Topic_Perc_Contrib</th>\n",
       "      <th>Keywords</th>\n",
       "      <th>Text</th>\n",
       "    </tr>\n",
       "  </thead>\n",
       "  <tbody>\n",
       "    <tr>\n",
       "      <th>0</th>\n",
       "      <td>0</td>\n",
       "      <td>ejercicios</td>\n",
       "      <td>0.8690</td>\n",
       "      <td>esperaba, ejemplos, temas, tema, bien, esper, basico, falta, solo, aburrido</td>\n",
       "      <td>[introduccion, bien, deberian, hacerlo, dirigido, fotos, rp]</td>\n",
       "    </tr>\n",
       "    <tr>\n",
       "      <th>1</th>\n",
       "      <td>1</td>\n",
       "      <td>video</td>\n",
       "      <td>0.5417</td>\n",
       "      <td>eleccion, bien, falta, conten, instructor, entiende, hace, version, explican, conoc</td>\n",
       "      <td>[explican, mayori]</td>\n",
       "    </tr>\n",
       "    <tr>\n",
       "      <th>2</th>\n",
       "      <td>2</td>\n",
       "      <td>experiencia</td>\n",
       "      <td>0.3460</td>\n",
       "      <td>bien, audio, paso, videos, video, cosas, basic, clar, mejor, excelente</td>\n",
       "      <td>[pronto, evaluarlo, comparandolo, calidad, cursos, bajo, pueden, descargar, archivos, estan, sonido, malo, escucha, turbi]</td>\n",
       "    </tr>\n",
       "    <tr>\n",
       "      <th>3</th>\n",
       "      <td>3</td>\n",
       "      <td>video</td>\n",
       "      <td>0.4637</td>\n",
       "      <td>eleccion, bien, falta, conten, instructor, entiende, hace, version, explican, conoc</td>\n",
       "      <td>[excelente, detallado, menos, leido, calidad, seria, superior, tema, explicar, leer, men]</td>\n",
       "    </tr>\n",
       "    <tr>\n",
       "      <th>4</th>\n",
       "      <td>4</td>\n",
       "      <td>expectativas</td>\n",
       "      <td>0.5552</td>\n",
       "      <td>explica, solo, profesor, bien, c, dice, explicar, hace, parece, habla</td>\n",
       "      <td>[parece, podria, algun, peque, repaso, terminos, comunes, ademas, ejempl]</td>\n",
       "    </tr>\n",
       "    <tr>\n",
       "      <th>5</th>\n",
       "      <td>5</td>\n",
       "      <td>temas</td>\n",
       "      <td>0.3998</td>\n",
       "      <td>basico, mejor, podria, creo, momento, interes, gratis, bueno, ejemplos, buena</td>\n",
       "      <td>[parte, curso, profesor, mismo, curso, gratis, especializado, hacking, igualmente, bien, explic]</td>\n",
       "    </tr>\n",
       "    <tr>\n",
       "      <th>6</th>\n",
       "      <td>6</td>\n",
       "      <td>temas</td>\n",
       "      <td>0.5117</td>\n",
       "      <td>basico, mejor, podria, creo, momento, interes, gratis, bueno, ejemplos, buena</td>\n",
       "      <td>[gusto, hacking, python, aprende, python, hacking]</td>\n",
       "    </tr>\n",
       "    <tr>\n",
       "      <th>7</th>\n",
       "      <td>7</td>\n",
       "      <td>expectativas</td>\n",
       "      <td>0.4399</td>\n",
       "      <td>explica, solo, profesor, bien, c, dice, explicar, hace, parece, habla</td>\n",
       "      <td>[habla, hacking, apartados, solo, decepcion]</td>\n",
       "    </tr>\n",
       "    <tr>\n",
       "      <th>8</th>\n",
       "      <td>8</td>\n",
       "      <td>temas</td>\n",
       "      <td>0.8363</td>\n",
       "      <td>basico, mejor, podria, creo, momento, interes, gratis, bueno, ejemplos, buena</td>\n",
       "      <td>[introduccion, breve, rapida, lenguaje, programacion, python, curso, auditoria, informatica, final, curso, breve, ejemplo, hacer, cumplido, exactamente, expectativas, reconocer, tutor, esforzado, involucrado, ejemplos, lenguaj]</td>\n",
       "    </tr>\n",
       "    <tr>\n",
       "      <th>9</th>\n",
       "      <td>9</td>\n",
       "      <td>ejercicios</td>\n",
       "      <td>0.4119</td>\n",
       "      <td>esperaba, ejemplos, temas, tema, bien, esper, basico, falta, solo, aburrido</td>\n",
       "      <td>[parecio, super, bien, curso, personas, quieran, iniciarse, lenguaje, programacion, python]</td>\n",
       "    </tr>\n",
       "  </tbody>\n",
       "</table>\n",
       "</div>"
      ],
      "text/plain": [
       "   Document_No Dominant_Topic  Topic_Perc_Contrib                                                                             Keywords                                                                                                                                                                                                                                 Text\n",
       "0            0     ejercicios              0.8690          esperaba, ejemplos, temas, tema, bien, esper, basico, falta, solo, aburrido                                                                                                                                                                         [introduccion, bien, deberian, hacerlo, dirigido, fotos, rp]\n",
       "1            1          video              0.5417  eleccion, bien, falta, conten, instructor, entiende, hace, version, explican, conoc                                                                                                                                                                                                                   [explican, mayori]\n",
       "2            2    experiencia              0.3460               bien, audio, paso, videos, video, cosas, basic, clar, mejor, excelente                                                                                                           [pronto, evaluarlo, comparandolo, calidad, cursos, bajo, pueden, descargar, archivos, estan, sonido, malo, escucha, turbi]\n",
       "3            3          video              0.4637  eleccion, bien, falta, conten, instructor, entiende, hace, version, explican, conoc                                                                                                                                            [excelente, detallado, menos, leido, calidad, seria, superior, tema, explicar, leer, men]\n",
       "4            4   expectativas              0.5552                explica, solo, profesor, bien, c, dice, explicar, hace, parece, habla                                                                                                                                                            [parece, podria, algun, peque, repaso, terminos, comunes, ademas, ejempl]\n",
       "5            5          temas              0.3998        basico, mejor, podria, creo, momento, interes, gratis, bueno, ejemplos, buena                                                                                                                                     [parte, curso, profesor, mismo, curso, gratis, especializado, hacking, igualmente, bien, explic]\n",
       "6            6          temas              0.5117        basico, mejor, podria, creo, momento, interes, gratis, bueno, ejemplos, buena                                                                                                                                                                                   [gusto, hacking, python, aprende, python, hacking]\n",
       "7            7   expectativas              0.4399                explica, solo, profesor, bien, c, dice, explicar, hace, parece, habla                                                                                                                                                                                         [habla, hacking, apartados, solo, decepcion]\n",
       "8            8          temas              0.8363        basico, mejor, podria, creo, momento, interes, gratis, bueno, ejemplos, buena  [introduccion, breve, rapida, lenguaje, programacion, python, curso, auditoria, informatica, final, curso, breve, ejemplo, hacer, cumplido, exactamente, expectativas, reconocer, tutor, esforzado, involucrado, ejemplos, lenguaj]\n",
       "9            9     ejercicios              0.4119          esperaba, ejemplos, temas, tema, bien, esper, basico, falta, solo, aburrido                                                                                                                                          [parecio, super, bien, curso, personas, quieran, iniciarse, lenguaje, programacion, python]"
      ]
     },
     "execution_count": 49,
     "metadata": {},
     "output_type": "execute_result"
    }
   ],
   "source": [
    "df_dominant_topic['Dominant_Topic'] = df_dominant_topic['Dominant_Topic'].map(label_dicc)\n",
    "df_dominant_topic.head(10)"
   ]
  },
  {
   "cell_type": "code",
   "execution_count": 50,
   "metadata": {
    "colab": {},
    "colab_type": "code",
    "id": "in5E52W3pl_k"
   },
   "outputs": [],
   "source": [
    "df_news['labels'] = df_dominant_topic['Dominant_Topic']\n",
    "df_news['label_confidence'] = df_dominant_topic['Topic_Perc_Contrib']"
   ]
  },
  {
   "cell_type": "markdown",
   "metadata": {
    "colab_type": "text",
    "id": "mA35orWWqQMt"
   },
   "source": [
    "Let's examine some text and its topics"
   ]
  },
  {
   "cell_type": "code",
   "execution_count": 51,
   "metadata": {
    "colab": {
     "base_uri": "https://localhost:8080/",
     "height": 335
    },
    "colab_type": "code",
    "id": "7cHF6NEHkHYh",
    "outputId": "8141df9c-6d26-4d3d-d6d9-9643da78a7c7"
   },
   "outputs": [
    {
     "data": {
      "text/html": [
       "<div>\n",
       "<style scoped>\n",
       "    .dataframe tbody tr th:only-of-type {\n",
       "        vertical-align: middle;\n",
       "    }\n",
       "\n",
       "    .dataframe tbody tr th {\n",
       "        vertical-align: top;\n",
       "    }\n",
       "\n",
       "    .dataframe thead th {\n",
       "        text-align: right;\n",
       "    }\n",
       "</style>\n",
       "<table border=\"1\" class=\"dataframe\">\n",
       "  <thead>\n",
       "    <tr style=\"text-align: right;\">\n",
       "      <th></th>\n",
       "      <th>comment</th>\n",
       "      <th>labels</th>\n",
       "    </tr>\n",
       "  </thead>\n",
       "  <tbody>\n",
       "    <tr>\n",
       "      <th>6545</th>\n",
       "      <td>como introducción esta bien pero deberían de hacerlo mas dirigido a RPA con fotos de RPAS</td>\n",
       "      <td>lenguaje</td>\n",
       "    </tr>\n",
       "    <tr>\n",
       "      <th>6734</th>\n",
       "      <td>Explican poco... se lee la mayoría</td>\n",
       "      <td>expectativas</td>\n",
       "    </tr>\n",
       "    <tr>\n",
       "      <th>6738</th>\n",
       "      <td>es muy pronto para evaluarlo, comparandolo con la calidad de otros cursos este es bajo, no se pueden descargar los archivos ya que no estan en PDF y el sonido es malo, se escucha turbio.</td>\n",
       "      <td>temas</td>\n",
       "    </tr>\n",
       "    <tr>\n",
       "      <th>6739</th>\n",
       "      <td>Excelente, muy detallado. Si fuera menos « leído » la calidad sería superior! El tema da para explicar más y leer menos</td>\n",
       "      <td>ejercicios</td>\n",
       "    </tr>\n",
       "    <tr>\n",
       "      <th>6782</th>\n",
       "      <td>Me parece que podria dar algun pequeño repaso de terminos comunes, ademas de dar mas ejemplos</td>\n",
       "      <td>temas</td>\n",
       "    </tr>\n",
       "    <tr>\n",
       "      <th>7061</th>\n",
       "      <td>Una parte del curso fue algo que el profesor mismo tiene en otro curso gratis.\\nPero lo especializado a Hacking está igualmente bien explicado.</td>\n",
       "      <td>video</td>\n",
       "    </tr>\n",
       "    <tr>\n",
       "      <th>7084</th>\n",
       "      <td>No me gusto. Más que Hacking con Python... era aprende Python, de hacking poco y nada.</td>\n",
       "      <td>material</td>\n",
       "    </tr>\n",
       "    <tr>\n",
       "      <th>7088</th>\n",
       "      <td>habla de hacking y son dos apartados que solo son web. DECEPCIONANTE.</td>\n",
       "      <td>temas</td>\n",
       "    </tr>\n",
       "    <tr>\n",
       "      <th>7113</th>\n",
       "      <td>Es una introducción breve y rápida al lenguaje de programación Python. No es un curso de Auditoria informática, ya que al final del curso se da un breve ejemplo de como hacer Scraping.No ha cumplido exactamente con mis expectativas pero he de reconocer que el tutor se ha esforzado e involucrado en los ejemplos del lenguaje.</td>\n",
       "      <td>explicación</td>\n",
       "    </tr>\n",
       "    <tr>\n",
       "      <th>7115</th>\n",
       "      <td>Me pareció super bien el curso para las personas que quieran iniciarse en el lenguaje de programación python</td>\n",
       "      <td>video</td>\n",
       "    </tr>\n",
       "  </tbody>\n",
       "</table>\n",
       "</div>"
      ],
      "text/plain": [
       "                                                                                                                                                                                                                                                                                                                                    comment        labels\n",
       "6545                                                                                                                                                                                                                                              como introducción esta bien pero deberían de hacerlo mas dirigido a RPA con fotos de RPAS      lenguaje\n",
       "6734                                                                                                                                                                                                                                                                                                     Explican poco... se lee la mayoría  expectativas\n",
       "6738                                                                                                                                             es muy pronto para evaluarlo, comparandolo con la calidad de otros cursos este es bajo, no se pueden descargar los archivos ya que no estan en PDF y el sonido es malo, se escucha turbio.         temas\n",
       "6739                                                                                                                                                                                                                Excelente, muy detallado. Si fuera menos « leído » la calidad sería superior! El tema da para explicar más y leer menos    ejercicios\n",
       "6782                                                                                                                                                                                                                                          Me parece que podria dar algun pequeño repaso de terminos comunes, ademas de dar mas ejemplos         temas\n",
       "7061                                                                                                                                                                                        Una parte del curso fue algo que el profesor mismo tiene en otro curso gratis.\\nPero lo especializado a Hacking está igualmente bien explicado.         video\n",
       "7084                                                                                                                                                                                                                                                 No me gusto. Más que Hacking con Python... era aprende Python, de hacking poco y nada.      material\n",
       "7088                                                                                                                                                                                                                                                                  habla de hacking y son dos apartados que solo son web. DECEPCIONANTE.         temas\n",
       "7113  Es una introducción breve y rápida al lenguaje de programación Python. No es un curso de Auditoria informática, ya que al final del curso se da un breve ejemplo de como hacer Scraping.No ha cumplido exactamente con mis expectativas pero he de reconocer que el tutor se ha esforzado e involucrado en los ejemplos del lenguaje.   explicación\n",
       "7115                                                                                                                                                                                                                           Me pareció super bien el curso para las personas que quieran iniciarse en el lenguaje de programación python         video"
      ]
     },
     "execution_count": 51,
     "metadata": {},
     "output_type": "execute_result"
    }
   ],
   "source": [
    "df_news[['comment', 'labels']].head(10)"
   ]
  },
  {
   "cell_type": "code",
   "execution_count": 52,
   "metadata": {
    "colab": {
     "base_uri": "https://localhost:8080/",
     "height": 115
    },
    "colab_type": "code",
    "id": "sgkBFTYbqID0",
    "outputId": "cb7ce341-6c49-48c3-eb15-cccb8a5ea902"
   },
   "outputs": [
    {
     "data": {
      "text/html": [
       "<div>\n",
       "<style scoped>\n",
       "    .dataframe tbody tr th:only-of-type {\n",
       "        vertical-align: middle;\n",
       "    }\n",
       "\n",
       "    .dataframe tbody tr th {\n",
       "        vertical-align: top;\n",
       "    }\n",
       "\n",
       "    .dataframe thead th {\n",
       "        text-align: right;\n",
       "    }\n",
       "</style>\n",
       "<table border=\"1\" class=\"dataframe\">\n",
       "  <thead>\n",
       "    <tr style=\"text-align: right;\">\n",
       "      <th></th>\n",
       "      <th>id</th>\n",
       "      <th>course</th>\n",
       "      <th>rating</th>\n",
       "      <th>comment</th>\n",
       "      <th>user</th>\n",
       "      <th>tag</th>\n",
       "      <th>comment_cleaned</th>\n",
       "      <th>labels</th>\n",
       "      <th>label_confidence</th>\n",
       "    </tr>\n",
       "  </thead>\n",
       "  <tbody>\n",
       "    <tr>\n",
       "      <th>524</th>\n",
       "      <td>19709782</td>\n",
       "      <td>1391682</td>\n",
       "      <td>3.5</td>\n",
       "      <td>Si, me parece muy instructivo y de necesario saber general</td>\n",
       "      <td>Carlos Figueroa</td>\n",
       "      <td>neg</td>\n",
       "      <td>[parece, instructivo, necesario, saber, general]</td>\n",
       "      <td>instructor</td>\n",
       "      <td>0.9236</td>\n",
       "    </tr>\n",
       "    <tr>\n",
       "      <th>3792</th>\n",
       "      <td>44691334</td>\n",
       "      <td>860984</td>\n",
       "      <td>3.0</td>\n",
       "      <td>muy lenta la explicacion</td>\n",
       "      <td>Hector Ortega</td>\n",
       "      <td>neg</td>\n",
       "      <td>[lenta, explicacion]</td>\n",
       "      <td>instructor</td>\n",
       "      <td>0.8982</td>\n",
       "    </tr>\n",
       "    <tr>\n",
       "      <th>4484</th>\n",
       "      <td>4357028</td>\n",
       "      <td>565188</td>\n",
       "      <td>3.0</td>\n",
       "      <td>por que fue buena</td>\n",
       "      <td>Angelicachoez</td>\n",
       "      <td>neg</td>\n",
       "      <td>[]</td>\n",
       "      <td>instructor</td>\n",
       "      <td>0.8691</td>\n",
       "    </tr>\n",
       "    <tr>\n",
       "      <th>12050</th>\n",
       "      <td>12183332</td>\n",
       "      <td>1268882</td>\n",
       "      <td>3.0</td>\n",
       "      <td>hubiese sido mejor que es un curso netamente para principiantes...</td>\n",
       "      <td>Hugo del Bosque Campos</td>\n",
       "      <td>neg</td>\n",
       "      <td>[sido, mejor, curso, netamente, principi]</td>\n",
       "      <td>instructor</td>\n",
       "      <td>0.8473</td>\n",
       "    </tr>\n",
       "    <tr>\n",
       "      <th>13968</th>\n",
       "      <td>69209782</td>\n",
       "      <td>2006770</td>\n",
       "      <td>3.0</td>\n",
       "      <td>Creo que ciertos códigos no están bien encapsulados, como mandar llamar la base de datos desde la vista... con eso arruina por completo el modelo vista controlador.</td>\n",
       "      <td>Tomas Gerardo Nevarez Simental</td>\n",
       "      <td>neg</td>\n",
       "      <td>[creo, ciertos, codigos, estan, bien, encapsulados, mandar, llamar, base, datos, vista, arruina, completo, modelo, vista, control]</td>\n",
       "      <td>instructor</td>\n",
       "      <td>0.8473</td>\n",
       "    </tr>\n",
       "    <tr>\n",
       "      <th>12050</th>\n",
       "      <td>50747862</td>\n",
       "      <td>2175580</td>\n",
       "      <td>3.0</td>\n",
       "      <td>el entorno de trabajo es adecuado, un poco complejo pero adecuado.\\nla cuestión es ir adapatarce a la dinámica de la pagina.\\ncreo que es una herramienta muy buena, que estoy aprendiendo a utilizar por temas de clase. gracias</td>\n",
       "      <td>Ubay</td>\n",
       "      <td>neg</td>\n",
       "      <td>[entorno, trabajo, adecuado, complejo, adecuado, cuestion, adapatarce, dinamica, pagina, creo, herramienta, aprendiendo, utilizar, temas, cl]</td>\n",
       "      <td>instructor</td>\n",
       "      <td>0.8473</td>\n",
       "    </tr>\n",
       "    <tr>\n",
       "      <th>3121</th>\n",
       "      <td>86013022</td>\n",
       "      <td>3151202</td>\n",
       "      <td>1.0</td>\n",
       "      <td>Es un curso terrible, parece que el instructor solo quería actualizar su código de Java a Kotlin sin importarle que no todos los patrones se programan igual. Por lo mismo, nunca menciona cambios importantes al programarlos, y si aprender los patrones de diseño junto con las bondades de Kotlin era tu intención, definitivamente no te lo recomiendo.\\nPor otro lado, no tiene el mínimo cuidado en sus presentaciones ni en su código, mala ortografía, cambia de inglés a español en el código y eso, particularmente, me indica que no prepara su lección y está improvisando.\\nLos videos están mal recortados, bueno, con todo lo que he mencionado te puedes dar una idea sobre lo que puedes esperar de la explicación y los ejemplos.\\nSinceramente, sin duda alguna, en un video de YouTube de 3 minutos te enseñan mejor y sin sentirte timado. \\nPor favor, tome esa capacidad de compartir el conocimiento de una forma seria, usted puede impactar a miles de personas en una forma negativa.</td>\n",
       "      <td>Benjamin Morales</td>\n",
       "      <td>neg</td>\n",
       "      <td>[curso, terrible, parece, instructor, solo, queria, actualizar, codigo, java, kotlin, importarle, patrones, programan, igual, mismo, nunca, menciona, cambios, importantes, programarlos, aprender, patrones, dise, junto, bondades, kotlin, intencion, definitivamente, recomiendo, lado, minimo, cuidado, presentaciones, codigo, mala, ortografia, cambia, ingles, espa, codigo, particularmente, indica, prepara, leccion, improvisando, videos, estan, recortados, mencionado, puedes, idea, puedes, esperar, explicacion, ejemplos, sinceramente, duda, alguna, video, youtube, minutos, ense, mejor, sentirte, timado, favor, tome, capacidad, compartir, conocimiento, forma, seria, usted, puede, impactar, miles, personas, forma, neg]</td>\n",
       "      <td>instructor</td>\n",
       "      <td>0.8472</td>\n",
       "    </tr>\n",
       "    <tr>\n",
       "      <th>4530</th>\n",
       "      <td>3359778</td>\n",
       "      <td>565188</td>\n",
       "      <td>1.5</td>\n",
       "      <td>Demasiados errores y falta de explicación, podría hacer cosas de manera mas fáciles y se va por las difíciles o mas complicadas</td>\n",
       "      <td>Alvaro Baca</td>\n",
       "      <td>neg</td>\n",
       "      <td>[demasiados, errores, falta, explicacion, podria, hacer, cosas, manera, faciles, dificiles, complic]</td>\n",
       "      <td>instructor</td>\n",
       "      <td>0.8472</td>\n",
       "    </tr>\n",
       "    <tr>\n",
       "      <th>16189</th>\n",
       "      <td>91615412</td>\n",
       "      <td>1218500</td>\n",
       "      <td>3.5</td>\n",
       "      <td>Buen curso, estan todos los conceptos básicos bien resumidos y explicados. \\nFaltaron mas elementos diferenciadores con respecto a otros cursos, quizás más ejemplos prácticos</td>\n",
       "      <td>pablo cuevas</td>\n",
       "      <td>neg</td>\n",
       "      <td>[curso, estan, conceptos, basicos, bien, resumidos, explicados, faltaron, elementos, diferenciadores, respecto, cursos, quizas, ejemplos, pract]</td>\n",
       "      <td>instructor</td>\n",
       "      <td>0.8472</td>\n",
       "    </tr>\n",
       "    <tr>\n",
       "      <th>60</th>\n",
       "      <td>74609448</td>\n",
       "      <td>244414</td>\n",
       "      <td>3.5</td>\n",
       "      <td>me ha hecho analizar personalmente como debemos manejar el tema sobre todo en la educación y el conocimiento que se dice tener.</td>\n",
       "      <td>Stefany Jhurley Rodriguez Alzate</td>\n",
       "      <td>neg</td>\n",
       "      <td>[hecho, analizar, personalmente, debemos, manejar, tema, educacion, conocimiento, dice, ten]</td>\n",
       "      <td>instructor</td>\n",
       "      <td>0.8298</td>\n",
       "    </tr>\n",
       "  </tbody>\n",
       "</table>\n",
       "</div>"
      ],
      "text/plain": [
       "             id   course  rating                                                                                                                                                                                                                                                                                                                                                                                                                                                                                                                                                                                                                                                                                                                                                                                                                                                                                                                                                                                                            comment                              user  tag                                                                                                                                                                                                                                                                                                                                                                                                                                                                                                                                                                                                                                                                                                                                    comment_cleaned      labels  label_confidence\n",
       "524    19709782  1391682     3.5                                                                                                                                                                                                                                                                                                                                                                                                                                                                                                                                                                                                                                                                                                                                                                                                                                                                                                                                                         Si, me parece muy instructivo y de necesario saber general                   Carlos Figueroa  neg                                                                                                                                                                                                                                                                                                                                                                                                                                                                                                                                                                                                                                                                                                   [parece, instructivo, necesario, saber, general]  instructor            0.9236\n",
       "3792   44691334   860984     3.0                                                                                                                                                                                                                                                                                                                                                                                                                                                                                                                                                                                                                                                                                                                                                                                                                                                                                                                                                                                           muy lenta la explicacion                     Hector Ortega  neg                                                                                                                                                                                                                                                                                                                                                                                                                                                                                                                                                                                                                                                                                                                               [lenta, explicacion]  instructor            0.8982\n",
       "4484    4357028   565188     3.0                                                                                                                                                                                                                                                                                                                                                                                                                                                                                                                                                                                                                                                                                                                                                                                                                                                                                                                                                                                                  por que fue buena                     Angelicachoez  neg                                                                                                                                                                                                                                                                                                                                                                                                                                                                                                                                                                                                                                                                                                                                                 []  instructor            0.8691\n",
       "12050  12183332  1268882     3.0                                                                                                                                                                                                                                                                                                                                                                                                                                                                                                                                                                                                                                                                                                                                                                                                                                                                                                                                                 hubiese sido mejor que es un curso netamente para principiantes...            Hugo del Bosque Campos  neg                                                                                                                                                                                                                                                                                                                                                                                                                                                                                                                                                                                                                                                                                                          [sido, mejor, curso, netamente, principi]  instructor            0.8473\n",
       "13968  69209782  2006770     3.0                                                                                                                                                                                                                                                                                                                                                                                                                                                                                                                                                                                                                                                                                                                                                                                                                                               Creo que ciertos códigos no están bien encapsulados, como mandar llamar la base de datos desde la vista... con eso arruina por completo el modelo vista controlador.    Tomas Gerardo Nevarez Simental  neg                                                                                                                                                                                                                                                                                                                                                                                                                                                                                                                                                                                                                 [creo, ciertos, codigos, estan, bien, encapsulados, mandar, llamar, base, datos, vista, arruina, completo, modelo, vista, control]  instructor            0.8473\n",
       "12050  50747862  2175580     3.0                                                                                                                                                                                                                                                                                                                                                                                                                                                                                                                                                                                                                                                                                                                                                                                  el entorno de trabajo es adecuado, un poco complejo pero adecuado.\\nla cuestión es ir adapatarce a la dinámica de la pagina.\\ncreo que es una herramienta muy buena, que estoy aprendiendo a utilizar por temas de clase. gracias                              Ubay  neg                                                                                                                                                                                                                                                                                                                                                                                                                                                                                                                                                                                                      [entorno, trabajo, adecuado, complejo, adecuado, cuestion, adapatarce, dinamica, pagina, creo, herramienta, aprendiendo, utilizar, temas, cl]  instructor            0.8473\n",
       "3121   86013022  3151202     1.0  Es un curso terrible, parece que el instructor solo quería actualizar su código de Java a Kotlin sin importarle que no todos los patrones se programan igual. Por lo mismo, nunca menciona cambios importantes al programarlos, y si aprender los patrones de diseño junto con las bondades de Kotlin era tu intención, definitivamente no te lo recomiendo.\\nPor otro lado, no tiene el mínimo cuidado en sus presentaciones ni en su código, mala ortografía, cambia de inglés a español en el código y eso, particularmente, me indica que no prepara su lección y está improvisando.\\nLos videos están mal recortados, bueno, con todo lo que he mencionado te puedes dar una idea sobre lo que puedes esperar de la explicación y los ejemplos.\\nSinceramente, sin duda alguna, en un video de YouTube de 3 minutos te enseñan mejor y sin sentirte timado. \\nPor favor, tome esa capacidad de compartir el conocimiento de una forma seria, usted puede impactar a miles de personas en una forma negativa.                  Benjamin Morales  neg  [curso, terrible, parece, instructor, solo, queria, actualizar, codigo, java, kotlin, importarle, patrones, programan, igual, mismo, nunca, menciona, cambios, importantes, programarlos, aprender, patrones, dise, junto, bondades, kotlin, intencion, definitivamente, recomiendo, lado, minimo, cuidado, presentaciones, codigo, mala, ortografia, cambia, ingles, espa, codigo, particularmente, indica, prepara, leccion, improvisando, videos, estan, recortados, mencionado, puedes, idea, puedes, esperar, explicacion, ejemplos, sinceramente, duda, alguna, video, youtube, minutos, ense, mejor, sentirte, timado, favor, tome, capacidad, compartir, conocimiento, forma, seria, usted, puede, impactar, miles, personas, forma, neg]  instructor            0.8472\n",
       "4530    3359778   565188     1.5                                                                                                                                                                                                                                                                                                                                                                                                                                                                                                                                                                                                                                                                                                                                                                                                                                                                                    Demasiados errores y falta de explicación, podría hacer cosas de manera mas fáciles y se va por las difíciles o mas complicadas                       Alvaro Baca  neg                                                                                                                                                                                                                                                                                                                                                                                                                                                                                                                                                                                                                                               [demasiados, errores, falta, explicacion, podria, hacer, cosas, manera, faciles, dificiles, complic]  instructor            0.8472\n",
       "16189  91615412  1218500     3.5                                                                                                                                                                                                                                                                                                                                                                                                                                                                                                                                                                                                                                                                                                                                                                                                                                     Buen curso, estan todos los conceptos básicos bien resumidos y explicados. \\nFaltaron mas elementos diferenciadores con respecto a otros cursos, quizás más ejemplos prácticos                      pablo cuevas  neg                                                                                                                                                                                                                                                                                                                                                                                                                                                                                                                                                                                                   [curso, estan, conceptos, basicos, bien, resumidos, explicados, faltaron, elementos, diferenciadores, respecto, cursos, quizas, ejemplos, pract]  instructor            0.8472\n",
       "60     74609448   244414     3.5                                                                                                                                                                                                                                                                                                                                                                                                                                                                                                                                                                                                                                                                                                                                                                                                                                                                                    me ha hecho analizar personalmente como debemos manejar el tema sobre todo en la educación y el conocimiento que se dice tener.  Stefany Jhurley Rodriguez Alzate  neg                                                                                                                                                                                                                                                                                                                                                                                                                                                                                                                                                                                                                                                       [hecho, analizar, personalmente, debemos, manejar, tema, educacion, conocimiento, dice, ten]  instructor            0.8298"
      ]
     },
     "execution_count": 52,
     "metadata": {},
     "output_type": "execute_result"
    }
   ],
   "source": [
    "df_news[ df_news['labels'] == 'instructor'].sort_values(by='label_confidence',ascending=False).head(10)"
   ]
  },
  {
   "cell_type": "code",
   "execution_count": 53,
   "metadata": {},
   "outputs": [
    {
     "data": {
      "text/html": [
       "<div>\n",
       "<style scoped>\n",
       "    .dataframe tbody tr th:only-of-type {\n",
       "        vertical-align: middle;\n",
       "    }\n",
       "\n",
       "    .dataframe tbody tr th {\n",
       "        vertical-align: top;\n",
       "    }\n",
       "\n",
       "    .dataframe thead th {\n",
       "        text-align: right;\n",
       "    }\n",
       "</style>\n",
       "<table border=\"1\" class=\"dataframe\">\n",
       "  <thead>\n",
       "    <tr style=\"text-align: right;\">\n",
       "      <th></th>\n",
       "      <th>id</th>\n",
       "      <th>course</th>\n",
       "      <th>rating</th>\n",
       "      <th>comment</th>\n",
       "      <th>user</th>\n",
       "      <th>tag</th>\n",
       "      <th>comment_cleaned</th>\n",
       "      <th>labels</th>\n",
       "      <th>label_confidence</th>\n",
       "    </tr>\n",
       "  </thead>\n",
       "  <tbody>\n",
       "    <tr>\n",
       "      <th>1961</th>\n",
       "      <td>77318140</td>\n",
       "      <td>3675456</td>\n",
       "      <td>1.0</td>\n",
       "      <td>La verdad en el tema 5 minuto 14 aproximadamente esta mal editado, incluso la facilitadora dice una mala palabra debieron haber editado bien este video. Por favor tomen esto como algo constructivo. Gracias</td>\n",
       "      <td>Alejandro Torres</td>\n",
       "      <td>neg</td>\n",
       "      <td>[verdad, tema, minuto, aproximadamente, editado, incluso, facilitadora, dice, mala, palabra, debieron, haber, editado, bien, video, favor, tomen, constructivo, graci]</td>\n",
       "      <td>felicitaciones</td>\n",
       "      <td>0.9563</td>\n",
       "    </tr>\n",
       "    <tr>\n",
       "      <th>10870</th>\n",
       "      <td>82709850</td>\n",
       "      <td>1558846</td>\n",
       "      <td>3.0</td>\n",
       "      <td>Me siento un poco decepcionado por la ,amera en la que ha sido diseñado, me parece muy básico el como se termino el proyecto....</td>\n",
       "      <td>Guery Mamani Chambi</td>\n",
       "      <td>neg</td>\n",
       "      <td>[siento, decepcionado, amera, sido, dise, parece, basico, termino, proyect]</td>\n",
       "      <td>material</td>\n",
       "      <td>0.9461</td>\n",
       "    </tr>\n",
       "    <tr>\n",
       "      <th>10870</th>\n",
       "      <td>24622266</td>\n",
       "      <td>291766</td>\n",
       "      <td>3.0</td>\n",
       "      <td>Si pero lo veo un poco lento, pero esta bien</td>\n",
       "      <td>Luis Díaz Hernández</td>\n",
       "      <td>neg</td>\n",
       "      <td>[lento, bi]</td>\n",
       "      <td>material</td>\n",
       "      <td>0.9461</td>\n",
       "    </tr>\n",
       "    <tr>\n",
       "      <th>752</th>\n",
       "      <td>51098952</td>\n",
       "      <td>2518830</td>\n",
       "      <td>2.5</td>\n",
       "      <td>Las explicaciones no llevan un orden especifico, son explicaciones generales sin ahondar ni aclarar muchas veces como se hacen las cosas.</td>\n",
       "      <td>Alf</td>\n",
       "      <td>neg</td>\n",
       "      <td>[explicaciones, llevan, orden, especifico, explicaciones, generales, ahondar, aclarar, veces, hacen, c]</td>\n",
       "      <td>temas</td>\n",
       "      <td>0.9427</td>\n",
       "    </tr>\n",
       "    <tr>\n",
       "      <th>11078</th>\n",
       "      <td>75800096</td>\n",
       "      <td>1192848</td>\n",
       "      <td>3.5</td>\n",
       "      <td>Los materiales son buenos y utiles, y como repaso de programacion esta genial. Creo que es bueno si ya tienes un poco de nocion, ya que hay cosas que dan por sentadas y dado que esto es fundamentos de programacion no todos podrian saberlo.</td>\n",
       "      <td>César Delgadillo</td>\n",
       "      <td>neg</td>\n",
       "      <td>[materiales, utiles, repaso, programacion, genial, creo, nocion, cosas, sentadas, dado, fundamentos, programacion, podrian, sab]</td>\n",
       "      <td>temas</td>\n",
       "      <td>0.9427</td>\n",
       "    </tr>\n",
       "    <tr>\n",
       "      <th>1735</th>\n",
       "      <td>46357258</td>\n",
       "      <td>1747432</td>\n",
       "      <td>1.5</td>\n",
       "      <td>Lo he comprado hoy mismo, y no estaba seguro, primero porque son solo 2 horas y sabia de antemano que hablaria muy por encima de las cosas que propone por los comentarios.\\n\\nDespues de hacerlo tengo que decir que creo que es un curso que se queda a medias y que no propone o dice nada nuevo. Si es verdad que da varios consejos sobre UpWork muy especificos que puede interesar. Pero el curso se presenta mas general de lo que realmente es. Tambien recomienda Wix y Wordpress para hacer el portafolio y no lo menciona en los indices. En general no lo recomiendo.</td>\n",
       "      <td>Jose Ángel Cano Domingo</td>\n",
       "      <td>neg</td>\n",
       "      <td>[comprado, mismo, seguro, primero, solo, horas, sabia, antemano, hablaria, encima, cosas, propone, comentarios, despues, hacerlo, decir, creo, curso, queda, medias, propone, dice, nuevo, verdad, varios, consejos, upwork, especificos, puede, interesar, curso, presenta, general, realmente, tambien, recomienda, wordpress, hacer, portafolio, menciona, indices, general, recom]</td>\n",
       "      <td>explicación</td>\n",
       "      <td>0.9427</td>\n",
       "    </tr>\n",
       "    <tr>\n",
       "      <th>524</th>\n",
       "      <td>19709782</td>\n",
       "      <td>1391682</td>\n",
       "      <td>3.5</td>\n",
       "      <td>Si, me parece muy instructivo y de necesario saber general</td>\n",
       "      <td>Carlos Figueroa</td>\n",
       "      <td>neg</td>\n",
       "      <td>[parece, instructivo, necesario, saber, general]</td>\n",
       "      <td>instructor</td>\n",
       "      <td>0.9236</td>\n",
       "    </tr>\n",
       "    <tr>\n",
       "      <th>668</th>\n",
       "      <td>60419390</td>\n",
       "      <td>2518830</td>\n",
       "      <td>2.0</td>\n",
       "      <td>Mala dicción, demasiado tiempo muerto.</td>\n",
       "      <td>Felipe Vidal Araya</td>\n",
       "      <td>neg</td>\n",
       "      <td>[mala, diccion, demasiado, tiempo, muert]</td>\n",
       "      <td>material</td>\n",
       "      <td>0.9236</td>\n",
       "    </tr>\n",
       "    <tr>\n",
       "      <th>884</th>\n",
       "      <td>66177262</td>\n",
       "      <td>3159114</td>\n",
       "      <td>1.0</td>\n",
       "      <td>En completa humildad, no es el curso que estaba buscando se que puede mejorar el contenido. Gracias de todas maneras.</td>\n",
       "      <td>Henry Baltazar</td>\n",
       "      <td>neg</td>\n",
       "      <td>[completa, humildad, curso, buscando, puede, mejorar, contenido, gracias, todas, maner]</td>\n",
       "      <td>felicitaciones</td>\n",
       "      <td>0.9167</td>\n",
       "    </tr>\n",
       "    <tr>\n",
       "      <th>3996</th>\n",
       "      <td>44517530</td>\n",
       "      <td>796764</td>\n",
       "      <td>3.5</td>\n",
       "      <td>Nivel muy basico para lo que busco.</td>\n",
       "      <td>Paola Lopez</td>\n",
       "      <td>neg</td>\n",
       "      <td>[nivel, basico, busc]</td>\n",
       "      <td>felicitaciones</td>\n",
       "      <td>0.9167</td>\n",
       "    </tr>\n",
       "  </tbody>\n",
       "</table>\n",
       "</div>"
      ],
      "text/plain": [
       "             id   course  rating                                                                                                                                                                                                                                                                                                                                                                                                                                                                                                                                                                             comment                     user  tag                                                                                                                                                                                                                                                                                                                                                                         comment_cleaned          labels  label_confidence\n",
       "1961   77318140  3675456     1.0                                                                                                                                                                                                                                                                                                                                                                       La verdad en el tema 5 minuto 14 aproximadamente esta mal editado, incluso la facilitadora dice una mala palabra debieron haber editado bien este video. Por favor tomen esto como algo constructivo. Gracias         Alejandro Torres  neg                                                                                                                                                                                                                  [verdad, tema, minuto, aproximadamente, editado, incluso, facilitadora, dice, mala, palabra, debieron, haber, editado, bien, video, favor, tomen, constructivo, graci]  felicitaciones            0.9563\n",
       "10870  82709850  1558846     3.0                                                                                                                                                                                                                                                                                                                                                                                                                                                    Me siento un poco decepcionado por la ,amera en la que ha sido diseñado, me parece muy básico el como se termino el proyecto....      Guery Mamani Chambi  neg                                                                                                                                                                                                                                                                                                             [siento, decepcionado, amera, sido, dise, parece, basico, termino, proyect]        material            0.9461\n",
       "10870  24622266   291766     3.0                                                                                                                                                                                                                                                                                                                                                                                                                                                                                                                                        Si pero lo veo un poco lento, pero esta bien      Luis Díaz Hernández  neg                                                                                                                                                                                                                                                                                                                                                                             [lento, bi]        material            0.9461\n",
       "752    51098952  2518830     2.5                                                                                                                                                                                                                                                                                                                                                                                                                                           Las explicaciones no llevan un orden especifico, son explicaciones generales sin ahondar ni aclarar muchas veces como se hacen las cosas.                      Alf  neg                                                                                                                                                                                                                                                                                 [explicaciones, llevan, orden, especifico, explicaciones, generales, ahondar, aclarar, veces, hacen, c]           temas            0.9427\n",
       "11078  75800096  1192848     3.5                                                                                                                                                                                                                                                                                                                                     Los materiales son buenos y utiles, y como repaso de programacion esta genial. Creo que es bueno si ya tienes un poco de nocion, ya que hay cosas que dan por sentadas y dado que esto es fundamentos de programacion no todos podrian saberlo.         César Delgadillo  neg                                                                                                                                                                                                                                                        [materiales, utiles, repaso, programacion, genial, creo, nocion, cosas, sentadas, dado, fundamentos, programacion, podrian, sab]           temas            0.9427\n",
       "1735   46357258  1747432     1.5  Lo he comprado hoy mismo, y no estaba seguro, primero porque son solo 2 horas y sabia de antemano que hablaria muy por encima de las cosas que propone por los comentarios.\\n\\nDespues de hacerlo tengo que decir que creo que es un curso que se queda a medias y que no propone o dice nada nuevo. Si es verdad que da varios consejos sobre UpWork muy especificos que puede interesar. Pero el curso se presenta mas general de lo que realmente es. Tambien recomienda Wix y Wordpress para hacer el portafolio y no lo menciona en los indices. En general no lo recomiendo.  Jose Ángel Cano Domingo  neg  [comprado, mismo, seguro, primero, solo, horas, sabia, antemano, hablaria, encima, cosas, propone, comentarios, despues, hacerlo, decir, creo, curso, queda, medias, propone, dice, nuevo, verdad, varios, consejos, upwork, especificos, puede, interesar, curso, presenta, general, realmente, tambien, recomienda, wordpress, hacer, portafolio, menciona, indices, general, recom]     explicación            0.9427\n",
       "524    19709782  1391682     3.5                                                                                                                                                                                                                                                                                                                                                                                                                                                                                                                          Si, me parece muy instructivo y de necesario saber general          Carlos Figueroa  neg                                                                                                                                                                                                                                                                                                                                        [parece, instructivo, necesario, saber, general]      instructor            0.9236\n",
       "668    60419390  2518830     2.0                                                                                                                                                                                                                                                                                                                                                                                                                                                                                                                                              Mala dicción, demasiado tiempo muerto.       Felipe Vidal Araya  neg                                                                                                                                                                                                                                                                                                                                               [mala, diccion, demasiado, tiempo, muert]        material            0.9236\n",
       "884    66177262  3159114     1.0                                                                                                                                                                                                                                                                                                                                                                                                                                                               En completa humildad, no es el curso que estaba buscando se que puede mejorar el contenido. Gracias de todas maneras.           Henry Baltazar  neg                                                                                                                                                                                                                                                                                                 [completa, humildad, curso, buscando, puede, mejorar, contenido, gracias, todas, maner]  felicitaciones            0.9167\n",
       "3996   44517530   796764     3.5                                                                                                                                                                                                                                                                                                                                                                                                                                                                                                                                                 Nivel muy basico para lo que busco.              Paola Lopez  neg                                                                                                                                                                                                                                                                                                                                                                   [nivel, basico, busc]  felicitaciones            0.9167"
      ]
     },
     "execution_count": 53,
     "metadata": {},
     "output_type": "execute_result"
    }
   ],
   "source": [
    "df_news.sort_values(by='label_confidence',ascending=False).head(10)"
   ]
  },
  {
   "cell_type": "markdown",
   "metadata": {
    "colab_type": "text",
    "id": "dCc6-oIo6BMw"
   },
   "source": [
    "### let's see the distribution of topics\n"
   ]
  },
  {
   "cell_type": "code",
   "execution_count": 54,
   "metadata": {
    "colab": {
     "base_uri": "https://localhost:8080/",
     "height": 337
    },
    "colab_type": "code",
    "id": "VOitT-s10yv5",
    "outputId": "16a4b62a-dd36-4607-a55b-ad77f80acf65"
   },
   "outputs": [
    {
     "data": {
      "image/png": "[encoded data removed]",
      "text/plain": [
       "<Figure size 432x288 with 1 Axes>"
      ]
     },
     "metadata": {
      "needs_background": "light"
     },
     "output_type": "display_data"
    }
   ],
   "source": [
    "ax = df_dominant_topic['Dominant_Topic'].value_counts().plot(kind='bar')\n",
    "plt.show()"
   ]
  },
  {
   "cell_type": "markdown",
   "metadata": {
    "colab_type": "text",
    "id": "Jh0l7ngJ6J12"
   },
   "source": [
    "The topis are almost balanced, so we are good"
   ]
  },
  {
   "cell_type": "markdown",
   "metadata": {
    "colab_type": "text",
    "id": "AcWRIAWTWhl7"
   },
   "source": [
    "finally that we have our models set up, as well as analyzed, we can go\n",
    "ahead to visualizing them."
   ]
  },
  {
   "cell_type": "code",
   "execution_count": 55,
   "metadata": {
    "colab": {
     "base_uri": "https://localhost:8080/",
     "height": 521
    },
    "colab_type": "code",
    "id": "Jv3PFRwBs-gT",
    "outputId": "6749bc00-2549-4857-d0bd-df8540c8accd"
   },
   "outputs": [
    {
     "name": "stdout",
     "output_type": "stream",
     "text": [
      "Requirement already satisfied: pyLDAvis in c:\\users\\faolin\\anaconda3\\lib\\site-packages (2.1.2)\n",
      "Requirement already satisfied: joblib>=0.8.4 in c:\\users\\faolin\\anaconda3\\lib\\site-packages (from pyLDAvis) (1.0.1)\n",
      "Requirement already satisfied: scipy>=0.18.0 in c:\\users\\faolin\\anaconda3\\lib\\site-packages (from pyLDAvis) (1.6.2)\n",
      "Requirement already satisfied: funcy in c:\\users\\faolin\\anaconda3\\lib\\site-packages (from pyLDAvis) (1.16)\n",
      "Requirement already satisfied: pandas>=0.17.0 in c:\\users\\faolin\\anaconda3\\lib\\site-packages (from pyLDAvis) (1.3.3)\n",
      "Requirement already satisfied: numexpr in c:\\users\\faolin\\anaconda3\\lib\\site-packages (from pyLDAvis) (2.7.3)\n",
      "Requirement already satisfied: numpy>=1.9.2 in c:\\users\\faolin\\anaconda3\\lib\\site-packages (from pyLDAvis) (1.19.5)\n",
      "Requirement already satisfied: pytest in c:\\users\\faolin\\anaconda3\\lib\\site-packages (from pyLDAvis) (6.2.3)\n",
      "Requirement already satisfied: future in c:\\users\\faolin\\anaconda3\\lib\\site-packages (from pyLDAvis) (0.18.2)\n",
      "Requirement already satisfied: jinja2>=2.7.2 in c:\\users\\faolin\\anaconda3\\lib\\site-packages (from pyLDAvis) (2.11.3)\n",
      "Requirement already satisfied: wheel>=0.23.0 in c:\\users\\faolin\\anaconda3\\lib\\site-packages (from pyLDAvis) (0.36.2)\n",
      "Requirement already satisfied: MarkupSafe>=0.23 in c:\\users\\faolin\\anaconda3\\lib\\site-packages (from jinja2>=2.7.2->pyLDAvis) (1.1.1)\n",
      "Requirement already satisfied: python-dateutil>=2.7.3 in c:\\users\\faolin\\anaconda3\\lib\\site-packages (from pandas>=0.17.0->pyLDAvis) (2.8.1)\n",
      "Requirement already satisfied: pytz>=2017.3 in c:\\users\\faolin\\anaconda3\\lib\\site-packages (from pandas>=0.17.0->pyLDAvis) (2021.1)\n",
      "Requirement already satisfied: six>=1.5 in c:\\users\\faolin\\anaconda3\\lib\\site-packages (from python-dateutil>=2.7.3->pandas>=0.17.0->pyLDAvis) (1.15.0)\n",
      "Requirement already satisfied: attrs>=19.2.0 in c:\\users\\faolin\\anaconda3\\lib\\site-packages (from pytest->pyLDAvis) (20.3.0)\n",
      "Requirement already satisfied: iniconfig in c:\\users\\faolin\\anaconda3\\lib\\site-packages (from pytest->pyLDAvis) (1.1.1)\n",
      "Requirement already satisfied: packaging in c:\\users\\faolin\\anaconda3\\lib\\site-packages (from pytest->pyLDAvis) (20.9)\n",
      "Requirement already satisfied: pluggy<1.0.0a1,>=0.12 in c:\\users\\faolin\\anaconda3\\lib\\site-packages (from pytest->pyLDAvis) (0.13.1)\n",
      "Requirement already satisfied: py>=1.8.2 in c:\\users\\faolin\\anaconda3\\lib\\site-packages (from pytest->pyLDAvis) (1.10.0)\n",
      "Requirement already satisfied: toml in c:\\users\\faolin\\anaconda3\\lib\\site-packages (from pytest->pyLDAvis) (0.10.2)\n",
      "Requirement already satisfied: atomicwrites>=1.0 in c:\\users\\faolin\\anaconda3\\lib\\site-packages (from pytest->pyLDAvis) (1.4.0)\n",
      "Requirement already satisfied: colorama in c:\\users\\faolin\\anaconda3\\lib\\site-packages (from pytest->pyLDAvis) (0.4.4)\n",
      "Requirement already satisfied: pyparsing>=2.0.2 in c:\\users\\faolin\\anaconda3\\lib\\site-packages (from packaging->pytest->pyLDAvis) (2.4.7)\n"
     ]
    }
   ],
   "source": [
    "!pip install pyLDAvis"
   ]
  },
  {
   "cell_type": "code",
   "execution_count": 56,
   "metadata": {
    "colab": {},
    "colab_type": "code",
    "id": "jXpx66NTd1uT"
   },
   "outputs": [],
   "source": [
    "import pyLDAvis\n",
    "\n",
    "pyLDAvis.enable_notebook()"
   ]
  },
  {
   "cell_type": "code",
   "execution_count": 57,
   "metadata": {
    "colab": {
     "base_uri": "https://localhost:8080/",
     "height": 991
    },
    "colab_type": "code",
    "id": "diu2MLik41sf",
    "outputId": "078af8ba-2310-4875-c8de-e24a06ee6340"
   },
   "outputs": [
    {
     "data": {
      "text/html": [
       "\n",
       "<link rel=\"stylesheet\" type=\"text/css\" href=\"https://cdn.rawgit.com/bmabey/pyLDAvis/files/ldavis.v1.0.0.css\">\n",
       "\n",
       "\n",
       "<div id=\"ldavis_el377225172713954564127525394\"></div>\n",
       "<script type=\"text/javascript\">\n",
       "\n",
       "var ldavis_el377225172713954564127525394_data = {\"mdsDat\": {\"x\": [0.002593223260323278, 0.05662422872771137, -0.057147797013058235, -0.06913787493283498, 0.08359082099189545, -0.03362642900719906, -0.016178835999149408, 0.06143665679671875, -0.0563914486838249, 0.11345938198383251, -0.21868766062294748, 0.13346573449853305], \"y\": [-0.011263902251492448, 0.0054067597243148005, 0.03995709623892195, 0.06186690503189952, 0.07599694176575195, -0.02001060028369053, 0.02000569654410607, 0.13823995355075006, -0.1290375131262611, 0.06539212110426106, -0.026407456765366585, -0.2201460015331946], \"topics\": [1, 2, 3, 4, 5, 6, 7, 8, 9, 10, 11, 12], \"cluster\": [1, 1, 1, 1, 1, 1, 1, 1, 1, 1, 1, 1], \"Freq\": [11.074179050641666, 9.739823463630957, 9.067847002944317, 8.95884946583052, 8.447628569303822, 8.25295695076211, 8.176067295065176, 8.057616275354938, 8.02606986704307, 7.0401537856648595, 6.992302824229977, 6.166505449528588]}, \"tinfo\": {\"Term\": [\"explicacion\", \"eleccion\", \"explic\", \"curs\", \"bien\", \"bas\", \"bi\", \"demasiado\", \"programacion\", \"informacion\", \"interes\", \"esperaba\", \"audio\", \"podria\", \"momento\", \"lento\", \"conten\", \"ejemplos\", \"falto\", \"explicaciones\", \"gratis\", \"basico\", \"interesante\", \"aprend\", \"creo\", \"falta\", \"gratuito\", \"mejor\", \"bueno\", \"paso\", \"agrado\", \"comenzando\", \"queremos\", \"canal\", \"termin\", \"email\", \"diferencias\", \"fotografia\", \"tipos\", \"unica\", \"distintos\", \"orientada\", \"color\", \"relevante\", \"tocan\", \"ampliar\", \"teclado\", \"conectar\", \"animo\", \"motivo\", \"basado\", \"sencillo\", \"ruido\", \"metodos\", \"deficiente\", \"script\", \"avanzadas\", \"propio\", \"cuidar\", \"escuchaba\", \"sintaxis\", \"mejorarse\", \"mysql\", \"java\", \"aprendes\", \"framework\", \"aclara\", \"saludos\", \"parametros\", \"empresa\", \"opcion\", \"aporta\", \"terminal\", \"servidor\", \"explico\", \"proyecto\", \"aprendido\", \"excel\", \"conocer\", \"crear\", \"pueda\", \"hac\", \"buscar\", \"debe\", \"herramienta\", \"trabajar\", \"ejemplo\", \"vide\", \"cuales\", \"vida\", \"practicas\", \"tener\", \"poder\", \"aprendi\", \"real\", \"cosas\", \"salud\", \"caso\", \"basicas\", \"hacer\", \"mejorar\", \"manera\", \"videos\", \"solo\", \"herramientas\", \"bien\", \"instructor\", \"esperaba\", \"ejemplos\", \"mejor\", \"experient\", \"maneras\", \"concret\", \"locutor\", \"extremadamente\", \"quiera\", \"molesta\", \"clave\", \"test\", \"significa\", \"mejoraria\", \"alguno\", \"adecuadamente\", \"aporte\", \"habilidades\", \"principales\", \"introducirse\", \"sabemos\", \"faltado\", \"inter\", \"ponen\", \"dicta\", \"plus\", \"tecn\", \"titulos\", \"alt\", \"libro\", \"absoluto\", \"sentencias\", \"text\", \"decepcionante\", \"enga\", \"quiza\", \"basa\", \"inici\", \"obtener\", \"c\", \"colocar\", \"pena\", \"cort\", \"vale\", \"suficiente\", \"vision\", \"dinamica\", \"aprende\", \"error\", \"simplemente\", \"parecido\", \"dice\", \"deja\", \"profesor\", \"siquiera\", \"explica\", \"google\", \"tampoco\", \"pone\", \"calificacion\", \"solo\", \"explicar\", \"habla\", \"todas\", \"parece\", \"hace\", \"bien\", \"codigo\", \"verdad\", \"instructor\", \"curs\", \"momento\", \"hacer\", \"tema\", \"basico\", \"gratis\", \"aprender\", \"video\", \"tiempo\", \"agradece\", \"sencill\", \"buenos\", \"photoshop\", \"entiend\", \"dic\", \"hola\", \"informativo\", \"soluciones\", \"confusion\", \"fatal\", \"detall\", \"detallada\", \"alumn\", \"plan\", \"cuestiones\", \"abarcar\", \"realiz\", \"recomendaciones\", \"haberse\", \"ingresar\", \"corre\", \"usas\", \"describe\", \"know\", \"intenta\", \"pantall\", \"mercado\", \"extenso\", \"divertido\", \"rap\", \"cl\", \"explicacion\", \"subtitulos\", \"comando\", \"rapida\", \"genera\", \"teorica\", \"basica\", \"salen\", \"produccion\", \"iniciarse\", \"diccion\", \"inicial\", \"informacion\", \"lenta\", \"movil\", \"quiere\", \"metodo\", \"puede\", \"basicos\", \"mejorar\", \"falta\", \"tecnicas\", \"conceptos\", \"proceso\", \"manera\", \"bastante\", \"forma\", \"facil\", \"podria\", \"embargo\", \"creo\", \"parte\", \"mucha\", \"temas\", \"solo\", \"bien\", \"siento\", \"demasiado\", \"habla\", \"explicar\", \"cosas\", \"bootstrap\", \"moment\", \"ramas\", \"vueltas\", \"orientado\", \"aport\", \"busc\", \"buscaba\", \"bueno\", \"explicito\", \"amplio\", \"actividad\", \"b\", \"introductori\", \"confusas\", \"publ\", \"especificar\", \"profundiz\", \"prepar\", \"producto\", \"escribir\", \"lenguajes\", \"desactualiz\", \"propia\", \"suena\", \"modul\", \"negoci\", \"backend\", \"arch\", \"orador\", \"interes\", \"usuarios\", \"vender\", \"normal\", \"correo\", \"pag\", \"html\", \"digital\", \"facebook\", \"buena\", \"gratis\", \"momento\", \"podria\", \"hilo\", \"mejor\", \"creo\", \"principal\", \"basico\", \"principi\", \"principiantes\", \"marketing\", \"lenguaje\", \"ejemplos\", \"haber\", \"menos\", \"hacer\", \"aunque\", \"eleccion\", \"tambien\", \"personas\", \"deberia\", \"explicar\", \"bien\", \"cosas\", \"parece\", \"solo\", \"contenido\", \"aprender\", \"falta\", \"ejemplo\", \"about\", \"objetos\", \"quisiera\", \"mais\", \"adecu\", \"supongo\", \"sabia\", \"ortografia\", \"comprend\", \"adir\", \"avanz\", \"fallos\", \"interaccion\", \"abre\", \"justo\", \"captar\", \"continu\", \"ordenador\", \"much\", \"comercial\", \"pura\", \"considerando\", \"especif\", \"simples\", \"sugerencia\", \"faltas\", \"comienza\", \"sobretodo\", \"ide\", \"enreda\", \"nuev\", \"ahor\", \"cuestionarios\", \"practic\", \"exposicion\", \"estrategia\", \"programacion\", \"salta\", \"teori\", \"tiemp\", \"recien\", \"proyect\", \"gente\", \"introductorio\", \"conocimientos\", \"tenia\", \"empieza\", \"empezando\", \"aprendi\", \"explicado\", \"iniciar\", \"ahora\", \"bien\", \"introduccion\", \"bases\", \"cero\", \"conocimiento\", \"alguien\", \"cosas\", \"mundo\", \"basico\", \"explica\", \"persona\", \"solo\", \"tiempo\", \"creo\", \"aprender\", \"ense\", \"curs\", \"parece\", \"aunque\", \"program\", \"frases\", \"explicaba\", \"utiliz\", \"accion\", \"acorde\", \"l\", \"recomendado\", \"sirv\", \"existe\", \"monotona\", \"incomplet\", \"dijo\", \"contiene\", \"quiz\", \"unicamente\", \"parec\", \"dec\", \"mejorando\", \"social\", \"negocio\", \"grafica\", \"especifico\", \"operaciones\", \"siguientes\", \"entendiendo\", \"previo\", \"tienda\", \"aportar\", \"enviar\", \"dieron\", \"linea\", \"entorno\", \"sesiones\", \"pensar\", \"estructurado\", \"ayudo\", \"excesivamente\", \"aplicar\", \"teoria\", \"expl\", \"explicaciones\", \"pas\", \"primeros\", \"faltan\", \"mucha\", \"iniciando\", \"demasiada\", \"dificil\", \"codig\", \"acceso\", \"hace\", \"pasos\", \"autor\", \"gran\", \"cada\", \"recursos\", \"estan\", \"embargo\", \"personas\", \"despues\", \"videos\", \"solo\", \"conocimiento\", \"sirve\", \"instructor\", \"video\", \"introduccion\", \"contenido\", \"tema\", \"creo\", \"informacion\", \"explicar\", \"ense\", \"import\", \"muito\", \"escuch\", \"sab\", \"lent\", \"cer\", \"podia\", \"fluido\", \"segu\", \"perspectiva\", \"premium\", \"muletillas\", \"motiva\", \"descarg\", \"daria\", \"operativo\", \"estou\", \"escueto\", \"acelerado\", \"cliente\", \"espect\", \"after\", \"tama\", \"acaba\", \"studio\", \"graf\", \"pesim\", \"explicaron\", \"apoy\", \"pudieran\", \"perfectamente\", \"necesita\", \"faltaria\", \"vamos\", \"repaso\", \"falto\", \"utilidad\", \"textos\", \"musica\", \"definicion\", \"funcionalidad\", \"comandos\", \"herramient\", \"subir\", \"gratuito\", \"entendi\", \"consola\", \"genial\", \"sistema\", \"trading\", \"apoyo\", \"preparacion\", \"fondo\", \"regular\", \"sigue\", \"clara\", \"poca\", \"valor\", \"bien\", \"informacion\", \"explica\", \"cada\", \"explicar\", \"poner\", \"basico\", \"solo\", \"forma\", \"video\", \"mejor\", \"entender\", \"cosas\", \"seria\", \"instructor\", \"hacer\", \"videos\", \"interesante\", \"aunque\", \"contenido\", \"poder\", \"concept\", \"intro\", \"ameno\", \"compartir\", \"area\", \"aceptable\", \"dud\", \"xampp\", \"enfocarse\", \"llamarse\", \"aclaro\", \"redund\", \"largos\", \"extiende\", \"panorama\", \"piensa\", \"interlocutor\", \"haria\", \"concreta\", \"invertir\", \"preferiria\", \"breves\", \"abordados\", \"brev\", \"entenderlo\", \"analizar\", \"cortes\", \"ambito\", \"dados\", \"pais\", \"hago\", \"lento\", \"bas\", \"igualmente\", \"nueva\", \"bi\", \"ingles\", \"curs\", \"ando\", \"demasiado\", \"escuchar\", \"m\", \"interesante\", \"ense\", \"mal\", \"super\", \"tecnico\", \"permite\", \"pesimo\", \"espa\", \"deberia\", \"rapido\", \"parece\", \"muestra\", \"videos\", \"habla\", \"malo\", \"profesor\", \"contenido\", \"bastante\", \"basico\", \"informacion\", \"solo\", \"general\", \"ahora\", \"cursos\", \"explica\", \"video\", \"introduccion\", \"bien\", \"falta\", \"gratuit\", \"aburr\", \"github\", \"jav\", \"trucos\", \"mail\", \"confus\", \"tanta\", \"encanto\", \"mensaje\", \"detalladamente\", \"inicia\", \"relacionados\", \"cuestion\", \"nocion\", \"codeigniter\", \"repetit\", \"copiar\", \"more\", \"plataform\", \"sencillas\", \"regul\", \"larg\", \"graficas\", \"interactivo\", \"men\", \"escaso\", \"cr\", \"previa\", \"tabla\", \"adicional\", \"fuentes\", \"conten\", \"conoc\", \"abarca\", \"extra\", \"eleccion\", \"codigos\", \"explican\", \"entiende\", \"avanzar\", \"obstante\", \"version\", \"entrar\", \"complet\", \"ejempl\", \"esfuerzo\", \"explicados\", \"crei\", \"complicado\", \"falta\", \"bien\", \"corto\", \"instructor\", \"tem\", \"hace\", \"tema\", \"contenido\", \"profundidad\", \"preguntas\", \"explicaciones\", \"explica\", \"funciona\", \"basico\", \"creo\", \"temas\", \"mejor\", \"claro\", \"basic\", \"javascript\", \"clar\", \"esperando\", \"enlace\", \"intencion\", \"saben\", \"sigo\", \"what\", \"agradecido\", \"adel\", \"formador\", \"expect\", \"estrell\", \"desarrollando\", \"baj\", \"necesitan\", \"rapidas\", \"improvisado\", \"posteriormente\", \"actually\", \"sabi\", \"noto\", \"quieren\", \"celular\", \"creando\", \"expresiones\", \"ejecucion\", \"only\", \"tantas\", \"tocar\", \"conocia\", \"modulo\", \"confunde\", \"agregar\", \"veremos\", \"explicas\", \"logra\", \"cuesta\", \"linux\", \"aprendizaj\", \"aprendiendo\", \"promete\", \"paso\", \"escucha\", \"audio\", \"creacion\", \"excelente\", \"windows\", \"supone\", \"pense\", \"conoce\", \"graci\", \"mientras\", \"instalacion\", \"palabras\", \"trabajo\", \"confuso\", \"partes\", \"bien\", \"video\", \"videos\", \"explicando\", \"pasa\", \"cosas\", \"calidad\", \"mejor\", \"creo\", \"solo\", \"contenido\", \"explica\", \"instructor\", \"curs\", \"seria\", \"gust\", \"us\", \"explicara\", \"good\", \"some\", \"profund\", \"ayud\", \"ubuntu\", \"very\", \"esper\", \"dirigido\", \"poquito\", \"dinam\", \"macros\", \"ventas\", \"apartado\", \"conozco\", \"repasar\", \"grafico\", \"comprensible\", \"fotos\", \"encontrado\", \"this\", \"fluida\", \"normalmente\", \"cours\", \"course\", \"alcance\", \"significado\", \"necesaria\", \"actualiz\", \"that\", \"necesarias\", \"confund\", \"ens\", \"aparecen\", \"ejercici\", \"personal\", \"demasiadas\", \"nombre\", \"esperaba\", \"atencion\", \"aburrido\", \"ejemplos\", \"profundizar\", \"temas\", \"tema\", \"varios\", \"funcion\", \"principiante\", \"ejercicios\", \"falta\", \"basico\", \"bien\", \"solo\", \"gusto\", \"datos\", \"cada\", \"explicar\", \"cursos\", \"conceptos\", \"explica\", \"videos\", \"habl\", \"explic\", \"inversion\", \"pagin\", \"funcional\", \"certific\", \"v\", \"historia\", \"didact\", \"menus\", \"imparte\", \"dinamismo\", \"cal\", \"guion\", \"serie\", \"empez\", \"audi\", \"cas\", \"planeacion\", \"hacerse\", \"programador\", \"instructores\", \"pedagogia\", \"interesado\", \"horrible\", \"hable\", \"instalado\", \"lentas\", \"mexico\", \"deje\", \"falla\", \"aprend\", \"respuest\", \"expositor\", \"contexto\", \"graficos\", \"todavia\", \"idea\", \"llevar\", \"mala\", \"tutorial\", \"domina\", \"examen\", \"pagar\", \"adelante\", \"tem\", \"preguntas\", \"bien\", \"juego\", \"gracias\", \"claro\", \"podemos\", \"calidad\", \"sabe\", \"hacer\", \"instructor\", \"errores\", \"didactico\", \"debe\", \"veces\", \"totalmente\", \"falta\", \"tener\", \"video\", \"audio\", \"saber\", \"util\", \"contenido\", \"hace\", \"general\", \"creo\", \"videos\"], \"Freq\": [1140.0, 766.0, 457.0, 989.0, 3217.0, 523.0, 541.0, 864.0, 445.0, 1171.0, 336.0, 635.0, 579.0, 825.0, 739.0, 309.0, 276.0, 856.0, 336.0, 612.0, 422.0, 1649.0, 671.0, 222.0, 1137.0, 1339.0, 308.0, 1157.0, 207.0, 324.0, 64.08105552420683, 62.0826358050116, 52.93225929585189, 41.6344052273872, 40.17625626115816, 39.669583377605946, 36.66204241538879, 34.20954609324306, 95.2624350376535, 31.361848888391528, 37.896301162992515, 30.117884248919545, 31.214862689899142, 28.071104720388583, 27.950084530496, 42.915219759619475, 37.25140414532038, 28.616204524921926, 49.60041920607588, 23.892027723896565, 23.728814860786418, 173.72437745558645, 37.141953607920684, 105.86271217755991, 25.80959129465997, 22.48047755215665, 25.232300998927908, 42.8009855699499, 22.203993442366322, 22.08535313142519, 49.65084109928219, 38.62409968691017, 45.89291665747558, 106.27145877690805, 38.09951319643124, 81.43781378615161, 28.67531202052635, 44.363361764956274, 47.8542427613673, 49.653794443041214, 83.38094194014951, 94.11359387313856, 57.23395740482431, 121.68065886921639, 85.46347938886967, 151.73026257504696, 136.6489983329522, 75.0351222194018, 153.20419138123117, 165.55936640979476, 112.62208451800315, 88.01361048394229, 90.57994195982897, 167.46430180760794, 113.94711318689971, 82.6555280740567, 235.1641735479231, 142.98620499754998, 78.67550549114846, 71.38285388951809, 92.65687856892846, 190.4859700458596, 162.7150765416749, 121.27444507276839, 97.63515523675501, 236.6082152798857, 101.06997049047848, 111.8506309856086, 103.33913250307816, 172.01317758526676, 147.04851500147228, 135.424364236369, 145.01561093184802, 151.12394779174133, 104.00892028283589, 157.05757859800596, 116.99644539696912, 107.09811785477879, 109.2916589747525, 101.48083890961466, 68.76845612727983, 63.61362356909682, 58.823536323789995, 49.151957996862876, 48.25660221304558, 47.80326490762721, 46.8573715909165, 44.4027958977456, 100.18272359341672, 37.9401911934615, 37.693644192297604, 34.25854200950834, 33.74807678101218, 33.33363034318052, 34.11704196107274, 29.059020469415046, 28.819925484703248, 31.935883399453918, 27.63665413123375, 27.509114529862813, 28.620864598528524, 26.676428397094025, 24.93244008997255, 24.539715040197542, 31.937180041910473, 23.58186193058529, 50.82106257520895, 23.009012858778213, 24.07048388243083, 22.40227875784716, 45.187102766345255, 43.67947535668115, 91.07546844130114, 43.03257896403661, 76.4865301616865, 47.928511742515, 192.39001589389412, 42.703660491678015, 82.84797994213945, 86.81903467872974, 80.0322189236473, 63.53165559117872, 48.328974616479684, 52.21551432384337, 83.219790590411, 96.24141807986531, 85.9052148744533, 72.07918150755897, 190.91428967141076, 130.2737979047877, 237.93753062344715, 65.21571463908856, 394.9779881093072, 64.47558187816603, 87.22915196994794, 72.83475629242116, 89.10299996478076, 300.5953290569521, 180.48950287956646, 136.0944153846258, 85.21951167532133, 145.8612559523238, 149.83352957485383, 230.67048221422837, 105.65780792462148, 95.90714911853688, 125.15647761216303, 126.79604732327341, 111.22212311272305, 113.4672521709019, 104.64409831605822, 113.43319901957933, 89.46374817238569, 89.65344885515442, 91.39821262591686, 85.42934499137013, 106.14481150213986, 70.27767593509921, 52.03831699533033, 48.39803031188954, 59.00499522770993, 52.01789857016071, 77.38800706253474, 41.53887164033509, 38.7018218550483, 51.91990343380142, 36.166810587118235, 106.85613809550581, 30.901678220406747, 25.554928892603787, 35.068911317917355, 22.720461736794185, 22.555766281111648, 26.667044363154076, 22.308086244637217, 21.083413129243787, 21.046540223844534, 20.907291494662193, 20.75784529211994, 20.61287173426317, 19.915180250614252, 20.816919028335565, 21.242512887725763, 20.239147640077245, 39.657782156028105, 18.43829967101139, 126.48783171717446, 155.78112656069007, 916.6931571845005, 115.16309537352005, 64.60407723812122, 66.89668525116774, 48.7585184300049, 36.92007751796368, 127.84930788989683, 24.064309506797294, 34.67867991698976, 79.05361524772034, 73.62330024749312, 53.29442188538358, 536.083444114103, 54.924096303161626, 43.87006257254075, 91.30652514702503, 48.02381903987042, 260.68197935746934, 146.10237041819465, 203.49758530125078, 331.1686682787721, 62.52820662125998, 192.2795350334539, 63.80077773076777, 128.4437118032957, 158.4341600826525, 140.12727712128014, 95.11294534119816, 146.51612331273947, 119.53498620479766, 153.70930988949303, 114.61135962954422, 93.49703320807353, 105.87564672756773, 122.99762711095781, 132.28678968374498, 85.67030414211683, 95.26067957344303, 89.22950408612397, 92.7530011341465, 92.98276906996666, 93.80337279213424, 116.25459749915525, 76.69636700596526, 42.84406590236085, 39.070982008181325, 38.87385268292054, 37.68838983429649, 36.55641750036763, 201.71503507480148, 34.54939818196777, 33.987643394616946, 35.05672300716235, 31.17701375917438, 50.72717831404024, 33.030404422402384, 28.136584836456585, 26.921896666508566, 29.41468957606366, 25.61579793897811, 41.900303941871314, 46.55169775738241, 24.47843248073588, 38.62739270085788, 27.838975226273455, 23.830822633751232, 23.771826879613567, 23.424318304905217, 23.474066493911998, 22.393541473101553, 22.19855393341038, 319.34635223470036, 52.78240713795102, 70.7252544077581, 42.34558657424799, 38.48282604094806, 72.78067266757667, 140.57698505038533, 45.99920599931821, 53.43056016340594, 176.0455726493761, 257.3065872892443, 390.7850609315529, 418.27470087972154, 48.72899676064422, 434.8764617696426, 398.4819114534159, 53.1812741068823, 486.505927178485, 67.97583576676257, 104.50351699973142, 73.00933340638574, 85.39200868650882, 195.3187664429097, 96.45898586442753, 122.09596583072675, 162.4288577414193, 143.32623358566775, 133.5170567108731, 102.4280958544667, 97.95682852498327, 113.77706964433231, 128.838940834248, 167.30628338926414, 128.88609104509092, 114.23757673803232, 125.72315314760306, 101.69698923159817, 91.08280253366657, 97.50706901952066, 91.15032676969334, 57.80947733177247, 48.3591732845915, 55.26377495350249, 43.34631296846728, 46.42403308454075, 33.259742814292764, 90.04774142333179, 41.64977711532695, 30.645805272386752, 30.41674466190113, 70.74316132910394, 33.52342043054224, 28.87843141840363, 27.776676675880204, 28.8027832723307, 25.99981923507161, 25.91077595550255, 25.30234635398633, 24.54137190045967, 25.395009545805127, 25.92484184816681, 23.71237007282189, 26.820454800259093, 41.70167346053063, 25.697407099577845, 24.90587300416846, 67.99440483983436, 25.54843294650861, 20.193678662442718, 24.589797796054338, 92.77700944242302, 116.44534454040031, 59.22243151943517, 71.23204998148282, 44.2166630888469, 32.877224171516175, 364.51651658793537, 49.36304457916157, 39.38943901793251, 78.46604908339883, 91.42031153455684, 42.67980437202377, 103.20522202985117, 115.77782980520459, 238.4152219884385, 131.55551444824962, 82.72308776167111, 61.551726575657426, 155.16075443925968, 213.8657426510771, 96.97723773549903, 191.7362165751129, 632.9379749819501, 206.51430965871495, 77.45315170350112, 100.80433436872198, 151.829910227544, 99.1047108361501, 229.0812873660673, 92.32357624476816, 208.87777333277887, 190.99989798916036, 100.67522781057829, 182.54710760617328, 112.3632865146833, 117.11506840633453, 100.36010952790784, 107.69545888195596, 108.53412656793229, 100.7616682529406, 95.5579404991812, 107.87719910335171, 65.70269213570099, 44.25058866859565, 41.91143177057008, 41.08700151258286, 48.70377779147488, 37.8990364158648, 37.46247005683871, 57.05343438770114, 35.872056054365245, 37.647461053778656, 39.82247196391438, 34.23863074584393, 47.63928625208817, 31.085827578794696, 39.07325539909803, 35.682705875624976, 30.01375020833388, 32.68897723005736, 28.602116081019496, 25.98144649883788, 26.097126861294896, 87.62829391875188, 26.604392809789307, 36.01738348291445, 23.386296293445692, 50.28816942758858, 22.245403326304437, 22.199475214787245, 24.1848474709165, 28.243117515793383, 60.689469239862824, 59.85466455656158, 30.71675730921292, 46.786478575322334, 50.649141021178565, 73.59927161569011, 38.41676404453769, 74.33013260616096, 166.09898681054005, 99.22326876832406, 316.46052956313156, 69.58116729985254, 73.9118790844039, 140.59506659710536, 186.00738433833476, 48.498159032290246, 60.355493232912124, 103.83952832933521, 55.17016813011391, 72.3750395687134, 214.7759185951433, 86.61684265269221, 65.24732146302642, 73.04457285444433, 131.21228391420112, 77.50164392843661, 113.47091258608762, 111.86432616159185, 94.17891191227471, 74.36995643858847, 128.69726394648583, 137.06498408036836, 92.20137478683232, 77.22057642216049, 95.760561252648, 97.61607690191158, 87.24357475633461, 93.17133547448199, 90.3143761578997, 90.84995720026954, 86.95621777697076, 79.52372733325686, 77.06754919699992, 69.93108824867117, 72.83670189175521, 54.998140079881374, 58.6639982728056, 118.6070268334959, 59.36138365216605, 40.179408181116855, 39.965991841647906, 41.025579551672344, 28.81837698142953, 31.048718505760547, 26.281889845147035, 24.23698393220405, 45.9887901963958, 23.312469698440353, 24.968189281177967, 22.536464488826198, 22.221914602958982, 21.99960356385041, 21.967496556027907, 21.431323638362603, 20.886707636112764, 22.361299591698742, 20.649343349875103, 33.192803318691496, 19.560936954148005, 19.269225382746182, 19.176813652099263, 19.836914327595498, 19.73834052121649, 22.495004109823757, 104.88983344948214, 47.61282968866767, 89.17131500534119, 38.91461435219522, 273.278423087505, 47.08794009089427, 29.732373523949395, 107.73481071493569, 33.638279231622164, 28.671228094809173, 151.84703803841433, 64.37445189332244, 34.4048358075057, 182.41316351890435, 70.33639159115491, 43.26760132318978, 80.47434513851283, 77.05472299788887, 36.13805323934455, 50.7658507606011, 62.08674643638899, 94.91959844320668, 61.989465730929425, 54.85675281345598, 84.39222570163061, 71.43432424195022, 55.6878162491218, 287.93491227772995, 169.0702249423372, 182.62117459068276, 124.31336652312031, 145.56398592344541, 80.2633844559059, 167.6230386112854, 165.77518504854976, 112.55679639239416, 124.60989414569552, 126.48188088793731, 96.77306896818996, 125.27015535623086, 94.2316899235178, 102.65860810037535, 98.86374324437179, 102.46705275216664, 91.56609556924137, 88.25999816308958, 84.39080734809824, 81.45395464487568, 100.37928366065964, 54.758499908009185, 47.71364221262775, 55.51572083024317, 46.95540249215426, 35.78318797801937, 60.62567899542361, 25.808810716198114, 25.309034545684938, 23.53102125155073, 22.953576493065086, 22.809473914771537, 45.78571432225685, 25.07135204582166, 22.883561061833785, 21.630580050884017, 20.865007069362314, 23.873158387980553, 20.042257948416104, 20.42654308095589, 19.8382618558715, 17.94563028266533, 17.824127291940705, 17.779089803212884, 29.715649873004125, 17.74145164094812, 20.73903075462701, 20.28167031901029, 16.45441738577091, 33.41754194300442, 21.73235556102209, 275.30846436618253, 449.86705981992895, 32.66120421105316, 36.78046975505118, 434.248389056194, 102.99425013993255, 606.3866536970662, 32.525909195697075, 493.33512636962206, 58.82556334289539, 52.91708989407339, 316.40081859791394, 330.32954995832586, 30.407010530888076, 86.76966911672984, 40.16115177805678, 59.094560849396984, 59.062383515238544, 86.80075463297973, 209.82277005558683, 183.08000473961653, 242.6841941991569, 105.3700806802155, 281.2094550374911, 142.17883686420325, 96.29294303314597, 156.2664172989284, 195.23981027756307, 150.75144336945402, 203.1420544954705, 158.83213374999508, 180.9224891012649, 111.48891336417016, 105.79679371759659, 96.9308359076547, 132.87211146915297, 119.03761025307797, 96.7428137369951, 126.32092584766539, 95.44763257302891, 65.87874060091526, 97.59151788602829, 56.916050129182004, 44.468711514377546, 46.394930850167036, 42.43776937587631, 39.225405368774965, 37.30659448896512, 36.4440063815646, 35.56702391088619, 34.919849043155516, 34.6686161439525, 33.756371639459815, 33.644649075394696, 33.40307937964338, 33.932470534190486, 32.25306465401822, 43.30548348367415, 51.490261832948576, 28.541114760220548, 36.9969147946913, 38.33485285109879, 26.298510367475338, 25.3663523904932, 25.250056256478985, 25.029487576544668, 25.014982380825764, 24.869345089807556, 24.59732071737135, 26.13012471793713, 29.816184846214544, 34.901443930918106, 256.17680189973845, 126.28612691828145, 40.52285494907118, 33.3540048528666, 590.2564520215808, 36.15955492167867, 128.45427269174178, 150.78095533581663, 48.524205608452284, 60.607556632881575, 133.2957800670114, 88.86640021514195, 86.58803157908407, 101.00491462357672, 77.7411644717338, 62.7101865796421, 46.89732391478365, 57.870608381549054, 282.6700223532519, 399.2244375172196, 84.5164208617549, 158.6909696732533, 93.66597136553942, 144.04872964102276, 120.76031234402463, 117.21255205281831, 65.00022033011766, 70.34650713099965, 82.26427102502657, 98.36309870529367, 59.47776536422935, 87.98820551463984, 81.22581954183255, 68.44861933794672, 67.21883642640891, 63.365691198018425, 148.32774919588746, 72.46399580973318, 147.7029542400171, 38.3204018405391, 44.61649247400208, 35.86864611001453, 51.132359296356306, 35.549883899552476, 33.777128164394504, 29.26932382106678, 40.38811963598462, 24.592773557226828, 47.362830507503524, 21.75365473661096, 21.58436500362985, 73.27331028577188, 32.880603181474335, 21.42799613338708, 23.916012610963957, 19.8811914409919, 19.102761867515618, 21.273436426972353, 18.454804753752683, 39.34621140230483, 20.528574361701093, 19.752184844497748, 17.49557120563568, 17.488895072114047, 16.548626604092057, 16.637603741982772, 38.60207543301158, 43.42995442806705, 64.774359901258, 69.99074277736604, 76.79603024133047, 40.709512805095024, 39.86313401553462, 47.19990246899081, 80.39583181678023, 123.1354755577396, 28.894521583783305, 98.79646494968001, 33.3618589880857, 207.0785626904064, 114.58228367702765, 298.3181670396565, 85.08965648116809, 123.95629819932094, 95.50001959011293, 67.2283516428278, 109.64630144688671, 66.35840967165475, 122.80596773441474, 53.298604366541355, 92.71774132472937, 93.71359259177072, 76.95584426989566, 61.78082720103471, 84.05441374780523, 299.45345303894305, 179.81621676148683, 188.2648872780676, 74.0520254367458, 68.11571991747303, 167.19892897923762, 90.48399059499907, 127.45670057724588, 114.36334903033685, 122.44900801461593, 107.51289171281171, 109.64504976679073, 93.56864074531603, 89.94389670970125, 83.51820857736871, 121.35850899040742, 58.00083913339432, 52.262867381839435, 90.19097707126484, 51.076500530043525, 40.53986746420456, 49.75511970279754, 37.19685565253975, 81.01936260477956, 163.81673962596113, 36.06673330856347, 39.97261263571509, 56.29941259775829, 40.536693149707446, 36.75789502917233, 33.61421930525325, 38.19765183744149, 29.662454236126678, 30.687344433632482, 31.317850194145297, 26.799219542318347, 26.30747839691332, 63.707441898721044, 24.49260632691599, 23.980235154688927, 25.751065119743373, 100.1684570523641, 22.233461484623323, 21.89829370352949, 21.726980295189385, 62.55055513498296, 74.45883303081787, 25.938419075485257, 31.96158729407813, 59.174001802453176, 51.44861950441843, 46.4975820420451, 122.99126532706495, 41.21193200187402, 107.70362187330927, 332.18088391805003, 87.3220424914441, 127.06337976284313, 298.4302928031987, 94.0893008057351, 234.8865513893613, 213.72118789353794, 79.93390395204503, 77.1476162106996, 59.537696170292, 90.34307863511526, 148.01059664185703, 156.2774771632982, 181.1681702883174, 144.9889871904345, 92.66411808398789, 77.92255328083121, 96.52726486179714, 107.95044594732461, 82.71883385924245, 91.24739014286891, 90.57001798238535, 77.08319452389975, 81.63123962017634, 448.6471830646717, 39.59458351845203, 37.81562607312461, 34.088045268578824, 33.822073278845615, 43.78642182391643, 33.56316105588341, 73.34480843588898, 28.79005087926991, 33.64839183986705, 43.17532756068188, 40.90089050982815, 43.31331100824202, 25.019270582164552, 59.16499145760158, 83.92791773046169, 24.787607515529196, 23.54771768164934, 22.406369205966687, 29.714236352069644, 21.16175866863724, 26.7614257001482, 21.521019103033552, 30.087456656982617, 18.257734384637494, 17.436784362980333, 17.82469632727617, 16.92543824430961, 16.666676370696283, 27.505670943375552, 201.0253925656571, 20.83588776441779, 42.440928204017936, 33.700247729451156, 32.38313687335951, 54.584072986705856, 177.55772726386917, 40.64243864858905, 132.85467735035303, 125.3923575156248, 43.91229216995315, 40.48403430008631, 39.46017918371021, 66.20011157959553, 133.54052584205766, 120.69598671109661, 589.686261604011, 51.11893295798256, 64.64136403988483, 108.7780892024753, 44.16617234656632, 85.8854715748981, 86.4827017654312, 114.71265741281461, 110.30089127307828, 74.13680090684802, 48.594463609426654, 75.1002767891366, 77.23402942625131, 51.8416103875352, 103.37584816286325, 80.48262913789057, 92.96325365726628, 77.47756876092248, 66.84297346277441, 66.08416961268532, 75.83763789492083, 74.53777862871854, 65.21483105014462, 66.3392791945937, 65.26601901607268], \"Total\": [1140.0, 766.0, 457.0, 989.0, 3217.0, 523.0, 541.0, 864.0, 445.0, 1171.0, 336.0, 635.0, 579.0, 825.0, 739.0, 309.0, 276.0, 856.0, 336.0, 612.0, 422.0, 1649.0, 671.0, 222.0, 1137.0, 1339.0, 308.0, 1157.0, 207.0, 324.0, 65.15400349383543, 63.20161979982114, 54.036166681654976, 42.71354137450273, 41.23385948848298, 40.72721483091756, 37.71965133060021, 35.267169028646585, 98.34031199086482, 32.41948278620723, 39.21959165206651, 31.17550959145149, 32.366487705028625, 29.128725022680168, 29.007696851633543, 44.61501254114768, 38.77350949537171, 29.851951865348763, 51.74980711960887, 24.94962966189024, 24.786418745479555, 181.5980591664053, 38.8378182578795, 110.69906272796212, 27.01365702139752, 23.538092501076658, 26.421325150197895, 44.83672283918782, 23.26161828286666, 23.142971144020397, 52.031832258460604, 40.57111758300124, 48.5220370982974, 114.91455899402561, 40.277397302860294, 88.92946963584127, 30.154085489584048, 47.96800312251455, 52.77305322080175, 55.07256997730502, 99.11727860044915, 114.75034565510819, 65.72855506465969, 160.6923556019648, 107.74450534191608, 219.676887518168, 197.43591066346409, 96.29753789189262, 248.7117462485641, 281.25247527646934, 177.79328581530174, 128.68813171006045, 135.88672074645433, 338.72522228039526, 195.29044521576282, 121.60933835952939, 626.450430485572, 289.2182662500949, 114.13578739553691, 99.56510437789919, 155.81115552247792, 571.859649158031, 483.7990739603222, 290.1149969491571, 187.2477685069063, 1361.569344672971, 202.2334772266096, 259.69215808789244, 215.53447868097516, 866.5859418055171, 576.8796495318813, 463.98952860665116, 1257.492732624522, 1713.1682631762665, 290.4819512552165, 3217.675190035743, 909.527324201028, 635.6802507680748, 856.2964652906991, 1157.863964802967, 69.82918236904749, 64.67436638239488, 59.95300117374892, 50.21269399447576, 49.31732752593115, 48.864004034145374, 47.91810189743162, 45.46354746175219, 102.6388244571998, 39.000951978138836, 38.76750325848118, 35.31929778379385, 34.80883274919715, 34.394364588497155, 35.214917433594636, 30.119755520441338, 29.889682738036814, 33.161326688092366, 28.697394829160544, 28.56984561024516, 29.753498511765716, 27.737163776521747, 25.99319767858234, 25.600436210624455, 33.33523762358514, 24.642609769312266, 53.13534187714018, 24.069750464463173, 25.19561144868872, 23.4629956383412, 47.47922847143334, 45.94359986678089, 97.72465361083951, 45.7722853665504, 83.7000357843145, 51.60611276620062, 228.17484647656588, 46.310887538310496, 98.60619549849027, 105.61037743274407, 100.41821117517456, 77.43533204661045, 56.042046175354784, 63.30953114408852, 117.35859770556192, 148.47401769671137, 126.98216607812557, 101.16599001783517, 406.9412027602681, 255.90073158970353, 648.0107626646336, 88.76346448905609, 1500.0411523445518, 89.18593929329607, 149.5070722235165, 110.12997126252216, 160.13178978742283, 1713.1682631762665, 975.2182084205591, 519.8551449416373, 196.67343457543606, 869.3634792590178, 986.8659057017263, 3217.675190035743, 427.91491795565906, 334.1337494049672, 909.527324201028, 989.6223637812828, 739.179043129585, 866.5859418055171, 950.7203163957302, 1649.37074876939, 422.3893828528436, 566.1125254566076, 1071.1025193606865, 572.7067198419627, 107.21812648541064, 71.50021147932063, 53.16764280980573, 49.4765883904533, 60.341617769017994, 53.200827336191594, 79.2518241812269, 42.612162409169535, 39.77514261017791, 53.45491303066446, 37.240107535299266, 110.67326420446085, 32.028398936647086, 26.67701821785339, 36.64150447597405, 23.795830476242863, 23.62996640122097, 27.96347400431738, 23.429802447088466, 22.15672574718926, 22.119856197129188, 21.98059926995649, 21.833554413575726, 21.690584642299644, 20.988581878342746, 21.957502163603294, 22.43350063181081, 21.37590514190886, 41.915906112392584, 19.511727223168506, 135.9737708096811, 177.86935172796612, 1140.1273314428379, 131.58192778544944, 72.62574736526632, 79.25484822560193, 55.87835225159317, 41.374252772819545, 172.60509850678685, 25.7872016578286, 39.32413337615178, 102.60519576580523, 94.68373368753946, 65.66388786854459, 1171.8357670066011, 70.11888761308435, 52.87341183965477, 139.9271938030397, 60.36543370094933, 745.800148234713, 324.2851364814417, 576.8796495318813, 1339.9465042021372, 95.58491787424478, 839.2829396645074, 104.40035379887586, 463.98952860665116, 777.3958705993339, 591.3771467748451, 270.96560431439343, 825.8068826433948, 535.6271877114206, 1137.6499631902457, 629.7886306602912, 366.92264202209014, 759.6557063530848, 1713.1682631762665, 3217.675190035743, 351.2760803529899, 864.4989751324196, 519.8551449416373, 975.2182084205591, 1361.569344672971, 94.87959058328508, 117.73182667472751, 77.7726438930241, 43.92027142358465, 40.14719405537781, 39.960734081050184, 38.76459508560515, 37.63263454613722, 207.66469857654403, 35.62562916842825, 35.06392012364785, 36.1760920256268, 32.25321396191876, 52.49015287486805, 34.2715710277382, 29.212785105081604, 28.00015171746469, 30.60716078066022, 26.692014654570826, 43.72222530825742, 48.603320190827674, 25.565234219951392, 40.34557675732278, 29.08741933081923, 24.907049591728693, 24.848066472176207, 24.500538730870066, 24.56046592953972, 23.4722985182258, 23.27476541832181, 336.51145695425294, 55.460804714047825, 74.70488433252902, 44.794294105377546, 40.966293808699646, 79.61683402897084, 163.2222258567534, 50.16982006138814, 62.66373417464332, 263.6705008833404, 422.3893828528436, 739.179043129585, 825.8068826433948, 57.49158942028723, 1157.863964802967, 1137.6499631902457, 65.70612036331043, 1649.37074876939, 99.21666174271644, 218.99800029089968, 119.06988636961441, 160.81015618392559, 856.2964652906991, 244.71727896472072, 413.37179968298426, 866.5859418055171, 788.6773768445197, 766.4141673926495, 403.4191532932084, 374.1959145233325, 636.6861073018796, 975.2182084205591, 3217.675190035743, 1361.569344672971, 869.3634792590178, 1713.1682631762665, 1084.7913770482917, 566.1125254566076, 1339.9465042021372, 626.450430485572, 58.88177810467179, 49.45016748657458, 56.6374068094795, 44.433373771368316, 47.608350268895954, 34.33203495392109, 92.9798696292833, 43.04022060067165, 31.718114932311487, 31.489053728191525, 73.31979184918174, 34.7484453498667, 29.950722805475934, 28.849020489764207, 29.925736529628605, 27.072146753382842, 26.98306927406868, 26.374651498842674, 25.613665694524645, 26.525830483475133, 27.086368140210492, 24.784732752332456, 28.050879587048353, 43.66714972141775, 26.919347427108217, 26.126271190197265, 71.40300215430248, 26.88791303405703, 21.265972632974943, 25.903318245246048, 99.23214873986531, 125.2889075139902, 63.068655144141815, 76.16050143071759, 47.34810210911934, 34.829237512778015, 445.56050470713694, 55.8035527145974, 43.61439434646151, 98.4674952453033, 118.58758910413063, 48.9894079690888, 142.20554097289565, 170.92179300199146, 441.83968925965127, 210.68563073412042, 116.72013570764712, 80.47144342080296, 290.1149969491571, 487.3305553035073, 165.7227444755666, 485.3598238959444, 3217.675190035743, 678.4949105175114, 131.9328310142906, 215.43940558723432, 486.6157250794316, 226.88658713751687, 1361.569344672971, 223.66988797954815, 1649.37074876939, 1500.0411523445518, 291.99974698434164, 1713.1682631762665, 572.7067198419627, 1137.6499631902457, 566.1125254566076, 864.1728157729126, 989.6223637812828, 869.3634792590178, 788.6773768445197, 109.47975820626004, 66.76413738048275, 45.32525561642996, 42.97285541511098, 42.14844827758481, 49.98102206213321, 38.96046139258801, 38.523902684320035, 58.712145105077454, 36.93347942864572, 38.78861454071855, 41.11602727954426, 35.36624652720103, 49.259583478691766, 32.14735562736369, 40.4227972477774, 36.99215821203043, 31.150024707986233, 33.94402328894726, 29.723439577706127, 27.04789364031349, 27.17821530999277, 91.28705332683143, 27.71831690424048, 37.546710889426706, 24.44772797259274, 52.632488065397126, 23.30683292683811, 23.26091751205506, 25.350784911622213, 29.666033255984207, 65.06130118514994, 64.60194927408475, 32.485181711157985, 50.667572505403975, 55.57580111369311, 84.4457634766112, 41.65390878459653, 87.74225184918289, 222.52382401019196, 135.66597831621175, 612.1353849246965, 90.74308861406242, 98.50779941433818, 236.46170213282792, 366.92264202209014, 58.40034130281705, 81.42664746756995, 196.9026714795576, 72.11249061109582, 120.98505008552249, 986.8659057017263, 197.39458845124338, 112.15297013035945, 152.16857550535548, 614.0647278927344, 186.7607511187917, 521.2831266586156, 535.6271877114206, 374.1959145233325, 186.22764760988116, 1257.492732624522, 1713.1682631762665, 486.6157250794316, 260.91036338613526, 909.527324201028, 1071.1025193606865, 678.4949105175114, 1084.7913770482917, 950.7203163957302, 1137.6499631902457, 1171.8357670066011, 975.2182084205591, 864.1728157729126, 71.00374320292046, 74.18844504581735, 56.07078972791411, 59.883242659209685, 121.11075080992963, 60.69174043031364, 41.252064042225875, 41.042250778538154, 42.42178517076201, 29.905379435063985, 32.38408317752893, 27.422513034986988, 25.309646381460958, 48.0787428706064, 24.38513497945574, 26.124226998898536, 23.609120199937973, 23.29456660338424, 23.07236749504548, 23.040154726582735, 22.503977061830447, 21.95966494633026, 23.52261245757655, 21.722019267689102, 34.958623080573574, 20.633588434105715, 20.3418698829883, 20.249484936166592, 20.972598951875824, 20.86873850695221, 23.786185263372772, 112.65151046750567, 51.40232331850116, 99.6819784488448, 42.28789527359949, 336.3944648295772, 52.600460538617014, 32.50630522537061, 143.40351200680223, 37.63450737978602, 31.494244674129252, 224.55148992574328, 82.02807629030406, 39.07445519453349, 308.8189500718965, 96.15121807870474, 52.660174839185196, 118.7634073683167, 114.15948658918722, 42.09020644717589, 67.33602000393661, 90.22155501106356, 167.8574020103108, 98.02284533528893, 81.69589060499541, 194.00129383836034, 148.66806476984684, 90.24411012238856, 3217.675190035743, 1171.8357670066011, 1500.0411523445518, 614.0647278927344, 975.2182084205591, 223.98853718782033, 1649.37074876939, 1713.1682631762665, 591.3771467748451, 1071.1025193606865, 1157.863964802967, 482.38684932391027, 1361.569344672971, 447.57910194837825, 909.527324201028, 866.5859418055171, 1257.492732624522, 671.9171106794255, 788.6773768445197, 1084.7913770482917, 483.7990739603222, 101.87633331041935, 55.83726999770971, 48.92876941527163, 57.05695843403853, 48.31527953681856, 37.05659628614846, 62.81612408884037, 26.892964787457384, 26.38779918578533, 24.60976646792137, 24.032356305383804, 23.88821926556913, 48.0412382285273, 26.310770645496202, 24.02651362713291, 22.713217619405622, 21.94376345509211, 25.148642108609625, 21.121018456596428, 21.53643159273154, 20.917020278306076, 19.024393276434758, 18.902898558246275, 18.85784279866225, 31.526167155199534, 18.829700848222203, 22.046389317615223, 21.573228744953564, 17.533250786563052, 35.60966358116183, 23.159488721210725, 309.6332004249807, 523.0607990840213, 35.41126688490291, 40.210790701514405, 541.4514303169561, 129.01111468123682, 989.6223637812828, 36.55443189902344, 864.4989751324196, 75.02704881206891, 69.94589506890392, 671.9171106794255, 864.1728157729126, 35.228656668908926, 150.52654880966136, 51.82465461060569, 89.78385432942899, 90.38124042625076, 161.56927668143928, 636.6861073018796, 535.1324232705401, 869.3634792590178, 242.5026880268065, 1257.492732624522, 519.8551449416373, 255.67268223513614, 648.0107626646336, 1084.7913770482917, 777.3958705993339, 1649.37074876939, 1171.8357670066011, 1713.1682631762665, 565.5098299148851, 485.3598238959444, 428.52190271099437, 1500.0411523445518, 1071.1025193606865, 678.4949105175114, 3217.675190035743, 1339.9465042021372, 66.95324503654798, 99.20075086692849, 57.99552528578876, 45.543226430043944, 47.58829174416252, 43.545563201465896, 40.29990206270341, 38.38111579934608, 37.51867841050193, 36.64153380600266, 35.99437164968601, 35.75074187773454, 34.8308968688047, 34.719158321156165, 34.47758195054331, 35.100568596494945, 33.397666817044176, 44.88095368304652, 53.388242637605934, 29.615625263888592, 38.41750443448922, 39.8280700158998, 27.373007572355228, 26.440873550953782, 26.324561518499255, 26.103990151238165, 26.089488195549336, 25.943847065535824, 25.67184167589317, 27.276347253812425, 31.146886928386674, 36.53340510424045, 276.527361039399, 135.2858178871963, 42.652437940012064, 35.33294470972676, 766.4141673926495, 38.98717246821726, 165.17082360127918, 208.43796644092333, 55.07067375331864, 72.78363516083272, 200.76813128280165, 121.68126534555229, 117.94187390976354, 160.0786958469366, 112.69579100203583, 83.33434732971453, 56.16889471286823, 81.40356927810996, 1339.9465042021372, 3217.675190035743, 213.64239698808035, 909.527324201028, 302.82003552997264, 986.8659057017263, 950.7203163957302, 1084.7913770482917, 168.53155230070988, 260.64574108492883, 612.1353849246965, 1500.0411523445518, 154.38831793467307, 1649.37074876939, 1137.6499631902457, 759.6557063530848, 1157.863964802967, 453.17980211455915, 149.4498455000799, 73.53209438663548, 150.6141506148519, 39.43038866914919, 45.98042318368359, 37.128707073625186, 52.96093432499246, 36.83407316053186, 35.00101974931015, 30.33741779104952, 41.94903975249861, 25.660860496764478, 49.67812614628838, 22.82615670252918, 22.652512447171073, 76.92225668518083, 34.63360627109592, 22.578266173768004, 25.226438401019028, 20.98712176725905, 20.171718899313774, 22.503887559361527, 19.522906752065573, 41.70068986911909, 21.76103943014255, 20.9455345202114, 18.56366521293003, 18.59250196795504, 17.61671608164316, 17.72081279056024, 41.183278395732195, 46.58402970643041, 70.42575878413675, 76.32489677914835, 84.3148086116623, 44.09643367282747, 43.925559427370246, 53.11173589886771, 94.95050496522683, 151.59207015086767, 31.635526807908718, 128.52599532501344, 37.595374958762484, 324.5290726101831, 161.77516633939638, 579.1967010176419, 121.3227748494128, 203.25596190596542, 146.51980660213337, 92.04279674323973, 186.8976099939273, 93.40914513842674, 244.2526757301087, 68.48059892462254, 177.26223202973978, 200.70585157962833, 146.94126556897618, 98.70429212210826, 187.50481088713013, 3217.675190035743, 1071.1025193606865, 1257.492732624522, 150.96739154485937, 125.97495159611695, 1361.569344672971, 338.86520896882575, 1157.863964802967, 1137.6499631902457, 1713.1682631762665, 1084.7913770482917, 1500.0411523445518, 909.527324201028, 989.6223637812828, 447.57910194837825, 122.83802040134925, 59.06796287133889, 53.34862012779646, 92.32013015568047, 52.35252594065157, 41.64811642683405, 51.15117356897995, 38.26399675743014, 83.34910249091848, 168.58940131907875, 37.133874439722526, 41.16904393074522, 58.00006369566251, 41.805685406657894, 37.91452516524488, 34.70121018085428, 39.556636927230414, 30.72956945686136, 31.816985932685366, 32.52298784620289, 27.86635314464117, 27.374625555532976, 66.47685593101903, 25.559739713769904, 25.047493061956757, 26.914621112905316, 104.96631966687147, 23.300580945550582, 22.96545872689758, 22.79410162368362, 65.64088003529892, 78.30050372693695, 27.22000374733835, 33.61655781636028, 65.00228809839275, 57.312878510460884, 51.510027790279246, 151.37808887590512, 46.149457555008055, 143.38397643475517, 635.6802507680748, 118.57118934604222, 215.33385574892725, 856.2964652906991, 173.60172319945684, 759.6557063530848, 950.7203163957302, 193.32324360219948, 180.6778605366515, 104.02903269666969, 338.320087668557, 1339.9465042021372, 1649.37074876939, 3217.675190035743, 1713.1682631762665, 474.24664999404473, 254.98930407150712, 614.0647278927344, 975.2182084205591, 428.52190271099437, 839.2829396645074, 1500.0411523445518, 1257.492732624522, 82.88794075318665, 457.4831504031238, 40.67328898343815, 38.88574690452921, 35.15817424484907, 34.892191199826605, 45.18204031360069, 34.63328303723783, 75.96656012570527, 29.860199051148108, 34.909505007356735, 44.856079730499225, 42.58071692327865, 45.14386570592969, 26.089428162027648, 61.71123954352151, 87.5949248918577, 25.900684362267256, 24.617851982020873, 23.48271264938714, 31.166742757794477, 22.253365509771026, 28.155000339361578, 22.69633188998506, 31.767391475638526, 19.327873173605717, 18.50692829750816, 18.968707034114413, 18.041610217735123, 17.81127355584316, 29.429310551372062, 222.89071477311722, 22.281228125641405, 47.005741720800415, 37.12250081300257, 36.10168582402842, 67.4490726269351, 271.43977981854744, 48.707901602705554, 214.95807814852174, 209.7193979693464, 56.377516796295595, 51.08874872374204, 49.57069173945225, 106.13418304559389, 302.82003552997264, 260.64574108492883, 3217.675190035743, 80.92017110696777, 141.4405601304748, 453.17980211455915, 64.05872825007445, 338.86520896882575, 354.0654822257044, 866.5859418055171, 909.527324201028, 298.3708623830987, 84.44612389122244, 338.72522228039526, 404.9673112538291, 103.6713416429159, 1339.9465042021372, 571.859649158031, 1071.1025193606865, 579.1967010176419, 317.6233851064423, 330.2813279316006, 1084.7913770482917, 986.8659057017263, 565.5098299148851, 1137.6499631902457, 1257.492732624522], \"Category\": [\"Default\", \"Default\", \"Default\", \"Default\", \"Default\", \"Default\", \"Default\", \"Default\", \"Default\", \"Default\", \"Default\", \"Default\", \"Default\", \"Default\", \"Default\", \"Default\", \"Default\", \"Default\", \"Default\", \"Default\", \"Default\", \"Default\", \"Default\", \"Default\", \"Default\", \"Default\", \"Default\", \"Default\", \"Default\", \"Default\", \"Topic1\", \"Topic1\", \"Topic1\", \"Topic1\", \"Topic1\", \"Topic1\", \"Topic1\", \"Topic1\", \"Topic1\", \"Topic1\", \"Topic1\", \"Topic1\", \"Topic1\", \"Topic1\", \"Topic1\", \"Topic1\", \"Topic1\", \"Topic1\", \"Topic1\", \"Topic1\", \"Topic1\", \"Topic1\", \"Topic1\", \"Topic1\", \"Topic1\", \"Topic1\", \"Topic1\", \"Topic1\", \"Topic1\", \"Topic1\", \"Topic1\", \"Topic1\", \"Topic1\", \"Topic1\", \"Topic1\", \"Topic1\", \"Topic1\", \"Topic1\", \"Topic1\", \"Topic1\", \"Topic1\", \"Topic1\", \"Topic1\", \"Topic1\", \"Topic1\", \"Topic1\", \"Topic1\", \"Topic1\", \"Topic1\", \"Topic1\", \"Topic1\", \"Topic1\", \"Topic1\", \"Topic1\", \"Topic1\", \"Topic1\", \"Topic1\", \"Topic1\", \"Topic1\", \"Topic1\", \"Topic1\", \"Topic1\", \"Topic1\", \"Topic1\", \"Topic1\", \"Topic1\", \"Topic1\", \"Topic1\", \"Topic1\", \"Topic1\", \"Topic1\", \"Topic1\", \"Topic1\", \"Topic1\", \"Topic1\", \"Topic1\", \"Topic1\", \"Topic1\", \"Topic1\", \"Topic1\", \"Topic2\", \"Topic2\", \"Topic2\", \"Topic2\", \"Topic2\", \"Topic2\", \"Topic2\", \"Topic2\", \"Topic2\", \"Topic2\", \"Topic2\", \"Topic2\", \"Topic2\", \"Topic2\", \"Topic2\", \"Topic2\", \"Topic2\", \"Topic2\", \"Topic2\", \"Topic2\", \"Topic2\", \"Topic2\", \"Topic2\", \"Topic2\", \"Topic2\", \"Topic2\", \"Topic2\", \"Topic2\", \"Topic2\", \"Topic2\", \"Topic2\", \"Topic2\", \"Topic2\", \"Topic2\", \"Topic2\", \"Topic2\", \"Topic2\", \"Topic2\", \"Topic2\", \"Topic2\", \"Topic2\", \"Topic2\", \"Topic2\", \"Topic2\", \"Topic2\", \"Topic2\", \"Topic2\", \"Topic2\", \"Topic2\", \"Topic2\", \"Topic2\", \"Topic2\", \"Topic2\", \"Topic2\", \"Topic2\", \"Topic2\", \"Topic2\", \"Topic2\", \"Topic2\", \"Topic2\", \"Topic2\", \"Topic2\", \"Topic2\", \"Topic2\", \"Topic2\", \"Topic2\", \"Topic2\", \"Topic2\", \"Topic2\", \"Topic2\", \"Topic2\", \"Topic2\", \"Topic2\", \"Topic2\", \"Topic2\", \"Topic2\", \"Topic3\", \"Topic3\", \"Topic3\", \"Topic3\", \"Topic3\", \"Topic3\", \"Topic3\", \"Topic3\", \"Topic3\", \"Topic3\", \"Topic3\", \"Topic3\", \"Topic3\", \"Topic3\", \"Topic3\", \"Topic3\", \"Topic3\", \"Topic3\", \"Topic3\", \"Topic3\", \"Topic3\", \"Topic3\", \"Topic3\", \"Topic3\", \"Topic3\", \"Topic3\", \"Topic3\", \"Topic3\", \"Topic3\", \"Topic3\", \"Topic3\", \"Topic3\", \"Topic3\", \"Topic3\", \"Topic3\", \"Topic3\", \"Topic3\", \"Topic3\", \"Topic3\", \"Topic3\", \"Topic3\", \"Topic3\", \"Topic3\", \"Topic3\", \"Topic3\", \"Topic3\", \"Topic3\", \"Topic3\", \"Topic3\", \"Topic3\", \"Topic3\", \"Topic3\", \"Topic3\", \"Topic3\", \"Topic3\", \"Topic3\", \"Topic3\", \"Topic3\", \"Topic3\", \"Topic3\", \"Topic3\", \"Topic3\", \"Topic3\", \"Topic3\", \"Topic3\", \"Topic3\", \"Topic3\", \"Topic3\", \"Topic3\", \"Topic3\", \"Topic3\", \"Topic3\", \"Topic3\", \"Topic4\", \"Topic4\", \"Topic4\", \"Topic4\", \"Topic4\", \"Topic4\", \"Topic4\", \"Topic4\", \"Topic4\", \"Topic4\", \"Topic4\", \"Topic4\", \"Topic4\", \"Topic4\", \"Topic4\", \"Topic4\", \"Topic4\", \"Topic4\", \"Topic4\", \"Topic4\", \"Topic4\", \"Topic4\", \"Topic4\", \"Topic4\", \"Topic4\", \"Topic4\", \"Topic4\", \"Topic4\", \"Topic4\", \"Topic4\", \"Topic4\", \"Topic4\", \"Topic4\", \"Topic4\", \"Topic4\", \"Topic4\", \"Topic4\", \"Topic4\", \"Topic4\", \"Topic4\", \"Topic4\", \"Topic4\", \"Topic4\", \"Topic4\", \"Topic4\", \"Topic4\", \"Topic4\", \"Topic4\", \"Topic4\", \"Topic4\", \"Topic4\", \"Topic4\", \"Topic4\", \"Topic4\", \"Topic4\", \"Topic4\", \"Topic4\", \"Topic4\", \"Topic4\", \"Topic4\", \"Topic4\", \"Topic4\", \"Topic4\", \"Topic4\", \"Topic4\", \"Topic4\", \"Topic4\", \"Topic4\", \"Topic4\", \"Topic4\", \"Topic5\", \"Topic5\", \"Topic5\", \"Topic5\", \"Topic5\", \"Topic5\", \"Topic5\", \"Topic5\", \"Topic5\", \"Topic5\", \"Topic5\", \"Topic5\", \"Topic5\", \"Topic5\", \"Topic5\", \"Topic5\", \"Topic5\", \"Topic5\", \"Topic5\", \"Topic5\", \"Topic5\", \"Topic5\", \"Topic5\", \"Topic5\", \"Topic5\", \"Topic5\", \"Topic5\", \"Topic5\", \"Topic5\", \"Topic5\", \"Topic5\", \"Topic5\", \"Topic5\", \"Topic5\", \"Topic5\", \"Topic5\", \"Topic5\", \"Topic5\", \"Topic5\", \"Topic5\", \"Topic5\", \"Topic5\", \"Topic5\", \"Topic5\", \"Topic5\", \"Topic5\", \"Topic5\", \"Topic5\", \"Topic5\", \"Topic5\", \"Topic5\", \"Topic5\", \"Topic5\", \"Topic5\", \"Topic5\", \"Topic5\", \"Topic5\", \"Topic5\", \"Topic5\", \"Topic5\", \"Topic5\", \"Topic5\", \"Topic5\", \"Topic5\", \"Topic5\", \"Topic5\", \"Topic5\", \"Topic5\", \"Topic5\", \"Topic5\", \"Topic5\", \"Topic6\", \"Topic6\", \"Topic6\", \"Topic6\", \"Topic6\", \"Topic6\", \"Topic6\", \"Topic6\", \"Topic6\", \"Topic6\", \"Topic6\", \"Topic6\", \"Topic6\", \"Topic6\", \"Topic6\", \"Topic6\", \"Topic6\", \"Topic6\", \"Topic6\", \"Topic6\", \"Topic6\", \"Topic6\", \"Topic6\", \"Topic6\", \"Topic6\", \"Topic6\", \"Topic6\", \"Topic6\", \"Topic6\", \"Topic6\", \"Topic6\", \"Topic6\", \"Topic6\", \"Topic6\", \"Topic6\", \"Topic6\", \"Topic6\", \"Topic6\", \"Topic6\", \"Topic6\", \"Topic6\", \"Topic6\", \"Topic6\", \"Topic6\", \"Topic6\", \"Topic6\", \"Topic6\", \"Topic6\", \"Topic6\", \"Topic6\", \"Topic6\", \"Topic6\", \"Topic6\", \"Topic6\", \"Topic6\", \"Topic6\", \"Topic6\", \"Topic6\", \"Topic6\", \"Topic6\", \"Topic6\", \"Topic6\", \"Topic6\", \"Topic6\", \"Topic6\", \"Topic6\", \"Topic6\", \"Topic6\", \"Topic6\", \"Topic6\", \"Topic6\", \"Topic6\", \"Topic6\", \"Topic6\", \"Topic7\", \"Topic7\", \"Topic7\", \"Topic7\", \"Topic7\", \"Topic7\", \"Topic7\", \"Topic7\", \"Topic7\", \"Topic7\", \"Topic7\", \"Topic7\", \"Topic7\", \"Topic7\", \"Topic7\", \"Topic7\", \"Topic7\", \"Topic7\", \"Topic7\", \"Topic7\", \"Topic7\", \"Topic7\", \"Topic7\", \"Topic7\", \"Topic7\", \"Topic7\", \"Topic7\", \"Topic7\", \"Topic7\", \"Topic7\", \"Topic7\", \"Topic7\", \"Topic7\", \"Topic7\", \"Topic7\", \"Topic7\", \"Topic7\", \"Topic7\", \"Topic7\", \"Topic7\", \"Topic7\", \"Topic7\", \"Topic7\", \"Topic7\", \"Topic7\", \"Topic7\", \"Topic7\", \"Topic7\", \"Topic7\", \"Topic7\", \"Topic7\", \"Topic7\", \"Topic7\", \"Topic7\", \"Topic7\", \"Topic7\", \"Topic7\", \"Topic7\", \"Topic7\", \"Topic7\", \"Topic7\", \"Topic7\", \"Topic7\", \"Topic7\", \"Topic7\", \"Topic7\", \"Topic7\", \"Topic7\", \"Topic7\", \"Topic7\", \"Topic7\", \"Topic7\", \"Topic7\", \"Topic7\", \"Topic7\", \"Topic7\", \"Topic7\", \"Topic7\", \"Topic7\", \"Topic8\", \"Topic8\", \"Topic8\", \"Topic8\", \"Topic8\", \"Topic8\", \"Topic8\", \"Topic8\", \"Topic8\", \"Topic8\", \"Topic8\", \"Topic8\", \"Topic8\", \"Topic8\", \"Topic8\", \"Topic8\", \"Topic8\", \"Topic8\", \"Topic8\", \"Topic8\", \"Topic8\", \"Topic8\", \"Topic8\", \"Topic8\", \"Topic8\", \"Topic8\", \"Topic8\", \"Topic8\", \"Topic8\", \"Topic8\", \"Topic8\", \"Topic8\", \"Topic8\", \"Topic8\", \"Topic8\", \"Topic8\", \"Topic8\", \"Topic8\", \"Topic8\", \"Topic8\", \"Topic8\", \"Topic8\", \"Topic8\", \"Topic8\", \"Topic8\", \"Topic8\", \"Topic8\", \"Topic8\", \"Topic8\", \"Topic8\", \"Topic8\", \"Topic8\", \"Topic8\", \"Topic8\", \"Topic8\", \"Topic8\", \"Topic8\", \"Topic8\", \"Topic8\", \"Topic8\", \"Topic8\", \"Topic8\", \"Topic8\", \"Topic8\", \"Topic8\", \"Topic8\", \"Topic8\", \"Topic8\", \"Topic8\", \"Topic8\", \"Topic8\", \"Topic9\", \"Topic9\", \"Topic9\", \"Topic9\", \"Topic9\", \"Topic9\", \"Topic9\", \"Topic9\", \"Topic9\", \"Topic9\", \"Topic9\", \"Topic9\", \"Topic9\", \"Topic9\", \"Topic9\", \"Topic9\", \"Topic9\", \"Topic9\", \"Topic9\", \"Topic9\", \"Topic9\", \"Topic9\", \"Topic9\", \"Topic9\", \"Topic9\", \"Topic9\", \"Topic9\", \"Topic9\", \"Topic9\", \"Topic9\", \"Topic9\", \"Topic9\", \"Topic9\", \"Topic9\", \"Topic9\", \"Topic9\", \"Topic9\", \"Topic9\", \"Topic9\", \"Topic9\", \"Topic9\", \"Topic9\", \"Topic9\", \"Topic9\", \"Topic9\", \"Topic9\", \"Topic9\", \"Topic9\", \"Topic9\", \"Topic9\", \"Topic9\", \"Topic9\", \"Topic9\", \"Topic9\", \"Topic9\", \"Topic9\", \"Topic9\", \"Topic9\", \"Topic9\", \"Topic9\", \"Topic9\", \"Topic9\", \"Topic9\", \"Topic9\", \"Topic9\", \"Topic9\", \"Topic9\", \"Topic9\", \"Topic10\", \"Topic10\", \"Topic10\", \"Topic10\", \"Topic10\", \"Topic10\", \"Topic10\", \"Topic10\", \"Topic10\", \"Topic10\", \"Topic10\", \"Topic10\", \"Topic10\", \"Topic10\", \"Topic10\", \"Topic10\", \"Topic10\", \"Topic10\", \"Topic10\", \"Topic10\", \"Topic10\", \"Topic10\", \"Topic10\", \"Topic10\", \"Topic10\", \"Topic10\", \"Topic10\", \"Topic10\", \"Topic10\", \"Topic10\", \"Topic10\", \"Topic10\", \"Topic10\", \"Topic10\", \"Topic10\", \"Topic10\", \"Topic10\", \"Topic10\", \"Topic10\", \"Topic10\", \"Topic10\", \"Topic10\", \"Topic10\", \"Topic10\", \"Topic10\", \"Topic10\", \"Topic10\", \"Topic10\", \"Topic10\", \"Topic10\", \"Topic10\", \"Topic10\", \"Topic10\", \"Topic10\", \"Topic10\", \"Topic10\", \"Topic10\", \"Topic10\", \"Topic10\", \"Topic10\", \"Topic10\", \"Topic10\", \"Topic10\", \"Topic10\", \"Topic10\", \"Topic10\", \"Topic10\", \"Topic10\", \"Topic10\", \"Topic10\", \"Topic10\", \"Topic10\", \"Topic10\", \"Topic10\", \"Topic11\", \"Topic11\", \"Topic11\", \"Topic11\", \"Topic11\", \"Topic11\", \"Topic11\", \"Topic11\", \"Topic11\", \"Topic11\", \"Topic11\", \"Topic11\", \"Topic11\", \"Topic11\", \"Topic11\", \"Topic11\", \"Topic11\", \"Topic11\", \"Topic11\", \"Topic11\", \"Topic11\", \"Topic11\", \"Topic11\", \"Topic11\", \"Topic11\", \"Topic11\", \"Topic11\", \"Topic11\", \"Topic11\", \"Topic11\", \"Topic11\", \"Topic11\", \"Topic11\", \"Topic11\", \"Topic11\", \"Topic11\", \"Topic11\", \"Topic11\", \"Topic11\", \"Topic11\", \"Topic11\", \"Topic11\", \"Topic11\", \"Topic11\", \"Topic11\", \"Topic11\", \"Topic11\", \"Topic11\", \"Topic11\", \"Topic11\", \"Topic11\", \"Topic11\", \"Topic11\", \"Topic11\", \"Topic11\", \"Topic11\", \"Topic11\", \"Topic11\", \"Topic11\", \"Topic11\", \"Topic11\", \"Topic11\", \"Topic11\", \"Topic12\", \"Topic12\", \"Topic12\", \"Topic12\", \"Topic12\", \"Topic12\", \"Topic12\", \"Topic12\", \"Topic12\", \"Topic12\", \"Topic12\", \"Topic12\", \"Topic12\", \"Topic12\", \"Topic12\", \"Topic12\", \"Topic12\", \"Topic12\", \"Topic12\", \"Topic12\", \"Topic12\", \"Topic12\", \"Topic12\", \"Topic12\", \"Topic12\", \"Topic12\", \"Topic12\", \"Topic12\", \"Topic12\", \"Topic12\", \"Topic12\", \"Topic12\", \"Topic12\", \"Topic12\", \"Topic12\", \"Topic12\", \"Topic12\", \"Topic12\", \"Topic12\", \"Topic12\", \"Topic12\", \"Topic12\", \"Topic12\", \"Topic12\", \"Topic12\", \"Topic12\", \"Topic12\", \"Topic12\", \"Topic12\", \"Topic12\", \"Topic12\", \"Topic12\", \"Topic12\", \"Topic12\", \"Topic12\", \"Topic12\", \"Topic12\", \"Topic12\", \"Topic12\", \"Topic12\", \"Topic12\", \"Topic12\", \"Topic12\", \"Topic12\", \"Topic12\", \"Topic12\", \"Topic12\", \"Topic12\", \"Topic12\", \"Topic12\", \"Topic12\", \"Topic12\"], \"logprob\": [30.0, 29.0, 28.0, 27.0, 26.0, 25.0, 24.0, 23.0, 22.0, 21.0, 20.0, 19.0, 18.0, 17.0, 16.0, 15.0, 14.0, 13.0, 12.0, 11.0, 10.0, 9.0, 8.0, 7.0, 6.0, 5.0, 4.0, 3.0, 2.0, 1.0, -5.7692999839782715, -5.800899982452393, -5.960400104522705, -6.200500011444092, -6.236100196838379, -6.248799800872803, -6.327700138092041, -6.396900177001953, -5.372799873352051, -6.483799934387207, -6.294600009918213, -6.5243000984191895, -6.488500118255615, -6.594699859619141, -6.598999977111816, -6.170199871063232, -6.311699867248535, -6.575399875640869, -6.025400161743164, -6.755899906158447, -6.762700080871582, -4.771900177001953, -6.314700126647949, -5.267300128936768, -6.678699970245361, -6.816800117492676, -6.701300144195557, -6.172800064086914, -6.829100131988525, -6.834499835968018, -6.024400234222412, -6.2754998207092285, -6.103099822998047, -5.263400077819824, -6.2891998291015625, -5.529600143432617, -6.573400020599365, -6.13700008392334, -6.061200141906738, -6.0243000984191895, -5.50600004196167, -5.384900093078613, -5.882299900054932, -5.127999782562256, -5.481299877166748, -4.907299995422363, -5.01200008392334, -5.611400127410889, -4.897600173950195, -4.820099830627441, -5.205399990081787, -5.451900005340576, -5.4232001304626465, -4.808599948883057, -5.193699836730957, -5.514699935913086, -4.469099998474121, -4.966700077056885, -5.5640997886657715, -5.661300182342529, -5.4004998207092285, -4.679800033569336, -4.837399959564209, -5.13129997253418, -5.348199844360352, -4.4629998207092285, -5.313600063323975, -5.212200164794922, -5.291399955749512, -4.781799793243408, -4.938600063323975, -5.020999908447266, -4.952600002288818, -4.911300182342529, -5.284900188446045, -4.872799873352051, -5.167300224304199, -5.25570011138916, -5.235400199890137, -5.309500217437744, -5.570300102233887, -5.648200035095215, -5.726500034332275, -5.906099796295166, -5.924499988555908, -5.933899879455566, -5.95389986038208, -6.007699966430664, -5.193999767303467, -6.164999961853027, -6.171500205993652, -6.267099857330322, -6.282100200653076, -6.294400215148926, -6.271200180053711, -6.431700229644775, -6.439899921417236, -6.337299823760986, -6.481900215148926, -6.486499786376953, -6.446899890899658, -6.517199993133545, -6.584799766540527, -6.6006999015808105, -6.337200164794922, -6.640500068664551, -5.872700214385986, -6.66510009765625, -6.619999885559082, -6.691800117492676, -5.990200042724609, -6.024099826812744, -5.289299964904785, -6.039100170135498, -5.463900089263916, -5.931300163269043, -4.541500091552734, -6.0467000007629395, -5.383999824523926, -5.337200164794922, -5.418600082397461, -5.649499893188477, -5.922999858856201, -5.845600128173828, -5.379499912261963, -5.2342000007629395, -5.347799777984619, -5.523200035095215, -4.549200057983398, -4.931399822235107, -4.328999996185303, -5.623300075531006, -3.822200059890747, -5.634699821472168, -5.332499980926514, -5.512800216674805, -5.311200141906738, -4.095200061798096, -4.605299949645996, -4.887700080871582, -5.355800151824951, -4.818399906158447, -4.791500091552734, -4.360000133514404, -5.1407999992370605, -5.237599849700928, -4.971399784088135, -4.958399772644043, -5.0894999504089355, -5.069499969482422, -5.150400161743164, -5.069799900054932, -5.307199954986572, -5.305099964141846, -5.285799980163574, -5.353300094604492, -5.064700126647949, -5.477099895477295, -5.777500152587891, -5.850100040435791, -5.651899814605713, -5.777900218963623, -5.38070011138916, -6.002900123596191, -6.073599815368652, -5.779799938201904, -6.14139986038208, -5.058000087738037, -6.298699855804443, -6.488699913024902, -6.1722002029418945, -6.606299877166748, -6.613500118255615, -6.446100234985352, -6.624599933624268, -6.681000232696533, -6.682799816131592, -6.6894001960754395, -6.696599960327148, -6.70359992980957, -6.73799991607666, -6.69379997253418, -6.673500061035156, -6.72189998626709, -6.049200057983398, -6.815100193023682, -4.889400005340576, -4.681099891662598, -2.9086999893188477, -4.9832000732421875, -5.561200141906738, -5.526400089263916, -5.842599868774414, -6.120800018310547, -4.878699779510498, -6.548799991607666, -6.1834001541137695, -5.359399795532227, -5.430600166320801, -5.753699779510498, -3.445199966430664, -5.723599910736084, -5.948299884796143, -5.2153000831604, -5.857800006866455, -4.166200160980225, -4.745200157165527, -4.413899898529053, -3.9268999099731445, -5.593900203704834, -4.470600128173828, -5.573800086975098, -4.874000072479248, -4.6641998291015625, -4.7870001792907715, -5.174499988555908, -4.742400169372559, -4.945899963378906, -4.694499969482422, -4.98799991607666, -5.1915998458862305, -5.067299842834473, -4.917399883270264, -4.844600200653076, -5.2789998054504395, -5.172900199890137, -5.23829984664917, -5.1996002197265625, -5.1971001625061035, -5.176199913024902, -4.961599826812744, -5.377600193023682, -5.95989990234375, -6.052000045776367, -6.05709981918335, -6.088099956512451, -6.118599891662598, -4.410600185394287, -6.175000190734863, -6.191400051116943, -6.1605000495910645, -6.277699947357178, -5.790999889373779, -6.21999979019165, -6.38040018081665, -6.424499988555908, -6.335899829864502, -6.4741997718811035, -5.982100009918213, -5.8769001960754395, -6.519599914550781, -6.063499927520752, -6.390999794006348, -6.54640007019043, -6.548900127410889, -6.563700199127197, -6.561500072479248, -6.608699798583984, -6.617400169372559, -3.951200008392334, -5.751299858093262, -5.458600044250488, -5.97160005569458, -6.067200183868408, -5.429999828338623, -4.771699905395508, -5.888800144195557, -5.738999843597412, -4.5467000007629395, -4.167200088500977, -3.749300003051758, -3.681299924850464, -5.831200122833252, -3.642400026321411, -3.72979998588562, -5.74370002746582, -3.5302000045776367, -5.498300075531006, -5.06820011138916, -5.426799774169922, -5.270199775695801, -4.442800045013428, -5.1483001708984375, -4.912600040435791, -4.627200126647949, -4.752299785614014, -4.823200225830078, -5.0883002281188965, -5.132900238037109, -4.9832000732421875, -4.85890007019043, -4.597599983215332, -4.858500003814697, -4.979100227355957, -4.883299827575684, -5.095399856567383, -5.205699920654297, -5.137499809265137, -5.204899787902832, -5.601500034332275, -5.78000020980835, -5.646599769592285, -5.889500141143799, -5.820899963378906, -6.154300212860107, -5.158299922943115, -5.9293999671936035, -6.236199855804443, -6.24370002746582, -5.399600028991699, -6.146399974822998, -6.295599937438965, -6.334499835968018, -6.2982001304626465, -6.400599956512451, -6.4039998054504395, -6.427800178527832, -6.4583001136779785, -6.424099922180176, -6.403500080108643, -6.492700099945068, -6.369500160217285, -5.928100109100342, -6.412300109863281, -6.443600177764893, -5.439199924468994, -6.418099880218506, -6.653299808502197, -6.456299781799316, -5.128499984741211, -4.901299953460693, -5.577400207519531, -5.3927001953125, -5.86959981918335, -6.165900230407715, -3.7600998878479004, -5.759500026702881, -5.985199928283691, -5.296000003814697, -5.143199920654297, -5.904900074005127, -5.021999835968018, -4.9070000648498535, -4.184700012207031, -4.779200077056885, -5.243199825286865, -5.53879976272583, -4.614200115203857, -4.293300151824951, -5.084199905395508, -4.402599811553955, -3.2083001136779785, -4.3282999992370605, -5.309000015258789, -5.045499801635742, -4.635900020599365, -5.0625, -4.224599838256836, -5.133399963378906, -4.31689977645874, -4.406400203704834, -5.046800136566162, -4.451700210571289, -4.9369001388549805, -4.895500183105469, -5.049900054931641, -4.979400157928467, -4.97160005569458, -5.045899868011475, -5.098899841308594, -4.954400062561035, -5.450200080871582, -5.8454999923706055, -5.899799823760986, -5.9197001457214355, -5.749599933624268, -6.000400066375732, -6.01200008392334, -5.591400146484375, -6.0553998947143555, -6.0071001052856445, -5.950900077819824, -6.1020002365112305, -5.771699905395508, -6.198599815368652, -5.969900131225586, -6.060699939727783, -6.233699798583984, -6.1483001708984375, -6.281899929046631, -6.377999782562256, -6.373499870300293, -5.162300109863281, -6.354300022125244, -6.051400184631348, -6.4832000732421875, -5.717599868774414, -6.533199787139893, -6.535299777984619, -6.4496002197265625, -6.29449987411499, -5.529600143432617, -5.543399810791016, -6.210599899291992, -5.78980016708374, -5.710400104522705, -5.336699962615967, -5.9868998527526855, -5.3267998695373535, -4.522799968719482, -5.038000106811523, -3.878200054168701, -5.392899990081787, -5.332499980926514, -4.689499855041504, -4.409599781036377, -5.753799915313721, -5.535099983215332, -4.992499828338623, -5.624899864196777, -5.353499889373779, -4.2657999992370605, -5.173900127410889, -5.457200050354004, -5.344299793243408, -4.758500099182129, -5.285099983215332, -4.903800010681152, -4.918099880218506, -5.090199947357178, -5.326300144195557, -4.777900218963623, -4.714900016784668, -5.111400127410889, -5.288700103759766, -5.073500156402588, -5.054299831390381, -5.1666998863220215, -5.100900173187256, -5.1321001052856445, -5.126200199127197, -5.170000076293945, -5.259300231933594, -5.2906999588012695, -5.378499984741211, -5.337800025939941, -5.61870002746582, -5.554200172424316, -4.850200176239014, -5.542399883270264, -5.932600021362305, -5.938000202178955, -5.911799907684326, -6.264999866485596, -6.190400123596191, -6.357100009918213, -6.4380998611450195, -5.797599792480469, -6.4770002365112305, -6.408400058746338, -6.510900020599365, -6.524899959564209, -6.534999847412109, -6.536399841308594, -6.561100006103516, -6.586900234222412, -6.518700122833252, -6.598299980163574, -6.123700141906738, -6.652500152587891, -6.667500019073486, -6.672299861907959, -6.638500213623047, -6.643400192260742, -6.512700080871582, -4.973100185394287, -5.762899875640869, -5.13539981842041, -5.964600086212158, -4.015500068664551, -5.77400016784668, -6.233799934387207, -4.946300029754639, -6.110300064086914, -6.270100116729736, -4.603099822998047, -5.461299896240234, -6.087800025939941, -4.4197001457214355, -5.372700214385986, -5.85860013961792, -5.238100051879883, -5.281499862670898, -6.038700103759766, -5.698800086975098, -5.497499942779541, -5.072999954223633, -5.499000072479248, -5.621300220489502, -5.190499782562256, -5.3572001457214355, -5.606200218200684, -3.9632999897003174, -4.495699882507324, -4.418600082397461, -4.803199768066406, -4.645400047302246, -5.240699768066406, -4.504300117492676, -4.515399932861328, -4.902500152587891, -4.80079984664917, -4.785900115966797, -5.053599834442139, -4.795499801635742, -5.0802001953125, -4.99459981918335, -5.032299995422363, -4.996500015258789, -5.10890007019043, -5.145699977874756, -5.190499782562256, -5.22599983215332, -5.002399921417236, -5.608500003814697, -5.746200084686279, -5.594699859619141, -5.762199878692627, -6.033899784088135, -5.506700038909912, -6.3607001304626465, -6.380199909210205, -6.453100204467773, -6.47790002822876, -6.4842000007629395, -5.787399768829346, -6.389699935913086, -6.480999946594238, -6.537300109863281, -6.573299884796143, -6.438700199127197, -6.61359977722168, -6.594600200653076, -6.623799800872803, -6.724100112915039, -6.730899810791016, -6.733399868011475, -6.219699859619141, -6.735499858856201, -6.579400062561035, -6.6016998291015625, -6.810800075531006, -6.10230016708374, -6.532599925994873, -3.993499994277954, -3.502500057220459, -6.125199794769287, -6.006400108337402, -3.5378000736236572, -4.9766998291015625, -3.203900098800659, -6.12939977645874, -3.4102001190185547, -5.536799907684326, -5.6427001953125, -3.8543999195098877, -3.811300039291382, -6.196700096130371, -5.148099899291992, -5.918499946594238, -5.532299995422363, -5.532800197601318, -5.147799968719482, -4.265100002288818, -4.401500225067139, -4.11959981918335, -4.95389986038208, -3.9723000526428223, -4.654300212860107, -5.044000148773193, -4.559800148010254, -4.337200164794922, -4.595799922943115, -4.297500133514404, -4.543600082397461, -4.413300037384033, -4.897500038146973, -4.949900150299072, -5.037399768829346, -4.7220001220703125, -4.831999778747559, -5.039299964904785, -4.772600173950195, -5.052800178527832, -5.4197001457214355, -5.026700019836426, -5.565899848937988, -5.812699794769287, -5.770299911499023, -5.859399795532227, -5.938199996948242, -5.98829984664917, -6.01170015335083, -6.036099910736084, -6.0543999671936035, -6.061600208282471, -6.0883002281188965, -6.091599941253662, -6.098800182342529, -6.083099842071533, -6.133900165557861, -5.839200019836426, -5.666100025177002, -6.256100177764893, -5.996600151062012, -5.961100101470947, -6.3379998207092285, -6.374100208282471, -6.378699779510498, -6.387400150299072, -6.388000011444092, -6.393799781799316, -6.404799938201904, -6.344399929046631, -6.212399959564209, -6.054999828338623, -4.061600208282471, -4.768899917602539, -5.905600070953369, -6.100299835205078, -3.226900100708008, -6.019499778747559, -4.7519001960754395, -4.591700077056885, -5.725399971008301, -5.5030999183654785, -4.714900016784668, -5.120299816131592, -5.146299839019775, -4.992300033569336, -5.2540998458862305, -5.468999862670898, -5.759500026702881, -5.549300193786621, -3.963200092315674, -3.618000030517578, -5.170499801635742, -4.540500164031982, -5.067699909210205, -4.63730001449585, -4.813700199127197, -4.843500137329102, -5.43310022354126, -5.354000091552734, -5.197500228881836, -5.018799781799316, -5.521900177001953, -5.130300045013428, -5.21019983291626, -5.381400108337402, -5.399499893188477, -5.458600044250488, -4.4770002365112305, -5.193299770355225, -4.481200218200684, -5.830399990081787, -5.678299903869629, -5.896599769592285, -5.541999816894531, -5.9054999351501465, -5.956600189208984, -6.099899768829346, -5.777900218963623, -6.27400016784668, -5.618599891662598, -6.396599769592285, -6.404399871826172, -5.182199954986572, -5.983500003814697, -6.4116997718811035, -6.3018999099731445, -6.486599922180176, -6.526599884033203, -6.419000148773193, -6.561100006103516, -5.803999900817871, -6.454599857330322, -6.493199825286865, -6.614500045776367, -6.6149001121521, -6.670100212097168, -6.66480016708374, -5.8231000900268555, -5.7052998542785645, -5.305500030517578, -5.228099822998047, -5.135300159454346, -5.769999980926514, -5.790999889373779, -5.622000217437744, -5.0894999504089355, -4.663099765777588, -6.112800121307373, -4.883399963378906, -5.968999862670898, -4.1433000564575195, -4.735099792480469, -3.7783000469207764, -5.032700061798096, -4.656499862670898, -4.917300224304199, -5.2683000564575195, -4.779200077056885, -5.281300067901611, -4.665800094604492, -5.500500202178955, -4.946899890899658, -4.936200141906738, -5.133200168609619, -5.352799892425537, -5.045000076293945, -3.7744998931884766, -4.2845001220703125, -4.23859977722168, -5.171599864959717, -5.255199909210205, -4.3572001457214355, -4.971199989318848, -4.628600120544434, -4.736999988555908, -4.668700218200684, -4.798799991607666, -4.779200077056885, -4.937699794769287, -4.977200031280518, -5.051400184631348, -4.67080020904541, -5.40910005569458, -5.513299942016602, -4.967700004577637, -5.536300182342529, -5.767300128936768, -5.5625, -5.853400230407715, -5.074900150299072, -4.370800018310547, -5.884200096130371, -5.781400203704834, -5.438899993896484, -5.767399787902832, -5.865200042724609, -5.954599857330322, -5.8267998695373535, -6.079699993133545, -6.0457000732421875, -6.025400161743164, -6.18120002746582, -6.199699878692627, -5.315299987792969, -6.271200180053711, -6.292399883270264, -6.221099853515625, -4.86269998550415, -6.368000030517578, -6.383200168609619, -6.390999794006348, -5.333600044250488, -5.15939998626709, -6.213900089263916, -6.005099773406982, -5.389100074768066, -5.5289998054504395, -5.630199909210205, -4.65749979019165, -5.750899791717529, -4.790200233459473, -3.6638998985290527, -5.0, -4.624899864196777, -3.7711000442504883, -4.9253997802734375, -4.010499954223633, -4.104899883270264, -5.088399887084961, -5.123899936676025, -5.382999897003174, -4.966000080108643, -4.472300052642822, -4.418000221252441, -4.270199775695801, -4.4928998947143555, -4.9405999183654785, -5.113900184631348, -4.899799823760986, -4.787899971008301, -5.054200172424316, -4.955999851226807, -4.963500022888184, -5.12470006942749, -4.941699981689453, -3.2376999855041504, -5.665200233459473, -5.71120023727417, -5.815000057220459, -5.822800159454346, -5.564599990844727, -5.83050012588501, -5.048699855804443, -5.98390007019043, -5.828000068664551, -5.578700065612793, -5.632800102233887, -5.575500011444092, -6.124300003051758, -5.263599872589111, -4.914000034332275, -6.133600234985352, -6.184899806976318, -6.234600067138672, -5.952300071716309, -6.2916998863220215, -6.057000160217285, -6.274899959564209, -5.939799785614014, -6.439300060272217, -6.485300064086914, -6.4633002281188965, -6.515100002288818, -6.5304999351501465, -6.0295000076293945, -4.040500164031982, -6.307199954986572, -5.595799922943115, -5.826399803161621, -5.866300106048584, -5.344200134277344, -4.164599895477295, -5.639100074768066, -4.454699993133545, -4.512499809265137, -5.561699867248535, -5.64300012588501, -5.668600082397461, -5.151199817657471, -4.44950008392334, -4.550600051879883, -2.9642999172210693, -5.409800052642822, -5.175099849700928, -4.654600143432617, -5.556000232696533, -4.890900135040283, -4.883999824523926, -4.601500034332275, -4.640699863433838, -5.038000106811523, -5.460400104522705, -5.025100231170654, -4.997099876403809, -5.395699977874756, -4.70550012588501, -4.955900192260742, -4.811699867248535, -4.993899822235107, -5.141600131988525, -5.1529998779296875, -5.0152997970581055, -5.032599925994873, -5.166200160980225, -5.149099826812744, -5.16540002822876], \"loglift\": [30.0, 29.0, 28.0, 27.0, 26.0, 25.0, 24.0, 23.0, 22.0, 21.0, 20.0, 19.0, 18.0, 17.0, 16.0, 15.0, 14.0, 13.0, 12.0, 11.0, 10.0, 9.0, 8.0, 7.0, 6.0, 5.0, 4.0, 3.0, 2.0, 1.0, 2.1839, 2.1827, 2.1799, 2.175, 2.1746, 2.1742, 2.1721, 2.1701, 2.1688, 2.1674, 2.1662, 2.166, 2.1643, 2.1636, 2.1634, 2.1617, 2.1605, 2.1583, 2.1581, 2.1572, 2.1569, 2.1562, 2.1559, 2.1559, 2.155, 2.1546, 2.1545, 2.1541, 2.154, 2.1538, 2.1537, 2.1514, 2.1448, 2.1224, 2.145, 2.1126, 2.1503, 2.1224, 2.1027, 2.097, 2.0277, 2.0023, 2.0622, 1.9225, 1.9689, 1.8305, 1.8326, 1.9511, 1.716, 1.6706, 1.744, 1.8207, 1.795, 1.4961, 1.6618, 1.8144, 1.2208, 1.4961, 1.8285, 1.8678, 1.6808, 1.1012, 1.1109, 1.3283, 1.5494, 0.4506, 1.5069, 1.3582, 1.4654, 0.5836, 0.8337, 0.9691, 0.0405, -0.2274, 1.1735, -0.8192, 0.1498, 0.4196, 0.142, -0.2339, 2.3136, 2.3124, 2.3099, 2.3076, 2.3072, 2.307, 2.3066, 2.3053, 2.3047, 2.3014, 2.3009, 2.2985, 2.298, 2.2976, 2.2973, 2.2931, 2.2925, 2.2913, 2.2913, 2.2911, 2.2901, 2.29, 2.2873, 2.2866, 2.2861, 2.2849, 2.2844, 2.2839, 2.2833, 2.2827, 2.2795, 2.2784, 2.2585, 2.2672, 2.2388, 2.255, 2.1584, 2.2479, 2.1548, 2.133, 2.102, 2.131, 2.1809, 2.1363, 1.9852, 1.8954, 1.9381, 1.9899, 1.5721, 1.6538, 1.327, 2.0207, 0.9945, 2.0045, 1.7901, 1.9155, 1.7427, 0.5886, 0.642, 0.9887, 1.4926, 0.5438, 0.4439, -0.3065, 0.9302, 1.0808, 0.3456, 0.2742, 0.4349, 0.2959, 0.1223, -0.348, 0.7769, 0.4861, -0.1323, 0.4263, 2.3904, 2.3832, 2.379, 2.3784, 2.378, 2.3779, 2.3766, 2.3749, 2.3731, 2.3713, 2.3712, 2.3653, 2.3646, 2.3575, 2.3566, 2.3542, 2.3539, 2.353, 2.3514, 2.3508, 2.3507, 2.3504, 2.3499, 2.3495, 2.3479, 2.3471, 2.3459, 2.3458, 2.3451, 2.3438, 2.3281, 2.2678, 2.1823, 2.2672, 2.2834, 2.2309, 2.2641, 2.2865, 2.1003, 2.3313, 2.2747, 2.1397, 2.1489, 2.1917, 1.6184, 2.1562, 2.2138, 1.9735, 2.1717, 1.3493, 1.6031, 1.3585, 1.0027, 1.976, 0.9268, 1.908, 1.1161, 0.8098, 0.9605, 1.3535, 0.6712, 0.9006, 0.3988, 0.6966, 1.0332, 0.4298, -0.2335, -0.791, 0.9894, 0.1949, 0.6381, 0.0477, -0.2835, 2.4011, 2.3999, 2.3986, 2.3877, 2.3854, 2.385, 2.3844, 2.3835, 2.3835, 2.3819, 2.3814, 2.3811, 2.3786, 2.3784, 2.3756, 2.375, 2.3733, 2.3728, 2.3714, 2.37, 2.3694, 2.3691, 2.369, 2.3687, 2.3684, 2.3682, 2.3676, 2.3673, 2.3655, 2.3652, 2.3602, 2.363, 2.3578, 2.3563, 2.35, 2.3228, 2.2632, 2.3257, 2.2531, 2.0086, 1.9169, 1.7751, 1.7323, 2.2472, 1.4333, 1.3635, 2.201, 1.1916, 2.0344, 1.6727, 1.9234, 1.7796, 0.9345, 1.4815, 1.193, 0.7382, 0.7073, 0.665, 1.0417, 1.0723, 0.6905, 0.3884, -0.5441, 0.0551, 0.383, -0.1995, 0.0454, 0.5855, -0.2079, 0.485, 2.4529, 2.449, 2.4467, 2.4465, 2.4461, 2.4396, 2.4392, 2.4384, 2.4369, 2.4366, 2.4355, 2.4354, 2.4348, 2.4334, 2.433, 2.4309, 2.4307, 2.4298, 2.4285, 2.4277, 2.4275, 2.4271, 2.4264, 2.4252, 2.4248, 2.4234, 2.4224, 2.4202, 2.4195, 2.4192, 2.404, 2.3981, 2.4084, 2.4044, 2.4029, 2.4136, 2.2705, 2.3486, 2.3694, 2.2442, 2.2111, 2.3334, 2.1507, 2.0818, 1.8544, 2.0003, 2.127, 2.2033, 1.8455, 1.6477, 1.9354, 1.5425, 0.8452, 1.2818, 1.9387, 1.7118, 1.3066, 1.643, 0.689, 1.5864, 0.4049, 0.4103, 1.4064, 0.2322, 0.8426, 0.1977, 0.7413, 0.3888, 0.261, 0.3163, 0.3607, 2.4799, 2.4786, 2.4706, 2.4696, 2.4691, 2.4687, 2.467, 2.4667, 2.4659, 2.4654, 2.4647, 2.4626, 2.4622, 2.4612, 2.461, 2.4606, 2.4586, 2.4574, 2.4569, 2.4561, 2.4544, 2.454, 2.4537, 2.4536, 2.453, 2.4502, 2.449, 2.448, 2.4479, 2.4475, 2.4454, 2.425, 2.4183, 2.4386, 2.4149, 2.4018, 2.3571, 2.4137, 2.3287, 2.2021, 2.1818, 1.8348, 2.2291, 2.2073, 1.9747, 1.8152, 2.3088, 2.1951, 1.8547, 2.2268, 1.9808, 0.9697, 1.6709, 1.9529, 1.7607, 0.9513, 1.6151, 0.9699, 0.9284, 1.115, 1.5767, 0.2152, -0.031, 0.8311, 1.2771, 0.2435, 0.0992, 0.4434, 0.0399, 0.1407, -0.0329, -0.1063, -0.012, 0.0775, 2.4887, 2.4856, 2.4846, 2.4834, 2.4831, 2.4818, 2.4776, 2.4774, 2.4705, 2.4669, 2.4618, 2.4615, 2.4607, 2.4595, 2.459, 2.4587, 2.4575, 2.4568, 2.4563, 2.4563, 2.4551, 2.4539, 2.4533, 2.4533, 2.4521, 2.4506, 2.4498, 2.4495, 2.4483, 2.4483, 2.4481, 2.4326, 2.4274, 2.3925, 2.4208, 2.2962, 2.3933, 2.4148, 2.218, 2.3917, 2.41, 2.1127, 2.2616, 2.3767, 1.9775, 2.1913, 2.3075, 2.1148, 2.1109, 2.3515, 2.2215, 2.1302, 1.9339, 2.0457, 2.1057, 1.6716, 1.771, 2.0212, 0.0903, 0.5679, 0.3981, 0.9067, 0.6019, 1.4777, 0.2175, 0.1685, 0.845, 0.3527, 0.2897, 0.8976, 0.118, 0.9459, 0.3224, 0.3331, -0.0034, 0.5109, 0.3139, -0.0497, 0.7223, 2.5037, 2.499, 2.4934, 2.4912, 2.49, 2.4836, 2.4831, 2.4774, 2.4768, 2.4737, 2.4726, 2.4723, 2.4705, 2.4703, 2.4698, 2.4697, 2.4681, 2.4665, 2.4661, 2.4656, 2.4656, 2.4602, 2.4598, 2.4596, 2.4594, 2.459, 2.4574, 2.4568, 2.455, 2.455, 2.455, 2.4011, 2.3678, 2.4377, 2.4294, 2.2979, 2.2933, 2.0287, 2.4018, 1.9576, 2.2753, 2.2396, 1.7654, 1.5569, 2.3714, 1.9677, 2.2636, 2.1003, 2.0931, 1.8972, 1.4085, 1.446, 1.2426, 1.685, 1.0208, 1.2221, 1.542, 1.0962, 0.8036, 0.8782, 0.4243, 0.5201, 0.2705, 0.8947, 0.9952, 1.0322, 0.0947, 0.3215, 0.5707, -0.719, -0.1233, 2.5063, 2.5061, 2.5037, 2.4986, 2.4971, 2.4967, 2.4955, 2.4941, 2.4934, 2.4927, 2.4922, 2.4917, 2.4911, 2.491, 2.4908, 2.4886, 2.4876, 2.4867, 2.4863, 2.4855, 2.4848, 2.4843, 2.4824, 2.481, 2.4808, 2.4804, 2.4804, 2.4802, 2.4797, 2.4795, 2.4788, 2.4768, 2.446, 2.4536, 2.4713, 2.4648, 2.2613, 2.4472, 2.2711, 2.1987, 2.3959, 2.3394, 2.1129, 2.2082, 2.2134, 2.062, 2.1512, 2.2381, 2.3421, 2.1813, 0.9664, 0.4356, 1.5951, 0.7765, 1.3491, 0.5981, 0.4591, 0.2973, 1.5697, 1.2127, 0.5155, -0.2021, 1.5686, -0.4085, -0.117, 0.1157, -0.3239, 0.5551, 2.646, 2.6389, 2.634, 2.625, 2.6234, 2.619, 2.6184, 2.6181, 2.6179, 2.6177, 2.6156, 2.611, 2.6058, 2.6054, 2.6052, 2.6049, 2.6016, 2.6013, 2.6002, 2.5994, 2.5991, 2.5973, 2.5973, 2.5954, 2.5952, 2.5949, 2.5943, 2.5923, 2.591, 2.5905, 2.5888, 2.5834, 2.5699, 2.5669, 2.5601, 2.5736, 2.5565, 2.5355, 2.4871, 2.4456, 2.5629, 2.3905, 2.5341, 2.2043, 2.3086, 1.9901, 2.2988, 2.159, 2.2255, 2.3394, 2.1202, 2.3116, 1.9659, 2.4029, 2.0055, 1.8919, 2.0067, 2.185, 1.8512, 0.2791, 0.869, 0.7545, 1.9412, 2.0387, 0.5563, 1.3331, 0.447, 0.3562, 0.0151, 0.342, 0.0375, 0.3793, 0.2554, 0.9748, 2.6482, 2.6421, 2.6398, 2.637, 2.6357, 2.6334, 2.6327, 2.6321, 2.632, 2.6316, 2.6312, 2.6309, 2.6306, 2.6295, 2.6294, 2.6285, 2.6254, 2.625, 2.6242, 2.6226, 2.6213, 2.6206, 2.6178, 2.6177, 2.6168, 2.6162, 2.6136, 2.6135, 2.6128, 2.6124, 2.6121, 2.6101, 2.6121, 2.6099, 2.5664, 2.5524, 2.558, 2.4527, 2.5472, 2.3742, 2.0113, 2.3544, 2.1329, 1.6063, 2.0478, 1.4866, 1.1678, 1.7772, 1.8094, 2.1023, 1.34, 0.4573, 0.3038, -0.2166, 0.1909, 1.0276, 1.4749, 0.8101, 0.4594, 1.0155, 0.4414, -0.1468, -0.1316, 2.7708, 2.7665, 2.7592, 2.7581, 2.7551, 2.7549, 2.7547, 2.7547, 2.7509, 2.7495, 2.7492, 2.7478, 2.7458, 2.7446, 2.7442, 2.7439, 2.7433, 2.7421, 2.7416, 2.7391, 2.7383, 2.7357, 2.7353, 2.7329, 2.7317, 2.7291, 2.7265, 2.7238, 2.7222, 2.7196, 2.7184, 2.6828, 2.719, 2.6839, 2.6893, 2.6773, 2.5744, 2.3616, 2.605, 2.3049, 2.2717, 2.5362, 2.5534, 2.5579, 2.314, 1.9673, 2.0162, 1.0892, 2.3267, 2.003, 1.3591, 2.4142, 1.4135, 1.3765, 0.7639, 0.6763, 1.3936, 2.2334, 1.2797, 1.1291, 2.093, 0.224, 0.8252, 0.3418, 0.7744, 1.2275, 1.177, 0.1255, 0.2028, 0.626, -0.0559, -0.1724]}, \"token.table\": {\"Topic\": [4, 9, 3, 8, 5, 5, 2, 9, 2, 3, 4, 7, 8, 9, 10, 11, 7, 1, 6, 12, 6, 7, 8, 1, 8, 8, 6, 4, 9, 11, 10, 5, 2, 10, 1, 3, 6, 10, 12, 9, 5, 7, 3, 10, 1, 6, 9, 10, 11, 4, 5, 2, 3, 4, 5, 6, 7, 8, 9, 10, 11, 12, 11, 1, 2, 5, 6, 8, 9, 10, 11, 12, 2, 2, 3, 8, 8, 1, 5, 4, 8, 8, 10, 1, 9, 9, 11, 11, 3, 4, 6, 9, 10, 11, 4, 1, 2, 3, 6, 2, 7, 2, 4, 7, 8, 9, 11, 1, 2, 3, 5, 6, 7, 10, 12, 2, 6, 10, 11, 1, 2, 3, 4, 5, 6, 7, 8, 9, 10, 11, 12, 1, 3, 1, 3, 4, 5, 7, 10, 1, 2, 6, 7, 11, 1, 2, 5, 7, 10, 1, 10, 4, 8, 2, 3, 5, 7, 11, 4, 10, 11, 12, 1, 2, 3, 4, 5, 6, 7, 8, 9, 10, 11, 12, 1, 2, 3, 4, 5, 6, 7, 8, 9, 10, 11, 12, 4, 6, 8, 10, 5, 7, 10, 1, 1, 6, 9, 11, 11, 6, 7, 8, 4, 4, 1, 5, 6, 10, 1, 2, 3, 5, 7, 8, 10, 2, 11, 1, 1, 3, 4, 5, 7, 8, 10, 10, 2, 3, 6, 8, 9, 11, 1, 2, 3, 4, 5, 6, 7, 8, 9, 11, 1, 2, 3, 4, 5, 6, 7, 8, 9, 10, 11, 12, 1, 2, 3, 4, 5, 6, 7, 8, 9, 10, 1, 2, 3, 4, 5, 6, 7, 8, 9, 10, 11, 12, 2, 4, 5, 6, 7, 8, 10, 12, 1, 2, 3, 4, 5, 6, 7, 8, 9, 10, 11, 12, 4, 8, 8, 2, 3, 4, 7, 8, 2, 4, 5, 6, 3, 4, 4, 1, 2, 4, 5, 9, 1, 2, 3, 1, 2, 3, 4, 5, 6, 7, 8, 9, 10, 11, 12, 12, 1, 2, 3, 5, 6, 7, 8, 9, 10, 11, 12, 2, 4, 6, 7, 8, 9, 10, 11, 12, 1, 5, 12, 1, 2, 3, 4, 5, 6, 7, 9, 10, 11, 12, 10, 7, 1, 2, 3, 5, 6, 7, 10, 12, 2, 3, 6, 9, 10, 11, 9, 10, 2, 3, 6, 7, 11, 1, 2, 3, 4, 5, 6, 7, 8, 9, 10, 11, 12, 2, 7, 9, 3, 5, 6, 7, 10, 1, 2, 3, 4, 5, 6, 7, 8, 9, 10, 11, 9, 11, 2, 9, 12, 1, 3, 11, 2, 3, 6, 7, 10, 11, 1, 5, 4, 5, 9, 8, 1, 4, 5, 7, 8, 9, 1, 3, 9, 11, 12, 5, 11, 8, 1, 2, 3, 4, 5, 6, 7, 8, 9, 10, 11, 12, 2, 8, 1, 4, 11, 7, 10, 9, 4, 3, 2, 3, 7, 10, 11, 4, 6, 9, 1, 5, 6, 9, 10, 12, 1, 3, 4, 5, 6, 7, 8, 9, 10, 11, 7, 10, 1, 2, 3, 4, 5, 6, 7, 8, 9, 10, 11, 12, 1, 2, 3, 4, 5, 6, 7, 8, 9, 10, 11, 12, 11, 5, 4, 7, 1, 3, 4, 5, 6, 9, 10, 1, 2, 3, 4, 5, 6, 7, 8, 9, 10, 11, 12, 7, 12, 6, 7, 5, 9, 3, 4, 6, 2, 4, 9, 10, 8, 1, 2, 3, 4, 5, 8, 9, 1, 2, 3, 4, 5, 6, 7, 8, 9, 10, 11, 12, 11, 9, 10, 11, 9, 3, 6, 7, 10, 10, 1, 2, 3, 4, 5, 6, 7, 8, 9, 10, 11, 2, 3, 8, 9, 1, 2, 3, 4, 5, 6, 7, 8, 9, 10, 11, 12, 1, 3, 6, 7, 8, 10, 11, 2, 7, 9, 10, 11, 12, 9, 5, 7, 8, 3, 1, 1, 2, 3, 4, 5, 6, 7, 8, 9, 10, 11, 12, 1, 2, 3, 4, 5, 6, 7, 8, 9, 10, 11, 12, 8, 7, 1, 2, 3, 4, 5, 6, 7, 8, 9, 10, 11, 12, 1, 2, 4, 6, 7, 9, 10, 11, 12, 1, 2, 3, 4, 5, 6, 7, 8, 9, 10, 11, 12, 6, 2, 11, 1, 7, 11, 1, 2, 3, 5, 6, 7, 8, 9, 10, 11, 12, 12, 3, 5, 6, 9, 11, 1, 2, 3, 4, 5, 7, 8, 9, 10, 11, 12, 4, 10, 3, 7, 3, 1, 2, 3, 5, 6, 7, 8, 10, 11, 3, 4, 6, 3, 9, 3, 3, 8, 1, 2, 3, 4, 5, 6, 7, 8, 9, 10, 11, 12, 2, 4, 12, 4, 5, 6, 7, 8, 9, 10, 12, 6, 1, 1, 2, 3, 6, 10, 11, 12, 3, 4, 6, 6, 7, 11, 2, 11, 12, 11, 1, 3, 1, 9, 10, 12, 8, 12, 10, 1, 2, 3, 4, 6, 9, 12, 1, 2, 3, 4, 5, 6, 7, 8, 9, 10, 11, 12, 1, 2, 3, 4, 5, 6, 7, 8, 9, 10, 11, 12, 7, 11, 1, 2, 3, 4, 6, 7, 8, 9, 10, 11, 12, 4, 5, 8, 9, 12, 1, 1, 2, 3, 4, 5, 6, 7, 8, 9, 10, 11, 12, 4, 6, 12, 3, 4, 5, 7, 10, 11, 2, 3, 5, 6, 8, 9, 11, 1, 9, 10, 9, 11, 8, 2, 3, 10, 5, 2, 11, 1, 2, 3, 4, 5, 6, 7, 8, 9, 10, 11, 12, 1, 2, 3, 4, 5, 6, 7, 8, 9, 10, 11, 12, 8, 12, 2, 3, 5, 7, 6, 3, 2, 5, 6, 7, 8, 9, 11, 12, 6, 8, 9, 6, 7, 9, 6, 1, 2, 3, 4, 5, 6, 7, 9, 11, 12, 1, 2, 3, 4, 5, 6, 9, 10, 11, 12, 9, 1, 4, 7, 1, 3, 6, 7, 9, 10, 12, 1, 1, 7, 8, 7, 4, 6, 7, 9, 1, 3, 5, 6, 8, 9, 10, 5, 4, 1, 6, 7, 8, 7, 3, 7, 8, 11, 1, 2, 3, 4, 5, 6, 7, 8, 9, 10, 11, 12, 10, 1, 2, 3, 4, 5, 6, 7, 8, 9, 10, 11, 12, 7, 5, 8, 10, 1, 2, 3, 6, 3, 5, 7, 11, 12, 1, 6, 7, 9, 10, 11, 3, 6, 7, 9, 10, 6, 7, 6, 10, 12, 2, 1, 2, 4, 6, 8, 12, 5, 8, 9, 12, 1, 2, 3, 4, 5, 6, 7, 8, 9, 10, 11, 12, 6, 1, 2, 3, 4, 5, 6, 7, 8, 9, 10, 11, 12, 2, 3, 4, 5, 6, 7, 8, 9, 11, 12, 1, 2, 3, 4, 5, 7, 8, 9, 10, 11, 12, 7, 9, 12, 1, 2, 4, 6, 9, 11, 12, 3, 6, 7, 8, 9, 10, 12, 1, 2, 3, 4, 5, 6, 7, 8, 9, 10, 11, 12, 11, 7, 10, 12, 4, 1, 4, 6, 8, 10, 11, 5, 7, 11, 3, 5, 12, 10, 3, 5, 8, 9, 2, 4, 7, 8, 1, 2, 3, 4, 6, 7, 9, 10, 11, 12, 5, 1, 2, 3, 4, 5, 6, 7, 8, 9, 10, 11, 12, 2, 1, 2, 4, 5, 6, 10, 11, 2, 7, 5, 1, 2, 3, 4, 5, 6, 7, 8, 9, 11, 3, 11, 7, 1, 2, 3, 6, 7, 8, 9, 10, 11, 12, 1, 2, 3, 4, 5, 6, 7, 8, 9, 10, 11, 12, 10, 1, 11, 1, 7, 8, 6, 9, 1, 2, 4, 5, 6, 8, 9, 11, 2, 6, 7, 8, 9, 11, 12, 6, 7, 3, 6, 9, 1, 2, 3, 4, 5, 6, 7, 8, 9, 10, 11, 12, 1, 5, 7, 11, 12, 1, 2, 4, 5, 6, 9, 12, 9, 10, 11, 2, 6, 8, 11, 1, 2, 5, 7, 8, 10, 11, 3, 5, 7, 8, 11, 12, 7, 6, 9, 11, 6, 12, 3, 5, 6, 7, 9, 10, 11, 12, 1, 2, 4, 5, 11, 12, 9, 3, 6, 7, 10, 7, 12, 11, 1, 2, 3, 4, 5, 6, 7, 8, 9, 11, 1, 2, 3, 4, 5, 6, 7, 8, 9, 10, 11, 12, 3, 2, 12, 1, 2, 3, 4, 5, 6, 7, 8, 9, 10, 11, 12, 12, 1, 5, 6, 9, 1, 2, 3, 4, 5, 6, 7, 8, 9, 10, 11, 12, 1, 2, 3, 4, 5, 6, 7, 8, 9, 10, 11, 12, 12, 8, 8, 7, 8, 1, 3, 4, 5, 6, 7, 9, 10, 1, 2, 3, 4, 5, 6, 7, 8, 9, 10, 11, 12, 4, 6, 7, 9, 12, 3, 4, 4, 12, 4, 5, 7, 8, 5, 1, 2, 3, 4, 5, 6, 7, 8, 12, 5, 8, 12, 7, 10, 6, 1, 2, 3, 4, 5, 6, 7, 8, 9, 10, 11, 12, 3, 3, 4, 5, 6, 8, 9, 3, 2, 3, 9, 3, 6, 9, 10, 2, 4, 6, 12, 1, 2, 4, 5, 6, 7, 8, 9, 12, 2, 3, 4, 6, 11, 1, 3, 4, 8, 10, 12, 12, 1, 2, 3, 4, 5, 6, 7, 8, 9, 10, 11, 12, 12, 10, 3, 2, 5, 9, 1, 2, 4, 5, 6, 8, 9, 10, 11, 12, 1, 2, 3, 4, 5, 6, 7, 8, 9, 10, 12, 8, 8, 1, 2, 3, 4, 5, 6, 7, 8, 10, 11, 12, 2, 4, 5, 1, 5, 6, 12, 12, 8, 9, 1, 10, 10, 1, 12, 5, 3, 6, 9, 4, 8, 2, 4, 5, 7, 8, 9, 11, 4, 2, 5, 7, 3, 6, 11, 12, 2, 5, 7, 8, 9, 10, 12, 2, 11, 4, 6, 7, 9, 1, 3, 4, 10, 11, 12, 8, 1, 9, 12, 2, 8, 10, 2, 8, 11, 9, 5, 5, 6, 7, 8, 1, 2, 3, 4, 6, 8, 9, 10, 12, 1, 2, 3, 4, 5, 6, 8, 9, 10, 11, 12, 1, 2, 3, 5, 6, 7, 8, 9, 10, 11, 12, 2, 4, 6, 8, 1, 2, 3, 4, 5, 6, 7, 8, 9, 10, 11, 12, 6, 1, 2, 3, 4, 5, 6, 7, 8, 9, 10, 11, 12, 2, 1, 8, 9, 1, 2, 3, 4, 5, 6, 7, 8, 9, 10, 11, 12, 9, 12, 3, 1, 3, 5, 9, 11, 1, 3, 12, 8, 10, 4, 7, 9, 10, 2, 4, 1, 2, 3, 4, 5, 6, 7, 8, 9, 10, 11, 12, 6, 9, 10, 7, 1, 3, 4, 5, 1, 2, 3, 5, 6, 7, 8, 9, 10, 11, 12, 1, 2, 3, 4, 5, 6, 7, 8, 9, 10, 11, 12, 7, 7, 1, 3, 4, 5, 6, 7, 9, 11, 1, 3, 7, 8, 9, 1, 8, 11, 11, 4, 7, 8, 9, 10, 5, 10, 4, 6, 9, 4, 6, 9, 11, 4, 7, 11, 10, 1, 4, 5, 7, 4, 8, 5, 2, 5, 7, 9, 2, 4, 5, 9, 10, 1, 5, 7, 6, 7, 4, 5, 1, 4, 5, 2, 4, 5, 7, 2, 4, 8, 12, 12, 7, 8, 2, 3, 4, 5, 7, 9, 10, 11, 12, 8, 3, 1, 9, 6, 1, 2, 3, 4, 5, 6, 7, 8, 9, 10, 11, 12, 1, 2, 3, 5, 9, 12, 1, 2, 3, 4, 5, 6, 7, 8, 9, 10, 11, 12, 1, 2, 3, 4, 5, 6, 7, 8, 9, 10, 11, 2, 5, 6, 8, 12, 1, 2, 6, 8, 9, 10, 11, 12, 1, 2, 3, 5, 6, 7, 8, 9, 10, 11, 12, 1, 2, 3, 5, 6, 7, 10, 12, 12, 1, 2, 3, 6, 8, 12, 6, 7, 1, 2, 4, 5, 7, 8, 9, 10, 7, 7, 8, 9, 11, 12, 1, 3, 5, 6, 8, 9, 10, 12, 1, 2, 3, 10, 11, 12, 1, 2, 3, 4, 5, 6, 7, 9, 10, 11, 12, 7, 7, 2, 7, 8, 9, 3, 8, 3, 12, 9, 2, 1, 2, 3, 4, 5, 6, 7, 8, 9, 12, 3, 8, 12, 1, 2, 3, 4, 5, 6, 7, 8, 9, 10, 11, 12, 7, 1, 2, 3, 4, 5, 6, 7, 8, 9, 10, 11, 12, 1, 2, 3, 4, 7, 8, 12, 2, 1, 2, 3, 4, 5, 6, 7, 8, 9, 11, 11, 10, 5, 6, 7, 1, 2, 3, 4, 6, 7, 8, 9, 11, 12, 8, 1, 2, 3, 4, 5, 6, 7, 8, 9, 11, 12, 7, 4, 2, 7, 9, 6, 8, 6, 7, 8, 11, 4, 11, 2, 3, 4, 7, 8, 10, 12, 2, 3, 4, 7, 8, 9, 11, 1, 2, 4, 5, 7, 10, 1, 3, 4, 9, 10, 3, 5, 9, 1, 4, 1, 2, 3, 4, 5, 6, 7, 8, 9, 10, 11, 12, 11, 1, 2, 4, 5, 6, 7, 8, 9, 10, 11, 4, 1, 2, 3, 4, 5, 6, 7, 8, 9, 10, 11, 6, 1, 2, 3, 4, 5, 9, 10, 11, 12, 3, 10, 4, 1, 6, 5, 8, 1, 2, 4, 5, 6, 7, 8, 9, 10, 11, 12, 4, 7, 1, 2, 3, 6, 7, 8, 9, 10, 11, 1, 2, 3, 4, 5, 6, 7, 8, 9, 10, 11, 12, 5, 1, 2, 3, 7, 8, 11, 3, 10, 5, 6, 2, 6, 10, 11, 12, 4, 1, 3, 6, 9, 11, 12, 2, 3, 4, 6, 8, 10, 2, 3, 4, 5, 6, 7, 8, 9, 10, 1, 3, 4, 5, 6, 7, 10, 11, 12, 3, 2, 3, 5, 6, 12, 3, 6, 1, 2, 3, 4, 6, 7, 9, 10, 11, 12, 8, 9, 11, 2, 7, 8, 12, 9, 1, 11, 3, 7, 9, 12, 1, 3, 7, 1, 2, 3, 5, 6, 7, 8, 9, 10, 11, 12, 2, 1, 10, 1, 2, 3, 5, 6, 7, 9, 11, 12, 10, 3, 5, 9, 3, 2, 5, 10, 1, 2, 3, 4, 5, 6, 7, 9, 10, 11, 12, 1, 7, 1, 7, 3, 9, 1, 7, 8, 9, 2, 1, 2, 3, 4, 5, 6, 7, 8, 9, 10, 11, 12, 12, 1, 3, 6, 9, 10, 3, 6, 1, 2, 3, 4, 5, 6, 7, 8, 9, 10, 11, 12, 2, 11, 10, 3, 6, 7, 8, 9, 10, 11, 12, 2, 6, 1, 2, 3, 5, 6, 8, 9, 10, 5, 7, 1, 4, 2, 4, 5, 6, 7, 11, 6, 8, 2, 3, 4, 5, 6, 7, 8, 9, 11, 12, 1, 2, 3, 4, 5, 6, 7, 9, 5, 6, 1, 2, 3, 4, 5, 6, 7, 8, 9, 10, 11, 12, 3, 11, 7, 11, 1, 7, 3, 5, 4, 1, 2, 5, 10, 11, 5, 1, 4, 5, 6, 8, 9, 10, 11, 2, 5, 7, 10, 5, 9, 7, 1, 2, 3, 4, 5, 6, 7, 8, 9, 10, 11, 12, 1, 2, 3, 4, 5, 6, 7, 8, 9, 10, 12, 9, 10, 1, 5, 2, 1, 2, 3, 5, 8, 10, 4, 8, 12, 3, 4, 5, 6, 7, 8, 9, 11, 12, 1, 2, 3, 4, 5, 6, 7, 8, 9, 10, 11, 12, 1, 2, 3, 4, 5, 6, 7, 8, 9, 10, 11, 12, 1, 3, 4, 5, 6, 7, 8, 9, 10, 11, 12, 1, 2, 3, 4, 5, 9, 10, 11, 5, 9, 1, 3, 4, 5, 6, 7, 8, 11, 12, 3, 9, 1, 1, 4, 1, 2, 2, 1, 7, 5, 9, 10, 11, 9, 10, 11, 2, 3, 4, 5, 7, 9, 10, 1, 2, 3, 4, 5, 6, 7, 8, 9, 10, 11, 12, 6, 1, 9, 2, 1, 3, 10, 1, 2, 3, 5, 6, 7, 8, 10, 12, 3, 5, 6, 7, 10, 12, 2, 3, 4, 9, 11, 12, 1, 3, 5, 7, 9, 10, 1, 2, 3, 5, 6, 7, 9, 10, 11, 12, 1, 7, 11, 9, 1, 6, 12, 11, 1, 6, 11, 3, 4, 12, 1, 2, 3, 4, 5, 6, 7, 8, 9, 11, 12, 3, 7, 6, 12, 1, 2, 4, 5, 6, 8, 11, 1, 4, 7, 9, 2, 7, 9, 1, 2, 3, 5, 6, 7, 8, 10, 11, 1, 2, 3, 4, 5, 6, 7, 9, 10, 11, 12, 3, 4, 11, 1, 2, 3, 4, 5, 6, 7, 9, 10, 11, 12, 6, 10, 1, 2, 4, 6, 8, 9, 10, 12, 5, 10, 11, 1, 3, 5, 6, 8, 9, 11, 12, 1, 2, 5, 6, 7, 9, 11, 12, 1, 2, 3, 4, 5, 6, 7, 8, 9, 10, 11, 12, 1, 2, 3, 4, 5, 6, 7, 8, 9, 10, 11, 12, 2, 3, 4, 10, 1, 4, 9, 10, 8], \"Freq\": [0.023445318680410162, 0.9612580658968167, 0.9733403598412049, 0.952234914901324, 0.9850246012764036, 0.9705702143313516, 0.9555562295486792, 0.9878957482031642, 0.15325040219628538, 0.004643951581705618, 0.013931854745116852, 0.004643951581705618, 0.009287903163411236, 0.16253830535969663, 0.06037137056217303, 0.5897818508766134, 0.9667609507757372, 0.008265484035367306, 0.595114850546446, 0.38847774966226334, 0.972752299918107, 0.9535215666413185, 0.9714869580036575, 0.9617270605012147, 0.03316300208624878, 0.9570430675933125, 0.9803721088193501, 0.9674897989314692, 0.0304688175863042, 0.9597677539685823, 0.9419127886343075, 0.9662170552054029, 0.976763577364834, 0.9535379173397524, 0.06595424583418982, 0.03768814047667989, 0.16959663214505952, 0.09422035119169973, 0.6218543178652183, 0.9631781201433193, 0.9527120204676585, 0.9562987436886813, 0.9886388008693997, 0.9559152397128505, 0.9822880647089535, 0.04744125101941732, 0.01186031275485433, 0.9132440821237834, 0.01186031275485433, 0.06385242044756989, 0.9258600964897633, 0.07211144861364463, 0.024723925238963874, 0.0020603271032469893, 0.395582803823422, 0.0061809813097409684, 0.0762321028201386, 0.21839467294418088, 0.03296523365195183, 0.043266869168186776, 0.004120654206493979, 0.12774028040131336, 0.9441824670127404, 0.1807070242329915, 0.03525990716741298, 0.4363413511967356, 0.12340967508594541, 0.05729734914704609, 0.03525990716741298, 0.10577972150223892, 0.004407488395926622, 0.01762995358370649, 0.962646545470131, 0.9739228200532349, 0.9746216682717448, 0.9270749518510726, 0.9810179281765925, 0.9638011411594207, 0.022413980026963272, 0.9696576960050078, 0.9559365889607037, 0.9027633117417316, 0.08206939197652106, 0.9661871760108293, 0.019323743520216586, 0.08724042710727552, 0.8898523564942102, 0.9797929185408882, 0.022794035460107984, 0.011397017730053992, 0.8433793120239953, 0.011397017730053992, 0.07977912411037794, 0.022794035460107984, 0.9759580472395332, 0.8191696457501305, 0.07843113629522526, 0.08714570699469473, 0.9457924429936359, 0.9594595043350943, 0.9536252538797136, 0.029701785164657424, 0.1336580332409584, 0.7573955216987643, 0.04455267774698614, 0.014850892582328712, 0.014850892582328712, 0.004486503625859473, 0.013459510877578419, 0.040378532632735255, 0.008973007251718946, 0.004486503625859473, 0.004486503625859473, 0.022432518129297363, 0.9017872287977541, 0.7072340810362837, 0.008520892542605829, 0.025562677627817484, 0.24710588373556902, 0.1748768938121443, 0.15897899437467664, 0.019430765979127143, 0.16074542764550637, 0.17664332708297403, 0.012365032895808183, 0.04416083177074351, 0.09715382989563572, 0.06712446429153013, 0.028262932333275845, 0.033562232145765064, 0.026496499062446104, 0.9434571880169982, 0.024827820737289424, 0.41707599149452224, 0.013787636082463545, 0.0034469090206158863, 0.5342708981954624, 0.024128363144311205, 0.0034469090206158863, 0.693896057407312, 0.02532467362800409, 0.1975324542984319, 0.04558441253040736, 0.030389608353604904, 0.00778052718028928, 0.05446369026202496, 0.00778052718028928, 0.1556105436057856, 0.7702721908486387, 0.0632200630684617, 0.9166909144926947, 0.9372750599144525, 0.9727771514637258, 0.17710879106317204, 0.03373500782155658, 0.04216875977694572, 0.008433751955389144, 0.7337364201188555, 0.011416186511199966, 0.011416186511199966, 0.011416186511199966, 0.9589596669407972, 0.09668563357078631, 0.006906116683627594, 0.003453058341813797, 0.0017265291709068985, 0.005179587512720695, 0.018991820879975883, 0.1225835711343898, 0.08977951688715873, 0.0017265291709068985, 0.5145056929302557, 0.003453058341813797, 0.13294274615983118, 0.07607673525524294, 0.06720111614213127, 0.09256002789387892, 0.1813162190249957, 0.12172277640838872, 0.06846906172971866, 0.11157921170768965, 0.0798805720180051, 0.0722728984924808, 0.01648329263863597, 0.08495235436835462, 0.026626857339335033, 0.19616065427806864, 0.5795655694579301, 0.008916393376275847, 0.2050770476543445, 0.9683606323657664, 0.013638882145996711, 0.013638882145996711, 0.9462053798544148, 0.018158484940267117, 0.05447545482080135, 0.8897657620730887, 0.018158484940267117, 0.9774946792290594, 0.8763021015316612, 0.023683840581936788, 0.09473536232774715, 0.9611445245922337, 0.9364643189580987, 0.013000138621682577, 0.013000138621682577, 0.013000138621682577, 0.9490101193828281, 0.005735470915147091, 0.005735470915147091, 0.011470941830294182, 0.01529458910705891, 0.09559118191911818, 0.8603206372720636, 0.0019118236383823637, 0.9394331013985957, 0.02184728142787432, 0.9682721915757605, 0.1212738321234608, 0.0075796145077163, 0.0985349886003119, 0.583630317094155, 0.0606369160617304, 0.0075796145077163, 0.1136942176157445, 0.9902987822086499, 0.00579357161897903, 0.7415771672293159, 0.08690357428468545, 0.00579357161897903, 0.15063286209345478, 0.00579357161897903, 0.47788177849937485, 0.013918886752408976, 0.009279257834939318, 0.1577473831939684, 0.12526998077168078, 0.018558515669878636, 0.009279257834939318, 0.06959443376204488, 0.004639628917469659, 0.1113510940192718, 0.044865594988399086, 0.06851097613093375, 0.004850334593340442, 0.2952641183695994, 0.12671499125101904, 0.012125836483351105, 0.10185702646014928, 0.12307724030601372, 0.053353680526744864, 0.03759009309838843, 0.09458152457013862, 0.03759009309838843, 0.03392076528499637, 0.09251117804999011, 0.45022106650995186, 0.06784153056999274, 0.26519871040997167, 0.0030837059349996705, 0.006167411869999341, 0.027753353414997035, 0.009251117804999012, 0.046255589024995054, 0.04373576100139003, 0.07975344653194653, 0.2032426540652831, 0.11319844023889185, 0.09904863520903037, 0.05531287420764034, 0.0848988301791689, 0.19423823268264398, 0.059171911943057105, 0.037304031442362086, 0.027013264147917375, 0.0025726918236111786, 0.0018468877243792996, 0.16252611974537837, 0.003693775448758599, 0.007387550897517198, 0.0055406631731378985, 0.801549272380616, 0.007387550897517198, 0.007387550897517198, 0.048792992060288094, 0.0717909628402965, 0.04102340733731229, 0.05190082594947842, 0.19672588518574755, 0.004350967444866454, 0.08950561600868134, 0.03915870700379809, 0.12400257217869395, 0.0929242332867907, 0.05625179339434488, 0.18336219946222915, 0.9907294015722699, 0.9545100249365158, 0.9461536953347333, 0.03413351121892093, 0.23514196617478858, 0.667499774947787, 0.05688918536486821, 0.0037926123576578806, 0.004815454946625922, 0.9727218992184362, 0.004815454946625922, 0.014446364839877766, 0.9780384694882434, 0.9802759429340957, 0.9831892038979728, 0.6696754436350945, 0.1545404869927141, 0.05151349566423804, 0.007359070809176862, 0.11038606213765294, 0.08765208044986698, 0.841459972318723, 0.06573906033740023, 0.09282409070393119, 0.022798899471140995, 0.048854784581016414, 0.03908382766481313, 0.032569856387344276, 0.21333255933710502, 0.20193310960153452, 0.11236600453633776, 0.04559779894228199, 0.022798899471140995, 0.15796380347861974, 0.009770956916203282, 0.9628771651231997, 0.20657181129042881, 0.017706155253465326, 0.0029510258755775544, 0.023608207004620435, 0.10033487976963686, 0.029510258755775544, 0.09148180214290419, 0.0029510258755775544, 0.2655923288019799, 0.0029510258755775544, 0.2537882252996697, 0.5557922016493335, 0.012489712396614236, 0.14363169256106373, 0.17485597355259933, 0.012489712396614236, 0.056203705784764066, 0.006244856198307118, 0.006244856198307118, 0.024979424793228473, 0.9832947268818907, 0.9603966850819147, 0.9652254608538686, 0.4312798693062336, 0.015402852475222628, 0.06546212301969617, 0.06931283613850182, 0.27340063143520166, 0.003850713118805657, 0.015402852475222628, 0.003850713118805657, 0.06546212301969617, 0.0539099836632792, 0.003850713118805657, 0.9650274320495745, 0.972125689289532, 0.13460861498829893, 0.16710034964064693, 0.17638370239846066, 0.46880931426959277, 0.009283352757813718, 0.009283352757813718, 0.023208381894534297, 0.9744300610209015, 0.005622104034704095, 0.8770482294138388, 0.01124420806940819, 0.02248841613881638, 0.07308735245115322, 0.01124420806940819, 0.0066394823854047024, 0.982643393039896, 0.08247367676491384, 0.20618419191228457, 0.2525756350925486, 0.4329868030157976, 0.02577302398903557, 0.1235712618671469, 0.127984521219545, 0.07502540899076776, 0.0728187793145687, 0.09267844640036017, 0.002206629676199052, 0.01323977805719431, 0.09929833542895733, 0.13901766960054027, 0.01103314838099526, 0.002206629676199052, 0.24052263470569663, 0.9678083312134089, 0.9548546987237612, 0.9686452772561398, 0.027734446322011566, 0.027734446322011566, 0.762697273855318, 0.1525394547710636, 0.013867223161005783, 0.22200674950491908, 0.247712794184436, 0.04673826305366718, 0.0397275235956171, 0.02336913152683359, 0.15423626807710167, 0.08646578664928427, 0.04673826305366718, 0.09347652610733435, 0.02336913152683359, 0.014021478916100153, 0.9233806331902517, 0.051298924066125094, 0.928507361566509, 0.043186388910070185, 0.021593194455035093, 0.9577807849439184, 0.8949993956425242, 0.09638455029996414, 0.013359964794676122, 0.1024263967591836, 0.14250629114321195, 0.6769048829302569, 0.03562657278580299, 0.026719929589352244, 0.9809875157689465, 0.9424775603378117, 0.014005013372392825, 0.9523409093227121, 0.014005013372392825, 0.9814753806889227, 0.04239376426921505, 0.01695750570768602, 0.14413879851533115, 0.01695750570768602, 0.03391501141537204, 0.7376514982843418, 0.061422368138647924, 0.14741368353275502, 0.712499470408316, 0.061422368138647924, 0.012284473627729584, 0.9773594700112541, 0.9531719578347196, 0.9815822453611269, 0.09412797075510583, 0.09293647745440829, 0.2287667137339281, 0.03455330572022872, 0.08697901095092057, 0.04408525212580906, 0.03931927892301889, 0.08340453104882795, 0.06791511813975991, 0.08697901095092057, 0.10842589036347634, 0.03217031911883364, 0.9841041957017791, 0.9469240340421976, 0.9714607651388557, 0.02974724555270578, 0.9519118576865849, 0.06550942367426797, 0.9171319314397516, 0.9677442873017194, 0.962897206354823, 0.9727824263818399, 0.20262543370715594, 0.010131271685357797, 0.12157526022429356, 0.6281388444921834, 0.03039381505607339, 0.0517423046208489, 0.007391757802978415, 0.9313614831752803, 0.21411179783693773, 0.042822359567387544, 0.010705589891846886, 0.010705589891846886, 0.7065689328618945, 0.010705589891846886, 0.6151699801387379, 0.03216575059548956, 0.04020718824436195, 0.0924765329620325, 0.028145031771053368, 0.07639365766428771, 0.004020718824436195, 0.06433150119097912, 0.00804143764887239, 0.03618646941992576, 0.04293316856879649, 0.9230631242291246, 0.15823574132839846, 0.07603535622273692, 0.05548525994632154, 0.010275048138207692, 0.31236146340151383, 0.18906088574302155, 0.03493516366990615, 0.02466011553169846, 0.06781531771217077, 0.004110019255283077, 0.03904518292518923, 0.028770134786981538, 0.12447953711935265, 0.02489590742387053, 0.015842850178826702, 0.06337140071530681, 0.5386569060801079, 0.045265286225219144, 0.011316321556304786, 0.03847549329143627, 0.11089995125178691, 0.013579585867565743, 0.009053057245043829, 0.004526528622521914, 0.9606478950651429, 0.968338058748743, 0.1519174599102752, 0.8165563470177293, 0.03977906547349846, 0.007232557358817901, 0.0036162786794089507, 0.0036162786794089507, 0.018081393397044752, 0.9257673419286914, 0.0036162786794089507, 0.08573076995970619, 0.03226426826440556, 0.055310174167552385, 0.09402729608483905, 0.05899751911205588, 0.08573076995970619, 0.07743424383457334, 0.17975806604454525, 0.10785483962672715, 0.09955831350159429, 0.053466501695300636, 0.07005955394556636, 0.05387568068419243, 0.9158865716312712, 0.9744296766285767, 0.02030061826309535, 0.963567181180036, 0.9580901578801112, 0.9553879647268402, 0.9275918436129138, 0.024410311674024045, 0.8237826822975258, 0.009468766463189952, 0.03787506585275981, 0.12309396402146937, 0.9525369300822811, 0.05148790762075993, 0.12169869073997801, 0.17318659836073794, 0.11701797186536347, 0.009361437749229078, 0.12637940961459254, 0.3978611043422358, 0.1740638484020246, 0.06095906927159511, 0.06830353544889572, 0.09474361368717794, 0.16818827546018408, 0.0381912241219632, 0.0918058272162577, 0.06389685574251536, 0.03231565118012271, 0.12265258516092029, 0.041129010592883444, 0.044066797063803696, 0.9660176857378548, 0.00952686540953013, 0.01905373081906026, 0.952686540953013, 0.9636196180484874, 0.09890970607039393, 0.01648495101173232, 0.18133446112905552, 0.7006104179986237, 0.9548574652368501, 0.5902170277321936, 0.08533258232272678, 0.03199971837102254, 0.007111048526893899, 0.021333145580681695, 0.04266629116136339, 0.11733230069374934, 0.007111048526893899, 0.007111048526893899, 0.021333145580681695, 0.06755496100549203, 0.03560689613395227, 0.017803448066976136, 0.08901724033488068, 0.8367620591478784, 0.0070320399585528616, 0.014943084911924831, 0.13536676920214258, 0.34984398793800486, 0.1028435843938356, 0.0799894545285388, 0.06240935463215665, 0.014064079917105723, 0.07119940458034772, 0.10020656940937828, 0.0035160199792764308, 0.05801432965806111, 0.6921580146131201, 0.026284481567586837, 0.043807469279311395, 0.11389942012620963, 0.017522987711724558, 0.09637643241448507, 0.008761493855862279, 0.0105318028626201, 0.0421272114504804, 0.0315954085878603, 0.8425442290096081, 0.0631908171757206, 0.0105318028626201, 0.9792864125764839, 0.935488474665537, 0.03171147371747583, 0.015855736858737916, 0.9665558856188105, 0.945763950404263, 0.008083891687160867, 0.12833178053367877, 0.0242516750614826, 0.005052432304475542, 0.11014302423756682, 0.005052432304475542, 0.00606291876537065, 0.6123547953024356, 0.005052432304475542, 0.09094378148055976, 0.003031459382685325, 0.002020972921790217, 0.053672869121725524, 0.03500404507938621, 0.025669633058216557, 0.09101051720640416, 0.0980113262222814, 0.0653408841481876, 0.053672869121725524, 0.22635949151336418, 0.10734573824345105, 0.04667206010584828, 0.19368904943927037, 0.007000809015877242, 0.9125518248026151, 0.9431975676729818, 0.20000838931541212, 0.11765199371494832, 0.019608665619158052, 0.050982530609810936, 0.035295598114484496, 0.01568693249532644, 0.050982530609810936, 0.00784346624766322, 0.023530398742989664, 0.16079105807709604, 0.3058951836588656, 0.00392173312383161, 0.493024991985268, 0.08561511836869924, 0.02657020914890666, 0.06199715468078221, 0.08561511836869924, 0.017713472765937772, 0.002952245460989629, 0.005904490921979258, 0.22141840957422215, 0.07224910277206578, 0.06910783743414987, 0.05340151074457036, 0.1790521242612065, 0.018847592027495422, 0.08952606213060325, 0.020418224696453373, 0.3298328604811699, 0.08324353145477144, 0.0424070820618647, 0.012565061351663614, 0.028271388041243132, 0.9630810980483303, 0.9477828820886378, 0.021061841824191952, 0.9624761275159968, 0.9034262002393536, 0.07971407649170767, 0.10160189788627451, 0.5080094894313726, 0.0078155306066365, 0.015631061213273, 0.00390776530331825, 0.015631061213273, 0.09769413258295626, 0.06643201015641026, 0.05861647954977376, 0.05470871424645551, 0.06643201015641026, 0.9544516817789812, 0.2333388465682219, 0.01228099192464326, 0.7368595154785955, 0.08667490826370347, 0.8884178097029605, 0.08212849528147165, 0.09369588898308738, 0.1098902401653494, 0.0011567393701615726, 0.025448266143554596, 0.05783696850807863, 0.5702725094896552, 0.026605005513716168, 0.005783696850807863, 0.026605005513716168, 0.0011567393701615726, 0.9666487167746696, 0.9711946986590195, 0.020799212714260957, 0.9567637848560041, 0.9681620088306468, 0.02147908783329206, 0.26311882595782776, 0.02147908783329206, 0.15572338679136746, 0.39736312491590314, 0.016109315874969048, 0.016109315874969048, 0.08591635133316824, 0.02147908783329206, 0.9668098322493248, 0.009035605908872195, 0.009035605908872195, 0.9678910288746783, 0.9723742461914964, 0.9774284086109561, 0.7815492389030971, 0.21122952402786407, 0.05160450664016749, 0.46935527467961863, 0.03440300442677833, 0.00491471491811119, 0.012286787295277974, 0.05406186409922309, 0.012286787295277974, 0.08600751106694582, 0.09337958344411261, 0.014744144754333569, 0.03440300442677833, 0.13515466024805772, 0.9734232460657811, 0.01316368673723353, 0.9609491318180476, 0.0236837394997106, 0.0118418697498553, 0.0947349579988424, 0.0118418697498553, 0.0355256092495659, 0.2249955252472507, 0.0118418697498553, 0.5802516177429097, 0.9438403765812493, 0.9809210502957012, 0.025393256284585754, 0.11173032765217732, 0.15743818896443168, 0.5281797307193836, 0.14220223519368022, 0.005078651256917151, 0.025393256284585754, 0.019932301905336576, 0.9168858876454825, 0.059796905716009735, 0.9613686307889582, 0.01724136037586428, 0.9655161810483996, 0.8213613189087006, 0.15795409979013472, 0.9586214457070084, 0.9694652266473545, 0.9689035096824561, 0.9225221219076156, 0.03547513465742809, 0.1241629713009983, 0.03547513465742809, 0.7804529624634179, 0.9710882497896267, 0.01591947950474798, 0.9143470862232643, 0.006246927454707502, 0.18740782364122505, 0.018740782364122507, 0.10619776673002754, 0.043728492182952515, 0.6309396729254577, 0.006246927454707502, 0.3751294413156483, 0.13408882157665725, 0.04788886484880616, 0.14526289004137868, 0.01755925044456226, 0.0031925909899204108, 0.03352220539416431, 0.039907387374005135, 0.07342959276816945, 0.09418143420265213, 0.007981477474801027, 0.027137023414323492, 0.12729236242146139, 0.007006919032374021, 0.05605535225899217, 0.2277248685521557, 0.014013838064748043, 0.06189445145263719, 0.08525084822721726, 0.010510378548561032, 0.01634947774220605, 0.03620241500059911, 0.34801031194124304, 0.009342558709832029, 0.07765478241024873, 0.8930299977178604, 0.09754076450916863, 0.056159834111339506, 0.0857176415383603, 0.13301013342159357, 0.20394887124644348, 0.038425149655127035, 0.04138093039782911, 0.029557807427020792, 0.026602026684318714, 0.26602026684318714, 0.017734684456212475, 0.17484019176716117, 0.003914332651503608, 0.0013047775505012028, 0.7698187547957097, 0.046971991818043304, 0.982144253322093, 0.04854122530839118, 0.029871523266702265, 0.22403642450026698, 0.044807284900053396, 0.09708245061678236, 0.20910066286691584, 0.011201821225013349, 0.022403642450026698, 0.08027971877926234, 0.12695397388348462, 0.05787607632923564, 0.04854122530839118, 0.016204503545820946, 0.016204503545820946, 0.9560657092034358, 0.01242676852173235, 0.06213384260866175, 0.7704596483474057, 0.11184091669559115, 0.01242676852173235, 0.01242676852173235, 0.01713500406656027, 0.04283751016640067, 0.7111026687622513, 0.19705254676544312, 0.01713500406656027, 0.008567502033280135, 0.008567502033280135, 0.9078929859384556, 0.054473579156307336, 0.018157859718769112, 0.9595220707433866, 0.9497846809723709, 0.9474075433114212, 0.957695960429383, 0.02176581728248598, 0.9786773779839525, 0.9651273154777446, 0.07692036920964371, 0.9076603566737959, 0.09720277989174046, 0.024300694972935116, 0.052072917799146676, 0.09720277989174046, 0.12497500271795202, 0.08910254823409541, 0.04281551019040949, 0.38186806386040895, 0.01272893546201363, 0.06017314945679171, 0.010414583559829335, 0.00694305570655289, 0.13267360022293156, 0.01451117502438314, 0.1430387252403481, 0.02487630004179967, 0.09950520016719867, 0.08084797513584893, 0.20108342533788065, 0.022803275038316365, 0.04975260008359934, 0.11816242519854843, 0.07877495013236561, 0.0352414250592162, 0.9515904630053379, 0.03171968210017793, 0.15600426390565042, 0.020800568520753387, 0.08320227408301355, 0.7280198982263686, 0.9407827191870048, 0.9777662943318228, 0.03358313324354937, 0.1055469901940123, 0.004797590463364195, 0.06716626648709874, 0.014392771390092587, 0.7244361599679935, 0.04317831417027776, 0.00959518092672839, 0.928764544633782, 0.0309588181544594, 0.0154794090772297, 0.10683649584907261, 0.1561456477794138, 0.7314190869667279, 0.9467162489709366, 0.020205555467139813, 0.646577774948474, 0.0471462960899929, 0.03367592577856636, 0.11449814764712561, 0.006735185155713272, 0.026940740622853086, 0.08082222186855925, 0.006735185155713272, 0.013470370311426543, 0.13406134794972463, 0.1709282186358989, 0.1474674827446971, 0.06032760657737608, 0.11730367945600906, 0.07373374137234855, 0.026812269589944926, 0.01675766849371558, 0.0067030673974862315, 0.24801349370699058, 0.9582403385078595, 0.020574726090188344, 0.9670121262388521, 0.9809028955520305, 0.11744695078933766, 0.018544255387790157, 0.012362836925193438, 0.018544255387790157, 0.012362836925193438, 0.7108631231986227, 0.11744695078933766, 0.9506126012555776, 0.07997115833556331, 0.10662821111408441, 0.7863830569663726, 0.944426242160858, 0.20408925475827672, 0.00887344585905551, 0.0887344585905551, 0.6921287770063297, 0.04951436414345861, 0.05570365966139094, 0.06808225069725558, 0.006189295517932326, 0.5384687100601123, 0.05570365966139094, 0.2166253431276314, 0.9625366618616279, 0.9642804893503181, 0.010954455900988935, 0.9639921192870262, 0.010954455900988935, 0.010954455900988935, 0.9331683880721074, 0.011863141955256864, 0.005931570977628432, 0.011863141955256864, 0.9727776403310628, 0.16832361847125954, 0.017304297226017337, 0.006292471718551758, 0.11483760886356958, 0.0755096606226211, 0.020450533085293213, 0.017304297226017337, 0.0015731179296379395, 0.03303547652239673, 0.014158061366741456, 0.522275152639796, 0.009438707577827637, 0.9637236984613256, 0.1496307783832827, 0.032611836314305205, 0.028775149689092828, 0.005755029937818565, 0.032611836314305205, 0.21677279432449928, 0.019183433126061883, 0.11893728538158369, 0.09208047900509704, 0.08632544906727847, 0.11893728538158369, 0.09591716563030943, 0.9741997925047807, 0.9474798289193982, 0.02871150996725449, 0.9638065788605736, 0.01799344282872809, 0.01799344282872809, 0.053980328486184274, 0.9176655842651327, 0.07829512563773389, 0.01957378140943347, 0.058721344228300415, 0.03914756281886694, 0.7829512563773389, 0.7788361119284061, 0.010384481492378746, 0.010384481492378746, 0.020768962984757493, 0.09346033343140872, 0.08307585193902997, 0.0639587635122572, 0.004919904885558246, 0.029519429313349475, 0.2902743882479365, 0.6100682058092225, 0.9122793300505874, 0.048014701581609864, 0.9747253862055112, 0.9460904354886085, 0.02012958373380018, 0.9881255609629617, 0.007371044770481727, 0.007371044770481727, 0.014742089540963454, 0.7297334322776909, 0.05159731339337209, 0.18427611926204318, 0.0021858728548118608, 0.008743491419247443, 0.0043717457096237216, 0.9814569118105254, 0.05599846368795196, 0.2633261090088217, 0.05266522180176434, 0.02799923184397598, 0.12732984005236694, 0.02199939644883827, 0.12199665303446677, 0.0886642341725906, 0.06533154096927729, 0.07333132149612756, 0.060665002328614624, 0.04133219938872645, 0.9707612103140667, 0.0026312850479634432, 0.03420670562352476, 0.8042961296608258, 0.0035083800639512572, 0.0070167601279025145, 0.02192737539969536, 0.03596089565550039, 0.03508380063951257, 0.0368379906714882, 0.004385475079939072, 0.013156425239817216, 0.0008770950159878143, 0.1257891667371465, 0.04247426409306245, 0.04900876626122591, 0.009801753252245181, 0.5162256712849129, 0.004900876626122591, 0.029405259756735545, 0.13395729444735083, 0.0849485281861249, 0.0016336255420408637, 0.014363966970305056, 0.024623943377665807, 0.04514389619238732, 0.0041039905629443015, 0.43912699023504026, 0.06976783957005313, 0.05335187731827592, 0.11901572632538474, 0.10259976407360753, 0.08002781597741387, 0.049247886755331614, 0.17999780979446695, 0.7559908011367611, 0.05999926993148898, 0.018163014112237957, 0.012108676074825304, 0.006054338037412652, 0.1271410987856657, 0.7749552687888195, 0.018163014112237957, 0.03027169018706326, 0.013247893995742173, 0.21859025092974585, 0.06623946997871086, 0.08611131097232412, 0.11260709896380847, 0.49017207784246036, 0.013247893995742173, 0.038965638327799396, 0.1845740762895761, 0.09536327274961431, 0.13227808800752955, 0.01743199609401552, 0.08203292279536716, 0.14971008410154504, 0.06665174977123581, 0.051270576747104474, 0.029736934513320594, 0.11074444577374566, 0.042041872932625665, 0.974720618367151, 0.938295470719112, 0.9106315439451362, 0.06829736579588522, 0.9824387896289369, 0.788903338785224, 0.0092812157504144, 0.0185624315008288, 0.139218236256216, 0.0185624315008288, 0.0092812157504144, 0.9292875118541555, 0.021120170723958078, 0.021120170723958078, 0.04254799364467818, 0.02127399682233909, 0.8935078665382418, 0.9157674308928552, 0.9542916689608163, 0.02385729172402041, 0.9501812142579497, 0.9339725367106317, 0.9732887487620149, 0.8457842593977791, 0.11170735501480102, 0.03191638714708601, 0.35428850921098465, 0.01845252652140545, 0.35059800390670354, 0.03321454773852981, 0.01107151591284327, 0.19559678112689777, 0.00738101060856218, 0.00738101060856218, 0.02214303182568654, 0.9514324146711814, 0.9784610407075501, 0.04925569774093279, 0.017164864364264457, 0.24702478715528414, 0.07313724816077899, 0.0022388953518605813, 0.052987189994033755, 0.050748294642173175, 0.0708983528089184, 0.21120246152551483, 0.03731492253100969, 0.11045217069178868, 0.07686874041387996, 0.9756983226765973, 0.03383211711597234, 0.004229014639496542, 0.22413777589331674, 0.05920620495295159, 0.5962910641690125, 0.02114507319748271, 0.06766423423194468, 0.058363120698091374, 0.933809931169462, 0.9568912386311045, 0.01189080207376915, 0.0029727005184422874, 0.09215371607171091, 0.029727005184422874, 0.0029727005184422874, 0.008918101555326862, 0.8115472415347444, 0.0029727005184422874, 0.029727005184422874, 0.0029727005184422874, 0.9666996789919634, 0.9389766980713963, 0.9746054185926087, 0.13702106505012632, 0.0417020632761254, 0.01787231283262517, 0.023829750443500226, 0.5659565730331304, 0.13702106505012632, 0.01787231283262517, 0.04765950088700045, 0.005957437610875057, 0.005957437610875057, 0.10145809713347578, 0.0067638731422317196, 0.2367355599781102, 0.07440260456454892, 0.06594776313675926, 0.03720130228227446, 0.19107941626804606, 0.06425679485120134, 0.05580195342341168, 0.0033819365711158598, 0.10991293856126544, 0.052420016852295824, 0.9742463625938107, 0.9640694429536633, 0.9689104225391698, 0.9108341737748826, 0.022489732685799572, 0.044979465371599144, 0.9885546730555658, 0.958027315004851, 0.09409011125937843, 0.005534712427022261, 0.005534712427022261, 0.033208274562133565, 0.016604137281066782, 0.10515953611342295, 0.3099438959132466, 0.42617285688071405, 0.2526097862955034, 0.10363478412123217, 0.11658913213638619, 0.03238587003788505, 0.3821532664470436, 0.10363478412123217, 0.9670581800754698, 0.0635036661680249, 0.9208031594363609, 0.8769048840126266, 0.07158407216429605, 0.035792036082148024, 0.08311084531823959, 0.02829305372535816, 0.14677021620029546, 0.01060989514700931, 0.12731874176411173, 0.00353663171566977, 0.07426926602906517, 0.19628306021967223, 0.09902568803875356, 0.04420789644587213, 0.07250095017123029, 0.11494053075926752, 0.025260305901263064, 0.12630152950631532, 0.6736081573670151, 0.025260305901263064, 0.13472163147340302, 0.007032074792293782, 0.10548112188440673, 0.08438489750752538, 0.7243037036062595, 0.007032074792293782, 0.056256598338350255, 0.014064149584587564, 0.9828344466080264, 0.010831873810334633, 0.9748686429301171, 0.7176019057166644, 0.06727517866093728, 0.1794004764291661, 0.022425059553645762, 0.14329423370851366, 0.14329423370851366, 0.11463538696681093, 0.0818824192620078, 0.00409412096310039, 0.503576878461348, 0.00409412096310039, 0.2828043099030516, 0.00707010774757629, 0.021210323242728868, 0.0707010774757629, 0.15554237044667837, 0.4595570035924588, 0.9692933472949163, 0.9566485401431208, 0.945505826493323, 0.9743223341640893, 0.055399074983607764, 0.8863851997377242, 0.05914493166615239, 0.026286636296067728, 0.47973111240323607, 0.28258134018272807, 0.046001613518118524, 0.013143318148033864, 0.07885990888820318, 0.013143318148033864, 0.03787973999709705, 0.21070605373385237, 0.6084433237033714, 0.004734967499637132, 0.009469934999274263, 0.12547663874038398, 0.9857625267299944, 0.003238143254379917, 0.20400302502593476, 0.5893420722971449, 0.20076488177155485, 0.022151403836660116, 0.952510364976385, 0.9850370398729654, 0.14549391123978725, 0.046389363003990144, 0.08645290378016345, 0.06536682968744065, 0.17079720015105462, 0.10332176305434168, 0.002108607409272279, 0.12651644455633676, 0.056932400050351537, 0.19610048906232197, 0.03677713334372875, 0.126676792628399, 0.06129522223954791, 0.39228942233310665, 0.04903617779163833, 0.1389358370763086, 0.03677713334372875, 0.024518088895819166, 0.04903617779163833, 0.024518088895819166, 0.004086348149303194, 0.05312252594094152, 0.9477934709131831, 0.9654999209955376, 0.9892874555077843, 0.011541676673554137, 0.2616113379338938, 0.17120153732438637, 0.0038472255578513794, 0.005770838336777068, 0.08848618783058172, 0.007694451115702759, 0.2731530146074479, 0.05193754503099362, 0.08079173671487896, 0.028854191683885345, 0.015388902231405517, 0.9312975017127559, 0.6838237437331638, 0.015541448721208268, 0.2564339038999364, 0.031082897442416536, 0.01621294231319396, 0.15199633418619338, 0.06687838704192509, 0.054718680307029616, 0.053705371412454996, 0.21786141233354384, 0.05674529809617886, 0.05167875362330575, 0.14591648081874564, 0.06586507814735047, 0.04357228246670877, 0.07599816709309669, 0.19848002569905637, 0.1303967610697289, 0.05885163552704578, 0.18694048932120425, 0.00807767546449648, 0.07616094009382396, 0.11424141014073594, 0.023079072755704227, 0.03692651640912677, 0.005769768188926057, 0.028848840944630284, 0.13270466834529931, 0.9368593964621955, 0.9499346149144994, 0.9543258795584678, 0.7802206621730196, 0.1950551655432549, 0.58374591687806, 0.02560289109114298, 0.09217040792811473, 0.04096462574582877, 0.020482312872914386, 0.020482312872914386, 0.010241156436457193, 0.20482312872914385, 0.3580256864517753, 0.04475321080647191, 0.11704685903231114, 0.14458729645167848, 0.037868101451630075, 0.04131065612905099, 0.08262131225810199, 0.01721277338710458, 0.0068851093548418325, 0.08950642161294382, 0.013770218709683665, 0.04819576548389282, 0.8522985795676963, 0.05218154568781814, 0.0347876971252121, 0.05218154568781814, 0.9817146114459631, 0.9715864687722822, 0.012618006087951716, 0.03147882005882889, 0.9443646017648668, 0.8638529419623526, 0.06126616609662075, 0.06126616609662075, 0.006126616609662075, 0.940469563521777, 0.0036840583965566205, 0.025788408775896342, 0.007368116793113241, 0.029472467172452964, 0.07736522632768904, 0.13631016067259497, 0.06631305113801916, 0.0036840583965566205, 0.6557623945870784, 0.05647919930401224, 0.931906788516202, 0.9739467801916679, 0.985863517081742, 0.951382815856816, 0.9728566363681858, 0.02474749518362895, 0.03669456182400155, 0.4574019799456937, 0.03072102850381525, 0.000853361902883757, 0.07424248555088686, 0.14421816158735493, 0.13568454255851736, 0.046081542755722876, 0.02474749518362895, 0.01109370473748884, 0.013653790446140112, 0.9856340918986592, 0.015502540265167378, 0.015502540265167378, 0.12402032212133902, 0.015502540265167378, 0.79838082365612, 0.015502540265167378, 0.9493732605153858, 0.9080043907728234, 0.07168455716627553, 0.9790006629707984, 0.8071407545362379, 0.045687212520919125, 0.121832566722451, 0.015229070840306376, 0.03424637519889848, 0.01712318759944924, 0.8219130047735634, 0.11986231319614467, 0.018102524246104954, 0.28964038793767927, 0.006034174748701651, 0.5853149506240601, 0.006034174748701651, 0.018102524246104954, 0.018102524246104954, 0.006034174748701651, 0.048273397989613206, 0.05847657085217114, 0.7699415162202533, 0.009746095142028524, 0.07796876113622819, 0.07796876113622819, 0.12410991189769628, 0.12410991189769628, 0.0338481577902808, 0.011282719263426935, 0.5246464457493525, 0.18052350821483096, 0.9185749102561197, 0.12863824635810514, 0.13743402388686446, 0.006596833146569494, 0.04507835983489154, 0.04397888764379663, 0.10554933034511191, 0.11324563568277632, 0.01759155505751865, 0.17481607838409158, 0.10335038596292208, 0.004397888764379663, 0.12094194102044073, 0.9436774851327231, 0.9696001514034143, 0.9563929377545298, 0.9800542985769299, 0.9682570997818419, 0.949683434705325, 0.0029716670245077126, 0.005943334049015425, 0.9479617808179603, 0.01188666809803085, 0.0029716670245077126, 0.0029716670245077126, 0.005943334049015425, 0.0029716670245077126, 0.017830002147046276, 0.9693196286800722, 0.07887877709559703, 0.025300739823116026, 0.005953115252497889, 0.11608574742370883, 0.04018352795436075, 0.028277297449364972, 0.13692165080745144, 0.4702961049473332, 0.01339450931812025, 0.07739049828247256, 0.008929672878746834, 0.9569917230914596, 0.985005176690335, 0.0014738504069798633, 0.07811407156993275, 0.12527728459328838, 0.03832011058147644, 0.3050870342448317, 0.1282249854072481, 0.047163213023355625, 0.14296348947704673, 0.03832011058147644, 0.03389855936053685, 0.06042786668617439, 0.9702344536128304, 0.9716108109187557, 0.019051192370955993, 0.005850629006614439, 0.6786729647672749, 0.11701258013228877, 0.19307075721827646, 0.9834464091725578, 0.9286589523377643, 0.9661151272974831, 0.9224244597719852, 0.0609148228151311, 0.9791642765051727, 0.3583778877786246, 0.6302507681624089, 0.9690655389981109, 0.9528990627345422, 0.9753477921395785, 0.949840821520034, 0.020815450160612044, 0.957510707388154, 0.04974810167369063, 0.528573580282963, 0.2673960464960871, 0.012437025418422657, 0.012437025418422657, 0.06840363980132462, 0.05596661438290196, 0.9387748922429248, 0.008256905297940008, 0.008256905297940008, 0.9825717304548609, 0.7843820954988576, 0.028522985290867553, 0.1853994043906391, 0.948931309215107, 0.0032296278261745525, 0.006459255652349105, 0.05167404521879284, 0.888147652198002, 0.016148139130872763, 0.009688883478523657, 0.019377766957047314, 0.9598131525703264, 0.018819865736673068, 0.030740239797978314, 0.9375773138383386, 0.015370119898989157, 0.015370119898989157, 0.12533637136224074, 0.0329832556216423, 0.00659665112432846, 0.8113880882924006, 0.00659665112432846, 0.00659665112432846, 0.9752225821112038, 0.020530549810104187, 0.12318329886062512, 0.8417525422142718, 0.9758488561755086, 0.09414115195784055, 0.8849268284037012, 0.22874823439228778, 0.7577285264244532, 0.9807278507977869, 0.9645069879033309, 0.9677410547588906, 0.028385981600103152, 0.028385981600103152, 0.056771963200206305, 0.8515794480030946, 0.08838932764774843, 0.060476908390564715, 0.05582483851436743, 0.004652069876197286, 0.04186862888577557, 0.027912419257183716, 0.009304139752394571, 0.08838932764774843, 0.618725293534239, 0.07822501733527586, 0.01564500346705517, 0.01173375260029138, 0.007822501733527585, 0.13689378033673275, 0.058668763001456896, 0.37548008320932413, 0.04302375953440172, 0.14862753293702413, 0.01564500346705517, 0.10169252253585861, 0.2909548420314605, 0.021552210520848925, 0.27586829466686624, 0.04094919998961295, 0.09482972629173526, 0.04310442104169785, 0.015086547364594248, 0.04957008419795252, 0.03448353683335828, 0.09698494734382015, 0.03663875788544317, 0.9895728954125719, 0.6130853251458965, 0.3695308809098554, 0.008398429111587623, 0.08722959092796977, 0.012954889741777689, 0.06995640460559951, 0.37569180251155293, 0.012091230425659176, 0.059592492812177364, 0.10882107383093258, 0.05354687759934778, 0.05786517417994034, 0.10968473314705109, 0.03022807606414794, 0.0207278235868443, 0.97218882155155, 0.25481918129593517, 0.008667319091698475, 0.35189315512295805, 0.05373737836853054, 0.019068102001736642, 0.01733463818339695, 0.05200391455019085, 0.07973933564362597, 0.027735421093435117, 0.05200391455019085, 0.006933855273358779, 0.07453894418860688, 0.9802024068105735, 0.9612749740061507, 0.024648076256567966, 0.9577079923474534, 0.10644170703890225, 0.03144868617058476, 0.009676518821718386, 0.2951338240624108, 0.17417733879093097, 0.014514778232577581, 0.0725738911628879, 0.149986041736635, 0.053220853519451126, 0.024191297054295968, 0.024191297054295968, 0.043544334697732744, 0.9824916225014149, 0.9711924542205945, 0.9356328944774691, 0.0993946308697794, 0.7951570469582352, 0.0165657718116299, 0.0331315436232598, 0.0331315436232598, 0.9575510161318181, 0.02710050045656089, 0.9422662276169115, 0.2044374643307366, 0.7739418292520743, 0.9658699209805385, 0.014199350028518938, 0.04259805008555682, 0.922957751853731, 0.9808401864623768, 0.9852900721610967, 0.006764261035906362, 0.15016659499712123, 0.008117113243087634, 0.5289652130078775, 0.09875821112423289, 0.08522968905242016, 0.031115600765169265, 0.0013528522071812724, 0.006764261035906362, 0.060878349323157256, 0.020292783107719085, 0.0013528522071812724, 0.9796689170248477, 0.9552665058893756, 0.01873071580175246, 0.9482550502001379, 0.9619381259457824, 0.8321762955913551, 0.15130478101661002, 0.9760414732571517, 0.013626850532976869, 0.016352220639572243, 0.2534594199133698, 0.03815518149233523, 0.5069188398267396, 0.05995814234509823, 0.016352220639572243, 0.002725370106595374, 0.008176110319786122, 0.016352220639572243, 0.06813425266488435, 0.05773131883161817, 0.004123665630829869, 0.008247331261659737, 0.024741993784979214, 0.028865659415809083, 0.0536076532007883, 0.1319573001865558, 0.43298489123713624, 0.016494662523319475, 0.07834964698576752, 0.012370996892489607, 0.15257562834070515, 0.9839807257709285, 0.9481260877450555, 0.01788349802529409, 0.22801459982249966, 0.196718478278235, 0.4113204545817641, 0.1162427371644116, 0.01788349802529409, 0.004470874506323523, 0.004470874506323523, 0.0069733299136534805, 0.0069733299136534805, 0.7531196306745759, 0.13249326835941613, 0.09065328887749524, 0.9480228521076272, 0.04121838487424466, 0.9651619687937809, 0.955179883196833, 0.008876933792099041, 0.9320780481703994, 0.008876933792099041, 0.017753867584198082, 0.026630801376297124, 0.028873689680839486, 0.952831759467703, 0.9387548679091116, 0.9612578467569963, 0.9571436896977624, 0.1046142000868942, 0.09763992008110126, 0.04184568003475768, 0.7532222406256383, 0.9376194186964073, 0.022324271873723985, 0.9581797244392599, 0.9219938520730554, 0.01007737928381936, 0.01007737928381936, 0.9371962733952004, 0.030232137851458077, 0.049737892866769134, 0.920151018035229, 0.9706741643095892, 0.08243611337550778, 0.06869676114625647, 0.013739352229251297, 0.8381004859843291, 0.9301223716938735, 0.01937754941028903, 0.01937754941028903, 0.01937754941028903, 0.964992562814486, 0.8373918369427858, 0.1311577575934484, 0.020178116552838216, 0.9740851182731592, 0.9569661142913076, 0.9452297200246617, 0.9478798232119581, 0.9622938130970016, 0.971425299267605, 0.9758314296220075, 0.012560157813310206, 0.916891520371645, 0.06280078906655102, 0.012560157813310206, 0.020173210518345894, 0.12103926311007536, 0.04034642103669179, 0.7867552102154898, 0.9772218106880173, 0.0280822647403223, 0.9267147364306358, 0.019929663079170535, 0.08470106808647478, 0.024912078848963168, 0.19929663079170534, 0.014947247309377902, 0.13950764155419373, 0.4683470823605076, 0.024912078848963168, 0.029894494618755804, 0.957275797768109, 0.9361000026104666, 0.9095551056932151, 0.07579625880776793, 0.9731792287883391, 0.010352401745321697, 0.16793896164632977, 0.024155604072417295, 0.1311304221074082, 0.11617695291972129, 0.03795880639951289, 0.07591761279902579, 0.27951484712368585, 0.016103736048278198, 0.06901601163547799, 0.031057205235965096, 0.04255987384187809, 0.019769489723249954, 0.7117016300369984, 0.009884744861624977, 0.1285016832011247, 0.029654234584874935, 0.0889627037546248, 0.15243209439864042, 0.057162035399490156, 0.18260094641503802, 0.1111484021656753, 0.07780388151597271, 0.052398532449532645, 0.10162139626576028, 0.023817514749787567, 0.09368222468249776, 0.09368222468249776, 0.04604719518292263, 0.007939171583262522, 0.1333299123458167, 0.03199917896299601, 0.010666392987665337, 0.010666392987665337, 0.15999589481498006, 0.05866516143215935, 0.021332785975330674, 0.02666598246916334, 0.03733237545682868, 0.44798850548194413, 0.06399835792599202, 0.011020123022846176, 0.05510061511423089, 0.7714086115992324, 0.1432615992970003, 0.011020123022846176, 0.09525703203659645, 0.05556660202134793, 0.14288554805489467, 0.07938086003049705, 0.05556660202134793, 0.5397898482073799, 0.007938086003049705, 0.01587617200609941, 0.1448252374493897, 0.015406940154190394, 0.015406940154190394, 0.0030813880308380786, 0.08011608880179005, 0.006162776061676157, 0.015406940154190394, 0.06470914864759965, 0.6378473223834823, 0.012325552123352315, 0.009244164092514237, 0.06585793512374333, 0.07092393013326204, 0.09625390518085564, 0.11145189020941178, 0.4407415658281284, 0.16211184030459896, 0.025329975047593586, 0.025329975047593586, 0.958977079543954, 0.03042405180357995, 0.8417320998990453, 0.010141350601193318, 0.04056540240477327, 0.07098945420835322, 0.010141350601193318, 0.9276149946790364, 0.05920946774547041, 0.032103139254669726, 0.005350523209111621, 0.09095889455489756, 0.21937145157357646, 0.005350523209111621, 0.042804185672892965, 0.005350523209111621, 0.5885575530022783, 0.9249066109762781, 0.04455144000973119, 0.6571337401435351, 0.18934362004135757, 0.08910288001946239, 0.011137860002432798, 0.1027398150506231, 0.061643889030373857, 0.3458907106704311, 0.04794524702362411, 0.16438370408099695, 0.027397284013499494, 0.06849321003374874, 0.17465768558605926, 0.03302987927201828, 0.006605975854403656, 0.11230158952486216, 0.006605975854403656, 0.8125350300916497, 0.026423903417614625, 0.1737057981586996, 0.02939636584224147, 0.013361984473746123, 0.261894895685424, 0.0320687627369907, 0.2512053081064271, 0.09620628821097209, 0.018706778263244572, 0.05077554100023527, 0.037413556526489145, 0.03474115963173992, 0.9697251982028883, 0.9340340936842542, 0.3097988019189383, 0.011064242925676369, 0.6527903326149058, 0.022128485851352738, 0.9701558163469045, 0.9685990055941582, 0.9552009531418014, 0.9749022789448849, 0.9792128223394545, 0.9617900925132922, 0.03363197071099637, 0.03363197071099637, 0.10762230627518839, 0.013452788284398548, 0.013452788284398548, 0.07399033556419202, 0.47757398409614843, 0.2085182184081775, 0.02017918242659782, 0.006726394142199274, 0.124885401545428, 0.156106751931785, 0.686869708499854, 0.3369167259161974, 0.08267895114507913, 0.062009213358809344, 0.05374131824430143, 0.028937632900777693, 0.10541566270997589, 0.16742487606878523, 0.002066973778626978, 0.006200921335880934, 0.07854500358782517, 0.04340644935116654, 0.031004606679404672, 0.9696484510218869, 0.07023433834111786, 0.008476558075652155, 0.17800771958869527, 0.5061716108032287, 0.0617577802654657, 0.010898431811552771, 0.004843747471801232, 0.06539059086931663, 0.030273421698757696, 0.00605468433975154, 0.05207028532186324, 0.00605468433975154, 0.009080180340883332, 0.6628531648844832, 0.07264144272706666, 0.16344324613589997, 0.03632072136353333, 0.009080180340883332, 0.05448108204529999, 0.9746752970422032, 0.044645141780691816, 0.08036125520524527, 0.11161285445172954, 0.23661925143766663, 0.008929028356138364, 0.05357417013683018, 0.35716113424553453, 0.03125159924648427, 0.008929028356138364, 0.06696771267103772, 0.9716038115261605, 0.9529653576032989, 0.9322417613621932, 0.013130165652988636, 0.03939049695896591, 0.5968763898075543, 0.025672102787421693, 0.006418025696855423, 0.006418025696855423, 0.07701630836226507, 0.032090128484277114, 0.12836051393710846, 0.09627038545283134, 0.006418025696855423, 0.032090128484277114, 0.9561591342311239, 0.026856375902643732, 0.11126212873952403, 0.007673250257898209, 0.0038366251289491046, 0.007673250257898209, 0.07673250257898209, 0.0038366251289491046, 0.023019750773694628, 0.2685637590264373, 0.007673250257898209, 0.46423164060284167, 0.9572603871494089, 0.9740740943114864, 0.2992632968550485, 0.6871972001856669, 0.9738296268582844, 0.9499835907030236, 0.01899967181406047, 0.7512095533547065, 0.10151480450739277, 0.11166628495813204, 0.020302960901478553, 0.8066219662178473, 0.16741210619615698, 0.9628232201393071, 0.1310263797597921, 0.6853687556666048, 0.09071057060293299, 0.010078952289214776, 0.03023685686764433, 0.03023685686764433, 0.009612701128499615, 0.009612701128499615, 0.0672889078994973, 0.11535241354199538, 0.21147942482699153, 0.01922540225699923, 0.5767620677099768, 0.18265006962103378, 0.10959004177262026, 0.47945643275521366, 0.004566251740525844, 0.018265006962103376, 0.21004758006418883, 0.2873553480268285, 0.6130247424572342, 0.06704958120625999, 0.009578511600894284, 0.009578511600894284, 0.890038686045802, 0.05085935348833155, 0.025429676744165776, 0.02287166293457481, 0.960609843252142, 0.0540114486001425, 0.367277850480969, 0.012345473965746858, 0.050925080108705785, 0.04475234312583236, 0.07870239653163622, 0.0030863684914367146, 0.2407367423320637, 0.02623413217721207, 0.0324068691600855, 0.04629552737155072, 0.04166597463439564, 0.9844382775875917, 0.16614099625712675, 0.07120328411019718, 0.005933607009183098, 0.023734428036732393, 0.011867214018366197, 0.053402463082647886, 0.03560164205509859, 0.3856844555969014, 0.005933607009183098, 0.24327788737650702, 0.9474906936916626, 0.005760311485221068, 0.011520622970442136, 0.10368560673397922, 0.005760311485221068, 0.005760311485221068, 0.005760311485221068, 0.24193308237928488, 0.034561868911326406, 0.02880155742610534, 0.017280934455663203, 0.5414692796107804, 0.9864837278552243, 0.05610910243589091, 0.006733092292306909, 0.015710548682049453, 0.0807971075076829, 0.8191928955640073, 0.011221820487178182, 0.0022443640974356364, 0.008977456389742546, 0.9625644948892619, 0.07979704959162216, 0.8777675455078437, 0.9626154758367625, 0.9590353013583208, 0.022303146543216763, 0.8777407562698455, 0.10206287863602855, 0.6919253168471312, 0.004552140242415337, 0.05007354266656871, 0.01365642072724601, 0.02731284145449202, 0.1365642072724601, 0.004552140242415337, 0.022760701212076684, 0.018208560969661346, 0.02731284145449202, 0.004552140242415337, 0.9584844409487462, 0.9583712974953997, 0.6355695575444203, 0.02249803743520072, 0.1124901871760036, 0.0281225467940009, 0.01124901871760036, 0.06186960294680198, 0.06186960294680198, 0.05062058422920162, 0.01124901871760036, 0.09251808297882612, 0.08581387406731698, 0.34995970518077707, 0.0724054562442987, 0.029498519210640214, 0.04424777881596032, 0.09251808297882612, 0.07508713980890236, 0.06436040555048773, 0.0335210445575457, 0.0067042089115091396, 0.053633671292073117, 0.959892439821131, 0.9808245709256288, 0.9823181900209892, 0.6503382046529912, 0.10719860516258098, 0.19295748929264575, 0.04287944206503239, 0.023980418624693717, 0.935236326363055, 0.9710896578477275, 0.9643094865822475, 0.9311877467724928, 0.02046566476423061, 0.010232832382115305, 0.030698497146345916, 0.010232832382115305, 0.9900653513324446, 0.007354359550708302, 0.9266493033892461, 0.007354359550708302, 0.02206307865212491, 0.02206307865212491, 0.007354359550708302, 0.0630876231794339, 0.8453741506044142, 0.012617524635886779, 0.025235049271773557, 0.037852573907660336, 0.9300979906242015, 0.12894004735929923, 0.16444527779157003, 0.005606089015621705, 0.14388961806762376, 0.06353567551037932, 0.12520265468221808, 0.341971429952924, 0.020555659723946254, 0.007474785354162274, 0.5233707230876049, 0.037383623077686064, 0.00534051758252658, 0.0267025879126329, 0.09612931648547844, 0.00534051758252658, 0.00534051758252658, 0.2563448439612758, 0.04272414066021264, 0.9655452679388611, 0.08432585631890278, 0.04216292815945139, 0.7673652925020152, 0.016865171263780555, 0.08432585631890278, 0.9389750532332746, 0.9604426712213585, 0.026772220448073068, 0.10173443770267766, 0.021417776358458453, 0.12315221406113612, 0.41764663898993987, 0.16598776677805302, 0.1177977699715215, 0.016063332268843843, 0.005354444089614613, 0.005354444089614613, 0.9628176861701303, 0.9541009640896481, 0.025107920107622316, 0.14282384838057643, 0.6325056142568385, 0.010201703455755459, 0.20403406911510918, 0.9761448327921505, 0.9612504487648765, 0.9762583898910285, 0.04729485795072446, 0.9222497300391269, 0.9581507647015962, 0.9424974189745422, 0.9526796730527818, 0.025748099271696807, 0.9852505873097731, 0.13274380689287057, 0.031067699485565453, 0.008473008950608759, 0.15251416111095767, 0.1440411521603489, 0.0028243363168695868, 0.12427079794226181, 0.0423650447530438, 0.09602743477356594, 0.019770354218087108, 0.24289292325078446, 0.9649794865261112, 0.0188818421114617, 0.9629739476845467, 0.1920513503108646, 0.14482560843114378, 0.02833544512783248, 0.02833544512783248, 0.10704501492736715, 0.1605675223910507, 0.11649016330331131, 0.006296765583962773, 0.2109416470627529, 0.933172099469724, 0.010755016155508328, 0.9679514539957494, 0.010755016155508328, 0.9306942381130356, 0.08960003004776562, 0.8780802944681031, 0.017920006009553124, 0.49942275327059726, 0.009889559470704896, 0.04450301761817203, 0.02472389867676224, 0.009889559470704896, 0.034613458147467135, 0.26207332597367977, 0.02966867841211469, 0.004944779735352448, 0.08406125550099162, 0.004944779735352448, 0.9172781257460328, 0.06254169039177497, 0.9346551764546637, 0.9664845511559959, 0.9790180833275645, 0.9631026414819216, 0.9581600199843385, 0.005506666781519187, 0.011013333563038375, 0.02202666712607675, 0.9525468373282545, 0.1429914840112027, 0.04245059681582581, 0.0625587742549012, 0.16086541951260305, 0.024576661314425468, 0.013405451626050256, 0.210018742141454, 0.08266695169397657, 0.03351362906512564, 0.18767632276470356, 0.02904514518977555, 0.011171209688375212, 0.9582425434830619, 0.7592147090194767, 0.04356149969783883, 0.006223071385405547, 0.03733842831243329, 0.14935371324973315, 0.030783266317901518, 0.954281255854947, 0.008540291149301608, 0.04270145574650804, 0.24482167961331278, 0.031314400880772565, 0.03985469203007417, 0.0028467637164338692, 0.14518494953812733, 0.11671731237378864, 0.10533025750805317, 0.07686262034371448, 0.07401585662728061, 0.11102378494092091, 0.9743351911332857, 0.9579603987719689, 0.9773559346288757, 0.02448103552319567, 0.12240517761597834, 0.6732284768878809, 0.012240517761597835, 0.036721553284793505, 0.11016465985438051, 0.012240517761597835, 0.02448103552319567, 0.026633491358136613, 0.9588056888929181, 0.007875121608689141, 0.6772604583472662, 0.023625364826067426, 0.07087609447820227, 0.031500486434756565, 0.039375608043445705, 0.11025170252164798, 0.031500486434756565, 0.9618214210899125, 0.0229005100259503, 0.960950207396738, 0.01921900414793476, 0.7322832696330148, 0.06759537873535522, 0.13519075747071044, 0.011265896455892536, 0.011265896455892536, 0.03379768936767761, 0.9708383145937997, 0.017032251133224555, 0.16097482466743548, 0.12264748546090322, 0.09198561409567742, 0.007665467841306451, 0.29512051189029836, 0.09581834801633064, 0.042160073127185484, 0.0038327339206532256, 0.06515647665110484, 0.11498201761959677, 0.12263544991560982, 0.008759674993972129, 0.008759674993972129, 0.017519349987944258, 0.008759674993972129, 0.10511609992766556, 0.6744949745358539, 0.043798374969860644, 0.9669772424162347, 0.9756609736967071, 0.08814078759551695, 0.17569786136589804, 0.07179680049171248, 0.07354794196712011, 0.10681962999986493, 0.07996879404361472, 0.09689649497255506, 0.10565220234959317, 0.027434549781386073, 0.07121308666657662, 0.08463850464470171, 0.018678842404347966, 0.9805118835707314, 0.9741650299321788, 0.9439731056895666, 0.028605245626956564, 0.07677650232266577, 0.870133692990212, 0.8739802033263485, 0.11399741782517589, 0.9635826159020492, 0.07748400944918057, 0.8264961007912595, 0.03874200472459029, 0.025828003149726858, 0.025828003149726858, 0.9658480789849155, 0.07972015631059094, 0.20594373713569325, 0.006643346359215911, 0.04650342451451138, 0.5779711332517843, 0.006643346359215911, 0.03986007815529547, 0.033216731796079556, 0.21729022484824637, 0.010864511242412318, 0.03259353372723695, 0.7279222532416253, 0.9612013981778568, 0.9532068116769546, 0.9352702655658419, 0.2156565926277865, 0.03222454832369224, 0.10906770201865064, 0.2528387637705083, 0.07436434228544361, 0.039660982552236594, 0.059491473828354895, 0.03718217114272181, 0.059491473828354895, 0.04213979396175138, 0.02726692550466266, 0.05205503959981053, 0.02006594039588262, 0.581912271480596, 0.053509174389020316, 0.04013188079176524, 0.0066886467986275394, 0.07357511478490293, 0.02006594039588262, 0.0334432339931377, 0.026754587194510158, 0.0066886467986275394, 0.1337729359725508, 0.9640157465310165, 0.9593239430335716, 0.9542597634711552, 0.02579080441813933, 0.9765458601687705, 0.12554281854159946, 0.04184760618053315, 0.6590997973433972, 0.15692852317699935, 0.010461901545133288, 0.010461901545133288, 0.1929583530297864, 0.7718334121191456, 0.01929583530297864, 0.09576645068826573, 0.02311603982130552, 0.006604582806087291, 0.0033022914030436455, 0.0033022914030436455, 0.05283666244869833, 0.3104153918861027, 0.06274353665782927, 0.4425070480078485, 0.05469537055559818, 0.11044257516034246, 0.04312519601499087, 0.03576235767096804, 0.01577751073719178, 0.09466506442315069, 0.0725765493910822, 0.08519855798083562, 0.12727191994668036, 0.0788875536859589, 0.2250924865172694, 0.05574720460474429, 0.07503399174560618, 0.014480244021081895, 0.13953689693042554, 0.09477977904708149, 0.03422603132255721, 0.01974578730147531, 0.08951423576668807, 0.07108483428531112, 0.08951423576668807, 0.044757117883344036, 0.3093506677231132, 0.017113015661278604, 0.3322493557287066, 0.12240765737373403, 0.11541293409523494, 0.024481531474746805, 0.07344459442424042, 0.04896306294949361, 0.099674806718612, 0.010492084917748631, 0.012240765737373403, 0.01748680819624772, 0.13989446556998175, 0.11391379619185966, 0.014239224523982458, 0.014239224523982458, 0.037971265397286555, 0.6265258790552282, 0.13764583706516376, 0.004746408174660819, 0.0474640817466082, 0.8942001966184386, 0.06878463050911067, 0.013481702524861316, 0.008987801683240877, 0.03595120673296351, 0.004493900841620439, 0.7459875397089928, 0.040445107574583944, 0.013481702524861316, 0.11234752104051096, 0.022469504208102193, 0.8942759692401461, 0.07250886237082266, 0.9700765462222228, 0.8672029979044409, 0.10649861377773835, 0.009742901921260781, 0.9742901921260781, 0.9376466815707667, 0.03076326248298183, 0.9228978744894549, 0.012771309920142696, 0.012771309920142696, 0.012771309920142696, 0.9450769340905595, 0.015042829357598816, 0.015042829357598816, 0.9627410788863242, 0.010155635598415386, 0.14217889837781542, 0.020311271196830773, 0.7921395766764001, 0.010155635598415386, 0.010155635598415386, 0.010155635598415386, 0.08905081472428567, 0.14841802454047612, 0.14143364691504196, 0.050636737784397735, 0.19556257351215678, 0.11349613641330526, 0.0698437762543417, 0.09079690913064421, 0.0069843776254341705, 0.022699227282661053, 0.043652360158963566, 0.026191416095378138, 0.9439291931709317, 0.9660331361245313, 0.02033753970788487, 0.9599451595737107, 0.9652610527203301, 0.04856339946475119, 0.9469862895626482, 0.1627062651805477, 0.4321885168858298, 0.005084570786892116, 0.03559199550824481, 0.09152227416405809, 0.010169141573784232, 0.02542285393446058, 0.19829826068879253, 0.040676566295136926, 0.05930400291971754, 0.014826000729929385, 0.07413000364964693, 0.014826000729929385, 0.02965200145985877, 0.8154300401461162, 0.2797301504970119, 0.08681280532665886, 0.0771669380681412, 0.0192917345170353, 0.028937601775552952, 0.5015850974429178, 0.6825133753677401, 0.03289221086109591, 0.11512273801383568, 0.03289221086109591, 0.11512273801383568, 0.02466915814582193, 0.2518012884721733, 0.006805440228977657, 0.02041632068693297, 0.03402720114488829, 0.013610880457955315, 0.006805440228977657, 0.06124896206079892, 0.5240188976312796, 0.06805440228977658, 0.013610880457955315, 0.07127548789206022, 0.8553058547047226, 0.047516991928040146, 0.9666243169075858, 0.3290110531887249, 0.06675586586437897, 0.5960345166462409, 0.9669664210604267, 0.9562151316364879, 0.9648021081011252, 0.9819197612474784, 0.9618223218360893, 0.9556298411691722, 0.01803075172017306, 0.02119405309357864, 0.01513860935255617, 0.15441381539607293, 0.10597026546789319, 0.08477621237431456, 0.018166331223067406, 0.09991482172687073, 0.08780393424482578, 0.045415828057668514, 0.16349698100760665, 0.19982964345374146, 0.09505620195719035, 0.8935282983975892, 0.9773611642579171, 0.9738382705739637, 0.0597501183279724, 0.7966682443729652, 0.039833412218648265, 0.009958353054662066, 0.019916706109324132, 0.039833412218648265, 0.019916706109324132, 0.08864844463700118, 0.13297266695550178, 0.6205391124590083, 0.1440537225351269, 0.03009571084646511, 0.892839421778465, 0.05015951807744185, 0.06724488870438182, 0.2120800336061273, 0.03620878622543637, 0.1137990424228, 0.07241757245087274, 0.03620878622543637, 0.03620878622543637, 0.01551805123947273, 0.41381469971927276, 0.07408005329397149, 0.16297611724673727, 0.09630406928216294, 0.004938670219598099, 0.12593609059975153, 0.12593609059975153, 0.04444803197638289, 0.09136539906256484, 0.032101356427387644, 0.04938670219598099, 0.19013880345452683, 0.040158016799093005, 0.9504063975785344, 0.9758792926653028, 0.10175565940449881, 0.2873100971421143, 0.03591376214276429, 0.04489220267845536, 0.10474847291639583, 0.014964067559485119, 0.04189938916655833, 0.0748203377974256, 0.11671972696398393, 0.12270535398777797, 0.056863456726043454, 0.04535514175225499, 0.9297804059212272, 0.029885221133768538, 0.059770442267537076, 0.004980870188961423, 0.004980870188961423, 0.12452175472403557, 0.6624557351318693, 0.08965566340130561, 0.014942610566884269, 0.011997729670921862, 0.011997729670921862, 0.9718161033446708, 0.7131012461004371, 0.16069887236066188, 0.010043679522541368, 0.07030575665778957, 0.010043679522541368, 0.010043679522541368, 0.010043679522541368, 0.020087359045082735, 0.49443626730112544, 0.003457596274833045, 0.0691519254966609, 0.010372788824499135, 0.26277731688731143, 0.02074557764899827, 0.02074557764899827, 0.11755827334432353, 0.08776004005303449, 0.08495918771091637, 0.08029110047405283, 0.02427405363169039, 0.07935748302668012, 0.09149450984252532, 0.11670218092158842, 0.11110047623735217, 0.029875758315926634, 0.16805114052708733, 0.040145550237026414, 0.08682642260566178, 0.11530881748904383, 0.06679959082123918, 0.059642491804677844, 0.06679959082123918, 0.007157099016561341, 0.10258508590404589, 0.08111378885436187, 0.22346053596152632, 0.015109431257185054, 0.1495038461237258, 0.06123295825280259, 0.05169015956405413, 0.8564997760754249, 0.12490621734433281, 0.9790467728509875, 0.9714002690070228, 0.0068250158336302345, 0.3139507283469908, 0.013650031667260469, 0.6552015200285025, 0.9667955989785904], \"Term\": [\"abarca\", \"abarca\", \"abarcar\", \"abordados\", \"about\", \"abre\", \"absoluto\", \"aburr\", \"aburrido\", \"aburrido\", \"aburrido\", \"aburrido\", \"aburrido\", \"aburrido\", \"aburrido\", \"aburrido\", \"acaba\", \"acceso\", \"acceso\", \"acceso\", \"accion\", \"acelerado\", \"aceptable\", \"aclara\", \"aclara\", \"aclaro\", \"acorde\", \"actividad\", \"actualiz\", \"actualiz\", \"actually\", \"adecu\", \"adecuadamente\", \"adel\", \"adelante\", \"adelante\", \"adelante\", \"adelante\", \"adelante\", \"adicional\", \"adir\", \"after\", \"agradece\", \"agradecido\", \"agrado\", \"agregar\", \"agregar\", \"agregar\", \"agregar\", \"ahor\", \"ahor\", \"ahora\", \"ahora\", \"ahora\", \"ahora\", \"ahora\", \"ahora\", \"ahora\", \"ahora\", \"ahora\", \"ahora\", \"ahora\", \"alcance\", \"alguien\", \"alguien\", \"alguien\", \"alguien\", \"alguien\", \"alguien\", \"alguien\", \"alguien\", \"alguien\", \"alguno\", \"alt\", \"alumn\", \"ambito\", \"ameno\", \"ampliar\", \"ampliar\", \"amplio\", \"analizar\", \"ando\", \"ando\", \"animo\", \"animo\", \"aparecen\", \"aparecen\", \"apartado\", \"aplicar\", \"aplicar\", \"aplicar\", \"aplicar\", \"aplicar\", \"aplicar\", \"aport\", \"aporta\", \"aporta\", \"aporta\", \"aportar\", \"aporte\", \"apoy\", \"apoyo\", \"apoyo\", \"apoyo\", \"apoyo\", \"apoyo\", \"apoyo\", \"aprend\", \"aprend\", \"aprend\", \"aprend\", \"aprend\", \"aprend\", \"aprend\", \"aprend\", \"aprende\", \"aprende\", \"aprende\", \"aprende\", \"aprender\", \"aprender\", \"aprender\", \"aprender\", \"aprender\", \"aprender\", \"aprender\", \"aprender\", \"aprender\", \"aprender\", \"aprender\", \"aprender\", \"aprendes\", \"aprendes\", \"aprendi\", \"aprendi\", \"aprendi\", \"aprendi\", \"aprendi\", \"aprendi\", \"aprendido\", \"aprendido\", \"aprendido\", \"aprendido\", \"aprendido\", \"aprendiendo\", \"aprendiendo\", \"aprendiendo\", \"aprendiendo\", \"aprendiendo\", \"aprendizaj\", \"aprendizaj\", \"arch\", \"area\", \"atencion\", \"atencion\", \"atencion\", \"atencion\", \"atencion\", \"audi\", \"audi\", \"audi\", \"audi\", \"audio\", \"audio\", \"audio\", \"audio\", \"audio\", \"audio\", \"audio\", \"audio\", \"audio\", \"audio\", \"audio\", \"audio\", \"aunque\", \"aunque\", \"aunque\", \"aunque\", \"aunque\", \"aunque\", \"aunque\", \"aunque\", \"aunque\", \"aunque\", \"aunque\", \"aunque\", \"autor\", \"autor\", \"autor\", \"autor\", \"avanz\", \"avanz\", \"avanz\", \"avanzadas\", \"avanzar\", \"avanzar\", \"avanzar\", \"avanzar\", \"ayud\", \"ayudo\", \"ayudo\", \"ayudo\", \"b\", \"backend\", \"baj\", \"baj\", \"baj\", \"baj\", \"bas\", \"bas\", \"bas\", \"bas\", \"bas\", \"bas\", \"bas\", \"basa\", \"basa\", \"basado\", \"bases\", \"bases\", \"bases\", \"bases\", \"bases\", \"bases\", \"bases\", \"basic\", \"basica\", \"basica\", \"basica\", \"basica\", \"basica\", \"basica\", \"basicas\", \"basicas\", \"basicas\", \"basicas\", \"basicas\", \"basicas\", \"basicas\", \"basicas\", \"basicas\", \"basicas\", \"basico\", \"basico\", \"basico\", \"basico\", \"basico\", \"basico\", \"basico\", \"basico\", \"basico\", \"basico\", \"basico\", \"basico\", \"basicos\", \"basicos\", \"basicos\", \"basicos\", \"basicos\", \"basicos\", \"basicos\", \"basicos\", \"basicos\", \"basicos\", \"bastante\", \"bastante\", \"bastante\", \"bastante\", \"bastante\", \"bastante\", \"bastante\", \"bastante\", \"bastante\", \"bastante\", \"bastante\", \"bastante\", \"bi\", \"bi\", \"bi\", \"bi\", \"bi\", \"bi\", \"bi\", \"bi\", \"bien\", \"bien\", \"bien\", \"bien\", \"bien\", \"bien\", \"bien\", \"bien\", \"bien\", \"bien\", \"bien\", \"bien\", \"bootstrap\", \"brev\", \"breves\", \"buena\", \"buena\", \"buena\", \"buena\", \"buena\", \"bueno\", \"bueno\", \"bueno\", \"bueno\", \"buenos\", \"busc\", \"buscaba\", \"buscar\", \"buscar\", \"buscar\", \"buscar\", \"buscar\", \"c\", \"c\", \"c\", \"cada\", \"cada\", \"cada\", \"cada\", \"cada\", \"cada\", \"cada\", \"cada\", \"cada\", \"cada\", \"cada\", \"cada\", \"cal\", \"calidad\", \"calidad\", \"calidad\", \"calidad\", \"calidad\", \"calidad\", \"calidad\", \"calidad\", \"calidad\", \"calidad\", \"calidad\", \"calificacion\", \"calificacion\", \"calificacion\", \"calificacion\", \"calificacion\", \"calificacion\", \"calificacion\", \"calificacion\", \"calificacion\", \"canal\", \"captar\", \"cas\", \"caso\", \"caso\", \"caso\", \"caso\", \"caso\", \"caso\", \"caso\", \"caso\", \"caso\", \"caso\", \"caso\", \"celular\", \"cer\", \"cero\", \"cero\", \"cero\", \"cero\", \"cero\", \"cero\", \"cero\", \"certific\", \"cl\", \"cl\", \"cl\", \"cl\", \"cl\", \"cl\", \"clar\", \"clar\", \"clara\", \"clara\", \"clara\", \"clara\", \"clara\", \"claro\", \"claro\", \"claro\", \"claro\", \"claro\", \"claro\", \"claro\", \"claro\", \"claro\", \"claro\", \"claro\", \"claro\", \"clave\", \"cliente\", \"codeigniter\", \"codig\", \"codig\", \"codig\", \"codig\", \"codig\", \"codigo\", \"codigo\", \"codigo\", \"codigo\", \"codigo\", \"codigo\", \"codigo\", \"codigo\", \"codigo\", \"codigo\", \"codigo\", \"codigos\", \"codigos\", \"colocar\", \"colocar\", \"colocar\", \"color\", \"comando\", \"comando\", \"comandos\", \"comandos\", \"comandos\", \"comandos\", \"comandos\", \"comandos\", \"comenzando\", \"comercial\", \"comienza\", \"comienza\", \"comienza\", \"compartir\", \"complet\", \"complet\", \"complet\", \"complet\", \"complet\", \"complet\", \"complicado\", \"complicado\", \"complicado\", \"complicado\", \"complicado\", \"comprend\", \"comprensible\", \"concept\", \"conceptos\", \"conceptos\", \"conceptos\", \"conceptos\", \"conceptos\", \"conceptos\", \"conceptos\", \"conceptos\", \"conceptos\", \"conceptos\", \"conceptos\", \"conceptos\", \"concret\", \"concreta\", \"conectar\", \"confund\", \"confund\", \"confunde\", \"confunde\", \"confus\", \"confusas\", \"confusion\", \"confuso\", \"confuso\", \"confuso\", \"confuso\", \"confuso\", \"conoc\", \"conoc\", \"conoc\", \"conoce\", \"conoce\", \"conoce\", \"conoce\", \"conoce\", \"conoce\", \"conocer\", \"conocer\", \"conocer\", \"conocer\", \"conocer\", \"conocer\", \"conocer\", \"conocer\", \"conocer\", \"conocer\", \"conocia\", \"conocia\", \"conocimiento\", \"conocimiento\", \"conocimiento\", \"conocimiento\", \"conocimiento\", \"conocimiento\", \"conocimiento\", \"conocimiento\", \"conocimiento\", \"conocimiento\", \"conocimiento\", \"conocimiento\", \"conocimientos\", \"conocimientos\", \"conocimientos\", \"conocimientos\", \"conocimientos\", \"conocimientos\", \"conocimientos\", \"conocimientos\", \"conocimientos\", \"conocimientos\", \"conocimientos\", \"conocimientos\", \"conozco\", \"considerando\", \"consola\", \"consola\", \"conten\", \"conten\", \"conten\", \"conten\", \"conten\", \"conten\", \"conten\", \"contenido\", \"contenido\", \"contenido\", \"contenido\", \"contenido\", \"contenido\", \"contenido\", \"contenido\", \"contenido\", \"contenido\", \"contenido\", \"contenido\", \"contexto\", \"contexto\", \"contiene\", \"contiene\", \"continu\", \"copiar\", \"corre\", \"correo\", \"correo\", \"cort\", \"cort\", \"cort\", \"cort\", \"cortes\", \"corto\", \"corto\", \"corto\", \"corto\", \"corto\", \"corto\", \"corto\", \"cosas\", \"cosas\", \"cosas\", \"cosas\", \"cosas\", \"cosas\", \"cosas\", \"cosas\", \"cosas\", \"cosas\", \"cosas\", \"cosas\", \"cours\", \"course\", \"course\", \"course\", \"cr\", \"creacion\", \"creacion\", \"creacion\", \"creacion\", \"creando\", \"crear\", \"crear\", \"crear\", \"crear\", \"crear\", \"crear\", \"crear\", \"crear\", \"crear\", \"crear\", \"crear\", \"crei\", \"crei\", \"crei\", \"crei\", \"creo\", \"creo\", \"creo\", \"creo\", \"creo\", \"creo\", \"creo\", \"creo\", \"creo\", \"creo\", \"creo\", \"creo\", \"cuales\", \"cuales\", \"cuales\", \"cuales\", \"cuales\", \"cuales\", \"cuales\", \"cuesta\", \"cuesta\", \"cuesta\", \"cuesta\", \"cuesta\", \"cuesta\", \"cuestion\", \"cuestionarios\", \"cuestionarios\", \"cuestionarios\", \"cuestiones\", \"cuidar\", \"curs\", \"curs\", \"curs\", \"curs\", \"curs\", \"curs\", \"curs\", \"curs\", \"curs\", \"curs\", \"curs\", \"curs\", \"cursos\", \"cursos\", \"cursos\", \"cursos\", \"cursos\", \"cursos\", \"cursos\", \"cursos\", \"cursos\", \"cursos\", \"cursos\", \"cursos\", \"dados\", \"daria\", \"datos\", \"datos\", \"datos\", \"datos\", \"datos\", \"datos\", \"datos\", \"datos\", \"datos\", \"datos\", \"datos\", \"datos\", \"debe\", \"debe\", \"debe\", \"debe\", \"debe\", \"debe\", \"debe\", \"debe\", \"debe\", \"deberia\", \"deberia\", \"deberia\", \"deberia\", \"deberia\", \"deberia\", \"deberia\", \"deberia\", \"deberia\", \"deberia\", \"deberia\", \"deberia\", \"dec\", \"decepcionante\", \"decepcionante\", \"deficiente\", \"definicion\", \"definicion\", \"deja\", \"deja\", \"deja\", \"deja\", \"deja\", \"deja\", \"deja\", \"deja\", \"deja\", \"deja\", \"deja\", \"deje\", \"demasiada\", \"demasiada\", \"demasiada\", \"demasiadas\", \"demasiadas\", \"demasiado\", \"demasiado\", \"demasiado\", \"demasiado\", \"demasiado\", \"demasiado\", \"demasiado\", \"demasiado\", \"demasiado\", \"demasiado\", \"demasiado\", \"desactualiz\", \"desarrollando\", \"descarg\", \"descarg\", \"describe\", \"despues\", \"despues\", \"despues\", \"despues\", \"despues\", \"despues\", \"despues\", \"despues\", \"despues\", \"detall\", \"detall\", \"detall\", \"detallada\", \"detalladamente\", \"dic\", \"diccion\", \"diccion\", \"dice\", \"dice\", \"dice\", \"dice\", \"dice\", \"dice\", \"dice\", \"dice\", \"dice\", \"dice\", \"dice\", \"dice\", \"dicta\", \"didact\", \"didact\", \"didactico\", \"didactico\", \"didactico\", \"didactico\", \"didactico\", \"didactico\", \"didactico\", \"didactico\", \"dieron\", \"diferencias\", \"dificil\", \"dificil\", \"dificil\", \"dificil\", \"dificil\", \"dificil\", \"dificil\", \"digital\", \"digital\", \"digital\", \"dijo\", \"dinam\", \"dinam\", \"dinamica\", \"dinamica\", \"dinamismo\", \"dirigido\", \"distintos\", \"divertido\", \"domina\", \"domina\", \"domina\", \"domina\", \"dud\", \"dud\", \"ejecucion\", \"ejempl\", \"ejempl\", \"ejempl\", \"ejempl\", \"ejempl\", \"ejempl\", \"ejempl\", \"ejemplo\", \"ejemplo\", \"ejemplo\", \"ejemplo\", \"ejemplo\", \"ejemplo\", \"ejemplo\", \"ejemplo\", \"ejemplo\", \"ejemplo\", \"ejemplo\", \"ejemplo\", \"ejemplos\", \"ejemplos\", \"ejemplos\", \"ejemplos\", \"ejemplos\", \"ejemplos\", \"ejemplos\", \"ejemplos\", \"ejemplos\", \"ejemplos\", \"ejemplos\", \"ejemplos\", \"ejercici\", \"ejercici\", \"ejercicios\", \"ejercicios\", \"ejercicios\", \"ejercicios\", \"ejercicios\", \"ejercicios\", \"ejercicios\", \"ejercicios\", \"ejercicios\", \"ejercicios\", \"ejercicios\", \"eleccion\", \"eleccion\", \"eleccion\", \"eleccion\", \"eleccion\", \"email\", \"embargo\", \"embargo\", \"embargo\", \"embargo\", \"embargo\", \"embargo\", \"embargo\", \"embargo\", \"embargo\", \"embargo\", \"embargo\", \"embargo\", \"empez\", \"empez\", \"empez\", \"empezando\", \"empezando\", \"empezando\", \"empezando\", \"empezando\", \"empezando\", \"empieza\", \"empieza\", \"empieza\", \"empieza\", \"empieza\", \"empieza\", \"empieza\", \"empresa\", \"empresa\", \"empresa\", \"encanto\", \"encontrado\", \"enfocarse\", \"enga\", \"enga\", \"enlace\", \"enreda\", \"ens\", \"ens\", \"ense\", \"ense\", \"ense\", \"ense\", \"ense\", \"ense\", \"ense\", \"ense\", \"ense\", \"ense\", \"ense\", \"ense\", \"entender\", \"entender\", \"entender\", \"entender\", \"entender\", \"entender\", \"entender\", \"entender\", \"entender\", \"entender\", \"entender\", \"entender\", \"entenderlo\", \"entenderlo\", \"entendi\", \"entendi\", \"entendi\", \"entendi\", \"entendiendo\", \"entiend\", \"entiende\", \"entiende\", \"entiende\", \"entiende\", \"entiende\", \"entiende\", \"entiende\", \"entiende\", \"entorno\", \"entorno\", \"entorno\", \"entrar\", \"entrar\", \"entrar\", \"enviar\", \"error\", \"error\", \"error\", \"error\", \"error\", \"error\", \"error\", \"error\", \"error\", \"error\", \"errores\", \"errores\", \"errores\", \"errores\", \"errores\", \"errores\", \"errores\", \"errores\", \"errores\", \"errores\", \"escaso\", \"escribir\", \"escribir\", \"escuch\", \"escucha\", \"escucha\", \"escucha\", \"escucha\", \"escucha\", \"escucha\", \"escucha\", \"escuchaba\", \"escuchar\", \"escuchar\", \"escuchar\", \"escueto\", \"esfuerzo\", \"esfuerzo\", \"esfuerzo\", \"esfuerzo\", \"espa\", \"espa\", \"espa\", \"espa\", \"espa\", \"espa\", \"espa\", \"especif\", \"especificar\", \"especifico\", \"especifico\", \"especifico\", \"especifico\", \"espect\", \"esper\", \"esper\", \"esper\", \"esper\", \"esperaba\", \"esperaba\", \"esperaba\", \"esperaba\", \"esperaba\", \"esperaba\", \"esperaba\", \"esperaba\", \"esperaba\", \"esperaba\", \"esperaba\", \"esperaba\", \"esperando\", \"estan\", \"estan\", \"estan\", \"estan\", \"estan\", \"estan\", \"estan\", \"estan\", \"estan\", \"estan\", \"estan\", \"estan\", \"estou\", \"estrategia\", \"estrategia\", \"estrell\", \"estructurado\", \"estructurado\", \"estructurado\", \"estructurado\", \"examen\", \"examen\", \"examen\", \"examen\", \"examen\", \"excel\", \"excel\", \"excel\", \"excel\", \"excel\", \"excel\", \"excelente\", \"excelente\", \"excelente\", \"excelente\", \"excelente\", \"excesivamente\", \"excesivamente\", \"existe\", \"expect\", \"expect\", \"experient\", \"expl\", \"expl\", \"expl\", \"expl\", \"expl\", \"expl\", \"explic\", \"explic\", \"explic\", \"explic\", \"explica\", \"explica\", \"explica\", \"explica\", \"explica\", \"explica\", \"explica\", \"explica\", \"explica\", \"explica\", \"explica\", \"explica\", \"explicaba\", \"explicacion\", \"explicacion\", \"explicacion\", \"explicacion\", \"explicacion\", \"explicacion\", \"explicacion\", \"explicacion\", \"explicacion\", \"explicacion\", \"explicacion\", \"explicacion\", \"explicaciones\", \"explicaciones\", \"explicaciones\", \"explicaciones\", \"explicaciones\", \"explicaciones\", \"explicaciones\", \"explicaciones\", \"explicaciones\", \"explicaciones\", \"explicado\", \"explicado\", \"explicado\", \"explicado\", \"explicado\", \"explicado\", \"explicado\", \"explicado\", \"explicado\", \"explicado\", \"explicado\", \"explicados\", \"explicados\", \"explicados\", \"explican\", \"explican\", \"explican\", \"explican\", \"explican\", \"explican\", \"explican\", \"explicando\", \"explicando\", \"explicando\", \"explicando\", \"explicando\", \"explicando\", \"explicando\", \"explicar\", \"explicar\", \"explicar\", \"explicar\", \"explicar\", \"explicar\", \"explicar\", \"explicar\", \"explicar\", \"explicar\", \"explicar\", \"explicar\", \"explicara\", \"explicaron\", \"explicas\", \"explicas\", \"explicito\", \"explico\", \"explico\", \"explico\", \"explico\", \"explico\", \"explico\", \"exposicion\", \"exposicion\", \"exposicion\", \"expositor\", \"expositor\", \"expositor\", \"expresiones\", \"extenso\", \"extenso\", \"extiende\", \"extra\", \"extremadamente\", \"facebook\", \"facebook\", \"facebook\", \"facil\", \"facil\", \"facil\", \"facil\", \"facil\", \"facil\", \"facil\", \"facil\", \"facil\", \"falla\", \"fallos\", \"falta\", \"falta\", \"falta\", \"falta\", \"falta\", \"falta\", \"falta\", \"falta\", \"falta\", \"falta\", \"falta\", \"falta\", \"faltado\", \"faltan\", \"faltan\", \"faltan\", \"faltan\", \"faltan\", \"faltan\", \"faltan\", \"faltaria\", \"faltaria\", \"faltas\", \"falto\", \"falto\", \"falto\", \"falto\", \"falto\", \"falto\", \"falto\", \"falto\", \"falto\", \"falto\", \"fatal\", \"fluida\", \"fluido\", \"fondo\", \"fondo\", \"fondo\", \"fondo\", \"fondo\", \"fondo\", \"fondo\", \"fondo\", \"fondo\", \"fondo\", \"forma\", \"forma\", \"forma\", \"forma\", \"forma\", \"forma\", \"forma\", \"forma\", \"forma\", \"forma\", \"forma\", \"forma\", \"formador\", \"fotografia\", \"fotos\", \"framework\", \"framework\", \"framework\", \"frases\", \"fuentes\", \"funcion\", \"funcion\", \"funcion\", \"funcion\", \"funcion\", \"funcion\", \"funcion\", \"funcion\", \"funciona\", \"funciona\", \"funciona\", \"funciona\", \"funciona\", \"funciona\", \"funcional\", \"funcionalidad\", \"funcionalidad\", \"genera\", \"genera\", \"genera\", \"general\", \"general\", \"general\", \"general\", \"general\", \"general\", \"general\", \"general\", \"general\", \"general\", \"general\", \"general\", \"genial\", \"genial\", \"genial\", \"genial\", \"genial\", \"gente\", \"gente\", \"gente\", \"gente\", \"gente\", \"gente\", \"gente\", \"github\", \"good\", \"good\", \"google\", \"google\", \"google\", \"google\", \"graci\", \"graci\", \"graci\", \"graci\", \"graci\", \"graci\", \"graci\", \"gracias\", \"gracias\", \"gracias\", \"gracias\", \"gracias\", \"gracias\", \"graf\", \"grafica\", \"graficas\", \"grafico\", \"graficos\", \"graficos\", \"gran\", \"gran\", \"gran\", \"gran\", \"gran\", \"gran\", \"gran\", \"gran\", \"gratis\", \"gratis\", \"gratis\", \"gratis\", \"gratis\", \"gratis\", \"gratuit\", \"gratuito\", \"gratuito\", \"gratuito\", \"gratuito\", \"guion\", \"guion\", \"gust\", \"gusto\", \"gusto\", \"gusto\", \"gusto\", \"gusto\", \"gusto\", \"gusto\", \"gusto\", \"gusto\", \"gusto\", \"haber\", \"haber\", \"haber\", \"haber\", \"haber\", \"haber\", \"haber\", \"haber\", \"haber\", \"haber\", \"haber\", \"haber\", \"haberse\", \"habilidades\", \"habl\", \"habla\", \"habla\", \"habla\", \"habla\", \"habla\", \"habla\", \"habla\", \"habla\", \"habla\", \"habla\", \"habla\", \"habla\", \"hable\", \"hac\", \"hac\", \"hac\", \"hac\", \"hace\", \"hace\", \"hace\", \"hace\", \"hace\", \"hace\", \"hace\", \"hace\", \"hace\", \"hace\", \"hace\", \"hace\", \"hacer\", \"hacer\", \"hacer\", \"hacer\", \"hacer\", \"hacer\", \"hacer\", \"hacer\", \"hacer\", \"hacer\", \"hacer\", \"hacer\", \"hacerse\", \"hago\", \"haria\", \"herramient\", \"herramient\", \"herramienta\", \"herramienta\", \"herramienta\", \"herramienta\", \"herramienta\", \"herramienta\", \"herramienta\", \"herramienta\", \"herramientas\", \"herramientas\", \"herramientas\", \"herramientas\", \"herramientas\", \"herramientas\", \"herramientas\", \"herramientas\", \"herramientas\", \"herramientas\", \"herramientas\", \"herramientas\", \"hilo\", \"hilo\", \"hilo\", \"hilo\", \"historia\", \"hola\", \"hola\", \"horrible\", \"horrible\", \"html\", \"html\", \"html\", \"html\", \"ide\", \"idea\", \"idea\", \"idea\", \"idea\", \"idea\", \"idea\", \"idea\", \"idea\", \"idea\", \"igualmente\", \"igualmente\", \"imparte\", \"import\", \"improvisado\", \"incomplet\", \"informacion\", \"informacion\", \"informacion\", \"informacion\", \"informacion\", \"informacion\", \"informacion\", \"informacion\", \"informacion\", \"informacion\", \"informacion\", \"informacion\", \"informativo\", \"ingles\", \"ingles\", \"ingles\", \"ingles\", \"ingles\", \"ingles\", \"ingresar\", \"inici\", \"inici\", \"inicia\", \"inicial\", \"inicial\", \"inicial\", \"inicial\", \"iniciando\", \"iniciando\", \"iniciando\", \"iniciando\", \"iniciar\", \"iniciar\", \"iniciar\", \"iniciar\", \"iniciar\", \"iniciar\", \"iniciar\", \"iniciar\", \"iniciar\", \"iniciarse\", \"iniciarse\", \"iniciarse\", \"iniciarse\", \"iniciarse\", \"instalacion\", \"instalacion\", \"instalacion\", \"instalacion\", \"instalacion\", \"instalacion\", \"instalado\", \"instructor\", \"instructor\", \"instructor\", \"instructor\", \"instructor\", \"instructor\", \"instructor\", \"instructor\", \"instructor\", \"instructor\", \"instructor\", \"instructor\", \"instructores\", \"intencion\", \"intenta\", \"inter\", \"interaccion\", \"interactivo\", \"interes\", \"interes\", \"interes\", \"interes\", \"interes\", \"interes\", \"interes\", \"interes\", \"interes\", \"interesado\", \"interesante\", \"interesante\", \"interesante\", \"interesante\", \"interesante\", \"interesante\", \"interesante\", \"interesante\", \"interesante\", \"interesante\", \"interesante\", \"interlocutor\", \"intro\", \"introduccion\", \"introduccion\", \"introduccion\", \"introduccion\", \"introduccion\", \"introduccion\", \"introduccion\", \"introduccion\", \"introduccion\", \"introduccion\", \"introduccion\", \"introducirse\", \"introductori\", \"introductori\", \"introductorio\", \"introductorio\", \"introductorio\", \"introductorio\", \"inversion\", \"invertir\", \"jav\", \"java\", \"java\", \"javascript\", \"juego\", \"juego\", \"justo\", \"know\", \"l\", \"larg\", \"largos\", \"largos\", \"lenguaje\", \"lenguaje\", \"lenguaje\", \"lenguaje\", \"lenguaje\", \"lenguaje\", \"lenguaje\", \"lenguajes\", \"lent\", \"lent\", \"lent\", \"lenta\", \"lenta\", \"lenta\", \"lentas\", \"lento\", \"lento\", \"lento\", \"lento\", \"lento\", \"lento\", \"lento\", \"libro\", \"libro\", \"linea\", \"linea\", \"linea\", \"linea\", \"linux\", \"linux\", \"linux\", \"linux\", \"linux\", \"linux\", \"llamarse\", \"llevar\", \"llevar\", \"llevar\", \"locutor\", \"logra\", \"logra\", \"m\", \"m\", \"macros\", \"mail\", \"mais\", \"mal\", \"mal\", \"mal\", \"mal\", \"mala\", \"mala\", \"mala\", \"mala\", \"mala\", \"mala\", \"mala\", \"mala\", \"mala\", \"malo\", \"malo\", \"malo\", \"malo\", \"malo\", \"malo\", \"malo\", \"malo\", \"malo\", \"malo\", \"malo\", \"manera\", \"manera\", \"manera\", \"manera\", \"manera\", \"manera\", \"manera\", \"manera\", \"manera\", \"manera\", \"manera\", \"maneras\", \"marketing\", \"marketing\", \"marketing\", \"mejor\", \"mejor\", \"mejor\", \"mejor\", \"mejor\", \"mejor\", \"mejor\", \"mejor\", \"mejor\", \"mejor\", \"mejor\", \"mejor\", \"mejorando\", \"mejorar\", \"mejorar\", \"mejorar\", \"mejorar\", \"mejorar\", \"mejorar\", \"mejorar\", \"mejorar\", \"mejorar\", \"mejorar\", \"mejorar\", \"mejorar\", \"mejoraria\", \"mejorarse\", \"mejorarse\", \"men\", \"menos\", \"menos\", \"menos\", \"menos\", \"menos\", \"menos\", \"menos\", \"menos\", \"menos\", \"menos\", \"menos\", \"menos\", \"mensaje\", \"menus\", \"mercado\", \"metodo\", \"metodo\", \"metodo\", \"metodo\", \"metodo\", \"metodos\", \"metodos\", \"mexico\", \"mientras\", \"mientras\", \"modul\", \"modulo\", \"modulo\", \"modulo\", \"molesta\", \"moment\", \"momento\", \"momento\", \"momento\", \"momento\", \"momento\", \"momento\", \"momento\", \"momento\", \"momento\", \"momento\", \"momento\", \"momento\", \"monotona\", \"more\", \"more\", \"motiva\", \"motivo\", \"movil\", \"movil\", \"much\", \"mucha\", \"mucha\", \"mucha\", \"mucha\", \"mucha\", \"mucha\", \"mucha\", \"mucha\", \"mucha\", \"mucha\", \"mucha\", \"muestra\", \"muestra\", \"muestra\", \"muestra\", \"muestra\", \"muestra\", \"muestra\", \"muestra\", \"muestra\", \"muestra\", \"muestra\", \"muestra\", \"muito\", \"muletillas\", \"mundo\", \"mundo\", \"mundo\", \"mundo\", \"mundo\", \"mundo\", \"mundo\", \"mundo\", \"musica\", \"musica\", \"musica\", \"musica\", \"musica\", \"mysql\", \"mysql\", \"necesaria\", \"necesarias\", \"necesita\", \"necesita\", \"necesita\", \"necesita\", \"necesita\", \"necesitan\", \"necesitan\", \"negoci\", \"negocio\", \"nocion\", \"nombre\", \"nombre\", \"nombre\", \"nombre\", \"normal\", \"normal\", \"normalmente\", \"noto\", \"nuev\", \"nuev\", \"nuev\", \"nuev\", \"nueva\", \"nueva\", \"objetos\", \"obstante\", \"obstante\", \"obstante\", \"obstante\", \"obtener\", \"obtener\", \"obtener\", \"obtener\", \"only\", \"opcion\", \"opcion\", \"opcion\", \"operaciones\", \"operativo\", \"orador\", \"ordenador\", \"orientada\", \"orientado\", \"ortografia\", \"pag\", \"pag\", \"pag\", \"pag\", \"pagar\", \"pagar\", \"pagar\", \"pagar\", \"pagin\", \"pais\", \"pais\", \"palabras\", \"palabras\", \"palabras\", \"palabras\", \"palabras\", \"palabras\", \"palabras\", \"palabras\", \"palabras\", \"panorama\", \"pantall\", \"parametros\", \"parametros\", \"parec\", \"parece\", \"parece\", \"parece\", \"parece\", \"parece\", \"parece\", \"parece\", \"parece\", \"parece\", \"parece\", \"parece\", \"parece\", \"parecido\", \"parecido\", \"parecido\", \"parecido\", \"parecido\", \"parecido\", \"parte\", \"parte\", \"parte\", \"parte\", \"parte\", \"parte\", \"parte\", \"parte\", \"parte\", \"parte\", \"parte\", \"parte\", \"partes\", \"partes\", \"partes\", \"partes\", \"partes\", \"partes\", \"partes\", \"partes\", \"partes\", \"partes\", \"partes\", \"pas\", \"pas\", \"pas\", \"pas\", \"pas\", \"pasa\", \"pasa\", \"pasa\", \"pasa\", \"pasa\", \"pasa\", \"pasa\", \"pasa\", \"paso\", \"paso\", \"paso\", \"paso\", \"paso\", \"paso\", \"paso\", \"paso\", \"paso\", \"paso\", \"paso\", \"pasos\", \"pasos\", \"pasos\", \"pasos\", \"pasos\", \"pasos\", \"pasos\", \"pasos\", \"pedagogia\", \"pena\", \"pena\", \"pena\", \"pena\", \"pena\", \"pena\", \"pensar\", \"pensar\", \"pense\", \"pense\", \"pense\", \"pense\", \"pense\", \"pense\", \"pense\", \"pense\", \"perfectamente\", \"permite\", \"permite\", \"permite\", \"permite\", \"permite\", \"persona\", \"persona\", \"persona\", \"persona\", \"persona\", \"persona\", \"persona\", \"persona\", \"personal\", \"personal\", \"personal\", \"personal\", \"personal\", \"personal\", \"personas\", \"personas\", \"personas\", \"personas\", \"personas\", \"personas\", \"personas\", \"personas\", \"personas\", \"personas\", \"personas\", \"perspectiva\", \"pesim\", \"pesimo\", \"pesimo\", \"pesimo\", \"pesimo\", \"photoshop\", \"piensa\", \"plan\", \"planeacion\", \"plataform\", \"plus\", \"poca\", \"poca\", \"poca\", \"poca\", \"poca\", \"poca\", \"poca\", \"poca\", \"poca\", \"poca\", \"podemos\", \"podemos\", \"podemos\", \"poder\", \"poder\", \"poder\", \"poder\", \"poder\", \"poder\", \"poder\", \"poder\", \"poder\", \"poder\", \"poder\", \"poder\", \"podia\", \"podria\", \"podria\", \"podria\", \"podria\", \"podria\", \"podria\", \"podria\", \"podria\", \"podria\", \"podria\", \"podria\", \"podria\", \"pone\", \"pone\", \"pone\", \"pone\", \"pone\", \"pone\", \"pone\", \"ponen\", \"poner\", \"poner\", \"poner\", \"poner\", \"poner\", \"poner\", \"poner\", \"poner\", \"poner\", \"poner\", \"poquito\", \"posteriormente\", \"practic\", \"practic\", \"practic\", \"practicas\", \"practicas\", \"practicas\", \"practicas\", \"practicas\", \"practicas\", \"practicas\", \"practicas\", \"practicas\", \"practicas\", \"preferiria\", \"preguntas\", \"preguntas\", \"preguntas\", \"preguntas\", \"preguntas\", \"preguntas\", \"preguntas\", \"preguntas\", \"preguntas\", \"preguntas\", \"preguntas\", \"premium\", \"prepar\", \"preparacion\", \"preparacion\", \"previa\", \"previo\", \"previo\", \"primeros\", \"primeros\", \"primeros\", \"primeros\", \"principal\", \"principal\", \"principales\", \"principi\", \"principi\", \"principi\", \"principi\", \"principi\", \"principi\", \"principiante\", \"principiante\", \"principiante\", \"principiante\", \"principiante\", \"principiante\", \"principiante\", \"principiantes\", \"principiantes\", \"principiantes\", \"principiantes\", \"principiantes\", \"principiantes\", \"proceso\", \"proceso\", \"proceso\", \"proceso\", \"proceso\", \"produccion\", \"produccion\", \"produccion\", \"producto\", \"producto\", \"profesor\", \"profesor\", \"profesor\", \"profesor\", \"profesor\", \"profesor\", \"profesor\", \"profesor\", \"profesor\", \"profesor\", \"profesor\", \"profesor\", \"profund\", \"profundidad\", \"profundidad\", \"profundidad\", \"profundidad\", \"profundidad\", \"profundidad\", \"profundidad\", \"profundidad\", \"profundidad\", \"profundidad\", \"profundiz\", \"profundizar\", \"profundizar\", \"profundizar\", \"profundizar\", \"profundizar\", \"profundizar\", \"profundizar\", \"profundizar\", \"profundizar\", \"profundizar\", \"profundizar\", \"program\", \"programacion\", \"programacion\", \"programacion\", \"programacion\", \"programacion\", \"programacion\", \"programacion\", \"programacion\", \"programador\", \"promete\", \"promete\", \"propia\", \"propio\", \"propio\", \"proyect\", \"proyect\", \"proyecto\", \"proyecto\", \"proyecto\", \"proyecto\", \"proyecto\", \"proyecto\", \"proyecto\", \"proyecto\", \"proyecto\", \"proyecto\", \"proyecto\", \"publ\", \"pudieran\", \"pueda\", \"pueda\", \"pueda\", \"pueda\", \"pueda\", \"pueda\", \"pueda\", \"pueda\", \"pueda\", \"puede\", \"puede\", \"puede\", \"puede\", \"puede\", \"puede\", \"puede\", \"puede\", \"puede\", \"puede\", \"puede\", \"puede\", \"pura\", \"queremos\", \"quiera\", \"quiere\", \"quiere\", \"quiere\", \"quiere\", \"quieren\", \"quieren\", \"quisiera\", \"quiz\", \"quiza\", \"quiza\", \"quiza\", \"quiza\", \"quiza\", \"ramas\", \"rap\", \"rap\", \"rap\", \"rap\", \"rap\", \"rap\", \"rapida\", \"rapida\", \"rapida\", \"rapida\", \"rapida\", \"rapidas\", \"rapido\", \"rapido\", \"rapido\", \"rapido\", \"rapido\", \"rapido\", \"rapido\", \"rapido\", \"rapido\", \"real\", \"real\", \"real\", \"real\", \"real\", \"real\", \"real\", \"real\", \"real\", \"realiz\", \"recien\", \"recien\", \"recien\", \"recien\", \"recien\", \"recomendaciones\", \"recomendado\", \"recursos\", \"recursos\", \"recursos\", \"recursos\", \"recursos\", \"recursos\", \"recursos\", \"recursos\", \"recursos\", \"recursos\", \"redund\", \"regul\", \"regul\", \"regular\", \"regular\", \"regular\", \"regular\", \"relacionados\", \"relevante\", \"repasar\", \"repaso\", \"repaso\", \"repetit\", \"respuest\", \"ruido\", \"ruido\", \"sab\", \"sabe\", \"sabe\", \"sabe\", \"sabe\", \"sabe\", \"sabe\", \"sabe\", \"sabe\", \"sabe\", \"sabe\", \"sabe\", \"sabemos\", \"saben\", \"saben\", \"saber\", \"saber\", \"saber\", \"saber\", \"saber\", \"saber\", \"saber\", \"saber\", \"saber\", \"sabi\", \"sabia\", \"sabia\", \"sabia\", \"salen\", \"salta\", \"salta\", \"salta\", \"salud\", \"salud\", \"salud\", \"salud\", \"salud\", \"salud\", \"salud\", \"salud\", \"salud\", \"salud\", \"salud\", \"saludos\", \"saludos\", \"script\", \"segu\", \"sencill\", \"sencillas\", \"sencillo\", \"sencillo\", \"sencillo\", \"sencillo\", \"sentencias\", \"seria\", \"seria\", \"seria\", \"seria\", \"seria\", \"seria\", \"seria\", \"seria\", \"seria\", \"seria\", \"seria\", \"seria\", \"serie\", \"servidor\", \"servidor\", \"servidor\", \"servidor\", \"servidor\", \"sesiones\", \"sesiones\", \"siento\", \"siento\", \"siento\", \"siento\", \"siento\", \"siento\", \"siento\", \"siento\", \"siento\", \"siento\", \"siento\", \"siento\", \"significa\", \"significado\", \"sigo\", \"sigue\", \"sigue\", \"sigue\", \"sigue\", \"sigue\", \"sigue\", \"sigue\", \"sigue\", \"siguientes\", \"siguientes\", \"simplemente\", \"simplemente\", \"simplemente\", \"simplemente\", \"simplemente\", \"simplemente\", \"simplemente\", \"simplemente\", \"simples\", \"simples\", \"sintaxis\", \"sintaxis\", \"siquiera\", \"siquiera\", \"siquiera\", \"siquiera\", \"siquiera\", \"siquiera\", \"sirv\", \"sirv\", \"sirve\", \"sirve\", \"sirve\", \"sirve\", \"sirve\", \"sirve\", \"sirve\", \"sirve\", \"sirve\", \"sirve\", \"sistema\", \"sistema\", \"sistema\", \"sistema\", \"sistema\", \"sistema\", \"sistema\", \"sistema\", \"sobretodo\", \"social\", \"solo\", \"solo\", \"solo\", \"solo\", \"solo\", \"solo\", \"solo\", \"solo\", \"solo\", \"solo\", \"solo\", \"solo\", \"soluciones\", \"some\", \"studio\", \"studio\", \"subir\", \"subir\", \"subtitulos\", \"subtitulos\", \"suena\", \"suficiente\", \"suficiente\", \"suficiente\", \"suficiente\", \"suficiente\", \"sugerencia\", \"super\", \"super\", \"super\", \"super\", \"super\", \"super\", \"super\", \"super\", \"supone\", \"supone\", \"supone\", \"supone\", \"supongo\", \"tabla\", \"tama\", \"tambien\", \"tambien\", \"tambien\", \"tambien\", \"tambien\", \"tambien\", \"tambien\", \"tambien\", \"tambien\", \"tambien\", \"tambien\", \"tambien\", \"tampoco\", \"tampoco\", \"tampoco\", \"tampoco\", \"tampoco\", \"tampoco\", \"tampoco\", \"tampoco\", \"tampoco\", \"tampoco\", \"tampoco\", \"tanta\", \"tantas\", \"teclado\", \"teclado\", \"tecn\", \"tecnicas\", \"tecnicas\", \"tecnicas\", \"tecnicas\", \"tecnicas\", \"tecnicas\", \"tecnico\", \"tecnico\", \"tecnico\", \"tem\", \"tem\", \"tem\", \"tem\", \"tem\", \"tem\", \"tem\", \"tem\", \"tem\", \"tema\", \"tema\", \"tema\", \"tema\", \"tema\", \"tema\", \"tema\", \"tema\", \"tema\", \"tema\", \"tema\", \"tema\", \"temas\", \"temas\", \"temas\", \"temas\", \"temas\", \"temas\", \"temas\", \"temas\", \"temas\", \"temas\", \"temas\", \"temas\", \"tener\", \"tener\", \"tener\", \"tener\", \"tener\", \"tener\", \"tener\", \"tener\", \"tener\", \"tener\", \"tener\", \"tenia\", \"tenia\", \"tenia\", \"tenia\", \"tenia\", \"tenia\", \"tenia\", \"tenia\", \"teori\", \"teori\", \"teoria\", \"teoria\", \"teoria\", \"teoria\", \"teoria\", \"teoria\", \"teoria\", \"teoria\", \"teoria\", \"teorica\", \"teorica\", \"termin\", \"terminal\", \"terminal\", \"test\", \"test\", \"text\", \"textos\", \"textos\", \"that\", \"that\", \"that\", \"that\", \"this\", \"this\", \"this\", \"tiemp\", \"tiemp\", \"tiemp\", \"tiemp\", \"tiemp\", \"tiemp\", \"tiemp\", \"tiempo\", \"tiempo\", \"tiempo\", \"tiempo\", \"tiempo\", \"tiempo\", \"tiempo\", \"tiempo\", \"tiempo\", \"tiempo\", \"tiempo\", \"tiempo\", \"tienda\", \"tipos\", \"tipos\", \"titulos\", \"tocan\", \"tocar\", \"tocar\", \"todas\", \"todas\", \"todas\", \"todas\", \"todas\", \"todas\", \"todas\", \"todas\", \"todas\", \"todavia\", \"todavia\", \"todavia\", \"todavia\", \"todavia\", \"todavia\", \"totalmente\", \"totalmente\", \"totalmente\", \"totalmente\", \"totalmente\", \"totalmente\", \"trabajar\", \"trabajar\", \"trabajar\", \"trabajar\", \"trabajar\", \"trabajar\", \"trabajo\", \"trabajo\", \"trabajo\", \"trabajo\", \"trabajo\", \"trabajo\", \"trabajo\", \"trabajo\", \"trabajo\", \"trabajo\", \"trading\", \"trading\", \"trading\", \"trucos\", \"tutorial\", \"tutorial\", \"tutorial\", \"ubuntu\", \"unica\", \"unicamente\", \"us\", \"usas\", \"usuarios\", \"usuarios\", \"util\", \"util\", \"util\", \"util\", \"util\", \"util\", \"util\", \"util\", \"util\", \"util\", \"util\", \"utilidad\", \"utilidad\", \"utiliz\", \"v\", \"vale\", \"vale\", \"vale\", \"vale\", \"vale\", \"vale\", \"vale\", \"valor\", \"valor\", \"valor\", \"valor\", \"vamos\", \"vamos\", \"vamos\", \"varios\", \"varios\", \"varios\", \"varios\", \"varios\", \"varios\", \"varios\", \"varios\", \"varios\", \"veces\", \"veces\", \"veces\", \"veces\", \"veces\", \"veces\", \"veces\", \"veces\", \"veces\", \"veces\", \"veces\", \"vender\", \"vender\", \"ventas\", \"verdad\", \"verdad\", \"verdad\", \"verdad\", \"verdad\", \"verdad\", \"verdad\", \"verdad\", \"verdad\", \"verdad\", \"verdad\", \"veremos\", \"veremos\", \"version\", \"version\", \"version\", \"version\", \"version\", \"version\", \"version\", \"version\", \"very\", \"very\", \"very\", \"vida\", \"vida\", \"vida\", \"vida\", \"vida\", \"vida\", \"vida\", \"vida\", \"vide\", \"vide\", \"vide\", \"vide\", \"vide\", \"vide\", \"vide\", \"vide\", \"video\", \"video\", \"video\", \"video\", \"video\", \"video\", \"video\", \"video\", \"video\", \"video\", \"video\", \"video\", \"videos\", \"videos\", \"videos\", \"videos\", \"videos\", \"videos\", \"videos\", \"videos\", \"videos\", \"videos\", \"videos\", \"videos\", \"vision\", \"vision\", \"vueltas\", \"what\", \"windows\", \"windows\", \"windows\", \"windows\", \"xampp\"]}, \"R\": 30, \"lambda.step\": 0.01, \"plot.opts\": {\"xlab\": \"PC1\", \"ylab\": \"PC2\"}, \"topic.order\": [6, 2, 4, 11, 12, 10, 1, 8, 7, 3, 9, 5]};\n",
       "\n",
       "function LDAvis_load_lib(url, callback){\n",
       "  var s = document.createElement('script');\n",
       "  s.src = url;\n",
       "  s.async = true;\n",
       "  s.onreadystatechange = s.onload = callback;\n",
       "  s.onerror = function(){console.warn(\"failed to load library \" + url);};\n",
       "  document.getElementsByTagName(\"head\")[0].appendChild(s);\n",
       "}\n",
       "\n",
       "if(typeof(LDAvis) !== \"undefined\"){\n",
       "   // already loaded: just create the visualization\n",
       "   !function(LDAvis){\n",
       "       new LDAvis(\"#\" + \"ldavis_el377225172713954564127525394\", ldavis_el377225172713954564127525394_data);\n",
       "   }(LDAvis);\n",
       "}else if(typeof define === \"function\" && define.amd){\n",
       "   // require.js is available: use it to load d3/LDAvis\n",
       "   require.config({paths: {d3: \"https://cdnjs.cloudflare.com/ajax/libs/d3/3.5.5/d3.min\"}});\n",
       "   require([\"d3\"], function(d3){\n",
       "      window.d3 = d3;\n",
       "      LDAvis_load_lib(\"https://cdn.rawgit.com/bmabey/pyLDAvis/files/ldavis.v1.0.0.js\", function(){\n",
       "        new LDAvis(\"#\" + \"ldavis_el377225172713954564127525394\", ldavis_el377225172713954564127525394_data);\n",
       "      });\n",
       "    });\n",
       "}else{\n",
       "    // require.js not available: dynamically load d3 & LDAvis\n",
       "    LDAvis_load_lib(\"https://cdnjs.cloudflare.com/ajax/libs/d3/3.5.5/d3.min.js\", function(){\n",
       "         LDAvis_load_lib(\"https://cdn.rawgit.com/bmabey/pyLDAvis/files/ldavis.v1.0.0.js\", function(){\n",
       "                 new LDAvis(\"#\" + \"ldavis_el377225172713954564127525394\", ldavis_el377225172713954564127525394_data);\n",
       "            })\n",
       "         });\n",
       "}\n",
       "</script>"
      ],
      "text/plain": [
       "PreparedData(topic_coordinates=              x         y  topics  cluster       Freq\n",
       "topic                                                \n",
       "5      0.002593 -0.011264       1        1  11.074179\n",
       "1      0.056624  0.005407       2        1   9.739823\n",
       "3     -0.057148  0.039957       3        1   9.067847\n",
       "10    -0.069138  0.061867       4        1   8.958849\n",
       "11     0.083591  0.075997       5        1   8.447629\n",
       "9     -0.033626 -0.020011       6        1   8.252957\n",
       "0     -0.016179  0.020006       7        1   8.176067\n",
       "7      0.061437  0.138240       8        1   8.057616\n",
       "6     -0.056391 -0.129038       9        1   8.026070\n",
       "2      0.113459  0.065392      10        1   7.040154\n",
       "8     -0.218688 -0.026407      11        1   6.992303\n",
       "4      0.133466 -0.220146      12        1   6.166505, topic_info=            Term         Freq        Total Category  logprob  loglift\n",
       "146  explicacion  1140.000000  1140.000000  Default  30.0000  30.0000\n",
       "306     eleccion   766.000000   766.000000  Default  29.0000  29.0000\n",
       "37        explic   457.000000   457.000000  Default  28.0000  28.0000\n",
       "342         curs   989.000000   989.000000  Default  27.0000  27.0000\n",
       "0           bien  3217.000000  3217.000000  Default  26.0000  26.0000\n",
       "..           ...          ...          ...      ...      ...      ...\n",
       "210    contenido    75.837638  1084.791377  Topic12  -5.0153   0.1255\n",
       "147         hace    74.537779   986.865906  Topic12  -5.0326   0.2028\n",
       "249      general    65.214831   565.509830  Topic12  -5.1662   0.6260\n",
       "160         creo    66.339279  1137.649963  Topic12  -5.1491  -0.0559\n",
       "82        videos    65.266019  1257.492733  Topic12  -5.1654  -0.1724\n",
       "\n",
       "[901 rows x 6 columns], token_table=      Topic      Freq       Term\n",
       "term                            \n",
       "2135      4  0.023445     abarca\n",
       "2135      9  0.961258     abarca\n",
       "1834      3  0.973340    abarcar\n",
       "1551      8  0.952235  abordados\n",
       "3344      5  0.985025      about\n",
       "...     ...       ...        ...\n",
       "2282      1  0.006825    windows\n",
       "2282      4  0.313951    windows\n",
       "2282      9  0.013650    windows\n",
       "2282     10  0.655202    windows\n",
       "2815      8  0.966796      xampp\n",
       "\n",
       "[2781 rows x 3 columns], R=30, lambda_step=0.01, plot_opts={'xlab': 'PC1', 'ylab': 'PC2'}, topic_order=[6, 2, 4, 11, 12, 10, 1, 8, 7, 3, 9, 5])"
      ]
     },
     "execution_count": 57,
     "metadata": {},
     "output_type": "execute_result"
    }
   ],
   "source": [
    "# %%time\n",
    "import pyLDAvis.gensim\n",
    "pyLDAvis.gensim.prepare(ldamodel, corpus, dictionary)"
   ]
  },
  {
   "cell_type": "code",
   "execution_count": null,
   "metadata": {},
   "outputs": [],
   "source": []
  },
  {
   "cell_type": "code",
   "execution_count": null,
   "metadata": {},
   "outputs": [],
   "source": []
  },
  {
   "cell_type": "code",
   "execution_count": null,
   "metadata": {},
   "outputs": [],
   "source": []
  },
  {
   "cell_type": "code",
   "execution_count": null,
   "metadata": {},
   "outputs": [],
   "source": []
  },
  {
   "cell_type": "code",
   "execution_count": null,
   "metadata": {},
   "outputs": [],
   "source": []
  }
 ],
 "metadata": {
  "accelerator": "GPU",
  "colab": {
   "collapsed_sections": [],
   "include_colab_link": true,
   "machine_shape": "hm",
   "name": "topic_modeling_spanish.ipynb",
   "provenance": [],
   "version": "0.3.2"
  },
  "kernelspec": {
   "display_name": "Python 3",
   "language": "python",
   "name": "python3"
  },
  "language_info": {
   "codemirror_mode": {
    "name": "ipython",
    "version": 3
   },
   "file_extension": ".py",
   "mimetype": "text/x-python",
   "name": "python",
   "nbconvert_exporter": "python",
   "pygments_lexer": "ipython3",
   "version": "3.8.8"
  }
 },
 "nbformat": 4,
 "nbformat_minor": 4
}
