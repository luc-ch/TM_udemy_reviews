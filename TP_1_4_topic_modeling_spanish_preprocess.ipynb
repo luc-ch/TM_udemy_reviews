{
 "cells": [
  {
   "cell_type": "markdown",
   "metadata": {
    "colab_type": "text",
    "id": "V0UBlkyp_gme"
   },
   "source": [
    "#### Load the libraries"
   ]
  },
  {
   "cell_type": "code",
   "execution_count": 1,
   "metadata": {
    "colab": {},
    "colab_type": "code",
    "id": "ui5Uo0hn_eGm"
   },
   "outputs": [],
   "source": [
    "import pandas as pd\n",
    "import numpy as np\n",
    "import re\n",
    "import nltk\n",
    "from nltk.stem import WordNetLemmatizer\n",
    "from nltk import word_tokenize\n",
    "from nltk.corpus import stopwords\n",
    "import string\n",
    "import matplotlib.pyplot as plt\n",
    "import gensim\n",
    "import numpy as np\n",
    "from gensim.models import CoherenceModel, LdaModel, LsiModel, HdpModel\n",
    "from gensim.corpora import Dictionary\n",
    "# from gensim.models.wrappers import LdaMallet\n"
   ]
  },
  {
   "cell_type": "code",
   "execution_count": 2,
   "metadata": {},
   "outputs": [],
   "source": [
    "pd.set_option('display.max_columns', None)\n",
    "pd.set_option('display.expand_frame_repr', False)\n",
    "pd.set_option('max_colwidth', None)"
   ]
  },
  {
   "cell_type": "markdown",
   "metadata": {
    "colab_type": "text",
    "id": "SBS3r7AFAEtg"
   },
   "source": [
    "### Connect to drive to get the data"
   ]
  },
  {
   "cell_type": "code",
   "execution_count": 3,
   "metadata": {
    "colab": {
     "base_uri": "https://localhost:8080/",
     "height": 162
    },
    "colab_type": "code",
    "id": "550zxhdVCl6y",
    "outputId": "8e6c130a-bccd-47e4-c00d-d8c22ff325ce"
   },
   "outputs": [
    {
     "data": {
      "text/html": [
       "<div>\n",
       "<style scoped>\n",
       "    .dataframe tbody tr th:only-of-type {\n",
       "        vertical-align: middle;\n",
       "    }\n",
       "\n",
       "    .dataframe tbody tr th {\n",
       "        vertical-align: top;\n",
       "    }\n",
       "\n",
       "    .dataframe thead th {\n",
       "        text-align: right;\n",
       "    }\n",
       "</style>\n",
       "<table border=\"1\" class=\"dataframe\">\n",
       "  <thead>\n",
       "    <tr style=\"text-align: right;\">\n",
       "      <th></th>\n",
       "      <th>id</th>\n",
       "      <th>course</th>\n",
       "      <th>rating</th>\n",
       "      <th>comment</th>\n",
       "      <th>user</th>\n",
       "      <th>tag</th>\n",
       "    </tr>\n",
       "  </thead>\n",
       "  <tbody>\n",
       "    <tr>\n",
       "      <th>69741</th>\n",
       "      <td>27090344</td>\n",
       "      <td>1208340</td>\n",
       "      <td>3.0</td>\n",
       "      <td>hasta ahora viene siendo bastante claro, se aprende al escucharlos clarmamente</td>\n",
       "      <td>Javiera Soto</td>\n",
       "      <td>neg</td>\n",
       "    </tr>\n",
       "    <tr>\n",
       "      <th>6676</th>\n",
       "      <td>46204884</td>\n",
       "      <td>1146754</td>\n",
       "      <td>1.0</td>\n",
       "      <td>Según se indicaba en la descripción, debería valer para cualquier versión de Maya, pero al empezar el curso se indica que se usa MentalRay y en Maya 2019 ya no está disponible, por lo que a mi ya no me sirve este curso</td>\n",
       "      <td>Juan Sanchez</td>\n",
       "      <td>neg</td>\n",
       "    </tr>\n",
       "    <tr>\n",
       "      <th>61854</th>\n",
       "      <td>49021826</td>\n",
       "      <td>1954876</td>\n",
       "      <td>3.0</td>\n",
       "      <td>Mayor profundizacion</td>\n",
       "      <td>jhovan Kesternich</td>\n",
       "      <td>neg</td>\n",
       "    </tr>\n",
       "    <tr>\n",
       "      <th>59240</th>\n",
       "      <td>26198046</td>\n",
       "      <td>1429660</td>\n",
       "      <td>3.0</td>\n",
       "      <td>Es un Curso para nociones del tema. Pero falta mas profundidad en la materia.</td>\n",
       "      <td>Oscar Crespo</td>\n",
       "      <td>neg</td>\n",
       "    </tr>\n",
       "    <tr>\n",
       "      <th>3606</th>\n",
       "      <td>75968880</td>\n",
       "      <td>860984</td>\n",
       "      <td>2.0</td>\n",
       "      <td>El curso en el titulo dice Blender 2.9X y en realidad es de Blender 2.7X</td>\n",
       "      <td>Kevin César Orrala Nevares</td>\n",
       "      <td>neg</td>\n",
       "    </tr>\n",
       "    <tr>\n",
       "      <th>50835</th>\n",
       "      <td>26015448</td>\n",
       "      <td>1345468</td>\n",
       "      <td>1.0</td>\n",
       "      <td>Es un buen curso para quien realmente no sabe nada, absolutamente nada de Adobe</td>\n",
       "      <td>Alma Manzano</td>\n",
       "      <td>neg</td>\n",
       "    </tr>\n",
       "    <tr>\n",
       "      <th>71404</th>\n",
       "      <td>62553220</td>\n",
       "      <td>2310326</td>\n",
       "      <td>2.5</td>\n",
       "      <td>El tutor tiene mucho conocimiento sobre el tema pero no se hace entender de la mejor forma ya que realiza los códigos de forma rápida olvidando que el curso es para personas con un conocimiento básico</td>\n",
       "      <td>Néstor Alberto Ospina Colorado</td>\n",
       "      <td>neg</td>\n",
       "    </tr>\n",
       "    <tr>\n",
       "      <th>43319</th>\n",
       "      <td>67708888</td>\n",
       "      <td>2426324</td>\n",
       "      <td>1.0</td>\n",
       "      <td>Falta mas datos antes de llegar al codigo</td>\n",
       "      <td>Lucia Perez Sosto</td>\n",
       "      <td>neg</td>\n",
       "    </tr>\n",
       "    <tr>\n",
       "      <th>80134</th>\n",
       "      <td>77027102</td>\n",
       "      <td>1283744</td>\n",
       "      <td>1.0</td>\n",
       "      <td>No se sabe ni en qué programa está trabajando, tampoco deja una sección de comentarios.</td>\n",
       "      <td>Fernán Castañer Rodríguez</td>\n",
       "      <td>neg</td>\n",
       "    </tr>\n",
       "    <tr>\n",
       "      <th>72170</th>\n",
       "      <td>45477423</td>\n",
       "      <td>2167034</td>\n",
       "      <td>3.5</td>\n",
       "      <td>Muy bueno hasta ahora</td>\n",
       "      <td>Fabianny Adalid Vega Peralta</td>\n",
       "      <td>neg</td>\n",
       "    </tr>\n",
       "  </tbody>\n",
       "</table>\n",
       "</div>"
      ],
      "text/plain": [
       "             id   course  rating                                                                                                                                                                                                                     comment                            user  tag\n",
       "69741  27090344  1208340     3.0                                                                                                                                              hasta ahora viene siendo bastante claro, se aprende al escucharlos clarmamente                    Javiera Soto  neg\n",
       "6676   46204884  1146754     1.0  Según se indicaba en la descripción, debería valer para cualquier versión de Maya, pero al empezar el curso se indica que se usa MentalRay y en Maya 2019 ya no está disponible, por lo que a mi ya no me sirve este curso                    Juan Sanchez  neg\n",
       "61854  49021826  1954876     3.0                                                                                                                                                                                                        Mayor profundizacion               jhovan Kesternich  neg\n",
       "59240  26198046  1429660     3.0                                                                                                                                               Es un Curso para nociones del tema. Pero falta mas profundidad en la materia.                    Oscar Crespo  neg\n",
       "3606   75968880   860984     2.0                                                                                                                                                    El curso en el titulo dice Blender 2.9X y en realidad es de Blender 2.7X      Kevin César Orrala Nevares  neg\n",
       "50835  26015448  1345468     1.0                                                                                                                                             Es un buen curso para quien realmente no sabe nada, absolutamente nada de Adobe                    Alma Manzano  neg\n",
       "71404  62553220  2310326     2.5                    El tutor tiene mucho conocimiento sobre el tema pero no se hace entender de la mejor forma ya que realiza los códigos de forma rápida olvidando que el curso es para personas con un conocimiento básico  Néstor Alberto Ospina Colorado  neg\n",
       "43319  67708888  2426324     1.0                                                                                                                                                                                   Falta mas datos antes de llegar al codigo               Lucia Perez Sosto  neg\n",
       "80134  77027102  1283744     1.0                                                                                                                                     No se sabe ni en qué programa está trabajando, tampoco deja una sección de comentarios.       Fernán Castañer Rodríguez  neg\n",
       "72170  45477423  2167034     3.5                                                                                                                                                                                                       Muy bueno hasta ahora    Fabianny Adalid Vega Peralta  neg"
      ]
     },
     "execution_count": 3,
     "metadata": {},
     "output_type": "execute_result"
    }
   ],
   "source": [
    "import pandas as pd\n",
    "df_news = pd.read_pickle(\"udemy_reviews.pkl\")\n",
    "# Aplica pos/neg\n",
    "df_news['tag']=df_news['rating'].apply(lambda x: 'pos' if x >= 4 else 'neg')\n",
    "# Filtra los que solamente dicen una palabra (ej. \"Excelente!\")\n",
    "df_news = df_news[df_news['comment'].str.contains(\"\\s\")]\n",
    "# Filtra los que dicen menos de 12 letras (ej. \"Excelente!\")\n",
    "df_news = df_news[df_news['comment'].str.len() >= 12]\n",
    "df_news = df_news[df_news['tag']=='neg']#.sample(2000)\n",
    "df_news[df_news['tag']=='neg'].sample(10)\n",
    "\n",
    "\n",
    "# Recomendación:\n",
    "# usar los comentarios con >=5 palabras\n"
   ]
  },
  {
   "cell_type": "code",
   "execution_count": 4,
   "metadata": {},
   "outputs": [
    {
     "data": {
      "text/plain": [
       "neg    21448\n",
       "Name: tag, dtype: int64"
      ]
     },
     "execution_count": 4,
     "metadata": {},
     "output_type": "execute_result"
    }
   ],
   "source": [
    "df_news['tag'].value_counts()"
   ]
  },
  {
   "cell_type": "code",
   "execution_count": 5,
   "metadata": {
    "colab": {
     "base_uri": "https://localhost:8080/",
     "height": 187
    },
    "colab_type": "code",
    "id": "bflY9AU1Vbh5",
    "outputId": "e02e8a64-4434-4162-f679-59f8b2592513"
   },
   "outputs": [
    {
     "name": "stdout",
     "output_type": "stream",
     "text": [
      "<class 'pandas.core.frame.DataFrame'>\n",
      "Int64Index: 21448 entries, 6545 to 80394\n",
      "Data columns (total 6 columns):\n",
      " #   Column   Non-Null Count  Dtype  \n",
      "---  ------   --------------  -----  \n",
      " 0   id       21448 non-null  int64  \n",
      " 1   course   21448 non-null  int64  \n",
      " 2   rating   21448 non-null  float64\n",
      " 3   comment  21448 non-null  object \n",
      " 4   user     21448 non-null  object \n",
      " 5   tag      21448 non-null  object \n",
      "dtypes: float64(1), int64(2), object(3)\n",
      "memory usage: 1.1+ MB\n"
     ]
    }
   ],
   "source": [
    "df_news.info()"
   ]
  },
  {
   "cell_type": "markdown",
   "metadata": {
    "colab_type": "text",
    "id": "F6qwR5CAahLp"
   },
   "source": [
    "#Data Preprocessing"
   ]
  },
  {
   "cell_type": "markdown",
   "metadata": {
    "colab_type": "text",
    "id": "wbCEhthGasEn"
   },
   "source": [
    "We defined a list of custom words to be exclude from our dataset"
   ]
  },
  {
   "cell_type": "markdown",
   "metadata": {
    "colab_type": "text",
    "id": "h8EP2Md3FcQr"
   },
   "source": [
    "Create the cleaner function to clean the spanish text, remove non alpha numeric characters, remove duplicate, remove spanish accutes, remove digits"
   ]
  },
  {
   "cell_type": "code",
   "execution_count": 6,
   "metadata": {},
   "outputs": [
    {
     "name": "stderr",
     "output_type": "stream",
     "text": [
      "[nltk_data] Downloading package stopwords to\n",
      "[nltk_data]     C:\\Users\\Faolin\\AppData\\Roaming\\nltk_data...\n",
      "[nltk_data]   Package stopwords is already up-to-date!\n",
      "[nltk_data] Downloading package punkt to\n",
      "[nltk_data]     C:\\Users\\Faolin\\AppData\\Roaming\\nltk_data...\n",
      "[nltk_data]   Package punkt is already up-to-date!\n"
     ]
    },
    {
     "data": {
      "text/plain": [
       "True"
      ]
     },
     "execution_count": 6,
     "metadata": {},
     "output_type": "execute_result"
    }
   ],
   "source": [
    "import nltk\n",
    "nltk.download('stopwords')\n",
    "nltk.download('punkt')"
   ]
  },
  {
   "cell_type": "code",
   "execution_count": 7,
   "metadata": {},
   "outputs": [
    {
     "data": {
      "text/plain": [
       "['aaaaa']"
      ]
     },
     "execution_count": 7,
     "metadata": {},
     "output_type": "execute_result"
    }
   ],
   "source": [
    "st = ['aaaaa','asd','asdadsad']\n",
    "y = ['aa','bbb','ccc']\n",
    "[x for x in st if any(string for string in y if string in x)]\n"
   ]
  },
  {
   "cell_type": "code",
   "execution_count": 8,
   "metadata": {},
   "outputs": [],
   "source": [
    "from nltk import word_tokenize\n",
    "from nltk.corpus import stopwords\n",
    "stop = set(stopwords.words('spanish'))\n",
    "\n",
    "black_list = ['excelen', 'buen',\n",
    "              'muchas', 'graci'\n",
    "              ]\n",
    "\n",
    "additional_stopwords=set(black_list)\n",
    "\n",
    "stopwords_sp = stop.union(additional_stopwords)\n",
    "\n",
    "from nltk.stem import SnowballStemmer\n",
    "spanish_stemmer = SnowballStemmer('spanish')\n",
    "def stemmization(texts):\n",
    "    texts = re.sub(r\"\"\"\n",
    "                   [,.;@#?!&$]+  # Accept one or more copies of punctuation\n",
    "                   \\ *           # plus zero or more copies of a space,\n",
    "                   \"\"\",\n",
    "                   \" \",          # and replace it with a single space\n",
    "                   texts, flags=re.VERBOSE)\n",
    "    return spanish_stemmer.stem(texts).split()\n",
    "\n",
    "\n",
    "import spacy\n",
    "nlp = spacy.load('es_core_news_md')\n",
    "def lemmatization(texts, allowed_postags=['NOUN']):\n",
    "    #x = nlp(texts)\n",
    "    #print([(xx.text,xx.pos_) for xx in x])\n",
    "    texts_out = [ token.text for token in nlp(texts) if token.pos_ in \n",
    "                 allowed_postags and token.text not in black_list and len(token.text)>2]\n",
    "    return texts_out"
   ]
  },
  {
   "cell_type": "code",
   "execution_count": 9,
   "metadata": {},
   "outputs": [
    {
     "name": "stdout",
     "output_type": "stream",
     "text": [
      "Wall time: 5.02 s\n"
     ]
    }
   ],
   "source": [
    "%%time\n",
    "bigram = gensim.models.Phrases(df_news['comment'].to_list()) "
   ]
  },
  {
   "cell_type": "code",
   "execution_count": 10,
   "metadata": {
    "colab": {},
    "colab_type": "code",
    "id": "H_7Un4fSFbdC"
   },
   "outputs": [],
   "source": [
    "def cleaner(word):\n",
    "    word = re.sub(r'((http|https)\\:\\/\\/)?[a-zA-Z0-9\\.\\/\\?\\:@\\-_=#]+\\.([a-zA-Z]){2,6}([a-zA-Z0-9\\.\\&\\/\\?\\:@\\-_=#])*', '', word, flags=re.MULTILINE)\n",
    "    word = re.sub(r'(?::|;|=)(?:-)?(?:\\)|\\(|D|P)', \"\", word)\n",
    "    word = re.sub(r'ee.uu', 'eeuu', word)\n",
    "    word = re.sub(r'\\#\\.', '', word)\n",
    "    word = re.sub(r'\\n', '', word)\n",
    "    word = re.sub(r',', ' ', word)\n",
    "    word = re.sub(r'\\-', ' ', word)\n",
    "    word = re.sub(r'\\.{3}', ' ', word)\n",
    "    word = re.sub(r'a{2,}', 'a', word)\n",
    "    word = re.sub(r'é{2,}', 'é', word)\n",
    "    word = re.sub(r'i{2,}', 'i', word)\n",
    "    word = re.sub(r'ja{2,}', 'ja', word) \n",
    "    word = re.sub(r'á', 'a', word)\n",
    "    word = re.sub(r'é', 'e', word)\n",
    "    word = re.sub(r'í', 'i', word)\n",
    "    word = re.sub(r'ó', 'o', word)\n",
    "    word = re.sub(r'ú', 'u', word)  \n",
    "    word = re.sub('[^a-zA-Z]', ' ', word)\n",
    "    wordlist = [ token for token in nltk.word_tokenize(word) if token.lower() not in stopwords_sp and len(token)>3 ]\n",
    "    wordlist = [x for x in wordlist if not any(string for string in black_list if string in x)]\n",
    "    word = \" \".join(wordlist)\n",
    "    list_word_clean = []\n",
    "    for w1 in word.split(r\"\\s\"):\n",
    "        if  w1.lower() not in stopwords_sp:\n",
    "            list_word_clean.append(w1.lower())\n",
    "\n",
    "    bigram_list = bigram[list_word_clean]\n",
    "    out_text = stemmization(\" \".join(bigram_list))\n",
    "    return out_text"
   ]
  },
  {
   "cell_type": "code",
   "execution_count": 11,
   "metadata": {},
   "outputs": [
    {
     "data": {
      "text/plain": [
       "['hola', 'germen', 'tendria', 'pulgas', 'cre']"
      ]
     },
     "execution_count": 11,
     "metadata": {},
     "output_type": "execute_result"
    }
   ],
   "source": [
    "cleaner('hola hay un gérmen y tendría pulgas. Pero no,creo que no. O si. excelente! excelente')"
   ]
  },
  {
   "cell_type": "markdown",
   "metadata": {
    "colab_type": "text",
    "id": "vmgAfhN6bWrR"
   },
   "source": [
    "Create the function for select **only nouns** for our data, this way we are removing adverb, adjetives, verbs, etc. This is doing with spacy"
   ]
  },
  {
   "cell_type": "markdown",
   "metadata": {
    "colab_type": "text",
    "id": "3wMjzGX9bscx"
   },
   "source": [
    "For gensim we need a list of text, so we need do convert the dataframe to list"
   ]
  },
  {
   "cell_type": "code",
   "execution_count": 12,
   "metadata": {},
   "outputs": [
    {
     "data": {
      "text/plain": [
       "['hola',\n",
       " 'hay',\n",
       " 'un',\n",
       " 'germen',\n",
       " 'y',\n",
       " 'tendria',\n",
       " 'pulgas',\n",
       " 'pero',\n",
       " 'no',\n",
       " 'creo',\n",
       " 'que',\n",
       " 'no',\n",
       " 'o',\n",
       " 'si']"
      ]
     },
     "execution_count": 12,
     "metadata": {},
     "output_type": "execute_result"
    }
   ],
   "source": [
    "stemmization('hola hay un gérmen y tendría pulgas. Pero no,creo que no. O si')"
   ]
  },
  {
   "cell_type": "code",
   "execution_count": 13,
   "metadata": {},
   "outputs": [
    {
     "data": {
      "text/plain": [
       "['hola', 'gérmen', 'pulgas']"
      ]
     },
     "execution_count": 13,
     "metadata": {},
     "output_type": "execute_result"
    }
   ],
   "source": [
    "lemmatization('hola hay un gérmen y tendría pulgas. Pero no,creo que no. O si')"
   ]
  },
  {
   "cell_type": "code",
   "execution_count": null,
   "metadata": {},
   "outputs": [],
   "source": []
  },
  {
   "cell_type": "code",
   "execution_count": 14,
   "metadata": {
    "colab": {
     "base_uri": "https://localhost:8080/",
     "height": 34
    },
    "colab_type": "code",
    "id": "IZhWiKxY4Gx2",
    "outputId": "0de89bb9-dc2e-470e-d996-40992ae55e5c"
   },
   "outputs": [
    {
     "data": {
      "text/plain": [
       "21448"
      ]
     },
     "execution_count": 14,
     "metadata": {},
     "output_type": "execute_result"
    }
   ],
   "source": [
    "len(df_news)"
   ]
  },
  {
   "cell_type": "code",
   "execution_count": null,
   "metadata": {
    "colab": {
     "base_uri": "https://localhost:8080/",
     "height": 102
    },
    "colab_type": "code",
    "id": "kJzcwy4ORHD1",
    "outputId": "689b6dc6-ab0a-490d-8700-ac5f1096cb0c"
   },
   "outputs": [],
   "source": []
  },
  {
   "cell_type": "code",
   "execution_count": 15,
   "metadata": {
    "colab": {
     "base_uri": "https://localhost:8080/",
     "height": 241
    },
    "colab_type": "code",
    "id": "HciZjXBfwbXM",
    "outputId": "15c4c7c2-a97e-4c33-9922-7922d5410abe"
   },
   "outputs": [],
   "source": [
    "# !python -m spacy download es_core_news_md"
   ]
  },
  {
   "cell_type": "code",
   "execution_count": 16,
   "metadata": {
    "colab": {
     "base_uri": "https://localhost:8080/",
     "height": 54
    },
    "colab_type": "code",
    "id": "yDBAXRQuOnOG",
    "outputId": "a034c4d9-a10d-4db3-a60c-8435eeaa8935"
   },
   "outputs": [
    {
     "data": {
      "text/plain": [
       "31392                                                                                                                                                                                                                                                                                                                                                                                                                                          Aporta los conocimientos generales pero va lento\n",
       "22331    El audio a sido un sufrimiento durante todo el curso.\\n\\nA mi parecer esta desactualizado, en varios ejercicios el editor indica  un error que hay que localizar fuera del curso  en la documentación de Vue, este en particular a sido constante v-bind:key, aunque respondido en una consulta, no se explica el porque o para que en ninguna lección.\\n\\nEl cambio de imágenes es demasiado rápido en algunas explicaciones llevando a error.\\n\\n Aprender se aprende evidentemente.\n",
       "8537                                                                                                                                                                                                                                                                                                                                                                                                                  Había contenido que estaba incorrecto.\\nMe gusto lo preciso que enseñaba.\n",
       "Name: comment, dtype: object"
      ]
     },
     "execution_count": 16,
     "metadata": {},
     "output_type": "execute_result"
    }
   ],
   "source": [
    "df_news['comment'].sample(3)"
   ]
  },
  {
   "cell_type": "code",
   "execution_count": 17,
   "metadata": {
    "colab": {
     "base_uri": "https://localhost:8080/",
     "height": 1000
    },
    "colab_type": "code",
    "id": "2vyiSwQjPCox",
    "outputId": "6577c4eb-29d3-46f8-c5a2-15fbc10576d4"
   },
   "outputs": [
    {
     "data": {
      "text/plain": [
       "['excelente',\n",
       " 'detallado',\n",
       " 'menos',\n",
       " 'leido',\n",
       " 'calidad',\n",
       " 'seria',\n",
       " 'superior',\n",
       " 'tema',\n",
       " 'explicar',\n",
       " 'leer',\n",
       " 'men']"
      ]
     },
     "execution_count": 17,
     "metadata": {},
     "output_type": "execute_result"
    }
   ],
   "source": [
    "cleaner(df_news['comment'].iloc[3])"
   ]
  },
  {
   "cell_type": "markdown",
   "metadata": {
    "colab_type": "text",
    "id": "3FqIi24ISgK2"
   },
   "source": [
    "The Cleaner function work properly"
   ]
  },
  {
   "cell_type": "markdown",
   "metadata": {
    "colab_type": "text",
    "id": "yjMX0qS4SmUR"
   },
   "source": [
    "##### Let's clean all the text"
   ]
  },
  {
   "cell_type": "code",
   "execution_count": 18,
   "metadata": {
    "colab": {},
    "colab_type": "code",
    "id": "TBDM5Caomutj"
   },
   "outputs": [],
   "source": [
    "from tqdm.notebook import tqdm\n",
    "tqdm.pandas()\n",
    "\n",
    "df_news['comment_cleaned'] = df_news['comment'].apply(cleaner)"
   ]
  },
  {
   "cell_type": "markdown",
   "metadata": {
    "colab_type": "text",
    "id": "7egM0YZzRS9r"
   },
   "source": [
    "Now we need to build the *corpus* and the *dictionary* that gensim need to work, to do that we need to pass a list of list of tokens"
   ]
  },
  {
   "cell_type": "code",
   "execution_count": 19,
   "metadata": {},
   "outputs": [],
   "source": [
    "# las palabras \"curso,clase\" son stopwords"
   ]
  },
  {
   "cell_type": "code",
   "execution_count": 20,
   "metadata": {},
   "outputs": [
    {
     "data": {
      "text/plain": [
       "3392                                                                                                                                                                                                                                   [concierne, curso, gusta, directamente, grano, rapido, concis]\n",
       "3394                                                                                                                                                                                                                                                                                           [curs]\n",
       "3395    [paso, paso, resolucion, problemas, comunes, digo, espera, usuario, entienda, conceptos, java, cosas, creo, deberian, explicar, segundo, comentario, curso, promete, pense, seria, avanzado, quiza, apresuro, decir, comentario, hibernate, pesar, core, curso, deja, desear, verdad, entend]\n",
       "3398                                                                                                                                                                                                                                                                  [instructor, responde, pregunt]\n",
       "3399                                                                                                                                            [curso, alguien, posee, experiencia, previa, tema, profesor, explica, bien, posee, experiencia, parecer, falta, contenido, organizar, mejor, seccion]\n",
       "3417                                                                                                                                                                                                                                                                    [pronto, opinar, respecto, v]\n",
       "3420                                                                               [curso, pasa, tiempo, duda, resuelva, adicional, final, curso, menciona, abran, ejemplos, ajax, enviar, mail, existen, tales, modulos, update, agrego, ejemplo, ajax, cuestionario, modulo, evaluar, sabes, parec]\n",
       "3424              [parte, spring, security, pues, detiene, explicar, conceptos, lamentablemente, ocurre, contenidos, anteriores, impresion, programando, aplicacion, solamente, nombrando, utilizando, explica, bien, palabras, decides, curso, curso, debes, tener, conceptos, claros, sino, perder]\n",
       "3431                                                                                                                                                                                                                                                                                [estan, bien, cl]\n",
       "3438                                                                                                                                                                                                                      [material, deprecado, considerando, spring, moviendo, usarlo, spring, boot]\n",
       "Name: comment_cleaned, dtype: object"
      ]
     },
     "execution_count": 20,
     "metadata": {},
     "output_type": "execute_result"
    }
   ],
   "source": [
    "df_news['comment_cleaned'].iloc[200:210]"
   ]
  },
  {
   "cell_type": "code",
   "execution_count": 21,
   "metadata": {
    "colab": {},
    "colab_type": "code",
    "id": "DZmxTdsYTV35"
   },
   "outputs": [],
   "source": [
    "dictionary = Dictionary(df_news['comment_cleaned'].to_list())\n",
    "dictionary.compactify()\n",
    "# Filter extremes\n",
    "#dictionary.filter_extremes(no_below=5, no_above=0.3)#, keep_n=10000)\n",
    "#dictionary.filter_extremes(no_below=2, no_above=0.97, keep_n=None)\n",
    "dictionary.filter_extremes(no_below=5, no_above=0.2, keep_n=None)\n",
    "dictionary.compactify()\n",
    "\n",
    "corpus = [dictionary.doc2bow(text) for text in df_news['comment_cleaned'].to_list()]"
   ]
  },
  {
   "cell_type": "markdown",
   "metadata": {
    "colab_type": "text",
    "id": "NgV46EUdSu0n"
   },
   "source": [
    "# MODELADO"
   ]
  },
  {
   "cell_type": "markdown",
   "metadata": {
    "colab_type": "text",
    "id": "GWsxgxE8-YWC"
   },
   "source": [
    "Comparando:\n",
    "Latent Dirichlet Allocation (LDA), \n",
    "Latent semantic analysis (LSA), \n",
    "Hierarchical Dirichlet Process (HDP)\n",
    "\n",
    "Para evaluar los topics, usamos **topic coherence** (una medida de interpretación de topics)."
   ]
  },
  {
   "cell_type": "code",
   "execution_count": 22,
   "metadata": {},
   "outputs": [],
   "source": [
    "%%capture\n",
    "!pip install pyLDAvis==2.1.2"
   ]
  },
  {
   "cell_type": "code",
   "execution_count": 23,
   "metadata": {},
   "outputs": [
    {
     "name": "stderr",
     "output_type": "stream",
     "text": [
      "[nltk_data] Downloading package punkt to\n",
      "[nltk_data]     C:\\Users\\Faolin\\AppData\\Roaming\\nltk_data...\n",
      "[nltk_data]   Package punkt is already up-to-date!\n",
      "[nltk_data] Downloading package stopwords to\n",
      "[nltk_data]     C:\\Users\\Faolin\\AppData\\Roaming\\nltk_data...\n",
      "[nltk_data]   Package stopwords is already up-to-date!\n"
     ]
    }
   ],
   "source": [
    "import pandas as pd\n",
    "import numpy as np\n",
    "import matplotlib.pyplot  as plt\n",
    "from collections import Counter\n",
    "import numpy as np\n",
    "from nltk import word_tokenize, sent_tokenize\n",
    "import nltk\n",
    "nltk.download('punkt')\n",
    "nltk.download('stopwords')\n",
    "from nltk.corpus import stopwords\n",
    "\n",
    "import gensim\n",
    "from gensim.models import CoherenceModel, LdaModel, LsiModel, HdpModel\n",
    "#from gensim.models.wrappers import LdaMallet\n",
    "from gensim.corpora import Dictionary\n",
    "from gensim import corpora\n",
    "\n",
    "import pyLDAvis.gensim\n",
    "pyLDAvis.enable_notebook()\n",
    "\n",
    "import os, re, operator, warnings\n",
    "warnings.filterwarnings('ignore')  \n",
    "%matplotlib inline"
   ]
  },
  {
   "cell_type": "code",
   "execution_count": 24,
   "metadata": {},
   "outputs": [],
   "source": [
    "lsamodel = LsiModel(corpus=corpus, num_topics=25, id2word=dictionary)"
   ]
  },
  {
   "cell_type": "code",
   "execution_count": 25,
   "metadata": {},
   "outputs": [
    {
     "data": {
      "text/plain": [
       "[(0, '0.424*\"bien\" + 0.220*\"solo\" + 0.177*\"videos\" + 0.175*\"cosas\"'),\n",
       " (1, '0.867*\"bien\" + -0.209*\"solo\" + -0.143*\"videos\" + -0.097*\"video\"'),\n",
       " (2, '0.686*\"solo\" + -0.466*\"videos\" + 0.248*\"explica\" + -0.198*\"contenido\"'),\n",
       " (3, '0.609*\"videos\" + 0.508*\"solo\" + -0.292*\"cosas\" + -0.199*\"falta\"'),\n",
       " (4, '0.558*\"basico\" + -0.503*\"cosas\" + -0.326*\"explica\" + -0.190*\"videos\"'),\n",
       " (5, '-0.655*\"basico\" + -0.334*\"cosas\" + -0.333*\"videos\" + 0.285*\"falta\"'),\n",
       " (6, '-0.708*\"falta\" + -0.272*\"hace\" + 0.238*\"mejor\" + -0.221*\"explicacion\"'),\n",
       " (7, '0.544*\"cosas\" + -0.472*\"explica\" + 0.245*\"mejor\" + 0.236*\"creo\"'),\n",
       " (8,\n",
       "  '0.515*\"contenido\" + -0.458*\"informacion\" + 0.434*\"mejor\" + -0.268*\"creo\"'),\n",
       " (9,\n",
       "  '0.612*\"video\" + -0.385*\"temas\" + 0.304*\"explicacion\" + -0.261*\"contenido\"')]"
      ]
     },
     "execution_count": 25,
     "metadata": {},
     "output_type": "execute_result"
    }
   ],
   "source": [
    "lsamodel.print_topics(10,4)"
   ]
  },
  {
   "cell_type": "code",
   "execution_count": 26,
   "metadata": {},
   "outputs": [],
   "source": [
    "ldamodel = LdaModel(corpus=corpus, num_topics=25, id2word=dictionary, iterations = 2000, passes=10)"
   ]
  },
  {
   "cell_type": "code",
   "execution_count": 27,
   "metadata": {},
   "outputs": [
    {
     "data": {
      "text/plain": [
       "[(18,\n",
       "  '0.068*\"videos\" + 0.034*\"presentacion\" + 0.029*\"puedo\" + 0.022*\"seguir\" + 0.020*\"video\" + 0.019*\"solo\"'),\n",
       " (17,\n",
       "  '0.048*\"habla\" + 0.035*\"dice\" + 0.030*\"instructor\" + 0.030*\"tiempo\" + 0.021*\"solo\" + 0.019*\"persona\"'),\n",
       " (5,\n",
       "  '0.050*\"bastante\" + 0.030*\"parece\" + 0.025*\"visto\" + 0.021*\"queda\" + 0.020*\"decir\" + 0.020*\"punto\"'),\n",
       " (22,\n",
       "  '0.137*\"mejor\" + 0.097*\"podria\" + 0.033*\"sido\" + 0.027*\"creo\" + 0.026*\"explicaciones\" + 0.025*\"considero\"'),\n",
       " (13,\n",
       "  '0.046*\"personas\" + 0.036*\"conocimientos\" + 0.029*\"conocimiento\" + 0.029*\"aprend\" + 0.026*\"ayuda\" + 0.026*\"basico\"'),\n",
       " (16,\n",
       "  '0.137*\"eleccion\" + 0.064*\"mucha\" + 0.061*\"falto\" + 0.046*\"buena\" + 0.045*\"pract\" + 0.034*\"explicacion\"'),\n",
       " (12,\n",
       "  '0.142*\"introduccion\" + 0.074*\"interes\" + 0.046*\"idea\" + 0.029*\"calificacion\" + 0.027*\"visual\" + 0.026*\"complet\"'),\n",
       " (8,\n",
       "  '0.063*\"gustaria\" + 0.035*\"cl\" + 0.033*\"sonido\" + 0.033*\"podrian\" + 0.032*\"escucha\" + 0.030*\"malo\"'),\n",
       " (10,\n",
       "  '0.086*\"audio\" + 0.054*\"video\" + 0.052*\"calidad\" + 0.041*\"preguntas\" + 0.031*\"mala\" + 0.028*\"recursos\"'),\n",
       " (3,\n",
       "  '0.109*\"cosas\" + 0.041*\"bien\" + 0.026*\"empezar\" + 0.025*\"detalles\" + 0.024*\"explicar\" + 0.024*\"basicas\"')]"
      ]
     },
     "execution_count": 27,
     "metadata": {},
     "output_type": "execute_result"
    }
   ],
   "source": [
    "ldamodel.print_topics(10, 6)"
   ]
  },
  {
   "cell_type": "code",
   "execution_count": null,
   "metadata": {},
   "outputs": [],
   "source": []
  },
  {
   "cell_type": "markdown",
   "metadata": {
    "colab_type": "text",
    "id": "YwiwW86Man80"
   },
   "source": [
    " ## Hierarchical Dirichlet process Model"
   ]
  },
  {
   "cell_type": "code",
   "execution_count": 28,
   "metadata": {
    "colab": {},
    "colab_type": "code",
    "id": "opxvCwJcbIs9"
   },
   "outputs": [],
   "source": [
    "hdpmodel = HdpModel(corpus=corpus, id2word=dictionary, random_state= 30)"
   ]
  },
  {
   "cell_type": "markdown",
   "metadata": {
    "colab_type": "text",
    "id": "KON8iJfmS-f7"
   },
   "source": [
    "and the topics of this model:"
   ]
  },
  {
   "cell_type": "code",
   "execution_count": 29,
   "metadata": {
    "colab": {},
    "colab_type": "code",
    "id": "ewKUhhpgjo8g"
   },
   "outputs": [],
   "source": [
    "def display_topics(model, model_type=\"lda\"):\n",
    "    for topic_idx, topic in enumerate(model.print_topics()):\n",
    "        print (\"Topic %d:\" % (topic_idx))\n",
    "        if model_type== \"hdp\":\n",
    "            print (\" \".join(re.findall( r'\\*(.[^\\*-S]+).?', topic[1])), \"\\n\")\n",
    "        else:\n",
    "            print (\" \".join(re.findall( r'\\\"(.[^\"]+).?', topic[1])), \"\\n\")\n"
   ]
  },
  {
   "cell_type": "code",
   "execution_count": 30,
   "metadata": {
    "colab": {
     "base_uri": "https://localhost:8080/",
     "height": 1000
    },
    "colab_type": "code",
    "id": "-1pogQLHbSl9",
    "outputId": "94002da5-32a7-4c25-b5ac-29b23b8e5959"
   },
   "outputs": [
    {
     "name": "stdout",
     "output_type": "stream",
     "text": [
      "Topic 0:\n",
      "bien  solo  explica  videos  hace  cosas  contenido  basico  explicar  profesor \n",
      "\n",
      "Topic 1:\n",
      "instructor  bien  creo  explica  deberia  cosas  cursos  solo  puede  hace \n",
      "\n",
      "Topic 2:\n",
      "bien  ejemplos  falta  solo  ejemplo  explicacion  cada  videos  mejor  hacer \n",
      "\n",
      "Topic 3:\n",
      "bien  video  habla  videos  solo  material  estandares  informacion  cada  basico \n",
      "\n",
      "Topic 4:\n",
      "bien  cosas  falta  cierta  solo  incorrecta  videos  leccion  aunque  real \n",
      "\n",
      "Topic 5:\n",
      "bien  novatos  empiezas  contest  hacer  talleres  esperando  convence  cosas  menos \n",
      "\n",
      "Topic 6:\n",
      "bien  entender  solamente  conociera  pude  posteriormente  contenido  pego  solo  pronunciacion \n",
      "\n",
      "Topic 7:\n",
      "bien  colocar  explicados  frente  estructura  mejore  aporto  comenzado  frontend  mala \n",
      "\n",
      "Topic 8:\n",
      "mejorar  aunque  bien  maneja  instructor  falta  realizar  lecciones  luego  metodo \n",
      "\n",
      "Topic 9:\n",
      "bien  contenido  quita  interesante  cargo  resum  configurar  emocional  complejidad  comprens \n",
      "\n",
      "Topic 10:\n",
      "familiariz  bien  qgis  vienes  existen  avanzas  pas  realizan  navegacion  distintas \n",
      "\n",
      "Topic 11:\n",
      "bien  receta  ordenador  solo  creo  multiples  curs  tiempo  especifico  tim \n",
      "\n",
      "Topic 12:\n",
      "falta  solo  bien  detallados  navegadores  regul  aplicar  anterioridad  avanzando  estil \n",
      "\n",
      "Topic 13:\n",
      "bien  cuales  linkedin  limito  poder  pausada  tecl  nod  voice  solo \n",
      "\n",
      "Topic 14:\n",
      "mostr  parte  bien  solo  basico  intentar  aprender  ejercicio  forma  resumidos \n",
      "\n",
      "Topic 15:\n",
      "bien  salta  creo  comparte  acompa  niveles  conteudo  herramienta  virtualizacion  pierdes \n",
      "\n",
      "Topic 16:\n",
      "bien  powershell  solo  mismo  espero  llevado  hace  mejorar  valioso  explic \n",
      "\n",
      "Topic 17:\n",
      "bien  resolucion  especificaciones  distintos  teoricos  contado  marketing  cosas  casos  estudiante \n",
      "\n",
      "Topic 18:\n",
      "explica  capsulas  dud  bien  natural  test  explicacion  final  comparando  solo \n",
      "\n",
      "Topic 19:\n",
      "antigua  bien  felicidades  ambos  servido  sueltos  vendrian  incluyeran  espero  olvida \n",
      "\n"
     ]
    }
   ],
   "source": [
    "# hdpmodel.show_topics() \n",
    "\n",
    "display_topics(hdpmodel, model_type=\"hdp\")"
   ]
  },
  {
   "cell_type": "markdown",
   "metadata": {
    "colab_type": "text",
    "id": "jd3LspvVUEXj"
   },
   "source": [
    "as we could see there are 20 topics, however is kind of dificult to interpret or follow, so we decide to move to another model.\n",
    "\n",
    "\n",
    "\n"
   ]
  },
  {
   "cell_type": "code",
   "execution_count": 31,
   "metadata": {
    "colab": {},
    "colab_type": "code",
    "id": "4J2IIPqHVTzZ"
   },
   "outputs": [],
   "source": [
    "def evaluate_graph(dictionary, corpus, texts, limit, model):\n",
    "    \"\"\"\n",
    "    Function to display num_topics - LDA graph using c_v coherence\n",
    "    \n",
    "    Parameters:\n",
    "    ----------\n",
    "    dictionary : Gensim dictionary\n",
    "    corpus : Gensim corpus\n",
    "    limit : topic limit\n",
    "    \n",
    "    Returns:\n",
    "    -------\n",
    "    lm_list : List of LDA topic models\n",
    "    c_v : Coherence values corresponding to the LDA model with respective number of topics\n",
    "    \"\"\"\n",
    "    c_v = []\n",
    "    lm_list = []\n",
    "    for num_topics in range(1, limit):\n",
    "        if model == 'lsi':\n",
    "            lm = LsiModel(corpus=corpus, num_topics=num_topics, id2word=dictionary)\n",
    "        else:\n",
    "            lm = LdaModel(corpus=corpus, num_topics=num_topics, id2word=dictionary)\n",
    "        lm_list.append(lm)\n",
    "        cm = CoherenceModel(model=lm, texts=texts, dictionary=dictionary, coherence='c_v')\n",
    "        c_v.append(cm.get_coherence())\n",
    "        \n",
    "    # Show graph\n",
    "    x = range(1, limit)\n",
    "    plt.plot(x, c_v)\n",
    "    plt.xlabel(\"num_topics\")\n",
    "    plt.ylabel(\"Coherence score\")\n",
    "    plt.legend((\"c_v\"), loc='best')\n",
    "    plt.show()\n",
    "    \n",
    "    return lm_list, c_v"
   ]
  },
  {
   "cell_type": "markdown",
   "metadata": {
    "colab_type": "text",
    "id": "hse2o99bZ8wi"
   },
   "source": [
    "##LSI MODEL"
   ]
  },
  {
   "cell_type": "code",
   "execution_count": 32,
   "metadata": {
    "colab": {},
    "colab_type": "code",
    "id": "HFQCfc9VcmT7"
   },
   "outputs": [],
   "source": [
    "lsimodel = LsiModel(corpus=corpus, num_topics=10, id2word=dictionary)"
   ]
  },
  {
   "cell_type": "code",
   "execution_count": 33,
   "metadata": {
    "colab": {
     "base_uri": "https://localhost:8080/",
     "height": 527
    },
    "colab_type": "code",
    "id": "yfrJmKuLaUrg",
    "outputId": "b7add73d-8ca9-41fb-b93f-eb4de56773dc"
   },
   "outputs": [
    {
     "name": "stdout",
     "output_type": "stream",
     "text": [
      "Topic 0:\n",
      "bien solo videos cosas explica hace creo hacer contenido basico \n",
      "\n",
      "Topic 1:\n",
      "bien solo videos video hacer explicado hace mejor instructor contenido \n",
      "\n",
      "Topic 2:\n",
      "solo videos explica contenido cosas falta basico mejor habla creo \n",
      "\n",
      "Topic 3:\n",
      "videos solo cosas falta basico creo video explicar bien mejor \n",
      "\n",
      "Topic 4:\n",
      "basico cosas explica solo videos contenido hace ejemplos mejor informacion \n",
      "\n",
      "Topic 5:\n",
      "basico videos cosas falta solo explicacion demasiado informacion ejemplos explica \n",
      "\n",
      "Topic 6:\n",
      "falta hace mejor explicacion instructor basico explica creo videos hacer \n",
      "\n",
      "Topic 7:\n",
      "cosas explica mejor creo solo instructor hace habla video falta \n",
      "\n",
      "Topic 8:\n",
      "contenido mejor temas creo informacion instructor explicacion hacer explica habla \n",
      "\n",
      "Topic 9:\n",
      "video temas informacion videos ejemplos explica basico tema parte mejor \n",
      "\n"
     ]
    }
   ],
   "source": [
    "display_topics(lsimodel)  # Showing the topics"
   ]
  },
  {
   "cell_type": "markdown",
   "metadata": {
    "colab_type": "text",
    "id": "t-Bt22W-r1ZO"
   },
   "source": [
    "It seen that with 10 topics there is some themes with keywords related to: trump, venezuela, police, electiones, terrorism; still is a little difficult to gt some insight, because of this we are trying to select the best number of topics by iterate over a range of values and looking the coherence "
   ]
  },
  {
   "cell_type": "code",
   "execution_count": 34,
   "metadata": {
    "colab": {
     "base_uri": "https://localhost:8080/",
     "height": 318
    },
    "colab_type": "code",
    "id": "dtXS4IfIVYIJ",
    "outputId": "916f153b-dc7d-4484-8a62-b9be3a788328"
   },
   "outputs": [
    {
     "data": {
      "image/png": "[encoded data removed]",
      "text/plain": [
       "<Figure size 432x288 with 1 Axes>"
      ]
     },
     "metadata": {
      "needs_background": "light"
     },
     "output_type": "display_data"
    },
    {
     "name": "stdout",
     "output_type": "stream",
     "text": [
      "Wall time: 2min 58s\n"
     ]
    }
   ],
   "source": [
    "%%time\n",
    "lmlist_lsi, c_v = evaluate_graph(dictionary=dictionary, corpus=corpus, texts=df_news['comment_cleaned'].to_list(), limit=21, model= \"lsi\")"
   ]
  },
  {
   "cell_type": "markdown",
   "metadata": {
    "colab_type": "text",
    "id": "kmzyPFWiw63V"
   },
   "source": [
    "According to the coherence the best number of topics are between 3-7, however you must select the topics using both the coherence and visual inspection.\n"
   ]
  },
  {
   "cell_type": "code",
   "execution_count": 35,
   "metadata": {
    "colab": {
     "base_uri": "https://localhost:8080/",
     "height": 170
    },
    "colab_type": "code",
    "id": "TczLrG1ZRL4_",
    "outputId": "97713743-960a-4570-b917-63cd2437b058"
   },
   "outputs": [
    {
     "name": "stdout",
     "output_type": "stream",
     "text": [
      "Topic 0:\n",
      "bien solo videos cosas explica hace creo hacer contenido basico \n",
      "\n",
      "Topic 1:\n",
      "bien solo videos video hacer explicado hace mejor instructor contenido \n",
      "\n",
      "Topic 2:\n",
      "solo videos explica falta basico contenido habla mejor creo video \n",
      "\n"
     ]
    }
   ],
   "source": [
    "display_topics(lmlist_lsi[2])"
   ]
  },
  {
   "cell_type": "markdown",
   "metadata": {
    "colab_type": "text",
    "id": "v6ty9sFNyRyG"
   },
   "source": [
    "Now, Let's try another model"
   ]
  },
  {
   "cell_type": "markdown",
   "metadata": {
    "colab_type": "text",
    "id": "earp2d28dz3a"
   },
   "source": [
    "## Latent Dirichlet Allocation Model"
   ]
  },
  {
   "cell_type": "code",
   "execution_count": 36,
   "metadata": {
    "colab": {},
    "colab_type": "code",
    "id": "wiI55UzIdnUN"
   },
   "outputs": [],
   "source": [
    "ldamodel = LdaModel(corpus=corpus, num_topics=20, id2word=dictionary)"
   ]
  },
  {
   "cell_type": "code",
   "execution_count": 37,
   "metadata": {
    "colab": {
     "base_uri": "https://localhost:8080/",
     "height": 527
    },
    "colab_type": "code",
    "id": "fjAbhPAMd7_B",
    "outputId": "6128b18b-dcda-4960-8e98-ab2fa440b5de"
   },
   "outputs": [
    {
     "name": "stdout",
     "output_type": "stream",
     "text": [
      "Topic 0:\n",
      "introduccion mejor basicas entend excelente espero alguien basico solo rapido \n",
      "\n",
      "Topic 1:\n",
      "podria mejor mejorar pract creo ingles audio explicacion momentos course \n",
      "\n",
      "Topic 2:\n",
      "habla videos parte conoc ejemplo unico mejor final gratis java \n",
      "\n",
      "Topic 3:\n",
      "video audio instructor mala rap aburrido seguir dificil presentacion aporta \n",
      "\n",
      "Topic 4:\n",
      "bien gratuito profesor cosas veces varias rapido deja video iniciar \n",
      "\n",
      "Topic 5:\n",
      "curs bas demasiado ahora explicaciones cosas contenido bien faltan tutorial \n",
      "\n",
      "Topic 6:\n",
      "falta tem ejempl instructor recien hace practicar explicacion good aprende \n",
      "\n",
      "Topic 7:\n",
      "aprendi html  + 0.021*  + 0.020*  + 0.020*  + 0.020*  + 0.018*  + 0.018*  + 0.018* \n",
      "\n",
      "Topic 8:\n",
      "programacion personas conocimiento instructor moment basico ense solo lenguaje tema \n",
      "\n",
      "Topic 9:\n",
      "interesante interes tema ense parece graci cosas basico aprender esper \n",
      "\n",
      "Topic 10:\n",
      "temas datos bien base errores agradece explicar estan falta error \n",
      "\n",
      "Topic 11:\n",
      "informacion conten tiempo util falta pierde saber poder gustaria aunque \n",
      "\n",
      "Topic 12:\n",
      "videos vide calidad audio video contenido ahor malo explicaciones ejemplos \n",
      "\n",
      "Topic 13:\n",
      "eleccion explic bien buena momento sido basico solo principiantes servidor \n",
      "\n",
      "Topic 14:\n",
      "cumple bueno basico funcion queda solo hace parte terminos video \n",
      "\n",
      "Topic 15:\n",
      "bien basico explicado conceptos general nivel gratis bastante mejor hablar \n",
      "\n",
      "Topic 16:\n",
      "falto gusto mucha solo pagina gratis informacion marketing aburr teoria \n",
      "\n",
      "Topic 17:\n",
      "explicacion bien falta fondo sencillo windows idea linux poner musica \n",
      "\n",
      "Topic 18:\n",
      "explica solo aprend bien hacer cada cosas creo hace pasos \n",
      "\n",
      "Topic 19:\n",
      "bi paso explica cl bien momento claro explicar explicacion diferentes \n",
      "\n"
     ]
    }
   ],
   "source": [
    "display_topics(ldamodel)"
   ]
  },
  {
   "cell_type": "markdown",
   "metadata": {
    "colab_type": "text",
    "id": "2cywaW1QsJ8N"
   },
   "source": [
    "Find out the optimal number of topics for the LDA model based on the coherence metric:"
   ]
  },
  {
   "cell_type": "code",
   "execution_count": 38,
   "metadata": {
    "colab": {
     "base_uri": "https://localhost:8080/",
     "height": 318
    },
    "colab_type": "code",
    "id": "Rd651y6mWpTF",
    "outputId": "18376c3d-d18a-465e-d115-9b2b55c02005"
   },
   "outputs": [
    {
     "data": {
      "image/png": "[encoded data removed]",
      "text/plain": [
       "<Figure size 432x288 with 1 Axes>"
      ]
     },
     "metadata": {
      "needs_background": "light"
     },
     "output_type": "display_data"
    }
   ],
   "source": [
    "lmlist, c_v = evaluate_graph(dictionary=dictionary, corpus=corpus, texts=df_news['comment_cleaned'].to_list(), limit=21, model= \"lda\")"
   ]
  },
  {
   "cell_type": "markdown",
   "metadata": {
    "colab_type": "text",
    "id": "P0T4UJGmyiLp"
   },
   "source": [
    "For this model it seems that  9 or 18, again we must to check the keywords too."
   ]
  },
  {
   "cell_type": "markdown",
   "metadata": {
    "colab_type": "text",
    "id": "S6S88TE0eslU"
   },
   "source": [
    "### Comparing the Model Coherence of the Best Models"
   ]
  },
  {
   "cell_type": "markdown",
   "metadata": {
    "colab_type": "text",
    "id": "6dnp010Wz6Xo"
   },
   "source": [
    "we made 3 models, now let's compare each other's  coherence"
   ]
  },
  {
   "cell_type": "code",
   "execution_count": 39,
   "metadata": {
    "colab": {},
    "colab_type": "code",
    "id": "s0bosG67ev6L"
   },
   "outputs": [],
   "source": [
    "ldamodel = lmlist[11]\n",
    "lsimodel = lmlist_lsi[2]\n",
    "\n",
    "lsitopics = [[word for word, prob in topic] for topicid, topic in lsimodel.show_topics(formatted=False)]\n",
    "\n",
    "hdptopics = [[word for word, prob in topic] for topicid, topic in hdpmodel.show_topics(formatted=False)]\n",
    "\n",
    "ldatopics = [[word for word, prob in topic] for topicid, topic in ldamodel.show_topics(formatted=False)]"
   ]
  },
  {
   "cell_type": "code",
   "execution_count": 40,
   "metadata": {
    "colab": {},
    "colab_type": "code",
    "id": "IP5GpYG1e4nT"
   },
   "outputs": [],
   "source": [
    "lsi_coherence = CoherenceModel(topics=lsitopics[:10], texts=df_news['comment_cleaned'].to_list(), dictionary=dictionary, window_size=10).get_coherence()\n",
    "\n",
    "hdp_coherence = CoherenceModel(topics=hdptopics[:10], texts=df_news['comment_cleaned'].to_list(), dictionary=dictionary, window_size=10).get_coherence()\n",
    "\n",
    "lda_coherence = CoherenceModel(topics=ldatopics, texts=df_news['comment_cleaned'].to_list(), dictionary=dictionary, window_size=10).get_coherence()"
   ]
  },
  {
   "cell_type": "code",
   "execution_count": 41,
   "metadata": {
    "colab": {
     "base_uri": "https://localhost:8080/",
     "height": 287
    },
    "colab_type": "code",
    "id": "XntcwwKufZTp",
    "outputId": "7278380a-d093-4908-a44a-0ba94a2d7aac"
   },
   "outputs": [
    {
     "data": {
      "text/plain": [
       "<AxesSubplot:>"
      ]
     },
     "execution_count": 41,
     "metadata": {},
     "output_type": "execute_result"
    },
    {
     "data": {
      "image/png": "[encoded data removed]",
      "text/plain": [
       "<Figure size 432x288 with 1 Axes>"
      ]
     },
     "metadata": {
      "needs_background": "light"
     },
     "output_type": "display_data"
    }
   ],
   "source": [
    "import seaborn as sns\n",
    "\n",
    "coherences = [lsi_coherence, hdp_coherence, lda_coherence]\n",
    "n = len(coherences)\n",
    "x = ['lsi_coherence','hdp_coherence', 'lda_coherence']\n",
    "sns.barplot(x, coherences)\n"
   ]
  },
  {
   "cell_type": "markdown",
   "metadata": {
    "colab_type": "text",
    "id": "bXKu-wAoFMRY"
   },
   "source": [
    "We can see that the **LdaModel** model **with 8 topics** has the higher value of\n",
    "coherence"
   ]
  },
  {
   "cell_type": "markdown",
   "metadata": {
    "colab_type": "text",
    "id": "B5Ii_TedVNHq"
   },
   "source": [
    "Examine the keyword to get the topics of the best model"
   ]
  },
  {
   "cell_type": "code",
   "execution_count": 42,
   "metadata": {
    "colab": {
     "base_uri": "https://localhost:8080/",
     "height": 629
    },
    "colab_type": "code",
    "id": "qtOtsGxHuD8W",
    "outputId": "841b40c9-401d-4e5e-a6bc-cf6e1d7a7169"
   },
   "outputs": [
    {
     "name": "stdout",
     "output_type": "stream",
     "text": [
      "Topic 0:\n",
      "basico bien solo bastante tema instructor conceptos creo mejor demasiado \n",
      "\n",
      "Topic 1:\n",
      "bi informacion basico demasiado general contenido bien explica momento ahora \n",
      "\n",
      "Topic 2:\n",
      "basico aprend vide cosas menos esper esperaba basic bien ense \n",
      "\n",
      "Topic 3:\n",
      "bien curs explic interesante explicacion excelente contenido falta clar sonido \n",
      "\n",
      "Topic 4:\n",
      "eleccion falta videos solo tema mejor hace conten ejemplos podria \n",
      "\n",
      "Topic 5:\n",
      "solo claro cada explica bien basico graci instructor introduccion ahor \n",
      "\n",
      "Topic 6:\n",
      "explicacion gratis informacion gratuito conceptos pract buena util video clara \n",
      "\n",
      "Topic 7:\n",
      "bien bas explica explicado demasiado facil introduccion rapido parece ense \n",
      "\n",
      "Topic 8:\n",
      "interes cosas mejor video tutorial aprendi aprender contenido espero poder \n",
      "\n",
      "Topic 9:\n",
      "bien audio explicar mejor paso podria explica mejorar siento ejemplo \n",
      "\n",
      "Topic 10:\n",
      " + 0.012*  + 0.012*  + 0.011*  + 0.011*  + 0.010*  + 0.010*  + 0.010*  + 0.010*  + 0.010* \n",
      "\n",
      "Topic 11:\n",
      "solo cl bien ense servidor falta ejemplos pagina temas parecio \n",
      "\n"
     ]
    }
   ],
   "source": [
    "\n",
    "display_topics(ldamodel)"
   ]
  },
  {
   "cell_type": "markdown",
   "metadata": {
    "colab_type": "text",
    "id": "23tYxCUIchga"
   },
   "source": [
    "It looks like the topics are:\n",
    "* Topic 0: felicitaciones\n",
    "* Topic 1: expectativas\n",
    "* Topic 2: experiencia\n",
    "* Topic 3: contenido\n",
    "* Topic 4: instructor\n",
    "* Topic 5: material\n",
    "* Topic 6: video\n",
    "* Topic 7: lenguaje\n",
    "* Topic 8: ejercicios\n",
    "* Topic 9: titulo\n",
    "* Topic 10: temas\n",
    "* Topic 11: explicación\n"
   ]
  },
  {
   "cell_type": "code",
   "execution_count": 43,
   "metadata": {},
   "outputs": [],
   "source": [
    "label_dicc = {0:'felicitaciones', 1:'expectativas', 2:'experiencia', 3: 'contenido', 4:'instructor', 5:'material', 6:'video', \n",
    "              7:'lenguaje', 8:'ejercicios', 9: 'titulo', 10:'temas', 11:'explicación'}"
   ]
  },
  {
   "cell_type": "markdown",
   "metadata": {
    "colab_type": "text",
    "id": "v0aL-yqAFzUS"
   },
   "source": [
    "Let´s check the keyword when we selecting another number of topics (14)"
   ]
  },
  {
   "cell_type": "code",
   "execution_count": 44,
   "metadata": {
    "colab": {},
    "colab_type": "code",
    "id": "AGXxaEtVudnc"
   },
   "outputs": [],
   "source": [
    "ldamodel_16 =lmlist[16]\n"
   ]
  },
  {
   "cell_type": "code",
   "execution_count": 45,
   "metadata": {
    "colab": {
     "base_uri": "https://localhost:8080/",
     "height": 680
    },
    "colab_type": "code",
    "id": "aS3QJ5KV5z_c",
    "outputId": "1d87fea1-bfa5-476a-e472-a7e585bd8cf3"
   },
   "outputs": [
    {
     "name": "stdout",
     "output_type": "stream",
     "text": [
      "Topic 0:\n",
      "interesante paso bien mundo solo empezar super creo ingles dice \n",
      "\n",
      "Topic 1:\n",
      "momento rapido gusto cosas gustaria explicaciones entend util sido moment \n",
      "\n",
      "Topic 2:\n",
      "informacion programacion basicos excelente temas base ejemplos solo basica datos \n",
      "\n",
      "Topic 3:\n",
      "videos instructor solo nota tiempo explicar video parte instalacion explica \n",
      "\n",
      "Topic 4:\n",
      "explicacion lento gratuito hace video cosas principiantes contenido falta mala \n",
      "\n",
      "Topic 5:\n",
      "demasiado basico bas conten bien conceptos linux bastante conocer contenido \n",
      "\n",
      "Topic 6:\n",
      "falto temas podria creo mejorar corto mayor sencillo bastante informacion \n",
      "\n",
      "Topic 7:\n",
      "deberia hacer clara basico clar servidor aprendizaje falta explica parece \n",
      "\n",
      "Topic 8:\n",
      "solo gratis basico pract cosas cursos youtube mismo cl pense \n",
      "\n",
      "Topic 9:\n",
      "preguntas curs detall iniciar bien aunque creo necesita dudas cuestionarios \n",
      "\n",
      "Topic 10:\n",
      "bi explica bueno comandos bien hace complet video version explico \n",
      "\n",
      "Topic 11:\n",
      "curs interes esperaba aprend poca musica course fondo good practica \n",
      "\n",
      "Topic 12:\n",
      "eleccion buena nivel conocimiento alguien tenia bootstrap basico recien introduccion \n",
      "\n",
      "Topic 13:\n",
      "mejor podria explicaciones ejemplos creo falta ejempl espero basic puede \n",
      "\n",
      "Topic 14:\n",
      "explica bien  + 0.014*  + 0.013*  + 0.012*  + 0.010*  + 0.010*  + 0.010*  + 0.009* \n",
      "\n",
      "Topic 15:\n",
      "audio ense mejorar calidad videos bajo contenido completo debe volumen \n",
      "\n",
      "Topic 16:\n",
      "bien explic introduccion explicado cosas explica videos falta basico solo \n",
      "\n"
     ]
    }
   ],
   "source": [
    "display_topics(ldamodel_16)"
   ]
  },
  {
   "cell_type": "markdown",
   "metadata": {
    "colab_type": "text",
    "id": "u2clSiIF1yHy"
   },
   "source": [
    "# Classifiying all documents"
   ]
  },
  {
   "cell_type": "markdown",
   "metadata": {
    "colab_type": "text",
    "id": "_sLVX03-1_GB"
   },
   "source": [
    "now that we have been select the best model and topics number, is time to assign a topic to each document, means **cluster** according to the topics"
   ]
  },
  {
   "cell_type": "code",
   "execution_count": 46,
   "metadata": {
    "colab": {},
    "colab_type": "code",
    "id": "9fojFPHKW204"
   },
   "outputs": [
    {
     "data": {
      "application/vnd.jupyter.widget-view+json": {
       "model_id": "e09152d9b125494aa8edd54c5039429e",
       "version_major": 2,
       "version_minor": 0
      },
      "text/plain": [
       "  0%|          | 0/21448 [00:00<?, ?it/s]"
      ]
     },
     "metadata": {},
     "output_type": "display_data"
    }
   ],
   "source": [
    "from tqdm.notebook import tqdm_notebook\n",
    "\n",
    "def format_topics_sentences(ldamodel=0, corpus=corpus, texts=0):\n",
    "    # Init output\n",
    "    sent_topics_df = pd.DataFrame()-n\n",
    "\n",
    "    # Get main topic in each document\n",
    "    for i, row in tqdm_notebook(enumerate(ldamodel[corpus]), total=len(ldamodel[corpus])):\n",
    "        row = sorted(row, key=lambda x: (x[1]), reverse=True)\n",
    "        # Get the Dominant topic, Perc Contribution and Keywords for each document\n",
    "        for j, (topic_num, prop_topic) in enumerate(row):\n",
    "            if j == 0:  # => dominant topic\n",
    "                wp = ldamodel.show_topic(topic_num)\n",
    "                topic_keywords = \", \".join([word for word, prop in wp])\n",
    "                sent_topics_df = sent_topics_df.append(pd.Series([int(topic_num), round(prop_topic,4), topic_keywords]), ignore_index=True)\n",
    "            else:\n",
    "                break\n",
    "    sent_topics_df.columns = ['Dominant_Topic', 'Perc_Contribution', 'Topic_Keywords']\n",
    "\n",
    "    # Add original text to the end of the output\n",
    "    contents = pd.Series(texts)\n",
    "    sent_topics_df = pd.concat([sent_topics_df, contents], axis=1)\n",
    "    return(sent_topics_df)\n",
    "\n",
    "\n",
    "df_topic_sents_keywords = format_topics_sentences(ldamodel, corpus=corpus, texts=df_news['comment_cleaned'].to_list())\n",
    "\n"
   ]
  },
  {
   "cell_type": "code",
   "execution_count": 47,
   "metadata": {
    "colab": {
     "base_uri": "https://localhost:8080/",
     "height": 359
    },
    "colab_type": "code",
    "id": "E8FofLvzYmTP",
    "outputId": "1f5226b4-02cf-4243-e7a1-ab89ddb707b5"
   },
   "outputs": [
    {
     "data": {
      "text/html": [
       "<div>\n",
       "<style scoped>\n",
       "    .dataframe tbody tr th:only-of-type {\n",
       "        vertical-align: middle;\n",
       "    }\n",
       "\n",
       "    .dataframe tbody tr th {\n",
       "        vertical-align: top;\n",
       "    }\n",
       "\n",
       "    .dataframe thead th {\n",
       "        text-align: right;\n",
       "    }\n",
       "</style>\n",
       "<table border=\"1\" class=\"dataframe\">\n",
       "  <thead>\n",
       "    <tr style=\"text-align: right;\">\n",
       "      <th></th>\n",
       "      <th>Document_No</th>\n",
       "      <th>Dominant_Topic</th>\n",
       "      <th>Topic_Perc_Contrib</th>\n",
       "      <th>Keywords</th>\n",
       "      <th>Text</th>\n",
       "    </tr>\n",
       "  </thead>\n",
       "  <tbody>\n",
       "    <tr>\n",
       "      <th>0</th>\n",
       "      <td>0</td>\n",
       "      <td>3.0</td>\n",
       "      <td>0.6445</td>\n",
       "      <td>bien, curs, explic, interesante, explicacion, excelente, contenido, falta, clar, sonido</td>\n",
       "      <td>[introduccion, bien, deberian, hacerlo, dirigido, fotos, rp]</td>\n",
       "    </tr>\n",
       "    <tr>\n",
       "      <th>1</th>\n",
       "      <td>1</td>\n",
       "      <td>6.0</td>\n",
       "      <td>0.5417</td>\n",
       "      <td>explicacion, gratis, informacion, gratuito, conceptos, pract, buena, util, video, clara</td>\n",
       "      <td>[explican, mayori]</td>\n",
       "    </tr>\n",
       "    <tr>\n",
       "      <th>2</th>\n",
       "      <td>2</td>\n",
       "      <td>5.0</td>\n",
       "      <td>0.5837</td>\n",
       "      <td>solo, claro, cada, explica, bien, basico, graci, instructor, introduccion, ahor</td>\n",
       "      <td>[pronto, evaluarlo, comparandolo, calidad, cursos, bajo, pueden, descargar, archivos, estan, sonido, malo, escucha, turbi]</td>\n",
       "    </tr>\n",
       "    <tr>\n",
       "      <th>3</th>\n",
       "      <td>3</td>\n",
       "      <td>0.0</td>\n",
       "      <td>0.5820</td>\n",
       "      <td>basico, bien, solo, bastante, tema, instructor, conceptos, creo, mejor, demasiado</td>\n",
       "      <td>[excelente, detallado, menos, leido, calidad, seria, superior, tema, explicar, leer, men]</td>\n",
       "    </tr>\n",
       "    <tr>\n",
       "      <th>4</th>\n",
       "      <td>4</td>\n",
       "      <td>1.0</td>\n",
       "      <td>0.6434</td>\n",
       "      <td>bi, informacion, basico, demasiado, general, contenido, bien, explica, momento, ahora</td>\n",
       "      <td>[parece, podria, algun, peque, repaso, terminos, comunes, ademas, ejempl]</td>\n",
       "    </tr>\n",
       "    <tr>\n",
       "      <th>5</th>\n",
       "      <td>5</td>\n",
       "      <td>1.0</td>\n",
       "      <td>0.4519</td>\n",
       "      <td>bi, informacion, basico, demasiado, general, contenido, bien, explica, momento, ahora</td>\n",
       "      <td>[parte, curso, profesor, mismo, curso, gratis, especializado, hacking, igualmente, bien, explic]</td>\n",
       "    </tr>\n",
       "    <tr>\n",
       "      <th>6</th>\n",
       "      <td>6</td>\n",
       "      <td>2.0</td>\n",
       "      <td>0.8690</td>\n",
       "      <td>basico, aprend, vide, cosas, menos, esper, esperaba, basic, bien, ense</td>\n",
       "      <td>[gusto, hacking, python, aprende, python, hacking]</td>\n",
       "    </tr>\n",
       "    <tr>\n",
       "      <th>7</th>\n",
       "      <td>7</td>\n",
       "      <td>0.0</td>\n",
       "      <td>0.8468</td>\n",
       "      <td>basico, bien, solo, bastante, tema, instructor, conceptos, creo, mejor, demasiado</td>\n",
       "      <td>[habla, hacking, apartados, solo, decepcion]</td>\n",
       "    </tr>\n",
       "    <tr>\n",
       "      <th>8</th>\n",
       "      <td>8</td>\n",
       "      <td>7.0</td>\n",
       "      <td>0.8973</td>\n",
       "      <td>bien, bas, explica, explicado, demasiado, facil, introduccion, rapido, parece, ense</td>\n",
       "      <td>[introduccion, breve, rapida, lenguaje, programacion, python, curso, auditoria, informatica, final, curso, breve, ejemplo, hacer, cumplido, exactamente, expectativas, reconocer, tutor, esforzado, involucrado, ejemplos, lenguaj]</td>\n",
       "    </tr>\n",
       "    <tr>\n",
       "      <th>9</th>\n",
       "      <td>9</td>\n",
       "      <td>7.0</td>\n",
       "      <td>0.9083</td>\n",
       "      <td>bien, bas, explica, explicado, demasiado, facil, introduccion, rapido, parece, ense</td>\n",
       "      <td>[parecio, super, bien, curso, personas, quieran, iniciarse, lenguaje, programacion, python]</td>\n",
       "    </tr>\n",
       "  </tbody>\n",
       "</table>\n",
       "</div>"
      ],
      "text/plain": [
       "   Document_No  Dominant_Topic  Topic_Perc_Contrib                                                                                 Keywords                                                                                                                                                                                                                                 Text\n",
       "0            0             3.0              0.6445  bien, curs, explic, interesante, explicacion, excelente, contenido, falta, clar, sonido                                                                                                                                                                         [introduccion, bien, deberian, hacerlo, dirigido, fotos, rp]\n",
       "1            1             6.0              0.5417  explicacion, gratis, informacion, gratuito, conceptos, pract, buena, util, video, clara                                                                                                                                                                                                                   [explican, mayori]\n",
       "2            2             5.0              0.5837          solo, claro, cada, explica, bien, basico, graci, instructor, introduccion, ahor                                                                                                           [pronto, evaluarlo, comparandolo, calidad, cursos, bajo, pueden, descargar, archivos, estan, sonido, malo, escucha, turbi]\n",
       "3            3             0.0              0.5820        basico, bien, solo, bastante, tema, instructor, conceptos, creo, mejor, demasiado                                                                                                                                            [excelente, detallado, menos, leido, calidad, seria, superior, tema, explicar, leer, men]\n",
       "4            4             1.0              0.6434    bi, informacion, basico, demasiado, general, contenido, bien, explica, momento, ahora                                                                                                                                                            [parece, podria, algun, peque, repaso, terminos, comunes, ademas, ejempl]\n",
       "5            5             1.0              0.4519    bi, informacion, basico, demasiado, general, contenido, bien, explica, momento, ahora                                                                                                                                     [parte, curso, profesor, mismo, curso, gratis, especializado, hacking, igualmente, bien, explic]\n",
       "6            6             2.0              0.8690                   basico, aprend, vide, cosas, menos, esper, esperaba, basic, bien, ense                                                                                                                                                                                   [gusto, hacking, python, aprende, python, hacking]\n",
       "7            7             0.0              0.8468        basico, bien, solo, bastante, tema, instructor, conceptos, creo, mejor, demasiado                                                                                                                                                                                         [habla, hacking, apartados, solo, decepcion]\n",
       "8            8             7.0              0.8973      bien, bas, explica, explicado, demasiado, facil, introduccion, rapido, parece, ense  [introduccion, breve, rapida, lenguaje, programacion, python, curso, auditoria, informatica, final, curso, breve, ejemplo, hacer, cumplido, exactamente, expectativas, reconocer, tutor, esforzado, involucrado, ejemplos, lenguaj]\n",
       "9            9             7.0              0.9083      bien, bas, explica, explicado, demasiado, facil, introduccion, rapido, parece, ense                                                                                                                                          [parecio, super, bien, curso, personas, quieran, iniciarse, lenguaje, programacion, python]"
      ]
     },
     "execution_count": 47,
     "metadata": {},
     "output_type": "execute_result"
    }
   ],
   "source": [
    "# Format\n",
    "df_dominant_topic = df_topic_sents_keywords.reset_index()\n",
    "df_dominant_topic.columns = ['Document_No', 'Dominant_Topic', 'Topic_Perc_Contrib', 'Keywords', 'Text']\n",
    "\n",
    "# Show\n",
    "df_dominant_topic.head(10)"
   ]
  },
  {
   "cell_type": "markdown",
   "metadata": {
    "colab_type": "text",
    "id": "9vtBDBQKkzmK"
   },
   "source": [
    "We selected the ldamodel with 12 topics and asigned a dominant topic to each document, now let map each topic with a label "
   ]
  },
  {
   "cell_type": "markdown",
   "metadata": {
    "colab_type": "text",
    "id": "z8f8u5UJlQJ8"
   },
   "source": [
    "first let's create the dictionary"
   ]
  },
  {
   "cell_type": "code",
   "execution_count": 48,
   "metadata": {
    "colab": {},
    "colab_type": "code",
    "id": "I27y-Pd-lXL8"
   },
   "outputs": [],
   "source": [
    "label_dicc = {0:'felicitaciones', 1:'expectativas', 2:'experiencia', 3: 'contenido', 4:'instructor', 5:'material', 6:'video', \n",
    "              7:'lenguaje', 8:'ejercicios', 9: 'titulo', 10:'temas', 11:'explicación'}"
   ]
  },
  {
   "cell_type": "code",
   "execution_count": 49,
   "metadata": {
    "colab": {},
    "colab_type": "code",
    "id": "qUspHFcPopTz"
   },
   "outputs": [],
   "source": [
    "df_dominant_topic['Dominant_Topic'] = df_dominant_topic['Dominant_Topic'].astype('int64')\n"
   ]
  },
  {
   "cell_type": "code",
   "execution_count": 50,
   "metadata": {
    "colab": {
     "base_uri": "https://localhost:8080/",
     "height": 359
    },
    "colab_type": "code",
    "id": "o9XM5yHgnmg5",
    "outputId": "1d89e87e-a9e1-401e-edd1-63457a7f50c4"
   },
   "outputs": [
    {
     "data": {
      "text/html": [
       "<div>\n",
       "<style scoped>\n",
       "    .dataframe tbody tr th:only-of-type {\n",
       "        vertical-align: middle;\n",
       "    }\n",
       "\n",
       "    .dataframe tbody tr th {\n",
       "        vertical-align: top;\n",
       "    }\n",
       "\n",
       "    .dataframe thead th {\n",
       "        text-align: right;\n",
       "    }\n",
       "</style>\n",
       "<table border=\"1\" class=\"dataframe\">\n",
       "  <thead>\n",
       "    <tr style=\"text-align: right;\">\n",
       "      <th></th>\n",
       "      <th>Document_No</th>\n",
       "      <th>Dominant_Topic</th>\n",
       "      <th>Topic_Perc_Contrib</th>\n",
       "      <th>Keywords</th>\n",
       "      <th>Text</th>\n",
       "    </tr>\n",
       "  </thead>\n",
       "  <tbody>\n",
       "    <tr>\n",
       "      <th>0</th>\n",
       "      <td>0</td>\n",
       "      <td>contenido</td>\n",
       "      <td>0.6445</td>\n",
       "      <td>bien, curs, explic, interesante, explicacion, excelente, contenido, falta, clar, sonido</td>\n",
       "      <td>[introduccion, bien, deberian, hacerlo, dirigido, fotos, rp]</td>\n",
       "    </tr>\n",
       "    <tr>\n",
       "      <th>1</th>\n",
       "      <td>1</td>\n",
       "      <td>video</td>\n",
       "      <td>0.5417</td>\n",
       "      <td>explicacion, gratis, informacion, gratuito, conceptos, pract, buena, util, video, clara</td>\n",
       "      <td>[explican, mayori]</td>\n",
       "    </tr>\n",
       "    <tr>\n",
       "      <th>2</th>\n",
       "      <td>2</td>\n",
       "      <td>material</td>\n",
       "      <td>0.5837</td>\n",
       "      <td>solo, claro, cada, explica, bien, basico, graci, instructor, introduccion, ahor</td>\n",
       "      <td>[pronto, evaluarlo, comparandolo, calidad, cursos, bajo, pueden, descargar, archivos, estan, sonido, malo, escucha, turbi]</td>\n",
       "    </tr>\n",
       "    <tr>\n",
       "      <th>3</th>\n",
       "      <td>3</td>\n",
       "      <td>felicitaciones</td>\n",
       "      <td>0.5820</td>\n",
       "      <td>basico, bien, solo, bastante, tema, instructor, conceptos, creo, mejor, demasiado</td>\n",
       "      <td>[excelente, detallado, menos, leido, calidad, seria, superior, tema, explicar, leer, men]</td>\n",
       "    </tr>\n",
       "    <tr>\n",
       "      <th>4</th>\n",
       "      <td>4</td>\n",
       "      <td>expectativas</td>\n",
       "      <td>0.6434</td>\n",
       "      <td>bi, informacion, basico, demasiado, general, contenido, bien, explica, momento, ahora</td>\n",
       "      <td>[parece, podria, algun, peque, repaso, terminos, comunes, ademas, ejempl]</td>\n",
       "    </tr>\n",
       "    <tr>\n",
       "      <th>5</th>\n",
       "      <td>5</td>\n",
       "      <td>expectativas</td>\n",
       "      <td>0.4519</td>\n",
       "      <td>bi, informacion, basico, demasiado, general, contenido, bien, explica, momento, ahora</td>\n",
       "      <td>[parte, curso, profesor, mismo, curso, gratis, especializado, hacking, igualmente, bien, explic]</td>\n",
       "    </tr>\n",
       "    <tr>\n",
       "      <th>6</th>\n",
       "      <td>6</td>\n",
       "      <td>experiencia</td>\n",
       "      <td>0.8690</td>\n",
       "      <td>basico, aprend, vide, cosas, menos, esper, esperaba, basic, bien, ense</td>\n",
       "      <td>[gusto, hacking, python, aprende, python, hacking]</td>\n",
       "    </tr>\n",
       "    <tr>\n",
       "      <th>7</th>\n",
       "      <td>7</td>\n",
       "      <td>felicitaciones</td>\n",
       "      <td>0.8468</td>\n",
       "      <td>basico, bien, solo, bastante, tema, instructor, conceptos, creo, mejor, demasiado</td>\n",
       "      <td>[habla, hacking, apartados, solo, decepcion]</td>\n",
       "    </tr>\n",
       "    <tr>\n",
       "      <th>8</th>\n",
       "      <td>8</td>\n",
       "      <td>lenguaje</td>\n",
       "      <td>0.8973</td>\n",
       "      <td>bien, bas, explica, explicado, demasiado, facil, introduccion, rapido, parece, ense</td>\n",
       "      <td>[introduccion, breve, rapida, lenguaje, programacion, python, curso, auditoria, informatica, final, curso, breve, ejemplo, hacer, cumplido, exactamente, expectativas, reconocer, tutor, esforzado, involucrado, ejemplos, lenguaj]</td>\n",
       "    </tr>\n",
       "    <tr>\n",
       "      <th>9</th>\n",
       "      <td>9</td>\n",
       "      <td>lenguaje</td>\n",
       "      <td>0.9083</td>\n",
       "      <td>bien, bas, explica, explicado, demasiado, facil, introduccion, rapido, parece, ense</td>\n",
       "      <td>[parecio, super, bien, curso, personas, quieran, iniciarse, lenguaje, programacion, python]</td>\n",
       "    </tr>\n",
       "  </tbody>\n",
       "</table>\n",
       "</div>"
      ],
      "text/plain": [
       "   Document_No  Dominant_Topic  Topic_Perc_Contrib                                                                                 Keywords                                                                                                                                                                                                                                 Text\n",
       "0            0       contenido              0.6445  bien, curs, explic, interesante, explicacion, excelente, contenido, falta, clar, sonido                                                                                                                                                                         [introduccion, bien, deberian, hacerlo, dirigido, fotos, rp]\n",
       "1            1           video              0.5417  explicacion, gratis, informacion, gratuito, conceptos, pract, buena, util, video, clara                                                                                                                                                                                                                   [explican, mayori]\n",
       "2            2        material              0.5837          solo, claro, cada, explica, bien, basico, graci, instructor, introduccion, ahor                                                                                                           [pronto, evaluarlo, comparandolo, calidad, cursos, bajo, pueden, descargar, archivos, estan, sonido, malo, escucha, turbi]\n",
       "3            3  felicitaciones              0.5820        basico, bien, solo, bastante, tema, instructor, conceptos, creo, mejor, demasiado                                                                                                                                            [excelente, detallado, menos, leido, calidad, seria, superior, tema, explicar, leer, men]\n",
       "4            4    expectativas              0.6434    bi, informacion, basico, demasiado, general, contenido, bien, explica, momento, ahora                                                                                                                                                            [parece, podria, algun, peque, repaso, terminos, comunes, ademas, ejempl]\n",
       "5            5    expectativas              0.4519    bi, informacion, basico, demasiado, general, contenido, bien, explica, momento, ahora                                                                                                                                     [parte, curso, profesor, mismo, curso, gratis, especializado, hacking, igualmente, bien, explic]\n",
       "6            6     experiencia              0.8690                   basico, aprend, vide, cosas, menos, esper, esperaba, basic, bien, ense                                                                                                                                                                                   [gusto, hacking, python, aprende, python, hacking]\n",
       "7            7  felicitaciones              0.8468        basico, bien, solo, bastante, tema, instructor, conceptos, creo, mejor, demasiado                                                                                                                                                                                         [habla, hacking, apartados, solo, decepcion]\n",
       "8            8        lenguaje              0.8973      bien, bas, explica, explicado, demasiado, facil, introduccion, rapido, parece, ense  [introduccion, breve, rapida, lenguaje, programacion, python, curso, auditoria, informatica, final, curso, breve, ejemplo, hacer, cumplido, exactamente, expectativas, reconocer, tutor, esforzado, involucrado, ejemplos, lenguaj]\n",
       "9            9        lenguaje              0.9083      bien, bas, explica, explicado, demasiado, facil, introduccion, rapido, parece, ense                                                                                                                                          [parecio, super, bien, curso, personas, quieran, iniciarse, lenguaje, programacion, python]"
      ]
     },
     "execution_count": 50,
     "metadata": {},
     "output_type": "execute_result"
    }
   ],
   "source": [
    "df_dominant_topic['Dominant_Topic'] = df_dominant_topic['Dominant_Topic'].map(label_dicc)\n",
    "df_dominant_topic.head(10)"
   ]
  },
  {
   "cell_type": "code",
   "execution_count": 51,
   "metadata": {
    "colab": {},
    "colab_type": "code",
    "id": "in5E52W3pl_k"
   },
   "outputs": [],
   "source": [
    "df_news['labels'] = df_dominant_topic['Dominant_Topic']\n",
    "df_news['label_confidence'] = df_dominant_topic['Topic_Perc_Contrib']"
   ]
  },
  {
   "cell_type": "markdown",
   "metadata": {
    "colab_type": "text",
    "id": "mA35orWWqQMt"
   },
   "source": [
    "Let's examine some text and its topics"
   ]
  },
  {
   "cell_type": "code",
   "execution_count": 52,
   "metadata": {
    "colab": {
     "base_uri": "https://localhost:8080/",
     "height": 335
    },
    "colab_type": "code",
    "id": "7cHF6NEHkHYh",
    "outputId": "8141df9c-6d26-4d3d-d6d9-9643da78a7c7"
   },
   "outputs": [
    {
     "data": {
      "text/html": [
       "<div>\n",
       "<style scoped>\n",
       "    .dataframe tbody tr th:only-of-type {\n",
       "        vertical-align: middle;\n",
       "    }\n",
       "\n",
       "    .dataframe tbody tr th {\n",
       "        vertical-align: top;\n",
       "    }\n",
       "\n",
       "    .dataframe thead th {\n",
       "        text-align: right;\n",
       "    }\n",
       "</style>\n",
       "<table border=\"1\" class=\"dataframe\">\n",
       "  <thead>\n",
       "    <tr style=\"text-align: right;\">\n",
       "      <th></th>\n",
       "      <th>comment</th>\n",
       "      <th>labels</th>\n",
       "    </tr>\n",
       "  </thead>\n",
       "  <tbody>\n",
       "    <tr>\n",
       "      <th>6545</th>\n",
       "      <td>como introducción esta bien pero deberían de hacerlo mas dirigido a RPA con fotos de RPAS</td>\n",
       "      <td>contenido</td>\n",
       "    </tr>\n",
       "    <tr>\n",
       "      <th>6734</th>\n",
       "      <td>Explican poco... se lee la mayoría</td>\n",
       "      <td>contenido</td>\n",
       "    </tr>\n",
       "    <tr>\n",
       "      <th>6738</th>\n",
       "      <td>es muy pronto para evaluarlo, comparandolo con la calidad de otros cursos este es bajo, no se pueden descargar los archivos ya que no estan en PDF y el sonido es malo, se escucha turbio.</td>\n",
       "      <td>felicitaciones</td>\n",
       "    </tr>\n",
       "    <tr>\n",
       "      <th>6739</th>\n",
       "      <td>Excelente, muy detallado. Si fuera menos « leído » la calidad sería superior! El tema da para explicar más y leer menos</td>\n",
       "      <td>contenido</td>\n",
       "    </tr>\n",
       "    <tr>\n",
       "      <th>6782</th>\n",
       "      <td>Me parece que podria dar algun pequeño repaso de terminos comunes, ademas de dar mas ejemplos</td>\n",
       "      <td>experiencia</td>\n",
       "    </tr>\n",
       "    <tr>\n",
       "      <th>7061</th>\n",
       "      <td>Una parte del curso fue algo que el profesor mismo tiene en otro curso gratis.\\nPero lo especializado a Hacking está igualmente bien explicado.</td>\n",
       "      <td>explicación</td>\n",
       "    </tr>\n",
       "    <tr>\n",
       "      <th>7084</th>\n",
       "      <td>No me gusto. Más que Hacking con Python... era aprende Python, de hacking poco y nada.</td>\n",
       "      <td>experiencia</td>\n",
       "    </tr>\n",
       "    <tr>\n",
       "      <th>7088</th>\n",
       "      <td>habla de hacking y son dos apartados que solo son web. DECEPCIONANTE.</td>\n",
       "      <td>experiencia</td>\n",
       "    </tr>\n",
       "    <tr>\n",
       "      <th>7113</th>\n",
       "      <td>Es una introducción breve y rápida al lenguaje de programación Python. No es un curso de Auditoria informática, ya que al final del curso se da un breve ejemplo de como hacer Scraping.No ha cumplido exactamente con mis expectativas pero he de reconocer que el tutor se ha esforzado e involucrado en los ejemplos del lenguaje.</td>\n",
       "      <td>contenido</td>\n",
       "    </tr>\n",
       "    <tr>\n",
       "      <th>7115</th>\n",
       "      <td>Me pareció super bien el curso para las personas que quieran iniciarse en el lenguaje de programación python</td>\n",
       "      <td>instructor</td>\n",
       "    </tr>\n",
       "  </tbody>\n",
       "</table>\n",
       "</div>"
      ],
      "text/plain": [
       "                                                                                                                                                                                                                                                                                                                                    comment          labels\n",
       "6545                                                                                                                                                                                                                                              como introducción esta bien pero deberían de hacerlo mas dirigido a RPA con fotos de RPAS       contenido\n",
       "6734                                                                                                                                                                                                                                                                                                     Explican poco... se lee la mayoría       contenido\n",
       "6738                                                                                                                                             es muy pronto para evaluarlo, comparandolo con la calidad de otros cursos este es bajo, no se pueden descargar los archivos ya que no estan en PDF y el sonido es malo, se escucha turbio.  felicitaciones\n",
       "6739                                                                                                                                                                                                                Excelente, muy detallado. Si fuera menos « leído » la calidad sería superior! El tema da para explicar más y leer menos       contenido\n",
       "6782                                                                                                                                                                                                                                          Me parece que podria dar algun pequeño repaso de terminos comunes, ademas de dar mas ejemplos     experiencia\n",
       "7061                                                                                                                                                                                        Una parte del curso fue algo que el profesor mismo tiene en otro curso gratis.\\nPero lo especializado a Hacking está igualmente bien explicado.     explicación\n",
       "7084                                                                                                                                                                                                                                                 No me gusto. Más que Hacking con Python... era aprende Python, de hacking poco y nada.     experiencia\n",
       "7088                                                                                                                                                                                                                                                                  habla de hacking y son dos apartados que solo son web. DECEPCIONANTE.     experiencia\n",
       "7113  Es una introducción breve y rápida al lenguaje de programación Python. No es un curso de Auditoria informática, ya que al final del curso se da un breve ejemplo de como hacer Scraping.No ha cumplido exactamente con mis expectativas pero he de reconocer que el tutor se ha esforzado e involucrado en los ejemplos del lenguaje.       contenido\n",
       "7115                                                                                                                                                                                                                           Me pareció super bien el curso para las personas que quieran iniciarse en el lenguaje de programación python      instructor"
      ]
     },
     "execution_count": 52,
     "metadata": {},
     "output_type": "execute_result"
    }
   ],
   "source": [
    "df_news[['comment', 'labels']].head(10)"
   ]
  },
  {
   "cell_type": "code",
   "execution_count": 53,
   "metadata": {
    "colab": {
     "base_uri": "https://localhost:8080/",
     "height": 115
    },
    "colab_type": "code",
    "id": "sgkBFTYbqID0",
    "outputId": "cb7ce341-6c49-48c3-eb15-cccb8a5ea902"
   },
   "outputs": [
    {
     "data": {
      "text/html": [
       "<div>\n",
       "<style scoped>\n",
       "    .dataframe tbody tr th:only-of-type {\n",
       "        vertical-align: middle;\n",
       "    }\n",
       "\n",
       "    .dataframe tbody tr th {\n",
       "        vertical-align: top;\n",
       "    }\n",
       "\n",
       "    .dataframe thead th {\n",
       "        text-align: right;\n",
       "    }\n",
       "</style>\n",
       "<table border=\"1\" class=\"dataframe\">\n",
       "  <thead>\n",
       "    <tr style=\"text-align: right;\">\n",
       "      <th></th>\n",
       "      <th>id</th>\n",
       "      <th>course</th>\n",
       "      <th>rating</th>\n",
       "      <th>comment</th>\n",
       "      <th>user</th>\n",
       "      <th>tag</th>\n",
       "      <th>comment_cleaned</th>\n",
       "      <th>labels</th>\n",
       "      <th>label_confidence</th>\n",
       "    </tr>\n",
       "  </thead>\n",
       "  <tbody>\n",
       "    <tr>\n",
       "      <th>12651</th>\n",
       "      <td>39746034</td>\n",
       "      <td>1212882</td>\n",
       "      <td>3.5</td>\n",
       "      <td>Buen curso, le doy 3,5 estrellas porque debería tener ejercicios propuestos para uno practicar. Me parece que estructuralmente debería empezar explicando algunos conceptos antes de usarlos, por ejemplo las celdas.</td>\n",
       "      <td>Jesus David Santos</td>\n",
       "      <td>neg</td>\n",
       "      <td>[curso, estrellas, deberia, tener, ejercicios, propuestos, practicar, parece, estructuralmente, deberia, empezar, explicando, conceptos, usarlos, ejemplo, celd]</td>\n",
       "      <td>instructor</td>\n",
       "      <td>0.9389</td>\n",
       "    </tr>\n",
       "    <tr>\n",
       "      <th>2998</th>\n",
       "      <td>52602864</td>\n",
       "      <td>1890392</td>\n",
       "      <td>2.5</td>\n",
       "      <td>Mis expectativas era poder ver un caso donde a traves de la herramienta se fuera desarrollando una investigación a un objetivo e ir documentando el mismo. La sensacion fue que se mostraron tips basicos y no se exploró mas a fondo las herramientas como osint.</td>\n",
       "      <td>Ronald Tellez V</td>\n",
       "      <td>neg</td>\n",
       "      <td>[expectativas, poder, caso, traves, herramienta, desarrollando, investigacion, objetivo, documentando, mismo, sensacion, mostraron, tips, basicos, exploro, fondo, herramientas, osint]</td>\n",
       "      <td>instructor</td>\n",
       "      <td>0.9295</td>\n",
       "    </tr>\n",
       "    <tr>\n",
       "      <th>5655</th>\n",
       "      <td>64325410</td>\n",
       "      <td>448168</td>\n",
       "      <td>3.0</td>\n",
       "      <td>muy bien pero utiliza terminos que aun desconosco ejemplo back ???'</td>\n",
       "      <td>Mary Mar Puerta Carrillo</td>\n",
       "      <td>neg</td>\n",
       "      <td>[bien, utiliza, terminos, desconosco, ejemplo, back]</td>\n",
       "      <td>instructor</td>\n",
       "      <td>0.9166</td>\n",
       "    </tr>\n",
       "    <tr>\n",
       "      <th>4285</th>\n",
       "      <td>12610948</td>\n",
       "      <td>1068258</td>\n",
       "      <td>3.5</td>\n",
       "      <td>Promociona mucho su sitio y cursos fuera de udemy que me hace dudar si adquiri un curso incompleto</td>\n",
       "      <td>Rodolfo Ponce de Leon</td>\n",
       "      <td>neg</td>\n",
       "      <td>[promociona, sitio, cursos, udemy, hace, dudar, adquiri, curso, incomplet]</td>\n",
       "      <td>instructor</td>\n",
       "      <td>0.9084</td>\n",
       "    </tr>\n",
       "    <tr>\n",
       "      <th>4476</th>\n",
       "      <td>4440868</td>\n",
       "      <td>565188</td>\n",
       "      <td>0.5</td>\n",
       "      <td>Mala explicación, no preparo lo que tenia que mostrar antes, parece un tutorial traducido por alguien que sabe poco del tema</td>\n",
       "      <td>DanielCanedo</td>\n",
       "      <td>neg</td>\n",
       "      <td>[mala, explicacion, preparo, tenia, mostrar, parece, tutorial, traducido, alguien, sabe, tem]</td>\n",
       "      <td>instructor</td>\n",
       "      <td>0.9083</td>\n",
       "    </tr>\n",
       "    <tr>\n",
       "      <th>11544</th>\n",
       "      <td>23014696</td>\n",
       "      <td>1192848</td>\n",
       "      <td>1.0</td>\n",
       "      <td>solo es puro concepto</td>\n",
       "      <td>Alejandro Martinez Olivares</td>\n",
       "      <td>neg</td>\n",
       "      <td>[solo, puro, concept]</td>\n",
       "      <td>instructor</td>\n",
       "      <td>0.8854</td>\n",
       "    </tr>\n",
       "    <tr>\n",
       "      <th>1670</th>\n",
       "      <td>60175150</td>\n",
       "      <td>2577308</td>\n",
       "      <td>3.0</td>\n",
       "      <td>corto,  considere que se   incluía técnicas de grabación</td>\n",
       "      <td>Fidel Isla</td>\n",
       "      <td>neg</td>\n",
       "      <td>[corto, considere, incluia, tecnicas, grabacion]</td>\n",
       "      <td>instructor</td>\n",
       "      <td>0.8854</td>\n",
       "    </tr>\n",
       "    <tr>\n",
       "      <th>11544</th>\n",
       "      <td>9614538</td>\n",
       "      <td>779476</td>\n",
       "      <td>3.0</td>\n",
       "      <td>Muy corto, ra muy basico</td>\n",
       "      <td>Emmanuel Carreño</td>\n",
       "      <td>neg</td>\n",
       "      <td>[corto, bas]</td>\n",
       "      <td>instructor</td>\n",
       "      <td>0.8854</td>\n",
       "    </tr>\n",
       "    <tr>\n",
       "      <th>5064</th>\n",
       "      <td>27655626</td>\n",
       "      <td>1814494</td>\n",
       "      <td>2.5</td>\n",
       "      <td>El contenido no está mal pero lo veo todo un poco desordenado a la hora de explicarlo y se hace bastante monótona su voz. También me habría gustado ir creando un proyecto según va explicando las distintas partes, pero cada video es una cosa inconexa de las anteriores con lo cual no terminas el curso con algo tangible sino con mil videos con una escalera por aquí, una cubierta por allá...\\nEn definitiva el contenido lo veo bien pero no me gusta el curso en sí.</td>\n",
       "      <td>María Valera Garrote</td>\n",
       "      <td>neg</td>\n",
       "      <td>[contenido, desordenado, hora, explicarlo, hace, bastante, monotona, tambien, habria, gustado, creando, proyecto, segun, explicando, distintas, partes, cada, video, cosa, inconexa, anteriores, terminas, curso, tangible, sino, videos, escalera, aqui, cubierta, alla, definitiva, contenido, bien, gusta, curs]</td>\n",
       "      <td>instructor</td>\n",
       "      <td>0.8854</td>\n",
       "    </tr>\n",
       "    <tr>\n",
       "      <th>3727</th>\n",
       "      <td>68909184</td>\n",
       "      <td>1652964</td>\n",
       "      <td>2.5</td>\n",
       "      <td>Faltan recursos.\\nEl hecho de que se invoquen todos los nodos mediante \"In-Canvas Search\" hace difícil de seguir el curso y muy difícil que tú por tu cuenta puedas progresar.\\nNo hay feedback con el profesor.\\nComo introducción sirve.</td>\n",
       "      <td>Jaume Molins</td>\n",
       "      <td>neg</td>\n",
       "      <td>[faltan, recursos, hecho, invoquen, nodos, mediante, canvas, search, hace, dificil, seguir, curso, dificil, cuenta, puedas, progresar, feedback, profesor, introduccion, sirv]</td>\n",
       "      <td>instructor</td>\n",
       "      <td>0.8693</td>\n",
       "    </tr>\n",
       "  </tbody>\n",
       "</table>\n",
       "</div>"
      ],
      "text/plain": [
       "             id   course  rating                                                                                                                                                                                                                                                                                                                                                                                                                                                                          comment                         user  tag                                                                                                                                                                                                                                                                                                      comment_cleaned      labels  label_confidence\n",
       "12651  39746034  1212882     3.5                                                                                                                                                                                                                                                            Buen curso, le doy 3,5 estrellas porque debería tener ejercicios propuestos para uno practicar. Me parece que estructuralmente debería empezar explicando algunos conceptos antes de usarlos, por ejemplo las celdas.           Jesus David Santos  neg                                                                                                                                                     [curso, estrellas, deberia, tener, ejercicios, propuestos, practicar, parece, estructuralmente, deberia, empezar, explicando, conceptos, usarlos, ejemplo, celd]  instructor            0.9389\n",
       "2998   52602864  1890392     2.5                                                                                                                                                                                                               Mis expectativas era poder ver un caso donde a traves de la herramienta se fuera desarrollando una investigación a un objetivo e ir documentando el mismo. La sensacion fue que se mostraron tips basicos y no se exploró mas a fondo las herramientas como osint.              Ronald Tellez V  neg                                                                                                                              [expectativas, poder, caso, traves, herramienta, desarrollando, investigacion, objetivo, documentando, mismo, sensacion, mostraron, tips, basicos, exploro, fondo, herramientas, osint]  instructor            0.9295\n",
       "5655   64325410   448168     3.0                                                                                                                                                                                                                                                                                                                                                                                                              muy bien pero utiliza terminos que aun desconosco ejemplo back ???'     Mary Mar Puerta Carrillo  neg                                                                                                                                                                                                                                                                 [bien, utiliza, terminos, desconosco, ejemplo, back]  instructor            0.9166\n",
       "4285   12610948  1068258     3.5                                                                                                                                                                                                                                                                                                                                                                               Promociona mucho su sitio y cursos fuera de udemy que me hace dudar si adquiri un curso incompleto        Rodolfo Ponce de Leon  neg                                                                                                                                                                                                                                           [promociona, sitio, cursos, udemy, hace, dudar, adquiri, curso, incomplet]  instructor            0.9084\n",
       "4476    4440868   565188     0.5                                                                                                                                                                                                                                                                                                                                                     Mala explicación, no preparo lo que tenia que mostrar antes, parece un tutorial traducido por alguien que sabe poco del tema                 DanielCanedo  neg                                                                                                                                                                                                                        [mala, explicacion, preparo, tenia, mostrar, parece, tutorial, traducido, alguien, sabe, tem]  instructor            0.9083\n",
       "11544  23014696  1192848     1.0                                                                                                                                                                                                                                                                                                                                                                                                                                                            solo es puro concepto  Alejandro Martinez Olivares  neg                                                                                                                                                                                                                                                                                                [solo, puro, concept]  instructor            0.8854\n",
       "1670   60175150  2577308     3.0                                                                                                                                                                                                                                                                                                                                                                                                                         corto,  considere que se   incluía técnicas de grabación                   Fidel Isla  neg                                                                                                                                                                                                                                                                     [corto, considere, incluia, tecnicas, grabacion]  instructor            0.8854\n",
       "11544   9614538   779476     3.0                                                                                                                                                                                                                                                                                                                                                                                                                                                         Muy corto, ra muy basico             Emmanuel Carreño  neg                                                                                                                                                                                                                                                                                                         [corto, bas]  instructor            0.8854\n",
       "5064   27655626  1814494     2.5  El contenido no está mal pero lo veo todo un poco desordenado a la hora de explicarlo y se hace bastante monótona su voz. También me habría gustado ir creando un proyecto según va explicando las distintas partes, pero cada video es una cosa inconexa de las anteriores con lo cual no terminas el curso con algo tangible sino con mil videos con una escalera por aquí, una cubierta por allá...\\nEn definitiva el contenido lo veo bien pero no me gusta el curso en sí.         María Valera Garrote  neg  [contenido, desordenado, hora, explicarlo, hace, bastante, monotona, tambien, habria, gustado, creando, proyecto, segun, explicando, distintas, partes, cada, video, cosa, inconexa, anteriores, terminas, curso, tangible, sino, videos, escalera, aqui, cubierta, alla, definitiva, contenido, bien, gusta, curs]  instructor            0.8854\n",
       "3727   68909184  1652964     2.5                                                                                                                                                                                                                                       Faltan recursos.\\nEl hecho de que se invoquen todos los nodos mediante \"In-Canvas Search\" hace difícil de seguir el curso y muy difícil que tú por tu cuenta puedas progresar.\\nNo hay feedback con el profesor.\\nComo introducción sirve.                 Jaume Molins  neg                                                                                                                                       [faltan, recursos, hecho, invoquen, nodos, mediante, canvas, search, hace, dificil, seguir, curso, dificil, cuenta, puedas, progresar, feedback, profesor, introduccion, sirv]  instructor            0.8693"
      ]
     },
     "execution_count": 53,
     "metadata": {},
     "output_type": "execute_result"
    }
   ],
   "source": [
    "df_news[ df_news['labels'] == 'instructor'].sort_values(by='label_confidence',ascending=False).head(10)"
   ]
  },
  {
   "cell_type": "code",
   "execution_count": 54,
   "metadata": {},
   "outputs": [
    {
     "data": {
      "text/html": [
       "<div>\n",
       "<style scoped>\n",
       "    .dataframe tbody tr th:only-of-type {\n",
       "        vertical-align: middle;\n",
       "    }\n",
       "\n",
       "    .dataframe tbody tr th {\n",
       "        vertical-align: top;\n",
       "    }\n",
       "\n",
       "    .dataframe thead th {\n",
       "        text-align: right;\n",
       "    }\n",
       "</style>\n",
       "<table border=\"1\" class=\"dataframe\">\n",
       "  <thead>\n",
       "    <tr style=\"text-align: right;\">\n",
       "      <th></th>\n",
       "      <th>id</th>\n",
       "      <th>course</th>\n",
       "      <th>rating</th>\n",
       "      <th>comment</th>\n",
       "      <th>user</th>\n",
       "      <th>tag</th>\n",
       "      <th>comment_cleaned</th>\n",
       "      <th>labels</th>\n",
       "      <th>label_confidence</th>\n",
       "    </tr>\n",
       "  </thead>\n",
       "  <tbody>\n",
       "    <tr>\n",
       "      <th>1680</th>\n",
       "      <td>57006440</td>\n",
       "      <td>2577308</td>\n",
       "      <td>3.5</td>\n",
       "      <td>Si definitivamente ha sido una buena opción aunque hay algunas fallas técnicas como:\\nEn varias ocasiones no coincide el texto con la voz  y como que da la impresión de que no se revisó el trabajo final. Otro error es que encima el texto enmarcado en negro con el texto del documento y si pierde el texto del documento.\\nPero, en cuanto al conocimiento y la experiencia del titular del curso todo está bien.\\nGracias.</td>\n",
       "      <td>Javier Ocampo Blas</td>\n",
       "      <td>neg</td>\n",
       "      <td>[definitivamente, sido, opcion, aunque, fallas, tecnicas, varias, ocasiones, coincide, texto, impresion, reviso, trabajo, final, error, encima, texto, enmarcado, negro, texto, documento, pierde, texto, documento, cuanto, conocimiento, experiencia, titular, curso, bien, graci]</td>\n",
       "      <td>contenido</td>\n",
       "      <td>0.9647</td>\n",
       "    </tr>\n",
       "    <tr>\n",
       "      <th>640</th>\n",
       "      <td>69382260</td>\n",
       "      <td>2518830</td>\n",
       "      <td>2.5</td>\n",
       "      <td>No se puede hacer un curso improvisando. Se necesita un guión que se crea teniendo claro lo que se quiere enseñar y practicando antes los ejemplos de lo que se quiere enseñar. Aunque hay lugar para los comentarios espontáneos o las improvisaciones fuera de guión, el ensayo-error produce una imagen pésima en alguien que pretende enseñar. Editar los vídeos eliminando lo superfluo o los errores, o doblando de nuevo la explicación, tampoco está de más.</td>\n",
       "      <td>Julio Gonzalez</td>\n",
       "      <td>neg</td>\n",
       "      <td>[puede, hacer, curso, improvisando, necesita, guion, crea, claro, quiere, ense, practicando, ejemplos, quiere, ense, aunque, lugar, comentarios, espontaneos, improvisaciones, guion, ensayo, error, produce, imagen, pesima, alguien, pretende, ense, editar, videos, eliminando, superfluo, errores, doblando, nuevo, explicacion, tampoc]</td>\n",
       "      <td>ejercicios</td>\n",
       "      <td>0.9618</td>\n",
       "    </tr>\n",
       "    <tr>\n",
       "      <th>12651</th>\n",
       "      <td>39746034</td>\n",
       "      <td>1212882</td>\n",
       "      <td>3.5</td>\n",
       "      <td>Buen curso, le doy 3,5 estrellas porque debería tener ejercicios propuestos para uno practicar. Me parece que estructuralmente debería empezar explicando algunos conceptos antes de usarlos, por ejemplo las celdas.</td>\n",
       "      <td>Jesus David Santos</td>\n",
       "      <td>neg</td>\n",
       "      <td>[curso, estrellas, deberia, tener, ejercicios, propuestos, practicar, parece, estructuralmente, deberia, empezar, explicando, conceptos, usarlos, ejemplo, celd]</td>\n",
       "      <td>instructor</td>\n",
       "      <td>0.9389</td>\n",
       "    </tr>\n",
       "    <tr>\n",
       "      <th>2998</th>\n",
       "      <td>52602864</td>\n",
       "      <td>1890392</td>\n",
       "      <td>2.5</td>\n",
       "      <td>Mis expectativas era poder ver un caso donde a traves de la herramienta se fuera desarrollando una investigación a un objetivo e ir documentando el mismo. La sensacion fue que se mostraron tips basicos y no se exploró mas a fondo las herramientas como osint.</td>\n",
       "      <td>Ronald Tellez V</td>\n",
       "      <td>neg</td>\n",
       "      <td>[expectativas, poder, caso, traves, herramienta, desarrollando, investigacion, objetivo, documentando, mismo, sensacion, mostraron, tips, basicos, exploro, fondo, herramientas, osint]</td>\n",
       "      <td>instructor</td>\n",
       "      <td>0.9295</td>\n",
       "    </tr>\n",
       "    <tr>\n",
       "      <th>8334</th>\n",
       "      <td>65716920</td>\n",
       "      <td>2819881</td>\n",
       "      <td>2.5</td>\n",
       "      <td>Fue aburrido. La lección de instalación es innecesaria. Pues hay muchos programas que hacen lo mismo. Y no se los menciona.\\nTampoco habla de como se \"instala\" git en otros Sistemas Operativos.</td>\n",
       "      <td>Ana Karen Yurquina</td>\n",
       "      <td>neg</td>\n",
       "      <td>[aburrido, leccion, instalacion, innecesaria, pues, programas, hacen, mismo, menciona, tampoco, habla, instala, sistemas, oper]</td>\n",
       "      <td>lenguaje</td>\n",
       "      <td>0.9295</td>\n",
       "    </tr>\n",
       "    <tr>\n",
       "      <th>5655</th>\n",
       "      <td>64325410</td>\n",
       "      <td>448168</td>\n",
       "      <td>3.0</td>\n",
       "      <td>muy bien pero utiliza terminos que aun desconosco ejemplo back ???'</td>\n",
       "      <td>Mary Mar Puerta Carrillo</td>\n",
       "      <td>neg</td>\n",
       "      <td>[bien, utiliza, terminos, desconosco, ejemplo, back]</td>\n",
       "      <td>instructor</td>\n",
       "      <td>0.9166</td>\n",
       "    </tr>\n",
       "    <tr>\n",
       "      <th>230</th>\n",
       "      <td>91970850</td>\n",
       "      <td>2297910</td>\n",
       "      <td>3.0</td>\n",
       "      <td>Falta librerías (por ejemplo socket que se usa mucho para scripts); explicar qué significa cada objeto en inglés para que no se aprenda de memoria y se entienda qué significa (no sólo para qué sirve), por ejemplo len(gth).\\nComo primera parte o introducción al lenguaje está bien, lejos de experto.</td>\n",
       "      <td>Christian Martins Farías</td>\n",
       "      <td>neg</td>\n",
       "      <td>[falta, librerias, ejemplo, socket, scripts, explicar, significa, cada, objeto, ingles, aprenda, memoria, entienda, significa, solo, sirve, ejemplo, primera, parte, introduccion, lenguaje, bien, lejos, expert]</td>\n",
       "      <td>temas</td>\n",
       "      <td>0.9165</td>\n",
       "    </tr>\n",
       "    <tr>\n",
       "      <th>18555</th>\n",
       "      <td>73218940</td>\n",
       "      <td>2930134</td>\n",
       "      <td>1.0</td>\n",
       "      <td>La explicación me parece deficiente. De igual forma los temas me parecen desactualizados. No incluye formatos.</td>\n",
       "      <td>Alan Miguel</td>\n",
       "      <td>neg</td>\n",
       "      <td>[explicacion, parece, deficiente, igual, forma, temas, parecen, desactualizados, incluye, format]</td>\n",
       "      <td>ejercicios</td>\n",
       "      <td>0.9164</td>\n",
       "    </tr>\n",
       "    <tr>\n",
       "      <th>42</th>\n",
       "      <td>83016640</td>\n",
       "      <td>3514970</td>\n",
       "      <td>3.5</td>\n",
       "      <td>interesante... muchas gracias</td>\n",
       "      <td>Jesús Hernán Marín Peña</td>\n",
       "      <td>neg</td>\n",
       "      <td>[interes]</td>\n",
       "      <td>video</td>\n",
       "      <td>0.9152</td>\n",
       "    </tr>\n",
       "    <tr>\n",
       "      <th>21399</th>\n",
       "      <td>77664386</td>\n",
       "      <td>3144128</td>\n",
       "      <td>3.0</td>\n",
       "      <td>algo practico falta un poco mas de profundidad en los temas</td>\n",
       "      <td>Arisai Tolentino</td>\n",
       "      <td>neg</td>\n",
       "      <td>[practico, falta, profundidad, tem]</td>\n",
       "      <td>contenido</td>\n",
       "      <td>0.9086</td>\n",
       "    </tr>\n",
       "  </tbody>\n",
       "</table>\n",
       "</div>"
      ],
      "text/plain": [
       "             id   course  rating                                                                                                                                                                                                                                                                                                                                                                                                                                                               comment                      user  tag                                                                                                                                                                                                                                                                                                                               comment_cleaned      labels  label_confidence\n",
       "1680   57006440  2577308     3.5                                     Si definitivamente ha sido una buena opción aunque hay algunas fallas técnicas como:\\nEn varias ocasiones no coincide el texto con la voz  y como que da la impresión de que no se revisó el trabajo final. Otro error es que encima el texto enmarcado en negro con el texto del documento y si pierde el texto del documento.\\nPero, en cuanto al conocimiento y la experiencia del titular del curso todo está bien.\\nGracias.        Javier Ocampo Blas  neg                                                          [definitivamente, sido, opcion, aunque, fallas, tecnicas, varias, ocasiones, coincide, texto, impresion, reviso, trabajo, final, error, encima, texto, enmarcado, negro, texto, documento, pierde, texto, documento, cuanto, conocimiento, experiencia, titular, curso, bien, graci]   contenido            0.9647\n",
       "640    69382260  2518830     2.5  No se puede hacer un curso improvisando. Se necesita un guión que se crea teniendo claro lo que se quiere enseñar y practicando antes los ejemplos de lo que se quiere enseñar. Aunque hay lugar para los comentarios espontáneos o las improvisaciones fuera de guión, el ensayo-error produce una imagen pésima en alguien que pretende enseñar. Editar los vídeos eliminando lo superfluo o los errores, o doblando de nuevo la explicación, tampoco está de más.            Julio Gonzalez  neg  [puede, hacer, curso, improvisando, necesita, guion, crea, claro, quiere, ense, practicando, ejemplos, quiere, ense, aunque, lugar, comentarios, espontaneos, improvisaciones, guion, ensayo, error, produce, imagen, pesima, alguien, pretende, ense, editar, videos, eliminando, superfluo, errores, doblando, nuevo, explicacion, tampoc]  ejercicios            0.9618\n",
       "12651  39746034  1212882     3.5                                                                                                                                                                                                                                                 Buen curso, le doy 3,5 estrellas porque debería tener ejercicios propuestos para uno practicar. Me parece que estructuralmente debería empezar explicando algunos conceptos antes de usarlos, por ejemplo las celdas.        Jesus David Santos  neg                                                                                                                                                                              [curso, estrellas, deberia, tener, ejercicios, propuestos, practicar, parece, estructuralmente, deberia, empezar, explicando, conceptos, usarlos, ejemplo, celd]  instructor            0.9389\n",
       "2998   52602864  1890392     2.5                                                                                                                                                                                                    Mis expectativas era poder ver un caso donde a traves de la herramienta se fuera desarrollando una investigación a un objetivo e ir documentando el mismo. La sensacion fue que se mostraron tips basicos y no se exploró mas a fondo las herramientas como osint.           Ronald Tellez V  neg                                                                                                                                                       [expectativas, poder, caso, traves, herramienta, desarrollando, investigacion, objetivo, documentando, mismo, sensacion, mostraron, tips, basicos, exploro, fondo, herramientas, osint]  instructor            0.9295\n",
       "8334   65716920  2819881     2.5                                                                                                                                                                                                                                                                     Fue aburrido. La lección de instalación es innecesaria. Pues hay muchos programas que hacen lo mismo. Y no se los menciona.\\nTampoco habla de como se \"instala\" git en otros Sistemas Operativos.        Ana Karen Yurquina  neg                                                                                                                                                                                                               [aburrido, leccion, instalacion, innecesaria, pues, programas, hacen, mismo, menciona, tampoco, habla, instala, sistemas, oper]    lenguaje            0.9295\n",
       "5655   64325410   448168     3.0                                                                                                                                                                                                                                                                                                                                                                                                   muy bien pero utiliza terminos que aun desconosco ejemplo back ???'  Mary Mar Puerta Carrillo  neg                                                                                                                                                                                                                                                                                          [bien, utiliza, terminos, desconosco, ejemplo, back]  instructor            0.9166\n",
       "230    91970850  2297910     3.0                                                                                                                                                            Falta librerías (por ejemplo socket que se usa mucho para scripts); explicar qué significa cada objeto en inglés para que no se aprenda de memoria y se entienda qué significa (no sólo para qué sirve), por ejemplo len(gth).\\nComo primera parte o introducción al lenguaje está bien, lejos de experto.  Christian Martins Farías  neg                                                                                                                             [falta, librerias, ejemplo, socket, scripts, explicar, significa, cada, objeto, ingles, aprenda, memoria, entienda, significa, solo, sirve, ejemplo, primera, parte, introduccion, lenguaje, bien, lejos, expert]       temas            0.9165\n",
       "18555  73218940  2930134     1.0                                                                                                                                                                                                                                                                                                                                                        La explicación me parece deficiente. De igual forma los temas me parecen desactualizados. No incluye formatos.               Alan Miguel  neg                                                                                                                                                                                                                                             [explicacion, parece, deficiente, igual, forma, temas, parecen, desactualizados, incluye, format]  ejercicios            0.9164\n",
       "42     83016640  3514970     3.5                                                                                                                                                                                                                                                                                                                                                                                                                                         interesante... muchas gracias   Jesús Hernán Marín Peña  neg                                                                                                                                                                                                                                                                                                                                     [interes]       video            0.9152\n",
       "21399  77664386  3144128     3.0                                                                                                                                                                                                                                                                                                                                                                                                           algo practico falta un poco mas de profundidad en los temas          Arisai Tolentino  neg                                                                                                                                                                                                                                                                                                           [practico, falta, profundidad, tem]   contenido            0.9086"
      ]
     },
     "execution_count": 54,
     "metadata": {},
     "output_type": "execute_result"
    }
   ],
   "source": [
    "df_news.sort_values(by='label_confidence',ascending=False).head(10)"
   ]
  },
  {
   "cell_type": "markdown",
   "metadata": {
    "colab_type": "text",
    "id": "dCc6-oIo6BMw"
   },
   "source": [
    "### let's see the distribution of topics\n"
   ]
  },
  {
   "cell_type": "code",
   "execution_count": 55,
   "metadata": {
    "colab": {
     "base_uri": "https://localhost:8080/",
     "height": 337
    },
    "colab_type": "code",
    "id": "VOitT-s10yv5",
    "outputId": "16a4b62a-dd36-4607-a55b-ad77f80acf65"
   },
   "outputs": [
    {
     "data": {
      "image/png": "[encoded data removed]",
      "text/plain": [
       "<Figure size 432x288 with 1 Axes>"
      ]
     },
     "metadata": {
      "needs_background": "light"
     },
     "output_type": "display_data"
    }
   ],
   "source": [
    "ax = df_dominant_topic['Dominant_Topic'].value_counts().plot(kind='bar')\n",
    "plt.show()"
   ]
  },
  {
   "cell_type": "markdown",
   "metadata": {
    "colab_type": "text",
    "id": "Jh0l7ngJ6J12"
   },
   "source": [
    "The topis are almost balanced, so we are good"
   ]
  },
  {
   "cell_type": "markdown",
   "metadata": {
    "colab_type": "text",
    "id": "AcWRIAWTWhl7"
   },
   "source": [
    "finally that we have our models set up, as well as analyzed, we can go\n",
    "ahead to visualizing them."
   ]
  },
  {
   "cell_type": "code",
   "execution_count": 56,
   "metadata": {
    "colab": {
     "base_uri": "https://localhost:8080/",
     "height": 521
    },
    "colab_type": "code",
    "id": "Jv3PFRwBs-gT",
    "outputId": "6749bc00-2549-4857-d0bd-df8540c8accd"
   },
   "outputs": [
    {
     "name": "stdout",
     "output_type": "stream",
     "text": [
      "Requirement already satisfied: pyLDAvis in c:\\users\\faolin\\anaconda3\\lib\\site-packages (2.1.2)\n",
      "Requirement already satisfied: wheel>=0.23.0 in c:\\users\\faolin\\anaconda3\\lib\\site-packages (from pyLDAvis) (0.37.0)\n",
      "Requirement already satisfied: pandas>=0.17.0 in c:\\users\\faolin\\anaconda3\\lib\\site-packages (from pyLDAvis) (1.3.3)\n",
      "Requirement already satisfied: joblib>=0.8.4 in c:\\users\\faolin\\anaconda3\\lib\\site-packages (from pyLDAvis) (1.0.1)\n",
      "Requirement already satisfied: numpy>=1.9.2 in c:\\users\\faolin\\anaconda3\\lib\\site-packages (from pyLDAvis) (1.21.2)\n",
      "Requirement already satisfied: future in c:\\users\\faolin\\anaconda3\\lib\\site-packages (from pyLDAvis) (0.18.2)\n",
      "Requirement already satisfied: scipy>=0.18.0 in c:\\users\\faolin\\anaconda3\\lib\\site-packages (from pyLDAvis) (1.7.1)\n",
      "Requirement already satisfied: jinja2>=2.7.2 in c:\\users\\faolin\\anaconda3\\lib\\site-packages (from pyLDAvis) (2.11.3)\n",
      "Requirement already satisfied: numexpr in c:\\users\\faolin\\anaconda3\\lib\\site-packages (from pyLDAvis) (2.7.3)\n",
      "Requirement already satisfied: pytest in c:\\users\\faolin\\anaconda3\\lib\\site-packages (from pyLDAvis) (6.2.4)\n",
      "Requirement already satisfied: funcy in c:\\users\\faolin\\anaconda3\\lib\\site-packages (from pyLDAvis) (1.16)\n",
      "Requirement already satisfied: MarkupSafe>=0.23 in c:\\users\\faolin\\anaconda3\\lib\\site-packages (from jinja2>=2.7.2->pyLDAvis) (2.0.1)\n",
      "Requirement already satisfied: python-dateutil>=2.7.3 in c:\\users\\faolin\\anaconda3\\lib\\site-packages (from pandas>=0.17.0->pyLDAvis) (2.8.2)\n",
      "Requirement already satisfied: pytz>=2017.3 in c:\\users\\faolin\\anaconda3\\lib\\site-packages (from pandas>=0.17.0->pyLDAvis) (2021.3)\n",
      "Requirement already satisfied: six>=1.5 in c:\\users\\faolin\\anaconda3\\lib\\site-packages (from python-dateutil>=2.7.3->pandas>=0.17.0->pyLDAvis) (1.16.0)\n",
      "Requirement already satisfied: attrs>=19.2.0 in c:\\users\\faolin\\anaconda3\\lib\\site-packages (from pytest->pyLDAvis) (21.2.0)\n",
      "Requirement already satisfied: iniconfig in c:\\users\\faolin\\anaconda3\\lib\\site-packages (from pytest->pyLDAvis) (1.1.1)\n",
      "Requirement already satisfied: packaging in c:\\users\\faolin\\anaconda3\\lib\\site-packages (from pytest->pyLDAvis) (21.0)\n",
      "Requirement already satisfied: pluggy<1.0.0a1,>=0.12 in c:\\users\\faolin\\anaconda3\\lib\\site-packages (from pytest->pyLDAvis) (0.13.1)\n",
      "Requirement already satisfied: py>=1.8.2 in c:\\users\\faolin\\anaconda3\\lib\\site-packages (from pytest->pyLDAvis) (1.10.0)\n",
      "Requirement already satisfied: toml in c:\\users\\faolin\\anaconda3\\lib\\site-packages (from pytest->pyLDAvis) (0.10.2)\n",
      "Requirement already satisfied: atomicwrites>=1.0 in c:\\users\\faolin\\anaconda3\\lib\\site-packages (from pytest->pyLDAvis) (1.4.0)\n",
      "Requirement already satisfied: colorama in c:\\users\\faolin\\anaconda3\\lib\\site-packages (from pytest->pyLDAvis) (0.4.4)\n",
      "Requirement already satisfied: pyparsing>=2.0.2 in c:\\users\\faolin\\anaconda3\\lib\\site-packages (from packaging->pytest->pyLDAvis) (2.4.7)\n"
     ]
    }
   ],
   "source": [
    "!pip install pyLDAvis"
   ]
  },
  {
   "cell_type": "code",
   "execution_count": 57,
   "metadata": {
    "colab": {},
    "colab_type": "code",
    "id": "jXpx66NTd1uT"
   },
   "outputs": [],
   "source": [
    "import pyLDAvis\n",
    "\n",
    "pyLDAvis.enable_notebook()"
   ]
  },
  {
   "cell_type": "code",
   "execution_count": 58,
   "metadata": {
    "colab": {
     "base_uri": "https://localhost:8080/",
     "height": 991
    },
    "colab_type": "code",
    "id": "diu2MLik41sf",
    "outputId": "078af8ba-2310-4875-c8de-e24a06ee6340"
   },
   "outputs": [
    {
     "data": {
      "text/html": [
       "\n",
       "<link rel=\"stylesheet\" type=\"text/css\" href=\"https://cdn.rawgit.com/bmabey/pyLDAvis/files/ldavis.v1.0.0.css\">\n",
       "\n",
       "\n",
       "<div id=\"ldavis_el1661622170364081927937388006\"></div>\n",
       "<script type=\"text/javascript\">\n",
       "\n",
       "var ldavis_el1661622170364081927937388006_data = {\"mdsDat\": {\"x\": [-0.021297068109454025, 0.08397120491106311, -0.030776725751969995, 0.005388287184140088, -0.007860769390599997, 0.18394360228342457, 0.03300527216505682, 0.032962421739005134, 0.1210968035907253, -0.10667525281753738, -0.11330394789375547, -0.180453827910098], \"y\": [-0.03463013416075498, 0.009110804587483038, -0.0046418637407213345, -0.03992216997406733, -0.06958165034215585, 0.17673587174117644, -0.011587204652726666, -0.10412313243491125, -0.07257022866745741, -0.08352589775803095, 0.17222207143520912, 0.06251353396695704], \"topics\": [1, 2, 3, 4, 5, 6, 7, 8, 9, 10, 11, 12], \"cluster\": [1, 1, 1, 1, 1, 1, 1, 1, 1, 1, 1, 1], \"Freq\": [10.642356945451523, 10.522099889247924, 9.918329938787124, 9.352767075133537, 8.945814310006819, 7.594612392160539, 7.566441707688668, 7.564453696067341, 7.489981962223691, 7.168203835195362, 7.013817420962132, 6.221120827075341]}, \"tinfo\": {\"Term\": [\"eleccion\", \"bi\", \"curs\", \"explic\", \"bas\", \"bien\", \"demasiado\", \"gratis\", \"interes\", \"informacion\", \"paso\", \"explicacion\", \"gratuito\", \"mejor\", \"general\", \"basico\", \"audio\", \"pract\", \"falta\", \"buena\", \"explicado\", \"c\", \"excelente\", \"cl\", \"facil\", \"explica\", \"aprend\", \"explicar\", \"conten\", \"vide\", \"habl\", \"import\", \"frases\", \"confunde\", \"didact\", \"locutor\", \"soluciones\", \"tanta\", \"entra\", \"encanto\", \"ejercici\", \"pensar\", \"l\", \"github\", \"publ\", \"largos\", \"sencillos\", \"titulos\", \"cr\", \"suficientes\", \"redund\", \"negoci\", \"cliente\", \"espect\", \"eleccion\", \"fluido\", \"tienda\", \"expresarse\", \"cuidar\", \"comete\", \"youtub\", \"cortos\", \"recordar\", \"conten\", \"corta\", \"concept\", \"traba\", \"hablando\", \"entendible\", \"producto\", \"atencion\", \"musica\", \"orden\", \"fondo\", \"necesita\", \"faltan\", \"falta\", \"videos\", \"tem\", \"profundidad\", \"tema\", \"hablar\", \"considero\", \"hace\", \"gustaria\", \"ejemplos\", \"mejor\", \"habla\", \"solo\", \"podria\", \"informacion\", \"cosas\", \"aunque\", \"creo\", \"video\", \"instructor\", \"temas\", \"explicar\", \"bien\", \"hacer\", \"general\", \"veces\", \"explicacion\", \"entiend\", \"extremadamente\", \"ameno\", \"teor\", \"concret\", \"utiliz\", \"vueltas\", \"accion\", \"hablo\", \"funcional\", \"supongo\", \"mejoraria\", \"repetit\", \"sumamente\", \"comprend\", \"alguno\", \"interaccion\", \"plataform\", \"enfocarse\", \"dec\", \"interactivo\", \"interes\", \"macros\", \"introducirse\", \"llamarse\", \"rato\", \"aplic\", \"desactualiz\", \"aburre\", \"diga\", \"complejo\", \"obstante\", \"intencion\", \"calificacion\", \"tutorial\", \"encontrar\", \"complet\", \"crei\", \"lenta\", \"nuevas\", \"primer\", \"aprendi\", \"certificacion\", \"hac\", \"espero\", \"vamos\", \"escuchar\", \"aprendiendo\", \"cosas\", \"puedo\", \"quiero\", \"poder\", \"mejor\", \"aprender\", \"puedes\", \"persona\", \"youtube\", \"sabe\", \"cursos\", \"video\", \"contenido\", \"ahora\", \"profesor\", \"udemy\", \"podria\", \"puede\", \"forma\", \"creo\", \"basico\", \"videos\", \"aunque\", \"curs\", \"parece\", \"hacer\", \"javascript\", \"paginas\", \"entendido\", \"orientado\", \"inversion\", \"regul\", \"actividad\", \"amplio\", \"significa\", \"lenguaj\", \"etiquetas\", \"adir\", \"confus\", \"enfoca\", \"extiende\", \"detallada\", \"especificar\", \"lenguajes\", \"normalmente\", \"faltado\", \"tama\", \"horrible\", \"pierdes\", \"aburr\", \"backend\", \"arch\", \"normal\", \"hacerse\", \"aprecia\", \"palabr\", \"bas\", \"facil\", \"piensa\", \"java\", \"html\", \"perfecto\", \"bastantes\", \"sencillas\", \"iniciacion\", \"cuesta\", \"explicado\", \"super\", \"empezar\", \"mundo\", \"codigo\", \"usuarios\", \"rapido\", \"bien\", \"programacion\", \"explica\", \"introduccion\", \"entend\", \"entender\", \"demasiado\", \"personas\", \"parece\", \"bastante\", \"ense\", \"momento\", \"profesor\", \"completo\", \"conocimiento\", \"explicaciones\", \"cosas\", \"manera\", \"solo\", \"basico\", \"forma\", \"explicar\", \"deberia\", \"creo\", \"gratuit\", \"tono\", \"queremos\", \"informativo\", \"mais\", \"brinda\", \"explicito\", \"mysql\", \"apartado\", \"aprendes\", \"conozco\", \"parametros\", \"comprensible\", \"sugerencia\", \"teclado\", \"men\", \"previa\", \"abordar\", \"code\", \"necesitan\", \"fluidez\", \"dicta\", \"refiere\", \"considerando\", \"daria\", \"fluida\", \"interlocutor\", \"invertir\", \"conveniente\", \"grafica\", \"conoc\", \"rap\", \"studio\", \"viejo\", \"promocion\", \"gust\", \"modelos\", \"consultas\", \"dicho\", \"encuentro\", \"termine\", \"comenta\", \"aburrido\", \"tipos\", \"nueva\", \"especifico\", \"trata\", \"expl\", \"adquirir\", \"alumno\", \"pesar\", \"gusto\", \"base\", \"cursos\", \"datos\", \"bastante\", \"basico\", \"conceptos\", \"habla\", \"instructor\", \"tema\", \"embargo\", \"programacion\", \"creo\", \"terminos\", \"demasiado\", \"mejor\", \"solo\", \"bien\", \"forma\", \"contenido\", \"estan\", \"explica\", \"dice\", \"aprender\", \"persona\", \"falta\", \"temas\", \"juego\", \"practic\", \"ens\", \"moment\", \"ahor\", \"extenso\", \"principi\", \"herramient\", \"objet\", \"ubuntu\", \"certific\", \"historia\", \"adecuadamente\", \"referencias\", \"justo\", \"quiz\", \"programador\", \"graficas\", \"escaso\", \"aclaro\", \"serie\", \"evaluacion\", \"evitar\", \"escueto\", \"transmite\", \"preferiria\", \"ambito\", \"imparte\", \"conectar\", \"interesado\", \"opcion\", \"vista\", \"guia\", \"correo\", \"guion\", \"volumen\", \"demasiada\", \"aporta\", \"siguiendo\", \"logra\", \"graci\", \"sintaxis\", \"claro\", \"modo\", \"documentacion\", \"cada\", \"encima\", \"presentacion\", \"bases\", \"clase\", \"punto\", \"mismo\", \"solo\", \"acceso\", \"malo\", \"explica\", \"manera\", \"introduccion\", \"instructor\", \"basico\", \"temas\", \"bien\", \"ejemplo\", \"hace\", \"ejercicios\", \"creo\", \"videos\", \"tener\", \"podria\", \"linux\", \"intro\", \"aparecen\", \"animo\", \"more\", \"have\", \"quisiera\", \"b\", \"diferencias\", \"traves\", \"esfuerzo\", \"agradecido\", \"acabo\", \"tabla\", \"oportunidad\", \"agrada\", \"utiles\", \"previ\", \"propio\", \"orador\", \"planeacion\", \"c\", \"enlace\", \"significado\", \"desarrollando\", \"basado\", \"tedi\", \"controladores\", \"would\", \"animaciones\", \"area\", \"profundiz\", \"comprar\", \"inici\", \"sale\", \"sirvio\", \"instalacion\", \"ganas\", \"nuevos\", \"windows\", \"hilo\", \"ayudo\", \"diferencia\", \"ayud\", \"entendi\", \"cambiado\", \"principiantes\", \"nombre\", \"conocimientos\", \"comentarios\", \"tiemp\", \"herramientas\", \"herramienta\", \"tiempo\", \"error\", \"explicar\", \"debe\", \"puede\", \"bueno\", \"cosas\", \"curs\", \"video\", \"realmente\", \"bien\", \"hacer\", \"conocimiento\", \"profesor\", \"creo\", \"caso\", \"tener\", \"interesante\", \"basic\", \"bootstrap\", \"esper\", \"movil\", \"lent\", \"molesta\", \"part\", \"buscaba\", \"pagin\", \"cuestion\", \"recomendado\", \"aporte\", \"mejorando\", \"deberias\", \"mini\", \"confund\", \"hola\", \"mostrando\", \"servicio\", \"empez\", \"videojuegos\", \"comparacion\", \"veremos\", \"concreta\", \"metodo\", \"usas\", \"acaba\", \"punt\", \"presentador\", \"propiedades\", \"profund\", \"aburrida\", \"aprend\", \"apache\", \"repasar\", \"quizas\", \"actualiz\", \"promete\", \"vide\", \"supone\", \"detallado\", \"proceso\", \"menos\", \"simple\", \"avanz\", \"corto\", \"hora\", \"comando\", \"esperaba\", \"cero\", \"comenzar\", \"basico\", \"funciona\", \"cosas\", \"apenas\", \"ense\", \"luego\", \"hacer\", \"falta\", \"bien\", \"creo\", \"tema\", \"temas\", \"videos\", \"final\", \"hace\", \"puede\", \"good\", \"this\", \"maneras\", \"very\", \"dinamica\", \"that\", \"some\", \"podia\", \"clave\", \"course\", \"detalladamente\", \"inicia\", \"plan\", \"dic\", \"trucos\", \"comienza\", \"xampp\", \"prepar\", \"estrategia\", \"continu\", \"habilidades\", \"microfono\", \"comercial\", \"think\", \"abarcar\", \"operaciones\", \"negocio\", \"enreda\", \"product\", \"could\", \"debido\", \"baj\", \"paso\", \"cal\", \"especif\", \"teorica\", \"ortografia\", \"desordenado\", \"pas\", \"funcionamiento\", \"login\", \"audio\", \"elementos\", \"explico\", \"iniciar\", \"agregar\", \"explicar\", \"mejor\", \"comandos\", \"podria\", \"siento\", \"bien\", \"mejorar\", \"explica\", \"falto\", \"ejemplo\", \"pues\", \"creo\", \"conceptos\", \"deberia\", \"puede\", \"version\", \"malo\", \"todas\", \"general\", \"falta\", \"video\", \"embargo\", \"conocer\", \"solo\", \"cosas\", \"cl\", \"mensaje\", \"relacionados\", \"nocion\", \"servidor\", \"cambios\", \"trabaj\", \"nadie\", \"captar\", \"incomplet\", \"suena\", \"modul\", \"encontrado\", \"dicen\", \"enfoque\", \"acelerado\", \"ayudan\", \"audios\", \"diferent\", \"graf\", \"ide\", \"script\", \"cuestionarios\", \"breves\", \"info\", \"explicadas\", \"felicidades\", \"estructur\", \"ahorita\", \"lengua\", \"quieren\", \"celular\", \"pais\", \"facebook\", \"utilizado\", \"colocar\", \"ayudaria\", \"diccion\", \"concepto\", \"conexion\", \"leccion\", \"incluir\", \"digital\", \"descripcion\", \"pronunciacion\", \"parecio\", \"wordpress\", \"desarrollo\", \"configuracion\", \"actualizado\", \"pagina\", \"aplicacion\", \"casos\", \"solo\", \"vender\", \"plataforma\", \"ense\", \"hacen\", \"ejemplos\", \"temas\", \"estan\", \"preguntas\", \"falta\", \"bien\", \"deberia\", \"errores\", \"hacer\", \"salud\", \"ejemplo\", \"video\", \"contenido\", \"escuch\", \"cer\", \"m\", \"adecu\", \"clar\", \"dirigido\", \"revisar\", \"excelente\", \"codeigniter\", \"fallos\", \"entenderlo\", \"aquellos\", \"orientada\", \"fotos\", \"entienden\", \"explic\", \"grafico\", \"despacio\", \"cours\", \"plus\", \"tecn\", \"pantall\", \"improvisado\", \"diversos\", \"necesaria\", \"posibilidades\", \"brev\", \"realizando\", \"menu\", \"divertido\", \"deficiente\", \"dinam\", \"complej\", \"sonido\", \"comprension\", \"comenzando\", \"curs\", \"online\", \"recien\", \"expect\", \"subtitulos\", \"estudio\", \"espa\", \"interesante\", \"bien\", \"nuev\", \"incompleto\", \"basica\", \"explicacion\", \"falto\", \"contenido\", \"parece\", \"comprender\", \"falta\", \"parte\", \"mejorar\", \"momento\", \"calidad\", \"basico\", \"titulo\", \"siendo\", \"embargo\", \"ayuda\", \"poner\", \"informacion\", \"explica\", \"solo\", \"bastante\", \"agradece\", \"ramas\", \"about\", \"agrado\", \"sab\", \"buenos\", \"quiera\", \"experient\", \"segu\", \"busc\", \"canal\", \"fatal\", \"excesivamente\", \"exposicion\", \"demasiadas\", \"entendimiento\", \"dudo\", \"ordenador\", \"much\", \"improvis\", \"recibido\", \"motiva\", \"inter\", \"formador\", \"gustando\", \"cas\", \"ingresar\", \"confianza\", \"pag\", \"valores\", \"trading\", \"pract\", \"clara\", \"nociones\", \"audi\", \"distintos\", \"gratis\", \"gratuito\", \"entrar\", \"buena\", \"pasos\", \"salta\", \"pago\", \"util\", \"explican\", \"ejempl\", \"poca\", \"explicacion\", \"mucha\", \"basicos\", \"conceptos\", \"informacion\", \"lento\", \"ejemplos\", \"video\", \"youtube\", \"basicas\", \"basico\", \"bien\", \"explica\", \"introduccion\", \"solo\", \"videos\", \"falta\", \"tiempo\", \"muito\", \"us\", \"terminal\", \"jav\", \"aport\", \"acorde\", \"mail\", \"termin\", \"email\", \"ventas\", \"premium\", \"what\", \"fotografia\", \"parec\", \"abre\", \"principales\", \"relevante\", \"estou\", \"cuent\", \"haberse\", \"equipo\", \"alcance\", \"cort\", \"know\", \"exceso\", \"entusiasmo\", \"pesim\", \"escuchaba\", \"expositor\", \"larg\", \"acceder\", \"monotona\", \"bi\", \"sirv\", \"introductori\", \"dificulta\", \"link\", \"cantidad\", \"idioma\", \"pega\", \"consola\", \"bast\", \"letras\", \"adecuada\", \"general\", \"permite\", \"demasiado\", \"cumple\", \"informacion\", \"basico\", \"ahora\", \"contenido\", \"entiendo\", \"momento\", \"profundiza\", \"parecido\", \"gratis\", \"explica\", \"bien\", \"videos\", \"esperaba\", \"gusta\", \"nota\", \"parte\", \"conceptos\", \"entiende\", \"aunque\", \"introduccion\", \"parece\", \"introductorio\", \"solo\"], \"Freq\": [795.0, 576.0, 1033.0, 445.0, 546.0, 3198.0, 889.0, 419.0, 382.0, 1190.0, 309.0, 1162.0, 301.0, 1188.0, 570.0, 1688.0, 565.0, 242.0, 1360.0, 271.0, 481.0, 215.0, 198.0, 194.0, 254.0, 1465.0, 221.0, 962.0, 283.0, 274.0, 80.770248926592, 71.01575636791479, 59.60399959203861, 72.73690724098803, 73.70040582070622, 44.29845883540376, 39.573124194553394, 38.65196412971588, 38.098050152409385, 37.733757060329964, 48.22044553010997, 44.98049515658065, 34.371684480655766, 58.127855490889594, 29.69529011356893, 50.12781422522268, 26.88305793893752, 28.99065166624112, 25.76117455262995, 25.190167186410786, 24.77204277833463, 24.72043194958649, 22.3094994570018, 21.758772694070746, 755.8876971678658, 21.24293536573656, 20.178435615770688, 20.082095861360287, 19.422321819268337, 21.177044071425836, 57.74963785416127, 48.8312058179917, 34.97269942429443, 238.74888316179923, 40.88198546627093, 92.28486455025889, 40.88585696730623, 62.95370219776432, 78.1314742351785, 40.771447911800486, 87.84744466967533, 109.68563135651283, 77.00057801283087, 112.84494153232114, 84.28933773953587, 138.06273277416173, 527.3726562587655, 434.8998287258581, 153.93302128146283, 97.08234780470895, 287.28872523105736, 112.81717510852587, 122.72927404031029, 262.6490230334863, 131.76083840922428, 233.489152787296, 270.8342304322993, 166.87016324283022, 304.60768074497105, 210.1957960743133, 200.4238151693224, 199.69233569257491, 160.96690948627466, 171.46146036385116, 165.8368628312787, 150.52239879289817, 133.0412719331263, 131.86043196966494, 166.02159267427257, 122.36350674676903, 110.38364967484611, 104.15378451778246, 107.61034147058797, 65.69993593563828, 47.21791123880065, 56.14336094296183, 43.633372059230496, 57.26277682665217, 41.28131506652216, 48.862660201954746, 40.47697370903834, 40.22366541398886, 36.60561409231369, 36.53322050954134, 36.884004844241176, 36.29642195620229, 40.603870780430384, 33.670215162819915, 33.52921715554181, 31.72084421070281, 32.07714087390553, 29.845208598419507, 29.610653117799096, 28.396667199599943, 368.9354789268804, 41.80835088337354, 28.196774911558585, 27.730281625261675, 31.716541960903406, 34.81329228524873, 44.264569997874325, 29.94794269112286, 25.292567860689626, 36.882876496932305, 75.53381192831415, 37.18759383918902, 140.14672031569128, 177.197132549667, 92.40485180923608, 108.9876159801162, 56.49304871478403, 67.03176263264382, 70.0836174478687, 119.50981561563253, 167.38731283080352, 45.45235419315267, 85.46934361334787, 161.85683995832275, 75.00009684027023, 62.045702579634295, 81.5219806105891, 338.9158282885733, 102.20009609606146, 70.24064161943916, 156.0065793825465, 257.63826087292074, 165.85766437441998, 68.9927258208959, 115.31469751202445, 89.02029118973492, 122.10969127805264, 135.55434222796723, 189.52707625234714, 164.87596135000788, 116.57902769898445, 123.8031022054286, 75.89677197049379, 127.45971939377527, 122.12614653216666, 113.52589696587711, 133.20392894441707, 137.9007415919156, 117.50544397557854, 106.14361772327375, 106.96404654359586, 99.45045219365869, 95.81735548442646, 68.06506684043536, 58.587500337557145, 42.408041878263774, 39.9933840588547, 37.977848575654114, 38.83361760918938, 35.89573634861461, 34.78634009566213, 33.162188552471974, 36.262081783227565, 30.269671927573757, 29.847738870935213, 39.075588013315986, 45.465067903752974, 26.551227031470383, 30.540958783447373, 27.455104236059938, 24.97728090166695, 22.317994744481386, 24.067105549950497, 22.110290712014976, 29.123858559548736, 22.711505887429002, 95.10949464706964, 23.89521300033206, 22.810739690444453, 43.4815517468564, 19.615036725787597, 19.039168221991318, 18.890685604897918, 513.3023378701139, 237.51474859005, 22.562781445454412, 88.89997954918779, 142.5059558156285, 43.48857536862687, 40.114771589038924, 35.33976382641494, 44.539785987113376, 74.85681921066589, 324.16812791203927, 111.10248258249094, 146.28785727259051, 138.4582438733324, 202.00259786403828, 46.63972905406499, 223.29741441586233, 767.9254991502219, 180.94479537629803, 392.6646103405163, 232.04253829452543, 84.09398182103725, 172.1859752211782, 245.73920851921025, 137.71205361162382, 223.20732715746814, 204.06265480589605, 208.85340686631568, 185.65448260043937, 171.14060692061778, 104.34319894763567, 138.04581474852893, 148.00829791935791, 166.23309410340445, 114.29130958835788, 162.52015339840213, 158.79507436839003, 121.0428462668423, 126.04388753190956, 106.3545913072081, 107.47808830478142, 68.86996382763647, 97.99995907876786, 46.74449811229589, 42.86591213445483, 44.2106760936978, 44.39370993490453, 36.808117574754505, 42.01152550060584, 33.158798131637774, 34.72724679975305, 37.00637934722635, 45.71523041252656, 30.405420260166377, 31.89405446903615, 33.21782099588931, 26.168804348418227, 25.72127147156515, 26.385997107266697, 27.047110498472545, 32.494108820182554, 31.659319117226158, 24.267696214440516, 24.827521462781448, 24.210671183736885, 23.89667430843101, 23.702838039969823, 22.864900235665225, 22.411797641042238, 22.552469338978714, 23.79046423018899, 133.81914501128378, 130.55450740880863, 33.921683988992875, 24.74474657746042, 35.658467286635165, 103.41709079794357, 28.549664965739716, 45.97235360815515, 48.528414137559174, 70.70227989311478, 39.512550542316, 30.030957640824372, 132.06898631893898, 64.98571126736864, 37.970893023879455, 60.55217959827638, 71.40598548115094, 82.7256054268487, 44.46160802334159, 60.63107586129532, 74.67071187622822, 148.35857036743636, 90.90152329417096, 141.55670187395015, 101.57942296017332, 189.03794853035626, 274.6723592426757, 179.3997214426818, 139.39200281048423, 182.43676746179096, 183.61276897260578, 129.6568061292302, 117.74288922542861, 170.37747285214007, 72.63330911599625, 149.88057243258345, 164.99173335384432, 189.84805994396186, 213.4989058793578, 117.84739004607965, 141.1393604998346, 97.16804504531223, 115.1132963133797, 88.39093668513907, 92.65453142183863, 80.78790061469807, 92.2018183038568, 84.35442499235694, 81.46668372646234, 81.53288982370555, 65.74371231589944, 131.32297100249505, 133.9872124471492, 44.990038757897, 108.35987065562321, 88.43913928838937, 45.96292867095487, 38.42805327805021, 36.04459517315625, 35.76734025163979, 32.778704372149214, 35.88449609065652, 31.440945515418413, 30.358910122048165, 31.965724381313244, 28.319646514542246, 27.92817159872936, 26.87446585227569, 26.67543449626588, 25.395537452277345, 33.69756393319449, 24.32418961460493, 24.011225865129294, 23.215615806336814, 23.944780422228412, 35.438151182822274, 26.959809951098098, 23.011089151235122, 91.02679012258841, 87.09707414002739, 68.00945096135698, 42.179460606059244, 42.974713576572135, 80.74980487759561, 68.21898650340754, 85.42445719676469, 38.61225678452584, 47.32536908352966, 151.9551380350905, 42.57528041764165, 231.61272374762328, 57.88257018744917, 67.05647692326575, 208.27869939798077, 48.64943312218639, 100.32790135463011, 74.92493453593035, 121.56496435161235, 87.14624809143753, 129.1277003511528, 248.0731577336127, 66.34446219582912, 97.58170332429238, 202.23583920796978, 115.56839052346409, 136.80353875518495, 148.4527080972681, 169.41603687014992, 128.7339226984883, 196.6000982608316, 112.22649975531844, 113.5446535003962, 87.1395464130227, 105.38132975830703, 98.08463031768311, 91.1220882984803, 91.34231718684944, 149.10813134961643, 61.92315428276495, 56.474121892686206, 46.39232750398148, 56.047623841317915, 55.27574154852911, 58.121279548010584, 34.25907145791605, 33.413698414651726, 52.66493544439675, 117.25708802561458, 29.507958675256344, 31.407139396082737, 28.20312423919121, 30.694232578445874, 27.361264489028464, 43.95104762397716, 26.81864095774583, 40.92123215759693, 24.398860334034747, 24.245048886419816, 206.20489923409013, 44.27842623825208, 21.866606809851216, 21.77727346716205, 21.62469757131885, 29.112788579818996, 21.683456742977594, 23.113599725440853, 19.06430329040333, 51.348089609808035, 31.621266745042277, 96.46888686102496, 73.90489300917356, 42.79210333942014, 68.57269727867617, 154.072571813776, 77.85850792172924, 64.32580760260585, 125.36570295754096, 55.61303735023442, 69.37404272909853, 44.66444604046219, 44.89663473110344, 77.52289666541031, 41.23514751808335, 137.23382991281218, 94.85298178314147, 174.5757701848028, 63.52617947082642, 67.31957248678705, 115.06478002092798, 90.4213033773703, 147.74035915168312, 76.60907339852703, 162.50471122500764, 101.23331214049307, 135.00971873997474, 86.73732715570932, 144.23124791764133, 129.11266937828057, 121.63116415568305, 83.11959224017623, 142.61799091888662, 100.06163544576849, 85.39000546985983, 87.69328372120631, 86.48906318273298, 75.04261661011797, 78.32537607050912, 78.51868584691155, 144.20999286615807, 99.35153935926375, 160.00557478469022, 53.38385893996366, 120.4067797006677, 42.37136116158391, 54.030052225805214, 38.72309632904924, 37.522500190410156, 34.971413796393506, 34.07825291720566, 30.147609732703387, 29.964325997001186, 33.52018980987475, 27.022955576001905, 31.14168719250064, 78.01487409526217, 35.33048117443201, 24.02876288228742, 58.4465068563408, 23.060503114368338, 22.11126622148178, 40.778516996763415, 21.84374928656027, 57.996749407236635, 21.2608708942573, 21.049516500014995, 20.92302711520806, 20.186582923541472, 19.932970711127002, 38.0435885231327, 35.916190468323244, 199.3578757248824, 23.702151284857116, 27.894241454969972, 127.59201934297548, 57.298205665611256, 33.909185727657196, 198.8559408739554, 70.70446746162294, 34.91126285168886, 73.56299891059805, 173.64626265963008, 82.23611732746359, 52.78257152441431, 100.32038032727823, 85.36401216447229, 49.724619874167004, 147.49830545983482, 85.59532327210265, 61.99340778010275, 225.9673841644817, 69.54270724396513, 183.76304946177422, 61.60363148691132, 133.9650416474714, 69.0951243974651, 106.08025612214341, 120.97288165426193, 144.0804309572513, 100.53525457378369, 93.32513434312233, 89.238109150929, 95.15310006788403, 77.43790565898544, 83.90375018995317, 73.84493972990957, 86.65532519193414, 62.12342602062192, 56.7720383115145, 77.7343087465771, 56.08905301137876, 72.89644941548865, 48.67906336231922, 40.40561117645434, 39.63441765953946, 97.0873259975433, 35.834948772915325, 35.54594624666541, 35.93228073945014, 52.21854618479653, 47.28801305923099, 68.94123371371512, 27.838757385976166, 26.773764437528367, 33.56944826158077, 25.95456106389379, 30.309811572485877, 26.994862762555584, 25.428445501954293, 23.78784513757036, 22.83767759928552, 23.844262227741115, 23.265344800265712, 24.736640033002875, 21.90479458871312, 21.565116895662836, 59.292419504306125, 68.93308599300309, 273.6227110553409, 38.96680073645191, 26.636754768567727, 38.50861549022457, 39.144140970074915, 37.73283561609798, 71.93102285458023, 60.48793430323893, 36.76108282011747, 301.40777052236155, 59.687055140428484, 67.73441134084543, 94.18445893485136, 59.09806241648766, 283.35513733138384, 280.81594717755746, 102.34314773246575, 213.2327974882964, 129.8498593849368, 351.13111641082986, 145.57284508552854, 210.481231248923, 106.51006707168264, 129.0033059800579, 86.66381240100918, 127.11149401998627, 101.0050543496946, 94.77637648161189, 95.10829817129206, 73.42789233327832, 76.17977847514764, 71.38016381387581, 83.81572047996308, 92.55773515730512, 85.44704693627693, 75.39057248912655, 72.04623345346275, 74.4400116013442, 72.97494304218806, 191.5670976183426, 39.7404283001408, 37.72835785850194, 37.31946520025961, 151.81335922495288, 49.170681081791855, 64.46043899408751, 37.6325109655433, 28.3861430370049, 38.77011345220639, 27.127049587485903, 27.07745995521984, 27.18115941533444, 34.51235425179919, 55.13228736242197, 23.98584657160717, 34.1530043592974, 24.966446197763556, 21.790489229077856, 21.428453399837394, 22.001647167871532, 21.2313473382656, 65.43830743306678, 21.030403069862068, 32.669617415141204, 20.086330244047137, 20.047657280054082, 19.765646851190056, 45.569412010059416, 19.335736980380666, 41.094217988612456, 21.47620230891131, 38.92567799520561, 65.11558130613167, 32.97808642179438, 42.00399098209188, 30.662796024361068, 93.32813073259425, 81.18599655017415, 44.201730436987496, 112.76148098911969, 41.50798799768349, 48.48729603181444, 77.50102709602933, 62.961809116526275, 134.1817973904738, 78.14119797729909, 121.64070302104837, 61.12150610702138, 66.80039088046917, 147.08512798393846, 94.03692067158005, 81.11748092203167, 318.89514724482655, 57.42144239948354, 69.36190830648509, 159.67524797123656, 78.04627548615424, 147.53604213861823, 136.42138380440144, 112.72387141042991, 85.95848918432863, 150.66139942060846, 185.35695330459538, 111.19494959650905, 86.25295318028545, 106.98944495597446, 72.44251936920914, 73.59341902042446, 70.01092888064352, 68.16585518205765, 54.86092974330073, 59.3037980825613, 70.04915609604959, 46.175203803596716, 139.68624534078216, 33.9789072184231, 39.08579302185664, 192.28450082150485, 34.52799251536877, 33.36622643160996, 32.36144924353013, 35.47077964474223, 25.90380655684908, 25.247581156442646, 24.632903633956097, 426.7500071704729, 28.78039738610321, 33.61538687316088, 24.270507709169912, 22.069238868517015, 21.723172560492852, 21.45225991870125, 22.91466850723704, 20.54478144826511, 20.46602870851434, 19.187387854890122, 18.964296336480313, 20.46273432665195, 23.827611320921925, 18.553510118112637, 22.118984034639094, 51.080869381538776, 30.804601708272514, 133.0989911543593, 36.55320216533646, 47.34791094711823, 576.8470188735441, 24.996736404164892, 81.50491894498633, 39.248554045756485, 80.41584888765757, 28.600171498358243, 89.26620421430827, 229.3301311023865, 629.0668504110581, 60.571760808308554, 49.775672407455765, 76.15682870953245, 222.50303354311646, 103.79283207623288, 189.7081642858317, 127.9665978646936, 50.08763026326807, 145.96842430016628, 103.60830338551084, 96.877865774068, 105.21210127561103, 77.72581441796191, 131.79943948252875, 65.69191075204812, 53.33844895216626, 70.39842862642152, 57.71161250186149, 57.097731508322894, 66.22314452061083, 63.38867073947629, 60.82109447557242, 58.55721381963632, 106.94328646764866, 79.77120633338956, 57.62386110403573, 55.28768353212592, 58.64529751106635, 52.2692529307219, 42.45166416138663, 60.51663549914869, 41.299335368353915, 39.200556499123536, 36.90711583907492, 36.42965797015188, 36.48541571734077, 45.60391396138269, 42.541902000638046, 32.825761943184084, 27.026263122733788, 25.214101532119887, 24.464710387972335, 24.313045804654124, 26.607108450211765, 24.252448374599364, 24.39672177245263, 23.4631563303763, 27.566222211907107, 24.14459820601931, 21.205414006513735, 21.051774505703353, 78.34828509034158, 22.227243883696048, 39.43547028646034, 219.6148445782101, 169.96318512527841, 37.674137472711955, 76.83307996325335, 31.76562320669389, 297.2858040960341, 220.59520270140357, 97.63495703557395, 193.42493858322925, 132.1885856427579, 46.6080558418995, 85.58848697800308, 191.01582375196875, 109.90012385684477, 101.61555533238918, 96.1037951804877, 357.1438976823685, 154.8515825859906, 141.61793438672058, 219.69985834452436, 235.47171590513307, 113.08230462861104, 157.41996202788397, 170.35318063286624, 79.04421272095398, 80.86288624257845, 132.82149146184236, 139.13517404983637, 105.78800967517168, 89.84736552625901, 103.59921391531354, 97.79669142808213, 89.34090890715594, 81.19473896851942, 73.34450930955039, 54.970441607568496, 57.20064568669217, 45.525013201141455, 43.33872680027627, 43.79774291548109, 43.31300278333924, 34.756252985824304, 34.31089352624029, 34.851170366624295, 31.545518751609922, 32.40670954906115, 29.596501641175884, 32.15276072228792, 27.788448492475236, 25.87949931700103, 24.283208895913884, 22.621580223499944, 22.618678150622788, 21.30266327015701, 23.237399551109046, 21.074885449343984, 91.01921771741864, 20.15026516450275, 19.912029411318798, 19.988683330709627, 19.338354571278668, 19.10949619141564, 43.61632980292426, 26.51995539095026, 50.05868997452606, 32.767809564313545, 504.1803371218712, 48.921936484682746, 50.30952464354026, 36.97002988276913, 39.75628025285999, 39.86749058490093, 36.63771703445639, 33.35908073800153, 47.075418118420664, 32.39603550488022, 41.1475624471282, 36.29248043144369, 228.51642386413963, 65.00539081625345, 300.2176082319666, 90.82748224573817, 311.91840096451523, 306.4702356574812, 145.6793657197257, 201.6868379687611, 86.69763656437351, 148.413231123996, 52.392284091249266, 52.82899102457696, 96.05753838641527, 150.52933353667663, 190.792547664949, 135.07548673465496, 97.08403995311417, 67.38444626702086, 65.35308653004827, 80.04149483185236, 79.51122893481612, 61.4727278390814, 76.53560824217038, 59.19491473090731, 58.43766431790096, 53.55453072081643, 55.263075790641295], \"Total\": [795.0, 576.0, 1033.0, 445.0, 546.0, 3198.0, 889.0, 419.0, 382.0, 1190.0, 309.0, 1162.0, 301.0, 1188.0, 570.0, 1688.0, 565.0, 242.0, 1360.0, 271.0, 481.0, 215.0, 198.0, 194.0, 254.0, 1465.0, 221.0, 962.0, 283.0, 274.0, 81.97193947725019, 72.08564680123636, 60.67389610040193, 74.19462596751357, 75.24835233422054, 45.36834107413958, 40.64303463335994, 39.72333720308517, 39.174569062881886, 38.80518149730389, 49.664560949252355, 46.369785453233256, 35.4415790481237, 60.08797045769906, 30.765172670470932, 51.999469775682165, 27.952973517810296, 30.181982910778576, 26.832836128343608, 26.273240241570694, 25.841918775012527, 25.790337979775952, 23.37938601853537, 22.82865766344151, 795.4206676384966, 22.35737521190382, 21.248324412376796, 21.151999230193624, 20.492257800719383, 22.348058660438358, 62.59534634288024, 52.94952609756353, 37.594702860788544, 283.5786160373762, 44.74810829157642, 111.48066353320284, 45.728955287252035, 74.59304614906343, 96.33686213817185, 45.70772725108884, 114.14904880485409, 148.89263540252205, 99.69646878382783, 168.76086128220751, 116.33651270444497, 226.81650228816534, 1360.1482360476618, 1258.3083046741963, 305.94761322658, 166.0925929112727, 937.5725384644235, 217.48123851141423, 258.64938192344374, 977.0645206122083, 303.4007536961288, 850.000260439961, 1188.4479790892487, 523.3400113918956, 1715.9802109604489, 860.3533968349848, 1190.5702218590427, 1361.6738829281007, 798.2525118535265, 1176.446299225443, 1073.1490982423775, 900.0067941025716, 778.0067012926482, 962.3702249711446, 3198.3531357059724, 860.3446622294188, 570.677040481645, 400.6409203404465, 1162.2634279679958, 66.82767728959394, 48.27960575867523, 57.44576413465458, 44.69505994908204, 58.682873249170996, 42.343007484644396, 50.141055194920725, 41.538674453299095, 41.28991622785484, 37.667307733182064, 37.59491498160926, 37.95843515250638, 37.40266068749607, 41.84607629407859, 34.7319106582165, 34.59092477366625, 32.7825384029575, 33.166488221628875, 30.906914133418987, 30.705457160176643, 29.45837568507271, 382.866360876487, 43.387215337782806, 29.274731526044356, 28.79897279777849, 32.93906988271669, 36.17220124206323, 45.99262203964488, 31.159078978081677, 26.358101914308893, 38.536534623168116, 80.31748785863626, 38.93031849453435, 161.14630247467002, 212.86980025254041, 105.28950429085715, 130.2231821344135, 62.77353493021529, 76.26481376669011, 81.64499131819865, 165.59689380004383, 291.778597829938, 51.67531999951227, 122.76357897457191, 300.75735360451716, 106.48053125480796, 84.083581134564, 130.1888576416994, 1361.6738829281007, 212.3806829940652, 111.37068983694844, 472.88674018808916, 1188.4479790892487, 567.6238949481724, 110.47203827308827, 304.4501292947438, 185.22126234180124, 353.72229056028215, 447.233219185326, 1073.1490982423775, 1098.6419417324678, 502.526355329239, 641.49616227349, 147.5995632924924, 860.3533968349848, 761.6314807213255, 598.8584282017889, 1176.446299225443, 1688.9293367865416, 1258.3083046741963, 798.2525118535265, 1033.3727131831806, 881.2328809889052, 860.3446622294188, 69.13783242835598, 59.969396283264835, 43.48764853438245, 41.06615308492272, 39.050623021445396, 39.97290580740679, 37.00246411309312, 35.85917771352116, 34.23498034759096, 37.52998209468915, 31.354561779631318, 30.920508537276387, 40.48833649869584, 47.224173495590506, 27.624019523382895, 31.78122230431536, 28.621415491674096, 26.13603988449238, 23.39086025796273, 25.23182783645295, 23.18306779394878, 30.58745798418525, 23.857402734243866, 99.95309333331319, 25.118097253257034, 23.996122703154665, 45.79875095851534, 20.70473116356374, 20.113606737798307, 19.9634522969397, 546.6298421916754, 254.40155035695983, 23.870890303783437, 99.34349031860899, 167.07631226401512, 47.686028936358696, 43.721186418287324, 38.67442650209629, 50.03801959463099, 90.27492648737082, 481.85281360604165, 154.67068099456947, 232.7380548371783, 224.19190734280542, 405.1224304409048, 56.96137215056194, 544.1827791919598, 3198.3531357059724, 447.08505381702463, 1465.6107140934857, 680.7154210762163, 143.52405236439304, 470.18935441080635, 889.7932791469907, 364.83809182263207, 881.2328809889052, 788.9819700650454, 892.6768351270651, 740.4244892537547, 641.49616227349, 262.68268565879805, 475.7571522748693, 584.1847444611767, 1361.6738829281007, 450.6755939633895, 1715.9802109604489, 1688.9293367865416, 598.8584282017889, 962.3702249711446, 661.5700967371921, 1176.446299225443, 69.93897998417705, 100.18452111743142, 47.88101658041867, 43.934911537993976, 45.33801489536124, 45.67841555264573, 37.87713244736644, 43.34898604503772, 34.23011661503029, 35.87944336176538, 38.311739768919075, 47.36568353030918, 31.532206790191587, 33.078234635976976, 34.4644205352191, 27.237804594638266, 26.790281915961803, 27.49140172720188, 28.184516385885058, 33.8910124391731, 33.03475379680102, 25.336696250952322, 25.92284419128568, 25.279733270852024, 24.96567977031087, 24.771859030695353, 23.933912486388852, 23.48113423621003, 23.630188508460723, 24.96935577106193, 141.297293925079, 139.78807093865896, 35.752723153524705, 25.972641571629286, 38.15045307160753, 118.91659860566719, 30.245872175743088, 50.8562745370202, 53.97872308003564, 83.99531121036543, 44.237302986398475, 32.24351092804236, 211.79906056276565, 86.93572014421582, 43.8471950513978, 83.79580652715664, 106.02086166369486, 130.86270976769583, 54.93416532383143, 92.2661055012759, 137.0319760950607, 468.4711955354782, 202.14862644602215, 447.233219185326, 248.2807718132395, 788.9819700650454, 1688.9293367865416, 828.0373432735367, 523.3400113918956, 900.0067941025716, 937.5725384644235, 528.5121627854326, 447.08505381702463, 1176.446299225443, 148.95777413117838, 889.7932791469907, 1188.4479790892487, 1715.9802109604489, 3198.3531357059724, 598.8584282017889, 1098.6419417324678, 515.5099292259197, 1465.6107140934857, 394.9472596670959, 567.6238949481724, 304.4501292947438, 1360.1482360476618, 778.0067012926482, 82.68804690898325, 82.86453186921854, 66.84289975855887, 133.58567899287212, 136.7208586368914, 46.054457597492465, 111.1703147013318, 90.82394587742162, 47.228501911604006, 39.49058085225895, 37.10705992237842, 36.829810955182744, 33.84119448991461, 37.060541367475814, 32.52198315781607, 31.42152185896089, 33.144188408167466, 29.382137024232218, 28.991806086609998, 27.93694556449184, 27.737913697342854, 26.462085418276846, 35.138472605612435, 25.38665332731576, 25.073710445165602, 24.278101666181946, 25.045599581920996, 37.095577279179885, 28.221381341999056, 24.105236658559292, 95.53625186316683, 97.86321354612785, 76.11233130725135, 45.98367982058765, 48.01606952592159, 98.08877067093277, 81.41257071674426, 108.4995962135765, 43.231695010942175, 55.41688285519932, 243.81481396036963, 48.93342065442694, 466.717292216083, 73.74159865957662, 102.78163336890309, 619.4585753589384, 62.663649639083395, 219.38456617003376, 137.76026314784298, 335.07327545807686, 187.8087899729252, 413.9079118689977, 1715.9802109604489, 117.89621874409781, 269.67195571486, 1465.6107140934857, 450.6755939633895, 680.7154210762163, 900.0067941025716, 1688.9293367865416, 778.0067012926482, 3198.3531357059724, 608.860247537282, 977.0645206122083, 335.09574067534925, 1176.446299225443, 1258.3083046741963, 566.9243184620063, 860.3533968349848, 151.39758444908367, 62.98911777802034, 57.61327349010705, 47.45829101754895, 57.42308371816001, 56.66408540767412, 59.59982735997785, 35.3250211757261, 34.47965494365953, 54.46318273897205, 121.33783712834187, 30.5739277689279, 32.55188418099614, 29.321220226590498, 31.92504530356733, 28.46026508398829, 45.75361611637931, 27.921980474065208, 42.61650782928834, 25.464811660312172, 25.311010912897377, 215.76040086094014, 46.37922189800824, 22.932601481325143, 22.844475937351262, 22.690651884701317, 30.566133800510354, 22.888432019344464, 24.403595190191947, 20.130256915422443, 54.409560296349625, 33.46934841020392, 103.75220867987235, 79.57062074148962, 45.631485725445266, 75.3395500893973, 178.24827556148423, 86.81959862343089, 71.79026658064572, 150.84987990557062, 62.53083477438323, 81.11328902833606, 49.85703341664592, 50.83242653523348, 100.51465019010305, 46.46032719164918, 226.20834594799226, 144.58404000162892, 450.4065656402158, 92.86438800479371, 104.84623535965771, 284.5641331587247, 189.03528469594818, 574.8027666016594, 146.17580303997144, 962.3702249711446, 317.58811894113364, 761.6314807213255, 225.30323367109054, 1361.6738829281007, 1033.3727131831806, 1073.1490982423775, 298.15878859821834, 3198.3531357059724, 860.3446622294188, 475.7571522748693, 641.49616227349, 1176.446299225443, 252.11362017986377, 566.9243184620063, 699.5930583049678, 145.2795385037568, 100.4210982949657, 162.658505438961, 54.49109956575401, 123.31229141256875, 43.44091885817391, 55.48601707845945, 39.792648152029685, 38.59205536967218, 36.040975004748645, 35.17166668003482, 31.217161216370243, 31.03388037339933, 34.727536297167404, 28.09822447222225, 32.44355646862326, 81.30216463526523, 36.867249601941545, 25.098308945230418, 61.21131400897109, 24.154481150178327, 23.180819253963303, 42.76244660273734, 22.913304487923096, 60.90268097614948, 22.34033422423841, 22.11907363725385, 21.992566718569826, 21.256131247561406, 21.002520680160583, 40.11957184263271, 37.86210800157679, 221.74506061476308, 25.025532597907766, 29.668884949093528, 148.93716572181307, 63.58523071929175, 36.72510376306378, 274.4764144334411, 88.02354101210686, 39.12617205156595, 104.14112946699245, 428.99519834951104, 140.94946407575003, 73.92072687284968, 217.7225611011252, 195.9958686959519, 73.95958052034716, 619.7902062180195, 215.57979481432164, 115.85500833289528, 1688.9293367865416, 154.99180285603538, 1361.6738829281007, 125.89465795845453, 892.6768351270651, 174.69760632733016, 860.3446622294188, 1360.1482360476618, 3198.3531357059724, 1176.446299225443, 937.5725384644235, 778.0067012926482, 1258.3083046741963, 419.39822466646217, 977.0645206122083, 761.6314807213255, 87.76330341189326, 63.25246764604, 57.84286083894048, 79.27513715255704, 57.205291131253226, 74.54123824267383, 49.785732300068204, 41.476426674785024, 40.70523790180671, 99.89840255266694, 36.9057517707855, 36.64132939271719, 37.044907206213786, 53.85076062317619, 48.8070443084727, 71.62581529713277, 28.922890308002998, 27.84458910919547, 34.93536716868518, 27.025377325159212, 31.564794225720302, 28.11734635757417, 26.574230573018497, 24.89026849213699, 23.90923134154127, 25.026419346319056, 24.42205229580177, 25.973636567299657, 23.014618876551403, 22.667713969643167, 62.71988347313296, 73.93921716855003, 309.2119785614832, 41.717456418814535, 28.109378060378916, 42.002627350902365, 43.056362214213515, 41.33661912870803, 85.0264589799783, 71.85626381467749, 40.67131387760952, 565.8732735598683, 78.39056328072638, 98.65553212390195, 161.02210933663667, 81.58832512375388, 962.3702249711446, 1188.4479790892487, 224.9586926454272, 860.3533968349848, 361.2168063245464, 3198.3531357059724, 576.423609697397, 1465.6107140934857, 338.4624007789384, 608.860247537282, 309.6129223377959, 1176.446299225443, 828.0373432735367, 661.5700967371921, 761.6314807213255, 210.14575514154248, 269.67195571486, 184.59801854126562, 570.677040481645, 1360.1482360476618, 1073.1490982423775, 528.5121627854326, 235.31545286890477, 1715.9802109604489, 1361.6738829281007, 194.88113151963267, 40.80282403184184, 38.79074435574722, 38.38185615602526, 156.39649416822542, 50.68442545198894, 66.48078371584035, 38.89650812488864, 29.44853892160793, 40.275391216529684, 28.18945982064776, 28.13985747377783, 28.26721344984362, 35.99199343496571, 57.53288095620431, 25.048507583331492, 35.676988150132296, 26.140814420714275, 22.852877954134904, 22.49083485362364, 23.09487281612874, 22.2937348118139, 68.72698508319579, 22.09278838793274, 34.33930955657339, 21.152108764432906, 21.133339299858186, 20.84020896630162, 48.067692080691096, 20.398286588679337, 43.46993935485483, 22.658820825276003, 41.375671018556886, 70.54113301816669, 35.147581241628345, 45.172957965792, 32.61802494648517, 104.93863369554238, 91.46146452561807, 48.67372794062735, 133.31316896180923, 45.78217793364305, 56.05015966204254, 98.5618001675678, 78.97948338580152, 201.77383693001337, 105.48048946176858, 191.1521271842895, 79.8526574682139, 90.29660235727054, 283.38252799986856, 168.86688613519735, 148.2494056223575, 1715.9802109604489, 83.07960561793314, 132.42798395881042, 892.6768351270651, 182.90120404069557, 850.000260439961, 778.0067012926482, 515.5099292259197, 268.81594183474857, 1360.1482360476618, 3198.3531357059724, 661.5700967371921, 295.9988570359597, 860.3446622294188, 195.9657805074987, 608.860247537282, 1073.1490982423775, 1098.6419417324678, 55.93250552861932, 60.56314955258993, 71.67208820671475, 47.299723347995005, 143.51391523882347, 35.05050161877988, 40.32120106732676, 198.57207905822997, 35.690653563087984, 34.5212397786526, 33.488415126577785, 36.89822717573121, 26.97539181908842, 26.3191733784515, 25.704481159342407, 445.50214552758587, 30.06418299009277, 35.1501858064102, 25.410648375191172, 23.140849794855114, 22.79474326416611, 22.5238357809758, 24.073297828106128, 21.616465136866733, 21.537614684144405, 20.258999341792794, 20.03587828280164, 21.62826958482687, 25.195369848175368, 19.625158138795715, 23.410562932018202, 54.88416915097234, 33.191858700184746, 157.1024917616668, 40.66323531984653, 54.542499047136616, 1033.3727131831806, 27.076081835479595, 116.9318752671192, 47.42198325798188, 133.9040882688844, 32.622048993509615, 167.67655648895675, 699.5930583049678, 3198.3531357059724, 101.14151435163204, 84.12165368810001, 176.30398052260853, 1162.2634279679958, 338.4624007789384, 1098.6419417324678, 881.2328809889052, 93.59218920776519, 1360.1482360476618, 621.2369330490449, 576.423609697397, 740.4244892537547, 322.9664149326145, 1688.9293367865416, 224.79072659704437, 115.98673054087871, 528.5121627854326, 195.57191783284838, 228.06840716851553, 1190.5702218590427, 1465.6107140934857, 1715.9802109604489, 788.9819700650454, 108.01461676095218, 80.842544812879, 58.695156626908954, 56.3589757856565, 59.933086395573476, 53.57029464683251, 43.52294981204229, 62.13690600902546, 42.42251958627959, 40.271833120037584, 37.981378168853254, 37.50096963878863, 37.59172188378587, 47.149391063956486, 44.00022070855405, 33.95148603551374, 28.097566648503054, 26.28541488154936, 25.53599162387106, 25.384338177639737, 27.781555369681275, 25.32374038560054, 25.504775339671433, 24.534449370073087, 28.838242347408418, 25.264993797319168, 22.27672128056147, 22.150011136205734, 82.465294541437, 23.4015490894226, 41.62842508066495, 242.79231299582452, 188.1642890439941, 40.202162437270644, 85.47815201100052, 34.00186498168649, 419.739497364386, 301.2488050080145, 122.41652179862177, 271.5363056925229, 185.79278019425664, 55.29932037814227, 118.77181497448461, 331.68083232100406, 166.37464701406637, 159.0519601386404, 149.67939288554047, 1162.2634279679958, 353.36956623541266, 329.0640810587803, 828.0373432735367, 1190.5702218590427, 330.0888743389832, 850.000260439961, 1073.1490982423775, 185.22126234180124, 204.6578398498841, 1688.9293367865416, 3198.3531357059724, 1465.6107140934857, 680.7154210762163, 1715.9802109604489, 1258.3083046741963, 1360.1482360476618, 574.8027666016594, 74.46380164788668, 56.041454650967296, 58.3239813252073, 46.5960322502251, 44.41308966918963, 44.91936373253001, 44.54973497043843, 35.827256329139466, 35.38194499396946, 35.99927588033747, 32.61664725176297, 33.55244039295569, 30.667522042050127, 33.322058034025034, 28.859469623526767, 26.950516056092734, 25.354233766395716, 23.692590861262143, 23.689689658200162, 22.37369577572706, 24.415531510790952, 22.14588951052244, 95.82602617242473, 21.221323501667488, 20.983063555957717, 21.07872215870593, 20.409353386786805, 20.180516931968896, 46.10292043161344, 28.033909486683452, 53.581576453948216, 34.891595110585364, 576.4754963670866, 52.892672595168975, 54.7637680585176, 39.83445814715542, 43.30331072211324, 43.71647885280795, 40.11240944663917, 36.198398637765216, 53.22081596639598, 35.325473244444524, 48.877439430486504, 41.77641154447458, 570.677040481645, 95.5295931578184, 889.7932791469907, 172.16580087960727, 1190.5702218590427, 1688.9293367865416, 502.526355329239, 1098.6419417324678, 234.10590735155137, 740.4244892537547, 87.98435245209718, 94.89587351503293, 419.739497364386, 1465.6107140934857, 3198.3531357059724, 1258.3083046741963, 619.7902062180195, 212.62749764846524, 240.60549826990476, 621.2369330490449, 828.0373432735367, 214.57234717454344, 798.2525118535265, 680.7154210762163, 881.2328809889052, 170.50157206740226, 1715.9802109604489], \"Category\": [\"Default\", \"Default\", \"Default\", \"Default\", \"Default\", \"Default\", \"Default\", \"Default\", \"Default\", \"Default\", \"Default\", \"Default\", \"Default\", \"Default\", \"Default\", \"Default\", \"Default\", \"Default\", \"Default\", \"Default\", \"Default\", \"Default\", \"Default\", \"Default\", \"Default\", \"Default\", \"Default\", \"Default\", \"Default\", \"Default\", \"Topic1\", \"Topic1\", \"Topic1\", \"Topic1\", \"Topic1\", \"Topic1\", \"Topic1\", \"Topic1\", \"Topic1\", \"Topic1\", \"Topic1\", \"Topic1\", \"Topic1\", \"Topic1\", \"Topic1\", \"Topic1\", \"Topic1\", \"Topic1\", \"Topic1\", \"Topic1\", \"Topic1\", \"Topic1\", \"Topic1\", \"Topic1\", \"Topic1\", \"Topic1\", \"Topic1\", \"Topic1\", \"Topic1\", \"Topic1\", \"Topic1\", \"Topic1\", \"Topic1\", \"Topic1\", \"Topic1\", \"Topic1\", \"Topic1\", \"Topic1\", \"Topic1\", \"Topic1\", \"Topic1\", \"Topic1\", \"Topic1\", \"Topic1\", \"Topic1\", \"Topic1\", \"Topic1\", \"Topic1\", \"Topic1\", \"Topic1\", \"Topic1\", \"Topic1\", \"Topic1\", \"Topic1\", \"Topic1\", \"Topic1\", \"Topic1\", \"Topic1\", \"Topic1\", \"Topic1\", \"Topic1\", \"Topic1\", \"Topic1\", \"Topic1\", \"Topic1\", \"Topic1\", \"Topic1\", \"Topic1\", \"Topic1\", \"Topic1\", \"Topic1\", \"Topic1\", \"Topic1\", \"Topic2\", \"Topic2\", \"Topic2\", \"Topic2\", \"Topic2\", \"Topic2\", \"Topic2\", \"Topic2\", \"Topic2\", \"Topic2\", \"Topic2\", \"Topic2\", \"Topic2\", \"Topic2\", \"Topic2\", \"Topic2\", \"Topic2\", \"Topic2\", \"Topic2\", \"Topic2\", \"Topic2\", \"Topic2\", \"Topic2\", \"Topic2\", \"Topic2\", \"Topic2\", \"Topic2\", \"Topic2\", \"Topic2\", \"Topic2\", \"Topic2\", \"Topic2\", \"Topic2\", \"Topic2\", \"Topic2\", \"Topic2\", \"Topic2\", \"Topic2\", \"Topic2\", \"Topic2\", \"Topic2\", \"Topic2\", \"Topic2\", \"Topic2\", \"Topic2\", \"Topic2\", \"Topic2\", \"Topic2\", \"Topic2\", \"Topic2\", \"Topic2\", \"Topic2\", \"Topic2\", \"Topic2\", \"Topic2\", \"Topic2\", \"Topic2\", \"Topic2\", \"Topic2\", \"Topic2\", \"Topic2\", \"Topic2\", \"Topic2\", \"Topic2\", \"Topic2\", \"Topic2\", \"Topic2\", \"Topic2\", \"Topic2\", \"Topic2\", \"Topic2\", \"Topic2\", \"Topic2\", \"Topic2\", \"Topic3\", \"Topic3\", \"Topic3\", \"Topic3\", \"Topic3\", \"Topic3\", \"Topic3\", \"Topic3\", \"Topic3\", \"Topic3\", \"Topic3\", \"Topic3\", \"Topic3\", \"Topic3\", \"Topic3\", \"Topic3\", \"Topic3\", \"Topic3\", \"Topic3\", \"Topic3\", \"Topic3\", \"Topic3\", \"Topic3\", \"Topic3\", \"Topic3\", \"Topic3\", \"Topic3\", \"Topic3\", \"Topic3\", \"Topic3\", \"Topic3\", \"Topic3\", \"Topic3\", \"Topic3\", \"Topic3\", \"Topic3\", \"Topic3\", \"Topic3\", \"Topic3\", \"Topic3\", \"Topic3\", \"Topic3\", \"Topic3\", \"Topic3\", \"Topic3\", \"Topic3\", \"Topic3\", \"Topic3\", \"Topic3\", \"Topic3\", \"Topic3\", \"Topic3\", \"Topic3\", \"Topic3\", \"Topic3\", \"Topic3\", \"Topic3\", \"Topic3\", \"Topic3\", \"Topic3\", \"Topic3\", \"Topic3\", \"Topic3\", \"Topic3\", \"Topic3\", \"Topic3\", \"Topic3\", \"Topic3\", \"Topic3\", \"Topic3\", \"Topic3\", \"Topic4\", \"Topic4\", \"Topic4\", \"Topic4\", \"Topic4\", \"Topic4\", \"Topic4\", \"Topic4\", \"Topic4\", \"Topic4\", \"Topic4\", \"Topic4\", \"Topic4\", \"Topic4\", \"Topic4\", \"Topic4\", \"Topic4\", \"Topic4\", \"Topic4\", \"Topic4\", \"Topic4\", \"Topic4\", \"Topic4\", \"Topic4\", \"Topic4\", \"Topic4\", \"Topic4\", \"Topic4\", \"Topic4\", \"Topic4\", \"Topic4\", \"Topic4\", \"Topic4\", \"Topic4\", \"Topic4\", \"Topic4\", \"Topic4\", \"Topic4\", \"Topic4\", \"Topic4\", \"Topic4\", \"Topic4\", \"Topic4\", \"Topic4\", \"Topic4\", \"Topic4\", \"Topic4\", \"Topic4\", \"Topic4\", \"Topic4\", \"Topic4\", \"Topic4\", \"Topic4\", \"Topic4\", \"Topic4\", \"Topic4\", \"Topic4\", \"Topic4\", \"Topic4\", \"Topic4\", \"Topic4\", \"Topic4\", \"Topic4\", \"Topic4\", \"Topic4\", \"Topic4\", \"Topic4\", \"Topic4\", \"Topic4\", \"Topic4\", \"Topic4\", \"Topic4\", \"Topic4\", \"Topic4\", \"Topic4\", \"Topic4\", \"Topic4\", \"Topic4\", \"Topic5\", \"Topic5\", \"Topic5\", \"Topic5\", \"Topic5\", \"Topic5\", \"Topic5\", \"Topic5\", \"Topic5\", \"Topic5\", \"Topic5\", \"Topic5\", \"Topic5\", \"Topic5\", \"Topic5\", \"Topic5\", \"Topic5\", \"Topic5\", \"Topic5\", \"Topic5\", \"Topic5\", \"Topic5\", \"Topic5\", \"Topic5\", \"Topic5\", \"Topic5\", \"Topic5\", \"Topic5\", \"Topic5\", \"Topic5\", \"Topic5\", \"Topic5\", \"Topic5\", \"Topic5\", \"Topic5\", \"Topic5\", \"Topic5\", \"Topic5\", \"Topic5\", \"Topic5\", \"Topic5\", \"Topic5\", \"Topic5\", \"Topic5\", \"Topic5\", \"Topic5\", \"Topic5\", \"Topic5\", \"Topic5\", \"Topic5\", \"Topic5\", \"Topic5\", \"Topic5\", \"Topic5\", \"Topic5\", \"Topic5\", \"Topic5\", \"Topic5\", \"Topic5\", \"Topic5\", \"Topic5\", \"Topic5\", \"Topic5\", \"Topic5\", \"Topic5\", \"Topic5\", \"Topic5\", \"Topic5\", \"Topic5\", \"Topic6\", \"Topic6\", \"Topic6\", \"Topic6\", \"Topic6\", \"Topic6\", \"Topic6\", \"Topic6\", \"Topic6\", \"Topic6\", \"Topic6\", \"Topic6\", \"Topic6\", \"Topic6\", \"Topic6\", \"Topic6\", \"Topic6\", \"Topic6\", \"Topic6\", \"Topic6\", \"Topic6\", \"Topic6\", \"Topic6\", \"Topic6\", \"Topic6\", \"Topic6\", \"Topic6\", \"Topic6\", \"Topic6\", \"Topic6\", \"Topic6\", \"Topic6\", \"Topic6\", \"Topic6\", \"Topic6\", \"Topic6\", \"Topic6\", \"Topic6\", \"Topic6\", \"Topic6\", \"Topic6\", \"Topic6\", \"Topic6\", \"Topic6\", \"Topic6\", \"Topic6\", \"Topic6\", \"Topic6\", \"Topic6\", \"Topic6\", \"Topic6\", \"Topic6\", \"Topic6\", \"Topic6\", \"Topic6\", \"Topic6\", \"Topic6\", \"Topic6\", \"Topic6\", \"Topic6\", \"Topic6\", \"Topic6\", \"Topic6\", \"Topic6\", \"Topic6\", \"Topic6\", \"Topic6\", \"Topic6\", \"Topic6\", \"Topic6\", \"Topic6\", \"Topic7\", \"Topic7\", \"Topic7\", \"Topic7\", \"Topic7\", \"Topic7\", \"Topic7\", \"Topic7\", \"Topic7\", \"Topic7\", \"Topic7\", \"Topic7\", \"Topic7\", \"Topic7\", \"Topic7\", \"Topic7\", \"Topic7\", \"Topic7\", \"Topic7\", \"Topic7\", \"Topic7\", \"Topic7\", \"Topic7\", \"Topic7\", \"Topic7\", \"Topic7\", \"Topic7\", \"Topic7\", \"Topic7\", \"Topic7\", \"Topic7\", \"Topic7\", \"Topic7\", \"Topic7\", \"Topic7\", \"Topic7\", \"Topic7\", \"Topic7\", \"Topic7\", \"Topic7\", \"Topic7\", \"Topic7\", \"Topic7\", \"Topic7\", \"Topic7\", \"Topic7\", \"Topic7\", \"Topic7\", \"Topic7\", \"Topic7\", \"Topic7\", \"Topic7\", \"Topic7\", \"Topic7\", \"Topic7\", \"Topic7\", \"Topic7\", \"Topic7\", \"Topic7\", \"Topic7\", \"Topic7\", \"Topic7\", \"Topic7\", \"Topic7\", \"Topic7\", \"Topic7\", \"Topic7\", \"Topic8\", \"Topic8\", \"Topic8\", \"Topic8\", \"Topic8\", \"Topic8\", \"Topic8\", \"Topic8\", \"Topic8\", \"Topic8\", \"Topic8\", \"Topic8\", \"Topic8\", \"Topic8\", \"Topic8\", \"Topic8\", \"Topic8\", \"Topic8\", \"Topic8\", \"Topic8\", \"Topic8\", \"Topic8\", \"Topic8\", \"Topic8\", \"Topic8\", \"Topic8\", \"Topic8\", \"Topic8\", \"Topic8\", \"Topic8\", \"Topic8\", \"Topic8\", \"Topic8\", \"Topic8\", \"Topic8\", \"Topic8\", \"Topic8\", \"Topic8\", \"Topic8\", \"Topic8\", \"Topic8\", \"Topic8\", \"Topic8\", \"Topic8\", \"Topic8\", \"Topic8\", \"Topic8\", \"Topic8\", \"Topic8\", \"Topic8\", \"Topic8\", \"Topic8\", \"Topic8\", \"Topic8\", \"Topic8\", \"Topic8\", \"Topic8\", \"Topic8\", \"Topic8\", \"Topic8\", \"Topic8\", \"Topic8\", \"Topic8\", \"Topic8\", \"Topic8\", \"Topic8\", \"Topic8\", \"Topic8\", \"Topic8\", \"Topic8\", \"Topic8\", \"Topic9\", \"Topic9\", \"Topic9\", \"Topic9\", \"Topic9\", \"Topic9\", \"Topic9\", \"Topic9\", \"Topic9\", \"Topic9\", \"Topic9\", \"Topic9\", \"Topic9\", \"Topic9\", \"Topic9\", \"Topic9\", \"Topic9\", \"Topic9\", \"Topic9\", \"Topic9\", \"Topic9\", \"Topic9\", \"Topic9\", \"Topic9\", \"Topic9\", \"Topic9\", \"Topic9\", \"Topic9\", \"Topic9\", \"Topic9\", \"Topic9\", \"Topic9\", \"Topic9\", \"Topic9\", \"Topic9\", \"Topic9\", \"Topic9\", \"Topic9\", \"Topic9\", \"Topic9\", \"Topic9\", \"Topic9\", \"Topic9\", \"Topic9\", \"Topic9\", \"Topic9\", \"Topic9\", \"Topic9\", \"Topic9\", \"Topic9\", \"Topic9\", \"Topic9\", \"Topic9\", \"Topic9\", \"Topic9\", \"Topic9\", \"Topic9\", \"Topic9\", \"Topic9\", \"Topic9\", \"Topic9\", \"Topic9\", \"Topic9\", \"Topic9\", \"Topic9\", \"Topic9\", \"Topic9\", \"Topic9\", \"Topic9\", \"Topic9\", \"Topic9\", \"Topic10\", \"Topic10\", \"Topic10\", \"Topic10\", \"Topic10\", \"Topic10\", \"Topic10\", \"Topic10\", \"Topic10\", \"Topic10\", \"Topic10\", \"Topic10\", \"Topic10\", \"Topic10\", \"Topic10\", \"Topic10\", \"Topic10\", \"Topic10\", \"Topic10\", \"Topic10\", \"Topic10\", \"Topic10\", \"Topic10\", \"Topic10\", \"Topic10\", \"Topic10\", \"Topic10\", \"Topic10\", \"Topic10\", \"Topic10\", \"Topic10\", \"Topic10\", \"Topic10\", \"Topic10\", \"Topic10\", \"Topic10\", \"Topic10\", \"Topic10\", \"Topic10\", \"Topic10\", \"Topic10\", \"Topic10\", \"Topic10\", \"Topic10\", \"Topic10\", \"Topic10\", \"Topic10\", \"Topic10\", \"Topic10\", \"Topic10\", \"Topic10\", \"Topic10\", \"Topic10\", \"Topic10\", \"Topic10\", \"Topic10\", \"Topic10\", \"Topic10\", \"Topic10\", \"Topic10\", \"Topic10\", \"Topic10\", \"Topic10\", \"Topic10\", \"Topic10\", \"Topic10\", \"Topic10\", \"Topic10\", \"Topic11\", \"Topic11\", \"Topic11\", \"Topic11\", \"Topic11\", \"Topic11\", \"Topic11\", \"Topic11\", \"Topic11\", \"Topic11\", \"Topic11\", \"Topic11\", \"Topic11\", \"Topic11\", \"Topic11\", \"Topic11\", \"Topic11\", \"Topic11\", \"Topic11\", \"Topic11\", \"Topic11\", \"Topic11\", \"Topic11\", \"Topic11\", \"Topic11\", \"Topic11\", \"Topic11\", \"Topic11\", \"Topic11\", \"Topic11\", \"Topic11\", \"Topic11\", \"Topic11\", \"Topic11\", \"Topic11\", \"Topic11\", \"Topic11\", \"Topic11\", \"Topic11\", \"Topic11\", \"Topic11\", \"Topic11\", \"Topic11\", \"Topic11\", \"Topic11\", \"Topic11\", \"Topic11\", \"Topic11\", \"Topic11\", \"Topic11\", \"Topic11\", \"Topic11\", \"Topic11\", \"Topic11\", \"Topic11\", \"Topic11\", \"Topic11\", \"Topic11\", \"Topic11\", \"Topic11\", \"Topic11\", \"Topic11\", \"Topic11\", \"Topic11\", \"Topic11\", \"Topic12\", \"Topic12\", \"Topic12\", \"Topic12\", \"Topic12\", \"Topic12\", \"Topic12\", \"Topic12\", \"Topic12\", \"Topic12\", \"Topic12\", \"Topic12\", \"Topic12\", \"Topic12\", \"Topic12\", \"Topic12\", \"Topic12\", \"Topic12\", \"Topic12\", \"Topic12\", \"Topic12\", \"Topic12\", \"Topic12\", \"Topic12\", \"Topic12\", \"Topic12\", \"Topic12\", \"Topic12\", \"Topic12\", \"Topic12\", \"Topic12\", \"Topic12\", \"Topic12\", \"Topic12\", \"Topic12\", \"Topic12\", \"Topic12\", \"Topic12\", \"Topic12\", \"Topic12\", \"Topic12\", \"Topic12\", \"Topic12\", \"Topic12\", \"Topic12\", \"Topic12\", \"Topic12\", \"Topic12\", \"Topic12\", \"Topic12\", \"Topic12\", \"Topic12\", \"Topic12\", \"Topic12\", \"Topic12\", \"Topic12\", \"Topic12\", \"Topic12\", \"Topic12\", \"Topic12\", \"Topic12\", \"Topic12\", \"Topic12\", \"Topic12\", \"Topic12\", \"Topic12\", \"Topic12\", \"Topic12\", \"Topic12\", \"Topic12\", \"Topic12\"], \"logprob\": [30.0, 29.0, 28.0, 27.0, 26.0, 25.0, 24.0, 23.0, 22.0, 21.0, 20.0, 19.0, 18.0, 17.0, 16.0, 15.0, 14.0, 13.0, 12.0, 11.0, 10.0, 9.0, 8.0, 7.0, 6.0, 5.0, 4.0, 3.0, 2.0, 1.0, -5.498000144958496, -5.626699924468994, -5.8018999099731445, -5.602799892425537, -5.589600086212158, -6.098700046539307, -6.21150016784668, -6.235000133514404, -6.249499797821045, -6.259099960327148, -6.013800144195557, -6.083399772644043, -6.352399826049805, -5.827000141143799, -6.498600006103516, -5.975100040435791, -6.598100185394287, -6.52269983291626, -6.6407999992370605, -6.6631999015808105, -6.679900169372559, -6.682000160217285, -6.784599781036377, -6.809599876403809, -3.261699914932251, -6.833600044250488, -6.885000228881836, -6.889800071716309, -6.9232001304626465, -6.836699962615967, -5.833499908447266, -6.001299858093262, -6.335100173950195, -4.4141998291015625, -6.178899765014648, -5.364799976348877, -6.178800106048584, -5.747200012207031, -5.531199932098389, -6.181600093841553, -5.414000034332275, -5.191999912261963, -5.54580020904541, -5.163599967956543, -5.455399990081787, -4.961900234222412, -3.6217000484466553, -3.814500093460083, -4.853099822998047, -5.3140997886657715, -4.229100227355957, -5.163899898529053, -5.079599857330322, -4.31879997253418, -5.008600234985352, -4.436500072479248, -4.288099765777588, -4.77239990234375, -4.170599937438965, -4.541600227355957, -4.589200019836426, -4.592899799346924, -4.8084001541137695, -4.745299816131592, -4.778600215911865, -4.875500202178955, -4.999000072479248, -5.007900238037109, -4.777500152587891, -5.082600116729736, -5.185699939727783, -5.243800163269043, -5.211100101470947, -5.69320011138916, -6.023499965667725, -5.850399971008301, -6.102399826049805, -5.830599784851074, -6.157899856567383, -5.989299774169922, -6.177499771118164, -6.183800220489502, -6.27810001373291, -6.28000020980835, -6.270500183105469, -6.286499977111816, -6.1743998527526855, -6.361700057983398, -6.365799903869629, -6.421299934387207, -6.410099983215332, -6.4822001457214355, -6.490099906921387, -6.5320000648498535, -3.967600107192993, -6.145199775695801, -6.539100170135498, -6.555699825286865, -6.42140007019043, -6.3282999992370605, -6.088099956512451, -6.478799819946289, -6.647799968719482, -6.270500183105469, -5.553699970245361, -6.26230001449585, -4.9355998039245605, -4.701000213623047, -5.352099895477295, -5.186999797821045, -5.844099998474121, -5.673099994659424, -5.628600120544434, -5.094900131225586, -4.757999897003174, -6.061600208282471, -5.430099964141846, -4.791600227355957, -5.560800075531006, -5.750400066375732, -5.477399826049805, -4.052499771118164, -5.251299858093262, -5.626299858093262, -4.828400135040283, -4.326700210571289, -4.767099857330322, -5.6442999839782715, -5.1305999755859375, -5.389400005340576, -5.073299884796143, -4.968900203704834, -4.633699893951416, -4.773099899291992, -5.119699954986572, -5.059599876403809, -5.548900127410889, -5.0304999351501465, -5.073200225830078, -5.146200180053711, -4.986400127410889, -4.951700210571289, -5.111800193786621, -5.213500022888184, -5.2058000564575195, -5.278600215911865, -5.315800189971924, -5.598700046539307, -5.748700141906738, -6.071800231933594, -6.130499839782715, -6.182199954986572, -6.159900188446045, -6.23859977722168, -6.269899845123291, -6.317800045013428, -6.228400230407715, -6.408999919891357, -6.423099994659424, -6.15369987487793, -6.002200126647949, -6.54010009765625, -6.400100231170654, -6.5065999031066895, -6.601200103759766, -6.713799953460693, -6.638299942016602, -6.723100185394287, -6.4475998878479, -6.696300029754639, -5.264100074768066, -6.645500183105469, -6.69189977645874, -6.046800136566162, -6.842899799346924, -6.872700214385986, -6.880499839782715, -3.5782999992370605, -4.348899841308594, -6.702899932861328, -5.331699848175049, -4.859799861907959, -6.0467000007629395, -6.127399921417236, -6.254199981689453, -6.022799968719482, -5.503600120544434, -4.037899971008301, -5.108699798583984, -4.833600044250488, -4.888599872589111, -4.510900020599365, -5.9766998291015625, -4.410699844360352, -3.17549991607666, -4.620999813079834, -3.8461999893188477, -4.372300148010254, -5.387199878692627, -4.670599937438965, -4.314899921417236, -4.894000053405762, -4.411099910736084, -4.500699996948242, -4.477499961853027, -4.595300197601318, -4.676700115203857, -5.171500205993652, -4.891600131988525, -4.821899890899658, -4.7058000564575195, -5.080399990081787, -4.728400230407715, -4.7515997886657715, -5.0229997634887695, -4.982500076293945, -5.152400016784668, -5.141900062561035, -5.528200149536133, -5.17549991607666, -5.915800094604492, -6.002399921417236, -5.971499919891357, -5.967400074005127, -6.154699802398682, -6.022500038146973, -6.259200096130371, -6.212900161743164, -6.149400234222412, -5.938000202178955, -6.345799922943115, -6.297999858856201, -6.257400035858154, -6.4959001541137695, -6.5131001472473145, -6.487599849700928, -6.462900161743164, -6.279399871826172, -6.3053998947143555, -6.571300029754639, -6.548500061035156, -6.573699951171875, -6.586699962615967, -6.594900131225586, -6.630899906158447, -6.650899887084961, -6.644599914550781, -6.59119987487793, -4.863999843597412, -4.888700008392334, -6.236400127410889, -6.551799774169922, -6.186500072479248, -5.121699810028076, -6.40880012512207, -5.932400226593018, -5.878300189971924, -5.501999855041504, -6.083799839019775, -6.3582000732421875, -4.877099990844727, -5.586299896240234, -6.123600006103516, -5.6570000648498535, -5.492099761962891, -5.344900131225586, -5.965799808502197, -5.655700206756592, -5.447400093078613, -4.760799884796143, -5.250699996948242, -4.807799816131592, -5.139599800109863, -4.518499851226807, -4.144899845123291, -4.570799827575684, -4.823200225830078, -4.554100036621094, -4.547599792480469, -4.895599842071533, -4.992000102996826, -4.622399806976318, -5.474999904632568, -4.7505998611450195, -4.654600143432617, -4.514200210571289, -4.3968000411987305, -4.991099834442139, -4.810699939727783, -5.184000015258789, -5.014500141143799, -5.27869987487793, -5.231599807739258, -5.368599891662598, -5.236499786376953, -5.325399875640869, -5.315800189971924, -5.315000057220459, -5.530200004577637, -4.8383002281188965, -4.81820011138916, -5.9095001220703125, -5.0304999351501465, -5.233699798583984, -5.8881001472473145, -6.067200183868408, -6.131199836730957, -6.138899803161621, -6.226200103759766, -6.135700225830078, -6.267899990081787, -6.3028998374938965, -6.251299858093262, -6.372399806976318, -6.386300086975098, -6.424799919128418, -6.432199954986572, -6.481400012969971, -6.198500156402588, -6.524499893188477, -6.537499904632568, -6.571100234985352, -6.540200233459473, -6.148200035095215, -6.421599864959717, -6.579999923706055, -5.204800128936768, -5.249000072479248, -5.496300220489502, -5.973999977111816, -5.955399990081787, -5.3246002197265625, -5.493299961090088, -5.2683000564575195, -6.062399864196777, -5.85890007019043, -4.692399978637695, -5.964700222015381, -4.270899772644043, -5.657599925994873, -5.51039981842041, -4.377099990844727, -5.831299781799316, -5.107500076293945, -5.399499893188477, -4.915500164031982, -5.2484002113342285, -4.855199813842773, -4.202199935913086, -5.521100044250488, -5.135300159454346, -4.406499862670898, -4.966100215911865, -4.797399997711182, -4.715700149536133, -4.583600044250488, -4.8582000732421875, -4.434800148010254, -4.995500087738037, -4.983799934387207, -5.248499870300293, -5.0584001541137695, -5.130099773406982, -5.203800201416016, -5.201399803161621, -4.547599792480469, -5.426300048828125, -5.518400192260742, -5.715099811553955, -5.526000022888184, -5.539899826049805, -5.489699840545654, -6.0183000564575195, -6.043300151824951, -5.5883002281188965, -4.787899971008301, -6.167600154876709, -6.105199813842773, -6.212800025939941, -6.128200054168701, -6.243100166320801, -5.769199848175049, -6.2631001472473145, -5.84060001373291, -6.357699871063232, -6.363999843597412, -4.223400115966797, -5.76170015335083, -6.467299938201904, -6.471399784088135, -6.478400230407715, -6.181000232696533, -6.4756999015808105, -6.411799907684326, -6.604400157928467, -5.61359977722168, -6.098400115966797, -4.982999801635742, -5.2494001388549805, -5.795899868011475, -5.3242998123168945, -4.514800071716309, -5.197299957275391, -5.388299942016602, -4.7210001945495605, -5.53380012512207, -5.312699794769287, -5.752999782562256, -5.747900009155273, -5.201700210571289, -5.832900047302246, -4.630499839782715, -4.999899864196777, -4.389900207519531, -5.4008002281188965, -5.342800140380859, -4.806700229644775, -5.047699928283691, -4.55679988861084, -5.213500022888184, -4.46150016784668, -4.934800148010254, -4.646900177001953, -5.089300155639648, -4.5808000564575195, -4.691500186920166, -4.751200199127197, -5.131899833679199, -4.592100143432617, -4.946400165557861, -5.105000019073486, -5.078400135040283, -5.092199802398682, -5.2342000007629395, -5.191400051116943, -5.188899993896484, -4.577199935913086, -4.94980001449585, -4.473299980163574, -5.571000099182129, -4.757599830627441, -5.802000045776367, -5.559000015258789, -5.892099857330322, -5.923600196838379, -5.99399995803833, -6.019899845123291, -6.142399787902832, -6.148499965667725, -6.036399841308594, -6.251800060272217, -6.110000133514404, -5.1915998458862305, -5.983799934387207, -6.36929988861084, -5.480400085449219, -6.410399913787842, -6.452400207519531, -5.840400218963623, -6.464600086212158, -5.488100051879883, -6.491600036621094, -6.5015997886657715, -6.507699966430664, -6.543499946594238, -6.556099891662598, -5.909800052642822, -5.967299938201904, -4.253399848937988, -6.382900238037109, -6.220099925994873, -4.699699878692627, -5.500199794769287, -6.024799823760986, -4.255899906158447, -5.289999961853027, -5.995699882507324, -5.250400066375732, -4.391499996185303, -5.138899803161621, -5.582300186157227, -4.940100193023682, -5.101600170135498, -5.642000198364258, -4.554699897766113, -5.098899841308594, -5.421500205993652, -4.1280999183654785, -5.306600093841553, -4.33489990234375, -5.427800178527832, -4.650899887084961, -5.313000202178955, -4.884300231933594, -4.752900123596191, -4.578100204467773, -4.938000202178955, -5.012400150299072, -5.057199954986572, -4.993000030517578, -5.198999881744385, -5.118800163269043, -5.246500015258789, -5.086299896240234, -5.419099807739258, -5.509200096130371, -5.195000171661377, -5.521299839019775, -5.259200096130371, -5.663000106811523, -5.849299907684326, -5.868599891662598, -4.972599983215332, -5.969299793243408, -5.977399826049805, -5.966599941253662, -5.592800140380859, -5.691999912261963, -5.315000057220459, -6.221799850463867, -6.260799884796143, -6.034599781036377, -6.291900157928467, -6.1367998123168945, -6.252600193023682, -6.312399864196777, -6.3790998458862305, -6.4197998046875, -6.376699924468994, -6.401299953460693, -6.340000152587891, -6.46150016784668, -6.477200031280518, -5.465799808502197, -5.315100193023682, -3.936500072479248, -5.885499954223633, -6.265999794006348, -5.89739990234375, -5.88100004196167, -5.917699813842773, -5.272500038146973, -5.445799827575684, -5.94379997253418, -3.8397998809814453, -5.459099769592285, -5.332699775695801, -5.002999782562256, -5.468999862670898, -3.9014999866485596, -3.9105000495910645, -4.919899940490723, -4.1859002113342285, -4.6819000244140625, -3.6870999336242676, -4.567599773406982, -4.19890022277832, -4.880000114440918, -4.688399791717529, -5.08620023727417, -4.703199863433838, -4.93310022354126, -4.996699810028076, -4.993199825286865, -5.2519001960754395, -5.215199947357178, -5.280200004577637, -5.11959981918335, -5.020400047302246, -5.100399971008301, -5.225599765777588, -5.270899772644043, -5.23829984664917, -5.2581000328063965, -4.283100128173828, -5.855999946594238, -5.907899856567383, -5.918799877166748, -4.515699863433838, -5.643099784851074, -5.372300148010254, -5.9105000495910645, -6.192500114440918, -5.88070011138916, -6.237800121307373, -6.239699840545654, -6.235799789428711, -5.997000217437744, -5.528600215911865, -6.360899925231934, -6.007500171661377, -6.320799827575684, -6.456900119781494, -6.473599910736084, -6.447199821472168, -6.482900142669678, -5.3572001457214355, -6.492400169372559, -6.0518999099731445, -6.538300037384033, -6.540200233459473, -6.5543999671936035, -5.719099998474121, -6.576399803161621, -5.822500228881836, -6.471399784088135, -5.876699924468994, -5.362199783325195, -6.042500019073486, -5.800600051879883, -6.115300178527832, -5.002200126647949, -5.141600131988525, -5.749599933624268, -4.8130998611450195, -5.8125, -5.657100200653076, -5.1880998611450195, -5.3958001136779785, -4.639200210571289, -5.179800033569336, -4.737299919128418, -5.42549991607666, -5.336599826812744, -4.547299861907959, -4.994699954986572, -5.142499923706055, -3.7734999656677246, -5.4878997802734375, -5.298999786376953, -4.465199947357178, -5.181099891662598, -4.544300079345703, -4.622600078582764, -4.813399791717529, -5.084499835968018, -4.5233001708984375, -4.316100120544434, -4.827099800109863, -5.081099987030029, -4.865600109100342, -5.2555999755859375, -5.239799976348877, -5.289700031280518, -5.316400051116943, -5.48960018157959, -5.411799907684326, -5.245200157165527, -5.6620001792907715, -4.554999828338623, -5.968699932098389, -5.828700065612793, -4.235499858856201, -5.952700138092041, -5.9868998527526855, -6.017499923706055, -5.9257001876831055, -6.240099906921387, -6.265699863433838, -6.29040002822876, -3.438199996948242, -6.134699821472168, -5.979499816894531, -6.305200099945068, -6.400300025939941, -6.416100025177002, -6.428599834442139, -6.36269998550415, -6.471799850463867, -6.4756999015808105, -6.540200233459473, -6.5518999099731445, -6.475800037384033, -6.323599815368652, -6.573800086975098, -6.3979997634887695, -5.560999870300293, -6.066800117492676, -4.603300094604492, -5.895699977874756, -5.636899948120117, -3.136899948120117, -6.275700092315674, -5.093800067901611, -5.82450008392334, -5.1072001457214355, -6.140999794006348, -5.002799987792969, -4.059299945831299, -3.0501999855041504, -5.390600204467773, -5.586900234222412, -5.161600112915039, -4.0894999504089355, -4.8520002365112305, -4.249000072479248, -4.6427001953125, -5.580699920654297, -4.511099815368652, -4.853799819946289, -4.921000003814697, -4.838500022888184, -5.141300201416016, -4.6132001876831055, -5.309500217437744, -5.5177998542785645, -5.240300178527832, -5.439000129699707, -5.449699878692627, -5.301400184631348, -5.345200061798096, -5.386499881744385, -5.4243998527526855, -4.8003997802734375, -5.093500137329102, -5.418700218200684, -5.460100173950195, -5.401199817657471, -5.516300201416016, -5.724299907684326, -5.369800090789795, -5.751800060272217, -5.803999900817871, -5.864299774169922, -5.877299785614014, -5.875800132751465, -5.652699947357178, -5.7221999168396, -5.981500148773193, -6.175899982452393, -6.245299816131592, -6.275400161743164, -6.281700134277344, -6.191500186920166, -6.284200191497803, -6.278200149536133, -6.317200183868408, -6.156099796295166, -6.288599967956543, -6.418399810791016, -6.4257001876831055, -5.111499786376953, -6.371399879455566, -5.797999858856201, -4.0808000564575195, -4.337100028991699, -5.843699932098389, -5.13100004196167, -6.0142998695373535, -3.7780001163482666, -4.076300144195557, -4.89139986038208, -4.207799911499023, -4.588399887084961, -5.630899906158447, -5.023099899291992, -4.220300197601318, -4.773099899291992, -4.851500034332275, -4.907199859619141, -3.5945000648498535, -4.430200099945068, -4.519499778747559, -4.080399990081787, -4.011099815368652, -4.74459981918335, -4.41379976272583, -4.334799766540527, -5.102700233459473, -5.079899787902832, -4.583700180053711, -4.537199974060059, -4.811200141906738, -4.974599838256836, -4.832099914550781, -4.889800071716309, -4.980199813842773, -5.075799942016602, -5.057600021362305, -5.345900058746338, -5.30620002746582, -5.5345001220703125, -5.583700180053711, -5.573200225830078, -5.5843000411987305, -5.8043999671936035, -5.817299842834473, -5.801700115203857, -5.901299953460693, -5.8744001388549805, -5.965099811553955, -5.882199764251709, -6.02810001373291, -6.099299907684326, -6.163000106811523, -6.233799934387207, -6.234000205993652, -6.293900012969971, -6.206999778747559, -6.304699897766113, -4.841700077056885, -6.3495001792907715, -6.361400127410889, -6.357600212097168, -6.390600204467773, -6.402599811553955, -5.577300071716309, -6.07480001449585, -5.439499855041504, -5.86329984664917, -3.1298000812530518, -5.462500095367432, -5.434500217437744, -5.742599964141846, -5.670000076293945, -5.667200088500977, -5.751699924468994, -5.845399856567383, -5.500999927520752, -5.87470006942749, -5.6356000900268555, -5.761099815368652, -3.921099901199341, -5.178299903869629, -3.648200035095215, -4.843800067901611, -3.609999895095825, -3.6275999546051025, -4.371300220489502, -4.046000003814697, -4.8902997970581055, -4.352700233459473, -5.394000053405762, -5.385700225830078, -4.787799835205078, -4.338600158691406, -4.101600170135498, -4.446899890899658, -4.777200222015381, -5.142300128936768, -5.172900199890137, -4.970200061798096, -4.976799964904785, -5.234099864959717, -5.014999866485596, -5.271900177001953, -5.284800052642822, -5.372000217437744, -5.34060001373291], \"loglift\": [30.0, 29.0, 28.0, 27.0, 26.0, 25.0, 24.0, 23.0, 22.0, 21.0, 20.0, 19.0, 18.0, 17.0, 16.0, 15.0, 14.0, 13.0, 12.0, 11.0, 10.0, 9.0, 8.0, 7.0, 6.0, 5.0, 4.0, 3.0, 2.0, 1.0, 2.2256, 2.2254, 2.2225, 2.2205, 2.2195, 2.2165, 2.2137, 2.213, 2.2125, 2.2123, 2.2108, 2.2099, 2.2097, 2.2072, 2.2049, 2.2037, 2.2013, 2.2001, 2.1996, 2.1982, 2.198, 2.198, 2.1935, 2.1923, 2.1893, 2.1892, 2.1887, 2.1884, 2.1867, 2.1865, 2.1598, 2.1594, 2.168, 2.0683, 2.15, 2.0514, 2.1284, 2.0707, 2.0309, 2.126, 1.9784, 1.9347, 1.982, 1.8379, 1.9181, 1.7439, 1.2929, 1.1779, 1.5534, 1.7033, 1.0575, 1.584, 1.4948, 0.9266, 1.4063, 0.9482, 0.7614, 1.0973, 0.5116, 0.831, 0.4586, 0.3206, 0.6391, 0.3144, 0.373, 0.452, 0.4743, 0.2527, -0.7179, 0.29, 0.5975, 0.8931, -0.1393, 2.2347, 2.2295, 2.2288, 2.2277, 2.2272, 2.2263, 2.2259, 2.2258, 2.2255, 2.2231, 2.223, 2.223, 2.2217, 2.2216, 2.2206, 2.2205, 2.2188, 2.2183, 2.2167, 2.2154, 2.215, 2.2146, 2.2146, 2.2142, 2.2139, 2.2139, 2.2134, 2.2134, 2.212, 2.2104, 2.2078, 2.1903, 2.2059, 2.1121, 2.0683, 2.1212, 2.0737, 2.1463, 2.1226, 2.099, 1.9255, 1.696, 2.1234, 1.8896, 1.6321, 1.9012, 1.9478, 1.7836, 0.861, 1.5202, 1.7908, 1.1427, 0.7228, 1.0214, 1.7809, 1.2808, 1.519, 1.1881, 1.058, 0.5179, 0.3551, 0.7906, 0.6066, 1.5866, 0.3421, 0.4213, 0.5887, 0.0733, -0.2536, -0.1193, 0.2341, -0.0164, 0.07, 0.0568, 2.2951, 2.2875, 2.2856, 2.2843, 2.2829, 2.2819, 2.2804, 2.2804, 2.2789, 2.2764, 2.2756, 2.2755, 2.2753, 2.2728, 2.2712, 2.271, 2.2692, 2.2654, 2.2638, 2.2635, 2.2634, 2.2618, 2.2616, 2.2611, 2.2609, 2.2601, 2.2589, 2.2567, 2.2559, 2.2556, 2.2479, 2.2421, 2.2544, 2.1997, 2.1517, 2.2186, 2.2247, 2.2206, 2.1944, 2.1235, 1.9144, 1.9799, 1.8464, 1.8289, 1.6149, 2.1109, 1.42, 0.8841, 1.4062, 0.9937, 1.2346, 1.7762, 1.3062, 1.0241, 1.3365, 0.9376, 0.9585, 0.8582, 0.9274, 0.9895, 1.3875, 1.0735, 0.9378, 0.2077, 0.9388, -0.0462, -0.0534, 0.7119, 0.278, 0.4829, -0.0822, 2.3541, 2.3475, 2.3455, 2.3449, 2.3443, 2.341, 2.3409, 2.3382, 2.3377, 2.3369, 2.3348, 2.334, 2.3331, 2.333, 2.3327, 2.3295, 2.3288, 2.3285, 2.3283, 2.3274, 2.327, 2.3264, 2.3263, 2.3263, 2.3257, 2.3254, 2.3238, 2.3229, 2.3228, 2.3211, 2.3151, 2.3012, 2.3169, 2.3211, 2.3019, 2.2298, 2.3118, 2.2685, 2.2631, 2.1972, 2.2565, 2.2984, 1.8972, 2.0785, 2.2256, 2.0446, 1.9742, 1.9109, 2.158, 1.9496, 1.7624, 1.2197, 1.5703, 1.2191, 1.4758, 0.9407, 0.5532, 0.8401, 1.0466, 0.7735, 0.739, 0.9643, 1.0353, 0.4373, 1.6513, 0.5883, 0.395, 0.168, -0.3373, 0.7439, 0.3174, 0.7008, -0.1746, 0.8725, 0.5569, 1.0428, -0.3219, 0.1478, 2.3991, 2.3978, 2.3974, 2.3969, 2.3938, 2.3906, 2.3884, 2.3874, 2.3868, 2.3867, 2.3849, 2.3847, 2.3821, 2.3817, 2.3802, 2.3796, 2.3778, 2.3772, 2.3766, 2.3752, 2.3749, 2.3728, 2.3721, 2.3712, 2.3707, 2.3692, 2.369, 2.3683, 2.3683, 2.3675, 2.3656, 2.2974, 2.3014, 2.3276, 2.3031, 2.2195, 2.2372, 2.1749, 2.301, 2.2561, 1.9412, 2.2748, 1.7133, 2.1718, 1.9869, 1.324, 2.1608, 1.6316, 1.805, 1.4001, 1.6461, 1.2491, 0.48, 1.839, 1.3975, 0.4334, 1.0531, 0.8094, 0.6118, 0.1145, 0.615, -0.3752, 0.7229, 0.2616, 1.0671, 0.0013, -0.1377, 0.586, 0.1713, 2.5625, 2.5607, 2.5578, 2.555, 2.5535, 2.5529, 2.5526, 2.5471, 2.5463, 2.5442, 2.5435, 2.5422, 2.5419, 2.5389, 2.5384, 2.5384, 2.5375, 2.5374, 2.5371, 2.535, 2.5347, 2.5324, 2.5314, 2.5301, 2.5299, 2.5296, 2.529, 2.5236, 2.5234, 2.5233, 2.5198, 2.5209, 2.5049, 2.5039, 2.5135, 2.4836, 2.432, 2.4688, 2.4679, 2.3927, 2.4605, 2.4214, 2.4677, 2.4536, 2.318, 2.4584, 2.078, 2.1562, 1.6299, 2.198, 2.1347, 1.6723, 1.8403, 1.2192, 1.9316, 0.799, 1.4344, 0.8476, 1.6232, 0.3327, 0.4978, 0.4004, 1.3004, -0.5325, 0.4262, 0.8601, 0.5878, -0.0325, 1.3659, 0.5984, 0.3906, 2.5741, 2.5707, 2.565, 2.5609, 2.5576, 2.5565, 2.5549, 2.5542, 2.5533, 2.5513, 2.5499, 2.5466, 2.5464, 2.5461, 2.5424, 2.5405, 2.5402, 2.5389, 2.5379, 2.5352, 2.5351, 2.5342, 2.5339, 2.5336, 2.5326, 2.5319, 2.5319, 2.5316, 2.5298, 2.5292, 2.5283, 2.5287, 2.475, 2.5271, 2.5198, 2.4268, 2.4773, 2.5017, 2.2592, 2.3624, 2.4675, 2.2338, 1.677, 2.0426, 2.2446, 1.8066, 1.7503, 2.1844, 1.1459, 1.6577, 1.9561, 0.57, 1.78, 0.5786, 1.8667, 0.6848, 1.6539, 0.4883, 0.1617, -0.5186, 0.1217, 0.2742, 0.416, -0.0006, 0.8921, 0.1266, 0.248, 2.569, 2.5637, 2.563, 2.5621, 2.562, 2.5594, 2.5592, 2.5556, 2.5551, 2.5532, 2.5523, 2.5514, 2.5512, 2.5509, 2.5501, 2.5435, 2.5435, 2.5425, 2.5418, 2.5413, 2.5411, 2.541, 2.5376, 2.5364, 2.5359, 2.5333, 2.5332, 2.5329, 2.5323, 2.5318, 2.5255, 2.5116, 2.4594, 2.5135, 2.5279, 2.4949, 2.4865, 2.4905, 2.4145, 2.4095, 2.4806, 1.9518, 2.3091, 2.2057, 2.0454, 2.2592, 1.359, 1.139, 1.7941, 1.1868, 1.5586, 0.3725, 1.2055, 0.6411, 1.4255, 1.03, 1.3084, 0.3565, 0.4778, 0.6386, 0.5013, 1.5302, 1.3176, 1.6315, 0.6635, -0.1058, 0.0513, 0.6343, 1.3981, -0.556, -0.3446, 2.5745, 2.5652, 2.5638, 2.5635, 2.5619, 2.5613, 2.5607, 2.5586, 2.5549, 2.5535, 2.5532, 2.5531, 2.5524, 2.5496, 2.549, 2.5483, 2.5479, 2.5456, 2.544, 2.5432, 2.5431, 2.5428, 2.5426, 2.5423, 2.5418, 2.5399, 2.5389, 2.5387, 2.5382, 2.5381, 2.5354, 2.538, 2.5306, 2.5116, 2.5279, 2.5189, 2.5298, 2.4743, 2.4724, 2.4952, 2.4242, 2.4936, 2.4467, 2.3512, 2.3649, 2.1837, 2.2916, 2.1396, 2.3243, 2.2902, 1.9358, 2.0062, 1.9886, 0.9087, 2.2222, 1.9449, 0.8705, 1.74, 0.8404, 0.8506, 1.0714, 1.4514, 0.3913, -0.2565, 0.8083, 1.3585, 0.507, 1.5965, 0.4786, -0.1381, -0.1883, 2.6162, 2.6145, 2.6126, 2.6115, 2.6085, 2.6045, 2.6044, 2.6033, 2.6024, 2.6015, 2.6013, 2.5961, 2.595, 2.5939, 2.5929, 2.5925, 2.5919, 2.5909, 2.5896, 2.5881, 2.5874, 2.5868, 2.5862, 2.5847, 2.5845, 2.5812, 2.5805, 2.5801, 2.5797, 2.5794, 2.5788, 2.5637, 2.5609, 2.4697, 2.529, 2.4941, 2.0525, 2.5556, 2.2746, 2.4463, 2.1256, 2.5039, 2.0051, 1.5202, 1.0094, 2.1228, 2.1108, 1.7961, 0.9823, 1.4535, 0.8792, 0.706, 2.0103, 0.4036, 0.8444, 0.8521, 0.6843, 1.2112, 0.0849, 1.4053, 1.8587, 0.6196, 1.415, 1.2506, -0.2536, -0.5052, -0.7043, 0.0348, 2.6473, 2.6439, 2.6389, 2.6381, 2.6356, 2.6327, 2.6324, 2.6309, 2.6305, 2.6303, 2.6286, 2.6283, 2.6274, 2.624, 2.6236, 2.6236, 2.6184, 2.6157, 2.6144, 2.6142, 2.6141, 2.6141, 2.6129, 2.6126, 2.6122, 2.6119, 2.608, 2.6064, 2.6061, 2.6058, 2.6032, 2.557, 2.5556, 2.5923, 2.5507, 2.5893, 2.3123, 2.3457, 2.4311, 2.3181, 2.3169, 2.4863, 2.3296, 2.1055, 2.2426, 2.2093, 2.2142, 1.4773, 1.8322, 1.8142, 1.3305, 1.0367, 1.586, 0.971, 0.8168, 1.8057, 1.7287, 0.1144, -0.4777, 0.0287, 0.6323, -0.1499, 0.1027, -0.0656, 0.7001, 2.7621, 2.7579, 2.7578, 2.754, 2.7527, 2.7519, 2.7491, 2.7469, 2.7465, 2.7448, 2.7438, 2.7425, 2.7417, 2.7415, 2.7394, 2.7367, 2.7341, 2.731, 2.731, 2.7282, 2.7278, 2.7277, 2.7258, 2.7254, 2.7248, 2.7241, 2.7233, 2.7227, 2.7218, 2.7217, 2.7092, 2.7144, 2.6432, 2.6992, 2.6924, 2.7026, 2.6918, 2.6851, 2.6866, 2.6955, 2.6545, 2.6907, 2.6051, 2.6365, 1.862, 2.3923, 1.6907, 2.1377, 1.4378, 1.0705, 1.539, 1.0821, 1.7839, 1.17, 2.2588, 2.1915, 1.3025, 0.5014, -0.042, 0.5455, 0.9234, 1.6281, 1.4739, 0.7281, 0.4341, 1.5272, 0.4326, 0.3349, 0.0639, 1.6192, -0.6584]}, \"token.table\": {\"Topic\": [8, 4, 11, 12, 3, 9, 2, 2, 7, 2, 4, 5, 6, 7, 8, 9, 12, 7, 6, 1, 3, 6, 12, 1, 5, 12, 2, 9, 5, 12, 3, 7, 9, 11, 4, 5, 6, 9, 10, 12, 10, 3, 8, 12, 5, 3, 3, 4, 9, 6, 11, 6, 11, 1, 4, 5, 6, 8, 5, 10, 1, 2, 3, 4, 5, 6, 7, 8, 9, 10, 11, 12, 4, 6, 9, 12, 2, 1, 3, 4, 6, 9, 10, 5, 2, 3, 6, 6, 7, 6, 4, 2, 3, 5, 7, 8, 10, 11, 12, 2, 1, 2, 4, 5, 6, 8, 9, 10, 11, 12, 12, 1, 5, 7, 3, 1, 2, 3, 4, 7, 8, 9, 1, 2, 3, 4, 5, 6, 7, 8, 9, 10, 11, 12, 4, 2, 4, 6, 7, 8, 9, 12, 2, 3, 4, 8, 10, 3, 6, 7, 1, 2, 4, 5, 11, 4, 8, 11, 1, 2, 3, 4, 5, 6, 7, 8, 9, 10, 11, 12, 9, 1, 2, 3, 4, 5, 6, 7, 8, 9, 10, 11, 12, 3, 4, 7, 9, 11, 6, 12, 1, 2, 3, 4, 5, 6, 8, 9, 10, 11, 9, 9, 11, 4, 6, 8, 6, 3, 5, 8, 11, 2, 3, 4, 5, 10, 12, 6, 1, 2, 3, 4, 5, 7, 8, 10, 12, 2, 4, 5, 7, 8, 12, 7, 1, 4, 5, 6, 7, 9, 10, 12, 1, 3, 4, 5, 6, 7, 8, 10, 11, 12, 1, 2, 3, 4, 5, 6, 7, 8, 9, 10, 11, 12, 1, 2, 3, 4, 5, 6, 9, 10, 11, 12, 9, 12, 1, 2, 3, 4, 5, 6, 7, 8, 9, 10, 11, 12, 3, 4, 11, 1, 2, 3, 4, 6, 7, 8, 9, 10, 11, 12, 1, 2, 3, 4, 5, 6, 7, 8, 9, 10, 11, 12, 7, 10, 9, 4, 1, 6, 10, 11, 2, 3, 6, 7, 8, 9, 11, 11, 7, 2, 4, 6, 9, 12, 1, 2, 3, 4, 5, 6, 7, 8, 9, 10, 11, 12, 8, 10, 1, 2, 3, 4, 5, 6, 7, 8, 9, 10, 11, 1, 2, 3, 4, 5, 7, 8, 10, 11, 2, 6, 10, 3, 9, 11, 1, 8, 12, 9, 11, 1, 2, 3, 4, 5, 6, 7, 9, 10, 11, 12, 1, 3, 4, 5, 6, 8, 9, 11, 9, 10, 2, 4, 7, 8, 10, 5, 2, 8, 2, 6, 9, 1, 3, 5, 10, 11, 2, 5, 7, 8, 11, 1, 2, 3, 4, 5, 6, 7, 8, 9, 11, 12, 1, 2, 3, 4, 5, 6, 7, 8, 9, 10, 11, 12, 8, 1, 4, 10, 1, 2, 3, 4, 5, 6, 7, 8, 9, 10, 11, 12, 1, 9, 11, 1, 7, 2, 4, 6, 7, 8, 9, 12, 4, 8, 1, 2, 4, 6, 10, 11, 12, 8, 10, 12, 1, 2, 7, 10, 11, 8, 1, 7, 8, 7, 6, 10, 2, 3, 1, 2, 5, 6, 11, 1, 2, 3, 5, 6, 9, 10, 11, 12, 2, 6, 7, 9, 10, 2, 3, 8, 10, 4, 1, 10, 1, 5, 6, 7, 12, 4, 5, 9, 1, 2, 3, 4, 5, 6, 7, 8, 9, 10, 11, 12, 2, 7, 5, 1, 3, 5, 9, 11, 1, 2, 4, 5, 7, 8, 9, 10, 7, 1, 3, 3, 4, 6, 2, 3, 4, 5, 7, 8, 9, 10, 11, 1, 2, 3, 4, 5, 6, 7, 8, 9, 10, 11, 12, 1, 2, 3, 4, 5, 6, 7, 9, 10, 11, 12, 4, 4, 1, 2, 3, 6, 7, 8, 9, 10, 12, 1, 12, 1, 4, 5, 1, 2, 7, 8, 10, 1, 2, 3, 4, 5, 6, 7, 8, 9, 10, 11, 12, 8, 6, 4, 1, 5, 6, 7, 12, 1, 2, 5, 1, 2, 4, 5, 7, 8, 9, 10, 12, 1, 3, 6, 12, 1, 2, 3, 4, 5, 6, 7, 8, 9, 10, 11, 12, 8, 10, 8, 12, 1, 1, 2, 8, 9, 11, 1, 2, 3, 4, 5, 6, 7, 8, 9, 10, 11, 12, 12, 3, 4, 5, 7, 2, 7, 9, 1, 1, 2, 3, 4, 5, 6, 8, 9, 10, 12, 1, 2, 3, 4, 5, 6, 7, 8, 9, 10, 11, 12, 1, 2, 3, 4, 5, 6, 7, 8, 9, 10, 11, 12, 4, 1, 2, 3, 4, 5, 9, 10, 11, 12, 1, 2, 3, 4, 5, 6, 8, 9, 10, 11, 12, 1, 2, 3, 4, 5, 6, 7, 8, 9, 10, 11, 12, 7, 5, 8, 2, 10, 2, 5, 10, 11, 1, 2, 3, 4, 5, 6, 7, 8, 9, 10, 11, 12, 2, 6, 1, 2, 3, 4, 5, 6, 7, 8, 9, 10, 2, 8, 9, 3, 5, 8, 10, 3, 8, 3, 4, 7, 12, 8, 10, 4, 9, 1, 2, 3, 4, 5, 6, 7, 8, 9, 10, 11, 12, 1, 9, 4, 10, 11, 4, 1, 6, 8, 12, 6, 9, 1, 12, 2, 1, 4, 9, 6, 10, 8, 10, 8, 11, 10, 10, 1, 2, 5, 7, 8, 9, 10, 11, 3, 5, 6, 8, 11, 12, 1, 2, 3, 4, 5, 6, 7, 8, 9, 10, 12, 1, 2, 3, 4, 5, 6, 7, 8, 9, 10, 11, 12, 1, 1, 2, 3, 4, 5, 7, 8, 9, 10, 11, 12, 1, 2, 3, 4, 5, 6, 7, 8, 9, 4, 5, 8, 9, 10, 12, 1, 2, 3, 4, 5, 6, 7, 8, 9, 10, 11, 12, 3, 4, 7, 1, 2, 3, 4, 7, 8, 11, 1, 4, 5, 8, 12, 9, 1, 2, 3, 6, 8, 10, 11, 2, 3, 4, 9, 11, 2, 3, 2, 1, 9, 2, 6, 8, 5, 1, 2, 3, 4, 5, 6, 7, 8, 9, 10, 11, 12, 1, 2, 3, 5, 7, 8, 1, 2, 3, 4, 5, 6, 7, 8, 9, 10, 11, 12, 10, 2, 4, 6, 12, 1, 8, 11, 3, 11, 2, 1, 2, 7, 8, 9, 11, 12, 10, 1, 3, 4, 5, 6, 7, 11, 12, 1, 7, 8, 11, 12, 12, 2, 4, 5, 6, 9, 10, 1, 2, 3, 5, 6, 7, 8, 9, 10, 11, 12, 5, 10, 12, 2, 9, 10, 12, 5, 3, 6, 1, 3, 4, 5, 6, 7, 8, 9, 10, 12, 8, 3, 1, 2, 4, 1, 5, 7, 1, 2, 3, 4, 5, 6, 7, 8, 9, 10, 11, 12, 1, 2, 3, 4, 5, 6, 7, 8, 9, 10, 11, 12, 1, 2, 3, 4, 5, 6, 7, 8, 9, 10, 11, 12, 12, 8, 9, 1, 9, 10, 3, 5, 5, 1, 5, 10, 11, 12, 3, 5, 10, 12, 8, 11, 4, 5, 6, 9, 1, 2, 3, 5, 6, 7, 8, 10, 12, 1, 2, 3, 4, 5, 6, 7, 8, 9, 10, 11, 12, 1, 2, 3, 4, 5, 6, 7, 8, 9, 10, 11, 12, 1, 2, 3, 4, 5, 6, 7, 8, 9, 10, 11, 12, 9, 1, 3, 4, 5, 6, 8, 9, 10, 11, 12, 1, 2, 3, 5, 10, 11, 1, 2, 3, 4, 5, 6, 7, 8, 9, 10, 11, 12, 4, 1, 2, 7, 8, 7, 11, 2, 8, 12, 1, 5, 3, 2, 3, 5, 9, 1, 2, 3, 4, 5, 8, 9, 10, 11, 12, 10, 1, 2, 3, 4, 5, 6, 7, 8, 9, 10, 11, 12, 3, 1, 3, 5, 8, 9, 10, 11, 12, 1, 3, 6, 7, 8, 9, 10, 11, 12, 11, 9, 1, 2, 3, 4, 5, 6, 7, 8, 9, 10, 11, 12, 4, 4, 1, 1, 2, 3, 4, 6, 7, 8, 9, 10, 11, 1, 2, 3, 4, 5, 6, 7, 8, 9, 10, 11, 11, 12, 10, 1, 1, 2, 3, 4, 7, 8, 9, 11, 2, 3, 8, 12, 1, 6, 7, 9, 1, 2, 3, 4, 5, 6, 7, 8, 9, 12, 1, 9, 8, 1, 4, 5, 6, 8, 10, 12, 9, 4, 5, 10, 1, 5, 8, 10, 11, 12, 4, 1, 4, 11, 1, 2, 5, 5, 7, 9, 4, 7, 9, 12, 1, 2, 3, 6, 7, 8, 9, 10, 11, 12, 11, 1, 2, 3, 4, 6, 7, 8, 9, 10, 11, 12, 1, 2, 3, 4, 5, 6, 7, 8, 9, 10, 11, 12, 8, 1, 1, 2, 4, 5, 6, 7, 8, 9, 10, 12, 1, 3, 4, 10, 1, 2, 3, 4, 5, 7, 8, 9, 12, 2, 1, 2, 5, 12, 1, 2, 3, 4, 5, 6, 7, 8, 9, 10, 11, 12, 1, 2, 4, 5, 6, 8, 9, 1, 2, 3, 4, 5, 6, 7, 8, 9, 10, 11, 12, 3, 6, 1, 5, 1, 2, 4, 6, 7, 8, 9, 12, 2, 3, 4, 5, 6, 7, 8, 9, 11, 12, 2, 3, 6, 5, 4, 7, 1, 3, 4, 5, 7, 8, 3, 3, 7, 8, 9, 9, 4, 6, 12, 5, 7, 1, 11, 10, 2, 9, 9, 1, 4, 9, 10, 11, 9, 1, 2, 3, 4, 5, 6, 7, 8, 9, 10, 11, 12, 4, 11, 2, 6, 8, 3, 7, 9, 11, 4, 5, 7, 8, 9, 10, 12, 4, 5, 6, 7, 8, 10, 11, 12, 1, 2, 3, 4, 5, 6, 7, 8, 9, 10, 11, 12, 1, 2, 11, 2, 2, 2, 3, 4, 6, 9, 11, 12, 5, 1, 2, 3, 4, 5, 6, 7, 8, 9, 10, 11, 12, 4, 6, 1, 2, 3, 4, 5, 6, 8, 9, 10, 11, 12, 2, 3, 6, 12, 1, 4, 5, 8, 10, 12, 3, 4, 12, 3, 9, 3, 5, 5, 12, 1, 9, 12, 1, 12, 1, 2, 3, 4, 5, 6, 8, 9, 11, 12, 9, 3, 3, 7, 10, 2, 6, 7, 1, 3, 5, 6, 9, 10, 11, 12, 1, 5, 12, 5, 7, 10, 12, 1, 6, 11, 2, 1, 2, 8, 1, 5, 7, 1, 2, 3, 4, 5, 6, 7, 9, 12, 10, 2, 7, 12, 4, 1, 2, 3, 5, 6, 8, 9, 10, 1, 2, 3, 4, 5, 6, 7, 8, 9, 11, 12, 8, 1, 2, 3, 4, 5, 6, 7, 8, 9, 10, 11, 12, 7, 1, 2, 3, 4, 5, 6, 7, 8, 9, 10, 12, 2, 4, 1, 2, 3, 4, 5, 6, 7, 8, 9, 10, 11, 12, 9, 10, 4, 7, 8, 8, 7, 1, 2, 3, 4, 5, 6, 7, 8, 9, 10, 11, 12, 4, 11, 1, 5, 9, 7, 5, 11, 1, 2, 3, 4, 5, 6, 7, 8, 9, 10, 11, 12, 8, 12, 6, 7, 11, 7, 11, 1, 2, 3, 5, 6, 7, 8, 9, 10, 11, 12, 12, 1, 2, 3, 4, 8, 9, 11, 12, 1, 2, 4, 5, 7, 9, 11, 4, 9, 10, 1, 5, 6, 7, 9, 4, 1, 8, 9, 6, 11, 3, 6, 8, 9, 10, 3, 4, 3, 1, 2, 3, 4, 5, 6, 8, 10, 12, 2, 7, 10, 11, 4, 7, 2, 4, 9, 12, 6, 9, 10, 5, 2, 3, 7, 10, 12, 1, 10, 1, 2, 5, 8, 6, 6, 1, 2, 3, 5, 7, 9, 11, 10, 3, 3, 8, 1, 4, 10, 11, 7, 1, 2, 6, 7, 8, 9, 3, 7, 11, 6, 9, 3, 10, 4, 11, 12, 1, 2, 3, 4, 5, 6, 7, 8, 9, 10, 11, 12, 1, 2, 3, 8, 9, 12, 1, 2, 3, 4, 5, 6, 7, 9, 11, 12, 7, 1, 2, 3, 4, 5, 6, 7, 8, 9, 10, 11, 12, 2, 3, 8, 9, 10, 11, 1, 2, 4, 5, 7, 8, 9, 10, 11, 1, 2, 7, 8, 9, 11, 10, 12, 1, 3, 5, 11, 2, 4, 6, 9, 12, 1, 2, 3, 4, 5, 6, 7, 8, 9, 10, 12, 1, 2, 3, 4, 5, 6, 7, 8, 9, 11, 12, 2, 3, 4, 5, 8, 11, 12, 12, 3, 3, 8, 6, 2, 1, 2, 4, 7, 9, 10, 12, 10, 1, 2, 3, 4, 5, 8, 9, 10, 11, 12, 1, 2, 3, 4, 5, 6, 7, 8, 9, 10, 12, 8, 1, 2, 3, 4, 5, 6, 7, 8, 9, 10, 12, 1, 5, 7, 8, 10, 11, 12, 10, 2, 5, 9, 10, 11, 5, 5, 1, 2, 4, 5, 6, 7, 8, 9, 10, 11, 12, 12, 8, 2, 4, 5, 7, 8, 9, 10, 12, 7, 6, 4, 2, 3, 4, 5, 6, 7, 10, 11, 12, 5, 10, 2, 5, 6, 8, 12, 1, 3, 4, 5, 7, 8, 9, 8, 1, 9, 11, 1, 2, 3, 4, 5, 6, 7, 8, 9, 10, 11, 12, 1, 7, 1, 3, 4, 5, 6, 7, 8, 9, 10, 12, 6, 8, 3, 4, 5, 7, 8, 9, 12, 1, 2, 3, 4, 5, 7, 8, 9, 10, 5, 7, 8, 4, 5, 8, 9, 10, 7, 6, 1, 1, 2, 3, 4, 5, 6, 7, 8, 9, 10, 11, 12, 1, 2, 3, 4, 7, 8, 9, 1, 2, 3, 4, 7, 8, 9, 10, 11, 12, 1, 2, 4, 6, 8, 9, 10, 11, 7, 1, 2, 3, 4, 5, 6, 8, 9, 11, 12, 4, 11, 9, 11, 2, 5, 7, 8, 1, 6, 5, 4, 5, 7, 8, 9, 10, 12, 11, 2, 3, 4, 7, 8, 10, 1, 2, 3, 4, 5, 6, 7, 8, 9, 10, 11, 12, 2, 10, 1, 2, 3, 4, 5, 6, 7, 10, 11, 12, 11, 2, 4, 5, 8, 10, 11, 12, 7, 1, 6, 1, 5, 4, 3, 9, 12, 2, 7, 2, 10, 11, 1, 2, 3, 5, 6, 7, 8, 9, 10, 11, 12, 5, 6, 9, 1, 2, 4, 8, 11, 1, 2, 3, 4, 5, 6, 7, 9, 10, 11, 9, 11, 3, 4, 1, 5, 7, 5, 9, 2, 3, 4, 6, 7, 8, 10, 1, 2, 3, 4, 5, 7, 8, 9, 11, 12, 3, 6, 4, 5, 8, 1, 3, 5, 7, 8, 10, 12, 5, 8, 12, 1, 12, 4, 6, 12, 1, 2, 3, 4, 5, 6, 7, 8, 9, 10, 11, 12, 1, 8, 1, 3, 4, 5, 10, 3, 4, 2, 3, 5, 7, 10, 11, 9, 1, 4, 2, 1, 3, 6, 7, 10, 7, 11, 2, 6, 3, 1, 4, 10, 6, 1, 2, 3, 4, 7, 8, 9, 10, 11, 1, 2, 3, 4, 5, 6, 7, 8, 9, 10, 11, 12, 1, 2, 3, 4, 5, 6, 7, 8, 9, 10, 11, 12, 1, 2, 3, 4, 5, 6, 7, 8, 9, 10, 11, 12, 2, 5, 8, 10, 12, 12, 4, 6, 12, 2, 3, 4, 5, 7, 8, 11, 12, 8, 8, 8, 1, 5, 6, 9, 10, 1, 2, 3, 4, 5, 6, 7, 8, 9, 10, 11, 12, 1, 4, 5, 11, 1, 2, 4, 5, 6, 7, 8, 9, 10, 12, 1, 1, 2, 3, 4, 5, 7, 8, 10, 11, 4, 10, 1, 9, 3, 9, 8, 11, 5, 4, 5, 6, 7, 9, 10, 11, 12, 1, 6, 8, 2, 4, 7, 9, 5, 1, 2, 3, 4, 5, 6, 7, 8, 9, 10, 12, 12, 7, 1, 3, 5, 7, 1, 2, 3, 4, 5, 7, 8, 9, 11, 12, 6, 12, 2, 3, 9, 11, 2, 8, 10, 11, 12, 1, 2, 3, 4, 5, 6, 7, 8, 9, 10, 11, 12, 4, 9, 12, 3, 7, 1, 3, 4, 5, 6, 8, 9, 10, 11, 12, 8, 1, 2, 3, 5, 7, 8, 9, 11, 12, 1, 2, 3, 4, 5, 6, 7, 8, 9, 10, 11, 12, 7, 1, 2, 3, 4, 5, 6, 7, 8, 9, 10, 11, 12, 4, 5, 6, 11, 4, 5, 9, 10, 12, 2, 12, 3, 4, 6, 9, 10, 11, 3, 4, 6, 7, 9, 12, 6, 8, 1, 4, 8, 2, 3, 4, 5, 7, 9, 11, 12], \"Freq\": [0.9619715360752097, 0.9457502479502097, 0.988156490810176, 0.9702188004582692, 0.9504458224539772, 0.030014078603809807, 0.9628012439360929, 0.026411630328621805, 0.950818691830385, 0.04721456258318269, 0.6232322260980115, 0.014164368774954807, 0.17941533781609423, 0.023607281291591346, 0.004721456258318269, 0.014164368774954807, 0.08970766890804711, 0.9494068487855177, 0.9523258262911204, 0.018663131363062274, 0.018663131363062274, 0.018663131363062274, 0.9331565681531137, 0.008482036240454596, 0.5598143918700033, 0.4241018120227298, 0.9629580271024539, 0.9581409159869779, 0.9664621330084593, 0.9795330197016077, 0.9729081795734138, 0.8964345863843223, 0.06290769027258401, 0.015726922568146003, 0.03322384144787752, 0.011074613815959172, 0.17719382105534676, 0.7419991256692646, 0.011074613815959172, 0.022149227631918345, 0.9725215443982063, 0.0718108590252239, 0.023936953008407966, 0.8617303083026868, 0.9751428842097962, 0.970229838355774, 0.018203607793166595, 0.8009587428993302, 0.16383247013849936, 0.9486910933654714, 0.9906066716581735, 0.9812281963486819, 0.9758871454508874, 0.012256655575208724, 0.0490266223008349, 0.012256655575208724, 0.18384983362813087, 0.7231426789373148, 0.9800991694755402, 0.0073141729065338825, 0.06168830683455359, 0.23282360966589583, 0.0915374875609505, 0.007959781527039174, 0.007959781527039174, 0.01989945381759793, 0.10148721446974945, 0.01790950843583814, 0.0895475421791907, 0.0019899453817597934, 0.07959781527039173, 0.2905320257369298, 0.020803994465165978, 0.020803994465165978, 0.956983745397635, 0.948257237083298, 0.9829167685590147, 0.09754394586293169, 0.010838216206992409, 0.661131188626537, 0.2059261079328558, 0.010838216206992409, 0.010838216206992409, 0.9582521640777266, 0.9748325371516399, 0.9760402282398908, 0.9438528320740648, 0.9692721548483549, 0.9590205485579354, 0.9719982324839767, 0.9640633238599557, 0.21446501732353132, 0.14297667821568755, 0.015886297579520838, 0.49247522496514595, 0.007943148789760419, 0.07148833910784377, 0.04765889273856251, 0.007943148789760419, 0.9675938648516607, 0.029609120618218337, 0.011843648247287335, 0.011843648247287335, 0.1480456030910917, 0.005921824123643667, 0.15396742721473536, 0.5566514676225047, 0.005921824123643667, 0.06514006536008034, 0.005921824123643667, 0.9681830361338287, 0.2027657315580604, 0.7834130537470516, 0.9610098686445594, 0.9446341597349832, 0.009019366629656717, 0.013529049944485075, 0.004509683314828358, 0.004509683314828358, 0.8974269796508433, 0.03156778320379851, 0.036077466518626866, 0.01761729921696313, 0.29244716700158796, 0.12508282444043822, 0.16384088271775712, 0.021140759060355757, 0.05637535749428202, 0.059898817337674645, 0.04404324804240783, 0.003523459843392626, 0.05109016772919308, 0.13917666381400873, 0.026425948825444696, 0.975488935185027, 0.572351780569373, 0.1336629906718895, 0.11309945364544495, 0.0651178672504077, 0.023990793197518626, 0.006854512342148179, 0.08225414810577815, 0.6298542093800158, 0.253477913530982, 0.0076811488948782414, 0.10753608452829537, 0.9485550574912252, 0.9584881809666814, 0.9373352720040568, 0.0367582459609434, 0.770921886089846, 0.09636523576123075, 0.07008380782634964, 0.01752095195658741, 0.03504190391317482, 0.011698895875419793, 0.08189227112793855, 0.900814982407324, 0.15374467052082036, 0.07422156507901673, 0.022973341572076606, 0.008835900604644849, 0.01590462108836073, 0.0070687204837158795, 0.0053015403627869094, 0.5319212163996199, 0.008835900604644849, 0.0759887451999457, 0.01590462108836073, 0.07952310544180365, 0.9563588799356504, 0.20169056483913994, 0.13279006132266355, 0.09395523206792233, 0.09646070492306692, 0.06388955780618719, 0.032571147116879744, 0.07265871279919327, 0.022549255696301358, 0.041340302109885825, 0.06138408495104259, 0.08518607707491624, 0.09646070492306692, 0.18939207705683497, 0.040584016512178925, 0.716984291715161, 0.013528005504059642, 0.027056011008119284, 0.8852616935138665, 0.09836241039042962, 0.1738490902822723, 0.03579245976399724, 0.12783021344284728, 0.04090566830171113, 0.015339625613141674, 0.1789622988199862, 0.11249058782970561, 0.010226417075427782, 0.2965660951874057, 0.015339625613141674, 0.9529952432342281, 0.9503947602854622, 0.030657895493079425, 0.09862748873622035, 0.8506620903499005, 0.024656872184055087, 0.9624905766047608, 0.955486387285484, 0.040573867493907505, 0.9331989523598727, 0.01352462249796917, 0.010976349143221683, 0.938477851745454, 0.02744087285805421, 0.0018293915238702806, 0.0018293915238702806, 0.016464523714832525, 0.969562272242739, 0.10883081615137491, 0.01484056583882385, 0.01484056583882385, 0.45016383044432345, 0.12367138199019875, 0.10883081615137491, 0.02473427639803975, 0.1385119478290226, 0.019787421118431802, 0.06533088565852467, 0.3121364537018401, 0.5444240471543723, 0.00725898729539163, 0.05807189836313304, 0.00725898729539163, 0.9911925759337147, 0.022688086724661646, 0.11344043362330823, 0.14180054202913528, 0.14180054202913528, 0.011344043362330823, 0.005672021681165412, 0.43107364776857127, 0.13045649866680448, 0.09283788011217377, 0.13681371806004555, 0.05374824638073218, 0.03420342951501139, 0.19056196444077772, 0.04886204216430198, 0.03420342951501139, 0.009772408432860397, 0.3957825415308461, 0.004886204216430198, 0.03138082739497022, 0.08170856944350738, 0.09414248218491068, 0.1628250478040908, 0.10006339301415035, 0.002368364331695866, 0.13381258474081642, 0.017762732487718997, 0.038485920390057826, 0.07815602294596358, 0.07874811402888755, 0.18117987137473376, 0.051661670107845385, 0.07901196604729294, 0.009116765313149186, 0.13675147969723778, 0.0030389217710497284, 0.1610628538656356, 0.0425449047946962, 0.0030389217710497284, 0.4315268914890614, 0.07901196604729294, 0.05661636819867745, 0.9058618911788392, 0.05576806780055132, 0.1090012234283503, 0.2585610416207379, 0.2395492003250954, 0.012674560863761663, 0.059570436059679814, 0.026616577813899492, 0.08365210170082697, 0.007604736518256997, 0.07477990909619381, 0.035488770418532656, 0.03675622650490882, 0.9148882561720498, 0.022872206404301248, 0.022872206404301248, 0.005204037324926761, 0.010408074649853521, 0.04683633592434085, 0.005204037324926761, 0.0017346791083089202, 0.010408074649853521, 0.017346791083089202, 0.0017346791083089202, 0.0017346791083089202, 0.026020186624633804, 0.8742782705876958, 0.05190171096080634, 0.022511585476976244, 0.24012357842107995, 0.06659677370272139, 0.061594199152282224, 0.04471051004455004, 0.04502317095395249, 0.10974397920025919, 0.05784226823945285, 0.1966637120141397, 0.04345986640694025, 0.05971823369586754, 0.9858486083194238, 0.948298833313895, 0.9505364208109816, 0.9632558281118287, 0.26147516376833096, 0.0147309951418778, 0.00368274878546945, 0.7107705155956039, 0.1952923590268283, 0.12427695574434527, 0.3861462553485014, 0.13315388115465565, 0.10208464221856933, 0.05326155246186226, 0.9706872128073062, 0.9684187924536076, 0.9800805377666414, 0.013904312320653927, 0.004634770773551309, 0.9547627793515696, 0.023173853867756545, 0.004634770773551309, 0.12430209712632229, 0.03712919784292744, 0.07264408273616238, 0.009685877698154982, 0.3357770935360394, 0.02421469424538746, 0.10331602878031983, 0.1097732805790898, 0.09847308993124233, 0.006457251798769989, 0.02421469424538746, 0.0548866402895449, 0.9348604480691933, 0.023970780719722903, 0.13314077876788444, 0.018577783083890853, 0.06502224079361799, 0.05882964643232104, 0.006192594361296952, 0.009288891541945427, 0.07431113233556341, 0.20125931674215092, 0.003096297180648476, 0.2415111800905811, 0.18887412801955702, 0.006205541080641215, 0.8687757512897701, 0.006205541080641215, 0.018616623241923647, 0.006205541080641215, 0.01241108216128243, 0.006205541080641215, 0.06205541080641216, 0.006205541080641215, 0.04304747987998418, 0.8824733375396757, 0.06457121981997628, 0.01972992671974263, 0.9667664092673888, 0.9741615966516445, 0.022874669375064938, 0.022874669375064938, 0.9149867750025975, 0.950811178596536, 0.9499309674299863, 0.1388262957591509, 0.10709457101420211, 0.10312810542108351, 0.06742991508301614, 0.07139638067613474, 0.29748491948389477, 0.09519517423484633, 0.011899396779355791, 0.007932931186237193, 0.09122870864172773, 0.0039664655931185965, 0.22934324665428849, 0.006745389607479073, 0.04047233764487444, 0.02023616882243722, 0.006745389607479073, 0.14165318175706054, 0.546376558205805, 0.006745389607479073, 0.9267913878631503, 0.9741897578950618, 0.35253767666612085, 0.004638653640343695, 0.3989242130695578, 0.15307557013134196, 0.08813441916653021, 0.9701657871926744, 0.8708218933220874, 0.07740639051751888, 0.005131333096243123, 0.005131333096243123, 0.9852159544786796, 0.006967965429246957, 0.006967965429246957, 0.006967965429246957, 0.975515160094574, 0.006967965429246957, 0.005314504707990543, 0.047830542371914885, 0.03188702824794326, 0.005314504707990543, 0.9034658003583923, 0.004285249407630755, 0.0021426247038153776, 0.1349853563403688, 0.042852494076307555, 0.4970889312851676, 0.059993491706830576, 0.12212960811747653, 0.05142299289156907, 0.07284923992972285, 0.004285249407630755, 0.006427874111446134, 0.05670401488756512, 0.005968843672375276, 0.0626728585599404, 0.0387974838704393, 0.36409946401489185, 0.05073517121518985, 0.11340802977513025, 0.002984421836187638, 0.11042360793894261, 0.12236129528369316, 0.032828640198064016, 0.0387974838704393, 0.9826745171344298, 0.9409999040418862, 0.9579727972029966, 0.9806488956032379, 0.07652007805705038, 0.07158329882756326, 0.4986147021781993, 0.012341948073717805, 0.09873558458974244, 0.002468389614743561, 0.03208906499166629, 0.004936779229487122, 0.09379880536025531, 0.09133041574551175, 0.012341948073717805, 0.004936779229487122, 0.02213713790354989, 0.9297597919490953, 0.04427427580709978, 0.3109806713096815, 0.6760449376297423, 0.004445260542015011, 0.026671563252090066, 0.1555841189705254, 0.11113151355037527, 0.45341657528553114, 0.06667890813022517, 0.17336516113858544, 0.9304197693281854, 0.031013992310939514, 0.021536781138284774, 0.12922068682970864, 0.053841952845711936, 0.6891769964251128, 0.010768390569142387, 0.06461034341485432, 0.03230517170742716, 0.055002980288954964, 0.8617133578602943, 0.055002980288954964, 0.1208406973634899, 0.17262956766212845, 0.5351516597525982, 0.034525913532425685, 0.1208406973634899, 0.9407610102315868, 0.9396789367290879, 0.027922893326982643, 0.9633398197809011, 0.9490605038145313, 0.030127869880165345, 0.9339639662851257, 0.9601278465177729, 0.025949401257237107, 0.038395621409705, 0.8370245467315689, 0.061432994255528, 0.007679124281941, 0.053753869973587, 0.12943373071860184, 0.11420623298700162, 0.3959149410216056, 0.10659248412120151, 0.003806874432900054, 0.07994436309090114, 0.14466122845020205, 0.011420623298700163, 0.011420623298700163, 0.019276698062120335, 0.9252815069817761, 0.009638349031060168, 0.028915047093180504, 0.009638349031060168, 0.9789268530194335, 0.04273860921364287, 0.416701439833018, 0.5342326151705359, 0.9514081966927797, 0.07377671688941555, 0.9099128416361251, 0.8252552243968226, 0.10764198579088992, 0.03588066193029664, 0.01794033096514832, 0.00897016548257416, 0.07653496514960485, 0.021867132899887103, 0.8856188824454276, 0.049514675072396964, 0.020530475030018255, 0.031399550045910274, 0.21617382531607457, 0.007246050010594678, 0.07246050010594678, 0.047099325068865404, 0.12197517517834375, 0.026568850038847153, 0.04589165006709963, 0.2656885003884715, 0.09661400014126237, 0.9713225826209052, 0.9601408653909143, 0.9567214188704011, 0.02054496424066406, 0.04108992848132812, 0.02054496424066406, 0.9039784265892186, 0.948080787448185, 0.01252306475082635, 0.01252306475082635, 0.01252306475082635, 0.11270758275743714, 0.037569194252479045, 0.0250461295016527, 0.7639069498004073, 0.01252306475082635, 0.95550560340019, 0.9838987534213509, 0.9632403643270506, 0.028309105495827446, 0.9483550341102195, 0.014154552747913723, 0.17848381603480318, 0.03399691733996251, 0.3272203293971392, 0.09774113735239222, 0.02124807333747657, 0.3059722560596626, 0.012748844002485943, 0.008499229334990628, 0.008499229334990628, 0.008407650795944303, 0.050445904775665816, 0.29006395246007843, 0.08617842065842911, 0.15764345242395567, 0.17866257941381644, 0.07146503176552657, 0.07146503176552657, 0.02101912698986076, 0.03363060318377721, 0.016815301591888605, 0.012611476193916454, 0.02886281193863498, 0.05772562387726996, 0.08658843581590495, 0.17983752054072566, 0.07548735430104533, 0.38853785302008625, 0.1354331944812872, 0.0022202163029719215, 0.035523460847550745, 0.006660648908915765, 0.0022202163029719215, 0.965761414730029, 0.9493771054804768, 0.4755472411544603, 0.11212089425592967, 0.057993565994446376, 0.011598713198889275, 0.10438841879000348, 0.03479613959666782, 0.02706366413074164, 0.08119099239222492, 0.09665594332407729, 0.09394820258218207, 0.8831131042725116, 0.019663257073068974, 0.9045098253611729, 0.03932651414613795, 0.8427997968947678, 0.010579076948469887, 0.021158153896939775, 0.014105435931293184, 0.10931712846752217, 0.08920103655014489, 0.15018541868136637, 0.08556017791544508, 0.12834026687316763, 0.041869874299047594, 0.007281717269399582, 0.05643330883784676, 0.018204293173498955, 0.06189459678989645, 0.17294078514824007, 0.004551073293374739, 0.18386336105233944, 0.9620587230726788, 0.9611842340884865, 0.9733312111227939, 0.06524053776698512, 0.9133675287377916, 0.020871156614605896, 0.010435578307302948, 0.9496376259645681, 0.9162398493551072, 0.022347313398905052, 0.022347313398905052, 0.11482503179074903, 0.036744010173039694, 0.07808102161770934, 0.004593001271629962, 0.4593001271629961, 0.022965006358149808, 0.009186002543259924, 0.18372005086519846, 0.08726702416096926, 0.9254096044167378, 0.01888591029421914, 0.01888591029421914, 0.01888591029421914, 0.14687804657744208, 0.24895828894876434, 0.12190877865927693, 0.05507926746654078, 0.013953414424856998, 0.10575219353575831, 0.13512780285124673, 0.05361048700076636, 0.009547073027533735, 0.0352507311785861, 0.04773536513766868, 0.026438048383939577, 0.9705433917801602, 0.9444859354093298, 0.970986497495404, 0.020020340154544413, 0.9689620536435252, 0.015930280190715563, 0.8920956906800714, 0.015930280190715563, 0.047790840572146685, 0.015930280190715563, 0.1453530009084003, 0.1130523340398669, 0.09095187776139668, 0.14450298335922837, 0.08925184266305282, 0.07310150922878612, 0.08585177246636509, 0.10795222874483532, 0.05610115824534749, 0.011900245688407043, 0.037400772163564994, 0.043350895007768515, 0.9708865051357299, 0.8307954702183254, 0.12185000229868773, 0.033231818808733014, 0.9711169022310997, 0.014550325447704045, 0.02910065089540809, 0.945771154100763, 0.9271794345341977, 0.011616708950220418, 0.023233417900440836, 0.14520886187775522, 0.005808354475110209, 0.005808354475110209, 0.005808354475110209, 0.09293367160176334, 0.03485012685066125, 0.139400507402645, 0.528560257235029, 0.051288368004937794, 0.10354444106657253, 0.010644755623666334, 0.06483623879869495, 0.008709345510272455, 0.12483395231390519, 0.0029031151700908185, 0.007741640453575516, 0.0367727921544837, 0.5583658177141341, 0.028063446644211246, 0.0029031151700908185, 0.0335395479506728, 0.3040919014194334, 0.04695536713094192, 0.3175077205997025, 0.0849668548083711, 0.07155103562810197, 0.024595668497160054, 0.00670790959013456, 0.04695536713094192, 0.004471939726756373, 0.04919133699432011, 0.008943879453512747, 0.9613197085280548, 0.13291403824386003, 0.10069245321504547, 0.028193886900212732, 0.4108252091173855, 0.17721871765848002, 0.03222158502881455, 0.10069245321504547, 0.004027698128601819, 0.012083094385805456, 0.09761070440341625, 0.009446197200330606, 0.13224676080462847, 0.003148732400110202, 0.053528450801873434, 0.3180219724111304, 0.22356000040782434, 0.05667718320198363, 0.07871831000275505, 0.012594929600440808, 0.009446197200330606, 0.0770893367936787, 0.10732044926178799, 0.16022489608097926, 0.04685822432556941, 0.07406622554686777, 0.0770893367936787, 0.040812001831947546, 0.14359778422351915, 0.16778267419800658, 0.06046222493621859, 0.028719556844703828, 0.016627111857460113, 0.9790501609172101, 0.03188781434609538, 0.9406905232098138, 0.9770250233860194, 0.9397467315880302, 0.049132461544753966, 0.8352518462608174, 0.08598180770331944, 0.9772678251961677, 0.013486278533710573, 0.07305067539093227, 0.27646870994106676, 0.16857848167138215, 0.025848700522945266, 0.013486278533710573, 0.01123856544475881, 0.0067431392668552866, 0.0067431392668552866, 0.060688253401697576, 0.007866995811331167, 0.3371569633427643, 0.9566751806859963, 0.9630336918357351, 0.01569430612251416, 0.08370296598674218, 0.1150915782317705, 0.005231435374171386, 0.026157176870856932, 0.005231435374171386, 0.04185148299337109, 0.04185148299337109, 0.6382351156489091, 0.026157176870856932, 0.19277245309742258, 0.010145918584074872, 0.7913816495578401, 0.048383250545301904, 0.024191625272650952, 0.9192817603607363, 0.9672779594183413, 0.9754187457979147, 0.9754577070693222, 0.025558339790615343, 0.05111667958123069, 0.8945418926715369, 0.025558339790615343, 0.9656316716466273, 0.018569839839358216, 0.10482316771832777, 0.8862322361640438, 0.21775059300953262, 0.030383803675748736, 0.04304372187397738, 0.22281456028882407, 0.11140728014441204, 0.04051173823433165, 0.017723885477520098, 0.035447770955040196, 0.1367271165408693, 0.11647124742370349, 0.005063967279291456, 0.020255869117165825, 0.0277839570571969, 0.9724384970018916, 0.9077650823148676, 0.05557745401927761, 0.01852581800642587, 0.9472426776674927, 0.9834102369620547, 0.9025807778000629, 0.06017205185333752, 0.020057350617779177, 0.9570861441021576, 0.9626796259164117, 0.050207787253228144, 0.9288440641847207, 0.9484749729428875, 0.017841162380795236, 0.10704697428477142, 0.8563757942781713, 0.03644038036721501, 0.9292296993639827, 0.978930425710311, 0.9700289134174037, 0.029410151488414037, 0.9411248476292492, 0.9714816861608259, 0.9681450649021839, 0.01945872948741352, 0.05837618846224056, 0.651867437828353, 0.15566983589930816, 0.00972936474370676, 0.01945872948741352, 0.06810555320594733, 0.9609373059869037, 0.02514901417444545, 0.006287253543611362, 0.018861760630834088, 0.006287253543611362, 0.6412998614483589, 0.29550091654973404, 0.15274441117837206, 0.021351369304503622, 0.05748445581981744, 0.019708956281080266, 0.18395025862341582, 0.03613308651531382, 0.09854478140540134, 0.21187128002161285, 0.1215385637333283, 0.03777549953873718, 0.05748445581981744, 0.27411756306921475, 0.011764702277648703, 0.07764703503248144, 0.055294100704948904, 0.08588232662683552, 0.008235291594354092, 0.0035294106832946107, 0.03764704728847585, 0.1741175937092008, 0.04941174956612455, 0.18470582575908462, 0.036470577060710975, 0.9664839290343629, 0.11041620500884464, 0.04774754811193282, 0.09251087446686983, 0.005968443513991602, 0.2596272928586347, 0.10444776149485303, 0.026857995812962207, 0.11638464852283624, 0.06863710041090341, 0.11638464852283624, 0.053715991625924414, 0.9504404785513915, 0.0012571964002002533, 0.012571964002002532, 0.013829160402202785, 0.015086356802403039, 0.0012571964002002533, 0.0012571964002002533, 0.0012571964002002533, 0.0025143928004005066, 0.051026550041176524, 0.08929646257205892, 0.7653982506176479, 0.0765398250617648, 0.012756637510294131, 0.9609420851735255, 0.1248788668403738, 0.08136047385054657, 0.09838941023787028, 0.2459735255946757, 0.06054732937715094, 0.05487101724804304, 0.026489456602503535, 0.1419078032276975, 0.007568416172143867, 0.13244728301251768, 0.020813144473395634, 0.005676312129107901, 0.016336849097103857, 0.016336849097103857, 0.9475372476320237, 0.04726343531441608, 0.042966759376741895, 0.6273146869004317, 0.08593351875348379, 0.12890027813022567, 0.04726343531441608, 0.017186703750696756, 0.9792506704971903, 0.15958215101730985, 0.7819525399848183, 0.015958215101730986, 0.03191643020346197, 0.9551702026769593, 0.00949762283273315, 0.8737813006114499, 0.00949762283273315, 0.0189952456654663, 0.00949762283273315, 0.04748811416366576, 0.0189952456654663, 0.011905426452858896, 0.10714883807573007, 0.8452852781529816, 0.023810852905717793, 0.011905426452858896, 0.02117559558969039, 0.9529018015360674, 0.970656593877214, 0.017381364940880134, 0.9559750717484075, 0.02156137940819885, 0.9487006939607494, 0.9625144301693415, 0.9873898385377732, 0.09857990768571241, 0.0840169667775958, 0.23412728075356698, 0.0593719898561677, 0.021284298250324272, 0.05265063251396004, 0.15011031397597116, 0.07169447831688175, 0.17923619579220437, 0.013442714684415328, 0.033606786711038325, 0.0011202262237012773, 0.006967473280792694, 0.020902419842378082, 0.5852677555865863, 0.027869893123170775, 0.3135362976356712, 0.041804839684756165, 0.09995972805231977, 0.010634013622587209, 0.365810068617, 0.15100299344073836, 0.0659308844600407, 0.03615564631679651, 0.025521632694209304, 0.12548136074652907, 0.004253605449034884, 0.019141224520656978, 0.04678965993938372, 0.04678965993938372, 0.9555543276398136, 0.1989759697931999, 0.009948798489659995, 0.7760062821934796, 0.009948798489659995, 0.8096589225433555, 0.1557036389506453, 0.020760485193419373, 0.965791469888139, 0.9719751284371332, 0.9876147530011069, 0.26564466833945505, 0.01398129833365553, 0.004660432777885176, 0.05592519333462212, 0.15379428167021084, 0.21437990778271812, 0.28428639945099576, 0.9725930605260881, 0.14523341330700806, 0.15377655526624384, 0.18367755212356904, 0.09397456155159346, 0.025629425877707307, 0.012814712938853653, 0.00854314195923577, 0.37162667522675596, 0.970017052108563, 0.05718182396584649, 0.13887014391705577, 0.8005455355218509, 0.9488241198596379, 0.9420233178145097, 0.027364310076040486, 0.04104646511406073, 0.15734478293723278, 0.5267629689637794, 0.17102693797525303, 0.07525185270911133, 0.09459495986026187, 0.040540697082969375, 0.11486530840174655, 0.047297479930130934, 0.11824369982532734, 0.11148691697816578, 0.047297479930130934, 0.29054166242794716, 0.0033783914235807812, 0.010135174270742344, 0.11824369982532734, 0.9657901241596649, 0.9833280215179672, 0.9415021460575778, 0.737361553390283, 0.011892928280488435, 0.13082221108537279, 0.10703635452439592, 0.9453786480069929, 0.02472435697717959, 0.9642499221100039, 0.11927725866267541, 0.023855451732535084, 0.13716884746207672, 0.11927725866267541, 0.0417470405319364, 0.005963862933133771, 0.005963862933133771, 0.005963862933133771, 0.5307838010489055, 0.005963862933133771, 0.9605335252172434, 0.9433495701096348, 0.23867542814947879, 0.02386754281494788, 0.7279600558559103, 0.9637009904104634, 0.006147849430322343, 0.9836559088515748, 0.07583211146041749, 0.12262213768067509, 0.1032607475205685, 0.02904208524015989, 0.07744556064042638, 0.02258828852012436, 0.23717702946130578, 0.012907593440071063, 0.0371093311402043, 0.0016134491800088829, 0.12262213768067509, 0.15650457046086164, 0.013299757934630008, 0.5386401963525153, 0.1662469741828751, 0.09642324502606756, 0.013299757934630008, 0.11637288192801257, 0.006649878967315004, 0.003324939483657502, 0.01662469741828751, 0.003324939483657502, 0.01994963690194501, 0.009974818450972506, 0.12414891813257843, 0.040736363762252294, 0.0562549785288246, 0.18816320404468917, 0.06013463222046767, 0.08535238121614767, 0.044616017453895374, 0.013578787920750766, 0.21920043357783378, 0.044616017453895374, 0.02521774899567999, 0.09893116913689844, 0.9707676182263991, 0.9732257810782761, 0.9596832753615749, 0.06130822746290136, 0.03065411373145068, 0.8889692982120698, 0.9567985740272321, 0.9447479140375303, 0.9676003957715966, 0.0050359547260758475, 0.02014381890430339, 0.9669033074065626, 0.9576576489710513, 0.9531496650459987, 0.021087266522782637, 0.021087266522782637, 0.8224033943885228, 0.10543633261391319, 0.01609349522254534, 0.9817032085752657, 0.6342524936808928, 0.34387183392337556, 0.007641596309408346, 0.007641596309408346, 0.011223290505321249, 0.0044893162021285, 0.00224465810106425, 0.00224465810106425, 0.00224465810106425, 0.01571260670744975, 0.00224465810106425, 0.9584690091544347, 0.00224465810106425, 0.06277246687358187, 0.0163754261409344, 0.26814760305780083, 0.07846558359197733, 0.13782650335286453, 0.04980858784534214, 0.024563139211401602, 0.143284978733176, 0.0006823094225389334, 0.042985493619952804, 0.07232479878912694, 0.10302872280337894, 0.09292213572341183, 0.029253264949962984, 0.07657472295725605, 0.00774351131028432, 0.06194809048227456, 0.06538965106462315, 0.052483798880815946, 0.031834435386724425, 0.05592535946316453, 0.1918670024659337, 0.30715928197461134, 0.026672094513201544, 0.1643315764579674, 0.06847149019081974, 0.25334451370603306, 0.05991255391696727, 0.04964183038834431, 0.10955438430531159, 0.01882965980247543, 0.04621825587880333, 0.06162434117173777, 0.07189506470036074, 0.04279468136926234, 0.05477719215265579, 0.9455322030884141, 0.002075322529542373, 0.6724044995717289, 0.03320516047267797, 0.008301290118169493, 0.008301290118169493, 0.06433499841581357, 0.08301290118169492, 0.09546483635894916, 0.018677902765881358, 0.014527257706796613, 0.09616849854922462, 0.1081895608678777, 0.08414743623057154, 0.0060105311593265385, 0.04207371811528577, 0.6611584275259192, 0.13716135077221228, 0.03117303426641188, 0.1309267439189299, 0.07689348452381597, 0.024938427413129505, 0.1693734861808379, 0.06546337195946494, 0.2940656232464854, 0.0020782022844274585, 0.024938427413129505, 0.03013393312419815, 0.013508314848778482, 0.976842691336645, 0.010136279015190909, 0.14190790621267274, 0.16218046424305455, 0.6892669730329819, 0.021209181655040578, 0.9756223561318665, 0.02169059987172278, 0.02169059987172278, 0.9543863943558023, 0.9455370994648491, 0.9771041142920793, 0.9774102562136303, 0.973495936046551, 0.056704504575647616, 0.014176126143911904, 0.9214481993542737, 0.003930793655136396, 0.003930793655136396, 0.9355288899224622, 0.003930793655136396, 0.011792380965409188, 0.011792380965409188, 0.003930793655136396, 0.007861587310272792, 0.015723174620545583, 0.003930793655136396, 0.9559332228967827, 0.38745776822926603, 0.022791633425250944, 0.0014704279629194157, 0.06763968629429312, 0.04264241092466305, 0.006616925833137371, 0.08896089175662465, 0.06837490027575283, 0.11101731120041589, 0.10734124129311735, 0.065434044349914, 0.030143773239848022, 0.9511796036166154, 0.608421338870106, 0.026453101690004605, 0.15871861014002764, 0.004408850281667434, 0.017635401126669736, 0.004408850281667434, 0.17194516098502993, 0.004408850281667434, 0.15363597220940065, 0.05022714476076559, 0.02068176548972701, 0.07681798610470032, 0.31613555820011285, 0.014772689635519292, 0.3072719444188013, 0.03840899305235016, 0.026590841343934725, 0.9599751778888372, 0.946371972560636, 0.085837273223152, 0.18121202124887645, 0.10491222282829689, 0.04768737401286222, 0.15259959684115912, 0.014306212203858667, 0.18359638994951955, 0.011921843503215556, 0.06199358621672089, 0.050071742713505334, 0.07629979842057956, 0.026228055707074222, 0.9688412956920623, 0.9686768122091703, 0.9392873627141568, 0.6695865329286134, 0.11258534624463411, 0.05332990085272142, 0.05332990085272142, 0.005925544539191269, 0.017776633617573808, 0.005925544539191269, 0.023702178156765077, 0.017776633617573808, 0.04147881177433888, 0.02003812493051618, 0.19036218683990372, 0.20205109304937147, 0.19704156181674243, 0.06512390602417759, 0.006679374976838726, 0.06178421853575822, 0.07848265597785503, 0.018368281186306498, 0.03506671862840331, 0.1269081245599358, 0.9374573544762412, 0.9782335840132488, 0.9498778567441044, 0.9888931460856447, 0.006451954113527237, 0.18710666929228986, 0.006451954113527237, 0.1419429904975992, 0.4516367879469066, 0.01935586234058171, 0.10968321992996302, 0.07742344936232684, 0.9822841670047414, 0.12525004115454225, 0.8350002743636149, 0.027833342478787163, 0.023036273280584364, 0.8984146579427902, 0.011518136640292182, 0.05759068320146091, 0.1927535053927546, 0.0017523045944795874, 0.02628456891719381, 0.11565210323565277, 0.0280368735116734, 0.008761522972397937, 0.010513827566877524, 0.14719358593628534, 0.06483526999574474, 0.4012777521358255, 0.9652514398174098, 0.016642266203748445, 0.9913027041802324, 0.061522102600534125, 0.0656235761072364, 0.6234239730187457, 0.012304420520106824, 0.024608841040213648, 0.012304420520106824, 0.20097220182841147, 0.9337136721101555, 0.9611781825710795, 0.9529599558026588, 0.9646029632522042, 0.01667701048853911, 0.01429458041874781, 0.0023824300697913017, 0.02858916083749562, 0.7075817307280166, 0.22871328669996496, 0.986574296845772, 0.02987563718223069, 0.23236606697290538, 0.7336128685858869, 0.06569237749157791, 0.026276950996631167, 0.8934163338854597, 0.8955335250167936, 0.020826361046902178, 0.08330544418760871, 0.8661532637807162, 0.06727403990529834, 0.016818509976324586, 0.042046274940811465, 0.19752854388305952, 0.009406121137288549, 0.22104384672628088, 0.04232754511779847, 0.014109181705932823, 0.05173366625508702, 0.037624484549154194, 0.07054590852966411, 0.037624484549154194, 0.3151050580991664, 0.9709329598763238, 0.43506813477531664, 0.006591941435989646, 0.08899120938586022, 0.0856952386678654, 0.07580732651388092, 0.003295970717994823, 0.006591941435989646, 0.08899120938586022, 0.05273553148791717, 0.09887912153984468, 0.056031502205911986, 0.0811149124260772, 0.008538411834323915, 0.16009522189357342, 0.31592123786998483, 0.08538411834323915, 0.038422853254457615, 0.10459554497046795, 0.025615235502971744, 0.053365073964524466, 0.09178792721898209, 0.03628825029587664, 0.9386021965482625, 0.950425964619619, 0.9881430220701325, 0.31910420828676994, 0.13375625497050236, 0.265601706298569, 0.026751250994100473, 0.017197232781921732, 0.003821607284871496, 0.11464821854614489, 0.04394848377602221, 0.07069973477012267, 0.003821607284871496, 0.8445827493638429, 0.013406075386727665, 0.05362430154691066, 0.06703037693363832, 0.5195850491446844, 0.10115815116091201, 0.10575624894095347, 0.06437336892058038, 0.01839239112016582, 0.04598097780041455, 0.07356956448066328, 0.022990488900207277, 0.050579075580456004, 0.9687595339080722, 0.14662329129169777, 0.6923877644330172, 0.13847755288660343, 0.00814573840509432, 0.26917362615440144, 0.07266664432305134, 0.07573706591416618, 0.08494833068751072, 0.11667602046236411, 0.06038495795859195, 0.08597180455121567, 0.055267588640067214, 0.05015021932154247, 0.04503285000301773, 0.05731453636747711, 0.027633794320033607, 0.12575094910191237, 0.0765440559750771, 0.1530881119501542, 0.0054674325696483644, 0.19136013993769274, 0.016402297708945093, 0.4264597404325724, 0.1418036344688422, 0.11158318777876107, 0.12320643650571535, 0.05346694414398968, 0.08136274108867994, 0.11623248726954279, 0.12320643650571535, 0.03719439592625369, 0.12436876137841077, 0.0058116243634771395, 0.06509019287094396, 0.017434873090431416, 0.9659627957496049, 0.9706324491836101, 0.011010312207197276, 0.9689074742333603, 0.01587005306879781, 0.20102067220477227, 0.03703012382719489, 0.47610159206393426, 0.06348021227519124, 0.01058003537919854, 0.12696042455038248, 0.06348021227519124, 0.04919804841389148, 0.09839609682778296, 0.010542438945833888, 0.0843395115666711, 0.4041268262569657, 0.04568390209861352, 0.2073346326013998, 0.03162731683750167, 0.003514146315277963, 0.06325463367500334, 0.0639684407609838, 0.0319842203804919, 0.8955581706537733, 0.9774690411473326, 0.024599591031460553, 0.9593840502269616, 0.0816343737572386, 0.005102148359827413, 0.3877632753468834, 0.05612363195810154, 0.4336826105853301, 0.03571503851879189, 0.9481010162725514, 0.8558963150565021, 0.13167635616253878, 0.005985288916479035, 0.005985288916479035, 0.9525923859877629, 0.024929940978247203, 0.049859881956494406, 0.9224078161951464, 0.9435087028459309, 0.02695739150988374, 0.984939487270887, 0.94546487019074, 0.9554154218599402, 0.0655276820676425, 0.917387548946995, 0.9683332382875466, 0.09510036535493945, 0.10698791102430687, 0.16642563937114402, 0.5943772834683715, 0.035662637008102294, 0.9609977727022466, 0.16798673133929512, 0.04031681552143083, 0.068874559849111, 0.04871615208839559, 0.07139436081920043, 0.03527721358125198, 0.018478540447322465, 0.0008399336566964756, 0.031917478954466075, 0.05543562134196739, 0.19738440932367177, 0.2620593008893004, 0.9787205321402438, 0.9426880973873147, 0.06283726271589718, 0.9299914881952782, 0.9824971035891329, 0.8993161672775003, 0.019984803717277785, 0.019984803717277785, 0.03996960743455557, 0.07452392748695469, 0.0434722910340569, 0.018630981871738672, 0.5837707653144784, 0.006210327290579557, 0.006210327290579557, 0.26704407349492093, 0.005610152450844126, 0.005610152450844126, 0.8639634774299955, 0.011220304901688252, 0.07854213431181777, 0.01683045735253238, 0.011220304901688252, 0.005610152450844126, 0.1677765112324151, 0.08666601242469124, 0.07555498519075647, 0.2022206956576129, 0.16444320306223467, 0.07555498519075647, 0.027777568084836935, 0.062221752510034735, 0.02999977353162389, 0.031110876255017367, 0.04777741710591953, 0.02999977353162389, 0.02568692059738468, 0.950416062103233, 0.941000251143917, 0.9761294139782994, 0.9504936829965236, 0.9637827652323827, 0.01044750965021553, 0.007835632237661648, 0.0026118774125538824, 0.0026118774125538824, 0.0026118774125538824, 0.005223754825107765, 0.9541495205288995, 0.07004071784062763, 0.08576414429464607, 0.1286462164419691, 0.03859386493259073, 0.10577577796339682, 0.11292278998795066, 0.021441036073661518, 0.017152828858929214, 0.0028588048098215357, 0.3273331507245658, 0.07289952265044916, 0.015723426454018447, 0.9609795311602327, 0.9842970053731172, 0.03231893875008418, 0.004407128011375116, 0.3408178995463423, 0.01615946937504209, 0.20125884585279696, 0.0734521335229186, 0.06023074948879325, 0.02203564005687558, 0.03084989607962581, 0.13221384034125347, 0.08667351755704394, 0.9564562522149763, 0.018260248252666873, 0.03652049650533375, 0.9130124126333438, 0.005865048561573863, 0.24633203958610225, 0.13489611691619885, 0.08211067986203409, 0.21114174821665907, 0.3167126223249886, 0.9730958704328885, 0.9369223726030241, 0.9872085192356218, 0.8958815491036614, 0.09059476339250508, 0.9835425498834512, 0.9795853575929623, 0.953201403788001, 0.942448287847291, 0.9593252025772814, 0.035671086134990045, 0.9631193256447312, 0.9615482660821817, 0.019230965321643635, 0.015002268834918689, 0.015002268834918689, 0.0075011344174593445, 0.0075011344174593445, 0.015002268834918689, 0.015002268834918689, 0.0075011344174593445, 0.8476281891729059, 0.0075011344174593445, 0.05250794092221541, 0.9314507822703423, 0.9592330715525266, 0.9565335877388815, 0.9731390003816672, 0.016218983339694452, 0.8785178471026875, 0.09178544671222108, 0.013112206673174441, 0.1787397412837678, 0.2878012783382702, 0.021206409982819908, 0.0757371785100711, 0.009088461421208532, 0.06664871708886257, 0.3423320468655214, 0.015147435702014222, 0.0204593368975926, 0.12275602138555561, 0.8388328128012966, 0.02309292253465832, 0.02309292253465832, 0.02309292253465832, 0.9237169013863328, 0.006605125198257762, 0.9841636545404066, 0.006605125198257762, 0.9722568994599654, 0.9698392967046453, 0.07376206259349709, 0.9097321053197973, 0.10827025431361065, 0.8481169921232834, 0.018045042385601773, 0.005724176884978631, 0.24613960605408114, 0.07441429950472221, 0.10303518392961536, 0.011448353769957263, 0.022896707539914525, 0.39496820506352553, 0.08013847638970084, 0.06296594573476494, 0.9766703015280906, 0.9680270944566756, 0.02304826415373037, 0.9652133739635763, 0.970488013239015, 0.10012164568031198, 0.13720373667302013, 0.0037082090992708143, 0.3634044917285398, 0.0519149273897914, 0.2818238915445819, 0.05562313648906222, 0.0037082090992708143, 0.11538232976561896, 0.03772114626952928, 0.25295356910154926, 0.055472273925778345, 0.25739135101561156, 0.033283364355467006, 0.026626691484373608, 0.04437781914062268, 0.015532236699217938, 0.053253382968747216, 0.10872565689452557, 0.9854284378968154, 0.22802849158587254, 0.21708985545813697, 0.07657045289414909, 0.13883653546741317, 0.04123024386608028, 0.020194405158896464, 0.014304370320884994, 0.2364428270687461, 0.005890034838011468, 0.0016828670965747053, 0.015145803869172346, 0.005048601289724116, 0.9666854302149879, 0.13358231464603335, 0.13011264413574677, 0.026022528827149352, 0.04163604612343896, 0.04510571663372555, 0.043370881378582256, 0.03469670510286581, 0.25328594725092035, 0.09888560954316754, 0.16827901974889917, 0.027757364082292645, 0.9747504039970126, 0.9545556401090444, 0.08857908001347986, 0.15617890423429343, 0.018648227371258916, 0.06993085264222094, 0.023310284214073645, 0.07692393790644303, 0.40559894532488144, 0.016317198949851553, 0.06993085264222094, 0.055944682113776754, 0.013986170528444189, 0.006993085264222094, 0.9803243022783098, 0.9525559713797201, 0.01641963841282483, 0.9523390279438401, 0.01641963841282483, 0.9602613154397771, 0.9609148089300821, 0.08697586822499309, 0.1401277876958222, 0.02657595973541456, 0.0990558499229088, 0.31166352780622525, 0.10871983528124136, 0.04107193777291341, 0.009663985358332567, 0.06281590482916168, 0.019327970716665133, 0.043487934112496546, 0.050735923131245975, 0.9588085220851305, 0.03306236283052174, 0.1898521357616629, 0.7865302767268891, 0.9594931326556999, 0.9668303779927347, 0.9806440404962116, 0.007485832370200088, 0.04997133473703831, 0.11750016546276575, 0.2512072502997061, 0.018908072603203683, 0.0013505766145145489, 0.02295980244674733, 0.036465568591892816, 0.040517298435436465, 0.009454036301601841, 0.14181054452402764, 0.1080461291611639, 0.19988533894815325, 0.028660197300541913, 0.9457865109178831, 0.9752175671173515, 0.9493520774643517, 0.9477272959900805, 0.9726359060904118, 0.9398499323427404, 0.12168563483860877, 0.04244847726928213, 0.008489695453856425, 0.11319593938475234, 0.11036604090013354, 0.0028298984846188086, 0.05659796969237617, 0.0028298984846188086, 0.09621654847703949, 0.43863426511591536, 0.005659796969237617, 0.9803421042776128, 0.004460464304230789, 0.12489300051846208, 0.6155440739838488, 0.12489300051846208, 0.017841857216923156, 0.049065107346538676, 0.004460464304230789, 0.05352557165076946, 0.738787379930658, 0.14775747598613162, 0.04029749345076317, 0.013432497816921055, 0.02686499563384211, 0.0067162489084605275, 0.033581244542302637, 0.9688807935752827, 0.9769514496774327, 0.9286079397976987, 0.7220433039230214, 0.05157452170878724, 0.008595753618131207, 0.02578726085439362, 0.18051082598075535, 0.9442031292937307, 0.9693552686127761, 0.9417717938452607, 0.9639971514038325, 0.024874283853769007, 0.9452227864432222, 0.006916392708273567, 0.6570573072859889, 0.1037458906241035, 0.21440817395648057, 0.013832785416547134, 0.9388902339050587, 0.021834656602443225, 0.9405383024555819, 0.20780904991585583, 0.1953405069209045, 0.01246854299495135, 0.06234271497475675, 0.04571799098148828, 0.10806070595624503, 0.04156180998317117, 0.05403035297812252, 0.2701517648906126, 0.2669526966556075, 0.009887136913170648, 0.6031153517034096, 0.11864564295804778, 0.8666460866072802, 0.11403237981674738, 0.8573704139080117, 0.061240743850572266, 0.024496297540228907, 0.03674444631034336, 0.8914857549401282, 0.027858929841879005, 0.05571785968375801, 0.973988124503645, 0.9462447348174622, 0.01245058861601924, 0.01245058861601924, 0.02490117723203848, 0.01245058861601924, 0.036932965636469355, 0.9233241409117339, 0.020934461641477508, 0.010467230820738754, 0.9525180046872266, 0.9589865680697137, 0.9710244638724455, 0.9424770275212703, 0.7723443060652364, 0.020060891066629515, 0.010030445533314758, 0.08024356426651806, 0.10030445533314758, 0.010030445533314758, 0.9510977898830261, 0.9638414216323558, 0.9740381553948341, 0.06967611395208993, 0.9057894813771691, 0.012126313324419425, 0.012126313324419425, 0.012126313324419425, 0.9458524393047152, 0.9846586204336385, 0.04940318691774284, 0.23642953739205502, 0.00352879906555306, 0.17291115421209993, 0.01411519626221224, 0.5187334626362998, 0.9838351502041824, 0.26942418962676, 0.7240775096219176, 0.02416879232125329, 0.9425829005288784, 0.9517391940727911, 0.9323456361610098, 0.9711672369420093, 0.021112331237869767, 0.9603248384996184, 0.11801647696496854, 0.11234260788011428, 0.25305456118449987, 0.09418622680858067, 0.03404321450912554, 0.06354733375036768, 0.021560702522446178, 0.028369345424271285, 0.01702160725456277, 0.14525104857226898, 0.04539095267883406, 0.06581688138430938, 0.010537866009964965, 0.1475301241395095, 0.12645439211957957, 0.03161359802989489, 0.12645439211957957, 0.5585068985281431, 0.004956043931239989, 0.014868131793719968, 0.06442857110611985, 0.024780219656199948, 0.009912087862479978, 0.15363736186843965, 0.024780219656199948, 0.6641098867861586, 0.004956043931239989, 0.03964835144991991, 0.9732181699695951, 0.02253568526791813, 0.0885330492668212, 0.16579825589968336, 0.13360441980265747, 0.05472952136494402, 0.008048459024256474, 0.05472952136494402, 0.07887489843771345, 0.02414537707276942, 0.16740794770453465, 0.07404582302315955, 0.1287753443881036, 0.023522089758800283, 0.023522089758800283, 0.8467952313168102, 0.047044179517600565, 0.035283134638200424, 0.011761044879400141, 0.0032340273641797536, 0.006468054728359507, 0.032340273641797534, 0.032340273641797534, 0.006468054728359507, 0.8861234977852526, 0.022638191549258276, 0.0032340273641797536, 0.0032340273641797536, 0.22605829976862757, 0.021529361882726437, 0.005382340470681609, 0.016147021412044826, 0.010764680941363219, 0.7104689421299724, 0.05525106289960108, 0.9116425378434179, 0.9704595257484042, 0.9017316173965204, 0.0629115081904549, 0.020970502730151636, 0.010467960418798846, 0.1151475646067873, 0.10467960418798845, 0.08374368335039077, 0.680417427221925, 0.03613071219736844, 0.3777301729724883, 0.022992271398325374, 0.26605342618062217, 0.06569220399521535, 0.13795362838995223, 0.01313844079904307, 0.03284610199760767, 0.009853830599282304, 0.006569220399521535, 0.03284610199760767, 0.035632244251293854, 0.09593296529194499, 0.37824997743681166, 0.13156520954323883, 0.0027409418654841425, 0.15623368633259613, 0.019186593058388997, 0.02192753492387314, 0.09593296529194499, 0.06030072104065114, 0.0027409418654841425, 0.18243917012958497, 0.007297566805183398, 0.5473175103887549, 0.15324890290885138, 0.014595133610366797, 0.06567810124665058, 0.029190267220733594, 0.9309457110140866, 0.9635166391910651, 0.9640613547168239, 0.971793499160432, 0.9482039292144849, 0.9648293116282305, 0.007551274059348618, 0.35490988078938507, 0.06796146653413757, 0.007551274059348618, 0.5210379100950546, 0.022653822178045853, 0.007551274059348618, 0.950699745040964, 0.04676662475076236, 0.020042839178898153, 0.08017135671559261, 0.08685230310855867, 0.020042839178898153, 0.03340473196483026, 0.013361892785932103, 0.04676662475076236, 0.6413708537247409, 0.006680946392966051, 0.054981452830879934, 0.3298887169852796, 0.11419224818721217, 0.13956830333992598, 0.054981452830879934, 0.09938954934812912, 0.02960539767816612, 0.06978415166996299, 0.06344013788178454, 0.03383474020361842, 0.010573356313630758, 0.9644032335195695, 0.24408574519788623, 0.14761376019110264, 0.06160259283565701, 0.05579102747380257, 0.10577048958575071, 0.002324626144741774, 0.020921635302675965, 0.2475726844149989, 0.008136191506596209, 0.05927796669091523, 0.0441678967500937, 0.02192324689804841, 0.2937715084338487, 0.24992501463775188, 0.004384649379609682, 0.24992501463775188, 0.12277018262907109, 0.057000441934925865, 0.9378548110618883, 0.004118746543747444, 0.008237493087494888, 0.016474986174989777, 0.06178119815621167, 0.9061242396244378, 0.9895669250798038, 0.9473557824349063, 0.11160052411788192, 0.2046009608827835, 0.04464020964715277, 0.10416048917668978, 0.011160052411788192, 0.01860008735298032, 0.014880069882384255, 0.3199215024712615, 0.1525207162944386, 0.011160052411788192, 0.011160052411788192, 0.9810940944664495, 0.9696677474433785, 0.10028052740478072, 0.009116411582252792, 0.4558205791126396, 0.07293129265802234, 0.013674617373379189, 0.16865361427167666, 0.15042079110717108, 0.027349234746758377, 0.9409049919323623, 0.9669801189453029, 0.9705011720876685, 0.7246512736217051, 0.04831008490811367, 0.03623256368108525, 0.012077521227028418, 0.04227132429459946, 0.09058140920271314, 0.012077521227028418, 0.03623256368108525, 0.9647310628815269, 0.971482362806572, 0.017990414126047627, 0.004420703382137416, 0.2961871266032069, 0.605636363352826, 0.08399336426061091, 0.004420703382137416, 0.009602354085442775, 0.028807062256328328, 0.009602354085442775, 0.18244472762341274, 0.7105742023227654, 0.028807062256328328, 0.028807062256328328, 0.9559141569107124, 0.897003689874414, 0.021878138777424734, 0.0656344163322742, 0.13406159702532328, 0.19329811664116378, 0.26656433827128234, 0.004676567338092672, 0.05923651961584052, 0.13717930858405172, 0.053001096498383624, 0.020265125131734913, 0.043647961822198274, 0.040530250263469826, 0.026500548249191812, 0.02338283669046336, 0.024925490329818497, 0.9471686325331028, 0.584011594375059, 0.006020738086340815, 0.01204147617268163, 0.09633180938145304, 0.006020738086340815, 0.11439402364047548, 0.030103690431704074, 0.01204147617268163, 0.08429033320877141, 0.06020738086340815, 0.9560986849162574, 0.029878083903633043, 0.022731314651532997, 0.1022909159318985, 0.2386788038410965, 0.011365657325766498, 0.011365657325766498, 0.022731314651532997, 0.5910141809398579, 0.011183554353499625, 0.00447342174139985, 0.4048446675966864, 0.26393188274259116, 0.11183554353499625, 0.07381145873309752, 0.0089468434827997, 0.006710132612099775, 0.11854567614709603, 0.9654784605350145, 0.925797248099145, 0.05445866165289088, 0.9436323058189852, 0.026212008494971812, 0.12661516094188258, 0.7976755139338603, 0.05064606437675303, 0.9522666495404247, 0.9620685055715104, 0.9751286079663268, 0.022320505953745046, 0.16018245449158208, 0.08271716912270223, 0.0853431109996134, 0.07615231443042426, 0.17725107669150478, 0.09715984944571372, 0.12473223915328113, 0.049892895661312456, 0.07352637255351309, 0.023633476892200637, 0.02757238970756741, 0.07241651484897833, 0.6245924405724381, 0.04526032178061146, 0.09052064356122291, 0.054312386136733753, 0.009052064356122292, 0.10862477227346751, 0.028251156910384663, 0.48026966747653926, 0.014125578455192331, 0.1647984153105772, 0.056502313820769326, 0.042376735365577, 0.014125578455192331, 0.023542630758653885, 0.13654725840019255, 0.03766820921384622, 0.07428630506224927, 0.22285891518674783, 0.17441132492875916, 0.1421129314234334, 0.28099602349633424, 0.05490726895905381, 0.02583871480426062, 0.029068554154793196, 0.9548680819628146, 0.07454390181640731, 0.06921933740094965, 0.06389477298549198, 0.015973693246372996, 0.4632371041448169, 0.06389477298549198, 0.07986846623186498, 0.015973693246372996, 0.10116672389369565, 0.04259651532366132, 0.9815998772929361, 0.9650081205750234, 0.9431805198831275, 0.023004402923978717, 0.6285316190685634, 0.01795804625910181, 0.3322238557933835, 0.008979023129550906, 0.01677857209149425, 0.9731571813066667, 0.954759611410881, 0.0268569633416501, 0.006714240835412525, 0.8594228269328033, 0.006714240835412525, 0.08728513086036284, 0.006714240835412525, 0.006714240835412525, 0.9895779528609696, 0.007153686242932808, 0.014307372485865616, 0.9371328978241977, 0.007153686242932808, 0.014307372485865616, 0.007153686242932808, 0.11209469011602502, 0.14149657604809715, 0.4097887851782554, 0.05329091825188075, 0.005512853612263526, 0.007350471483018034, 0.062479007605653294, 0.07534233270093485, 0.01286332509528156, 0.04777806463961722, 0.003675235741509017, 0.06982947908867133, 0.9714906982479969, 0.9247156792437445, 0.07378618655996062, 0.16769587854536505, 0.003353917570907301, 0.15428020826173586, 0.03353917570907301, 0.278375158385306, 0.19452721911262347, 0.02683134056725841, 0.03353917570907301, 0.03353917570907301, 0.9718678324780115, 0.00855198805044048, 0.11972783270616671, 0.00855198805044048, 0.00855198805044048, 0.7012630201361193, 0.15393578490792864, 0.00855198805044048, 0.9666872005044926, 0.9309822218732089, 0.026599492053520253, 0.9674204232919961, 0.9713835435656496, 0.9644003495729104, 0.9756608685869789, 0.9796151280703623, 0.9465874702082062, 0.03370534489974329, 0.9437496571928121, 0.9624983714603761, 0.9672330924587125, 0.9844311973287198, 0.002827076570198727, 0.3449033415642447, 0.2516098147476867, 0.019789535991391088, 0.11308306280794908, 0.10742890966755163, 0.09894767995695544, 0.005654153140397454, 0.039579071982782175, 0.002827076570198727, 0.014135382850993635, 0.021914692982314507, 0.9423317982395238, 0.021914692982314507, 0.09041702440119519, 0.01808340488023904, 0.01808340488023904, 0.01808340488023904, 0.8499200293712348, 0.056132249066714386, 0.010205863466675343, 0.010205863466675343, 0.3469993578669617, 0.025514658666688356, 0.005102931733337672, 0.1428820885334548, 0.36741108480031237, 0.025514658666688356, 0.005102931733337672, 0.9419686821102616, 0.9664678194470169, 0.9049907953542085, 0.0517137597345262, 0.9659079733609339, 0.9733969286445093, 0.956239723256768, 0.01918201565805623, 0.9718887933415157, 0.13794681447944523, 0.17243351809930654, 0.15519016628937587, 0.02586502771489598, 0.043108379524826636, 0.008621675904965327, 0.45694882296316236, 0.15226312573779735, 0.20486311462903645, 0.0027684204679599518, 0.10519997778247817, 0.0027684204679599518, 0.11350523918635802, 0.35989466083479377, 0.03875788655143932, 0.0055368409359199035, 0.01384210233979976, 0.9639263602592409, 0.9593329399595334, 0.06939353174194729, 0.9021159126453148, 0.02313117724731576, 0.014189482827158153, 0.07804215554936984, 0.007094741413579076, 0.5817687959134843, 0.04256844848147446, 0.2696001737160049, 0.007094741413579076, 0.8787450258928475, 0.06130779250415215, 0.06130779250415215, 0.05671863138702522, 0.9264043126547453, 0.026546481862804013, 0.9158536242667384, 0.053092963725608025, 0.1777409774610914, 0.04370679773633395, 0.09498944041363246, 0.11072388759871267, 0.14452381118147758, 0.039627496614276114, 0.03205165167331157, 0.04312404043318283, 0.18589957970520707, 0.03554819549221828, 0.06060675952771641, 0.03205165167331157, 0.9841784788178161, 0.9842177213477057, 0.02546108565908822, 0.006365271414772055, 0.006365271414772055, 0.10184434263635288, 0.8465810981646833, 0.027969897445459743, 0.9509765131456313, 0.007468031879594017, 0.0448081912775641, 0.11948851007350428, 0.20163686074903847, 0.5974425503675214, 0.02240409563878205, 0.9578048026384485, 0.9515385148590803, 0.9674035011891399, 0.9797812275604364, 0.09698024152700702, 0.7176537872998519, 0.1422376875729436, 0.025861397740535204, 0.006465349435133801, 0.8066024063975633, 0.18176955637128187, 0.984175652959974, 0.9549397938973794, 0.9489684538533083, 0.981790623497036, 0.9575092076849918, 0.9651348008198246, 0.9487624502748134, 0.5033541473845393, 0.026148267396599447, 0.13400987040757217, 0.11439866986012258, 0.03922240109489917, 0.003268533424574931, 0.032685334245749306, 0.13400987040757217, 0.009805600273724792, 0.30610964829457865, 0.07892722638954293, 0.10665841403992288, 0.1962514818334581, 0.07039455326634911, 0.008532673123193831, 0.09919232505712829, 0.035197276633174554, 0.005332920701996144, 0.039463613194771464, 0.034130692492775325, 0.021331682807984576, 0.17094968433950786, 0.05269877487157761, 0.01928003958716254, 0.10796822168811022, 0.16580834044959786, 0.07069347848626265, 0.11439490155049774, 0.041130751119280086, 0.17480569225694037, 0.03341873528441507, 0.024421383477072553, 0.021850711532117546, 0.0705561548471142, 0.09877861678595987, 0.1516957329212955, 0.08995909743007059, 0.1605152522771848, 0.1375845019518727, 0.052917116135335646, 0.09172300130124846, 0.05820882774886921, 0.0352780774235571, 0.001763903871177855, 0.04938930839297993, 0.9844488417763871, 0.02380803447474141, 0.928513344514915, 0.02380803447474141, 0.976909860985737, 0.9772995379409211, 0.9042142558351419, 0.0452107127917571, 0.0452107127917571, 0.1544061740594032, 0.14097955022815076, 0.4900717698407146, 0.006713311915626227, 0.1275529263968983, 0.060419807240636045, 0.006713311915626227, 0.013426623831252454, 0.97932368338642, 0.9642322664209817, 0.9801989125064844, 0.009537776884116679, 0.009537776884116679, 0.6390310512358174, 0.3147466371758504, 0.009537776884116679, 0.10786308557030005, 0.08350690495765166, 0.02609590779926614, 0.09220554089074037, 0.05915072434500326, 0.25747962361942595, 0.08002745058441617, 0.008698635933088714, 0.09394526807735812, 0.017397271866177427, 0.14091790211603716, 0.033054816545737116, 0.941250689317899, 0.7476788584965176, 0.011502751669177195, 0.23005503338354388, 0.013345746265493166, 0.11121455221244304, 0.27581208948685876, 0.09342022385845215, 0.004448582088497722, 0.05783156715047038, 0.13345746265493166, 0.004448582088497722, 0.2936064178408496, 0.017794328353990887, 0.9608381293478081, 0.005417176240038876, 0.04333740992031101, 0.02708588120019438, 0.016251528720116627, 0.2546072832818272, 0.10834352480077752, 0.3846195130427602, 0.10292634856073865, 0.05417176240038876, 0.978195023611773, 0.009981581873589522, 0.896587287910985, 0.08747193052790098, 0.01504194060458602, 0.9626841986935053, 0.024022047388587552, 0.9368598481549146, 0.9571778398129894, 0.6696795223681229, 0.2546668606188636, 0.009432105948846801, 0.009432105948846801, 0.009432105948846801, 0.009432105948846801, 0.009432105948846801, 0.0282963178465404, 0.018361027573301058, 0.973134461384956, 0.9629757479872838, 0.8314941799635933, 0.1080472663229528, 0.03758165785146184, 0.014093121694298192, 0.9622547751871396, 0.027100351185141064, 0.5149066725176802, 0.006775087796285266, 0.020325263388855798, 0.06775087796285266, 0.1422768437219906, 0.020325263388855798, 0.060975790166567394, 0.12195158033313479, 0.013550175592570532, 0.006775087796285266, 0.9814163522796902, 0.9400038418948898, 0.017555756861979573, 0.8251205725130399, 0.017555756861979573, 0.1404460548958366, 0.1356725973132163, 0.006029893213920725, 0.009044839820881086, 0.07537366517400905, 0.06934377196008833, 0.05125409231832616, 0.0030149466069603623, 0.018089679641762172, 0.5758548019294292, 0.05426903892528652, 0.9616726225109989, 0.021856195966159068, 0.9682826618980375, 0.02845145994898826, 0.9388981783166127, 0.9401087045961375, 0.7043541116499971, 0.037565552621333174, 0.06573971708733306, 0.05634832893199976, 0.12208804601933282, 0.2595840682265444, 0.07488001968073396, 0.08736002296085629, 0.07238401902470949, 0.2096640551060551, 0.03993601049639144, 0.07238401902470949, 0.03244800852831805, 0.06240001640061164, 0.029952007872293584, 0.03744000984036698, 0.01996800524819572, 0.3009162093880189, 0.6860889574046831, 0.9722417783163447, 0.02338500435417059, 0.9587851785209941, 0.004758601949044631, 0.004758601949044631, 0.17606827211465137, 0.009517203898089263, 0.14751666042038358, 0.34737794228025815, 0.27124031109554403, 0.009517203898089263, 0.02855161169426779, 0.004758601949044631, 0.9839150432486397, 0.0036433002888941993, 0.007286600577788399, 0.010929900866682598, 0.08015260635567238, 0.7250167574899457, 0.10565570837793178, 0.021859801733365197, 0.0036433002888941993, 0.04007630317783619, 0.1546849363912971, 0.17704902358040028, 0.04752368527684429, 0.030750619885016893, 0.043796337411993756, 0.11368410987794124, 0.06336491370245906, 0.07920614212807381, 0.06522858763488432, 0.05218287010790745, 0.15841228425614762, 0.01490939145940213, 0.9522042662394425, 0.3457022403683738, 0.0937766996861336, 0.04053060749146452, 0.06357742351602277, 0.0778823438071279, 0.012715484703204556, 0.07549819042527704, 0.04847778543096737, 0.03973588969751424, 0.017483791466906262, 0.0778823438071279, 0.10728690218328844, 0.9625513034957626, 0.8889959449266657, 0.03065503258367813, 0.07152840936191562, 0.030584540712253087, 0.8257825992308333, 0.030584540712253087, 0.04077938761633745, 0.07136392832859054, 0.9772430956930417, 0.9537309246429174, 0.059661963308382096, 0.0861783914454408, 0.8286383792830847, 0.0066291070342646774, 0.0066291070342646774, 0.0066291070342646774, 0.037921704956154954, 0.009480426239038739, 0.05688255743423243, 0.13272596734654232, 0.7394732466450216, 0.018960852478077477, 0.9424840815767971, 0.9680913526215728, 0.9265864539240954, 0.04792688554779804, 0.01597562851593268, 0.48050638935697526, 0.010797896390044387, 0.01619684458506658, 0.01619684458506658, 0.021595792780088774, 0.01619684458506658, 0.4265169074067533, 0.0053989481950221935], \"Term\": [\"abarcar\", \"abordar\", \"about\", \"abre\", \"aburr\", \"aburr\", \"aburre\", \"aburrida\", \"aburrida\", \"aburrido\", \"aburrido\", \"aburrido\", \"aburrido\", \"aburrido\", \"aburrido\", \"aburrido\", \"aburrido\", \"acaba\", \"acabo\", \"acceder\", \"acceder\", \"acceder\", \"acceder\", \"acceso\", \"acceso\", \"acceso\", \"accion\", \"acelerado\", \"aclaro\", \"acorde\", \"actividad\", \"actualiz\", \"actualiz\", \"actualiz\", \"actualizado\", \"actualizado\", \"actualizado\", \"actualizado\", \"actualizado\", \"actualizado\", \"adecu\", \"adecuada\", \"adecuada\", \"adecuada\", \"adecuadamente\", \"adir\", \"adquirir\", \"adquirir\", \"adquirir\", \"agrada\", \"agradece\", \"agradecido\", \"agrado\", \"agregar\", \"agregar\", \"agregar\", \"agregar\", \"agregar\", \"ahor\", \"ahor\", \"ahora\", \"ahora\", \"ahora\", \"ahora\", \"ahora\", \"ahora\", \"ahora\", \"ahora\", \"ahora\", \"ahora\", \"ahora\", \"ahora\", \"ahorita\", \"ahorita\", \"ahorita\", \"alcance\", \"alguno\", \"alumno\", \"alumno\", \"alumno\", \"alumno\", \"alumno\", \"alumno\", \"ambito\", \"ameno\", \"amplio\", \"animaciones\", \"animo\", \"apache\", \"aparecen\", \"apartado\", \"apenas\", \"apenas\", \"apenas\", \"apenas\", \"apenas\", \"apenas\", \"apenas\", \"apenas\", \"aplic\", \"aplicacion\", \"aplicacion\", \"aplicacion\", \"aplicacion\", \"aplicacion\", \"aplicacion\", \"aplicacion\", \"aplicacion\", \"aplicacion\", \"aplicacion\", \"aport\", \"aporta\", \"aporta\", \"aporte\", \"aprecia\", \"aprend\", \"aprend\", \"aprend\", \"aprend\", \"aprend\", \"aprend\", \"aprend\", \"aprender\", \"aprender\", \"aprender\", \"aprender\", \"aprender\", \"aprender\", \"aprender\", \"aprender\", \"aprender\", \"aprender\", \"aprender\", \"aprender\", \"aprendes\", \"aprendi\", \"aprendi\", \"aprendi\", \"aprendi\", \"aprendi\", \"aprendi\", \"aprendi\", \"aprendiendo\", \"aprendiendo\", \"aprendiendo\", \"aprendiendo\", \"aquellos\", \"arch\", \"area\", \"area\", \"atencion\", \"atencion\", \"atencion\", \"atencion\", \"atencion\", \"audi\", \"audi\", \"audi\", \"audio\", \"audio\", \"audio\", \"audio\", \"audio\", \"audio\", \"audio\", \"audio\", \"audio\", \"audio\", \"audio\", \"audio\", \"audios\", \"aunque\", \"aunque\", \"aunque\", \"aunque\", \"aunque\", \"aunque\", \"aunque\", \"aunque\", \"aunque\", \"aunque\", \"aunque\", \"aunque\", \"avanz\", \"avanz\", \"avanz\", \"avanz\", \"avanz\", \"ayud\", \"ayud\", \"ayuda\", \"ayuda\", \"ayuda\", \"ayuda\", \"ayuda\", \"ayuda\", \"ayuda\", \"ayuda\", \"ayuda\", \"ayuda\", \"ayudan\", \"ayudaria\", \"ayudaria\", \"ayudo\", \"ayudo\", \"ayudo\", \"b\", \"backend\", \"baj\", \"baj\", \"baj\", \"bas\", \"bas\", \"bas\", \"bas\", \"bas\", \"bas\", \"basado\", \"base\", \"base\", \"base\", \"base\", \"base\", \"base\", \"base\", \"base\", \"base\", \"bases\", \"bases\", \"bases\", \"bases\", \"bases\", \"bases\", \"basic\", \"basica\", \"basica\", \"basica\", \"basica\", \"basica\", \"basica\", \"basica\", \"basica\", \"basicas\", \"basicas\", \"basicas\", \"basicas\", \"basicas\", \"basicas\", \"basicas\", \"basicas\", \"basicas\", \"basicas\", \"basico\", \"basico\", \"basico\", \"basico\", \"basico\", \"basico\", \"basico\", \"basico\", \"basico\", \"basico\", \"basico\", \"basico\", \"basicos\", \"basicos\", \"basicos\", \"basicos\", \"basicos\", \"basicos\", \"basicos\", \"basicos\", \"basicos\", \"basicos\", \"bast\", \"bast\", \"bastante\", \"bastante\", \"bastante\", \"bastante\", \"bastante\", \"bastante\", \"bastante\", \"bastante\", \"bastante\", \"bastante\", \"bastante\", \"bastante\", \"bastantes\", \"bastantes\", \"bastantes\", \"bi\", \"bi\", \"bi\", \"bi\", \"bi\", \"bi\", \"bi\", \"bi\", \"bi\", \"bi\", \"bi\", \"bien\", \"bien\", \"bien\", \"bien\", \"bien\", \"bien\", \"bien\", \"bien\", \"bien\", \"bien\", \"bien\", \"bien\", \"bootstrap\", \"brev\", \"breves\", \"brinda\", \"buena\", \"buena\", \"buena\", \"buena\", \"bueno\", \"bueno\", \"bueno\", \"bueno\", \"bueno\", \"bueno\", \"buenos\", \"busc\", \"buscaba\", \"c\", \"c\", \"c\", \"c\", \"c\", \"cada\", \"cada\", \"cada\", \"cada\", \"cada\", \"cada\", \"cada\", \"cada\", \"cada\", \"cada\", \"cada\", \"cada\", \"cal\", \"cal\", \"calidad\", \"calidad\", \"calidad\", \"calidad\", \"calidad\", \"calidad\", \"calidad\", \"calidad\", \"calidad\", \"calidad\", \"calidad\", \"calificacion\", \"calificacion\", \"calificacion\", \"calificacion\", \"calificacion\", \"calificacion\", \"calificacion\", \"calificacion\", \"calificacion\", \"cambiado\", \"cambiado\", \"cambiado\", \"cambios\", \"cambios\", \"canal\", \"cantidad\", \"cantidad\", \"cantidad\", \"captar\", \"cas\", \"caso\", \"caso\", \"caso\", \"caso\", \"caso\", \"caso\", \"caso\", \"caso\", \"caso\", \"caso\", \"caso\", \"casos\", \"casos\", \"casos\", \"casos\", \"casos\", \"casos\", \"casos\", \"casos\", \"celular\", \"cer\", \"cero\", \"cero\", \"cero\", \"cero\", \"cero\", \"certific\", \"certificacion\", \"certificacion\", \"cl\", \"cl\", \"cl\", \"clar\", \"clar\", \"clar\", \"clar\", \"clar\", \"clara\", \"clara\", \"clara\", \"clara\", \"clara\", \"claro\", \"claro\", \"claro\", \"claro\", \"claro\", \"claro\", \"claro\", \"claro\", \"claro\", \"claro\", \"claro\", \"clase\", \"clase\", \"clase\", \"clase\", \"clase\", \"clase\", \"clase\", \"clase\", \"clase\", \"clase\", \"clase\", \"clase\", \"clave\", \"cliente\", \"code\", \"codeigniter\", \"codigo\", \"codigo\", \"codigo\", \"codigo\", \"codigo\", \"codigo\", \"codigo\", \"codigo\", \"codigo\", \"codigo\", \"codigo\", \"codigo\", \"colocar\", \"colocar\", \"colocar\", \"comando\", \"comando\", \"comandos\", \"comandos\", \"comandos\", \"comandos\", \"comandos\", \"comandos\", \"comandos\", \"comenta\", \"comenta\", \"comentarios\", \"comentarios\", \"comentarios\", \"comentarios\", \"comentarios\", \"comentarios\", \"comentarios\", \"comenzando\", \"comenzando\", \"comenzando\", \"comenzar\", \"comenzar\", \"comenzar\", \"comenzar\", \"comenzar\", \"comercial\", \"comete\", \"comienza\", \"comienza\", \"comparacion\", \"complej\", \"complej\", \"complejo\", \"complejo\", \"complet\", \"complet\", \"complet\", \"complet\", \"complet\", \"completo\", \"completo\", \"completo\", \"completo\", \"completo\", \"completo\", \"completo\", \"completo\", \"completo\", \"comprar\", \"comprar\", \"comprar\", \"comprar\", \"comprar\", \"comprend\", \"comprender\", \"comprender\", \"comprender\", \"comprensible\", \"comprension\", \"comprension\", \"concept\", \"concept\", \"concept\", \"concept\", \"concept\", \"concepto\", \"concepto\", \"concepto\", \"conceptos\", \"conceptos\", \"conceptos\", \"conceptos\", \"conceptos\", \"conceptos\", \"conceptos\", \"conceptos\", \"conceptos\", \"conceptos\", \"conceptos\", \"conceptos\", \"concret\", \"concreta\", \"conectar\", \"conexion\", \"conexion\", \"conexion\", \"conexion\", \"confianza\", \"configuracion\", \"configuracion\", \"configuracion\", \"configuracion\", \"configuracion\", \"configuracion\", \"configuracion\", \"configuracion\", \"confund\", \"confunde\", \"confus\", \"conoc\", \"conoc\", \"conoc\", \"conocer\", \"conocer\", \"conocer\", \"conocer\", \"conocer\", \"conocer\", \"conocer\", \"conocer\", \"conocer\", \"conocimiento\", \"conocimiento\", \"conocimiento\", \"conocimiento\", \"conocimiento\", \"conocimiento\", \"conocimiento\", \"conocimiento\", \"conocimiento\", \"conocimiento\", \"conocimiento\", \"conocimiento\", \"conocimientos\", \"conocimientos\", \"conocimientos\", \"conocimientos\", \"conocimientos\", \"conocimientos\", \"conocimientos\", \"conocimientos\", \"conocimientos\", \"conocimientos\", \"conocimientos\", \"conozco\", \"considerando\", \"considero\", \"considero\", \"considero\", \"considero\", \"considero\", \"considero\", \"considero\", \"considero\", \"considero\", \"consola\", \"consola\", \"consultas\", \"consultas\", \"consultas\", \"conten\", \"conten\", \"conten\", \"conten\", \"conten\", \"contenido\", \"contenido\", \"contenido\", \"contenido\", \"contenido\", \"contenido\", \"contenido\", \"contenido\", \"contenido\", \"contenido\", \"contenido\", \"contenido\", \"continu\", \"controladores\", \"conveniente\", \"correo\", \"correo\", \"cort\", \"cort\", \"cort\", \"corta\", \"corta\", \"corta\", \"corto\", \"corto\", \"corto\", \"corto\", \"corto\", \"corto\", \"corto\", \"corto\", \"corto\", \"cortos\", \"cortos\", \"cortos\", \"cortos\", \"cosas\", \"cosas\", \"cosas\", \"cosas\", \"cosas\", \"cosas\", \"cosas\", \"cosas\", \"cosas\", \"cosas\", \"cosas\", \"cosas\", \"could\", \"cours\", \"course\", \"course\", \"cr\", \"crei\", \"crei\", \"crei\", \"crei\", \"crei\", \"creo\", \"creo\", \"creo\", \"creo\", \"creo\", \"creo\", \"creo\", \"creo\", \"creo\", \"creo\", \"creo\", \"creo\", \"cuent\", \"cuesta\", \"cuesta\", \"cuesta\", \"cuestion\", \"cuestionarios\", \"cuestionarios\", \"cuestionarios\", \"cuidar\", \"cumple\", \"cumple\", \"cumple\", \"cumple\", \"cumple\", \"cumple\", \"cumple\", \"cumple\", \"cumple\", \"cumple\", \"curs\", \"curs\", \"curs\", \"curs\", \"curs\", \"curs\", \"curs\", \"curs\", \"curs\", \"curs\", \"curs\", \"curs\", \"cursos\", \"cursos\", \"cursos\", \"cursos\", \"cursos\", \"cursos\", \"cursos\", \"cursos\", \"cursos\", \"cursos\", \"cursos\", \"cursos\", \"daria\", \"datos\", \"datos\", \"datos\", \"datos\", \"datos\", \"datos\", \"datos\", \"datos\", \"datos\", \"debe\", \"debe\", \"debe\", \"debe\", \"debe\", \"debe\", \"debe\", \"debe\", \"debe\", \"debe\", \"debe\", \"deberia\", \"deberia\", \"deberia\", \"deberia\", \"deberia\", \"deberia\", \"deberia\", \"deberia\", \"deberia\", \"deberia\", \"deberia\", \"deberia\", \"deberias\", \"debido\", \"debido\", \"dec\", \"deficiente\", \"demasiada\", \"demasiada\", \"demasiada\", \"demasiadas\", \"demasiado\", \"demasiado\", \"demasiado\", \"demasiado\", \"demasiado\", \"demasiado\", \"demasiado\", \"demasiado\", \"demasiado\", \"demasiado\", \"demasiado\", \"demasiado\", \"desactualiz\", \"desarrollando\", \"desarrollo\", \"desarrollo\", \"desarrollo\", \"desarrollo\", \"desarrollo\", \"desarrollo\", \"desarrollo\", \"desarrollo\", \"desarrollo\", \"desarrollo\", \"descripcion\", \"descripcion\", \"descripcion\", \"desordenado\", \"desordenado\", \"desordenado\", \"despacio\", \"detallada\", \"detalladamente\", \"detallado\", \"detallado\", \"detallado\", \"detallado\", \"dic\", \"dic\", \"diccion\", \"diccion\", \"dice\", \"dice\", \"dice\", \"dice\", \"dice\", \"dice\", \"dice\", \"dice\", \"dice\", \"dice\", \"dice\", \"dice\", \"dicen\", \"dicen\", \"dicho\", \"dicho\", \"dicho\", \"dicta\", \"didact\", \"diferencia\", \"diferencia\", \"diferencia\", \"diferencias\", \"diferent\", \"dificulta\", \"dificulta\", \"diga\", \"digital\", \"digital\", \"digital\", \"dinam\", \"dinam\", \"dinamica\", \"dirigido\", \"distintos\", \"distintos\", \"diversos\", \"divertido\", \"documentacion\", \"documentacion\", \"documentacion\", \"documentacion\", \"documentacion\", \"documentacion\", \"documentacion\", \"dudo\", \"ejempl\", \"ejempl\", \"ejempl\", \"ejempl\", \"ejempl\", \"ejempl\", \"ejemplo\", \"ejemplo\", \"ejemplo\", \"ejemplo\", \"ejemplo\", \"ejemplo\", \"ejemplo\", \"ejemplo\", \"ejemplo\", \"ejemplo\", \"ejemplo\", \"ejemplos\", \"ejemplos\", \"ejemplos\", \"ejemplos\", \"ejemplos\", \"ejemplos\", \"ejemplos\", \"ejemplos\", \"ejemplos\", \"ejemplos\", \"ejemplos\", \"ejemplos\", \"ejercici\", \"ejercicios\", \"ejercicios\", \"ejercicios\", \"ejercicios\", \"ejercicios\", \"ejercicios\", \"ejercicios\", \"ejercicios\", \"ejercicios\", \"ejercicios\", \"ejercicios\", \"eleccion\", \"eleccion\", \"eleccion\", \"eleccion\", \"eleccion\", \"eleccion\", \"eleccion\", \"eleccion\", \"eleccion\", \"elementos\", \"elementos\", \"elementos\", \"elementos\", \"elementos\", \"email\", \"embargo\", \"embargo\", \"embargo\", \"embargo\", \"embargo\", \"embargo\", \"embargo\", \"embargo\", \"embargo\", \"embargo\", \"embargo\", \"embargo\", \"empez\", \"empez\", \"empez\", \"empezar\", \"empezar\", \"empezar\", \"empezar\", \"empezar\", \"empezar\", \"empezar\", \"encanto\", \"encima\", \"encima\", \"encima\", \"encima\", \"encontrado\", \"encontrar\", \"encontrar\", \"encontrar\", \"encontrar\", \"encontrar\", \"encontrar\", \"encontrar\", \"encuentro\", \"encuentro\", \"encuentro\", \"encuentro\", \"encuentro\", \"enfoca\", \"enfoca\", \"enfocarse\", \"enfoque\", \"enfoque\", \"enlace\", \"enlace\", \"enreda\", \"ens\", \"ense\", \"ense\", \"ense\", \"ense\", \"ense\", \"ense\", \"ense\", \"ense\", \"ense\", \"ense\", \"ense\", \"ense\", \"entend\", \"entend\", \"entend\", \"entend\", \"entend\", \"entend\", \"entender\", \"entender\", \"entender\", \"entender\", \"entender\", \"entender\", \"entender\", \"entender\", \"entender\", \"entender\", \"entender\", \"entender\", \"entenderlo\", \"entendi\", \"entendi\", \"entendi\", \"entendi\", \"entendible\", \"entendible\", \"entendible\", \"entendido\", \"entendimiento\", \"entiend\", \"entiende\", \"entiende\", \"entiende\", \"entiende\", \"entiende\", \"entiende\", \"entiende\", \"entienden\", \"entiendo\", \"entiendo\", \"entiendo\", \"entiendo\", \"entiendo\", \"entiendo\", \"entiendo\", \"entiendo\", \"entra\", \"entrar\", \"entrar\", \"entrar\", \"entusiasmo\", \"equipo\", \"error\", \"error\", \"error\", \"error\", \"error\", \"error\", \"errores\", \"errores\", \"errores\", \"errores\", \"errores\", \"errores\", \"errores\", \"errores\", \"errores\", \"errores\", \"errores\", \"escaso\", \"escuch\", \"escuchaba\", \"escuchar\", \"escuchar\", \"escuchar\", \"escuchar\", \"escueto\", \"esfuerzo\", \"esfuerzo\", \"espa\", \"espa\", \"espa\", \"espa\", \"espa\", \"espa\", \"espa\", \"espa\", \"espa\", \"espa\", \"especif\", \"especificar\", \"especifico\", \"especifico\", \"especifico\", \"espect\", \"esper\", \"esper\", \"esperaba\", \"esperaba\", \"esperaba\", \"esperaba\", \"esperaba\", \"esperaba\", \"esperaba\", \"esperaba\", \"esperaba\", \"esperaba\", \"esperaba\", \"esperaba\", \"espero\", \"espero\", \"espero\", \"espero\", \"espero\", \"espero\", \"espero\", \"espero\", \"espero\", \"espero\", \"espero\", \"espero\", \"estan\", \"estan\", \"estan\", \"estan\", \"estan\", \"estan\", \"estan\", \"estan\", \"estan\", \"estan\", \"estan\", \"estan\", \"estou\", \"estrategia\", \"estructur\", \"estudio\", \"estudio\", \"estudio\", \"etiquetas\", \"evaluacion\", \"evitar\", \"excelente\", \"excelente\", \"excelente\", \"excesivamente\", \"exceso\", \"expect\", \"expect\", \"expect\", \"expect\", \"experient\", \"experient\", \"expl\", \"expl\", \"expl\", \"expl\", \"explic\", \"explic\", \"explic\", \"explic\", \"explic\", \"explic\", \"explic\", \"explic\", \"explic\", \"explica\", \"explica\", \"explica\", \"explica\", \"explica\", \"explica\", \"explica\", \"explica\", \"explica\", \"explica\", \"explica\", \"explica\", \"explicacion\", \"explicacion\", \"explicacion\", \"explicacion\", \"explicacion\", \"explicacion\", \"explicacion\", \"explicacion\", \"explicacion\", \"explicacion\", \"explicacion\", \"explicacion\", \"explicaciones\", \"explicaciones\", \"explicaciones\", \"explicaciones\", \"explicaciones\", \"explicaciones\", \"explicaciones\", \"explicaciones\", \"explicaciones\", \"explicaciones\", \"explicaciones\", \"explicaciones\", \"explicadas\", \"explicado\", \"explicado\", \"explicado\", \"explicado\", \"explicado\", \"explicado\", \"explicado\", \"explicado\", \"explicado\", \"explicado\", \"explican\", \"explican\", \"explican\", \"explican\", \"explican\", \"explican\", \"explicar\", \"explicar\", \"explicar\", \"explicar\", \"explicar\", \"explicar\", \"explicar\", \"explicar\", \"explicar\", \"explicar\", \"explicar\", \"explicar\", \"explicito\", \"explico\", \"explico\", \"explico\", \"explico\", \"exposicion\", \"exposicion\", \"expositor\", \"expositor\", \"expositor\", \"expresarse\", \"extenso\", \"extiende\", \"extremadamente\", \"facebook\", \"facebook\", \"facebook\", \"facil\", \"facil\", \"facil\", \"facil\", \"facil\", \"facil\", \"facil\", \"facil\", \"facil\", \"facil\", \"fallos\", \"falta\", \"falta\", \"falta\", \"falta\", \"falta\", \"falta\", \"falta\", \"falta\", \"falta\", \"falta\", \"falta\", \"falta\", \"faltado\", \"faltan\", \"faltan\", \"faltan\", \"faltan\", \"faltan\", \"faltan\", \"faltan\", \"faltan\", \"falto\", \"falto\", \"falto\", \"falto\", \"falto\", \"falto\", \"falto\", \"falto\", \"falto\", \"fatal\", \"felicidades\", \"final\", \"final\", \"final\", \"final\", \"final\", \"final\", \"final\", \"final\", \"final\", \"final\", \"final\", \"final\", \"fluida\", \"fluidez\", \"fluido\", \"fondo\", \"fondo\", \"fondo\", \"fondo\", \"fondo\", \"fondo\", \"fondo\", \"fondo\", \"fondo\", \"fondo\", \"forma\", \"forma\", \"forma\", \"forma\", \"forma\", \"forma\", \"forma\", \"forma\", \"forma\", \"forma\", \"forma\", \"formador\", \"fotografia\", \"fotos\", \"frases\", \"funciona\", \"funciona\", \"funciona\", \"funciona\", \"funciona\", \"funciona\", \"funciona\", \"funciona\", \"funcional\", \"funcionamiento\", \"funcionamiento\", \"funcionamiento\", \"ganas\", \"ganas\", \"ganas\", \"ganas\", \"general\", \"general\", \"general\", \"general\", \"general\", \"general\", \"general\", \"general\", \"general\", \"general\", \"github\", \"github\", \"good\", \"graci\", \"graci\", \"graci\", \"graci\", \"graci\", \"graci\", \"graci\", \"graf\", \"grafica\", \"graficas\", \"grafico\", \"gratis\", \"gratis\", \"gratis\", \"gratis\", \"gratis\", \"gratis\", \"gratuit\", \"gratuito\", \"gratuito\", \"gratuito\", \"guia\", \"guia\", \"guia\", \"guion\", \"guion\", \"guion\", \"gust\", \"gust\", \"gust\", \"gust\", \"gusta\", \"gusta\", \"gusta\", \"gusta\", \"gusta\", \"gusta\", \"gusta\", \"gusta\", \"gusta\", \"gusta\", \"gustando\", \"gustaria\", \"gustaria\", \"gustaria\", \"gustaria\", \"gustaria\", \"gustaria\", \"gustaria\", \"gustaria\", \"gustaria\", \"gustaria\", \"gustaria\", \"gusto\", \"gusto\", \"gusto\", \"gusto\", \"gusto\", \"gusto\", \"gusto\", \"gusto\", \"gusto\", \"gusto\", \"gusto\", \"haberse\", \"habilidades\", \"habl\", \"habla\", \"habla\", \"habla\", \"habla\", \"habla\", \"habla\", \"habla\", \"habla\", \"habla\", \"habla\", \"hablando\", \"hablando\", \"hablando\", \"hablando\", \"hablar\", \"hablar\", \"hablar\", \"hablar\", \"hablar\", \"hablar\", \"hablar\", \"hablar\", \"hablar\", \"hablo\", \"hac\", \"hac\", \"hac\", \"hac\", \"hace\", \"hace\", \"hace\", \"hace\", \"hace\", \"hace\", \"hace\", \"hace\", \"hace\", \"hace\", \"hace\", \"hace\", \"hacen\", \"hacen\", \"hacen\", \"hacen\", \"hacen\", \"hacen\", \"hacen\", \"hacer\", \"hacer\", \"hacer\", \"hacer\", \"hacer\", \"hacer\", \"hacer\", \"hacer\", \"hacer\", \"hacer\", \"hacer\", \"hacer\", \"hacerse\", \"have\", \"herramient\", \"herramient\", \"herramienta\", \"herramienta\", \"herramienta\", \"herramienta\", \"herramienta\", \"herramienta\", \"herramienta\", \"herramienta\", \"herramientas\", \"herramientas\", \"herramientas\", \"herramientas\", \"herramientas\", \"herramientas\", \"herramientas\", \"herramientas\", \"herramientas\", \"herramientas\", \"hilo\", \"hilo\", \"hilo\", \"historia\", \"hola\", \"hola\", \"hora\", \"hora\", \"hora\", \"hora\", \"hora\", \"hora\", \"horrible\", \"html\", \"html\", \"html\", \"html\", \"ide\", \"idioma\", \"idioma\", \"idioma\", \"imparte\", \"imparte\", \"import\", \"improvis\", \"improvisado\", \"incluir\", \"incluir\", \"incomplet\", \"incompleto\", \"incompleto\", \"incompleto\", \"incompleto\", \"incompleto\", \"info\", \"informacion\", \"informacion\", \"informacion\", \"informacion\", \"informacion\", \"informacion\", \"informacion\", \"informacion\", \"informacion\", \"informacion\", \"informacion\", \"informacion\", \"informativo\", \"ingresar\", \"inici\", \"inici\", \"inicia\", \"iniciacion\", \"iniciacion\", \"iniciacion\", \"iniciacion\", \"iniciar\", \"iniciar\", \"iniciar\", \"iniciar\", \"iniciar\", \"iniciar\", \"iniciar\", \"instalacion\", \"instalacion\", \"instalacion\", \"instalacion\", \"instalacion\", \"instalacion\", \"instalacion\", \"instalacion\", \"instructor\", \"instructor\", \"instructor\", \"instructor\", \"instructor\", \"instructor\", \"instructor\", \"instructor\", \"instructor\", \"instructor\", \"instructor\", \"instructor\", \"intencion\", \"intencion\", \"inter\", \"interaccion\", \"interactivo\", \"interes\", \"interes\", \"interes\", \"interes\", \"interes\", \"interes\", \"interes\", \"interesado\", \"interesante\", \"interesante\", \"interesante\", \"interesante\", \"interesante\", \"interesante\", \"interesante\", \"interesante\", \"interesante\", \"interesante\", \"interesante\", \"interesante\", \"interlocutor\", \"intro\", \"introduccion\", \"introduccion\", \"introduccion\", \"introduccion\", \"introduccion\", \"introduccion\", \"introduccion\", \"introduccion\", \"introduccion\", \"introduccion\", \"introduccion\", \"introducirse\", \"introductori\", \"introductori\", \"introductori\", \"introductorio\", \"introductorio\", \"introductorio\", \"introductorio\", \"introductorio\", \"introductorio\", \"inversion\", \"invertir\", \"jav\", \"java\", \"java\", \"javascript\", \"juego\", \"justo\", \"know\", \"l\", \"larg\", \"larg\", \"largos\", \"largos\", \"leccion\", \"leccion\", \"leccion\", \"leccion\", \"leccion\", \"leccion\", \"leccion\", \"leccion\", \"leccion\", \"leccion\", \"lengua\", \"lenguaj\", \"lenguajes\", \"lent\", \"lent\", \"lenta\", \"lenta\", \"lenta\", \"lento\", \"lento\", \"lento\", \"lento\", \"lento\", \"lento\", \"lento\", \"lento\", \"letras\", \"letras\", \"letras\", \"link\", \"link\", \"link\", \"link\", \"linux\", \"linux\", \"linux\", \"llamarse\", \"locutor\", \"login\", \"login\", \"logra\", \"logra\", \"logra\", \"luego\", \"luego\", \"luego\", \"luego\", \"luego\", \"luego\", \"luego\", \"luego\", \"luego\", \"m\", \"macros\", \"macros\", \"mail\", \"mais\", \"malo\", \"malo\", \"malo\", \"malo\", \"malo\", \"malo\", \"malo\", \"malo\", \"manera\", \"manera\", \"manera\", \"manera\", \"manera\", \"manera\", \"manera\", \"manera\", \"manera\", \"manera\", \"manera\", \"maneras\", \"mejor\", \"mejor\", \"mejor\", \"mejor\", \"mejor\", \"mejor\", \"mejor\", \"mejor\", \"mejor\", \"mejor\", \"mejor\", \"mejor\", \"mejorando\", \"mejorar\", \"mejorar\", \"mejorar\", \"mejorar\", \"mejorar\", \"mejorar\", \"mejorar\", \"mejorar\", \"mejorar\", \"mejorar\", \"mejorar\", \"mejoraria\", \"men\", \"menos\", \"menos\", \"menos\", \"menos\", \"menos\", \"menos\", \"menos\", \"menos\", \"menos\", \"menos\", \"menos\", \"menos\", \"mensaje\", \"menu\", \"metodo\", \"metodo\", \"metodo\", \"microfono\", \"mini\", \"mismo\", \"mismo\", \"mismo\", \"mismo\", \"mismo\", \"mismo\", \"mismo\", \"mismo\", \"mismo\", \"mismo\", \"mismo\", \"mismo\", \"modelos\", \"modelos\", \"modo\", \"modo\", \"modul\", \"molesta\", \"moment\", \"moment\", \"momento\", \"momento\", \"momento\", \"momento\", \"momento\", \"momento\", \"momento\", \"momento\", \"momento\", \"momento\", \"momento\", \"momento\", \"monotona\", \"monotona\", \"more\", \"mostrando\", \"motiva\", \"movil\", \"much\", \"mucha\", \"mucha\", \"mucha\", \"mucha\", \"mucha\", \"mucha\", \"mucha\", \"mucha\", \"mucha\", \"mucha\", \"mucha\", \"muito\", \"mundo\", \"mundo\", \"mundo\", \"mundo\", \"mundo\", \"mundo\", \"mundo\", \"mundo\", \"musica\", \"musica\", \"musica\", \"musica\", \"musica\", \"musica\", \"musica\", \"mysql\", \"nadie\", \"necesaria\", \"necesita\", \"necesita\", \"necesita\", \"necesita\", \"necesita\", \"necesitan\", \"negoci\", \"negocio\", \"nocion\", \"nociones\", \"nociones\", \"nombre\", \"nombre\", \"nombre\", \"nombre\", \"nombre\", \"normal\", \"normal\", \"normalmente\", \"nota\", \"nota\", \"nota\", \"nota\", \"nota\", \"nota\", \"nota\", \"nota\", \"nota\", \"nuev\", \"nuev\", \"nuev\", \"nuev\", \"nueva\", \"nueva\", \"nuevas\", \"nuevas\", \"nuevas\", \"nuevas\", \"nuevos\", \"nuevos\", \"nuevos\", \"objet\", \"obstante\", \"obstante\", \"obstante\", \"obstante\", \"obstante\", \"online\", \"online\", \"opcion\", \"opcion\", \"opcion\", \"operaciones\", \"oportunidad\", \"orador\", \"orden\", \"orden\", \"orden\", \"orden\", \"orden\", \"orden\", \"ordenador\", \"orientada\", \"orientado\", \"ortografia\", \"ortografia\", \"pag\", \"pag\", \"pag\", \"pag\", \"pagin\", \"pagina\", \"pagina\", \"pagina\", \"pagina\", \"pagina\", \"pagina\", \"paginas\", \"pago\", \"pago\", \"pais\", \"pais\", \"palabr\", \"pantall\", \"parametros\", \"parametros\", \"parec\", \"parece\", \"parece\", \"parece\", \"parece\", \"parece\", \"parece\", \"parece\", \"parece\", \"parece\", \"parece\", \"parece\", \"parece\", \"parecido\", \"parecido\", \"parecido\", \"parecido\", \"parecido\", \"parecido\", \"parecio\", \"parecio\", \"parecio\", \"parecio\", \"parecio\", \"parecio\", \"parecio\", \"parecio\", \"parecio\", \"parecio\", \"part\", \"parte\", \"parte\", \"parte\", \"parte\", \"parte\", \"parte\", \"parte\", \"parte\", \"parte\", \"parte\", \"parte\", \"parte\", \"pas\", \"pas\", \"pas\", \"pas\", \"pas\", \"pas\", \"paso\", \"paso\", \"paso\", \"paso\", \"paso\", \"paso\", \"paso\", \"paso\", \"paso\", \"pasos\", \"pasos\", \"pasos\", \"pasos\", \"pasos\", \"pasos\", \"pega\", \"pega\", \"pensar\", \"perfecto\", \"perfecto\", \"perfecto\", \"permite\", \"permite\", \"permite\", \"permite\", \"permite\", \"persona\", \"persona\", \"persona\", \"persona\", \"persona\", \"persona\", \"persona\", \"persona\", \"persona\", \"persona\", \"persona\", \"personas\", \"personas\", \"personas\", \"personas\", \"personas\", \"personas\", \"personas\", \"personas\", \"personas\", \"personas\", \"personas\", \"pesar\", \"pesar\", \"pesar\", \"pesar\", \"pesar\", \"pesar\", \"pesar\", \"pesim\", \"piensa\", \"pierdes\", \"plan\", \"planeacion\", \"plataform\", \"plataforma\", \"plataforma\", \"plataforma\", \"plataforma\", \"plataforma\", \"plataforma\", \"plataforma\", \"plus\", \"poca\", \"poca\", \"poca\", \"poca\", \"poca\", \"poca\", \"poca\", \"poca\", \"poca\", \"poca\", \"poder\", \"poder\", \"poder\", \"poder\", \"poder\", \"poder\", \"poder\", \"poder\", \"poder\", \"poder\", \"poder\", \"podia\", \"podria\", \"podria\", \"podria\", \"podria\", \"podria\", \"podria\", \"podria\", \"podria\", \"podria\", \"podria\", \"podria\", \"poner\", \"poner\", \"poner\", \"poner\", \"poner\", \"poner\", \"poner\", \"posibilidades\", \"pract\", \"pract\", \"pract\", \"pract\", \"pract\", \"practic\", \"preferiria\", \"preguntas\", \"preguntas\", \"preguntas\", \"preguntas\", \"preguntas\", \"preguntas\", \"preguntas\", \"preguntas\", \"preguntas\", \"preguntas\", \"preguntas\", \"premium\", \"prepar\", \"presentacion\", \"presentacion\", \"presentacion\", \"presentacion\", \"presentacion\", \"presentacion\", \"presentacion\", \"presentacion\", \"presentador\", \"previ\", \"previa\", \"primer\", \"primer\", \"primer\", \"primer\", \"primer\", \"primer\", \"primer\", \"primer\", \"principales\", \"principi\", \"principi\", \"principiantes\", \"principiantes\", \"principiantes\", \"principiantes\", \"principiantes\", \"proceso\", \"proceso\", \"proceso\", \"proceso\", \"proceso\", \"proceso\", \"proceso\", \"product\", \"producto\", \"producto\", \"producto\", \"profesor\", \"profesor\", \"profesor\", \"profesor\", \"profesor\", \"profesor\", \"profesor\", \"profesor\", \"profesor\", \"profesor\", \"profesor\", \"profesor\", \"profund\", \"profund\", \"profundidad\", \"profundidad\", \"profundidad\", \"profundidad\", \"profundidad\", \"profundidad\", \"profundidad\", \"profundidad\", \"profundidad\", \"profundidad\", \"profundiz\", \"profundiz\", \"profundiza\", \"profundiza\", \"profundiza\", \"profundiza\", \"profundiza\", \"profundiza\", \"profundiza\", \"programacion\", \"programacion\", \"programacion\", \"programacion\", \"programacion\", \"programacion\", \"programacion\", \"programacion\", \"programacion\", \"programador\", \"promete\", \"promete\", \"promocion\", \"promocion\", \"pronunciacion\", \"pronunciacion\", \"pronunciacion\", \"propiedades\", \"propio\", \"publ\", \"puede\", \"puede\", \"puede\", \"puede\", \"puede\", \"puede\", \"puede\", \"puede\", \"puede\", \"puede\", \"puede\", \"puede\", \"puedes\", \"puedes\", \"puedes\", \"puedes\", \"puedes\", \"puedes\", \"puedes\", \"puedo\", \"puedo\", \"puedo\", \"puedo\", \"puedo\", \"puedo\", \"puedo\", \"puedo\", \"puedo\", \"puedo\", \"pues\", \"pues\", \"pues\", \"pues\", \"pues\", \"pues\", \"pues\", \"pues\", \"punt\", \"punto\", \"punto\", \"punto\", \"punto\", \"punto\", \"punto\", \"punto\", \"punto\", \"punto\", \"punto\", \"queremos\", \"quiera\", \"quieren\", \"quieren\", \"quiero\", \"quiero\", \"quiero\", \"quiero\", \"quisiera\", \"quisiera\", \"quiz\", \"quizas\", \"quizas\", \"quizas\", \"quizas\", \"quizas\", \"quizas\", \"quizas\", \"ramas\", \"rap\", \"rap\", \"rap\", \"rap\", \"rap\", \"rap\", \"rapido\", \"rapido\", \"rapido\", \"rapido\", \"rapido\", \"rapido\", \"rapido\", \"rapido\", \"rapido\", \"rapido\", \"rapido\", \"rapido\", \"rato\", \"realizando\", \"realmente\", \"realmente\", \"realmente\", \"realmente\", \"realmente\", \"realmente\", \"realmente\", \"realmente\", \"realmente\", \"realmente\", \"recibido\", \"recien\", \"recien\", \"recien\", \"recien\", \"recien\", \"recien\", \"recien\", \"recomendado\", \"recordar\", \"recordar\", \"redund\", \"referencias\", \"refiere\", \"regul\", \"relacionados\", \"relevante\", \"repasar\", \"repasar\", \"repetit\", \"revisar\", \"sab\", \"sabe\", \"sabe\", \"sabe\", \"sabe\", \"sabe\", \"sabe\", \"sabe\", \"sabe\", \"sabe\", \"sabe\", \"sabe\", \"sale\", \"sale\", \"sale\", \"salta\", \"salta\", \"salta\", \"salta\", \"salta\", \"salud\", \"salud\", \"salud\", \"salud\", \"salud\", \"salud\", \"salud\", \"salud\", \"salud\", \"salud\", \"script\", \"segu\", \"sencillas\", \"sencillas\", \"sencillos\", \"serie\", \"servicio\", \"servidor\", \"servidor\", \"siendo\", \"siendo\", \"siendo\", \"siendo\", \"siendo\", \"siendo\", \"siendo\", \"siento\", \"siento\", \"siento\", \"siento\", \"siento\", \"siento\", \"siento\", \"siento\", \"siento\", \"siento\", \"significa\", \"significado\", \"siguiendo\", \"siguiendo\", \"siguiendo\", \"simple\", \"simple\", \"simple\", \"simple\", \"simple\", \"simple\", \"simple\", \"sintaxis\", \"sintaxis\", \"sintaxis\", \"sirv\", \"sirv\", \"sirvio\", \"sirvio\", \"sirvio\", \"solo\", \"solo\", \"solo\", \"solo\", \"solo\", \"solo\", \"solo\", \"solo\", \"solo\", \"solo\", \"solo\", \"solo\", \"soluciones\", \"some\", \"sonido\", \"sonido\", \"sonido\", \"sonido\", \"sonido\", \"studio\", \"studio\", \"subtitulos\", \"subtitulos\", \"subtitulos\", \"subtitulos\", \"subtitulos\", \"subtitulos\", \"suena\", \"suficientes\", \"sugerencia\", \"sumamente\", \"super\", \"super\", \"super\", \"super\", \"super\", \"supone\", \"supone\", \"supongo\", \"tabla\", \"tama\", \"tanta\", \"teclado\", \"tecn\", \"tedi\", \"tem\", \"tem\", \"tem\", \"tem\", \"tem\", \"tem\", \"tem\", \"tem\", \"tem\", \"tema\", \"tema\", \"tema\", \"tema\", \"tema\", \"tema\", \"tema\", \"tema\", \"tema\", \"tema\", \"tema\", \"tema\", \"temas\", \"temas\", \"temas\", \"temas\", \"temas\", \"temas\", \"temas\", \"temas\", \"temas\", \"temas\", \"temas\", \"temas\", \"tener\", \"tener\", \"tener\", \"tener\", \"tener\", \"tener\", \"tener\", \"tener\", \"tener\", \"tener\", \"tener\", \"tener\", \"teor\", \"teorica\", \"teorica\", \"teorica\", \"termin\", \"terminal\", \"termine\", \"termine\", \"termine\", \"terminos\", \"terminos\", \"terminos\", \"terminos\", \"terminos\", \"terminos\", \"terminos\", \"terminos\", \"that\", \"think\", \"this\", \"tiemp\", \"tiemp\", \"tiemp\", \"tiemp\", \"tiemp\", \"tiempo\", \"tiempo\", \"tiempo\", \"tiempo\", \"tiempo\", \"tiempo\", \"tiempo\", \"tiempo\", \"tiempo\", \"tiempo\", \"tiempo\", \"tiempo\", \"tienda\", \"tipos\", \"tipos\", \"tipos\", \"titulo\", \"titulo\", \"titulo\", \"titulo\", \"titulo\", \"titulo\", \"titulo\", \"titulo\", \"titulo\", \"titulo\", \"titulos\", \"todas\", \"todas\", \"todas\", \"todas\", \"todas\", \"todas\", \"todas\", \"todas\", \"todas\", \"tono\", \"tono\", \"traba\", \"traba\", \"trabaj\", \"trabaj\", \"trading\", \"trading\", \"transmite\", \"trata\", \"trata\", \"trata\", \"trata\", \"trata\", \"trata\", \"trata\", \"trata\", \"traves\", \"traves\", \"trucos\", \"tutorial\", \"tutorial\", \"tutorial\", \"tutorial\", \"ubuntu\", \"udemy\", \"udemy\", \"udemy\", \"udemy\", \"udemy\", \"udemy\", \"udemy\", \"udemy\", \"udemy\", \"udemy\", \"udemy\", \"us\", \"usas\", \"usuarios\", \"usuarios\", \"usuarios\", \"usuarios\", \"util\", \"util\", \"util\", \"util\", \"util\", \"util\", \"util\", \"util\", \"util\", \"util\", \"utiles\", \"utiles\", \"utiliz\", \"utilizado\", \"utilizado\", \"valores\", \"vamos\", \"vamos\", \"vamos\", \"vamos\", \"vamos\", \"veces\", \"veces\", \"veces\", \"veces\", \"veces\", \"veces\", \"veces\", \"veces\", \"veces\", \"veces\", \"veces\", \"veces\", \"vender\", \"vender\", \"ventas\", \"veremos\", \"veremos\", \"version\", \"version\", \"version\", \"version\", \"version\", \"version\", \"version\", \"version\", \"version\", \"version\", \"very\", \"vide\", \"vide\", \"vide\", \"vide\", \"vide\", \"vide\", \"vide\", \"vide\", \"vide\", \"video\", \"video\", \"video\", \"video\", \"video\", \"video\", \"video\", \"video\", \"video\", \"video\", \"video\", \"video\", \"videojuegos\", \"videos\", \"videos\", \"videos\", \"videos\", \"videos\", \"videos\", \"videos\", \"videos\", \"videos\", \"videos\", \"videos\", \"videos\", \"viejo\", \"vista\", \"vista\", \"vista\", \"volumen\", \"volumen\", \"volumen\", \"volumen\", \"volumen\", \"vueltas\", \"what\", \"windows\", \"windows\", \"windows\", \"windows\", \"windows\", \"windows\", \"wordpress\", \"wordpress\", \"wordpress\", \"wordpress\", \"wordpress\", \"wordpress\", \"would\", \"xampp\", \"youtub\", \"youtub\", \"youtub\", \"youtube\", \"youtube\", \"youtube\", \"youtube\", \"youtube\", \"youtube\", \"youtube\", \"youtube\"]}, \"R\": 30, \"lambda.step\": 0.01, \"plot.opts\": {\"xlab\": \"PC1\", \"ylab\": \"PC2\"}, \"topic.order\": [5, 9, 8, 1, 6, 11, 3, 10, 12, 4, 7, 2]};\n",
       "\n",
       "function LDAvis_load_lib(url, callback){\n",
       "  var s = document.createElement('script');\n",
       "  s.src = url;\n",
       "  s.async = true;\n",
       "  s.onreadystatechange = s.onload = callback;\n",
       "  s.onerror = function(){console.warn(\"failed to load library \" + url);};\n",
       "  document.getElementsByTagName(\"head\")[0].appendChild(s);\n",
       "}\n",
       "\n",
       "if(typeof(LDAvis) !== \"undefined\"){\n",
       "   // already loaded: just create the visualization\n",
       "   !function(LDAvis){\n",
       "       new LDAvis(\"#\" + \"ldavis_el1661622170364081927937388006\", ldavis_el1661622170364081927937388006_data);\n",
       "   }(LDAvis);\n",
       "}else if(typeof define === \"function\" && define.amd){\n",
       "   // require.js is available: use it to load d3/LDAvis\n",
       "   require.config({paths: {d3: \"https://cdnjs.cloudflare.com/ajax/libs/d3/3.5.5/d3.min\"}});\n",
       "   require([\"d3\"], function(d3){\n",
       "      window.d3 = d3;\n",
       "      LDAvis_load_lib(\"https://cdn.rawgit.com/bmabey/pyLDAvis/files/ldavis.v1.0.0.js\", function(){\n",
       "        new LDAvis(\"#\" + \"ldavis_el1661622170364081927937388006\", ldavis_el1661622170364081927937388006_data);\n",
       "      });\n",
       "    });\n",
       "}else{\n",
       "    // require.js not available: dynamically load d3 & LDAvis\n",
       "    LDAvis_load_lib(\"https://cdnjs.cloudflare.com/ajax/libs/d3/3.5.5/d3.min.js\", function(){\n",
       "         LDAvis_load_lib(\"https://cdn.rawgit.com/bmabey/pyLDAvis/files/ldavis.v1.0.0.js\", function(){\n",
       "                 new LDAvis(\"#\" + \"ldavis_el1661622170364081927937388006\", ldavis_el1661622170364081927937388006_data);\n",
       "            })\n",
       "         });\n",
       "}\n",
       "</script>"
      ],
      "text/plain": [
       "PreparedData(topic_coordinates=              x         y  topics  cluster       Freq\n",
       "topic                                                \n",
       "4     -0.021297 -0.034630       1        1  10.642357\n",
       "8      0.083971  0.009111       2        1  10.522100\n",
       "7     -0.030777 -0.004642       3        1   9.918330\n",
       "0      0.005388 -0.039922       4        1   9.352767\n",
       "5     -0.007861 -0.069582       5        1   8.945814\n",
       "10     0.183944  0.176736       6        1   7.594612\n",
       "2      0.033005 -0.011587       7        1   7.566442\n",
       "9      0.032962 -0.104123       8        1   7.564454\n",
       "11     0.121097 -0.072570       9        1   7.489982\n",
       "3     -0.106675 -0.083526      10        1   7.168204\n",
       "6     -0.113304  0.172222      11        1   7.013817\n",
       "1     -0.180454  0.062514      12        1   6.221121, topic_info=               Term         Freq        Total Category  logprob  loglift\n",
       "306        eleccion   795.000000   795.000000  Default  30.0000  30.0000\n",
       "470              bi   576.000000   576.000000  Default  29.0000  29.0000\n",
       "342            curs  1033.000000  1033.000000  Default  28.0000  28.0000\n",
       "37           explic   445.000000   445.000000  Default  27.0000  27.0000\n",
       "471             bas   546.000000   546.000000  Default  26.0000  26.0000\n",
       "...             ...          ...          ...      ...      ...      ...\n",
       "188          aunque    76.535608   798.252512  Topic12  -5.0150   0.4326\n",
       "5      introduccion    59.194915   680.715421  Topic12  -5.2719   0.3349\n",
       "32           parece    58.437664   881.232881  Topic12  -5.2848   0.0639\n",
       "1401  introductorio    53.554531   170.501572  Topic12  -5.3720   1.6192\n",
       "50             solo    55.263076  1715.980211  Topic12  -5.3406  -0.6584\n",
       "\n",
       "[879 rows x 6 columns], token_table=      Topic      Freq     Term\n",
       "term                          \n",
       "1834      8  0.961972  abarcar\n",
       "1734      4  0.945750  abordar\n",
       "3344     11  0.988156    about\n",
       "2275     12  0.970219     abre\n",
       "578       3  0.950446    aburr\n",
       "...     ...       ...      ...\n",
       "155       5  0.016197  youtube\n",
       "155       7  0.021596  youtube\n",
       "155       9  0.016197  youtube\n",
       "155      11  0.426517  youtube\n",
       "155      12  0.005399  youtube\n",
       "\n",
       "[2684 rows x 3 columns], R=30, lambda_step=0.01, plot_opts={'xlab': 'PC1', 'ylab': 'PC2'}, topic_order=[5, 9, 8, 1, 6, 11, 3, 10, 12, 4, 7, 2])"
      ]
     },
     "execution_count": 58,
     "metadata": {},
     "output_type": "execute_result"
    }
   ],
   "source": [
    "# %%time\n",
    "import pyLDAvis.gensim\n",
    "pyLDAvis.gensim.prepare(ldamodel, corpus, dictionary)"
   ]
  },
  {
   "cell_type": "code",
   "execution_count": null,
   "metadata": {},
   "outputs": [],
   "source": []
  },
  {
   "cell_type": "code",
   "execution_count": null,
   "metadata": {},
   "outputs": [],
   "source": []
  },
  {
   "cell_type": "code",
   "execution_count": null,
   "metadata": {},
   "outputs": [],
   "source": []
  },
  {
   "cell_type": "code",
   "execution_count": null,
   "metadata": {},
   "outputs": [],
   "source": []
  },
  {
   "cell_type": "code",
   "execution_count": null,
   "metadata": {},
   "outputs": [],
   "source": []
  }
 ],
 "metadata": {
  "accelerator": "GPU",
  "colab": {
   "collapsed_sections": [],
   "include_colab_link": true,
   "machine_shape": "hm",
   "name": "topic_modeling_spanish.ipynb",
   "provenance": [],
   "version": "0.3.2"
  },
  "kernelspec": {
   "display_name": "Python 3 (ipykernel)",
   "language": "python",
   "name": "python3"
  },
  "language_info": {
   "codemirror_mode": {
    "name": "ipython",
    "version": 3
   },
   "file_extension": ".py",
   "mimetype": "text/x-python",
   "name": "python",
   "nbconvert_exporter": "python",
   "pygments_lexer": "ipython3",
   "version": "3.8.12"
  }
 },
 "nbformat": 4,
 "nbformat_minor": 4
}
